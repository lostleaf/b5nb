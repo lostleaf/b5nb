{
 "cells": [
  {
   "cell_type": "markdown",
   "metadata": {},
   "source": [
    "- Welcome to Quantitative and High Frequency Trading Training Program\n"
   ]
  },
  {
   "cell_type": "code",
   "execution_count": 153,
   "metadata": {
    "scrolled": true
   },
   "outputs": [
    {
     "data": {
      "text/plain": [
       "<function helper.evaluate_signal(signal, all_dates, product, min_pnl, min_num, HEAD_PATH, CORE_NUM, period=4096, split_str='2018', tranct=0.00011, max_spread=0.61, tranct_ratio=True, atr_filter=0, save_path='signal result')>"
      ]
     },
     "execution_count": 153,
     "metadata": {},
     "output_type": "execute_result"
    }
   ],
   "source": [
    "from helper import *\n",
    "from stats import *\n",
    "from imp import reload   \n",
    "import helper\n",
    "import stats\n",
    "reload(helper)\n",
    "reload(stats)\n",
    "evaluate_signal"
   ]
  },
  {
   "cell_type": "markdown",
   "metadata": {},
   "source": [
    "- number of cores, set this number according to your computer"
   ]
  },
  {
   "cell_type": "code",
   "execution_count": 2,
   "metadata": {},
   "outputs": [
    {
     "data": {
      "text/plain": [
       "16"
      ]
     },
     "execution_count": 2,
     "metadata": {},
     "output_type": "execute_result"
    }
   ],
   "source": [
    "CORE_NUM = int(os.environ['NUMBER_OF_PROCESSORS'])\n",
    "CORE_NUM"
   ]
  },
  {
   "cell_type": "markdown",
   "metadata": {},
   "source": [
    "- sample product, you can change to your specific product symbol"
   ]
  },
  {
   "cell_type": "code",
   "execution_count": 3,
   "metadata": {},
   "outputs": [],
   "source": [
    "product_list = [\"rb\", \"hc\", \"i\", \"j\", \"jm\"]"
   ]
  },
  {
   "cell_type": "code",
   "execution_count": 4,
   "metadata": {},
   "outputs": [],
   "source": [
    "import dask\n",
    "from dask import compute, delayed"
   ]
  },
  {
   "cell_type": "markdown",
   "metadata": {},
   "source": [
    "- sample period"
   ]
  },
  {
   "cell_type": "code",
   "execution_count": 5,
   "metadata": {},
   "outputs": [],
   "source": [
    "period = 4096"
   ]
  },
  {
   "cell_type": "code",
   "execution_count": 6,
   "metadata": {},
   "outputs": [
    {
     "data": {
      "text/plain": [
       "915"
      ]
     },
     "execution_count": 6,
     "metadata": {},
     "output_type": "execute_result"
    }
   ],
   "source": [
    "all_dates = os.listdir(DATA_PATH + product_list[0])\n",
    "all_dates.sort()\n",
    "all_dates = np.array(all_dates)\n",
    "n_days = len(all_dates)\n",
    "n_days"
   ]
  },
  {
   "cell_type": "markdown",
   "metadata": {},
   "source": [
    "- choose an example day"
   ]
  },
  {
   "cell_type": "code",
   "execution_count": 7,
   "metadata": {},
   "outputs": [],
   "source": [
    "train_sample = all_dates<\"2018\"\n",
    "\n",
    "test_sample = all_dates>\"2018\"\n"
   ]
  },
  {
   "cell_type": "code",
   "execution_count": 8,
   "metadata": {},
   "outputs": [],
   "source": [
    "date_str = [n[0:8] for n in all_dates]\n",
    "format_dates = np.array([pd.to_datetime(d) for d in date_str])"
   ]
  },
  {
   "cell_type": "markdown",
   "metadata": {},
   "source": [
    "- at last we plot the selected pnl"
   ]
  },
  {
   "cell_type": "markdown",
   "metadata": {},
   "source": [
    "- now we can see that the number of signals are not very big\n",
    "- and the quality is not so good\n",
    "- we can propose a systematic method to generate a large number of signals then\n",
    "- we can choose good ones from them\n",
    "\n",
    "- for example, we can first generate some signals about volatility without direction\n",
    "- there are some ideas about it\n",
    "\n",
    "- standard deviation\n",
    "- range of price\n",
    "- ratio of volume to turnover\n",
    "\n",
    "- then we can generate some signals with direction\n",
    "- actually all of our previous signals have direction\n",
    "- but some of them are good and some of them are bad\n",
    "- we can focus on some good and simple ones, such as\n",
    "\n",
    "- normalized return\n",
    "- rsi\n",
    "- dbook\n",
    "\n",
    "- let's try to generate range signals first"
   ]
  },
  {
   "cell_type": "code",
   "execution_count": 8,
   "metadata": {},
   "outputs": [],
   "source": [
    "from collections import OrderedDict\n",
    "class foctor_std_period(factor_template):\n",
    "    factor_name = \"std.period\"\n",
    "    \n",
    "    params = OrderedDict([\n",
    "        (\"period\", np.power(2, range(10,13)))\n",
    "    ])\n",
    "    \n",
    "    def formula(self, data, period):\n",
    "        return np.sqrt(fast_roll_var(data[\"wpr\"], period))"
   ]
  },
  {
   "cell_type": "code",
   "execution_count": 9,
   "metadata": {},
   "outputs": [
    {
     "name": "stdout",
     "output_type": "stream",
     "text": [
      "d:/intern/tmp pkl/rb/std.1024\n",
      "d:/intern/tmp pkl/rb/std.2048\n",
      "d:/intern/tmp pkl/rb/std.4096\n",
      "d:/intern/tmp pkl/hc/std.1024\n",
      "d:/intern/tmp pkl/hc/std.2048\n",
      "d:/intern/tmp pkl/hc/std.4096\n",
      "d:/intern/tmp pkl/i/std.1024\n",
      "d:/intern/tmp pkl/i/std.2048\n",
      "d:/intern/tmp pkl/i/std.4096\n",
      "d:/intern/tmp pkl/j/std.1024\n",
      "d:/intern/tmp pkl/j/std.2048\n",
      "d:/intern/tmp pkl/j/std.4096\n",
      "d:/intern/tmp pkl/jm/std.1024\n",
      "d:/intern/tmp pkl/jm/std.2048\n",
      "d:/intern/tmp pkl/jm/std.4096\n"
     ]
    }
   ],
   "source": [
    "x20 = foctor_std_period()\n",
    "for product in product_list:\n",
    "    create_signal_path(x20, product, HEAD_PATH);"
   ]
  },
  {
   "cell_type": "code",
   "execution_count": 16,
   "metadata": {},
   "outputs": [],
   "source": [
    "from collections import OrderedDict\n",
    "class foctor_range_period(factor_template):\n",
    "    factor_name = \"range.period\"\n",
    "    \n",
    "    params = OrderedDict([\n",
    "        (\"period\", np.power(2, range(10,13)))\n",
    "    ])\n",
    "    \n",
    "    def formula(self, data, period):\n",
    "        return data[\"max.\"+str(period)]-data[\"min.\"+str(period)]"
   ]
  },
  {
   "cell_type": "code",
   "execution_count": 38,
   "metadata": {},
   "outputs": [
    {
     "name": "stdout",
     "output_type": "stream",
     "text": [
      "d:/intern/tmp pkl/rb/range.1024\n",
      "d:/intern/tmp pkl/rb/range.2048\n",
      "d:/intern/tmp pkl/rb/range.4096\n",
      "d:/intern/tmp pkl/hc/range.1024\n",
      "d:/intern/tmp pkl/hc/range.2048\n",
      "d:/intern/tmp pkl/hc/range.4096\n",
      "d:/intern/tmp pkl/i/range.1024\n",
      "d:/intern/tmp pkl/i/range.2048\n",
      "d:/intern/tmp pkl/i/range.4096\n",
      "d:/intern/tmp pkl/j/range.1024\n",
      "d:/intern/tmp pkl/j/range.2048\n",
      "d:/intern/tmp pkl/j/range.4096\n",
      "d:/intern/tmp pkl/jm/range.1024\n",
      "d:/intern/tmp pkl/jm/range.2048\n",
      "d:/intern/tmp pkl/jm/range.4096\n"
     ]
    }
   ],
   "source": [
    "x21 = foctor_range_period()\n",
    "for product in product_list:\n",
    "    create_signal_path(x21, product, HEAD_PATH);"
   ]
  },
  {
   "cell_type": "code",
   "execution_count": 37,
   "metadata": {},
   "outputs": [],
   "source": [
    "from collections import OrderedDict\n",
    "class foctor_volume_open_ratio_period(factor_template):\n",
    "    factor_name = \"volume.open.ratio.period\"\n",
    "    \n",
    "    params = OrderedDict([\n",
    "        (\"period\", np.power(2, range(10,13)))\n",
    "    ])\n",
    "    \n",
    "    def formula(self, data, period):\n",
    "        return zero_divide(cum(data[\"qty\"],period), cum(data[\"cum.open.int\"]/period,period))"
   ]
  },
  {
   "cell_type": "code",
   "execution_count": 39,
   "metadata": {},
   "outputs": [
    {
     "name": "stdout",
     "output_type": "stream",
     "text": [
      "d:/intern/tmp pkl/rb/volume.open.ratio.1024\n",
      "d:/intern/tmp pkl/rb/volume.open.ratio.2048\n",
      "d:/intern/tmp pkl/rb/volume.open.ratio.4096\n",
      "d:/intern/tmp pkl/hc/volume.open.ratio.1024\n",
      "d:/intern/tmp pkl/hc/volume.open.ratio.2048\n",
      "d:/intern/tmp pkl/hc/volume.open.ratio.4096\n",
      "d:/intern/tmp pkl/i/volume.open.ratio.1024\n",
      "d:/intern/tmp pkl/i/volume.open.ratio.2048\n",
      "d:/intern/tmp pkl/i/volume.open.ratio.4096\n",
      "d:/intern/tmp pkl/j/volume.open.ratio.1024\n",
      "d:/intern/tmp pkl/j/volume.open.ratio.2048\n",
      "d:/intern/tmp pkl/j/volume.open.ratio.4096\n",
      "d:/intern/tmp pkl/jm/volume.open.ratio.1024\n",
      "d:/intern/tmp pkl/jm/volume.open.ratio.2048\n",
      "d:/intern/tmp pkl/jm/volume.open.ratio.4096\n"
     ]
    }
   ],
   "source": [
    "x22 = foctor_volume_open_ratio_period()\n",
    "for product in product_list:\n",
    "    create_signal_path(x22, product, HEAD_PATH);\n"
   ]
  },
  {
   "cell_type": "code",
   "execution_count": 12,
   "metadata": {},
   "outputs": [],
   "source": [
    "from collections import OrderedDict\n",
    "class foctor_trend_index_period(factor_template):\n",
    "    factor_name = \"trend.index.period\"\n",
    "    \n",
    "    params = OrderedDict([\n",
    "        (\"period\", np.power(2, range(10,13)))\n",
    "    ])\n",
    "    \n",
    "    def formula(self, data, period):\n",
    "        aa = zero_divide(abs(data[\"wpr\"]-data[\"wpr\"].shift(period)), data[\"max.\"+str(period)]-data[\"min.\"+str(period)])\n",
    "        aa[0:period]=0\n",
    "        return aa"
   ]
  },
  {
   "cell_type": "code",
   "execution_count": 14,
   "metadata": {},
   "outputs": [
    {
     "name": "stdout",
     "output_type": "stream",
     "text": [
      "d:/intern/tmp pkl/rb/trend.index.1024\n",
      "d:/intern/tmp pkl/rb/trend.index.2048\n",
      "d:/intern/tmp pkl/rb/trend.index.4096\n",
      "d:/intern/tmp pkl/hc/trend.index.1024\n",
      "d:/intern/tmp pkl/hc/trend.index.2048\n",
      "d:/intern/tmp pkl/hc/trend.index.4096\n",
      "d:/intern/tmp pkl/i/trend.index.1024\n",
      "d:/intern/tmp pkl/i/trend.index.2048\n",
      "d:/intern/tmp pkl/i/trend.index.4096\n",
      "d:/intern/tmp pkl/j/trend.index.1024\n",
      "d:/intern/tmp pkl/j/trend.index.2048\n",
      "d:/intern/tmp pkl/j/trend.index.4096\n",
      "d:/intern/tmp pkl/jm/trend.index.1024\n",
      "d:/intern/tmp pkl/jm/trend.index.2048\n",
      "d:/intern/tmp pkl/jm/trend.index.4096\n"
     ]
    }
   ],
   "source": [
    "x23 = foctor_trend_index_period()\n",
    "for product in product_list:\n",
    "    create_signal_path(x23, product, HEAD_PATH);\n"
   ]
  },
  {
   "cell_type": "markdown",
   "metadata": {},
   "source": [
    "- Then we construt these range signals "
   ]
  },
  {
   "cell_type": "code",
   "execution_count": 21,
   "metadata": {},
   "outputs": [
    {
     "name": "stdout",
     "output_type": "stream",
     "text": [
      "Wall time: 15min 41s\n"
     ]
    }
   ],
   "source": [
    "%%time\n",
    "for product in product_list:\n",
    "    file_list = list(map(lambda x: DATA_PATH+product+\"/\"+x, os.listdir(DATA_PATH + product)))\n",
    "    parLapply(CORE_NUM, file_list, build_composite_signal,signal_list=x20, product=product, HEAD_PATH=HEAD_PATH)\n",
    ";\n",
    "# Wall time: 15min 41s\n"
   ]
  },
  {
   "cell_type": "code",
   "execution_count": 22,
   "metadata": {},
   "outputs": [
    {
     "name": "stdout",
     "output_type": "stream",
     "text": [
      "Wall time: 2min 48s\n"
     ]
    }
   ],
   "source": [
    "%%time\n",
    "for product in product_list:\n",
    "    file_list = list(map(lambda x: DATA_PATH+product+\"/\"+x, os.listdir(DATA_PATH + product)))\n",
    "    parLapply(CORE_NUM, file_list, build_composite_signal,signal_list=x21, product=product, HEAD_PATH=HEAD_PATH)\n",
    ";\n",
    "\n",
    "#Wall time: 2min 48s"
   ]
  },
  {
   "cell_type": "code",
   "execution_count": 40,
   "metadata": {},
   "outputs": [
    {
     "name": "stdout",
     "output_type": "stream",
     "text": [
      "Wall time: 3min 41s\n"
     ]
    }
   ],
   "source": [
    "%%time\n",
    "for product in product_list:\n",
    "    file_list = list(map(lambda x: DATA_PATH+product+\"/\"+x, os.listdir(DATA_PATH + product)))\n",
    "    parLapply(CORE_NUM, file_list, build_composite_signal,signal_list=x22, product=product, HEAD_PATH=HEAD_PATH)\n",
    ";\n",
    "# Wall time: 3min 41s\n"
   ]
  },
  {
   "cell_type": "code",
   "execution_count": 15,
   "metadata": {},
   "outputs": [
    {
     "name": "stdout",
     "output_type": "stream",
     "text": [
      "Wall time: 3min 32s\n"
     ]
    }
   ],
   "source": [
    "%%time\n",
    "for product in product_list:\n",
    "    file_list = list(map(lambda x: DATA_PATH+product+\"/\"+x, os.listdir(DATA_PATH + product)))\n",
    "    parLapply(CORE_NUM, file_list, build_composite_signal,signal_list=x23, product=product, HEAD_PATH=HEAD_PATH)\n",
    ";"
   ]
  },
  {
   "cell_type": "markdown",
   "metadata": {},
   "source": [
    "- Now we can combine directional signals and range signals together to become new direction signals\n",
    "\n",
    "- For example, we have n directional signals, and m range signals, \n",
    "- then we can generate new n*m directional signals"
   ]
  },
  {
   "cell_type": "code",
   "execution_count": 9,
   "metadata": {},
   "outputs": [],
   "source": [
    "def construct_composite_signal(dire_signal, range_signal, period_list, date_list, product_list, HEAD_PATH):\n",
    "    from collections import OrderedDict\n",
    "    class foctor_xx_period(factor_template):\n",
    "        factor_name = dire_signal+\".\"+range_signal+\".period\"\n",
    "        params = OrderedDict([\n",
    "            (\"period\", period_list)\n",
    "        ])\n",
    "        def formula(self, data, period):\n",
    "            return (data[dire_signal+\".\"+str(period)]*data[range_signal+\".\"+str(period)]).values\n",
    "    xx = foctor_xx_period()\n",
    "    for product in product_list:\n",
    "        create_signal_path(xx, product, HEAD_PATH)\n",
    "        file_list = [DATA_PATH+product+\"/\"+date for date in date_list]\n",
    "        parLapply(CORE_NUM, file_list, build_composite_signal,signal_list=xx, product=product, HEAD_PATH=HEAD_PATH)"
   ]
  },
  {
   "cell_type": "code",
   "execution_count": 10,
   "metadata": {},
   "outputs": [],
   "source": [
    "dire_signal_list = [\"trade.imb\", \"total.trade.imb\", \"nr\", \"dbook\", \"range.pos\", \"price.osci\", \"ma.dif.10\", \"kdj.k\", \"kdj.j\"]\n",
    "range_signal_list = [\"range\", \"std\", \"volume.open.ratio\", \"trend.index\"]\n",
    "period_list = np.power(2, range(10,13))"
   ]
  },
  {
   "cell_type": "code",
   "execution_count": 20,
   "metadata": {
    "scrolled": true
   },
   "outputs": [
    {
     "name": "stdout",
     "output_type": "stream",
     "text": [
      "d:/intern/tmp pkl/rb/trade.imb.trend.index.1024\n",
      "d:/intern/tmp pkl/rb/trade.imb.trend.index.2048\n",
      "d:/intern/tmp pkl/rb/trade.imb.trend.index.4096\n",
      "d:/intern/tmp pkl/hc/trade.imb.trend.index.1024\n",
      "d:/intern/tmp pkl/hc/trade.imb.trend.index.2048\n",
      "d:/intern/tmp pkl/hc/trade.imb.trend.index.4096\n",
      "d:/intern/tmp pkl/i/trade.imb.trend.index.1024\n",
      "d:/intern/tmp pkl/i/trade.imb.trend.index.2048\n",
      "d:/intern/tmp pkl/i/trade.imb.trend.index.4096\n",
      "d:/intern/tmp pkl/j/trade.imb.trend.index.1024\n",
      "d:/intern/tmp pkl/j/trade.imb.trend.index.2048\n",
      "d:/intern/tmp pkl/j/trade.imb.trend.index.4096\n",
      "d:/intern/tmp pkl/jm/trade.imb.trend.index.1024\n",
      "d:/intern/tmp pkl/jm/trade.imb.trend.index.2048\n",
      "d:/intern/tmp pkl/jm/trade.imb.trend.index.4096\n",
      "d:/intern/tmp pkl/rb/total.trade.imb.trend.index.1024\n",
      "d:/intern/tmp pkl/rb/total.trade.imb.trend.index.2048\n",
      "d:/intern/tmp pkl/rb/total.trade.imb.trend.index.4096\n",
      "d:/intern/tmp pkl/hc/total.trade.imb.trend.index.1024\n",
      "d:/intern/tmp pkl/hc/total.trade.imb.trend.index.2048\n",
      "d:/intern/tmp pkl/hc/total.trade.imb.trend.index.4096\n",
      "d:/intern/tmp pkl/i/total.trade.imb.trend.index.1024\n",
      "d:/intern/tmp pkl/i/total.trade.imb.trend.index.2048\n",
      "d:/intern/tmp pkl/i/total.trade.imb.trend.index.4096\n",
      "d:/intern/tmp pkl/j/total.trade.imb.trend.index.1024\n",
      "d:/intern/tmp pkl/j/total.trade.imb.trend.index.2048\n",
      "d:/intern/tmp pkl/j/total.trade.imb.trend.index.4096\n",
      "d:/intern/tmp pkl/jm/total.trade.imb.trend.index.1024\n",
      "d:/intern/tmp pkl/jm/total.trade.imb.trend.index.2048\n",
      "d:/intern/tmp pkl/jm/total.trade.imb.trend.index.4096\n",
      "d:/intern/tmp pkl/rb/nr.trend.index.1024\n",
      "d:/intern/tmp pkl/rb/nr.trend.index.2048\n",
      "d:/intern/tmp pkl/rb/nr.trend.index.4096\n",
      "d:/intern/tmp pkl/hc/nr.trend.index.1024\n",
      "d:/intern/tmp pkl/hc/nr.trend.index.2048\n",
      "d:/intern/tmp pkl/hc/nr.trend.index.4096\n",
      "d:/intern/tmp pkl/i/nr.trend.index.1024\n",
      "d:/intern/tmp pkl/i/nr.trend.index.2048\n",
      "d:/intern/tmp pkl/i/nr.trend.index.4096\n",
      "d:/intern/tmp pkl/j/nr.trend.index.1024\n",
      "d:/intern/tmp pkl/j/nr.trend.index.2048\n",
      "d:/intern/tmp pkl/j/nr.trend.index.4096\n",
      "d:/intern/tmp pkl/jm/nr.trend.index.1024\n",
      "d:/intern/tmp pkl/jm/nr.trend.index.2048\n",
      "d:/intern/tmp pkl/jm/nr.trend.index.4096\n",
      "d:/intern/tmp pkl/rb/dbook.trend.index.1024\n",
      "d:/intern/tmp pkl/rb/dbook.trend.index.2048\n",
      "d:/intern/tmp pkl/rb/dbook.trend.index.4096\n",
      "d:/intern/tmp pkl/hc/dbook.trend.index.1024\n",
      "d:/intern/tmp pkl/hc/dbook.trend.index.2048\n",
      "d:/intern/tmp pkl/hc/dbook.trend.index.4096\n",
      "d:/intern/tmp pkl/i/dbook.trend.index.1024\n",
      "d:/intern/tmp pkl/i/dbook.trend.index.2048\n",
      "d:/intern/tmp pkl/i/dbook.trend.index.4096\n",
      "d:/intern/tmp pkl/j/dbook.trend.index.1024\n",
      "d:/intern/tmp pkl/j/dbook.trend.index.2048\n",
      "d:/intern/tmp pkl/j/dbook.trend.index.4096\n",
      "d:/intern/tmp pkl/jm/dbook.trend.index.1024\n",
      "d:/intern/tmp pkl/jm/dbook.trend.index.2048\n",
      "d:/intern/tmp pkl/jm/dbook.trend.index.4096\n",
      "d:/intern/tmp pkl/rb/range.pos.trend.index.1024\n",
      "d:/intern/tmp pkl/rb/range.pos.trend.index.2048\n",
      "d:/intern/tmp pkl/rb/range.pos.trend.index.4096\n",
      "d:/intern/tmp pkl/hc/range.pos.trend.index.1024\n",
      "d:/intern/tmp pkl/hc/range.pos.trend.index.2048\n",
      "d:/intern/tmp pkl/hc/range.pos.trend.index.4096\n",
      "d:/intern/tmp pkl/i/range.pos.trend.index.1024\n",
      "d:/intern/tmp pkl/i/range.pos.trend.index.2048\n",
      "d:/intern/tmp pkl/i/range.pos.trend.index.4096\n",
      "d:/intern/tmp pkl/j/range.pos.trend.index.1024\n",
      "d:/intern/tmp pkl/j/range.pos.trend.index.2048\n",
      "d:/intern/tmp pkl/j/range.pos.trend.index.4096\n",
      "d:/intern/tmp pkl/jm/range.pos.trend.index.1024\n",
      "d:/intern/tmp pkl/jm/range.pos.trend.index.2048\n",
      "d:/intern/tmp pkl/jm/range.pos.trend.index.4096\n",
      "d:/intern/tmp pkl/rb/price.osci.trend.index.1024\n",
      "d:/intern/tmp pkl/rb/price.osci.trend.index.2048\n",
      "d:/intern/tmp pkl/rb/price.osci.trend.index.4096\n",
      "d:/intern/tmp pkl/hc/price.osci.trend.index.1024\n",
      "d:/intern/tmp pkl/hc/price.osci.trend.index.2048\n",
      "d:/intern/tmp pkl/hc/price.osci.trend.index.4096\n",
      "d:/intern/tmp pkl/i/price.osci.trend.index.1024\n",
      "d:/intern/tmp pkl/i/price.osci.trend.index.2048\n",
      "d:/intern/tmp pkl/i/price.osci.trend.index.4096\n",
      "d:/intern/tmp pkl/j/price.osci.trend.index.1024\n",
      "d:/intern/tmp pkl/j/price.osci.trend.index.2048\n",
      "d:/intern/tmp pkl/j/price.osci.trend.index.4096\n",
      "d:/intern/tmp pkl/jm/price.osci.trend.index.1024\n",
      "d:/intern/tmp pkl/jm/price.osci.trend.index.2048\n",
      "d:/intern/tmp pkl/jm/price.osci.trend.index.4096\n",
      "d:/intern/tmp pkl/rb/ma.dif.10.trend.index.1024\n",
      "d:/intern/tmp pkl/rb/ma.dif.10.trend.index.2048\n",
      "d:/intern/tmp pkl/rb/ma.dif.10.trend.index.4096\n",
      "d:/intern/tmp pkl/hc/ma.dif.10.trend.index.1024\n",
      "d:/intern/tmp pkl/hc/ma.dif.10.trend.index.2048\n",
      "d:/intern/tmp pkl/hc/ma.dif.10.trend.index.4096\n",
      "d:/intern/tmp pkl/i/ma.dif.10.trend.index.1024\n",
      "d:/intern/tmp pkl/i/ma.dif.10.trend.index.2048\n",
      "d:/intern/tmp pkl/i/ma.dif.10.trend.index.4096\n",
      "d:/intern/tmp pkl/j/ma.dif.10.trend.index.1024\n",
      "d:/intern/tmp pkl/j/ma.dif.10.trend.index.2048\n",
      "d:/intern/tmp pkl/j/ma.dif.10.trend.index.4096\n",
      "d:/intern/tmp pkl/jm/ma.dif.10.trend.index.1024\n",
      "d:/intern/tmp pkl/jm/ma.dif.10.trend.index.2048\n",
      "d:/intern/tmp pkl/jm/ma.dif.10.trend.index.4096\n",
      "d:/intern/tmp pkl/rb/kdj.k.trend.index.1024\n",
      "d:/intern/tmp pkl/rb/kdj.k.trend.index.2048\n",
      "d:/intern/tmp pkl/rb/kdj.k.trend.index.4096\n",
      "d:/intern/tmp pkl/hc/kdj.k.trend.index.1024\n",
      "d:/intern/tmp pkl/hc/kdj.k.trend.index.2048\n",
      "d:/intern/tmp pkl/hc/kdj.k.trend.index.4096\n",
      "d:/intern/tmp pkl/i/kdj.k.trend.index.1024\n",
      "d:/intern/tmp pkl/i/kdj.k.trend.index.2048\n",
      "d:/intern/tmp pkl/i/kdj.k.trend.index.4096\n",
      "d:/intern/tmp pkl/j/kdj.k.trend.index.1024\n",
      "d:/intern/tmp pkl/j/kdj.k.trend.index.2048\n",
      "d:/intern/tmp pkl/j/kdj.k.trend.index.4096\n",
      "d:/intern/tmp pkl/jm/kdj.k.trend.index.1024\n",
      "d:/intern/tmp pkl/jm/kdj.k.trend.index.2048\n",
      "d:/intern/tmp pkl/jm/kdj.k.trend.index.4096\n",
      "d:/intern/tmp pkl/rb/kdj.j.trend.index.1024\n",
      "d:/intern/tmp pkl/rb/kdj.j.trend.index.2048\n",
      "d:/intern/tmp pkl/rb/kdj.j.trend.index.4096\n",
      "d:/intern/tmp pkl/hc/kdj.j.trend.index.1024\n",
      "d:/intern/tmp pkl/hc/kdj.j.trend.index.2048\n",
      "d:/intern/tmp pkl/hc/kdj.j.trend.index.4096\n",
      "d:/intern/tmp pkl/i/kdj.j.trend.index.1024\n",
      "d:/intern/tmp pkl/i/kdj.j.trend.index.2048\n",
      "d:/intern/tmp pkl/i/kdj.j.trend.index.4096\n",
      "d:/intern/tmp pkl/j/kdj.j.trend.index.1024\n",
      "d:/intern/tmp pkl/j/kdj.j.trend.index.2048\n",
      "d:/intern/tmp pkl/j/kdj.j.trend.index.4096\n",
      "d:/intern/tmp pkl/jm/kdj.j.trend.index.1024\n",
      "d:/intern/tmp pkl/jm/kdj.j.trend.index.2048\n",
      "d:/intern/tmp pkl/jm/kdj.j.trend.index.4096\n",
      "Wall time: 1h 17min 7s\n"
     ]
    }
   ],
   "source": [
    "%%time\n",
    "for range_signal in range_signal_list:\n",
    "    for dire_signal in dire_signal_list:\n",
    "        construct_composite_signal(dire_signal, range_signal, period_list, all_dates, product_list, HEAD_PATH)"
   ]
  },
  {
   "cell_type": "markdown",
   "metadata": {},
   "source": [
    "- Now we can combine signals of each day in to a vector\n",
    "- here we use 4096 as period\n",
    "- so to keep them independent, we choose 1 out of every 4096 points"
   ]
  },
  {
   "cell_type": "code",
   "execution_count": 11,
   "metadata": {},
   "outputs": [
    {
     "data": {
      "text/plain": [
       "45"
      ]
     },
     "execution_count": 11,
     "metadata": {},
     "output_type": "execute_result"
    }
   ],
   "source": [
    "period = 4096\n",
    "os.makedirs(HEAD_PATH+\"/all signal\", exist_ok=True)\n",
    "dire_signal_list = [\"trade.imb\", \"total.trade.imb\", \"nr\", \"dbook\", \"range.pos\", \"price.osci\", \"ma.dif.10\", \"kdj.k\", \"kdj.j\"]\n",
    "range_signal_list = [\"\", \"range\", \"std\", \"volume.open.ratio\", \"trend.index\"]\n",
    "all_signal_list = np.array([])\n",
    "for range_signal in range_signal_list:\n",
    "    for dire_signal in dire_signal_list:\n",
    "        if len(range_signal)==0:\n",
    "            signal_name = dire_signal\n",
    "        else:\n",
    "            signal_name = dire_signal+\".\"+range_signal\n",
    "        all_signal_list = np.append(all_signal_list,signal_name)\n",
    "all_period_signal = [signal+\".4096\" for signal in all_signal_list]\n",
    "len(all_period_signal)\n",
    "## 45"
   ]
  },
  {
   "cell_type": "markdown",
   "metadata": {},
   "source": [
    "- we have 9 directional (trend) signals and 4 range signals\n",
    "- so we have 36 composite signals \n",
    "- plus the 9 original ones we have 45 signals together\n"
   ]
  },
  {
   "cell_type": "code",
   "execution_count": 34,
   "metadata": {},
   "outputs": [
    {
     "name": "stdout",
     "output_type": "stream",
     "text": [
      "Wall time: 2min 17s\n"
     ]
    }
   ],
   "source": [
    "%%time\n",
    "for product in product_list:\n",
    "    parLapply(CORE_NUM, all_period_signal, par_get_all_signal, file_list=all_dates, product=product, period=4096, HEAD_PATH=HEAD_PATH);\n",
    "# Wall time: 21min 53s\n"
   ]
  },
  {
   "cell_type": "markdown",
   "metadata": {},
   "source": [
    "- then we can backtest our signals \n",
    "- we save the results"
   ]
  },
  {
   "cell_type": "code",
   "execution_count": 154,
   "metadata": {},
   "outputs": [
    {
     "name": "stdout",
     "output_type": "stream",
     "text": [
      "rb trade.imb\n"
     ]
    },
    {
     "ename": "FileNotFoundError",
     "evalue": "[Errno 2] No such file or directory: 'd:/intern/all signal/rb.trade.imb.comb.pkl'",
     "output_type": "error",
     "traceback": [
      "\u001b[1;31m---------------------------------------------------------------------------\u001b[0m",
      "\u001b[1;31mFileNotFoundError\u001b[0m                         Traceback (most recent call last)",
      "\u001b[1;32m<timed exec>\u001b[0m in \u001b[0;36m<module>\u001b[1;34m()\u001b[0m\n",
      "\u001b[1;32m~\\helper.py\u001b[0m in \u001b[0;36mevaluate_signal\u001b[1;34m(signal, all_dates, product, min_pnl, min_num, HEAD_PATH, CORE_NUM, period, split_str, tranct, max_spread, tranct_ratio, atr_filter, save_path)\u001b[0m\n\u001b[0;32m    718\u001b[0m                     max_spread=0.61, tranct_ratio=True, atr_filter=0, save_path=\"signal result\"):\n\u001b[0;32m    719\u001b[0m     \u001b[0msignal_name\u001b[0m \u001b[1;33m=\u001b[0m \u001b[0msignal\u001b[0m\u001b[1;33m+\u001b[0m\u001b[1;34m\".\"\u001b[0m\u001b[1;33m+\u001b[0m\u001b[0mstr\u001b[0m\u001b[1;33m(\u001b[0m\u001b[0mperiod\u001b[0m\u001b[1;33m)\u001b[0m\u001b[1;33m\u001b[0m\u001b[0m\n\u001b[1;32m--> 720\u001b[1;33m     \u001b[0mall_signal\u001b[0m \u001b[1;33m=\u001b[0m \u001b[0mload\u001b[0m\u001b[1;33m(\u001b[0m\u001b[0mHEAD_PATH\u001b[0m\u001b[1;33m+\u001b[0m\u001b[1;34m\"/all signal/\"\u001b[0m\u001b[1;33m+\u001b[0m\u001b[0mproduct\u001b[0m\u001b[1;33m+\u001b[0m\u001b[1;34m\".\"\u001b[0m\u001b[1;33m+\u001b[0m\u001b[0msignal_name\u001b[0m\u001b[1;33m+\u001b[0m\u001b[1;34m\".pkl\"\u001b[0m\u001b[1;33m)\u001b[0m\u001b[1;33m\u001b[0m\u001b[0m\n\u001b[0m\u001b[0;32m    721\u001b[0m     \u001b[0mtranct\u001b[0m \u001b[1;33m=\u001b[0m \u001b[0mproduct_info\u001b[0m\u001b[1;33m[\u001b[0m\u001b[0mproduct\u001b[0m\u001b[1;33m]\u001b[0m\u001b[1;33m[\u001b[0m\u001b[1;34m\"tranct\"\u001b[0m\u001b[1;33m]\u001b[0m\u001b[1;33m\u001b[0m\u001b[0m\n\u001b[0;32m    722\u001b[0m     \u001b[0mtranct_ratio\u001b[0m \u001b[1;33m=\u001b[0m \u001b[0mproduct_info\u001b[0m\u001b[1;33m[\u001b[0m\u001b[0mproduct\u001b[0m\u001b[1;33m]\u001b[0m\u001b[1;33m[\u001b[0m\u001b[1;34m\"tranct.ratio\"\u001b[0m\u001b[1;33m]\u001b[0m\u001b[1;33m\u001b[0m\u001b[0m\n",
      "\u001b[1;32m~\\helper.py\u001b[0m in \u001b[0;36mload\u001b[1;34m(path)\u001b[0m\n\u001b[0;32m     29\u001b[0m \u001b[1;33m\u001b[0m\u001b[0m\n\u001b[0;32m     30\u001b[0m \u001b[1;32mdef\u001b[0m \u001b[0mload\u001b[0m\u001b[1;33m(\u001b[0m\u001b[0mpath\u001b[0m\u001b[1;33m)\u001b[0m\u001b[1;33m:\u001b[0m\u001b[1;33m\u001b[0m\u001b[0m\n\u001b[1;32m---> 31\u001b[1;33m     \u001b[1;32mwith\u001b[0m \u001b[0mgzip\u001b[0m\u001b[1;33m.\u001b[0m\u001b[0mopen\u001b[0m\u001b[1;33m(\u001b[0m\u001b[0mpath\u001b[0m\u001b[1;33m,\u001b[0m \u001b[1;34m'rb'\u001b[0m\u001b[1;33m,\u001b[0m \u001b[0mcompresslevel\u001b[0m\u001b[1;33m=\u001b[0m\u001b[1;36m1\u001b[0m\u001b[1;33m)\u001b[0m \u001b[1;32mas\u001b[0m \u001b[0mfile_object\u001b[0m\u001b[1;33m:\u001b[0m\u001b[1;33m\u001b[0m\u001b[0m\n\u001b[0m\u001b[0;32m     32\u001b[0m         \u001b[0mraw_data\u001b[0m \u001b[1;33m=\u001b[0m \u001b[0mfile_object\u001b[0m\u001b[1;33m.\u001b[0m\u001b[0mread\u001b[0m\u001b[1;33m(\u001b[0m\u001b[1;33m)\u001b[0m\u001b[1;33m\u001b[0m\u001b[0m\n\u001b[0;32m     33\u001b[0m     \u001b[1;32mreturn\u001b[0m \u001b[0mcPickle\u001b[0m\u001b[1;33m.\u001b[0m\u001b[0mloads\u001b[0m\u001b[1;33m(\u001b[0m\u001b[0mraw_data\u001b[0m\u001b[1;33m)\u001b[0m\u001b[1;33m\u001b[0m\u001b[0m\n",
      "\u001b[1;32md:\\Anaconda3\\lib\\gzip.py\u001b[0m in \u001b[0;36mopen\u001b[1;34m(filename, mode, compresslevel, encoding, errors, newline)\u001b[0m\n\u001b[0;32m     51\u001b[0m     \u001b[0mgz_mode\u001b[0m \u001b[1;33m=\u001b[0m \u001b[0mmode\u001b[0m\u001b[1;33m.\u001b[0m\u001b[0mreplace\u001b[0m\u001b[1;33m(\u001b[0m\u001b[1;34m\"t\"\u001b[0m\u001b[1;33m,\u001b[0m \u001b[1;34m\"\"\u001b[0m\u001b[1;33m)\u001b[0m\u001b[1;33m\u001b[0m\u001b[0m\n\u001b[0;32m     52\u001b[0m     \u001b[1;32mif\u001b[0m \u001b[0misinstance\u001b[0m\u001b[1;33m(\u001b[0m\u001b[0mfilename\u001b[0m\u001b[1;33m,\u001b[0m \u001b[1;33m(\u001b[0m\u001b[0mstr\u001b[0m\u001b[1;33m,\u001b[0m \u001b[0mbytes\u001b[0m\u001b[1;33m,\u001b[0m \u001b[0mos\u001b[0m\u001b[1;33m.\u001b[0m\u001b[0mPathLike\u001b[0m\u001b[1;33m)\u001b[0m\u001b[1;33m)\u001b[0m\u001b[1;33m:\u001b[0m\u001b[1;33m\u001b[0m\u001b[0m\n\u001b[1;32m---> 53\u001b[1;33m         \u001b[0mbinary_file\u001b[0m \u001b[1;33m=\u001b[0m \u001b[0mGzipFile\u001b[0m\u001b[1;33m(\u001b[0m\u001b[0mfilename\u001b[0m\u001b[1;33m,\u001b[0m \u001b[0mgz_mode\u001b[0m\u001b[1;33m,\u001b[0m \u001b[0mcompresslevel\u001b[0m\u001b[1;33m)\u001b[0m\u001b[1;33m\u001b[0m\u001b[0m\n\u001b[0m\u001b[0;32m     54\u001b[0m     \u001b[1;32melif\u001b[0m \u001b[0mhasattr\u001b[0m\u001b[1;33m(\u001b[0m\u001b[0mfilename\u001b[0m\u001b[1;33m,\u001b[0m \u001b[1;34m\"read\"\u001b[0m\u001b[1;33m)\u001b[0m \u001b[1;32mor\u001b[0m \u001b[0mhasattr\u001b[0m\u001b[1;33m(\u001b[0m\u001b[0mfilename\u001b[0m\u001b[1;33m,\u001b[0m \u001b[1;34m\"write\"\u001b[0m\u001b[1;33m)\u001b[0m\u001b[1;33m:\u001b[0m\u001b[1;33m\u001b[0m\u001b[0m\n\u001b[0;32m     55\u001b[0m         \u001b[0mbinary_file\u001b[0m \u001b[1;33m=\u001b[0m \u001b[0mGzipFile\u001b[0m\u001b[1;33m(\u001b[0m\u001b[1;32mNone\u001b[0m\u001b[1;33m,\u001b[0m \u001b[0mgz_mode\u001b[0m\u001b[1;33m,\u001b[0m \u001b[0mcompresslevel\u001b[0m\u001b[1;33m,\u001b[0m \u001b[0mfilename\u001b[0m\u001b[1;33m)\u001b[0m\u001b[1;33m\u001b[0m\u001b[0m\n",
      "\u001b[1;32md:\\Anaconda3\\lib\\gzip.py\u001b[0m in \u001b[0;36m__init__\u001b[1;34m(self, filename, mode, compresslevel, fileobj, mtime)\u001b[0m\n\u001b[0;32m    161\u001b[0m             \u001b[0mmode\u001b[0m \u001b[1;33m+=\u001b[0m \u001b[1;34m'b'\u001b[0m\u001b[1;33m\u001b[0m\u001b[0m\n\u001b[0;32m    162\u001b[0m         \u001b[1;32mif\u001b[0m \u001b[0mfileobj\u001b[0m \u001b[1;32mis\u001b[0m \u001b[1;32mNone\u001b[0m\u001b[1;33m:\u001b[0m\u001b[1;33m\u001b[0m\u001b[0m\n\u001b[1;32m--> 163\u001b[1;33m             \u001b[0mfileobj\u001b[0m \u001b[1;33m=\u001b[0m \u001b[0mself\u001b[0m\u001b[1;33m.\u001b[0m\u001b[0mmyfileobj\u001b[0m \u001b[1;33m=\u001b[0m \u001b[0mbuiltins\u001b[0m\u001b[1;33m.\u001b[0m\u001b[0mopen\u001b[0m\u001b[1;33m(\u001b[0m\u001b[0mfilename\u001b[0m\u001b[1;33m,\u001b[0m \u001b[0mmode\u001b[0m \u001b[1;32mor\u001b[0m \u001b[1;34m'rb'\u001b[0m\u001b[1;33m)\u001b[0m\u001b[1;33m\u001b[0m\u001b[0m\n\u001b[0m\u001b[0;32m    164\u001b[0m         \u001b[1;32mif\u001b[0m \u001b[0mfilename\u001b[0m \u001b[1;32mis\u001b[0m \u001b[1;32mNone\u001b[0m\u001b[1;33m:\u001b[0m\u001b[1;33m\u001b[0m\u001b[0m\n\u001b[0;32m    165\u001b[0m             \u001b[0mfilename\u001b[0m \u001b[1;33m=\u001b[0m \u001b[0mgetattr\u001b[0m\u001b[1;33m(\u001b[0m\u001b[0mfileobj\u001b[0m\u001b[1;33m,\u001b[0m \u001b[1;34m'name'\u001b[0m\u001b[1;33m,\u001b[0m \u001b[1;34m''\u001b[0m\u001b[1;33m)\u001b[0m\u001b[1;33m\u001b[0m\u001b[0m\n",
      "\u001b[1;31mFileNotFoundError\u001b[0m: [Errno 2] No such file or directory: 'd:/intern/all signal/rb.trade.imb.comb.pkl'"
     ]
    }
   ],
   "source": [
    "%%time\n",
    "for product in product_list:\n",
    "    spread = product_info[product][\"spread\"]\n",
    "    for signal in all_signal_list:\n",
    "        print(product, signal)\n",
    "        evaluate_signal(signal, all_dates, product, 2, 20, HEAD_PATH, \n",
    "                CORE_NUM, period=4096, split_str=\"2018\", tranct=1.1e-4, \n",
    "                max_spread=spread+0.1, tranct_ratio=True, atr_filter=20, \n",
    "                        save_path=\"signal result atr\")\n"
   ]
  },
  {
   "cell_type": "code",
   "execution_count": 47,
   "metadata": {},
   "outputs": [
    {
     "name": "stdout",
     "output_type": "stream",
     "text": [
      "rb trade.imb\n",
      "reverse=1\n",
      "no good strategy!\n",
      "reverse=-1\n",
      "good strategies: \n",
      " 0     True\n",
      "1     True\n",
      "2     True\n",
      "3     True\n",
      "4     True\n",
      "5     True\n",
      "6     True\n",
      "7     True\n",
      "8     True\n",
      "9     True\n",
      "10    True\n",
      "11    True\n",
      "12    True\n",
      "13    True\n",
      "14    True\n",
      "15    True\n",
      "16    True\n",
      "17    True\n",
      "18    True\n",
      "19    True\n",
      "20    True\n",
      "21    True\n",
      "22    True\n",
      "23    True\n",
      "24    True\n",
      "25    True\n",
      "26    True\n",
      "27    True\n",
      "28    True\n",
      "29    True\n",
      "      ... \n",
      "60    True\n",
      "61    True\n",
      "62    True\n",
      "63    True\n",
      "64    True\n",
      "65    True\n",
      "66    True\n",
      "67    True\n",
      "68    True\n",
      "69    True\n",
      "70    True\n",
      "71    True\n",
      "72    True\n",
      "73    True\n",
      "74    True\n",
      "75    True\n",
      "76    True\n",
      "77    True\n",
      "78    True\n",
      "79    True\n",
      "80    True\n",
      "81    True\n",
      "82    True\n",
      "83    True\n",
      "84    True\n",
      "85    True\n",
      "86    True\n",
      "87    True\n",
      "88    True\n",
      "89    True\n",
      "Length: 90, dtype: bool \n",
      "\n",
      "train sharpe:  0.9478340275431169 \n",
      "\n",
      "test sharpe:  0.38314884760166507 \n",
      "\n",
      "rb total.trade.imb\n",
      "reverse=1\n",
      "good strategies: \n",
      " 0     True\n",
      "1     True\n",
      "2     True\n",
      "3     True\n",
      "4     True\n",
      "5     True\n",
      "6     True\n",
      "7     True\n",
      "8     True\n",
      "9     True\n",
      "10    True\n",
      "11    True\n",
      "12    True\n",
      "13    True\n",
      "14    True\n",
      "15    True\n",
      "16    True\n",
      "17    True\n",
      "18    True\n",
      "19    True\n",
      "20    True\n",
      "21    True\n",
      "22    True\n",
      "23    True\n",
      "24    True\n",
      "25    True\n",
      "26    True\n",
      "27    True\n",
      "28    True\n",
      "29    True\n",
      "      ... \n",
      "60    True\n",
      "61    True\n",
      "62    True\n",
      "63    True\n",
      "64    True\n",
      "65    True\n",
      "66    True\n",
      "67    True\n",
      "68    True\n",
      "69    True\n",
      "70    True\n",
      "71    True\n",
      "72    True\n",
      "73    True\n",
      "74    True\n",
      "75    True\n",
      "76    True\n",
      "77    True\n",
      "78    True\n",
      "79    True\n",
      "80    True\n",
      "81    True\n",
      "82    True\n",
      "83    True\n",
      "84    True\n",
      "85    True\n",
      "86    True\n",
      "87    True\n",
      "88    True\n",
      "89    True\n",
      "Length: 90, dtype: bool \n",
      "\n",
      "train sharpe:  0.9008062509311127 \n",
      "\n",
      "test sharpe:  0.35679882787713035 \n",
      "\n",
      "reverse=-1\n",
      "no good strategy!\n",
      "hc trade.imb\n",
      "reverse=1\n",
      "no good strategy!\n",
      "reverse=-1\n",
      "no good strategy!\n",
      "hc total.trade.imb\n",
      "reverse=1\n",
      "no good strategy!\n",
      "reverse=-1\n",
      "good strategies: \n",
      " 0     True\n",
      "1     True\n",
      "2     True\n",
      "3     True\n",
      "4     True\n",
      "5     True\n",
      "6     True\n",
      "7     True\n",
      "8     True\n",
      "9     True\n",
      "10    True\n",
      "11    True\n",
      "12    True\n",
      "13    True\n",
      "14    True\n",
      "15    True\n",
      "16    True\n",
      "17    True\n",
      "18    True\n",
      "19    True\n",
      "20    True\n",
      "21    True\n",
      "22    True\n",
      "23    True\n",
      "24    True\n",
      "25    True\n",
      "26    True\n",
      "27    True\n",
      "28    True\n",
      "29    True\n",
      "      ... \n",
      "60    True\n",
      "61    True\n",
      "62    True\n",
      "63    True\n",
      "64    True\n",
      "65    True\n",
      "66    True\n",
      "67    True\n",
      "68    True\n",
      "69    True\n",
      "70    True\n",
      "71    True\n",
      "72    True\n",
      "73    True\n",
      "74    True\n",
      "75    True\n",
      "76    True\n",
      "77    True\n",
      "78    True\n",
      "79    True\n",
      "80    True\n",
      "81    True\n",
      "82    True\n",
      "83    True\n",
      "84    True\n",
      "85    True\n",
      "86    True\n",
      "87    True\n",
      "88    True\n",
      "89    True\n",
      "Length: 90, dtype: bool \n",
      "\n",
      "train sharpe:  0.6703003485825703 \n",
      "\n",
      "test sharpe:  0.2504457380814787 \n",
      "\n",
      "i trade.imb\n",
      "reverse=1\n",
      "no good strategy!\n",
      "reverse=-1\n",
      "no good strategy!\n",
      "i total.trade.imb\n",
      "reverse=1\n",
      "no good strategy!\n",
      "reverse=-1\n",
      "no good strategy!\n",
      "j trade.imb\n",
      "reverse=1\n",
      "no good strategy!\n",
      "reverse=-1\n",
      "good strategies: \n",
      " 0     True\n",
      "1     True\n",
      "2     True\n",
      "3     True\n",
      "4     True\n",
      "5     True\n",
      "6     True\n",
      "7     True\n",
      "8     True\n",
      "9     True\n",
      "10    True\n",
      "11    True\n",
      "12    True\n",
      "13    True\n",
      "14    True\n",
      "15    True\n",
      "16    True\n",
      "17    True\n",
      "18    True\n",
      "19    True\n",
      "20    True\n",
      "21    True\n",
      "22    True\n",
      "23    True\n",
      "24    True\n",
      "25    True\n",
      "26    True\n",
      "27    True\n",
      "28    True\n",
      "29    True\n",
      "      ... \n",
      "51    True\n",
      "52    True\n",
      "53    True\n",
      "54    True\n",
      "55    True\n",
      "56    True\n",
      "57    True\n",
      "58    True\n",
      "59    True\n",
      "60    True\n",
      "61    True\n",
      "62    True\n",
      "63    True\n",
      "64    True\n",
      "65    True\n",
      "66    True\n",
      "67    True\n",
      "68    True\n",
      "69    True\n",
      "70    True\n",
      "71    True\n",
      "72    True\n",
      "73    True\n",
      "74    True\n",
      "76    True\n",
      "77    True\n",
      "81    True\n",
      "82    True\n",
      "86    True\n",
      "87    True\n",
      "Length: 81, dtype: bool \n",
      "\n",
      "train sharpe:  0.6858481080854396 \n",
      "\n",
      "test sharpe:  1.2251766766367225 \n",
      "\n",
      "j total.trade.imb\n",
      "reverse=1\n",
      "no good strategy!\n",
      "reverse=-1\n",
      "no good strategy!\n",
      "jm trade.imb\n",
      "reverse=1\n",
      "no good strategy!\n",
      "reverse=-1\n",
      "good strategies: \n",
      " 0     True\n",
      "1     True\n",
      "2     True\n",
      "3     True\n",
      "4     True\n",
      "5     True\n",
      "6     True\n",
      "7     True\n",
      "8     True\n",
      "9     True\n",
      "10    True\n",
      "11    True\n",
      "12    True\n",
      "13    True\n",
      "14    True\n",
      "15    True\n",
      "16    True\n",
      "17    True\n",
      "18    True\n",
      "19    True\n",
      "20    True\n",
      "21    True\n",
      "22    True\n",
      "23    True\n",
      "24    True\n",
      "25    True\n",
      "26    True\n",
      "27    True\n",
      "28    True\n",
      "29    True\n",
      "      ... \n",
      "60    True\n",
      "61    True\n",
      "62    True\n",
      "63    True\n",
      "64    True\n",
      "65    True\n",
      "66    True\n",
      "67    True\n",
      "68    True\n",
      "69    True\n",
      "70    True\n",
      "71    True\n",
      "72    True\n",
      "73    True\n",
      "74    True\n",
      "75    True\n",
      "76    True\n",
      "77    True\n",
      "78    True\n",
      "79    True\n",
      "80    True\n",
      "81    True\n",
      "82    True\n",
      "83    True\n",
      "84    True\n",
      "85    True\n",
      "86    True\n",
      "87    True\n",
      "88    True\n",
      "89    True\n",
      "Length: 90, dtype: bool \n",
      "\n",
      "train sharpe:  1.2507778600576063 \n",
      "\n",
      "test sharpe:  0.04450154119593276 \n",
      "\n",
      "jm total.trade.imb\n",
      "reverse=1\n",
      "no good strategy!\n",
      "reverse=-1\n",
      "no good strategy!\n",
      "Wall time: 25min 36s\n"
     ]
    },
    {
     "data": {
      "image/png": "[encoded data removed]",
      "text/plain": [
       "<Figure size 1152x720 with 1 Axes>"
      ]
     },
     "metadata": {
      "needs_background": "light"
     },
     "output_type": "display_data"
    },
    {
     "data": {
      "image/png": "[encoded data removed]",
      "text/plain": [
       "<Figure size 1152x720 with 1 Axes>"
      ]
     },
     "metadata": {
      "needs_background": "light"
     },
     "output_type": "display_data"
    }
   ],
   "source": [
    "%%time\n",
    "for product in product_list:\n",
    "    spread = product_info[product][\"spread\"]\n",
    "    for dire_signal in all_signal_list[0:2]:\n",
    "        signal = dire_signal\n",
    "        print(product, signal)\n",
    "        evaluate_signal(signal, all_dates, product, 2, 20, HEAD_PATH, \n",
    "                CORE_NUM, period=4096, split_str=\"2018\", tranct=1.1e-4, \n",
    "                max_spread=spread+0.1, tranct_ratio=True, atr_filter=0)"
   ]
  },
  {
   "cell_type": "markdown",
   "metadata": {},
   "source": [
    "- we can write a function to get all the signals' performance"
   ]
  },
  {
   "cell_type": "code",
   "execution_count": 121,
   "metadata": {},
   "outputs": [],
   "source": [
    "def get_signal_performance_result(all_period_signal, signal_dire, period, product_list):\n",
    "    trend_signal_result = pd.DataFrame(data=OrderedDict([(\"signal\", all_period_signal), (\"reverse\",1),\n",
    "                               (\"num\", 0), (\"trainSharpe\", 0), (\"testSharpe\", 0)]))\n",
    "    reverse_signal_result = pd.DataFrame(data=OrderedDict([(\"signal\", all_period_signal), (\"reverse\",-1),\n",
    "                               (\"num\", 0), (\"trainSharpe\", 0), (\"testSharpe\", 0)]))\n",
    "    n_signal = len(all_period_signal)\n",
    "    for k in range(n_signal):\n",
    "        test_all_pnl = np.zeros([sum(test_sample), len(product_list)])\n",
    "        train_all_pnl = np.zeros([sum(train_sample), len(product_list)])\n",
    "        signal_name = all_period_signal[k]\n",
    "        i = 0\n",
    "        for product in product_list:\n",
    "            stat_result = load(HEAD_PATH+\"/\" + signal_dire +\"/\"+product+\".\"+signal_name+\".pkl\")\n",
    "            trend_signal_stat = stat_result['trend.signal.stat']\n",
    "            spread = product_info[product][\"spread\"]\n",
    "            if tuple(trend_signal_stat.keys())[0]=='train.stat':\n",
    "                train_stat = trend_signal_stat[\"train.stat\"]\n",
    "                test_stat = trend_signal_stat[\"test.stat\"]\n",
    "                #good_strat = trend_signal_stat[\"good.strat\"]\n",
    "                good_strat = (train_stat[\"final.result\"][\"avg.pnl\"]>2*spread) & (train_stat[\"final.result\"][\"num\"]>10)\n",
    "                if sum(good_strat)>2:\n",
    "                    train_stat = trend_signal_stat[\"train.stat\"]\n",
    "                    test_stat = trend_signal_stat[\"test.stat\"]\n",
    "                    train_pnl = train_stat[\"daily.pnl\"].loc[:, good_strat].sum(axis=1)/sum(good_strat)\n",
    "                    train_std = np.std(train_pnl)\n",
    "                    train_pnl = train_pnl/train_std\n",
    "                    test_pnl = test_stat[\"daily.pnl\"].loc[:, good_strat].sum(axis=1)/sum(good_strat)/train_std\n",
    "                    #print(product, \"train sharpe \", sharpe(train_pnl), \"test sharpe \", sharpe(test_pnl))\n",
    "                    test_all_pnl[:,i] = test_pnl\n",
    "                    train_all_pnl[:,i] = train_pnl\n",
    "                    i = i+1\n",
    "            if i>0:\n",
    "                train_portfolio = np.array(np.mean(train_all_pnl[:,0:i], axis=1))\n",
    "                test_portfolio = np.array(np.mean(test_all_pnl[:,0:i], axis=1))\n",
    "                all_portfolio = np.append(train_portfolio, test_portfolio)\n",
    "                trend_signal_result.loc[k, (\"signal\", \"num\", \"trainSharpe\", \"testSharpe\")] = (signal_name, i,  sharpe(train_portfolio),sharpe(test_portfolio))\n",
    "        test_all_pnl = np.zeros([sum(test_sample), len(product_list)])\n",
    "        train_all_pnl = np.zeros([sum(train_sample), len(product_list)])\n",
    "        i = 0\n",
    "        for product in product_list:\n",
    "            stat_result = load(HEAD_PATH+\"/\"+signal_dire+\"/\"+product+\".\"+signal_name+\".pkl\")\n",
    "            reverse_signal_stat = stat_result['reverse.signal.stat']\n",
    "            spread = product_info[product][\"spread\"]\n",
    "            if tuple(reverse_signal_stat.keys())[0]=='train.stat':\n",
    "                #good_strat = reverse_signal_stat[\"good.strat\"]\n",
    "                train_stat = reverse_signal_stat[\"train.stat\"]\n",
    "                test_stat = reverse_signal_stat[\"test.stat\"]\n",
    "                good_strat = (train_stat[\"final.result\"][\"avg.pnl\"]>2*spread) & (train_stat[\"final.result\"][\"num\"]>10)\n",
    "                if sum(good_strat)>2:\n",
    "                    train_pnl = train_stat[\"daily.pnl\"].loc[:, good_strat].sum(axis=1)/sum(good_strat)\n",
    "                    train_std = np.std(train_pnl)\n",
    "                    train_pnl = train_pnl/train_std\n",
    "                    test_pnl = test_stat[\"daily.pnl\"].loc[:, good_strat].sum(axis=1)/sum(good_strat)/train_std\n",
    "                    test_all_pnl[:,i] = test_pnl\n",
    "                    train_all_pnl[:,i] = train_pnl\n",
    "                    i = i+1\n",
    "            if i>0:\n",
    "                train_portfolio = np.array(np.mean(train_all_pnl[:,0:i], axis=1))\n",
    "                test_portfolio = np.array(np.mean(test_all_pnl[:,0:i], axis=1))\n",
    "                all_portfolio = np.append(train_portfolio, test_portfolio)\n",
    "                reverse_signal_result.loc[k, (\"signal\",\"num\", \"trainSharpe\", \"testSharpe\")] = (signal_name, i, sharpe(train_portfolio),sharpe(test_portfolio))\n",
    "    return OrderedDict([(\"trend.signal.stat\", trend_signal_result), \n",
    "                        (\"reverse.signal.stat\", reverse_signal_result)])\n",
    "                        \n",
    "        \n"
   ]
  },
  {
   "cell_type": "markdown",
   "metadata": {},
   "source": [
    "- we can get the result with atr and without atr separately"
   ]
  },
  {
   "cell_type": "code",
   "execution_count": 122,
   "metadata": {},
   "outputs": [],
   "source": [
    "result = get_signal_performance_result(all_period_signal, \"signal result\", 4096, product_list)"
   ]
  },
  {
   "cell_type": "code",
   "execution_count": 123,
   "metadata": {},
   "outputs": [],
   "source": [
    "result_atr = get_signal_performance_result(all_period_signal, \"signal result atr\", 4096, product_list)"
   ]
  },
  {
   "cell_type": "code",
   "execution_count": 124,
   "metadata": {},
   "outputs": [
    {
     "name": "stdout",
     "output_type": "stream",
     "text": [
      "without atr good signals:  21\n",
      "train sharpe:  1.5919433198838182\n",
      "test sharpe:  1.0615895518296472\n",
      "with atr good signals: 21\n",
      "train sharpe:  1.4636878958207706\n",
      "test sharpe:  1.0933416396303972\n"
     ]
    }
   ],
   "source": [
    "min_num=0\n",
    "good_trend = (result[\"trend.signal.stat\"][\"num\"]>min_num) & (result[\"trend.signal.stat\"][\"trainSharpe\"]>1) & (result[\"trend.signal.stat\"][\"testSharpe\"]>0.5)\n",
    "good_reverse = (result[\"reverse.signal.stat\"][\"num\"]>min_num) & (result[\"reverse.signal.stat\"][\"trainSharpe\"]>1) & (result[\"reverse.signal.stat\"][\"testSharpe\"]>0.5)\n",
    "train_sharpe = np.mean(np.append(result[\"trend.signal.stat\"][\"trainSharpe\"][good_trend],\n",
    "                  result[\"reverse.signal.stat\"][\"trainSharpe\"][good_reverse]))\n",
    "test_sharpe = np.mean(np.append(result[\"trend.signal.stat\"][\"testSharpe\"][good_trend],\n",
    "                  result[\"reverse.signal.stat\"][\"testSharpe\"][good_reverse]))\n",
    "print(\"without atr good signals: \",sum(good_trend | good_reverse))\n",
    "print(\"train sharpe: \", train_sharpe)\n",
    "print(\"test sharpe: \", test_sharpe)\n",
    "good_trend = (result_atr[\"trend.signal.stat\"][\"num\"]>min_num) & (result_atr[\"trend.signal.stat\"][\"trainSharpe\"]>1) & (result_atr[\"trend.signal.stat\"][\"testSharpe\"]>0.5)\n",
    "good_reverse = (result_atr[\"reverse.signal.stat\"][\"num\"]>min_num) & (result_atr[\"reverse.signal.stat\"][\"trainSharpe\"]>1) & (result_atr[\"reverse.signal.stat\"][\"testSharpe\"]>0.5)\n",
    "print(\"with atr good signals: \"+ str(sum(good_trend | good_reverse)))\n",
    "train_sharpe = np.mean(np.append(result_atr[\"trend.signal.stat\"][\"trainSharpe\"][good_trend],\n",
    "                  result_atr[\"reverse.signal.stat\"][\"trainSharpe\"][good_reverse]))\n",
    "test_sharpe = np.mean(np.append(result_atr[\"trend.signal.stat\"][\"testSharpe\"][good_trend],\n",
    "                  result_atr[\"reverse.signal.stat\"][\"testSharpe\"][good_reverse]))\n",
    "print(\"train sharpe: \", train_sharpe)\n",
    "print(\"test sharpe: \", test_sharpe)\n",
    "\n"
   ]
  },
  {
   "cell_type": "code",
   "execution_count": 125,
   "metadata": {},
   "outputs": [
    {
     "name": "stdout",
     "output_type": "stream",
     "text": [
      "without atr good signals:  20\n",
      "train sharpe:  1.6182887422756675\n",
      "test sharpe:  1.0636292416280646\n",
      "with atr good signals: 20\n",
      "train sharpe:  1.480976347670974\n",
      "test sharpe:  1.0969689338188522\n"
     ]
    }
   ],
   "source": [
    "min_num=1\n",
    "good_trend = (result[\"trend.signal.stat\"][\"num\"]>min_num) & (result[\"trend.signal.stat\"][\"trainSharpe\"]>1) & (result[\"trend.signal.stat\"][\"testSharpe\"]>0.5)\n",
    "good_reverse = (result[\"reverse.signal.stat\"][\"num\"]>min_num) & (result[\"reverse.signal.stat\"][\"trainSharpe\"]>1) & (result[\"reverse.signal.stat\"][\"testSharpe\"]>0.5)\n",
    "train_sharpe = np.mean(np.append(result[\"trend.signal.stat\"][\"trainSharpe\"][good_trend],\n",
    "                  result[\"reverse.signal.stat\"][\"trainSharpe\"][good_reverse]))\n",
    "test_sharpe = np.mean(np.append(result[\"trend.signal.stat\"][\"testSharpe\"][good_trend],\n",
    "                  result[\"reverse.signal.stat\"][\"testSharpe\"][good_reverse]))\n",
    "print(\"without atr good signals: \",sum(good_trend | good_reverse))\n",
    "print(\"train sharpe: \", train_sharpe)\n",
    "print(\"test sharpe: \", test_sharpe)\n",
    "good_trend = (result_atr[\"trend.signal.stat\"][\"num\"]>min_num) & (result_atr[\"trend.signal.stat\"][\"trainSharpe\"]>1) & (result_atr[\"trend.signal.stat\"][\"testSharpe\"]>0.5)\n",
    "good_reverse = (result_atr[\"reverse.signal.stat\"][\"num\"]>min_num) & (result_atr[\"reverse.signal.stat\"][\"trainSharpe\"]>1) & (result_atr[\"reverse.signal.stat\"][\"testSharpe\"]>0.5)\n",
    "print(\"with atr good signals: \"+ str(sum(good_trend | good_reverse)))\n",
    "train_sharpe = np.mean(np.append(result_atr[\"trend.signal.stat\"][\"trainSharpe\"][good_trend],\n",
    "                  result_atr[\"reverse.signal.stat\"][\"trainSharpe\"][good_reverse]))\n",
    "test_sharpe = np.mean(np.append(result_atr[\"trend.signal.stat\"][\"testSharpe\"][good_trend],\n",
    "                  result_atr[\"reverse.signal.stat\"][\"testSharpe\"][good_reverse]))\n",
    "print(\"train sharpe: \", train_sharpe)\n",
    "print(\"test sharpe: \", test_sharpe)\n",
    "\n"
   ]
  },
  {
   "cell_type": "code",
   "execution_count": 96,
   "metadata": {},
   "outputs": [
    {
     "name": "stdout",
     "output_type": "stream",
     "text": [
      "without atr good signals:  19\n",
      "train sharpe:  1.6162834860973367\n",
      "test sharpe:  1.0431069113566835\n",
      "with atr good signals: 18\n",
      "train sharpe:  1.6034706019465343\n",
      "test sharpe:  1.096843879336331\n"
     ]
    }
   ],
   "source": [
    "min_num=2\n",
    "good_trend = (result[\"trend.signal.stat\"][\"num\"]>min_num) & (result[\"trend.signal.stat\"][\"trainSharpe\"]>1) & (result[\"trend.signal.stat\"][\"testSharpe\"]>0.5)\n",
    "good_reverse = (result[\"reverse.signal.stat\"][\"num\"]>min_num) & (result[\"reverse.signal.stat\"][\"trainSharpe\"]>1) & (result[\"reverse.signal.stat\"][\"testSharpe\"]>0.5)\n",
    "train_sharpe = np.mean(np.append(result[\"trend.signal.stat\"][\"trainSharpe\"][good_trend],\n",
    "                  result[\"reverse.signal.stat\"][\"trainSharpe\"][good_reverse]))\n",
    "test_sharpe = np.mean(np.append(result[\"trend.signal.stat\"][\"testSharpe\"][good_trend],\n",
    "                  result[\"reverse.signal.stat\"][\"testSharpe\"][good_reverse]))\n",
    "print(\"without atr good signals: \",sum(good_trend | good_reverse))\n",
    "print(\"train sharpe: \", train_sharpe)\n",
    "print(\"test sharpe: \", test_sharpe)\n",
    "good_trend = (result_atr[\"trend.signal.stat\"][\"num\"]>min_num) & (result_atr[\"trend.signal.stat\"][\"trainSharpe\"]>1) & (result_atr[\"trend.signal.stat\"][\"testSharpe\"]>0.5)\n",
    "good_reverse = (result_atr[\"reverse.signal.stat\"][\"num\"]>min_num) & (result_atr[\"reverse.signal.stat\"][\"trainSharpe\"]>1) & (result_atr[\"reverse.signal.stat\"][\"testSharpe\"]>0.5)\n",
    "print(\"with atr good signals: \"+ str(sum(good_trend | good_reverse)))\n",
    "train_sharpe = np.mean(np.append(result_atr[\"trend.signal.stat\"][\"trainSharpe\"][good_trend],\n",
    "                  result_atr[\"reverse.signal.stat\"][\"trainSharpe\"][good_reverse]))\n",
    "test_sharpe = np.mean(np.append(result_atr[\"trend.signal.stat\"][\"testSharpe\"][good_trend],\n",
    "                  result_atr[\"reverse.signal.stat\"][\"testSharpe\"][good_reverse]))\n",
    "print(\"train sharpe: \", train_sharpe)\n",
    "print(\"test sharpe: \", test_sharpe)\n",
    "\n"
   ]
  },
  {
   "cell_type": "code",
   "execution_count": 126,
   "metadata": {},
   "outputs": [
    {
     "name": "stdout",
     "output_type": "stream",
     "text": [
      "without atr good signals:  11\n",
      "train sharpe:  1.7238821200077459\n",
      "test sharpe:  1.022653336220691\n",
      "with atr good signals: 10\n",
      "train sharpe:  1.596396568830118\n",
      "test sharpe:  1.0222748223317595\n"
     ]
    }
   ],
   "source": [
    "min_num=3\n",
    "good_trend = (result[\"trend.signal.stat\"][\"num\"]>min_num) & (result[\"trend.signal.stat\"][\"trainSharpe\"]>1) & (result[\"trend.signal.stat\"][\"testSharpe\"]>0.5)\n",
    "good_reverse = (result[\"reverse.signal.stat\"][\"num\"]>min_num) & (result[\"reverse.signal.stat\"][\"trainSharpe\"]>1) & (result[\"reverse.signal.stat\"][\"testSharpe\"]>0.5)\n",
    "train_sharpe = np.mean(np.append(result[\"trend.signal.stat\"][\"trainSharpe\"][good_trend],\n",
    "                  result[\"reverse.signal.stat\"][\"trainSharpe\"][good_reverse]))\n",
    "test_sharpe = np.mean(np.append(result[\"trend.signal.stat\"][\"testSharpe\"][good_trend],\n",
    "                  result[\"reverse.signal.stat\"][\"testSharpe\"][good_reverse]))\n",
    "print(\"without atr good signals: \",sum(good_trend | good_reverse))\n",
    "print(\"train sharpe: \", train_sharpe)\n",
    "print(\"test sharpe: \", test_sharpe)\n",
    "good_trend = (result_atr[\"trend.signal.stat\"][\"num\"]>min_num) & (result_atr[\"trend.signal.stat\"][\"trainSharpe\"]>1) & (result_atr[\"trend.signal.stat\"][\"testSharpe\"]>0.5)\n",
    "good_reverse = (result_atr[\"reverse.signal.stat\"][\"num\"]>min_num) & (result_atr[\"reverse.signal.stat\"][\"trainSharpe\"]>1) & (result_atr[\"reverse.signal.stat\"][\"testSharpe\"]>0.5)\n",
    "print(\"with atr good signals: \"+ str(sum(good_trend | good_reverse)))\n",
    "train_sharpe = np.mean(np.append(result_atr[\"trend.signal.stat\"][\"trainSharpe\"][good_trend],\n",
    "                  result_atr[\"reverse.signal.stat\"][\"trainSharpe\"][good_reverse]))\n",
    "test_sharpe = np.mean(np.append(result_atr[\"trend.signal.stat\"][\"testSharpe\"][good_trend],\n",
    "                  result_atr[\"reverse.signal.stat\"][\"testSharpe\"][good_reverse]))\n",
    "print(\"train sharpe: \", train_sharpe)\n",
    "print(\"test sharpe: \", test_sharpe)\n",
    "\n"
   ]
  },
  {
   "cell_type": "markdown",
   "metadata": {},
   "source": [
    "- we can see that their results are very similar"
   ]
  },
  {
   "cell_type": "markdown",
   "metadata": {},
   "source": [
    "- Conclusion\n",
    "- This week we have generated results for all of the 45 signals\n",
    "- We have compared backtest result with and without atr\n",
    "- we find that there is not much difference between them\n",
    "- previously we found that for iorn with atr is better than without atr\n",
    "- that's because we lower the threhsold for number of trades\n",
    "- now we use 20 trades for training maybe for i there are not enough trades\n",
    "- Anyway, currently there are too many signals and hard to tune parameters\n",
    "- in the future, we can use fewer signals so that we can do the research more efficiently"
   ]
  },
  {
   "cell_type": "code",
   "execution_count": null,
   "metadata": {},
   "outputs": [],
   "source": []
  }
 ],
 "metadata": {
  "kernelspec": {
   "display_name": "Python 3",
   "language": "python",
   "name": "python3"
  },
  "language_info": {
   "codemirror_mode": {
    "name": "ipython",
    "version": 3
   },
   "file_extension": ".py",
   "mimetype": "text/x-python",
   "name": "python",
   "nbconvert_exporter": "python",
   "pygments_lexer": "ipython3",
   "version": "3.7.0"
  }
 },
 "nbformat": 4,
 "nbformat_minor": 2
}
