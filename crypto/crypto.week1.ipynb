{
 "cells": [
  {
   "cell_type": "code",
   "execution_count": 4,
   "metadata": {},
   "outputs": [],
   "source": [
    "HEAD_PATH = \"d:/intern\""
   ]
  },
  {
   "cell_type": "code",
   "execution_count": 5,
   "metadata": {},
   "outputs": [],
   "source": [
    "def load(path):\n",
    "    with gzip.open(path, 'rb', compresslevel=1) as file_object:\n",
    "        raw_data = file_object.read()\n",
    "    return cPickle.loads(raw_data)"
   ]
  },
  {
   "cell_type": "markdown",
   "metadata": {},
   "source": [
    "- path of data"
   ]
  },
  {
   "cell_type": "markdown",
   "metadata": {},
   "source": [
    "- Welcome to Quantitative and High Frequency Trading Training Program\n",
    "- Let's start with basic data analysis with python\n",
    "- you can use Shift+Enter to run each line of code\n",
    "\n",
    "- path of our program"
   ]
  },
  {
   "cell_type": "code",
   "execution_count": 6,
   "metadata": {},
   "outputs": [],
   "source": [
    "DATA_PATH = HEAD_PATH + \"/pkl tick/\""
   ]
  },
  {
   "cell_type": "markdown",
   "metadata": {},
   "source": [
    "- set working directory"
   ]
  },
  {
   "cell_type": "code",
   "execution_count": 7,
   "metadata": {},
   "outputs": [],
   "source": [
    "import os\n",
    "os.chdir(DATA_PATH)"
   ]
  },
  {
   "cell_type": "markdown",
   "metadata": {},
   "source": [
    "- number of cores"
   ]
  },
  {
   "cell_type": "code",
   "execution_count": 8,
   "metadata": {},
   "outputs": [
    {
     "data": {
      "text/plain": [
       "16"
      ]
     },
     "execution_count": 8,
     "metadata": {},
     "output_type": "execute_result"
    }
   ],
   "source": [
    "CORE_NUM = int(os.environ['NUMBER_OF_PROCESSORS'])\n",
    "CORE_NUM"
   ]
  },
  {
   "cell_type": "markdown",
   "metadata": {},
   "source": [
    "\n",
    "- get working directory"
   ]
  },
  {
   "cell_type": "code",
   "execution_count": 9,
   "metadata": {},
   "outputs": [
    {
     "data": {
      "text/plain": [
       "'d:\\\\intern\\\\pkl tick'"
      ]
     },
     "execution_count": 9,
     "metadata": {},
     "output_type": "execute_result"
    }
   ],
   "source": [
    "os.getcwd()"
   ]
  },
  {
   "cell_type": "markdown",
   "metadata": {},
   "source": [
    "- sample product, you can change to your specific product symbol\n",
    "- for this quarter we analyze all of the black medals"
   ]
  },
  {
   "cell_type": "code",
   "execution_count": 10,
   "metadata": {},
   "outputs": [],
   "source": [
    "product_list = [\"btc.usd.td\", \"eth.usd.td\", \"btc.usdt\", \"eth.usdt\"]\n",
    "product = product_list[0]"
   ]
  },
  {
   "cell_type": "markdown",
   "metadata": {},
   "source": [
    "- directory of the product's data"
   ]
  },
  {
   "cell_type": "code",
   "execution_count": 11,
   "metadata": {},
   "outputs": [
    {
     "data": {
      "text/plain": [
       "'d:/intern/pkl tick/btc.usd.td'"
      ]
     },
     "execution_count": 11,
     "metadata": {},
     "output_type": "execute_result"
    }
   ],
   "source": [
    "dire = DATA_PATH + product\n",
    "dire"
   ]
  },
  {
   "cell_type": "markdown",
   "metadata": {},
   "source": [
    "- get all available data"
   ]
  },
  {
   "cell_type": "code",
   "execution_count": 12,
   "metadata": {},
   "outputs": [
    {
     "data": {
      "text/plain": [
       "1061"
      ]
     },
     "execution_count": 12,
     "metadata": {},
     "output_type": "execute_result"
    }
   ],
   "source": [
    "all_dates = list(map(lambda x: x,os.listdir(DATA_PATH + product)))\n",
    "len(all_dates)\n",
    "## 1061"
   ]
  },
  {
   "cell_type": "markdown",
   "metadata": {},
   "source": [
    "- we can see that there are 1061 days\n",
    "- all of the products have the same trading days\n",
    "- so we just take a as an example\n",
    "- get first several dates"
   ]
  },
  {
   "cell_type": "code",
   "execution_count": 13,
   "metadata": {},
   "outputs": [
    {
     "data": {
      "text/plain": [
       "['2017-06-16.pkl',\n",
       " '2017-06-17.pkl',\n",
       " '2017-06-18.pkl',\n",
       " '2017-06-19.pkl',\n",
       " '2017-06-20.pkl',\n",
       " '2017-06-21.pkl']"
      ]
     },
     "execution_count": 13,
     "metadata": {},
     "output_type": "execute_result"
    }
   ],
   "source": [
    "all_dates[:6]\n",
    "# ['2017-06-16.pkl',\n",
    "#  '2017-06-17.pkl',\n",
    "#  '2017-06-18.pkl',\n",
    "#  '2017-06-19.pkl',\n",
    "#  '2017-06-20.pkl',\n",
    "#  '2017-06-21.pkl']"
   ]
  },
  {
   "cell_type": "markdown",
   "metadata": {},
   "source": [
    "- get last several dates"
   ]
  },
  {
   "cell_type": "code",
   "execution_count": 14,
   "metadata": {
    "scrolled": false
   },
   "outputs": [
    {
     "data": {
      "text/plain": [
       "['2020-05-18.pkl',\n",
       " '2020-05-19.pkl',\n",
       " '2020-05-20.pkl',\n",
       " '2020-05-21.pkl',\n",
       " '2020-05-22.pkl',\n",
       " '2020-05-23.pkl']"
      ]
     },
     "execution_count": 14,
     "metadata": {},
     "output_type": "execute_result"
    }
   ],
   "source": [
    "all_dates[-6:]\n",
    "# ['2020-05-18.pkl',\n",
    "#  '2020-05-19.pkl',\n",
    "#  '2020-05-20.pkl',\n",
    "#  '2020-05-21.pkl',\n",
    "#  '2020-05-22.pkl',\n",
    "#  '2020-05-23.pkl']"
   ]
  },
  {
   "cell_type": "markdown",
   "metadata": {},
   "source": [
    "- specify a date"
   ]
  },
  {
   "cell_type": "code",
   "execution_count": 15,
   "metadata": {},
   "outputs": [],
   "source": [
    "date = \"2018-04-11\""
   ]
  },
  {
   "cell_type": "markdown",
   "metadata": {},
   "source": [
    "- loading data set"
   ]
  },
  {
   "cell_type": "code",
   "execution_count": 16,
   "metadata": {},
   "outputs": [],
   "source": [
    "import pandas as pd\n",
    "import numpy as np\n",
    "import math\n",
    "import _pickle as cPickle\n",
    "import gzip\n",
    "\n",
    "with gzip.open(dire+\"/\"+date+\".pkl\", 'rb', compresslevel=1) as file_object:\n",
    "    raw_data = file_object.read()\n",
    "data = cPickle.loads(raw_data)"
   ]
  },
  {
   "cell_type": "markdown",
   "metadata": {},
   "source": [
    "- get the column names of data"
   ]
  },
  {
   "cell_type": "code",
   "execution_count": 17,
   "metadata": {},
   "outputs": [
    {
     "data": {
      "text/plain": [
       "Index(['time', 'ask_0_p', 'ask_0_v', 'ask_1_p', 'ask_1_v', 'ask_2_p',\n",
       "       'ask_2_v', 'ask_3_p', 'ask_3_v', 'ask_4_p', 'ask_4_v', 'ask_5_p',\n",
       "       'ask_5_v', 'ask_6_p', 'ask_6_v', 'ask_7_p', 'ask_7_v', 'ask_8_p',\n",
       "       'ask_8_v', 'ask_9_p', 'ask_9_v', 'bid_0_p', 'bid_0_v', 'bid_1_p',\n",
       "       'bid_1_v', 'bid_2_p', 'bid_2_v', 'bid_3_p', 'bid_3_v', 'bid_4_p',\n",
       "       'bid_4_v', 'bid_5_p', 'bid_5_v', 'bid_6_p', 'bid_6_v', 'bid_7_p',\n",
       "       'bid_7_v', 'bid_8_p', 'bid_8_v', 'bid_9_p', 'bid_9_v', 'last',\n",
       "       'timestamp', 'volume', 'ask.qty', 'bid.qty', 'bid', 'ask', 'wpr',\n",
       "       'next.bid', 'next.ask', 'wpr.ret', 'ret', 'intra.time'],\n",
       "      dtype='object')"
      ]
     },
     "execution_count": 17,
     "metadata": {},
     "output_type": "execute_result"
    }
   ],
   "source": [
    "data.columns\n",
    "\n",
    "# Index(['time', 'ask_0_p', 'ask_0_v', 'ask_1_p', 'ask_1_v', 'ask_2_p',\n",
    "#        'ask_2_v', 'ask_3_p', 'ask_3_v', 'ask_4_p', 'ask_4_v', 'ask_5_p',\n",
    "#        'ask_5_v', 'ask_6_p', 'ask_6_v', 'ask_7_p', 'ask_7_v', 'ask_8_p',\n",
    "#        'ask_8_v', 'ask_9_p', 'ask_9_v', 'bid_0_p', 'bid_0_v', 'bid_1_p',\n",
    "#        'bid_1_v', 'bid_2_p', 'bid_2_v', 'bid_3_p', 'bid_3_v', 'bid_4_p',\n",
    "#        'bid_4_v', 'bid_5_p', 'bid_5_v', 'bid_6_p', 'bid_6_v', 'bid_7_p',\n",
    "#        'bid_7_v', 'bid_8_p', 'bid_8_v', 'bid_9_p', 'bid_9_v', 'last',\n",
    "#        'timestamp', 'volume', 'ask.qty', 'bid.qty', 'bid', 'ask', 'wpr',\n",
    "#        'next.bid', 'next.ask', 'wpr.ret', 'ret', 'intra.time'],\n",
    "#       dtype='object')"
   ]
  },
  {
   "cell_type": "code",
   "execution_count": 18,
   "metadata": {},
   "outputs": [
    {
     "data": {
      "text/html": [
       "<div>\n",
       "<style scoped>\n",
       "    .dataframe tbody tr th:only-of-type {\n",
       "        vertical-align: middle;\n",
       "    }\n",
       "\n",
       "    .dataframe tbody tr th {\n",
       "        vertical-align: top;\n",
       "    }\n",
       "\n",
       "    .dataframe thead th {\n",
       "        text-align: right;\n",
       "    }\n",
       "</style>\n",
       "<table border=\"1\" class=\"dataframe\">\n",
       "  <thead>\n",
       "    <tr style=\"text-align: right;\">\n",
       "      <th></th>\n",
       "      <th>time</th>\n",
       "      <th>ask_0_p</th>\n",
       "      <th>ask_0_v</th>\n",
       "      <th>ask_1_p</th>\n",
       "      <th>ask_1_v</th>\n",
       "      <th>ask_2_p</th>\n",
       "      <th>ask_2_v</th>\n",
       "      <th>ask_3_p</th>\n",
       "      <th>ask_3_v</th>\n",
       "      <th>ask_4_p</th>\n",
       "    </tr>\n",
       "  </thead>\n",
       "  <tbody>\n",
       "    <tr>\n",
       "      <th>0</th>\n",
       "      <td>2018-04-11T00:00:00.162324Z</td>\n",
       "      <td>6824.5</td>\n",
       "      <td>815335.0</td>\n",
       "      <td>6825.0</td>\n",
       "      <td>60823.0</td>\n",
       "      <td>6825.5</td>\n",
       "      <td>113649.0</td>\n",
       "      <td>6826.0</td>\n",
       "      <td>29145.0</td>\n",
       "      <td>6826.5</td>\n",
       "    </tr>\n",
       "    <tr>\n",
       "      <th>1</th>\n",
       "      <td>2018-04-11T00:00:02.148714Z</td>\n",
       "      <td>6824.5</td>\n",
       "      <td>1015340.0</td>\n",
       "      <td>6825.0</td>\n",
       "      <td>60823.0</td>\n",
       "      <td>6825.5</td>\n",
       "      <td>113649.0</td>\n",
       "      <td>6826.0</td>\n",
       "      <td>29145.0</td>\n",
       "      <td>6826.5</td>\n",
       "    </tr>\n",
       "    <tr>\n",
       "      <th>2</th>\n",
       "      <td>2018-04-11T00:00:07.209195Z</td>\n",
       "      <td>6824.5</td>\n",
       "      <td>946739.0</td>\n",
       "      <td>6825.0</td>\n",
       "      <td>161475.0</td>\n",
       "      <td>6825.5</td>\n",
       "      <td>256886.0</td>\n",
       "      <td>6826.0</td>\n",
       "      <td>27145.0</td>\n",
       "      <td>6826.5</td>\n",
       "    </tr>\n",
       "    <tr>\n",
       "      <th>3</th>\n",
       "      <td>2018-04-11T00:00:08.497459Z</td>\n",
       "      <td>6824.5</td>\n",
       "      <td>946739.0</td>\n",
       "      <td>6825.0</td>\n",
       "      <td>161475.0</td>\n",
       "      <td>6825.5</td>\n",
       "      <td>256886.0</td>\n",
       "      <td>6826.0</td>\n",
       "      <td>27145.0</td>\n",
       "      <td>6826.5</td>\n",
       "    </tr>\n",
       "    <tr>\n",
       "      <th>4</th>\n",
       "      <td>2018-04-11T00:00:09.252452Z</td>\n",
       "      <td>6824.5</td>\n",
       "      <td>238783.0</td>\n",
       "      <td>6825.0</td>\n",
       "      <td>49964.0</td>\n",
       "      <td>6825.5</td>\n",
       "      <td>113649.0</td>\n",
       "      <td>6826.0</td>\n",
       "      <td>139645.0</td>\n",
       "      <td>6826.5</td>\n",
       "    </tr>\n",
       "    <tr>\n",
       "      <th>5</th>\n",
       "      <td>2018-04-11T00:00:09.864387Z</td>\n",
       "      <td>6824.5</td>\n",
       "      <td>345945.0</td>\n",
       "      <td>6825.0</td>\n",
       "      <td>48475.0</td>\n",
       "      <td>6825.5</td>\n",
       "      <td>115049.0</td>\n",
       "      <td>6826.0</td>\n",
       "      <td>141645.0</td>\n",
       "      <td>6826.5</td>\n",
       "    </tr>\n",
       "    <tr>\n",
       "      <th>6</th>\n",
       "      <td>2018-04-11T00:00:10.605125Z</td>\n",
       "      <td>6824.5</td>\n",
       "      <td>694944.0</td>\n",
       "      <td>6825.0</td>\n",
       "      <td>60475.0</td>\n",
       "      <td>6825.5</td>\n",
       "      <td>198989.0</td>\n",
       "      <td>6826.0</td>\n",
       "      <td>87705.0</td>\n",
       "      <td>6826.5</td>\n",
       "    </tr>\n",
       "    <tr>\n",
       "      <th>7</th>\n",
       "      <td>2018-04-11T00:00:11.815878Z</td>\n",
       "      <td>6824.5</td>\n",
       "      <td>269844.0</td>\n",
       "      <td>6825.0</td>\n",
       "      <td>60475.0</td>\n",
       "      <td>6825.5</td>\n",
       "      <td>198989.0</td>\n",
       "      <td>6826.0</td>\n",
       "      <td>58330.0</td>\n",
       "      <td>6826.5</td>\n",
       "    </tr>\n",
       "    <tr>\n",
       "      <th>8</th>\n",
       "      <td>2018-04-11T00:00:14.485123Z</td>\n",
       "      <td>6824.5</td>\n",
       "      <td>269844.0</td>\n",
       "      <td>6825.0</td>\n",
       "      <td>60475.0</td>\n",
       "      <td>6825.5</td>\n",
       "      <td>198989.0</td>\n",
       "      <td>6826.0</td>\n",
       "      <td>58330.0</td>\n",
       "      <td>6826.5</td>\n",
       "    </tr>\n",
       "    <tr>\n",
       "      <th>9</th>\n",
       "      <td>2018-04-11T00:00:15.135179Z</td>\n",
       "      <td>6824.5</td>\n",
       "      <td>392719.0</td>\n",
       "      <td>6825.0</td>\n",
       "      <td>49475.0</td>\n",
       "      <td>6825.5</td>\n",
       "      <td>115089.0</td>\n",
       "      <td>6826.0</td>\n",
       "      <td>29830.0</td>\n",
       "      <td>6826.5</td>\n",
       "    </tr>\n",
       "  </tbody>\n",
       "</table>\n",
       "</div>"
      ],
      "text/plain": [
       "                          time  ask_0_p    ask_0_v  ask_1_p   ask_1_v  \\\n",
       "0  2018-04-11T00:00:00.162324Z   6824.5   815335.0   6825.0   60823.0   \n",
       "1  2018-04-11T00:00:02.148714Z   6824.5  1015340.0   6825.0   60823.0   \n",
       "2  2018-04-11T00:00:07.209195Z   6824.5   946739.0   6825.0  161475.0   \n",
       "3  2018-04-11T00:00:08.497459Z   6824.5   946739.0   6825.0  161475.0   \n",
       "4  2018-04-11T00:00:09.252452Z   6824.5   238783.0   6825.0   49964.0   \n",
       "5  2018-04-11T00:00:09.864387Z   6824.5   345945.0   6825.0   48475.0   \n",
       "6  2018-04-11T00:00:10.605125Z   6824.5   694944.0   6825.0   60475.0   \n",
       "7  2018-04-11T00:00:11.815878Z   6824.5   269844.0   6825.0   60475.0   \n",
       "8  2018-04-11T00:00:14.485123Z   6824.5   269844.0   6825.0   60475.0   \n",
       "9  2018-04-11T00:00:15.135179Z   6824.5   392719.0   6825.0   49475.0   \n",
       "\n",
       "   ask_2_p   ask_2_v  ask_3_p   ask_3_v  ask_4_p  \n",
       "0   6825.5  113649.0   6826.0   29145.0   6826.5  \n",
       "1   6825.5  113649.0   6826.0   29145.0   6826.5  \n",
       "2   6825.5  256886.0   6826.0   27145.0   6826.5  \n",
       "3   6825.5  256886.0   6826.0   27145.0   6826.5  \n",
       "4   6825.5  113649.0   6826.0  139645.0   6826.5  \n",
       "5   6825.5  115049.0   6826.0  141645.0   6826.5  \n",
       "6   6825.5  198989.0   6826.0   87705.0   6826.5  \n",
       "7   6825.5  198989.0   6826.0   58330.0   6826.5  \n",
       "8   6825.5  198989.0   6826.0   58330.0   6826.5  \n",
       "9   6825.5  115089.0   6826.0   29830.0   6826.5  "
      ]
     },
     "execution_count": 18,
     "metadata": {},
     "output_type": "execute_result"
    }
   ],
   "source": [
    "data.iloc[0:10,0:10]\n",
    "\n",
    "# time \task_0_p \task_0_v \task_1_p \task_1_v \task_2_p \task_2_v \task_3_p \task_3_v \task_4_p\n",
    "# 0 \t2018-04-11T00:00:00.162324Z \t6824.5 \t815335.0 \t6825.0 \t60823.0 \t6825.5 \t113649.0 \t6826.0 \t29145.0 \t6826.5\n",
    "# 1 \t2018-04-11T00:00:02.148714Z \t6824.5 \t1015340.0 \t6825.0 \t60823.0 \t6825.5 \t113649.0 \t6826.0 \t29145.0 \t6826.5\n",
    "# 2 \t2018-04-11T00:00:07.209195Z \t6824.5 \t946739.0 \t6825.0 \t161475.0 \t6825.5 \t256886.0 \t6826.0 \t27145.0 \t6826.5\n",
    "# 3 \t2018-04-11T00:00:08.497459Z \t6824.5 \t946739.0 \t6825.0 \t161475.0 \t6825.5 \t256886.0 \t6826.0 \t27145.0 \t6826.5\n",
    "# 4 \t2018-04-11T00:00:09.252452Z \t6824.5 \t238783.0 \t6825.0 \t49964.0 \t6825.5 \t113649.0 \t6826.0 \t139645.0 \t6826.5\n",
    "# 5 \t2018-04-11T00:00:09.864387Z \t6824.5 \t345945.0 \t6825.0 \t48475.0 \t6825.5 \t115049.0 \t6826.0 \t141645.0 \t6826.5\n",
    "# 6 \t2018-04-11T00:00:10.605125Z \t6824.5 \t694944.0 \t6825.0 \t60475.0 \t6825.5 \t198989.0 \t6826.0 \t87705.0 \t6826.5\n",
    "# 7 \t2018-04-11T00:00:11.815878Z \t6824.5 \t269844.0 \t6825.0 \t60475.0 \t6825.5 \t198989.0 \t6826.0 \t58330.0 \t6826.5\n",
    "# 8 \t2018-04-11T00:00:14.485123Z \t6824.5 \t269844.0 \t6825.0 \t60475.0 \t6825.5 \t198989.0 \t6826.0 \t58330.0 \t6826.5\n",
    "# 9 \t2018-04-11T00:00:15.135179Z \t6824.5 \t392719.0 \t6825.0 \t49475.0 \t6825.5 \t115089.0 \t6826.0 \t29830.0 \t6826.5"
   ]
  },
  {
   "cell_type": "code",
   "execution_count": 19,
   "metadata": {},
   "outputs": [
    {
     "data": {
      "text/html": [
       "<div>\n",
       "<style scoped>\n",
       "    .dataframe tbody tr th:only-of-type {\n",
       "        vertical-align: middle;\n",
       "    }\n",
       "\n",
       "    .dataframe tbody tr th {\n",
       "        vertical-align: top;\n",
       "    }\n",
       "\n",
       "    .dataframe thead th {\n",
       "        text-align: right;\n",
       "    }\n",
       "</style>\n",
       "<table border=\"1\" class=\"dataframe\">\n",
       "  <thead>\n",
       "    <tr style=\"text-align: right;\">\n",
       "      <th></th>\n",
       "      <th>ask_4_v</th>\n",
       "      <th>ask_5_p</th>\n",
       "      <th>ask_5_v</th>\n",
       "      <th>ask_6_p</th>\n",
       "      <th>ask_6_v</th>\n",
       "      <th>ask_7_p</th>\n",
       "      <th>ask_7_v</th>\n",
       "      <th>ask_8_p</th>\n",
       "      <th>ask_8_v</th>\n",
       "      <th>ask_9_p</th>\n",
       "    </tr>\n",
       "  </thead>\n",
       "  <tbody>\n",
       "    <tr>\n",
       "      <th>0</th>\n",
       "      <td>22807.0</td>\n",
       "      <td>6827.0</td>\n",
       "      <td>471198.0</td>\n",
       "      <td>6827.5</td>\n",
       "      <td>11750.0</td>\n",
       "      <td>6828.0</td>\n",
       "      <td>87803.0</td>\n",
       "      <td>6828.5</td>\n",
       "      <td>41219.0</td>\n",
       "      <td>6829.0</td>\n",
       "    </tr>\n",
       "    <tr>\n",
       "      <th>1</th>\n",
       "      <td>22807.0</td>\n",
       "      <td>6827.0</td>\n",
       "      <td>471198.0</td>\n",
       "      <td>6827.5</td>\n",
       "      <td>11750.0</td>\n",
       "      <td>6828.0</td>\n",
       "      <td>87803.0</td>\n",
       "      <td>6828.5</td>\n",
       "      <td>41219.0</td>\n",
       "      <td>6829.0</td>\n",
       "    </tr>\n",
       "    <tr>\n",
       "      <th>2</th>\n",
       "      <td>22807.0</td>\n",
       "      <td>6827.0</td>\n",
       "      <td>316698.0</td>\n",
       "      <td>6827.5</td>\n",
       "      <td>12150.0</td>\n",
       "      <td>6828.0</td>\n",
       "      <td>28403.0</td>\n",
       "      <td>6828.5</td>\n",
       "      <td>1619.0</td>\n",
       "      <td>6829.0</td>\n",
       "    </tr>\n",
       "    <tr>\n",
       "      <th>3</th>\n",
       "      <td>22807.0</td>\n",
       "      <td>6827.0</td>\n",
       "      <td>316698.0</td>\n",
       "      <td>6827.5</td>\n",
       "      <td>12150.0</td>\n",
       "      <td>6828.0</td>\n",
       "      <td>28403.0</td>\n",
       "      <td>6828.5</td>\n",
       "      <td>1619.0</td>\n",
       "      <td>6829.0</td>\n",
       "    </tr>\n",
       "    <tr>\n",
       "      <th>4</th>\n",
       "      <td>82738.0</td>\n",
       "      <td>6827.0</td>\n",
       "      <td>308899.0</td>\n",
       "      <td>6827.5</td>\n",
       "      <td>76750.0</td>\n",
       "      <td>6828.0</td>\n",
       "      <td>26403.0</td>\n",
       "      <td>6828.5</td>\n",
       "      <td>1619.0</td>\n",
       "      <td>6829.0</td>\n",
       "    </tr>\n",
       "    <tr>\n",
       "      <th>5</th>\n",
       "      <td>52738.0</td>\n",
       "      <td>6827.0</td>\n",
       "      <td>326899.0</td>\n",
       "      <td>6827.5</td>\n",
       "      <td>76750.0</td>\n",
       "      <td>6828.0</td>\n",
       "      <td>27403.0</td>\n",
       "      <td>6828.5</td>\n",
       "      <td>1619.0</td>\n",
       "      <td>6829.0</td>\n",
       "    </tr>\n",
       "    <tr>\n",
       "      <th>6</th>\n",
       "      <td>22738.0</td>\n",
       "      <td>6827.0</td>\n",
       "      <td>396899.0</td>\n",
       "      <td>6827.5</td>\n",
       "      <td>11750.0</td>\n",
       "      <td>6828.0</td>\n",
       "      <td>27403.0</td>\n",
       "      <td>6828.5</td>\n",
       "      <td>1619.0</td>\n",
       "      <td>6829.0</td>\n",
       "    </tr>\n",
       "    <tr>\n",
       "      <th>7</th>\n",
       "      <td>35738.0</td>\n",
       "      <td>6827.0</td>\n",
       "      <td>396899.0</td>\n",
       "      <td>6827.5</td>\n",
       "      <td>11750.0</td>\n",
       "      <td>6828.0</td>\n",
       "      <td>26403.0</td>\n",
       "      <td>6828.5</td>\n",
       "      <td>1619.0</td>\n",
       "      <td>6829.0</td>\n",
       "    </tr>\n",
       "    <tr>\n",
       "      <th>8</th>\n",
       "      <td>35738.0</td>\n",
       "      <td>6827.0</td>\n",
       "      <td>396899.0</td>\n",
       "      <td>6827.5</td>\n",
       "      <td>11750.0</td>\n",
       "      <td>6828.0</td>\n",
       "      <td>26403.0</td>\n",
       "      <td>6828.5</td>\n",
       "      <td>1619.0</td>\n",
       "      <td>6829.0</td>\n",
       "    </tr>\n",
       "    <tr>\n",
       "      <th>9</th>\n",
       "      <td>6738.0</td>\n",
       "      <td>6827.0</td>\n",
       "      <td>377599.0</td>\n",
       "      <td>6827.5</td>\n",
       "      <td>42150.0</td>\n",
       "      <td>6828.0</td>\n",
       "      <td>26403.0</td>\n",
       "      <td>6828.5</td>\n",
       "      <td>32419.0</td>\n",
       "      <td>6829.0</td>\n",
       "    </tr>\n",
       "  </tbody>\n",
       "</table>\n",
       "</div>"
      ],
      "text/plain": [
       "   ask_4_v  ask_5_p   ask_5_v  ask_6_p  ask_6_v  ask_7_p  ask_7_v  ask_8_p  \\\n",
       "0  22807.0   6827.0  471198.0   6827.5  11750.0   6828.0  87803.0   6828.5   \n",
       "1  22807.0   6827.0  471198.0   6827.5  11750.0   6828.0  87803.0   6828.5   \n",
       "2  22807.0   6827.0  316698.0   6827.5  12150.0   6828.0  28403.0   6828.5   \n",
       "3  22807.0   6827.0  316698.0   6827.5  12150.0   6828.0  28403.0   6828.5   \n",
       "4  82738.0   6827.0  308899.0   6827.5  76750.0   6828.0  26403.0   6828.5   \n",
       "5  52738.0   6827.0  326899.0   6827.5  76750.0   6828.0  27403.0   6828.5   \n",
       "6  22738.0   6827.0  396899.0   6827.5  11750.0   6828.0  27403.0   6828.5   \n",
       "7  35738.0   6827.0  396899.0   6827.5  11750.0   6828.0  26403.0   6828.5   \n",
       "8  35738.0   6827.0  396899.0   6827.5  11750.0   6828.0  26403.0   6828.5   \n",
       "9   6738.0   6827.0  377599.0   6827.5  42150.0   6828.0  26403.0   6828.5   \n",
       "\n",
       "   ask_8_v  ask_9_p  \n",
       "0  41219.0   6829.0  \n",
       "1  41219.0   6829.0  \n",
       "2   1619.0   6829.0  \n",
       "3   1619.0   6829.0  \n",
       "4   1619.0   6829.0  \n",
       "5   1619.0   6829.0  \n",
       "6   1619.0   6829.0  \n",
       "7   1619.0   6829.0  \n",
       "8   1619.0   6829.0  \n",
       "9  32419.0   6829.0  "
      ]
     },
     "execution_count": 19,
     "metadata": {},
     "output_type": "execute_result"
    }
   ],
   "source": [
    "data.iloc[0:10,10:20]\n",
    "#  \task_4_v \task_5_p \task_5_v \task_6_p \task_6_v \task_7_p \task_7_v \task_8_p \task_8_v \task_9_p\n",
    "# 0 \t22807.0 \t6827.0 \t471198.0 \t6827.5 \t11750.0 \t6828.0 \t87803.0 \t6828.5 \t41219.0 \t6829.0\n",
    "# 1 \t22807.0 \t6827.0 \t471198.0 \t6827.5 \t11750.0 \t6828.0 \t87803.0 \t6828.5 \t41219.0 \t6829.0\n",
    "# 2 \t22807.0 \t6827.0 \t316698.0 \t6827.5 \t12150.0 \t6828.0 \t28403.0 \t6828.5 \t1619.0 \t6829.0\n",
    "# 3 \t22807.0 \t6827.0 \t316698.0 \t6827.5 \t12150.0 \t6828.0 \t28403.0 \t6828.5 \t1619.0 \t6829.0\n",
    "# 4 \t82738.0 \t6827.0 \t308899.0 \t6827.5 \t76750.0 \t6828.0 \t26403.0 \t6828.5 \t1619.0 \t6829.0\n",
    "# 5 \t52738.0 \t6827.0 \t326899.0 \t6827.5 \t76750.0 \t6828.0 \t27403.0 \t6828.5 \t1619.0 \t6829.0\n",
    "# 6 \t22738.0 \t6827.0 \t396899.0 \t6827.5 \t11750.0 \t6828.0 \t27403.0 \t6828.5 \t1619.0 \t6829.0\n",
    "# 7 \t35738.0 \t6827.0 \t396899.0 \t6827.5 \t11750.0 \t6828.0 \t26403.0 \t6828.5 \t1619.0 \t6829.0\n",
    "# 8 \t35738.0 \t6827.0 \t396899.0 \t6827.5 \t11750.0 \t6828.0 \t26403.0 \t6828.5 \t1619.0 \t6829.0\n",
    "# 9 \t6738.0 \t6827.0 \t377599.0 \t6827.5 \t42150.0 \t6828.0 \t26403.0 \t6828.5 \t32419.0 \t6829.0"
   ]
  },
  {
   "cell_type": "code",
   "execution_count": 20,
   "metadata": {},
   "outputs": [
    {
     "data": {
      "text/html": [
       "<div>\n",
       "<style scoped>\n",
       "    .dataframe tbody tr th:only-of-type {\n",
       "        vertical-align: middle;\n",
       "    }\n",
       "\n",
       "    .dataframe tbody tr th {\n",
       "        vertical-align: top;\n",
       "    }\n",
       "\n",
       "    .dataframe thead th {\n",
       "        text-align: right;\n",
       "    }\n",
       "</style>\n",
       "<table border=\"1\" class=\"dataframe\">\n",
       "  <thead>\n",
       "    <tr style=\"text-align: right;\">\n",
       "      <th></th>\n",
       "      <th>ask_9_v</th>\n",
       "      <th>bid_0_p</th>\n",
       "      <th>bid_0_v</th>\n",
       "      <th>bid_1_p</th>\n",
       "      <th>bid_1_v</th>\n",
       "      <th>bid_2_p</th>\n",
       "      <th>bid_2_v</th>\n",
       "      <th>bid_3_p</th>\n",
       "      <th>bid_3_v</th>\n",
       "      <th>bid_4_p</th>\n",
       "      <th>...</th>\n",
       "      <th>ask.qty</th>\n",
       "      <th>bid.qty</th>\n",
       "      <th>bid</th>\n",
       "      <th>ask</th>\n",
       "      <th>wpr</th>\n",
       "      <th>next.bid</th>\n",
       "      <th>next.ask</th>\n",
       "      <th>wpr.ret</th>\n",
       "      <th>ret</th>\n",
       "      <th>intra.time</th>\n",
       "    </tr>\n",
       "  </thead>\n",
       "  <tbody>\n",
       "    <tr>\n",
       "      <th>0</th>\n",
       "      <td>164044.0</td>\n",
       "      <td>6824.0</td>\n",
       "      <td>158990.0</td>\n",
       "      <td>6823.5</td>\n",
       "      <td>757667.0</td>\n",
       "      <td>6823.0</td>\n",
       "      <td>525.0</td>\n",
       "      <td>6822.5</td>\n",
       "      <td>145.0</td>\n",
       "      <td>6822.0</td>\n",
       "      <td>...</td>\n",
       "      <td>181777.3</td>\n",
       "      <td>110937.2</td>\n",
       "      <td>6824.0</td>\n",
       "      <td>6824.5</td>\n",
       "      <td>6824.189497</td>\n",
       "      <td>6824.0</td>\n",
       "      <td>6824.5</td>\n",
       "      <td>0.000000</td>\n",
       "      <td>0.000000e+00</td>\n",
       "      <td>00:00:00</td>\n",
       "    </tr>\n",
       "    <tr>\n",
       "      <th>1</th>\n",
       "      <td>164044.0</td>\n",
       "      <td>6824.0</td>\n",
       "      <td>158990.0</td>\n",
       "      <td>6823.5</td>\n",
       "      <td>757667.0</td>\n",
       "      <td>6823.0</td>\n",
       "      <td>525.0</td>\n",
       "      <td>6822.5</td>\n",
       "      <td>145.0</td>\n",
       "      <td>6822.0</td>\n",
       "      <td>...</td>\n",
       "      <td>201777.8</td>\n",
       "      <td>110937.2</td>\n",
       "      <td>6824.0</td>\n",
       "      <td>6824.5</td>\n",
       "      <td>6824.177377</td>\n",
       "      <td>6824.0</td>\n",
       "      <td>6824.5</td>\n",
       "      <td>-0.012120</td>\n",
       "      <td>-1.776006e-06</td>\n",
       "      <td>00:00:02</td>\n",
       "    </tr>\n",
       "    <tr>\n",
       "      <th>2</th>\n",
       "      <td>165676.0</td>\n",
       "      <td>6824.0</td>\n",
       "      <td>39524.0</td>\n",
       "      <td>6823.5</td>\n",
       "      <td>717556.0</td>\n",
       "      <td>6823.0</td>\n",
       "      <td>525.0</td>\n",
       "      <td>6822.5</td>\n",
       "      <td>145.0</td>\n",
       "      <td>6822.0</td>\n",
       "      <td>...</td>\n",
       "      <td>193959.8</td>\n",
       "      <td>95168.2</td>\n",
       "      <td>6824.0</td>\n",
       "      <td>6824.5</td>\n",
       "      <td>6824.164578</td>\n",
       "      <td>6824.0</td>\n",
       "      <td>6824.5</td>\n",
       "      <td>-0.012800</td>\n",
       "      <td>-1.875614e-06</td>\n",
       "      <td>00:00:07</td>\n",
       "    </tr>\n",
       "    <tr>\n",
       "      <th>3</th>\n",
       "      <td>165676.0</td>\n",
       "      <td>6824.0</td>\n",
       "      <td>109524.0</td>\n",
       "      <td>6823.5</td>\n",
       "      <td>717556.0</td>\n",
       "      <td>6823.0</td>\n",
       "      <td>525.0</td>\n",
       "      <td>6822.5</td>\n",
       "      <td>145.0</td>\n",
       "      <td>6822.0</td>\n",
       "      <td>...</td>\n",
       "      <td>193959.8</td>\n",
       "      <td>102168.2</td>\n",
       "      <td>6824.0</td>\n",
       "      <td>6824.5</td>\n",
       "      <td>6824.172507</td>\n",
       "      <td>6824.0</td>\n",
       "      <td>6824.5</td>\n",
       "      <td>0.007929</td>\n",
       "      <td>1.161878e-06</td>\n",
       "      <td>00:00:08</td>\n",
       "    </tr>\n",
       "    <tr>\n",
       "      <th>4</th>\n",
       "      <td>168544.0</td>\n",
       "      <td>6824.0</td>\n",
       "      <td>149697.0</td>\n",
       "      <td>6823.5</td>\n",
       "      <td>720556.0</td>\n",
       "      <td>6823.0</td>\n",
       "      <td>525.0</td>\n",
       "      <td>6822.5</td>\n",
       "      <td>145.0</td>\n",
       "      <td>6822.0</td>\n",
       "      <td>...</td>\n",
       "      <td>120699.4</td>\n",
       "      <td>105685.5</td>\n",
       "      <td>6824.0</td>\n",
       "      <td>6824.5</td>\n",
       "      <td>6824.233420</td>\n",
       "      <td>6824.0</td>\n",
       "      <td>6824.5</td>\n",
       "      <td>0.060913</td>\n",
       "      <td>8.926042e-06</td>\n",
       "      <td>00:00:09</td>\n",
       "    </tr>\n",
       "    <tr>\n",
       "      <th>5</th>\n",
       "      <td>170544.0</td>\n",
       "      <td>6824.0</td>\n",
       "      <td>137257.0</td>\n",
       "      <td>6823.5</td>\n",
       "      <td>732556.0</td>\n",
       "      <td>6823.0</td>\n",
       "      <td>525.0</td>\n",
       "      <td>6822.5</td>\n",
       "      <td>145.0</td>\n",
       "      <td>6822.0</td>\n",
       "      <td>...</td>\n",
       "      <td>130706.7</td>\n",
       "      <td>104441.5</td>\n",
       "      <td>6824.0</td>\n",
       "      <td>6824.5</td>\n",
       "      <td>6824.222076</td>\n",
       "      <td>6824.0</td>\n",
       "      <td>6824.5</td>\n",
       "      <td>-0.011344</td>\n",
       "      <td>-1.662317e-06</td>\n",
       "      <td>00:00:09</td>\n",
       "    </tr>\n",
       "    <tr>\n",
       "      <th>6</th>\n",
       "      <td>168544.0</td>\n",
       "      <td>6824.0</td>\n",
       "      <td>75566.0</td>\n",
       "      <td>6823.5</td>\n",
       "      <td>732747.0</td>\n",
       "      <td>6823.0</td>\n",
       "      <td>2475.0</td>\n",
       "      <td>6822.5</td>\n",
       "      <td>145.0</td>\n",
       "      <td>6822.0</td>\n",
       "      <td>...</td>\n",
       "      <td>167106.6</td>\n",
       "      <td>99005.4</td>\n",
       "      <td>6824.0</td>\n",
       "      <td>6824.5</td>\n",
       "      <td>6824.186022</td>\n",
       "      <td>6824.0</td>\n",
       "      <td>6824.5</td>\n",
       "      <td>-0.036054</td>\n",
       "      <td>-5.283233e-06</td>\n",
       "      <td>00:00:10</td>\n",
       "    </tr>\n",
       "    <tr>\n",
       "      <th>7</th>\n",
       "      <td>184246.0</td>\n",
       "      <td>6824.0</td>\n",
       "      <td>136784.0</td>\n",
       "      <td>6823.5</td>\n",
       "      <td>732747.0</td>\n",
       "      <td>6823.0</td>\n",
       "      <td>2475.0</td>\n",
       "      <td>6822.5</td>\n",
       "      <td>145.0</td>\n",
       "      <td>6822.0</td>\n",
       "      <td>...</td>\n",
       "      <td>124429.3</td>\n",
       "      <td>105137.3</td>\n",
       "      <td>6824.0</td>\n",
       "      <td>6824.5</td>\n",
       "      <td>6824.228991</td>\n",
       "      <td>6824.0</td>\n",
       "      <td>6824.5</td>\n",
       "      <td>0.042969</td>\n",
       "      <td>6.296525e-06</td>\n",
       "      <td>00:00:11</td>\n",
       "    </tr>\n",
       "    <tr>\n",
       "      <th>8</th>\n",
       "      <td>184246.0</td>\n",
       "      <td>6824.0</td>\n",
       "      <td>130784.0</td>\n",
       "      <td>6823.5</td>\n",
       "      <td>732747.0</td>\n",
       "      <td>6823.0</td>\n",
       "      <td>2475.0</td>\n",
       "      <td>6822.5</td>\n",
       "      <td>145.0</td>\n",
       "      <td>6822.0</td>\n",
       "      <td>...</td>\n",
       "      <td>124429.3</td>\n",
       "      <td>104537.3</td>\n",
       "      <td>6824.0</td>\n",
       "      <td>6824.5</td>\n",
       "      <td>6824.228281</td>\n",
       "      <td>6824.0</td>\n",
       "      <td>6824.5</td>\n",
       "      <td>-0.000710</td>\n",
       "      <td>-1.040662e-07</td>\n",
       "      <td>00:00:14</td>\n",
       "    </tr>\n",
       "    <tr>\n",
       "      <th>9</th>\n",
       "      <td>183246.0</td>\n",
       "      <td>6824.0</td>\n",
       "      <td>169516.0</td>\n",
       "      <td>6823.5</td>\n",
       "      <td>717102.0</td>\n",
       "      <td>6823.0</td>\n",
       "      <td>4275.0</td>\n",
       "      <td>6822.5</td>\n",
       "      <td>145.0</td>\n",
       "      <td>6822.0</td>\n",
       "      <td>...</td>\n",
       "      <td>125566.8</td>\n",
       "      <td>107855.9</td>\n",
       "      <td>6824.0</td>\n",
       "      <td>6824.5</td>\n",
       "      <td>6824.231031</td>\n",
       "      <td>6824.0</td>\n",
       "      <td>6824.5</td>\n",
       "      <td>0.002751</td>\n",
       "      <td>4.030676e-07</td>\n",
       "      <td>00:00:15</td>\n",
       "    </tr>\n",
       "  </tbody>\n",
       "</table>\n",
       "<p>10 rows × 34 columns</p>\n",
       "</div>"
      ],
      "text/plain": [
       "    ask_9_v  bid_0_p   bid_0_v  bid_1_p   bid_1_v  bid_2_p  bid_2_v  bid_3_p  \\\n",
       "0  164044.0   6824.0  158990.0   6823.5  757667.0   6823.0    525.0   6822.5   \n",
       "1  164044.0   6824.0  158990.0   6823.5  757667.0   6823.0    525.0   6822.5   \n",
       "2  165676.0   6824.0   39524.0   6823.5  717556.0   6823.0    525.0   6822.5   \n",
       "3  165676.0   6824.0  109524.0   6823.5  717556.0   6823.0    525.0   6822.5   \n",
       "4  168544.0   6824.0  149697.0   6823.5  720556.0   6823.0    525.0   6822.5   \n",
       "5  170544.0   6824.0  137257.0   6823.5  732556.0   6823.0    525.0   6822.5   \n",
       "6  168544.0   6824.0   75566.0   6823.5  732747.0   6823.0   2475.0   6822.5   \n",
       "7  184246.0   6824.0  136784.0   6823.5  732747.0   6823.0   2475.0   6822.5   \n",
       "8  184246.0   6824.0  130784.0   6823.5  732747.0   6823.0   2475.0   6822.5   \n",
       "9  183246.0   6824.0  169516.0   6823.5  717102.0   6823.0   4275.0   6822.5   \n",
       "\n",
       "   bid_3_v  bid_4_p  ...   ask.qty   bid.qty     bid     ask          wpr  \\\n",
       "0    145.0   6822.0  ...  181777.3  110937.2  6824.0  6824.5  6824.189497   \n",
       "1    145.0   6822.0  ...  201777.8  110937.2  6824.0  6824.5  6824.177377   \n",
       "2    145.0   6822.0  ...  193959.8   95168.2  6824.0  6824.5  6824.164578   \n",
       "3    145.0   6822.0  ...  193959.8  102168.2  6824.0  6824.5  6824.172507   \n",
       "4    145.0   6822.0  ...  120699.4  105685.5  6824.0  6824.5  6824.233420   \n",
       "5    145.0   6822.0  ...  130706.7  104441.5  6824.0  6824.5  6824.222076   \n",
       "6    145.0   6822.0  ...  167106.6   99005.4  6824.0  6824.5  6824.186022   \n",
       "7    145.0   6822.0  ...  124429.3  105137.3  6824.0  6824.5  6824.228991   \n",
       "8    145.0   6822.0  ...  124429.3  104537.3  6824.0  6824.5  6824.228281   \n",
       "9    145.0   6822.0  ...  125566.8  107855.9  6824.0  6824.5  6824.231031   \n",
       "\n",
       "   next.bid  next.ask   wpr.ret           ret  intra.time  \n",
       "0    6824.0    6824.5  0.000000  0.000000e+00    00:00:00  \n",
       "1    6824.0    6824.5 -0.012120 -1.776006e-06    00:00:02  \n",
       "2    6824.0    6824.5 -0.012800 -1.875614e-06    00:00:07  \n",
       "3    6824.0    6824.5  0.007929  1.161878e-06    00:00:08  \n",
       "4    6824.0    6824.5  0.060913  8.926042e-06    00:00:09  \n",
       "5    6824.0    6824.5 -0.011344 -1.662317e-06    00:00:09  \n",
       "6    6824.0    6824.5 -0.036054 -5.283233e-06    00:00:10  \n",
       "7    6824.0    6824.5  0.042969  6.296525e-06    00:00:11  \n",
       "8    6824.0    6824.5 -0.000710 -1.040662e-07    00:00:14  \n",
       "9    6824.0    6824.5  0.002751  4.030676e-07    00:00:15  \n",
       "\n",
       "[10 rows x 34 columns]"
      ]
     },
     "execution_count": 20,
     "metadata": {},
     "output_type": "execute_result"
    }
   ],
   "source": [
    "data.iloc[0:10,20:]\n",
    "\n",
    "# ask_9_v \tbid_0_p \tbid_0_v \tbid_1_p \tbid_1_v \tbid_2_p \tbid_2_v \tbid_3_p \tbid_3_v \tbid_4_p \t... \task.qty \tbid.qty \tbid \task \twpr \tnext.bid \tnext.ask \twpr.ret \tret \tintra.time\n",
    "# 0 \t164044.0 \t6824.0 \t158990.0 \t6823.5 \t757667.0 \t6823.0 \t525.0 \t6822.5 \t145.0 \t6822.0 \t... \t181777.3 \t110937.2 \t6824.0 \t6824.5 \t6824.189497 \t6824.0 \t6824.5 \t0.000000 \t0.000000e+00 \t00:00:00\n",
    "# 1 \t164044.0 \t6824.0 \t158990.0 \t6823.5 \t757667.0 \t6823.0 \t525.0 \t6822.5 \t145.0 \t6822.0 \t... \t201777.8 \t110937.2 \t6824.0 \t6824.5 \t6824.177377 \t6824.0 \t6824.5 \t-0.012120 \t-1.776006e-06 \t00:00:02\n",
    "# 2 \t165676.0 \t6824.0 \t39524.0 \t6823.5 \t717556.0 \t6823.0 \t525.0 \t6822.5 \t145.0 \t6822.0 \t... \t193959.8 \t95168.2 \t6824.0 \t6824.5 \t6824.164578 \t6824.0 \t6824.5 \t-0.012800 \t-1.875614e-06 \t00:00:07\n",
    "# 3 \t165676.0 \t6824.0 \t109524.0 \t6823.5 \t717556.0 \t6823.0 \t525.0 \t6822.5 \t145.0 \t6822.0 \t... \t193959.8 \t102168.2 \t6824.0 \t6824.5 \t6824.172507 \t6824.0 \t6824.5 \t0.007929 \t1.161878e-06 \t00:00:08\n",
    "# 4 \t168544.0 \t6824.0 \t149697.0 \t6823.5 \t720556.0 \t6823.0 \t525.0 \t6822.5 \t145.0 \t6822.0 \t... \t120699.4 \t105685.5 \t6824.0 \t6824.5 \t6824.233420 \t6824.0 \t6824.5 \t0.060913 \t8.926042e-06 \t00:00:09\n",
    "# 5 \t170544.0 \t6824.0 \t137257.0 \t6823.5 \t732556.0 \t6823.0 \t525.0 \t6822.5 \t145.0 \t6822.0 \t... \t130706.7 \t104441.5 \t6824.0 \t6824.5 \t6824.222076 \t6824.0 \t6824.5 \t-0.011344 \t-1.662317e-06 \t00:00:09\n",
    "# 6 \t168544.0 \t6824.0 \t75566.0 \t6823.5 \t732747.0 \t6823.0 \t2475.0 \t6822.5 \t145.0 \t6822.0 \t... \t167106.6 \t99005.4 \t6824.0 \t6824.5 \t6824.186022 \t6824.0 \t6824.5 \t-0.036054 \t-5.283233e-06 \t00:00:10\n",
    "# 7 \t184246.0 \t6824.0 \t136784.0 \t6823.5 \t732747.0 \t6823.0 \t2475.0 \t6822.5 \t145.0 \t6822.0 \t... \t124429.3 \t105137.3 \t6824.0 \t6824.5 \t6824.228991 \t6824.0 \t6824.5 \t0.042969 \t6.296525e-06 \t00:00:11\n",
    "# 8 \t184246.0 \t6824.0 \t130784.0 \t6823.5 \t732747.0 \t6823.0 \t2475.0 \t6822.5 \t145.0 \t6822.0 \t... \t124429.3 \t104537.3 \t6824.0 \t6824.5 \t6824.228281 \t6824.0 \t6824.5 \t-0.000710 \t-1.040662e-07 \t00:00:14\n",
    "# 9 \t183246.0 \t6824.0 \t169516.0 \t6823.5 \t717102.0 \t6823.0 \t4275.0 \t6822.5 \t145.0 \t6822.0 \t... \t125566.8 \t107855.9 \t6824.0 \t6824.5 \t6824.231031 \t6824.0 \t6824.5 \t0.002751 \t4.030676e-07 \t00:00:15\n",
    "\n",
    "# 10 rows × 34 columns"
   ]
  },
  {
   "cell_type": "markdown",
   "metadata": {},
   "source": [
    "- plot the price"
   ]
  },
  {
   "cell_type": "code",
   "execution_count": 21,
   "metadata": {},
   "outputs": [],
   "source": [
    "# pip install plotly\n",
    "import matplotlib.pyplot as plt\n",
    "\n",
    "plt.figure(1, figsize=(16, 10))\n",
    "plt.plot(data[\"last\"].values);"
   ]
  },
  {
   "cell_type": "code",
   "execution_count": 22,
   "metadata": {},
   "outputs": [],
   "source": [
    "range_ = (data[\"intra.time\"] >=\"01:00:00\") & (data[\"intra.time\"]<\"23:00:00\") "
   ]
  },
  {
   "cell_type": "code",
   "execution_count": 23,
   "metadata": {},
   "outputs": [
    {
     "data": {
      "image/png": "[encoded data removed]",
      "text/plain": [
       "<Figure size 1152x720 with 1 Axes>"
      ]
     },
     "metadata": {
      "needs_background": "light"
     },
     "output_type": "display_data"
    }
   ],
   "source": [
    "plt.figure(1, figsize=(16, 10))\n",
    "plt.title(date)\n",
    "plt.plot(data[\"last\"][range_].values);"
   ]
  },
  {
   "cell_type": "code",
   "execution_count": 24,
   "metadata": {},
   "outputs": [],
   "source": [
    "def save(data, path):\n",
    "    serialized = cPickle.dumps(data)\n",
    "    with gzip.open(path, 'wb', compresslevel=1) as file_object:\n",
    "        file_object.write(serialized)"
   ]
  },
  {
   "cell_type": "code",
   "execution_count": 25,
   "metadata": {},
   "outputs": [],
   "source": [
    "import functools\n",
    "import dask\n",
    "from dask import compute, delayed\n",
    "def parLapply(CORE_NUM, iterable, func, *args, **kwargs):\n",
    "    with dask.config.set(scheduler='processes', num_workers=CORE_NUM):\n",
    "        f_par = functools.partial(func, *args, **kwargs)\n",
    "        result = compute([delayed(f_par)(item) for item in iterable])[0]\n",
    "    return result"
   ]
  },
  {
   "cell_type": "code",
   "execution_count": 273,
   "metadata": {},
   "outputs": [],
   "source": [
    "data = load(DATA_PATH+product+\"/\"+all_dates[0])"
   ]
  },
  {
   "cell_type": "code",
   "execution_count": 297,
   "metadata": {},
   "outputs": [],
   "source": [
    "## clean bitmex data\n",
    "def clean_crypto_data(date, product, level):\n",
    "    data = load(DATA_PATH + product+\"/\"+date)\n",
    "    data[\"intra.time\"] = np.array(list(map(lambda x: x[11:19] ,data[\"time\"])))\n",
    "    data[\"ask.qty\"] = data[list(map(lambda x:\"ask_\"+str(x)+\"_v\", range(level)))].sum(axis=1)/level\n",
    "    data[\"bid.qty\"] = data[list(map(lambda x:\"bid_\"+str(x)+\"_v\", range(level)))].sum(axis=1)/level\n",
    "    data[\"bid\"] = data[\"bid_0_p\"]\n",
    "    data[\"ask\"] = data[\"ask_0_p\"]\n",
    "    data[\"wpr\"] = (data[\"bid\"]*data[\"ask.qty\"]+data[\"ask\"]*data[\"bid.qty\"])/(data[\"bid.qty\"]+data[\"ask.qty\"])\n",
    "    next_bid = data[\"bid\"][1:]  \n",
    "    next_bid = np.array(next_bid.append(data[\"bid\"][-1:]))\n",
    "    data[\"next.bid\"] = next_bid\n",
    "    next_ask = data[\"ask\"][1:]  \n",
    "    next_ask = next_ask.append(data[\"ask\"][-1:])\n",
    "    data[\"next.ask\"] = np.array(next_ask)\n",
    "    pre_wpr = data[\"wpr\"].shift(1)\n",
    "    pre_wpr[0] = data[\"wpr\"][0]\n",
    "    data[\"wpr.ret\"] = data[\"wpr\"]-pre_wpr\n",
    "    data[\"ret\"] = np.log(data[\"wpr\"])-np.log(pre_wpr)\n",
    "    save(data, DATA_PATH + product+\"/\"+date)\n",
    "    "
   ]
  },
  {
   "cell_type": "code",
   "execution_count": 298,
   "metadata": {},
   "outputs": [
    {
     "name": "stdout",
     "output_type": "stream",
     "text": [
      "Wall time: 7min 4s\n"
     ]
    }
   ],
   "source": [
    "%%time\n",
    "for product in [\"btc.usd.td\", \"eth.usd.td\"]:\n",
    "    all_dates = list(map(lambda x: x,os.listdir(DATA_PATH + product)))\n",
    "    parLapply(CORE_NUM, all_dates, clean_crypto_data, product=product, level=10)\n",
    "## Wall time: 7min 4s\n"
   ]
  },
  {
   "cell_type": "code",
   "execution_count": 299,
   "metadata": {},
   "outputs": [
    {
     "name": "stdout",
     "output_type": "stream",
     "text": [
      "Wall time: 7min 35s\n"
     ]
    }
   ],
   "source": [
    "%%time\n",
    "for product in [\"btc.usdt\", \"eth.usdt\"]:\n",
    "    all_dates = list(map(lambda x: x,os.listdir(DATA_PATH + product)))\n",
    "    parLapply(CORE_NUM, all_dates, clean_crypto_data, product=product, level=20)\n",
    "    \n",
    "# Wall time: 7min 35s\n"
   ]
  },
  {
   "cell_type": "markdown",
   "metadata": {},
   "source": [
    "- plot price change"
   ]
  },
  {
   "cell_type": "markdown",
   "metadata": {},
   "source": [
    "- plot price log return"
   ]
  },
  {
   "cell_type": "code",
   "execution_count": 314,
   "metadata": {},
   "outputs": [
    {
     "data": {
      "image/png": "[encoded data removed]",
      "text/plain": [
       "<Figure size 1152x720 with 1 Axes>"
      ]
     },
     "metadata": {
      "needs_background": "light"
     },
     "output_type": "display_data"
    }
   ],
   "source": [
    "plt.figure(1, figsize=(16, 10))\n",
    "plt.title(date)\n",
    "plt.plot(data[\"ret\"].values);"
   ]
  },
  {
   "cell_type": "markdown",
   "metadata": {},
   "source": [
    "- count the number of rising ticks"
   ]
  },
  {
   "cell_type": "code",
   "execution_count": 315,
   "metadata": {},
   "outputs": [
    {
     "data": {
      "text/plain": [
       "0.48273452979510495"
      ]
     },
     "execution_count": 315,
     "metadata": {},
     "output_type": "execute_result"
    }
   ],
   "source": [
    "sum(data['ret']>0)/len(data)\n",
    "## 0.48273452979510495"
   ]
  },
  {
   "cell_type": "markdown",
   "metadata": {},
   "source": [
    "- count the number of falling ticks"
   ]
  },
  {
   "cell_type": "code",
   "execution_count": 317,
   "metadata": {},
   "outputs": [
    {
     "data": {
      "text/plain": [
       "0.4892169550925979"
      ]
     },
     "execution_count": 317,
     "metadata": {},
     "output_type": "execute_result"
    }
   ],
   "source": [
    "sum(data['ret']<0)/len(data)\n",
    "## 0.4892169550925979"
   ]
  },
  {
   "cell_type": "code",
   "execution_count": 319,
   "metadata": {},
   "outputs": [
    {
     "data": {
      "text/plain": [
       "0.028048515112297136"
      ]
     },
     "execution_count": 319,
     "metadata": {},
     "output_type": "execute_result"
    }
   ],
   "source": [
    "sum(data['ret']==0)/len(data)\n",
    "## 0.028048515112297136\n",
    "\n",
    "##    count the number of total ticks\n",
    "\n"
   ]
  },
  {
   "cell_type": "markdown",
   "metadata": {},
   "source": [
    "- count the number of total ticks"
   ]
  },
  {
   "cell_type": "code",
   "execution_count": 320,
   "metadata": {},
   "outputs": [
    {
     "data": {
      "text/plain": [
       "87313"
      ]
     },
     "execution_count": 320,
     "metadata": {},
     "output_type": "execute_result"
    }
   ],
   "source": [
    "len(data)\n",
    "## 87313"
   ]
  },
  {
   "cell_type": "markdown",
   "metadata": {},
   "source": [
    "- formula to calculate wpr:"
   ]
  },
  {
   "cell_type": "code",
   "execution_count": 321,
   "metadata": {},
   "outputs": [],
   "source": [
    "wpr = (data[\"bid\"]*data[\"ask.qty\"]+data[\"ask\"]*data[\"bid.qty\"])/(data[\"bid.qty\"]+data[\"ask.qty\"])"
   ]
  },
  {
   "cell_type": "markdown",
   "metadata": {},
   "source": [
    "- upper limit or lower limit"
   ]
  },
  {
   "cell_type": "code",
   "execution_count": 322,
   "metadata": {
    "scrolled": true
   },
   "outputs": [
    {
     "data": {
      "text/plain": [
       "0    6824.189497\n",
       "1    6824.177377\n",
       "2    6824.164578\n",
       "3    6824.172507\n",
       "4    6824.233420\n",
       "dtype: float64"
      ]
     },
     "execution_count": 322,
     "metadata": {},
     "output_type": "execute_result"
    }
   ],
   "source": [
    "wpr.head()\n",
    "# 0    6824.189497\n",
    "# 1    6824.177377\n",
    "# 2    6824.164578\n",
    "# 3    6824.172507\n",
    "# 4    6824.233420\n",
    "# dtype: float64"
   ]
  },
  {
   "cell_type": "code",
   "execution_count": 323,
   "metadata": {
    "scrolled": true
   },
   "outputs": [
    {
     "data": {
      "text/plain": [
       "0    6824.189497\n",
       "1    6824.177377\n",
       "2    6824.164578\n",
       "3    6824.172507\n",
       "4    6824.233420\n",
       "Name: wpr, dtype: float64"
      ]
     },
     "execution_count": 323,
     "metadata": {},
     "output_type": "execute_result"
    }
   ],
   "source": [
    "data[\"wpr\"].head()\n",
    "# 0    6824.189497\n",
    "# 1    6824.177377\n",
    "# 2    6824.164578\n",
    "# 3    6824.172507\n",
    "# 4    6824.233420\n",
    "# Name: wpr, dtype: float64"
   ]
  },
  {
   "cell_type": "code",
   "execution_count": 324,
   "metadata": {},
   "outputs": [
    {
     "data": {
      "text/plain": [
       "0"
      ]
     },
     "execution_count": 324,
     "metadata": {},
     "output_type": "execute_result"
    }
   ],
   "source": [
    "sum(abs(wpr - data[\"wpr\"]) > 0.00000001)\n",
    "## 0"
   ]
  },
  {
   "cell_type": "code",
   "execution_count": 362,
   "metadata": {},
   "outputs": [],
   "source": [
    "range_ = (data[\"intra.time\"] >=\"01:00:00\") & (data[\"intra.time\"]<\"23:00:00\") \n",
    "good = np.array(range_)"
   ]
  },
  {
   "cell_type": "code",
   "execution_count": 363,
   "metadata": {},
   "outputs": [],
   "source": [
    "data[\"good\"] = good"
   ]
  },
  {
   "cell_type": "markdown",
   "metadata": {},
   "source": [
    "- stationary test for return series"
   ]
  },
  {
   "cell_type": "markdown",
   "metadata": {},
   "source": [
    "- load related package"
   ]
  },
  {
   "cell_type": "code",
   "execution_count": 365,
   "metadata": {},
   "outputs": [],
   "source": [
    "import statsmodels.tsa.stattools as ts"
   ]
  },
  {
   "cell_type": "code",
   "execution_count": 366,
   "metadata": {},
   "outputs": [
    {
     "data": {
      "text/plain": [
       "(-41.77396074558912,\n",
       " 0.0,\n",
       " 43,\n",
       " 80063,\n",
       " {'1%': -3.9588830791388196,\n",
       "  '5%': -3.4105448382257495,\n",
       "  '10%': -3.127082295180388})"
      ]
     },
     "execution_count": 366,
     "metadata": {},
     "output_type": "execute_result"
    }
   ],
   "source": [
    "result = ts.adfuller(data[\"ret\"][data[\"good\"]], maxlag=int(pow(len(data[\"ret\"][data[\"good\"]])-1,(1/3))), regression='ct', autolag=None)\n",
    "result\n",
    "# (-41.77396074558912,\n",
    "#  0.0,\n",
    "#  43,\n",
    "#  80063,\n",
    "#  {'1%': -3.9588830791388196,\n",
    "#   '5%': -3.4105448382257495,\n",
    "#   '10%': -3.127082295180388})\n",
    "## for this test the smaller the value the more stationary it is\n",
    "## so it's stationary"
   ]
  },
  {
   "cell_type": "code",
   "execution_count": 368,
   "metadata": {},
   "outputs": [
    {
     "name": "stderr",
     "output_type": "stream",
     "text": [
      "d:\\Anaconda3\\lib\\site-packages\\statsmodels\\tsa\\stattools.py:1710: InterpolationWarning: p-value is greater than the indicated p-value\n",
      "  warn(\"p-value is greater than the indicated p-value\", InterpolationWarning)\n"
     ]
    },
    {
     "data": {
      "text/plain": [
       "(0.06053744451283559,\n",
       " 0.1,\n",
       " 65,\n",
       " {'10%': 0.347, '5%': 0.463, '2.5%': 0.574, '1%': 0.739})"
      ]
     },
     "execution_count": 368,
     "metadata": {},
     "output_type": "execute_result"
    }
   ],
   "source": [
    "result = ts.kpss(data[\"ret\"][data[\"good\"]], regression='c', lags=int(3*math.sqrt(len(data[\"ret\"][data[\"good\"]]))/13))\n",
    "result\n",
    "\n",
    "# (0.06053744451283559,\n",
    "#  0.1,\n",
    "#  65,\n",
    "#  {'10%': 0.347, '5%': 0.463, '2.5%': 0.574, '1%': 0.739})\n",
    "\n",
    "    ## for KPSS test, small value means level stationary, large value means trend\n",
    "    ## its p-value is 0.1 so it's stationary"
   ]
  },
  {
   "cell_type": "markdown",
   "metadata": {},
   "source": [
    "- get price movements of 120 ticks, it's about 1 minute"
   ]
  },
  {
   "cell_type": "code",
   "execution_count": 369,
   "metadata": {},
   "outputs": [],
   "source": [
    "ret_120 = (data[\"ret\"].rolling(120).sum()).dropna().reset_index(drop=True)"
   ]
  },
  {
   "cell_type": "markdown",
   "metadata": {},
   "source": [
    "- check correctness"
   ]
  },
  {
   "cell_type": "code",
   "execution_count": 371,
   "metadata": {},
   "outputs": [
    {
     "data": {
      "text/plain": [
       "3.0834566455695267e-06"
      ]
     },
     "execution_count": 371,
     "metadata": {},
     "output_type": "execute_result"
    }
   ],
   "source": [
    "sum(data[\"ret\"][0:120])\n",
    "## 3.0834566455695267e-06"
   ]
  },
  {
   "cell_type": "code",
   "execution_count": 373,
   "metadata": {},
   "outputs": [
    {
     "data": {
      "text/plain": [
       "3.0834566455695267e-06"
      ]
     },
     "execution_count": 373,
     "metadata": {},
     "output_type": "execute_result"
    }
   ],
   "source": [
    "ret_120.iloc[0]\n",
    "## 3.0834566455695267e-06"
   ]
  },
  {
   "cell_type": "markdown",
   "metadata": {},
   "source": [
    "- plot the price movements of 120 ticks"
   ]
  },
  {
   "cell_type": "code",
   "execution_count": 374,
   "metadata": {},
   "outputs": [
    {
     "data": {
      "image/png": "[encoded data removed]",
      "text/plain": [
       "<Figure size 1152x720 with 1 Axes>"
      ]
     },
     "metadata": {
      "needs_background": "light"
     },
     "output_type": "display_data"
    }
   ],
   "source": [
    "plt.figure(1, figsize=(16, 10))\n",
    "plt.title(date)\n",
    "plt.plot(ret_120.values);"
   ]
  },
  {
   "cell_type": "code",
   "execution_count": 375,
   "metadata": {},
   "outputs": [
    {
     "data": {
      "text/plain": [
       "87194"
      ]
     },
     "execution_count": 375,
     "metadata": {},
     "output_type": "execute_result"
    }
   ],
   "source": [
    "len(ret_120)\n",
    "## 87194"
   ]
  },
  {
   "cell_type": "code",
   "execution_count": 376,
   "metadata": {},
   "outputs": [
    {
     "data": {
      "text/plain": [
       "87313"
      ]
     },
     "execution_count": 376,
     "metadata": {},
     "output_type": "execute_result"
    }
   ],
   "source": [
    "len(data)\n",
    "## 87313"
   ]
  },
  {
   "cell_type": "code",
   "execution_count": 377,
   "metadata": {},
   "outputs": [],
   "source": [
    "range_120 = ((np.mod(np.arange(0, len(data)),120)==0) & data[\"good\"])[119:]"
   ]
  },
  {
   "cell_type": "code",
   "execution_count": 379,
   "metadata": {},
   "outputs": [
    {
     "data": {
      "text/plain": [
       "87194"
      ]
     },
     "execution_count": 379,
     "metadata": {},
     "output_type": "execute_result"
    }
   ],
   "source": [
    "len(ret_120)\n",
    "## 65847"
   ]
  },
  {
   "cell_type": "code",
   "execution_count": 380,
   "metadata": {},
   "outputs": [
    {
     "data": {
      "text/plain": [
       "3721    -0.000724\n",
       "3841    -0.000614\n",
       "3961    -0.000109\n",
       "4081    -0.000748\n",
       "4201     0.000273\n",
       "           ...   \n",
       "83161    0.000391\n",
       "83281   -0.000838\n",
       "83401   -0.000019\n",
       "83521   -0.000064\n",
       "83641    0.000576\n",
       "Name: ret, Length: 667, dtype: float64"
      ]
     },
     "execution_count": 380,
     "metadata": {},
     "output_type": "execute_result"
    }
   ],
   "source": [
    "ret_120.iloc[np.where(range_120)]\n",
    "\n",
    "# 3721    -0.000724\n",
    "# 3841    -0.000614\n",
    "# 3961    -0.000109\n",
    "# 4081    -0.000748\n",
    "# 4201     0.000273\n",
    "#            ...   \n",
    "# 83161    0.000391\n",
    "# 83281   -0.000838\n",
    "# 83401   -0.000019\n",
    "# 83521   -0.000064\n",
    "# 83641    0.000576\n",
    "# Name: ret, Length: 667, dtype: float64"
   ]
  },
  {
   "cell_type": "markdown",
   "metadata": {},
   "source": [
    "- test whether ret.120 is stationary"
   ]
  },
  {
   "cell_type": "code",
   "execution_count": 381,
   "metadata": {},
   "outputs": [
    {
     "data": {
      "text/plain": [
       "(-8.942964397698928,\n",
       " 4.885495713168213e-13,\n",
       " 8,\n",
       " 658,\n",
       " {'1%': -3.972594640577458,\n",
       "  '5%': -3.417183369789282,\n",
       "  '10%': -3.1309886272580587})"
      ]
     },
     "execution_count": 381,
     "metadata": {},
     "output_type": "execute_result"
    }
   ],
   "source": [
    "result = ts.adfuller(ret_120.iloc[np.where(range_120)], maxlag=int(pow(len(ret_120.iloc[np.where(range_120)])-1,(1/3))), regression='ct', autolag=None)\n",
    "result\n",
    "\n",
    "# (-8.942964397698928,\n",
    "#  4.885495713168213e-13,\n",
    "#  8,\n",
    "#  658,\n",
    "#  {'1%': -3.972594640577458,\n",
    "#   '5%': -3.417183369789282,\n",
    "#   '10%': -3.1309886272580587})"
   ]
  },
  {
   "cell_type": "code",
   "execution_count": 382,
   "metadata": {},
   "outputs": [
    {
     "name": "stderr",
     "output_type": "stream",
     "text": [
      "d:\\Anaconda3\\lib\\site-packages\\statsmodels\\tsa\\stattools.py:1710: InterpolationWarning: p-value is greater than the indicated p-value\n",
      "  warn(\"p-value is greater than the indicated p-value\", InterpolationWarning)\n"
     ]
    },
    {
     "data": {
      "text/plain": [
       "(0.08206295615653249,\n",
       " 0.1,\n",
       " 5,\n",
       " {'10%': 0.347, '5%': 0.463, '2.5%': 0.574, '1%': 0.739})"
      ]
     },
     "execution_count": 382,
     "metadata": {},
     "output_type": "execute_result"
    }
   ],
   "source": [
    "result = ts.kpss(ret_120.iloc[np.where(range_120)], regression='c', lags=int(3*math.sqrt(len(ret_120.iloc[np.where(range_120)]))/13))\n",
    "result\n",
    "\n",
    "# (0.08206295615653249,\n",
    "#  0.1,\n",
    "#  5,\n",
    "#  {'10%': 0.347, '5%': 0.463, '2.5%': 0.574, '1%': 0.739})\n",
    "\n",
    "## it's still stationary"
   ]
  },
  {
   "cell_type": "markdown",
   "metadata": {},
   "source": [
    "- we can check longer period"
   ]
  },
  {
   "cell_type": "code",
   "execution_count": 383,
   "metadata": {},
   "outputs": [],
   "source": [
    "ret_2000 = (data[\"ret\"].rolling(2000).sum()).dropna().reset_index(drop=True)"
   ]
  },
  {
   "cell_type": "markdown",
   "metadata": {},
   "source": [
    "- plot the price change"
   ]
  },
  {
   "cell_type": "code",
   "execution_count": 384,
   "metadata": {},
   "outputs": [
    {
     "data": {
      "image/png": "[encoded data removed]",
      "text/plain": [
       "<Figure size 1152x720 with 1 Axes>"
      ]
     },
     "metadata": {
      "needs_background": "light"
     },
     "output_type": "display_data"
    }
   ],
   "source": [
    "plt.figure(1, figsize=(16, 10))\n",
    "plt.title(date)\n",
    "plt.plot(ret_2000.values);"
   ]
  },
  {
   "cell_type": "code",
   "execution_count": 386,
   "metadata": {},
   "outputs": [
    {
     "data": {
      "text/plain": [
       "40"
      ]
     },
     "execution_count": 386,
     "metadata": {},
     "output_type": "execute_result"
    }
   ],
   "source": [
    "sum((np.mod(np.arange(1, len(data)+1),2000)==0) & (data[\"good\"]))\n",
    "## 40"
   ]
  },
  {
   "cell_type": "markdown",
   "metadata": {},
   "source": [
    "- So there are too few points to test for stationary"
   ]
  },
  {
   "cell_type": "code",
   "execution_count": 387,
   "metadata": {},
   "outputs": [],
   "source": [
    "import pandas as pd\n",
    "import _pickle as cPickle\n",
    "import gzip"
   ]
  },
  {
   "cell_type": "markdown",
   "metadata": {},
   "source": [
    "- there may be too few data\n",
    "- we can check for more days"
   ]
  },
  {
   "cell_type": "code",
   "execution_count": 388,
   "metadata": {},
   "outputs": [],
   "source": [
    "def get_sample_ret(date, period):\n",
    "    data = load(DATA_PATH + product+\"/\"+date)\n",
    "    ret = (data[\"ret\"].rolling(period).sum()).dropna().reset_index(drop=True)\n",
    "    range_ = (data[\"intra.time\"] >=\"01:00:00\") & (data[\"intra.time\"]<\"23:00:00\") \n",
    "    good = np.array(range_)\n",
    "    range = ((np.mod(np.arange(0, len(data)),period)==0) & good)[(period-1):]\n",
    "    return ret.iloc[np.where(range)]\n"
   ]
  },
  {
   "cell_type": "code",
   "execution_count": 389,
   "metadata": {},
   "outputs": [],
   "source": [
    "import functools\n",
    "import dask\n",
    "from dask import compute, delayed\n",
    "def parLapply(CORE_NUM, iterable, func, *args, **kwargs):\n",
    "    with dask.config.set(scheduler='processes', num_workers=CORE_NUM):\n",
    "        f_par = functools.partial(func, *args, **kwargs)\n",
    "        result = compute([delayed(f_par)(item) for item in iterable])[0]\n",
    "    return result"
   ]
  },
  {
   "cell_type": "code",
   "execution_count": 390,
   "metadata": {},
   "outputs": [
    {
     "name": "stdout",
     "output_type": "stream",
     "text": [
      "Wall time: 25 s\n"
     ]
    },
    {
     "data": {
      "text/plain": [
       "''"
      ]
     },
     "execution_count": 390,
     "metadata": {},
     "output_type": "execute_result"
    }
   ],
   "source": [
    "%%time\n",
    "result = parLapply(CORE_NUM, all_dates, get_sample_ret, period=4096)\n",
    ";\n",
    "\n",
    "# Wall time: 1min 29s"
   ]
  },
  {
   "cell_type": "code",
   "execution_count": 391,
   "metadata": {},
   "outputs": [],
   "source": [
    "from itertools import chain "
   ]
  },
  {
   "cell_type": "code",
   "execution_count": 392,
   "metadata": {},
   "outputs": [],
   "source": [
    "ret_long = list(chain.from_iterable(result)) "
   ]
  },
  {
   "cell_type": "code",
   "execution_count": 393,
   "metadata": {},
   "outputs": [
    {
     "data": {
      "image/png": "[encoded data removed]",
      "text/plain": [
       "<Figure size 1152x720 with 1 Axes>"
      ]
     },
     "metadata": {
      "needs_background": "light"
     },
     "output_type": "display_data"
    }
   ],
   "source": [
    "plt.figure(1, figsize=(16, 10))\n",
    "plt.title(\"all return_long\")\n",
    "plt.plot(ret_long);"
   ]
  },
  {
   "cell_type": "code",
   "execution_count": 394,
   "metadata": {},
   "outputs": [
    {
     "data": {
      "text/plain": [
       "(-15.628947583840983,\n",
       " 1.288422474795716e-22,\n",
       " 16,\n",
       " 4652,\n",
       " {'1%': -3.9607173811520027,\n",
       "  '5%': -3.4114341841115707,\n",
       "  '10%': -3.1276059855454155})"
      ]
     },
     "execution_count": 394,
     "metadata": {},
     "output_type": "execute_result"
    }
   ],
   "source": [
    "result = ts.adfuller(ret_long, maxlag=int(pow(len(ret_long)-1,(1/3))), regression='ct', autolag=None)\n",
    "result\n",
    "\n",
    "# (-15.628947583840983,\n",
    "#  1.288422474795716e-22,\n",
    "#  16,\n",
    "#  4652,\n",
    "#  {'1%': -3.9607173811520027,\n",
    "#   '5%': -3.4114341841115707,\n",
    "#   '10%': -3.1276059855454155})\n",
    "\n",
    "## it's still stationary"
   ]
  },
  {
   "cell_type": "code",
   "execution_count": 395,
   "metadata": {},
   "outputs": [
    {
     "name": "stderr",
     "output_type": "stream",
     "text": [
      "d:\\Anaconda3\\lib\\site-packages\\statsmodels\\tsa\\stattools.py:1710: InterpolationWarning: p-value is greater than the indicated p-value\n",
      "  warn(\"p-value is greater than the indicated p-value\", InterpolationWarning)\n"
     ]
    },
    {
     "data": {
      "text/plain": [
       "(0.15781719801555066,\n",
       " 0.1,\n",
       " 15,\n",
       " {'10%': 0.347, '5%': 0.463, '2.5%': 0.574, '1%': 0.739})"
      ]
     },
     "execution_count": 395,
     "metadata": {},
     "output_type": "execute_result"
    }
   ],
   "source": [
    "result = ts.kpss(ret_long, regression='c', lags=int(3*math.sqrt(len(ret_long))/13))\n",
    "result\n",
    "\n",
    "# (0.15781719801555066,\n",
    "#  0.1,\n",
    "#  15,\n",
    "#  {'10%': 0.347, '5%': 0.463, '2.5%': 0.574, '1%': 0.739})\n",
    "\n",
    "# ## p-value is 0.1 so it's stationary"
   ]
  },
  {
   "cell_type": "markdown",
   "metadata": {},
   "source": [
    "- we can see that, it's still stationary for 4096 ticks\n",
    "\n",
    "\n",
    "- check simple strategy\n",
    "\n",
    "\n",
    "- set triger threshold"
   ]
  },
  {
   "cell_type": "code",
   "execution_count": 396,
   "metadata": {},
   "outputs": [
    {
     "data": {
      "text/plain": [
       "4669"
      ]
     },
     "execution_count": 396,
     "metadata": {},
     "output_type": "execute_result"
    }
   ],
   "source": [
    "threshold = 0.001\n",
    "len(ret_long)\n",
    "# 4669"
   ]
  },
  {
   "cell_type": "markdown",
   "metadata": {},
   "source": [
    "\n",
    "- make up the return series to match uo with original data"
   ]
  },
  {
   "cell_type": "markdown",
   "metadata": {},
   "source": [
    "- plot price series"
   ]
  },
  {
   "cell_type": "markdown",
   "metadata": {},
   "source": [
    "- number of ticks above the threshold, to be long position"
   ]
  },
  {
   "cell_type": "code",
   "execution_count": 398,
   "metadata": {},
   "outputs": [
    {
     "data": {
      "text/plain": [
       "2031"
      ]
     },
     "execution_count": 398,
     "metadata": {},
     "output_type": "execute_result"
    }
   ],
   "source": [
    "sum(np.array(ret_long)>threshold)\n",
    "## 2031"
   ]
  },
  {
   "cell_type": "markdown",
   "metadata": {},
   "source": [
    "- number of ticks below negetive threshold, to be short position"
   ]
  },
  {
   "cell_type": "code",
   "execution_count": 400,
   "metadata": {},
   "outputs": [
    {
     "data": {
      "text/plain": [
       "1946"
      ]
     },
     "execution_count": 400,
     "metadata": {},
     "output_type": "execute_result"
    }
   ],
   "source": [
    "sum(np.array(ret_long)< -threshold)\n",
    "## 1946"
   ]
  },
  {
   "cell_type": "markdown",
   "metadata": {},
   "source": [
    "- set position\n",
    "\n",
    "\n",
    "- number of ticks"
   ]
  },
  {
   "cell_type": "markdown",
   "metadata": {},
   "source": [
    "## ############## The following part is bad example of trading ##########"
   ]
  },
  {
   "cell_type": "markdown",
   "metadata": {},
   "source": [
    "- set position just the sanme as signal"
   ]
  },
  {
   "cell_type": "code",
   "execution_count": 401,
   "metadata": {},
   "outputs": [],
   "source": [
    "## backtest method: signal value decides position\n",
    "from collections import OrderedDict\n",
    "def get_daily_pnl_fast(date, product=\"rb\", period=4096, tranct_ratio=False, threshold=0.001, tranct=0.21, noise=0):\n",
    "    with gzip.open(dire+\"/\"+date, 'rb', compresslevel=1) as file_object:\n",
    "        raw_data = file_object.read()\n",
    "    ori_data = cPickle.loads(raw_data) ## original data\n",
    "    range_ = (ori_data[\"intra.time\"] >=\"01:00:00\") & (ori_data[\"intra.time\"]<\"23:00:00\") \n",
    "    good = np.array(range_)\n",
    "    data=ori_data[good] ## the middle day of original data\n",
    "    n_bar = len(data)  ## number of bars\n",
    "    unit = np.std(data[\"ret\"]) ## standard deviation of return\n",
    "    np.random.seed(10)\n",
    "    ##  we repeat the above code to get daily result\n",
    "    ret_long = (data[\"ret\"].rolling(period).sum()).dropna().reset_index(drop=True) ## future return, used as signal\n",
    "    ret_long = ret_long.append(pd.Series([0]*(len(data)-len(ret_long)))).reset_index(drop=True)\n",
    "    signal = pd.Series([0] * n_bar)\n",
    "    signal[(ret_long>threshold) & (np.array(data[\"next.ask\"])>0)] = 1 ## signal>thre, position =1\n",
    "    signal[(ret_long< -threshold) & (np.array(data[\"next.bid\"])>0)] = -1 ## signal< -thre, position = -1\n",
    "    position=signal\n",
    "    position[0]=0\n",
    "    position[n_bar-1] = 0 ## close position before the end of day\n",
    "    position[n_bar-2] = 0\n",
    "    change_pos = position - position.shift(1)\n",
    "    change_pos[0] = 0\n",
    "    change_base = np.zeros(n_bar)\n",
    "    change_buy = np.array(change_pos>0)\n",
    "    change_sell = np.array(change_pos<0)\n",
    "    if (tranct_ratio):\n",
    "        change_base[change_buy] = data[\"next.ask\"][change_buy]*(1+tranct) ## buy price, use next ask, tranct cost use notional*ratio\n",
    "        change_base[change_sell] = data[\"next.bid\"][change_sell]*(1-tranct) ## sell price use next bid\n",
    "    else:\n",
    "        change_base[change_buy] = data[\"next.ask\"][change_buy]+tranct ## fix tranct cost per share\n",
    "        change_base[change_sell] = data[\"next.bid\"][change_sell]-tranct\n",
    "    final_pnl = -sum(change_base*change_pos) ## total pnl, there is a negative sign, because selling get money and buying pay money\n",
    "    turnover = sum(change_base*abs(change_pos))\n",
    "    num = sum((position!=0) & (change_pos!=0)) ## number of trades\n",
    "    hld_period = sum(position!=0)   ## holding period\n",
    "    ## finally we combine the statistics into a data frame\n",
    "    #result = pd.DataFrame({\"final.pnl\": final_pnl, \"turnover\": turnover, \"num\": num, \"hld.period\": hld_period}, index=[0])\n",
    "    #result = {\"date\": date, \"final.pnl\": final_pnl, \"turnover\": turnover, \"num\": num, \"hld.period\": hld_period}\n",
    "    result = OrderedDict([(\"date\", date), (\"final.pnl\", final_pnl), (\"turnover\", turnover), (\"num\", num), (\"hld.period\", hld_period)])\n",
    "    return result"
   ]
  },
  {
   "cell_type": "markdown",
   "metadata": {},
   "source": [
    "- we try one day as an example"
   ]
  },
  {
   "cell_type": "code",
   "execution_count": 402,
   "metadata": {},
   "outputs": [
    {
     "data": {
      "text/plain": [
       "OrderedDict([('date', '2019-11-27.pkl'),\n",
       "             ('final.pnl', -1066.6482500000857),\n",
       "             ('turnover', 3079530.06775),\n",
       "             ('num', 212),\n",
       "             ('hld.period', 106071)])"
      ]
     },
     "execution_count": 402,
     "metadata": {},
     "output_type": "execute_result"
    }
   ],
   "source": [
    "import dask\n",
    "from dask import compute, delayed\n",
    "\n",
    "get_daily_pnl_fast(all_dates[0], product=\"btc.usd.td\", period=4096, tranct_ratio=True, threshold=0.001, tranct=7.5e-4)\n",
    "# OrderedDict([('date', '2019-11-27.pkl'),\n",
    "#              ('final.pnl', -1066.6482500000857),\n",
    "#              ('turnover', 3079530.06775),\n",
    "#              ('num', 212),\n",
    "#              ('hld.period', 106071)])"
   ]
  },
  {
   "cell_type": "markdown",
   "metadata": {},
   "source": [
    "- Then we use it for all days"
   ]
  },
  {
   "cell_type": "code",
   "execution_count": 403,
   "metadata": {},
   "outputs": [
    {
     "name": "stdout",
     "output_type": "stream",
     "text": [
      "Wall time: 26.5 s\n"
     ]
    }
   ],
   "source": [
    "%%time\n",
    "import functools\n",
    "with dask.config.set(scheduler='processes', num_workers=CORE_NUM):\n",
    "    f_par = functools.partial(get_daily_pnl_fast, product=\"btc.usd.td\", period=4096, tranct_ratio=True, threshold=0.001, tranct=7.5e-4, noise=0)\n",
    "    result = compute([delayed(f_par)(date) for date in all_dates])[0]\n",
    "    \n",
    "# Wall time: 26.5 s"
   ]
  },
  {
   "cell_type": "markdown",
   "metadata": {},
   "source": [
    "- Now we can use a function to check its performance"
   ]
  },
  {
   "cell_type": "code",
   "execution_count": 406,
   "metadata": {},
   "outputs": [],
   "source": [
    "from collections import OrderedDict\n",
    "def get_performance(result, spread=1):\n",
    "    aa = pd.DataFrame(result)\n",
    "    aa.set_index(\"date\", inplace=True)\n",
    "    col_names = aa.columns\n",
    "    row_names = aa.index\n",
    "    stat = aa.values\n",
    "    stat = np.array(np.rec.fromrecords(aa.values))\n",
    "    np_names = aa.dtypes.index.tolist()\n",
    "    stat.dtype.names = tuple([name for name in np_names])\n",
    "    stat = pd.DataFrame(stat)\n",
    "    pnl = stat[\"final.pnl\"].cumsum()\n",
    "    date_str = [n[0:10] for n in row_names]\n",
    "    date_format = [pd.to_datetime(d) for d in date_str]\n",
    "    plt.figure(1, figsize=(16, 10))\n",
    "    plt.title(\"\")\n",
    "    plt.xlabel(\"date\")\n",
    "    plt.ylabel(\"pnl\")\n",
    "    plt.plot(date_format, pnl)\n",
    "    n_days = len(stat)\n",
    "    num = stat[\"num\"].mean()\n",
    "    if num==0:\n",
    "        return;\n",
    "    if (stat[\"final.pnl\"].std()==0):\n",
    "        sharpe = 0\n",
    "    else:\n",
    "        sharpe = stat[\"final.pnl\"].mean()/stat[\"final.pnl\"].std()*math.sqrt(250)\n",
    "    drawdown = max(pnl.cummax()-pnl)/pnl.iloc[-1]\n",
    "    mar = 1/drawdown\n",
    "    win_ratio = sum(stat[\"final.pnl\"]>0)/n_days\n",
    "   \n",
    "    avg_pnl = sum(stat[\"final.pnl\"])/sum(stat[\"num\"])/spread\n",
    "    hld_period = sum(stat[\"hld.period\"])/sum(stat[\"num\"])\n",
    "    return OrderedDict([(\"sharpe\", sharpe), (\"drawdown\", drawdown), (\"mar\", mar), (\"win.ratio\", win_ratio)\n",
    "                        , (\"num\", num), (\"avg.pnl\", avg_pnl), (\"hld.period\", hld_period)])"
   ]
  },
  {
   "cell_type": "code",
   "execution_count": 407,
   "metadata": {},
   "outputs": [
    {
     "data": {
      "text/html": [
       "<div>\n",
       "<style scoped>\n",
       "    .dataframe tbody tr th:only-of-type {\n",
       "        vertical-align: middle;\n",
       "    }\n",
       "\n",
       "    .dataframe tbody tr th {\n",
       "        vertical-align: top;\n",
       "    }\n",
       "\n",
       "    .dataframe thead th {\n",
       "        text-align: right;\n",
       "    }\n",
       "</style>\n",
       "<table border=\"1\" class=\"dataframe\">\n",
       "  <thead>\n",
       "    <tr style=\"text-align: right;\">\n",
       "      <th></th>\n",
       "      <th>sharpe</th>\n",
       "      <th>drawdown</th>\n",
       "      <th>mar</th>\n",
       "      <th>win.ratio</th>\n",
       "      <th>num</th>\n",
       "      <th>avg.pnl</th>\n",
       "      <th>hld.period</th>\n",
       "    </tr>\n",
       "  </thead>\n",
       "  <tbody>\n",
       "    <tr>\n",
       "      <th>0</th>\n",
       "      <td>-46.188484</td>\n",
       "      <td>-0.995567</td>\n",
       "      <td>-1.004453</td>\n",
       "      <td>0.0</td>\n",
       "      <td>183.201149</td>\n",
       "      <td>-7.547517</td>\n",
       "      <td>540.060545</td>\n",
       "    </tr>\n",
       "  </tbody>\n",
       "</table>\n",
       "</div>"
      ],
      "text/plain": [
       "      sharpe  drawdown       mar  win.ratio         num   avg.pnl  hld.period\n",
       "0 -46.188484 -0.995567 -1.004453        0.0  183.201149 -7.547517  540.060545"
      ]
     },
     "execution_count": 407,
     "metadata": {},
     "output_type": "execute_result"
    },
    {
     "data": {
      "image/png": "[encoded data removed]",
      "text/plain": [
       "<Figure size 1152x720 with 1 Axes>"
      ]
     },
     "metadata": {
      "needs_background": "light"
     },
     "output_type": "display_data"
    }
   ],
   "source": [
    "pd.DataFrame(get_performance(result, 1), index=[0])\n",
    "\n",
    "# sharpe \tdrawdown \tmar \twin.ratio \tnum \tavg.pnl \thld.period\n",
    "# 0 \t-46.188484 \t-0.995567 \t-1.004453 \t0.0 \t183.201149 \t-7.547517 \t540.060545\n",
    "\n"
   ]
  },
  {
   "cell_type": "markdown",
   "metadata": {},
   "source": [
    "- we can see it's really bad\n",
    "- we can try increasing threshold"
   ]
  },
  {
   "cell_type": "code",
   "execution_count": 408,
   "metadata": {},
   "outputs": [
    {
     "name": "stdout",
     "output_type": "stream",
     "text": [
      "Wall time: 26 s\n"
     ]
    }
   ],
   "source": [
    "%%time\n",
    "import functools\n",
    "with dask.config.set(scheduler='processes', num_workers=CORE_NUM):\n",
    "    f_par = functools.partial(get_daily_pnl_fast, product=\"btc.usd.td\", period=4096, tranct_ratio=True, threshold=0.01, tranct=7.5e-4, noise=0)\n",
    "    result_2 = compute([delayed(f_par)(date) for date in all_dates])[0]\n",
    "    \n",
    "# Wall time: 26 s\n"
   ]
  },
  {
   "cell_type": "code",
   "execution_count": 409,
   "metadata": {},
   "outputs": [
    {
     "data": {
      "text/html": [
       "<div>\n",
       "<style scoped>\n",
       "    .dataframe tbody tr th:only-of-type {\n",
       "        vertical-align: middle;\n",
       "    }\n",
       "\n",
       "    .dataframe tbody tr th {\n",
       "        vertical-align: top;\n",
       "    }\n",
       "\n",
       "    .dataframe thead th {\n",
       "        text-align: right;\n",
       "    }\n",
       "</style>\n",
       "<table border=\"1\" class=\"dataframe\">\n",
       "  <thead>\n",
       "    <tr style=\"text-align: right;\">\n",
       "      <th></th>\n",
       "      <th>sharpe</th>\n",
       "      <th>drawdown</th>\n",
       "      <th>mar</th>\n",
       "      <th>win.ratio</th>\n",
       "      <th>num</th>\n",
       "      <th>avg.pnl</th>\n",
       "      <th>hld.period</th>\n",
       "    </tr>\n",
       "  </thead>\n",
       "  <tbody>\n",
       "    <tr>\n",
       "      <th>0</th>\n",
       "      <td>-10.958797</td>\n",
       "      <td>-1.006272</td>\n",
       "      <td>-0.993767</td>\n",
       "      <td>0.103448</td>\n",
       "      <td>48.45977</td>\n",
       "      <td>-5.275308</td>\n",
       "      <td>209.385792</td>\n",
       "    </tr>\n",
       "  </tbody>\n",
       "</table>\n",
       "</div>"
      ],
      "text/plain": [
       "      sharpe  drawdown       mar  win.ratio       num   avg.pnl  hld.period\n",
       "0 -10.958797 -1.006272 -0.993767   0.103448  48.45977 -5.275308  209.385792"
      ]
     },
     "execution_count": 409,
     "metadata": {},
     "output_type": "execute_result"
    },
    {
     "data": {
      "image/png": "[encoded data removed]",
      "text/plain": [
       "<Figure size 1152x720 with 1 Axes>"
      ]
     },
     "metadata": {
      "needs_background": "light"
     },
     "output_type": "display_data"
    }
   ],
   "source": [
    "pd.DataFrame(get_performance(result_2), index=[0])\n",
    "\n",
    "# sharpe \tdrawdown \tmar \twin.ratio \tnum \tavg.pnl \thld.period\n",
    "# 0 \t-10.958797 \t-1.006272 \t-0.993767 \t0.103448 \t48.45977 \t-5.275308 \t209.385792"
   ]
  },
  {
   "cell_type": "code",
   "execution_count": 410,
   "metadata": {},
   "outputs": [
    {
     "name": "stdout",
     "output_type": "stream",
     "text": [
      "Wall time: 26.2 s\n"
     ]
    }
   ],
   "source": [
    "%%time\n",
    "import functools\n",
    "with dask.config.set(scheduler='processes', num_workers=CORE_NUM):\n",
    "    f_par = functools.partial(get_daily_pnl_fast, product=\"btc.usd.td\", period=4096, tranct_ratio=True, threshold=0.02, tranct=7.5e-4, noise=0)\n",
    "    result_3 = compute([delayed(f_par)(date) for date in all_dates])[0]\n",
    "    \n",
    "## Wall time: 26.2 s\n",
    "    "
   ]
  },
  {
   "cell_type": "code",
   "execution_count": 411,
   "metadata": {},
   "outputs": [
    {
     "data": {
      "text/html": [
       "<div>\n",
       "<style scoped>\n",
       "    .dataframe tbody tr th:only-of-type {\n",
       "        vertical-align: middle;\n",
       "    }\n",
       "\n",
       "    .dataframe tbody tr th {\n",
       "        vertical-align: top;\n",
       "    }\n",
       "\n",
       "    .dataframe thead th {\n",
       "        text-align: right;\n",
       "    }\n",
       "</style>\n",
       "<table border=\"1\" class=\"dataframe\">\n",
       "  <thead>\n",
       "    <tr style=\"text-align: right;\">\n",
       "      <th></th>\n",
       "      <th>sharpe</th>\n",
       "      <th>drawdown</th>\n",
       "      <th>mar</th>\n",
       "      <th>win.ratio</th>\n",
       "      <th>num</th>\n",
       "      <th>avg.pnl</th>\n",
       "      <th>hld.period</th>\n",
       "    </tr>\n",
       "  </thead>\n",
       "  <tbody>\n",
       "    <tr>\n",
       "      <th>0</th>\n",
       "      <td>-6.566978</td>\n",
       "      <td>-1.027269</td>\n",
       "      <td>-0.973454</td>\n",
       "      <td>0.074713</td>\n",
       "      <td>18.304598</td>\n",
       "      <td>-4.218169</td>\n",
       "      <td>156.06562</td>\n",
       "    </tr>\n",
       "  </tbody>\n",
       "</table>\n",
       "</div>"
      ],
      "text/plain": [
       "     sharpe  drawdown       mar  win.ratio        num   avg.pnl  hld.period\n",
       "0 -6.566978 -1.027269 -0.973454   0.074713  18.304598 -4.218169   156.06562"
      ]
     },
     "execution_count": 411,
     "metadata": {},
     "output_type": "execute_result"
    },
    {
     "data": {
      "image/png": "[encoded data removed]",
      "text/plain": [
       "<Figure size 1152x720 with 1 Axes>"
      ]
     },
     "metadata": {
      "needs_background": "light"
     },
     "output_type": "display_data"
    }
   ],
   "source": [
    "pd.DataFrame(get_performance(result_3, 1), index=[0])\n",
    "\n",
    "# \tsharpe \tdrawdown \tmar \twin.ratio \tnum \tavg.pnl \thld.period\n",
    "# 0 \t-6.566978 \t-1.027269 \t-0.973454 \t0.074713 \t18.304598 \t-4.218169 \t156.06562"
   ]
  },
  {
   "cell_type": "markdown",
   "metadata": {},
   "source": [
    "- Although it's profitable there are very few trades.\n",
    "- Now we use a different scheme.\n",
    "- In previous scheme, we close our position when the value is not strong enough.\n",
    "- It may close the positions too soon that it cannot cover transaction cost on average\n",
    "- So we change our backtest method to make it holding positions longer"
   ]
  },
  {
   "cell_type": "code",
   "execution_count": 415,
   "metadata": {},
   "outputs": [],
   "source": [
    "## backtest use good method\n",
    "from collections import OrderedDict\n",
    "def get_daily_pnl(date, product=\"rb\", period=2000, tranct_ratio=False, threshold=0.001, tranct=1.1e-4, noise=0):\n",
    "    with gzip.open(dire+\"/\"+date, 'rb', compresslevel=1) as file_object:\n",
    "        raw_data = file_object.read()\n",
    "    data = cPickle.loads(raw_data)\n",
    "    range_ = (data[\"intra.time\"] >=\"01:00:00\") & (data[\"intra.time\"]<\"23:00:00\") \n",
    "    good = np.array(range_)\n",
    "    data = data[good].reset_index(drop=True)\n",
    "    n_bar = len(data)\n",
    "    unit = np.std(data[\"ret\"])\n",
    "    np.random.seed(10)\n",
    "    noise_ret = np.random.normal(scale=unit*noise, size=n_bar)\n",
    "    ##  we repeat the above code to get daily result\n",
    "    ret_2000 = (data[\"ret\"].rolling(period).sum()).dropna().reset_index(drop=True)\n",
    "    ret_2000 = ret_2000.append(pd.Series([0]*(len(data)-len(ret_2000)))).reset_index(drop=True) + noise_ret\n",
    "    signal = pd.Series([0] * n_bar)\n",
    "    signal[ret_2000>threshold] = 1 #\n",
    "    signal[ret_2000< -threshold] = -1\n",
    "    position_pos = pd.Series([np.nan] * n_bar)\n",
    "    position_pos[0] = 0\n",
    "    position_pos[(signal==1) & (data[\"next.ask\"]>0) & (data[\"next.bid\"]>0)] = 1## if signal==1, position_pos=1\n",
    "    position_pos[(ret_2000< -threshold) & (data[\"next.bid\"]>0)] = 0  ## if ret< -threshold, position_pos=0\n",
    "    position_pos.ffill(inplace=True)\n",
    "    position_neg = pd.Series([np.nan] * n_bar)\n",
    "    position_neg[0] = 0\n",
    "    position_neg[(signal==-1) & (data[\"next.ask\"]>0) & (data[\"next.bid\"]>0)] = -1 ## if signal==-1, position_neg=-1\n",
    "    position_neg[(ret_2000> threshold) & (data[\"next.ask\"]>0)] = 0 ## if ret> threshold, position_neg=0\n",
    "    position_neg.ffill(inplace=True)\n",
    "    position = position_pos + position_neg ## total position\n",
    "    position[0]=0\n",
    "    position[n_bar-1] = 0\n",
    "    position[n_bar-2] = 0\n",
    "    change_pos = position - position.shift(1)\n",
    "    change_pos[0] = 0\n",
    "    change_base = pd.Series([0] * n_bar)\n",
    "    change_buy = change_pos>0\n",
    "    change_sell = change_pos<0\n",
    "    if (tranct_ratio):\n",
    "        change_base[change_buy] = data[\"next.ask\"][change_buy]*(1+tranct)\n",
    "        change_base[change_sell] = data[\"next.bid\"][change_sell]*(1-tranct)\n",
    "    else:\n",
    "        change_base[change_buy] = data[\"next.ask\"][change_buy]+tranct\n",
    "        change_base[change_sell] = data[\"next.bid\"][change_sell]-tranct\n",
    "    final_pnl = -sum(change_base*change_pos)\n",
    "    turnover = sum(change_base*abs(change_pos))\n",
    "    num = sum((position!=0) & (change_pos!=0))\n",
    "    hld_period = sum(position!=0)\n",
    "  \n",
    "    ## finally we combine the statistics into a data frame\n",
    "    #result = pd.DataFrame({\"final.pnl\": final_pnl, \"turnover\": turnover, \"num\": num, \"hld.period\": hld_period}, index=[0])\n",
    "    #result = {\"date\": date, \"final.pnl\": final_pnl, \"turnover\": turnover, \"num\": num, \"hld.period\": hld_period}\n",
    "    result = OrderedDict([(\"date\", date), (\"final.pnl\", final_pnl), (\"turnover\", turnover), (\"num\", num), (\"hld.period\", hld_period)])\n",
    "    return result"
   ]
  },
  {
   "cell_type": "markdown",
   "metadata": {},
   "source": [
    "- we use the parallel libary here"
   ]
  },
  {
   "cell_type": "code",
   "execution_count": 416,
   "metadata": {
    "scrolled": true
   },
   "outputs": [
    {
     "name": "stdout",
     "output_type": "stream",
     "text": [
      "Wall time: 31.1 s\n"
     ]
    }
   ],
   "source": [
    "%%time\n",
    "import functools\n",
    "with dask.config.set(scheduler='processes', num_workers=CORE_NUM):\n",
    "    f_par = functools.partial(get_daily_pnl, product=\"btc.usd.td\", period=4096, tranct_ratio=True, threshold=0.001, tranct=7.5e-4, noise=0)\n",
    "    result_4 = compute([delayed(f_par)(date) for date in all_dates])[0]\n",
    "    \n",
    "## Wall time: 31.1 s"
   ]
  },
  {
   "cell_type": "markdown",
   "metadata": {},
   "source": [
    "- the col names and row names are opposite"
   ]
  },
  {
   "cell_type": "code",
   "execution_count": 417,
   "metadata": {
    "scrolled": true
   },
   "outputs": [
    {
     "name": "stderr",
     "output_type": "stream",
     "text": [
      "d:\\Anaconda3\\lib\\site-packages\\ipykernel_launcher.py:29: RuntimeWarning: divide by zero encountered in double_scalars\n"
     ]
    },
    {
     "data": {
      "text/html": [
       "<div>\n",
       "<style scoped>\n",
       "    .dataframe tbody tr th:only-of-type {\n",
       "        vertical-align: middle;\n",
       "    }\n",
       "\n",
       "    .dataframe tbody tr th {\n",
       "        vertical-align: top;\n",
       "    }\n",
       "\n",
       "    .dataframe thead th {\n",
       "        text-align: right;\n",
       "    }\n",
       "</style>\n",
       "<table border=\"1\" class=\"dataframe\">\n",
       "  <thead>\n",
       "    <tr style=\"text-align: right;\">\n",
       "      <th></th>\n",
       "      <th>sharpe</th>\n",
       "      <th>drawdown</th>\n",
       "      <th>mar</th>\n",
       "      <th>win.ratio</th>\n",
       "      <th>num</th>\n",
       "      <th>avg.pnl</th>\n",
       "      <th>hld.period</th>\n",
       "    </tr>\n",
       "  </thead>\n",
       "  <tbody>\n",
       "    <tr>\n",
       "      <th>0</th>\n",
       "      <td>20.291816</td>\n",
       "      <td>0.0</td>\n",
       "      <td>inf</td>\n",
       "      <td>1.0</td>\n",
       "      <td>54.902299</td>\n",
       "      <td>8.489488</td>\n",
       "      <td>2452.7472</td>\n",
       "    </tr>\n",
       "  </tbody>\n",
       "</table>\n",
       "</div>"
      ],
      "text/plain": [
       "      sharpe  drawdown  mar  win.ratio        num   avg.pnl  hld.period\n",
       "0  20.291816       0.0  inf        1.0  54.902299  8.489488   2452.7472"
      ]
     },
     "execution_count": 417,
     "metadata": {},
     "output_type": "execute_result"
    },
    {
     "data": {
      "image/png": "[encoded data removed]",
      "text/plain": [
       "<Figure size 1152x720 with 1 Axes>"
      ]
     },
     "metadata": {
      "needs_background": "light"
     },
     "output_type": "display_data"
    }
   ],
   "source": [
    "pd.DataFrame(get_performance(result_4,1), index=[0])\n",
    "\n",
    "# sharpe \tdrawdown \tmar \twin.ratio \tnum \tavg.pnl \thld.period\n",
    "# 0 \t20.291816 \t0.0 \tinf \t1.0 \t54.902299 \t8.489488 \t2452.7472\n"
   ]
  },
  {
   "cell_type": "markdown",
   "metadata": {},
   "source": [
    "- we can see it's much better than before.\n",
    "- Keep in mind that it uses future data here so the result is not realistic\n",
    "- we just want to show that this scheme is much better than the previous one\n",
    "- and we would use this backtest method in the future course"
   ]
  },
  {
   "cell_type": "code",
   "execution_count": 426,
   "metadata": {},
   "outputs": [
    {
     "name": "stdout",
     "output_type": "stream",
     "text": [
      "Wall time: 32.3 s\n"
     ]
    }
   ],
   "source": [
    "%%time\n",
    "import functools\n",
    "with dask.config.set(scheduler='processes', num_workers=CORE_NUM):\n",
    "    f_par = functools.partial(get_daily_pnl, product=\"btc.usd.td\", period=4096, tranct_ratio=True, threshold=0.002, tranct=7.5e-4, noise=0.1)\n",
    "    result_5 = compute([delayed(f_par)(date) for date in all_dates])[0]\n",
    "\n",
    "# Wall time: 30 s"
   ]
  },
  {
   "cell_type": "code",
   "execution_count": 427,
   "metadata": {
    "scrolled": true
   },
   "outputs": [
    {
     "name": "stderr",
     "output_type": "stream",
     "text": [
      "d:\\Anaconda3\\lib\\site-packages\\ipykernel_launcher.py:29: RuntimeWarning: divide by zero encountered in double_scalars\n"
     ]
    },
    {
     "data": {
      "text/html": [
       "<div>\n",
       "<style scoped>\n",
       "    .dataframe tbody tr th:only-of-type {\n",
       "        vertical-align: middle;\n",
       "    }\n",
       "\n",
       "    .dataframe tbody tr th {\n",
       "        vertical-align: top;\n",
       "    }\n",
       "\n",
       "    .dataframe thead th {\n",
       "        text-align: right;\n",
       "    }\n",
       "</style>\n",
       "<table border=\"1\" class=\"dataframe\">\n",
       "  <thead>\n",
       "    <tr style=\"text-align: right;\">\n",
       "      <th></th>\n",
       "      <th>sharpe</th>\n",
       "      <th>drawdown</th>\n",
       "      <th>mar</th>\n",
       "      <th>win.ratio</th>\n",
       "      <th>num</th>\n",
       "      <th>avg.pnl</th>\n",
       "      <th>hld.period</th>\n",
       "    </tr>\n",
       "  </thead>\n",
       "  <tbody>\n",
       "    <tr>\n",
       "      <th>0</th>\n",
       "      <td>20.6345</td>\n",
       "      <td>0.0</td>\n",
       "      <td>inf</td>\n",
       "      <td>1.0</td>\n",
       "      <td>33.551724</td>\n",
       "      <td>0.003074</td>\n",
       "      <td>3989.257965</td>\n",
       "    </tr>\n",
       "  </tbody>\n",
       "</table>\n",
       "</div>"
      ],
      "text/plain": [
       "    sharpe  drawdown  mar  win.ratio        num   avg.pnl   hld.period\n",
       "0  20.6345       0.0  inf        1.0  33.551724  0.003074  3989.257965"
      ]
     },
     "execution_count": 427,
     "metadata": {},
     "output_type": "execute_result"
    },
    {
     "data": {
      "image/png": "[encoded data removed]",
      "text/plain": [
       "<Figure size 1152x720 with 1 Axes>"
      ]
     },
     "metadata": {
      "needs_background": "light"
     },
     "output_type": "display_data"
    }
   ],
   "source": [
    "pd.DataFrame(get_performance(result_5,1), index=[0])\n",
    "\n",
    "#  \tsharpe \tdrawdown \tmar \twin.ratio \tnum \tavg.pnl \thld.period\n",
    "# 0 \t20.6345 \t0.0 \tinf \t1.0 \t33.551724 \t0.003074 \t3989.257965"
   ]
  },
  {
   "cell_type": "code",
   "execution_count": 430,
   "metadata": {},
   "outputs": [
    {
     "name": "stdout",
     "output_type": "stream",
     "text": [
      "Wall time: 31.3 s\n"
     ]
    }
   ],
   "source": [
    "%%time\n",
    "import functools\n",
    "with dask.config.set(scheduler='processes', num_workers=CORE_NUM):\n",
    "    f_par = functools.partial(get_daily_pnl, product=\"btc.usd.td\", period=4096, tranct_ratio=True, threshold=0.002, tranct=7.5e-4, noise=5)\n",
    "    result_6 = compute([delayed(f_par)(date) for date in all_dates])[0]\n",
    "\n",
    "# Wall time: 31.9 s"
   ]
  },
  {
   "cell_type": "code",
   "execution_count": 431,
   "metadata": {},
   "outputs": [
    {
     "data": {
      "text/html": [
       "<div>\n",
       "<style scoped>\n",
       "    .dataframe tbody tr th:only-of-type {\n",
       "        vertical-align: middle;\n",
       "    }\n",
       "\n",
       "    .dataframe tbody tr th {\n",
       "        vertical-align: top;\n",
       "    }\n",
       "\n",
       "    .dataframe thead th {\n",
       "        text-align: right;\n",
       "    }\n",
       "</style>\n",
       "<table border=\"1\" class=\"dataframe\">\n",
       "  <thead>\n",
       "    <tr style=\"text-align: right;\">\n",
       "      <th></th>\n",
       "      <th>sharpe</th>\n",
       "      <th>drawdown</th>\n",
       "      <th>mar</th>\n",
       "      <th>win.ratio</th>\n",
       "      <th>num</th>\n",
       "      <th>avg.pnl</th>\n",
       "      <th>hld.period</th>\n",
       "    </tr>\n",
       "  </thead>\n",
       "  <tbody>\n",
       "    <tr>\n",
       "      <th>0</th>\n",
       "      <td>-1.112051</td>\n",
       "      <td>-1.469268</td>\n",
       "      <td>-0.680611</td>\n",
       "      <td>0.936782</td>\n",
       "      <td>172.166667</td>\n",
       "      <td>-0.000737</td>\n",
       "      <td>780.802684</td>\n",
       "    </tr>\n",
       "  </tbody>\n",
       "</table>\n",
       "</div>"
      ],
      "text/plain": [
       "     sharpe  drawdown       mar  win.ratio         num   avg.pnl  hld.period\n",
       "0 -1.112051 -1.469268 -0.680611   0.936782  172.166667 -0.000737  780.802684"
      ]
     },
     "execution_count": 431,
     "metadata": {},
     "output_type": "execute_result"
    },
    {
     "data": {
      "image/png": "[encoded data removed]",
      "text/plain": [
       "<Figure size 1152x720 with 1 Axes>"
      ]
     },
     "metadata": {
      "needs_background": "light"
     },
     "output_type": "display_data"
    }
   ],
   "source": [
    "pd.DataFrame(get_performance(result_6,1), index=[0])\n"
   ]
  },
  {
   "cell_type": "markdown",
   "metadata": {},
   "source": [
    "- Previous method use fix size to trade, \n",
    "- now we suppose fix notional value of each trade"
   ]
  },
  {
   "cell_type": "code",
   "execution_count": 421,
   "metadata": {},
   "outputs": [],
   "source": [
    "## daily pnl of fixed capital\n",
    "from collections import OrderedDict\n",
    "def get_daily_pnl(date, product=\"rb\", period=2000, tranct_ratio=False,threshold=0.001, tranct=1.1e-4, noise=0, notional=False):\n",
    "    with gzip.open(dire+\"/\"+date, 'rb', compresslevel=1) as file_object:\n",
    "        raw_data = file_object.read()\n",
    "    data = cPickle.loads(raw_data)\n",
    "    range_ = (data[\"intra.time\"] >=\"01:00:00\") & (data[\"intra.time\"]<\"23:00:00\") \n",
    "    good = np.array(range_)\n",
    "    data = data[good].reset_index(drop=True)\n",
    "    n_bar = len(data)\n",
    "    unit = np.std(data[\"ret\"])\n",
    "    np.random.seed(10)\n",
    "    noise_ret = np.random.normal(scale=unit*noise, size=n_bar)\n",
    "    ##  we repeat the above code to get daily result\n",
    "    ret_2000 = (data[\"ret\"].rolling(period).sum()).dropna().reset_index(drop=True)\n",
    "    ret_2000 = ret_2000.append(pd.Series([0]*(len(data)-len(ret_2000)))).reset_index(drop=True) + noise_ret\n",
    "    signal = pd.Series([0] * n_bar)\n",
    "    signal[ret_2000>threshold] = 1\n",
    "    signal[ret_2000< -threshold] = -1\n",
    "    position_pos = pd.Series([np.nan] * n_bar)\n",
    "    position_pos[0] = 0\n",
    "    position_pos[(signal==1) & (data[\"next.ask\"]>0) & (data[\"next.bid\"]>0)] = 1\n",
    "    position_pos[(ret_2000< -threshold) & (data[\"next.bid\"]>0)] = 0\n",
    "    position_pos.ffill(inplace=True)\n",
    "    pre_pos = position_pos.shift(1)\n",
    "    position_pos[(position_pos==1) & (pre_pos==1)] = np.nan ## holding positio rather than trade, change to nan\n",
    "    position_pos[(position_pos==1)] = 1/data[\"next.ask\"][(position_pos==1)] ## use 1/price as trading volume\n",
    "    position_pos.ffill(inplace=True) \n",
    "    position_neg = pd.Series([np.nan] * n_bar)\n",
    "    position_neg[0] = 0\n",
    "    position_neg[(signal==-1) & (data[\"next.ask\"]>0) & (data[\"next.bid\"]>0)] = -1\n",
    "    position_neg[(ret_2000> threshold) & (data[\"next.ask\"]>0)] = 0\n",
    "    position_neg.ffill(inplace=True)\n",
    "    pre_neg = position_neg.shift(1)\n",
    "    position_neg[(position_neg==-1) & (pre_neg==-1)] = np.nan  ## holding positio rather than trade, change to nan\n",
    "    position_neg[(position_neg==-1)] = -1/data[\"next.bid\"][(position_neg==-1)] ## use 1/price as trading volume\n",
    "    position_neg.ffill(inplace=True) ## replace nan by trading volume\n",
    "    position = position_pos + position_neg\n",
    "    position[0]=0\n",
    "    position[n_bar-1] = 0\n",
    "    position[n_bar-2] = 0\n",
    "    change_pos = position - position.shift(1)\n",
    "    change_pos[0] = 0\n",
    "    change_base = pd.Series([0] * n_bar)\n",
    "    change_buy = change_pos>0\n",
    "    change_sell = change_pos<0\n",
    "\n",
    "    if (tranct_ratio):\n",
    "        change_base[change_buy] = data[\"next.ask\"][change_buy]*(1+tranct)\n",
    "        change_base[change_sell] = data[\"next.bid\"][change_sell]*(1-tranct)\n",
    "    else:\n",
    "        change_base[change_buy] = data[\"next.ask\"][change_buy]+tranct\n",
    "        change_base[change_sell] = data[\"next.bid\"][change_sell]-tranct\n",
    "    final_pnl = -sum(change_base*change_pos)\n",
    "    turnover = sum(change_base*abs(change_pos))\n",
    "    num = sum((position!=0) & (change_pos!=0))\n",
    "    hld_period = sum(position!=0)\n",
    "  \n",
    "    ## finally we combine the statistics into a data frame\n",
    "    #result = pd.DataFrame({\"final.pnl\": final_pnl, \"turnover\": turnover, \"num\": num, \"hld.period\": hld_period}, index=[0])\n",
    "    #result = {\"date\": date, \"final.pnl\": final_pnl, \"turnover\": turnover, \"num\": num, \"hld.period\": hld_period}\n",
    "    result = OrderedDict([(\"date\", date), (\"final.pnl\", final_pnl), (\"turnover\", turnover), (\"num\", num), (\"hld.period\", hld_period)])\n",
    "    return result"
   ]
  },
  {
   "cell_type": "code",
   "execution_count": 422,
   "metadata": {},
   "outputs": [
    {
     "data": {
      "text/plain": [
       "OrderedDict([('date', '2019-11-27.pkl'),\n",
       "             ('final.pnl', 0.13385643105576406),\n",
       "             ('turnover', 122.05306556859432),\n",
       "             ('num', 61),\n",
       "             ('hld.period', 130494)])"
      ]
     },
     "execution_count": 422,
     "metadata": {},
     "output_type": "execute_result"
    }
   ],
   "source": [
    "get_daily_pnl(all_dates[0], product=\"btc.usd.td\", period=4096, tranct_ratio=True, threshold=0.001, tranct=7.5e-4, notional=True)\n",
    "\n",
    "# OrderedDict([('date', '2019-11-27.pkl'),\n",
    "#              ('final.pnl', 0.13385643105576406),\n",
    "#              ('turnover', 122.05306556859432),\n",
    "#              ('num', 61),\n",
    "#              ('hld.period', 130494)])"
   ]
  },
  {
   "cell_type": "code",
   "execution_count": 424,
   "metadata": {},
   "outputs": [
    {
     "name": "stdout",
     "output_type": "stream",
     "text": [
      "Wall time: 31.4 s\n"
     ]
    }
   ],
   "source": [
    " %%time\n",
    "import functools\n",
    "with dask.config.set(scheduler='processes', num_workers=CORE_NUM):\n",
    "    f_par = functools.partial(get_daily_pnl, product=\"btc.usd.td\", period=4096, tranct_ratio=True, \n",
    "                              threshold=0.001, tranct=7.5e-4, noise=0, notional=True)\n",
    "    result = compute([delayed(f_par)(date) for date in all_dates])[0]\n",
    "    \n",
    "# Wall time: 31.4 s"
   ]
  },
  {
   "cell_type": "code",
   "execution_count": 425,
   "metadata": {
    "scrolled": true
   },
   "outputs": [
    {
     "name": "stderr",
     "output_type": "stream",
     "text": [
      "d:\\Anaconda3\\lib\\site-packages\\ipykernel_launcher.py:29: RuntimeWarning: divide by zero encountered in double_scalars\n"
     ]
    },
    {
     "data": {
      "text/html": [
       "<div>\n",
       "<style scoped>\n",
       "    .dataframe tbody tr th:only-of-type {\n",
       "        vertical-align: middle;\n",
       "    }\n",
       "\n",
       "    .dataframe tbody tr th {\n",
       "        vertical-align: top;\n",
       "    }\n",
       "\n",
       "    .dataframe thead th {\n",
       "        text-align: right;\n",
       "    }\n",
       "</style>\n",
       "<table border=\"1\" class=\"dataframe\">\n",
       "  <thead>\n",
       "    <tr style=\"text-align: right;\">\n",
       "      <th></th>\n",
       "      <th>sharpe</th>\n",
       "      <th>drawdown</th>\n",
       "      <th>mar</th>\n",
       "      <th>win.ratio</th>\n",
       "      <th>num</th>\n",
       "      <th>avg.pnl</th>\n",
       "      <th>hld.period</th>\n",
       "    </tr>\n",
       "  </thead>\n",
       "  <tbody>\n",
       "    <tr>\n",
       "      <th>0</th>\n",
       "      <td>16.517335</td>\n",
       "      <td>0.0</td>\n",
       "      <td>inf</td>\n",
       "      <td>1.0</td>\n",
       "      <td>54.902299</td>\n",
       "      <td>0.001141</td>\n",
       "      <td>2452.7472</td>\n",
       "    </tr>\n",
       "  </tbody>\n",
       "</table>\n",
       "</div>"
      ],
      "text/plain": [
       "      sharpe  drawdown  mar  win.ratio        num   avg.pnl  hld.period\n",
       "0  16.517335       0.0  inf        1.0  54.902299  0.001141   2452.7472"
      ]
     },
     "execution_count": 425,
     "metadata": {},
     "output_type": "execute_result"
    },
    {
     "data": {
      "image/png": "[encoded data removed]",
      "text/plain": [
       "<Figure size 1152x720 with 1 Axes>"
      ]
     },
     "metadata": {
      "needs_background": "light"
     },
     "output_type": "display_data"
    }
   ],
   "source": [
    "pd.DataFrame(get_performance(result,1), index=[0])\n",
    "\n",
    "#  \tsharpe \tdrawdown \tmar \twin.ratio \tnum \tavg.pnl \thld.period\n",
    "# 0 \t16.517335 \t0.0 \tinf \t1.0 \t54.902299 \t0.001141 \t2452.7472\n"
   ]
  },
  {
   "cell_type": "markdown",
   "metadata": {},
   "source": [
    "- After adding some noise, the result is worse than before but still pretty good\n",
    "- the later courses we would use this backtest method to test our signals and straregies without any future data\n",
    "- the reuslt would be much worse than the previous ones but they are realistic\n",
    "- Homework\n",
    "- You can try this method on other products and comapre their results"
   ]
  },
  {
   "cell_type": "code",
   "execution_count": null,
   "metadata": {},
   "outputs": [],
   "source": []
  }
 ],
 "metadata": {
  "kernelspec": {
   "display_name": "Python 3",
   "language": "python",
   "name": "python3"
  },
  "language_info": {
   "codemirror_mode": {
    "name": "ipython",
    "version": 3
   },
   "file_extension": ".py",
   "mimetype": "text/x-python",
   "name": "python",
   "nbconvert_exporter": "python",
   "pygments_lexer": "ipython3",
   "version": "3.7.4"
  }
 },
 "nbformat": 4,
 "nbformat_minor": 2
}
