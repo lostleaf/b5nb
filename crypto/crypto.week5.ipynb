{
 "cells": [
  {
   "cell_type": "markdown",
   "metadata": {},
   "source": [
    "- Welcome to Quantitative and High Frequency Trading Training Program\n"
   ]
  },
  {
   "cell_type": "code",
   "execution_count": 1,
   "metadata": {
    "scrolled": true
   },
   "outputs": [
    {
     "data": {
      "text/plain": [
       "<function helper.get_signal_performance_result(all_period_signal, signal_dire, period, product_list, train_sample, test_sample)>"
      ]
     },
     "execution_count": 1,
     "metadata": {},
     "output_type": "execute_result"
    }
   ],
   "source": [
    "from helper import *\n",
    "from stats import *\n",
    "from imp import reload   \n",
    "import helper\n",
    "import stats\n",
    "reload(helper)\n",
    "reload(stats)\n",
    "get_signal_performance_result"
   ]
  },
  {
   "cell_type": "markdown",
   "metadata": {},
   "source": [
    "- number of cores, set this number according to your computer"
   ]
  },
  {
   "cell_type": "code",
   "execution_count": 2,
   "metadata": {},
   "outputs": [
    {
     "data": {
      "text/plain": [
       "16"
      ]
     },
     "execution_count": 2,
     "metadata": {},
     "output_type": "execute_result"
    }
   ],
   "source": [
    "CORE_NUM = int(os.environ['NUMBER_OF_PROCESSORS'])\n",
    "CORE_NUM"
   ]
  },
  {
   "cell_type": "markdown",
   "metadata": {},
   "source": [
    "- sample product, you can change to your specific product symbol"
   ]
  },
  {
   "cell_type": "code",
   "execution_count": 3,
   "metadata": {},
   "outputs": [],
   "source": [
    "product_list = [\"btc.usd.td\", \"eth.usd.td\", \"btc.usdt\", \"eth.usdt\"]"
   ]
  },
  {
   "cell_type": "code",
   "execution_count": 4,
   "metadata": {},
   "outputs": [],
   "source": [
    "import dask\n",
    "from dask import compute, delayed"
   ]
  },
  {
   "cell_type": "markdown",
   "metadata": {},
   "source": [
    "- sample period"
   ]
  },
  {
   "cell_type": "code",
   "execution_count": 6,
   "metadata": {},
   "outputs": [],
   "source": [
    "period = 4096"
   ]
  },
  {
   "cell_type": "markdown",
   "metadata": {},
   "source": [
    "- choose an example day"
   ]
  },
  {
   "cell_type": "markdown",
   "metadata": {},
   "source": [
    "- Now we start our new topics:\n",
    "- cross-period signal\n",
    "- cross-symbol signal\n",
    "- arbitrage"
   ]
  },
  {
   "cell_type": "markdown",
   "metadata": {},
   "source": [
    "- First, we look at cross-period signal"
   ]
  },
  {
   "cell_type": "code",
   "execution_count": 11,
   "metadata": {},
   "outputs": [],
   "source": [
    "SAVE_PATH = \"e:/intern\"\n",
    "period_list =  np.power(2, range(10,13))"
   ]
  },
  {
   "cell_type": "markdown",
   "metadata": {},
   "source": [
    "- we can first generate good index of data\n",
    "- because loading data each time is too time consuming"
   ]
  },
  {
   "cell_type": "code",
   "execution_count": 8,
   "metadata": {},
   "outputs": [],
   "source": [
    "def get_comb_signal(date, signal_func, product, period_list, HEAD_PATH, weight):\n",
    "    comb_signal = []\n",
    "    good = load(HEAD_PATH+\"/good pkl/\"+product+\"/\"+date)\n",
    "    n_period = len(period_list)\n",
    "    total = (sum(1/period_list))\n",
    "    for i in range(n_period):\n",
    "        signal_name = signal_func+\".\"+str(period_list[i])\n",
    "        S = load(HEAD_PATH+\"/tmp pkl/\"+product+\"/\"+signal_name+\"/\"+date)\n",
    "        #S = S/np.std(S[good])/n_period\n",
    "        S = S*weight[i]\n",
    "        if len(comb_signal)==0:\n",
    "            comb_signal=S\n",
    "        else:\n",
    "            comb_signal += S\n",
    "    save(comb_signal, HEAD_PATH+\"/tmp pkl/\"+product+\"/\"+signal_func+\".comb/\"+date)\n",
    "    "
   ]
  },
  {
   "cell_type": "code",
   "execution_count": 20,
   "metadata": {},
   "outputs": [],
   "source": [
    "os.makedirs(HEAD_PATH+\"/all signal\", exist_ok=True)\n",
    "dire_signal_list = [\"nr\", \"dbook\", \"range.pos\", \"price.osci\", \"ma.dif.10\", \"kdj.k\", \"kdj.j\"]\n",
    "range_signal_list = [\"\", \"range\", \"std\", \"trend.index\"]\n",
    "all_signal_list = np.array([])\n",
    "for range_signal in range_signal_list:\n",
    "    for dire_signal in dire_signal_list:\n",
    "        if len(range_signal)==0:\n",
    "            signal_name = dire_signal\n",
    "        else:\n",
    "            signal_name = dire_signal+\".\"+range_signal\n",
    "        all_signal_list = np.append(all_signal_list,signal_name)\n",
    "len(all_signal_list)\n",
    "all_comb_list = [signal+\".comb\" for signal in all_signal_list]\n",
    "all_period_signal = [signal+\".4096\" for signal in all_signal_list]\n",
    "weight = (1/np.sqrt(period_list))/(sum(1/np.sqrt(period_list)))"
   ]
  },
  {
   "cell_type": "code",
   "execution_count": 18,
   "metadata": {},
   "outputs": [],
   "source": [
    "for product in product_list:\n",
    "    for signal_func in all_signal_list:\n",
    "        os.makedirs(SAVE_PATH+\"/tmp pkl/\"+product+\"/\"+signal_func+\".comb\", exist_ok=True)\n",
    "    "
   ]
  },
  {
   "cell_type": "code",
   "execution_count": 21,
   "metadata": {},
   "outputs": [
    {
     "name": "stdout",
     "output_type": "stream",
     "text": [
      "eth.usd.td nr\n",
      "eth.usd.td dbook\n",
      "eth.usd.td range.pos\n",
      "eth.usd.td price.osci\n",
      "eth.usd.td ma.dif.10\n",
      "eth.usd.td kdj.k\n",
      "eth.usd.td kdj.j\n",
      "eth.usd.td nr.range\n",
      "eth.usd.td dbook.range\n",
      "eth.usd.td range.pos.range\n",
      "eth.usd.td price.osci.range\n",
      "eth.usd.td ma.dif.10.range\n",
      "eth.usd.td kdj.k.range\n",
      "eth.usd.td kdj.j.range\n",
      "eth.usd.td nr.std\n",
      "eth.usd.td dbook.std\n",
      "eth.usd.td range.pos.std\n",
      "eth.usd.td price.osci.std\n",
      "eth.usd.td ma.dif.10.std\n",
      "eth.usd.td kdj.k.std\n",
      "eth.usd.td kdj.j.std\n",
      "eth.usd.td nr.trend.index\n",
      "eth.usd.td dbook.trend.index\n",
      "eth.usd.td range.pos.trend.index\n",
      "eth.usd.td price.osci.trend.index\n",
      "eth.usd.td ma.dif.10.trend.index\n",
      "eth.usd.td kdj.k.trend.index\n",
      "eth.usd.td kdj.j.trend.index\n",
      "btc.usdt nr\n",
      "btc.usdt dbook\n",
      "btc.usdt range.pos\n",
      "btc.usdt price.osci\n",
      "btc.usdt ma.dif.10\n",
      "btc.usdt kdj.k\n",
      "btc.usdt kdj.j\n",
      "btc.usdt nr.range\n",
      "btc.usdt dbook.range\n",
      "btc.usdt range.pos.range\n",
      "btc.usdt price.osci.range\n",
      "btc.usdt ma.dif.10.range\n",
      "btc.usdt kdj.k.range\n",
      "btc.usdt kdj.j.range\n",
      "btc.usdt nr.std\n",
      "btc.usdt dbook.std\n",
      "btc.usdt range.pos.std\n",
      "btc.usdt price.osci.std\n",
      "btc.usdt ma.dif.10.std\n",
      "btc.usdt kdj.k.std\n",
      "btc.usdt kdj.j.std\n",
      "btc.usdt nr.trend.index\n",
      "btc.usdt dbook.trend.index\n",
      "btc.usdt range.pos.trend.index\n",
      "btc.usdt price.osci.trend.index\n",
      "btc.usdt ma.dif.10.trend.index\n",
      "btc.usdt kdj.k.trend.index\n",
      "btc.usdt kdj.j.trend.index\n",
      "eth.usdt nr\n",
      "eth.usdt dbook\n",
      "eth.usdt range.pos\n",
      "eth.usdt price.osci\n",
      "eth.usdt ma.dif.10\n",
      "eth.usdt kdj.k\n",
      "eth.usdt kdj.j\n",
      "eth.usdt nr.range\n",
      "eth.usdt dbook.range\n",
      "eth.usdt range.pos.range\n",
      "eth.usdt price.osci.range\n",
      "eth.usdt ma.dif.10.range\n",
      "eth.usdt kdj.k.range\n",
      "eth.usdt kdj.j.range\n",
      "eth.usdt nr.std\n",
      "eth.usdt dbook.std\n",
      "eth.usdt range.pos.std\n",
      "eth.usdt price.osci.std\n",
      "eth.usdt ma.dif.10.std\n",
      "eth.usdt kdj.k.std\n",
      "eth.usdt kdj.j.std\n",
      "eth.usdt nr.trend.index\n",
      "eth.usdt dbook.trend.index\n",
      "eth.usdt range.pos.trend.index\n",
      "eth.usdt price.osci.trend.index\n",
      "eth.usdt ma.dif.10.trend.index\n",
      "eth.usdt kdj.k.trend.index\n",
      "eth.usdt kdj.j.trend.index\n",
      "Wall time: 31min 3s\n"
     ]
    }
   ],
   "source": [
    "%%time\n",
    "for product in product_list:\n",
    "    all_dates = os.listdir(DATA_PATH + product)[1:-1]\n",
    "    for signal_func in all_signal_list:\n",
    "        print(product,signal_func)\n",
    "        parLapply(CORE_NUM, all_dates, get_comb_signal,signal_func=signal_func,  \n",
    "                  product=product, period_list=period_list,HEAD_PATH=SAVE_PATH, weight=weight)\n",
    "## Wall time: 2h 21min 11s"
   ]
  },
  {
   "cell_type": "code",
   "execution_count": 27,
   "metadata": {},
   "outputs": [],
   "source": [
    "## parallel generate the distribution of a signal\n",
    "def par_get_all_signal(signal_name, file_list, product, period, HEAD_PATH=\"d:/intern\", SAVE_PATH=\"e:/intern\"):\n",
    "    n_files = len(file_list)\n",
    "    all_signal = np.array([])\n",
    "    for file in file_list:\n",
    "        S = load(SAVE_PATH+\"/tmp pkl/\"+product+\"/\"+signal_name+\"/\"+file) ## signal\n",
    "        good = load(SAVE_PATH+\"/good pkl/\"+product+\"/\"+file) ## good singal\n",
    "        signal = S[good]\n",
    "        moving_average(signal,period)\n",
    "        chosen = (np.arange(len(signal))+1) % period==0\n",
    "        all_signal = np.concatenate((all_signal, signal[chosen]), axis=0)\n",
    "    save(all_signal, SAVE_PATH+\"/all signal/\"+product+\".\"+signal_name+\".pkl\")"
   ]
  },
  {
   "cell_type": "code",
   "execution_count": 28,
   "metadata": {},
   "outputs": [
    {
     "name": "stdout",
     "output_type": "stream",
     "text": [
      "btc.usd.td\n",
      "eth.usd.td\n",
      "btc.usdt\n",
      "eth.usdt\n",
      "Wall time: 31min 41s\n"
     ]
    }
   ],
   "source": [
    "%%time\n",
    "SAVE_PATH = \"e:/intern\"\n",
    "for product in product_list:\n",
    "    print(product)\n",
    "    all_dates = os.listdir(DATA_PATH + product)[1:-1]\n",
    "    parLapply(CORE_NUM, all_comb_list, par_get_all_signal, file_list=all_dates, product=product, period=4096, HEAD_PATH=HEAD_PATH,\n",
    "             SAVE_PATH=SAVE_PATH);\n",
    "\n",
    "# btc.usd.td\n",
    "# eth.usd.td\n",
    "# btc.usdt\n",
    "# eth.usdt\n",
    "# Wall time: 31min 41s\n"
   ]
  },
  {
   "cell_type": "code",
   "execution_count": 29,
   "metadata": {},
   "outputs": [],
   "source": [
    "## this is to evalute the performance of a signal on a product\n",
    "def evaluate_signal(signal, all_dates, product, min_pnl, min_num, \n",
    "                    CORE_NUM, HEAD_PATH=\"d:/intern\", SIGNAL_PATH=\"d:/intern\", period=4096, split_str=\"2018\", tranct=1.1e-4, \n",
    "                    max_spread=0.61, tranct_ratio=True, atr_filter=0, save_path=\"signal result\",reverse=0):\n",
    "    signal_name = signal+\".\"+str(period) ## signal name, with period\n",
    "    all_signal = load(SIGNAL_PATH+\"/all signal/\"+product+\".\"+signal_name+\".pkl\") ## get the distribution of the signal\n",
    "    tranct = product_info[product][\"tranct\"] ## transaction cost of the product\n",
    "    tranct_ratio = product_info[product][\"tranct.ratio\"] ## True: based on notional; False: fixed tranct\n",
    "    open_list = np.quantile(abs(all_signal), np.append(np.arange(0.991,0.999,0.001),np.arange(0.9991,0.9999,0.0001))) ## open threshold\n",
    "    thre_list = []\n",
    "    for cartesian in itertools.product(open_list, np.array([0.2, 0.4, 0.6, 0.8, 1.0])): ## close threshold\n",
    "        thre_list.append((cartesian[0], -cartesian[0] * cartesian[1]))\n",
    "    thre_list = np.array(thre_list)\n",
    "    thre_mat = pd.DataFrame(data=OrderedDict([(\"open\", thre_list[:, 0]), (\"close\", thre_list[:, 1])])) ## threshold matrix\n",
    "    if reverse>=0: ## trending signal\n",
    "        print(\"reverse=1\")\n",
    "        trend_signal_stat = get_signal_stat(signal_name, thre_mat, product, all_dates, CORE_NUM, split_str=split_str, reverse=1, tranct=tranct, \n",
    "                                   max_spread=max_spread, tranct_ratio=tranct_ratio, min_pnl=min_pnl, min_num=min_num, atr_filter=atr_filter, HEAD_PATH=HEAD_PATH, SIGNAL_PATH=SIGNAL_PATH)\n",
    "    if reverse<=0: ## reversal signal\n",
    "        print(\"reverse=-1\")\n",
    "        reverse_signal_stat = get_signal_stat(signal_name, thre_mat, product, all_dates, CORE_NUM, split_str=split_str, reverse=-1, tranct=tranct, \n",
    "                        max_spread=max_spread, tranct_ratio=tranct_ratio, min_pnl=min_pnl, min_num=min_num, atr_filter=atr_filter, HEAD_PATH=HEAD_PATH, SIGNAL_PATH=SIGNAL_PATH)\n",
    "    if reverse==0: ## both trending and reversal\n",
    "        stat_result = OrderedDict([(\"trend.signal.stat\", trend_signal_stat), (\"reverse.signal.stat\", reverse_signal_stat)])    \n",
    "        save(stat_result, HEAD_PATH+\"/\"+save_path+\"/\"+product+\".\"+signal_name+\".pkl\")\n",
    "    elif reverse==1: ## just trend\n",
    "        save(trend_signal_stat, HEAD_PATH+\"/\"+save_path+\"/\"+product+\".\"+signal_name+\".trend.pkl\")\n",
    "    elif reverse==-1: ## just reversal\n",
    "        save(reverse_signal_stat, HEAD_PATH+\"/\"+save_path+\"/\"+product+\".\"+signal_name+\".reverse.pkl\")"
   ]
  },
  {
   "cell_type": "code",
   "execution_count": 33,
   "metadata": {},
   "outputs": [
    {
     "name": "stdout",
     "output_type": "stream",
     "text": [
      "btc.usd.td nr\n",
      "reverse=1\n",
      "reverse=-1\n",
      "btc.usd.td dbook\n",
      "reverse=1\n",
      "reverse=-1\n",
      "btc.usd.td range.pos\n",
      "reverse=1\n",
      "reverse=-1\n",
      "btc.usd.td price.osci\n",
      "reverse=1\n"
     ]
    },
    {
     "name": "stderr",
     "output_type": "stream",
     "text": [
      "d:\\Anaconda3\\lib\\site-packages\\numpy\\lib\\function_base.py:3826: RuntimeWarning: Invalid value encountered in percentile\n",
      "  interpolation=interpolation)\n"
     ]
    },
    {
     "name": "stdout",
     "output_type": "stream",
     "text": [
      "reverse=-1\n",
      "btc.usd.td ma.dif.10\n",
      "reverse=1\n"
     ]
    },
    {
     "name": "stderr",
     "output_type": "stream",
     "text": [
      "d:\\Anaconda3\\lib\\site-packages\\numpy\\lib\\function_base.py:3826: RuntimeWarning: Invalid value encountered in percentile\n",
      "  interpolation=interpolation)\n"
     ]
    },
    {
     "name": "stdout",
     "output_type": "stream",
     "text": [
      "reverse=-1\n",
      "btc.usd.td kdj.k\n",
      "reverse=1\n",
      "reverse=-1\n",
      "btc.usd.td kdj.j\n",
      "reverse=1\n",
      "reverse=-1\n",
      "btc.usd.td nr.range\n",
      "reverse=1\n"
     ]
    },
    {
     "name": "stderr",
     "output_type": "stream",
     "text": [
      "d:\\Anaconda3\\lib\\site-packages\\numpy\\lib\\function_base.py:3826: RuntimeWarning: Invalid value encountered in percentile\n",
      "  interpolation=interpolation)\n"
     ]
    },
    {
     "name": "stdout",
     "output_type": "stream",
     "text": [
      "reverse=-1\n",
      "btc.usd.td dbook.range\n"
     ]
    },
    {
     "name": "stderr",
     "output_type": "stream",
     "text": [
      "d:\\Anaconda3\\lib\\site-packages\\numpy\\lib\\function_base.py:3826: RuntimeWarning: Invalid value encountered in percentile\n",
      "  interpolation=interpolation)\n"
     ]
    },
    {
     "name": "stdout",
     "output_type": "stream",
     "text": [
      "reverse=1\n",
      "reverse=-1\n",
      "btc.usd.td range.pos.range\n"
     ]
    },
    {
     "name": "stderr",
     "output_type": "stream",
     "text": [
      "d:\\Anaconda3\\lib\\site-packages\\numpy\\lib\\function_base.py:3826: RuntimeWarning: Invalid value encountered in percentile\n",
      "  interpolation=interpolation)\n"
     ]
    },
    {
     "name": "stdout",
     "output_type": "stream",
     "text": [
      "reverse=1\n",
      "reverse=-1\n",
      "btc.usd.td price.osci.range\n"
     ]
    },
    {
     "name": "stderr",
     "output_type": "stream",
     "text": [
      "d:\\Anaconda3\\lib\\site-packages\\numpy\\lib\\function_base.py:3826: RuntimeWarning: Invalid value encountered in percentile\n",
      "  interpolation=interpolation)\n"
     ]
    },
    {
     "name": "stdout",
     "output_type": "stream",
     "text": [
      "reverse=1\n",
      "reverse=-1\n",
      "btc.usd.td ma.dif.10.range\n"
     ]
    },
    {
     "name": "stderr",
     "output_type": "stream",
     "text": [
      "d:\\Anaconda3\\lib\\site-packages\\numpy\\lib\\function_base.py:3826: RuntimeWarning: Invalid value encountered in percentile\n",
      "  interpolation=interpolation)\n"
     ]
    },
    {
     "name": "stdout",
     "output_type": "stream",
     "text": [
      "reverse=1\n",
      "reverse=-1\n",
      "btc.usd.td kdj.k.range\n",
      "reverse=1\n"
     ]
    },
    {
     "name": "stderr",
     "output_type": "stream",
     "text": [
      "d:\\Anaconda3\\lib\\site-packages\\numpy\\lib\\function_base.py:3826: RuntimeWarning: Invalid value encountered in percentile\n",
      "  interpolation=interpolation)\n"
     ]
    },
    {
     "name": "stdout",
     "output_type": "stream",
     "text": [
      "reverse=-1\n",
      "btc.usd.td kdj.j.range\n"
     ]
    },
    {
     "name": "stderr",
     "output_type": "stream",
     "text": [
      "d:\\Anaconda3\\lib\\site-packages\\numpy\\lib\\function_base.py:3826: RuntimeWarning: Invalid value encountered in percentile\n",
      "  interpolation=interpolation)\n"
     ]
    },
    {
     "name": "stdout",
     "output_type": "stream",
     "text": [
      "reverse=1\n",
      "reverse=-1\n",
      "btc.usd.td nr.std\n"
     ]
    },
    {
     "name": "stderr",
     "output_type": "stream",
     "text": [
      "d:\\Anaconda3\\lib\\site-packages\\numpy\\lib\\function_base.py:3826: RuntimeWarning: Invalid value encountered in percentile\n",
      "  interpolation=interpolation)\n"
     ]
    },
    {
     "name": "stdout",
     "output_type": "stream",
     "text": [
      "reverse=1\n",
      "reverse=-1\n",
      "btc.usd.td dbook.std\n"
     ]
    },
    {
     "name": "stderr",
     "output_type": "stream",
     "text": [
      "d:\\Anaconda3\\lib\\site-packages\\numpy\\lib\\function_base.py:3826: RuntimeWarning: Invalid value encountered in percentile\n",
      "  interpolation=interpolation)\n"
     ]
    },
    {
     "name": "stdout",
     "output_type": "stream",
     "text": [
      "reverse=1\n",
      "reverse=-1\n",
      "btc.usd.td range.pos.std\n",
      "reverse=1\n"
     ]
    },
    {
     "name": "stderr",
     "output_type": "stream",
     "text": [
      "d:\\Anaconda3\\lib\\site-packages\\numpy\\lib\\function_base.py:3826: RuntimeWarning: Invalid value encountered in percentile\n",
      "  interpolation=interpolation)\n"
     ]
    },
    {
     "name": "stdout",
     "output_type": "stream",
     "text": [
      "reverse=-1\n",
      "btc.usd.td price.osci.std\n"
     ]
    },
    {
     "name": "stderr",
     "output_type": "stream",
     "text": [
      "d:\\Anaconda3\\lib\\site-packages\\numpy\\lib\\function_base.py:3826: RuntimeWarning: Invalid value encountered in percentile\n",
      "  interpolation=interpolation)\n"
     ]
    },
    {
     "name": "stdout",
     "output_type": "stream",
     "text": [
      "reverse=1\n",
      "reverse=-1\n",
      "btc.usd.td ma.dif.10.std\n"
     ]
    },
    {
     "name": "stderr",
     "output_type": "stream",
     "text": [
      "d:\\Anaconda3\\lib\\site-packages\\numpy\\lib\\function_base.py:3826: RuntimeWarning: Invalid value encountered in percentile\n",
      "  interpolation=interpolation)\n"
     ]
    },
    {
     "name": "stdout",
     "output_type": "stream",
     "text": [
      "reverse=1\n",
      "reverse=-1\n",
      "btc.usd.td kdj.k.std\n",
      "reverse=1\n"
     ]
    },
    {
     "name": "stderr",
     "output_type": "stream",
     "text": [
      "d:\\Anaconda3\\lib\\site-packages\\numpy\\lib\\function_base.py:3826: RuntimeWarning: Invalid value encountered in percentile\n",
      "  interpolation=interpolation)\n"
     ]
    },
    {
     "name": "stdout",
     "output_type": "stream",
     "text": [
      "reverse=-1\n",
      "btc.usd.td kdj.j.std\n",
      "reverse=1\n"
     ]
    },
    {
     "name": "stderr",
     "output_type": "stream",
     "text": [
      "d:\\Anaconda3\\lib\\site-packages\\numpy\\lib\\function_base.py:3826: RuntimeWarning: Invalid value encountered in percentile\n",
      "  interpolation=interpolation)\n"
     ]
    },
    {
     "name": "stdout",
     "output_type": "stream",
     "text": [
      "reverse=-1\n",
      "btc.usd.td nr.trend.index\n",
      "reverse=1\n"
     ]
    },
    {
     "name": "stderr",
     "output_type": "stream",
     "text": [
      "d:\\Anaconda3\\lib\\site-packages\\numpy\\lib\\function_base.py:3826: RuntimeWarning: Invalid value encountered in percentile\n",
      "  interpolation=interpolation)\n"
     ]
    },
    {
     "name": "stdout",
     "output_type": "stream",
     "text": [
      "reverse=-1\n",
      "btc.usd.td dbook.trend.index\n"
     ]
    },
    {
     "name": "stderr",
     "output_type": "stream",
     "text": [
      "d:\\Anaconda3\\lib\\site-packages\\numpy\\lib\\function_base.py:3826: RuntimeWarning: Invalid value encountered in percentile\n",
      "  interpolation=interpolation)\n"
     ]
    },
    {
     "name": "stdout",
     "output_type": "stream",
     "text": [
      "reverse=1\n",
      "reverse=-1\n",
      "btc.usd.td range.pos.trend.index\n"
     ]
    },
    {
     "name": "stderr",
     "output_type": "stream",
     "text": [
      "d:\\Anaconda3\\lib\\site-packages\\numpy\\lib\\function_base.py:3826: RuntimeWarning: Invalid value encountered in percentile\n",
      "  interpolation=interpolation)\n"
     ]
    },
    {
     "name": "stdout",
     "output_type": "stream",
     "text": [
      "reverse=1\n",
      "reverse=-1\n",
      "btc.usd.td price.osci.trend.index\n"
     ]
    },
    {
     "name": "stderr",
     "output_type": "stream",
     "text": [
      "d:\\Anaconda3\\lib\\site-packages\\numpy\\lib\\function_base.py:3826: RuntimeWarning: Invalid value encountered in percentile\n",
      "  interpolation=interpolation)\n"
     ]
    },
    {
     "name": "stdout",
     "output_type": "stream",
     "text": [
      "reverse=1\n",
      "reverse=-1\n",
      "btc.usd.td ma.dif.10.trend.index\n"
     ]
    },
    {
     "name": "stderr",
     "output_type": "stream",
     "text": [
      "d:\\Anaconda3\\lib\\site-packages\\numpy\\lib\\function_base.py:3826: RuntimeWarning: Invalid value encountered in percentile\n",
      "  interpolation=interpolation)\n"
     ]
    },
    {
     "name": "stdout",
     "output_type": "stream",
     "text": [
      "reverse=1\n",
      "reverse=-1\n",
      "btc.usd.td kdj.k.trend.index\n"
     ]
    },
    {
     "name": "stderr",
     "output_type": "stream",
     "text": [
      "d:\\Anaconda3\\lib\\site-packages\\numpy\\lib\\function_base.py:3826: RuntimeWarning: Invalid value encountered in percentile\n",
      "  interpolation=interpolation)\n"
     ]
    },
    {
     "name": "stdout",
     "output_type": "stream",
     "text": [
      "reverse=1\n",
      "reverse=-1\n",
      "btc.usd.td kdj.j.trend.index\n"
     ]
    },
    {
     "name": "stderr",
     "output_type": "stream",
     "text": [
      "d:\\Anaconda3\\lib\\site-packages\\numpy\\lib\\function_base.py:3826: RuntimeWarning: Invalid value encountered in percentile\n",
      "  interpolation=interpolation)\n"
     ]
    },
    {
     "name": "stdout",
     "output_type": "stream",
     "text": [
      "reverse=1\n",
      "reverse=-1\n",
      "eth.usd.td nr\n",
      "reverse=1\n",
      "reverse=-1\n",
      "eth.usd.td dbook\n",
      "reverse=1\n",
      "reverse=-1\n",
      "eth.usd.td range.pos\n",
      "reverse=1\n",
      "reverse=-1\n",
      "eth.usd.td price.osci\n",
      "reverse=1\n",
      "reverse=-1\n",
      "eth.usd.td ma.dif.10\n",
      "reverse=1\n",
      "reverse=-1\n",
      "eth.usd.td kdj.k\n",
      "reverse=1\n",
      "reverse=-1\n",
      "eth.usd.td kdj.j\n",
      "reverse=1\n",
      "reverse=-1\n",
      "eth.usd.td nr.range\n",
      "reverse=1\n",
      "reverse=-1\n",
      "eth.usd.td dbook.range\n",
      "reverse=1\n",
      "reverse=-1\n",
      "eth.usd.td range.pos.range\n",
      "reverse=1\n",
      "reverse=-1\n",
      "eth.usd.td price.osci.range\n",
      "reverse=1\n",
      "reverse=-1\n",
      "eth.usd.td ma.dif.10.range\n",
      "reverse=1\n",
      "reverse=-1\n",
      "eth.usd.td kdj.k.range\n",
      "reverse=1\n",
      "reverse=-1\n",
      "eth.usd.td kdj.j.range\n",
      "reverse=1\n",
      "reverse=-1\n",
      "eth.usd.td nr.std\n",
      "reverse=1\n",
      "reverse=-1\n",
      "eth.usd.td dbook.std\n",
      "reverse=1\n",
      "reverse=-1\n",
      "eth.usd.td range.pos.std\n",
      "reverse=1\n",
      "reverse=-1\n",
      "eth.usd.td price.osci.std\n",
      "reverse=1\n",
      "reverse=-1\n",
      "eth.usd.td ma.dif.10.std\n",
      "reverse=1\n",
      "reverse=-1\n",
      "eth.usd.td kdj.k.std\n",
      "reverse=1\n",
      "reverse=-1\n",
      "eth.usd.td kdj.j.std\n",
      "reverse=1\n",
      "reverse=-1\n",
      "eth.usd.td nr.trend.index\n",
      "reverse=1\n",
      "reverse=-1\n",
      "eth.usd.td dbook.trend.index\n",
      "reverse=1\n",
      "reverse=-1\n",
      "eth.usd.td range.pos.trend.index\n",
      "reverse=1\n",
      "reverse=-1\n",
      "eth.usd.td price.osci.trend.index\n",
      "reverse=1\n",
      "reverse=-1\n",
      "eth.usd.td ma.dif.10.trend.index\n",
      "reverse=1\n",
      "reverse=-1\n",
      "eth.usd.td kdj.k.trend.index\n",
      "reverse=1\n",
      "reverse=-1\n",
      "eth.usd.td kdj.j.trend.index\n",
      "reverse=1\n",
      "reverse=-1\n",
      "btc.usdt nr\n",
      "reverse=1\n",
      "reverse=-1\n",
      "btc.usdt dbook\n",
      "reverse=1\n",
      "reverse=-1\n",
      "btc.usdt range.pos\n",
      "reverse=1\n",
      "reverse=-1\n",
      "btc.usdt price.osci\n",
      "reverse=1\n"
     ]
    },
    {
     "name": "stderr",
     "output_type": "stream",
     "text": [
      "d:\\Anaconda3\\lib\\site-packages\\numpy\\lib\\function_base.py:3826: RuntimeWarning: Invalid value encountered in percentile\n",
      "  interpolation=interpolation)\n"
     ]
    },
    {
     "name": "stdout",
     "output_type": "stream",
     "text": [
      "reverse=-1\n",
      "btc.usdt ma.dif.10\n",
      "reverse=1\n"
     ]
    },
    {
     "name": "stderr",
     "output_type": "stream",
     "text": [
      "d:\\Anaconda3\\lib\\site-packages\\numpy\\lib\\function_base.py:3826: RuntimeWarning: Invalid value encountered in percentile\n",
      "  interpolation=interpolation)\n"
     ]
    },
    {
     "name": "stdout",
     "output_type": "stream",
     "text": [
      "reverse=-1\n",
      "btc.usdt kdj.k\n",
      "reverse=1\n",
      "reverse=-1\n",
      "btc.usdt kdj.j\n",
      "reverse=1\n",
      "reverse=-1\n",
      "btc.usdt nr.range\n"
     ]
    },
    {
     "name": "stderr",
     "output_type": "stream",
     "text": [
      "d:\\Anaconda3\\lib\\site-packages\\numpy\\lib\\function_base.py:3826: RuntimeWarning: Invalid value encountered in percentile\n",
      "  interpolation=interpolation)\n"
     ]
    },
    {
     "name": "stdout",
     "output_type": "stream",
     "text": [
      "reverse=1\n",
      "reverse=-1\n",
      "btc.usdt dbook.range\n",
      "reverse=1\n"
     ]
    },
    {
     "name": "stderr",
     "output_type": "stream",
     "text": [
      "d:\\Anaconda3\\lib\\site-packages\\numpy\\lib\\function_base.py:3826: RuntimeWarning: Invalid value encountered in percentile\n",
      "  interpolation=interpolation)\n"
     ]
    },
    {
     "name": "stdout",
     "output_type": "stream",
     "text": [
      "reverse=-1\n",
      "btc.usdt range.pos.range\n",
      "reverse=1\n"
     ]
    },
    {
     "name": "stderr",
     "output_type": "stream",
     "text": [
      "d:\\Anaconda3\\lib\\site-packages\\numpy\\lib\\function_base.py:3826: RuntimeWarning: Invalid value encountered in percentile\n",
      "  interpolation=interpolation)\n"
     ]
    },
    {
     "name": "stdout",
     "output_type": "stream",
     "text": [
      "reverse=-1\n",
      "btc.usdt price.osci.range\n",
      "reverse=1\n"
     ]
    },
    {
     "name": "stderr",
     "output_type": "stream",
     "text": [
      "d:\\Anaconda3\\lib\\site-packages\\numpy\\lib\\function_base.py:3826: RuntimeWarning: Invalid value encountered in percentile\n",
      "  interpolation=interpolation)\n"
     ]
    },
    {
     "name": "stdout",
     "output_type": "stream",
     "text": [
      "reverse=-1\n",
      "btc.usdt ma.dif.10.range\n",
      "reverse=1\n"
     ]
    },
    {
     "name": "stderr",
     "output_type": "stream",
     "text": [
      "d:\\Anaconda3\\lib\\site-packages\\numpy\\lib\\function_base.py:3826: RuntimeWarning: Invalid value encountered in percentile\n",
      "  interpolation=interpolation)\n"
     ]
    },
    {
     "name": "stdout",
     "output_type": "stream",
     "text": [
      "reverse=-1\n",
      "btc.usdt kdj.k.range\n",
      "reverse=1\n"
     ]
    },
    {
     "name": "stderr",
     "output_type": "stream",
     "text": [
      "d:\\Anaconda3\\lib\\site-packages\\numpy\\lib\\function_base.py:3826: RuntimeWarning: Invalid value encountered in percentile\n",
      "  interpolation=interpolation)\n"
     ]
    },
    {
     "name": "stdout",
     "output_type": "stream",
     "text": [
      "reverse=-1\n",
      "btc.usdt kdj.j.range\n",
      "reverse=1\n"
     ]
    },
    {
     "name": "stderr",
     "output_type": "stream",
     "text": [
      "d:\\Anaconda3\\lib\\site-packages\\numpy\\lib\\function_base.py:3826: RuntimeWarning: Invalid value encountered in percentile\n",
      "  interpolation=interpolation)\n"
     ]
    },
    {
     "name": "stdout",
     "output_type": "stream",
     "text": [
      "reverse=-1\n",
      "btc.usdt nr.std\n",
      "reverse=1\n"
     ]
    },
    {
     "name": "stderr",
     "output_type": "stream",
     "text": [
      "d:\\Anaconda3\\lib\\site-packages\\numpy\\lib\\function_base.py:3826: RuntimeWarning: Invalid value encountered in percentile\n",
      "  interpolation=interpolation)\n"
     ]
    },
    {
     "name": "stdout",
     "output_type": "stream",
     "text": [
      "reverse=-1\n",
      "btc.usdt dbook.std\n",
      "reverse=1\n"
     ]
    },
    {
     "name": "stderr",
     "output_type": "stream",
     "text": [
      "d:\\Anaconda3\\lib\\site-packages\\numpy\\lib\\function_base.py:3826: RuntimeWarning: Invalid value encountered in percentile\n",
      "  interpolation=interpolation)\n"
     ]
    },
    {
     "name": "stdout",
     "output_type": "stream",
     "text": [
      "reverse=-1\n",
      "btc.usdt range.pos.std\n",
      "reverse=1\n"
     ]
    },
    {
     "name": "stderr",
     "output_type": "stream",
     "text": [
      "d:\\Anaconda3\\lib\\site-packages\\numpy\\lib\\function_base.py:3826: RuntimeWarning: Invalid value encountered in percentile\n",
      "  interpolation=interpolation)\n"
     ]
    },
    {
     "name": "stdout",
     "output_type": "stream",
     "text": [
      "reverse=-1\n",
      "btc.usdt price.osci.std\n",
      "reverse=1\n"
     ]
    },
    {
     "name": "stderr",
     "output_type": "stream",
     "text": [
      "d:\\Anaconda3\\lib\\site-packages\\numpy\\lib\\function_base.py:3826: RuntimeWarning: Invalid value encountered in percentile\n",
      "  interpolation=interpolation)\n"
     ]
    },
    {
     "name": "stdout",
     "output_type": "stream",
     "text": [
      "reverse=-1\n",
      "btc.usdt ma.dif.10.std\n",
      "reverse=1\n"
     ]
    },
    {
     "name": "stderr",
     "output_type": "stream",
     "text": [
      "d:\\Anaconda3\\lib\\site-packages\\numpy\\lib\\function_base.py:3826: RuntimeWarning: Invalid value encountered in percentile\n",
      "  interpolation=interpolation)\n"
     ]
    },
    {
     "name": "stdout",
     "output_type": "stream",
     "text": [
      "reverse=-1\n",
      "btc.usdt kdj.k.std\n",
      "reverse=1\n"
     ]
    },
    {
     "name": "stderr",
     "output_type": "stream",
     "text": [
      "d:\\Anaconda3\\lib\\site-packages\\numpy\\lib\\function_base.py:3826: RuntimeWarning: Invalid value encountered in percentile\n",
      "  interpolation=interpolation)\n"
     ]
    },
    {
     "name": "stdout",
     "output_type": "stream",
     "text": [
      "reverse=-1\n",
      "btc.usdt kdj.j.std\n",
      "reverse=1\n"
     ]
    },
    {
     "name": "stderr",
     "output_type": "stream",
     "text": [
      "d:\\Anaconda3\\lib\\site-packages\\numpy\\lib\\function_base.py:3826: RuntimeWarning: Invalid value encountered in percentile\n",
      "  interpolation=interpolation)\n"
     ]
    },
    {
     "name": "stdout",
     "output_type": "stream",
     "text": [
      "reverse=-1\n",
      "btc.usdt nr.trend.index\n",
      "reverse=1\n"
     ]
    },
    {
     "name": "stderr",
     "output_type": "stream",
     "text": [
      "d:\\Anaconda3\\lib\\site-packages\\numpy\\lib\\function_base.py:3826: RuntimeWarning: Invalid value encountered in percentile\n",
      "  interpolation=interpolation)\n"
     ]
    },
    {
     "name": "stdout",
     "output_type": "stream",
     "text": [
      "reverse=-1\n",
      "btc.usdt dbook.trend.index\n",
      "reverse=1\n"
     ]
    },
    {
     "name": "stderr",
     "output_type": "stream",
     "text": [
      "d:\\Anaconda3\\lib\\site-packages\\numpy\\lib\\function_base.py:3826: RuntimeWarning: Invalid value encountered in percentile\n",
      "  interpolation=interpolation)\n"
     ]
    },
    {
     "name": "stdout",
     "output_type": "stream",
     "text": [
      "reverse=-1\n",
      "btc.usdt range.pos.trend.index\n",
      "reverse=1\n"
     ]
    },
    {
     "name": "stderr",
     "output_type": "stream",
     "text": [
      "d:\\Anaconda3\\lib\\site-packages\\numpy\\lib\\function_base.py:3826: RuntimeWarning: Invalid value encountered in percentile\n",
      "  interpolation=interpolation)\n"
     ]
    },
    {
     "name": "stdout",
     "output_type": "stream",
     "text": [
      "reverse=-1\n",
      "btc.usdt price.osci.trend.index\n",
      "reverse=1\n"
     ]
    },
    {
     "name": "stderr",
     "output_type": "stream",
     "text": [
      "d:\\Anaconda3\\lib\\site-packages\\numpy\\lib\\function_base.py:3826: RuntimeWarning: Invalid value encountered in percentile\n",
      "  interpolation=interpolation)\n"
     ]
    },
    {
     "name": "stdout",
     "output_type": "stream",
     "text": [
      "reverse=-1\n",
      "btc.usdt ma.dif.10.trend.index\n",
      "reverse=1\n"
     ]
    },
    {
     "name": "stderr",
     "output_type": "stream",
     "text": [
      "d:\\Anaconda3\\lib\\site-packages\\numpy\\lib\\function_base.py:3826: RuntimeWarning: Invalid value encountered in percentile\n",
      "  interpolation=interpolation)\n"
     ]
    },
    {
     "name": "stdout",
     "output_type": "stream",
     "text": [
      "reverse=-1\n",
      "btc.usdt kdj.k.trend.index\n",
      "reverse=1\n"
     ]
    },
    {
     "name": "stderr",
     "output_type": "stream",
     "text": [
      "d:\\Anaconda3\\lib\\site-packages\\numpy\\lib\\function_base.py:3826: RuntimeWarning: Invalid value encountered in percentile\n",
      "  interpolation=interpolation)\n"
     ]
    },
    {
     "name": "stdout",
     "output_type": "stream",
     "text": [
      "reverse=-1\n",
      "btc.usdt kdj.j.trend.index\n",
      "reverse=1\n"
     ]
    },
    {
     "name": "stderr",
     "output_type": "stream",
     "text": [
      "d:\\Anaconda3\\lib\\site-packages\\numpy\\lib\\function_base.py:3826: RuntimeWarning: Invalid value encountered in percentile\n",
      "  interpolation=interpolation)\n"
     ]
    },
    {
     "name": "stdout",
     "output_type": "stream",
     "text": [
      "reverse=-1\n",
      "eth.usdt nr\n",
      "reverse=1\n",
      "reverse=-1\n",
      "eth.usdt dbook\n",
      "reverse=1\n",
      "reverse=-1\n",
      "eth.usdt range.pos\n",
      "reverse=1\n",
      "reverse=-1\n",
      "eth.usdt price.osci\n",
      "reverse=1\n"
     ]
    },
    {
     "name": "stderr",
     "output_type": "stream",
     "text": [
      "d:\\Anaconda3\\lib\\site-packages\\numpy\\lib\\function_base.py:3826: RuntimeWarning: Invalid value encountered in percentile\n",
      "  interpolation=interpolation)\n"
     ]
    },
    {
     "name": "stdout",
     "output_type": "stream",
     "text": [
      "reverse=-1\n",
      "eth.usdt ma.dif.10\n",
      "reverse=1\n"
     ]
    },
    {
     "name": "stderr",
     "output_type": "stream",
     "text": [
      "d:\\Anaconda3\\lib\\site-packages\\numpy\\lib\\function_base.py:3826: RuntimeWarning: Invalid value encountered in percentile\n",
      "  interpolation=interpolation)\n"
     ]
    },
    {
     "name": "stdout",
     "output_type": "stream",
     "text": [
      "reverse=-1\n",
      "eth.usdt kdj.k\n",
      "reverse=1\n",
      "reverse=-1\n",
      "eth.usdt kdj.j\n",
      "reverse=1\n",
      "reverse=-1\n",
      "eth.usdt nr.range\n",
      "reverse=1\n"
     ]
    },
    {
     "name": "stderr",
     "output_type": "stream",
     "text": [
      "d:\\Anaconda3\\lib\\site-packages\\numpy\\lib\\function_base.py:3826: RuntimeWarning: Invalid value encountered in percentile\n",
      "  interpolation=interpolation)\n"
     ]
    },
    {
     "name": "stdout",
     "output_type": "stream",
     "text": [
      "reverse=-1\n",
      "eth.usdt dbook.range\n",
      "reverse=1\n"
     ]
    },
    {
     "name": "stderr",
     "output_type": "stream",
     "text": [
      "d:\\Anaconda3\\lib\\site-packages\\numpy\\lib\\function_base.py:3826: RuntimeWarning: Invalid value encountered in percentile\n",
      "  interpolation=interpolation)\n"
     ]
    },
    {
     "name": "stdout",
     "output_type": "stream",
     "text": [
      "reverse=-1\n",
      "eth.usdt range.pos.range\n",
      "reverse=1\n"
     ]
    },
    {
     "name": "stderr",
     "output_type": "stream",
     "text": [
      "d:\\Anaconda3\\lib\\site-packages\\numpy\\lib\\function_base.py:3826: RuntimeWarning: Invalid value encountered in percentile\n",
      "  interpolation=interpolation)\n"
     ]
    },
    {
     "name": "stdout",
     "output_type": "stream",
     "text": [
      "reverse=-1\n",
      "eth.usdt price.osci.range\n",
      "reverse=1\n"
     ]
    },
    {
     "name": "stderr",
     "output_type": "stream",
     "text": [
      "d:\\Anaconda3\\lib\\site-packages\\numpy\\lib\\function_base.py:3826: RuntimeWarning: Invalid value encountered in percentile\n",
      "  interpolation=interpolation)\n"
     ]
    },
    {
     "name": "stdout",
     "output_type": "stream",
     "text": [
      "reverse=-1\n",
      "eth.usdt ma.dif.10.range\n",
      "reverse=1\n"
     ]
    },
    {
     "name": "stderr",
     "output_type": "stream",
     "text": [
      "d:\\Anaconda3\\lib\\site-packages\\numpy\\lib\\function_base.py:3826: RuntimeWarning: Invalid value encountered in percentile\n",
      "  interpolation=interpolation)\n"
     ]
    },
    {
     "name": "stdout",
     "output_type": "stream",
     "text": [
      "reverse=-1\n",
      "eth.usdt kdj.k.range\n",
      "reverse=1\n"
     ]
    },
    {
     "name": "stderr",
     "output_type": "stream",
     "text": [
      "d:\\Anaconda3\\lib\\site-packages\\numpy\\lib\\function_base.py:3826: RuntimeWarning: Invalid value encountered in percentile\n",
      "  interpolation=interpolation)\n"
     ]
    },
    {
     "name": "stdout",
     "output_type": "stream",
     "text": [
      "reverse=-1\n",
      "eth.usdt kdj.j.range\n",
      "reverse=1\n"
     ]
    },
    {
     "name": "stderr",
     "output_type": "stream",
     "text": [
      "d:\\Anaconda3\\lib\\site-packages\\numpy\\lib\\function_base.py:3826: RuntimeWarning: Invalid value encountered in percentile\n",
      "  interpolation=interpolation)\n"
     ]
    },
    {
     "name": "stdout",
     "output_type": "stream",
     "text": [
      "reverse=-1\n",
      "eth.usdt nr.std\n",
      "reverse=1\n"
     ]
    },
    {
     "name": "stderr",
     "output_type": "stream",
     "text": [
      "d:\\Anaconda3\\lib\\site-packages\\numpy\\lib\\function_base.py:3826: RuntimeWarning: Invalid value encountered in percentile\n",
      "  interpolation=interpolation)\n"
     ]
    },
    {
     "name": "stdout",
     "output_type": "stream",
     "text": [
      "reverse=-1\n",
      "eth.usdt dbook.std\n",
      "reverse=1\n"
     ]
    },
    {
     "name": "stderr",
     "output_type": "stream",
     "text": [
      "d:\\Anaconda3\\lib\\site-packages\\numpy\\lib\\function_base.py:3826: RuntimeWarning: Invalid value encountered in percentile\n",
      "  interpolation=interpolation)\n"
     ]
    },
    {
     "name": "stdout",
     "output_type": "stream",
     "text": [
      "reverse=-1\n",
      "eth.usdt range.pos.std\n",
      "reverse=1\n"
     ]
    },
    {
     "name": "stderr",
     "output_type": "stream",
     "text": [
      "d:\\Anaconda3\\lib\\site-packages\\numpy\\lib\\function_base.py:3826: RuntimeWarning: Invalid value encountered in percentile\n",
      "  interpolation=interpolation)\n"
     ]
    },
    {
     "name": "stdout",
     "output_type": "stream",
     "text": [
      "reverse=-1\n",
      "eth.usdt price.osci.std\n",
      "reverse=1\n"
     ]
    },
    {
     "name": "stderr",
     "output_type": "stream",
     "text": [
      "d:\\Anaconda3\\lib\\site-packages\\numpy\\lib\\function_base.py:3826: RuntimeWarning: Invalid value encountered in percentile\n",
      "  interpolation=interpolation)\n"
     ]
    },
    {
     "name": "stdout",
     "output_type": "stream",
     "text": [
      "reverse=-1\n",
      "eth.usdt ma.dif.10.std\n",
      "reverse=1\n"
     ]
    },
    {
     "name": "stderr",
     "output_type": "stream",
     "text": [
      "d:\\Anaconda3\\lib\\site-packages\\numpy\\lib\\function_base.py:3826: RuntimeWarning: Invalid value encountered in percentile\n",
      "  interpolation=interpolation)\n"
     ]
    },
    {
     "name": "stdout",
     "output_type": "stream",
     "text": [
      "reverse=-1\n",
      "eth.usdt kdj.k.std\n",
      "reverse=1\n"
     ]
    },
    {
     "name": "stderr",
     "output_type": "stream",
     "text": [
      "d:\\Anaconda3\\lib\\site-packages\\numpy\\lib\\function_base.py:3826: RuntimeWarning: Invalid value encountered in percentile\n",
      "  interpolation=interpolation)\n"
     ]
    },
    {
     "name": "stdout",
     "output_type": "stream",
     "text": [
      "reverse=-1\n",
      "eth.usdt kdj.j.std\n",
      "reverse=1\n"
     ]
    },
    {
     "name": "stderr",
     "output_type": "stream",
     "text": [
      "d:\\Anaconda3\\lib\\site-packages\\numpy\\lib\\function_base.py:3826: RuntimeWarning: Invalid value encountered in percentile\n",
      "  interpolation=interpolation)\n"
     ]
    },
    {
     "name": "stdout",
     "output_type": "stream",
     "text": [
      "reverse=-1\n",
      "eth.usdt nr.trend.index\n",
      "reverse=1\n"
     ]
    },
    {
     "name": "stderr",
     "output_type": "stream",
     "text": [
      "d:\\Anaconda3\\lib\\site-packages\\numpy\\lib\\function_base.py:3826: RuntimeWarning: Invalid value encountered in percentile\n",
      "  interpolation=interpolation)\n"
     ]
    },
    {
     "name": "stdout",
     "output_type": "stream",
     "text": [
      "reverse=-1\n",
      "eth.usdt dbook.trend.index\n",
      "reverse=1\n"
     ]
    },
    {
     "name": "stderr",
     "output_type": "stream",
     "text": [
      "d:\\Anaconda3\\lib\\site-packages\\numpy\\lib\\function_base.py:3826: RuntimeWarning: Invalid value encountered in percentile\n",
      "  interpolation=interpolation)\n"
     ]
    },
    {
     "name": "stdout",
     "output_type": "stream",
     "text": [
      "reverse=-1\n",
      "eth.usdt range.pos.trend.index\n",
      "reverse=1\n"
     ]
    },
    {
     "name": "stderr",
     "output_type": "stream",
     "text": [
      "d:\\Anaconda3\\lib\\site-packages\\numpy\\lib\\function_base.py:3826: RuntimeWarning: Invalid value encountered in percentile\n",
      "  interpolation=interpolation)\n"
     ]
    },
    {
     "name": "stdout",
     "output_type": "stream",
     "text": [
      "reverse=-1\n",
      "eth.usdt price.osci.trend.index\n",
      "reverse=1\n"
     ]
    },
    {
     "name": "stderr",
     "output_type": "stream",
     "text": [
      "d:\\Anaconda3\\lib\\site-packages\\numpy\\lib\\function_base.py:3826: RuntimeWarning: Invalid value encountered in percentile\n",
      "  interpolation=interpolation)\n"
     ]
    },
    {
     "name": "stdout",
     "output_type": "stream",
     "text": [
      "reverse=-1\n",
      "eth.usdt ma.dif.10.trend.index\n",
      "reverse=1\n"
     ]
    },
    {
     "name": "stderr",
     "output_type": "stream",
     "text": [
      "d:\\Anaconda3\\lib\\site-packages\\numpy\\lib\\function_base.py:3826: RuntimeWarning: Invalid value encountered in percentile\n",
      "  interpolation=interpolation)\n"
     ]
    },
    {
     "name": "stdout",
     "output_type": "stream",
     "text": [
      "reverse=-1\n",
      "eth.usdt kdj.k.trend.index\n",
      "reverse=1\n"
     ]
    },
    {
     "name": "stderr",
     "output_type": "stream",
     "text": [
      "d:\\Anaconda3\\lib\\site-packages\\numpy\\lib\\function_base.py:3826: RuntimeWarning: Invalid value encountered in percentile\n",
      "  interpolation=interpolation)\n"
     ]
    },
    {
     "name": "stdout",
     "output_type": "stream",
     "text": [
      "reverse=-1\n",
      "eth.usdt kdj.j.trend.index\n",
      "reverse=1\n"
     ]
    },
    {
     "name": "stderr",
     "output_type": "stream",
     "text": [
      "d:\\Anaconda3\\lib\\site-packages\\numpy\\lib\\function_base.py:3826: RuntimeWarning: Invalid value encountered in percentile\n",
      "  interpolation=interpolation)\n"
     ]
    },
    {
     "name": "stdout",
     "output_type": "stream",
     "text": [
      "reverse=-1\n",
      "Wall time: 9h 30min 53s\n"
     ]
    }
   ],
   "source": [
    "%%time\n",
    "SIGNAL_PATH = \"e:/intern\"\n",
    "for product in product_list:\n",
    "    spread = product_info[product][\"spread\"]\n",
    "    tranct = product_info[product][\"tranct\"]\n",
    "    tranct_ratio = product_info[product][\"tranct.ratio\"]\n",
    "    all_dates = np.array(os.listdir(DATA_PATH + product)[1:-1])\n",
    "    for signal in all_signal_list:\n",
    "        print(product, signal)\n",
    "        evaluate_signal(signal, all_dates, product, 2/spread, 20, CORE_NUM, HEAD_PATH, SIGNAL_PATH,\n",
    "                period=\"comb\", split_str=\"2020\", tranct=tranct, \n",
    "                max_spread=spread*1.1, tranct_ratio=tranct_ratio, atr_filter=20/spread, save_path=\"signal result atr\")\n",
    "\n",
    "#Wall time: 9h 30min 53s\n"
   ]
  },
  {
   "cell_type": "markdown",
   "metadata": {},
   "source": [
    "- now we compare the result of comb signal and previous signal"
   ]
  },
  {
   "cell_type": "code",
   "execution_count": 35,
   "metadata": {},
   "outputs": [],
   "source": [
    "## get the signal performance\n",
    "## including trend and reverse signals\n",
    "def get_signal_performance_result(all_period_signal, signal_dire, period, product_list):\n",
    "    trend_signal_result = pd.DataFrame(data=OrderedDict([(\"signal\", all_period_signal), (\"reverse\",1),\n",
    "                               (\"num\", 0), (\"trainSharpe\", 0), (\"testSharpe\", 0)]))\n",
    "    reverse_signal_result = pd.DataFrame(data=OrderedDict([(\"signal\", all_period_signal), (\"reverse\",-1),\n",
    "                               (\"num\", 0), (\"trainSharpe\", 0), (\"testSharpe\", 0)]))\n",
    "    n_signal = len(all_period_signal) ## number of all signals\n",
    "    trend_train_sharpe = np.zeros(len(product_list))\n",
    "    trend_test_sharpe = np.zeros(len(product_list))\n",
    "    reverse_train_sharpe = np.zeros(len(product_list))\n",
    "    reverse_test_sharpe = np.zeros(len(product_list))\n",
    "    for k in range(n_signal):\n",
    "        signal_name = all_period_signal[k]\n",
    "        i = 0\n",
    "        for product in product_list:\n",
    "            all_dates = np.array(os.listdir(DATA_PATH + product)[1:-1])\n",
    "            train_sample = all_dates<\"2020\" \n",
    "            test_sample = all_dates>\"2020\"\n",
    "            stat_result = load(HEAD_PATH+\"/\" + signal_dire +\"/\"+product+\".\"+signal_name+\".pkl\") ## statistics of signal over a product\n",
    "            trend_signal_stat = stat_result['trend.signal.stat'] ## trending statistics\n",
    "            spread = product_info[product][\"spread\"]            \n",
    "            if product==\"btc.usd.td\" or product==\"eth.usd.td\":\n",
    "                avg_pnl = 10\n",
    "            else:\n",
    "                avg_pnl = 200\n",
    "\n",
    "            if tuple(trend_signal_stat.keys())[0]=='train.stat':\n",
    "                train_stat = trend_signal_stat[\"train.stat\"]\n",
    "                test_stat = trend_signal_stat[\"test.stat\"]\n",
    "                #good_strat = trend_signal_stat[\"good.strat\"]\n",
    "                good_strat = (train_stat[\"final.result\"][\"avg.pnl\"]>avg_pnl*spread) & (train_stat[\"final.result\"][\"num\"]>10) ## filter criterion\n",
    "                if sum(good_strat)>2:\n",
    "                    train_stat = trend_signal_stat[\"train.stat\"]\n",
    "                    test_stat = trend_signal_stat[\"test.stat\"]\n",
    "                    train_pnl = train_stat[\"daily.ret\"].loc[:, good_strat].sum(axis=1)/sum(good_strat) ## get the daily return\n",
    "                    #train_std = np.std(train_pnl)\n",
    "                    #train_pnl = train_pnl/train_std\n",
    "                    test_pnl = test_stat[\"daily.ret\"].loc[:, good_strat].sum(axis=1)/sum(good_strat)\n",
    "                    trend_train_sharpe[i] = sharpe(train_pnl)\n",
    "                    trend_test_sharpe[i] = sharpe(test_pnl)\n",
    "                    #print(product, \"train sharpe \", sharpe(train_pnl), \"test sharpe \", sharpe(test_pnl))\n",
    "                    i = i+1\n",
    "            if i>0: ## if there are any good products\n",
    "                trend_signal_result.loc[k, (\"signal\", \"num\", \"trainSharpe\", \"testSharpe\")] = (signal_name, i,  np.mean(trend_train_sharpe[:i]),np.mean(trend_test_sharpe[:i]))\n",
    "        i = 0\n",
    "        for product in product_list:\n",
    "            stat_result = load(HEAD_PATH+\"/\"+signal_dire+\"/\"+product+\".\"+signal_name+\".pkl\")\n",
    "            reverse_signal_stat = stat_result['reverse.signal.stat']\n",
    "            spread = product_info[product][\"spread\"]\n",
    "            if tuple(reverse_signal_stat.keys())[0]=='train.stat':\n",
    "                #good_strat = reverse_signal_stat[\"good.strat\"]\n",
    "                train_stat = reverse_signal_stat[\"train.stat\"]\n",
    "                train_pnl = train_stat[\"daily.ret\"].loc[:, good_strat].sum(axis=1)/sum(good_strat) ## get the daily return\n",
    "                test_stat = reverse_signal_stat[\"test.stat\"]\n",
    "                good_strat = (train_stat[\"final.result\"][\"avg.pnl\"]>avg_pnl*spread) & (train_stat[\"final.result\"][\"num\"]>10)\n",
    "                test_pnl = test_stat[\"daily.ret\"].loc[:, good_strat].sum(axis=1)/sum(good_strat)\n",
    "                if sum(good_strat)>2:\n",
    "                    #train_std = np.std(train_pnl)\n",
    "                    #train_pnl = train_pnl/train_std\n",
    "                    reverse_train_sharpe[i] = sharpe(train_pnl)\n",
    "                    reverse_test_sharpe[i] = sharpe(test_pnl)\n",
    "                    i = i+1\n",
    "            if i>0:\n",
    "                \n",
    "                reverse_signal_result.loc[k, (\"signal\",\"num\", \"trainSharpe\", \"testSharpe\")] = (signal_name, i, np.mean(reverse_train_sharpe[:i]),np.mean(reverse_test_sharpe[:i]))\n",
    "    return OrderedDict([(\"trend.signal.stat\", trend_signal_result), \n",
    "                        (\"reverse.signal.stat\", reverse_signal_result)])\n"
   ]
  },
  {
   "cell_type": "code",
   "execution_count": 36,
   "metadata": {},
   "outputs": [],
   "source": [
    "def get_single_signal_stat(result_atr, min_num=0, min_sharpe=0.5):\n",
    "    good_trend = (result_atr[\"trend.signal.stat\"][\"num\"]>min_num) & (result_atr[\"trend.signal.stat\"][\"trainSharpe\"]>min_sharpe) & (result_atr[\"trend.signal.stat\"][\"testSharpe\"]>min_sharpe)\n",
    "    good_reverse = (result_atr[\"reverse.signal.stat\"][\"num\"]>min_num) & (result_atr[\"reverse.signal.stat\"][\"trainSharpe\"]>min_sharpe) & (result_atr[\"reverse.signal.stat\"][\"testSharpe\"]>min_sharpe)\n",
    "    print(\"with atr good signals: \"+ str(sum(good_trend | good_reverse)))\n",
    "    train_sharpe = np.mean(np.append(result_atr[\"trend.signal.stat\"][\"trainSharpe\"][good_trend],\n",
    "                      result_atr[\"reverse.signal.stat\"][\"trainSharpe\"][good_reverse]))\n",
    "    test_sharpe = np.mean(np.append(result_atr[\"trend.signal.stat\"][\"testSharpe\"][good_trend],\n",
    "                      result_atr[\"reverse.signal.stat\"][\"testSharpe\"][good_reverse]))\n",
    "    print(\"train sharpe: \", train_sharpe)\n",
    "    print(\"test sharpe: \", test_sharpe)\n",
    "    print(all_signal_list[good_trend])\n",
    "    print(all_signal_list[good_reverse])\n"
   ]
  },
  {
   "cell_type": "code",
   "execution_count": 38,
   "metadata": {},
   "outputs": [],
   "source": [
    "result_atr = get_signal_performance_result(all_period_signal, \"signal result atr\", 4096, product_list)\n",
    "result_comb= get_signal_performance_result(all_comb_list, \"signal result atr\", \"comb\", product_list)"
   ]
  },
  {
   "cell_type": "code",
   "execution_count": 40,
   "metadata": {},
   "outputs": [
    {
     "name": "stdout",
     "output_type": "stream",
     "text": [
      "with atr good signals: 5\n",
      "train sharpe:  0.78458852587399\n",
      "test sharpe:  1.7879568608673875\n",
      "['nr' 'range.pos' 'nr.range' 'range.pos.range' 'nr.std']\n",
      "[]\n",
      "with atr good signals: 2\n",
      "train sharpe:  0.6724121007921882\n",
      "test sharpe:  2.2040313968101986\n",
      "['range.pos.range' 'nr.std']\n",
      "[]\n"
     ]
    }
   ],
   "source": [
    "get_single_signal_stat(result_atr, min_num=0, min_sharpe=0.5)\n",
    "get_single_signal_stat(result_comb, min_num=0, min_sharpe=0.5)\n",
    "\n",
    "# with atr good signals: 5\n",
    "# train sharpe:  0.78458852587399\n",
    "# test sharpe:  1.7879568608673875\n",
    "# ['nr' 'range.pos' 'nr.range' 'range.pos.range' 'nr.std']\n",
    "# []\n",
    "# with atr good signals: 2\n",
    "# train sharpe:  0.6724121007921882\n",
    "# test sharpe:  2.2040313968101986\n",
    "# ['range.pos.range' 'nr.std']\n",
    "# []\n",
    "\n",
    "\n"
   ]
  },
  {
   "cell_type": "code",
   "execution_count": 41,
   "metadata": {},
   "outputs": [
    {
     "name": "stdout",
     "output_type": "stream",
     "text": [
      "with atr good signals: 1\n",
      "train sharpe:  1.3684328000205555\n",
      "test sharpe:  0.8091649445937805\n",
      "['range.pos']\n",
      "[]\n",
      "with atr good signals: 0\n",
      "train sharpe:  nan\n",
      "test sharpe:  nan\n",
      "[]\n",
      "[]\n"
     ]
    },
    {
     "name": "stderr",
     "output_type": "stream",
     "text": [
      "d:\\Anaconda3\\lib\\site-packages\\numpy\\core\\fromnumeric.py:3118: RuntimeWarning: Mean of empty slice.\n",
      "  out=out, **kwargs)\n",
      "d:\\Anaconda3\\lib\\site-packages\\numpy\\core\\_methods.py:85: RuntimeWarning: invalid value encountered in double_scalars\n",
      "  ret = ret.dtype.type(ret / rcount)\n"
     ]
    }
   ],
   "source": [
    "get_single_signal_stat(result_atr, min_num=1, min_sharpe=0.5)\n",
    "get_single_signal_stat(result_comb, min_num=1, min_sharpe=0.5)\n",
    "\n",
    "# with atr good signals: 1\n",
    "# train sharpe:  1.3684328000205555\n",
    "# test sharpe:  0.8091649445937805\n",
    "# ['range.pos']\n",
    "# []\n",
    "# with atr good signals: 0\n",
    "# train sharpe:  nan\n",
    "# test sharpe:  nan\n",
    "# []\n",
    "# []"
   ]
  },
  {
   "cell_type": "markdown",
   "metadata": {},
   "source": [
    "- the signal with combination is worse than the signal with just 4096 period"
   ]
  },
  {
   "cell_type": "markdown",
   "metadata": {},
   "source": [
    "- we can see that with atr fitler the result is a little bit worse \n",
    "- also we can see that signal of 4096 ticks perform better than combination of signals\n",
    "- maybe we can use strategies of each period (1024/2048/4096) and then combine them together\n",
    "- rather than combine them first and then construct strategies\n",
    "- now we go to cross-symbol signals and arbitrage"
   ]
  },
  {
   "cell_type": "code",
   "execution_count": 7,
   "metadata": {},
   "outputs": [],
   "source": [
    "product_x = \"btc.usd.td\"\n",
    "product_y = \"eth.usd.td\"\n",
    "date = \"2020-04-10.pkl\"\n",
    "SAVE_PATH = \"e:/intern\"\n",
    "data_x = load(HEAD_PATH+\"/pkl tick/\"+product_x+\"/\"+date)\n",
    "data_y = load(HEAD_PATH+\"/pkl tick/\"+product_y+\"/\"+date)"
   ]
  },
  {
   "cell_type": "code",
   "execution_count": 8,
   "metadata": {},
   "outputs": [],
   "source": [
    "os.makedirs(HEAD_PATH+\"/comb time\", exist_ok=True)\n",
    "os.makedirs(HEAD_PATH+\"/comb time/\"+product_x+\"_\"+product_y, exist_ok=True)"
   ]
  },
  {
   "cell_type": "code",
   "execution_count": 24,
   "metadata": {},
   "outputs": [],
   "source": [
    "all_dates_x = os.listdir(DATA_PATH + product_x)[1:-1]\n",
    "all_dates_y = os.listdir(DATA_PATH + product_y)[1:-1]\n",
    "all_dates = set(all_dates_x) & set(all_dates_y)"
   ]
  },
  {
   "cell_type": "code",
   "execution_count": 28,
   "metadata": {},
   "outputs": [],
   "source": [
    "from collections import Counter\n",
    "def get_crypto_comb_pos(date, product_x, product_y, HEAD_PATH):\n",
    "    data_x = load(HEAD_PATH+\"/pkl tick/\"+product_x+\"/\"+date)\n",
    "    data_y = load(HEAD_PATH+\"/pkl tick/\"+product_y+\"/\"+date)\n",
    "    data_x = data_x[data_x[\"good\"]]\n",
    "    data_y = data_y[data_y[\"good\"]]\n",
    "    data_x[\"contract\"] = product_x\n",
    "    data_y[\"contract\"] = product_y\n",
    "    comb_time = np.append(data_x[\"time\"], data_y[\"time\"])\n",
    "    sort_index = np.argsort(comb_time)\n",
    "    comb_time = comb_time[sort_index]    \n",
    "    data = data_x.append(data_y)\n",
    "    data = data.iloc[sort_index,:]\n",
    "    time_x = data[\"contract\"]==product_x\n",
    "    time_y = data[\"contract\"]==product_y\n",
    "    save([sort_index, time_x, time_y], HEAD_PATH+\"/comb time/\"+product_x+\"_\"+product_y+\"/\"+date)"
   ]
  },
  {
   "cell_type": "code",
   "execution_count": 29,
   "metadata": {},
   "outputs": [
    {
     "name": "stdout",
     "output_type": "stream",
     "text": [
      "Wall time: 3min 4s\n"
     ]
    }
   ],
   "source": [
    "%%time\n",
    "result = parLapply(CORE_NUM, all_dates, get_crypto_comb_pos, product_x=product_x, product_y=product_y, HEAD_PATH=HEAD_PATH)\n",
    "\n",
    "#Wall time: 3min 4s\n"
   ]
  },
  {
   "cell_type": "markdown",
   "metadata": {},
   "source": [
    "- let's go to arbitrage"
   ]
  },
  {
   "cell_type": "code",
   "execution_count": 45,
   "metadata": {},
   "outputs": [],
   "source": [
    "def par_get_crypto_arb_all_signal(signal_name, file_list, product_x, product_y, period, HEAD_PATH=\"d:/intern\", SAVE_PATH=\"e:/intern\"):\n",
    "    n_files = len(file_list)\n",
    "    all_signal = np.array([])\n",
    "    for file in file_list:\n",
    "        good_x = load(SAVE_PATH + \"/good pkl/\"+product_x+\"/\"+file)\n",
    "        good_y = load(SAVE_PATH + \"/good pkl/\"+product_y+\"/\"+file)\n",
    "        S_x = load(SAVE_PATH+\"/tmp pkl/\"+product_x+\"/\"+signal_name+\"/\"+file)[good_x]\n",
    "        S_y = load(SAVE_PATH+\"/tmp pkl/\"+product_y+\"/\"+signal_name+\"/\"+file)[good_y]\n",
    "        [sort_index, time_x, time_y] = load(HEAD_PATH+\"/comb time/\"+product_x+\"_\"+product_y+\"/\"+file)\n",
    "        extend_x = np.append(S_x,S_y)\n",
    "        extend_x[time_y] = np.nan\n",
    "        extend_y = np.append(S_x,S_y)\n",
    "        extend_y[time_x] = np.nan\n",
    "        extend_x[0] = S_x[0]\n",
    "        extend_y[0] = S_y[0]\n",
    "        extend_x = pd.DataFrame(extend_x)\n",
    "        extend_y = pd.DataFrame(extend_y)\n",
    "        extend_x.ffill(inplace=True)\n",
    "        extend_y.ffill(inplace=True)\n",
    "        signal = np.array((extend_x-extend_y)[0])\n",
    "        chosen = (np.arange(len(signal))+1) % period==0\n",
    "        moving_average(signal,period)\n",
    "        all_signal = np.concatenate((all_signal, signal[chosen]), axis=0)\n",
    "    save(all_signal, HEAD_PATH+\"/all signal/\"+product_x+\"_\"+product_y+\".\"+signal_name+\".pkl\")\n"
   ]
  },
  {
   "cell_type": "code",
   "execution_count": 137,
   "metadata": {},
   "outputs": [
    {
     "name": "stdout",
     "output_type": "stream",
     "text": [
      "Wall time: 34.4 s\n"
     ]
    }
   ],
   "source": [
    "%%time\n",
    "result = par_get_crypto_arb_all_signal(\"kdj.j.4096\",  file_list=all_dates, product_x=product_x, \n",
    "                   product_y = product_y, period=4096, HEAD_PATH=HEAD_PATH, SAVE_PATH = SAVE_PATH)\n",
    "\n",
    "# Wall time:  38.6 s"
   ]
  },
  {
   "cell_type": "code",
   "execution_count": 64,
   "metadata": {},
   "outputs": [],
   "source": [
    "def get_combine_data(file, product_x, product_y, HEAD_PATH=\"d:/intern\", SAVE_PATH=\"e:/intern\"):\n",
    "    data_x = load(HEAD_PATH+\"/pkl tick/\"+product_x+\"/\"+file)\n",
    "    data_y = load(HEAD_PATH+\"/pkl tick/\"+product_y+\"/\"+file)\n",
    "    data_x = data_x[data_x[\"good\"]].reset_index(drop=True)\n",
    "    data_y = data_y[data_y[\"good\"]].reset_index(drop=True)\n",
    "    [sort_index, time_x, time_y] = load(HEAD_PATH+\"/comb time/\"+product_x+\"_\"+product_y+\"/\"+file)\n",
    "    extend_data_x = data_x.append(data_y)\n",
    "    extend_data_x = extend_data_x.reset_index(drop=True)\n",
    "    extend_data_x = extend_data_x.iloc[sort_index]\n",
    "    extend_data_x = extend_data_x.reset_index(drop=True)\n",
    "    extend_data_x.loc[list(time_y), (\"bid\", \"ask\", \"next.bid\", \"next.ask\")] = np.nan\n",
    "    extend_data_x.loc[0] = data_x.loc[0]\n",
    "    extend_data_x.ffill(inplace=True)\n",
    "    extend_data_y = data_x.append(data_y)\n",
    "    extend_data_y = extend_data_y.reset_index(drop=True)\n",
    "    extend_data_y = extend_data_y.iloc[sort_index]\n",
    "    extend_data_y = extend_data_y.reset_index(drop=True)\n",
    "    extend_data_y.loc[list(time_x), (\"bid\", \"ask\", \"next.bid\", \"next.ask\")] = np.nan\n",
    "    extend_data_y.loc[0] = data_y.iloc[0]\n",
    "    extend_data_y.ffill(inplace=True)\n",
    "    data = extend_data_x.loc[:,(\"time\",\"good\", \"bid\", \"ask\", \"next.bid\", \"next.ask\")]\n",
    "    data[\"y.bid\"] = extend_data_y[\"bid\"].values\n",
    "    data[\"y.ask\"] = extend_data_y[\"ask\"].values\n",
    "    data[\"y.next.bid\"] = extend_data_y[\"next.bid\"].values\n",
    "    data[\"y.next.ask\"] = extend_data_y[\"next.ask\"].values\n",
    "    save(data, HEAD_PATH+\"/pkl tick/\"+product_x+\"_\"+product_y+\"/\"+file)"
   ]
  },
  {
   "cell_type": "code",
   "execution_count": 65,
   "metadata": {},
   "outputs": [],
   "source": [
    "os.makedirs(HEAD_PATH+\"/pkl tick/\"+product_x+\"_\"+product_y, exist_ok=True)"
   ]
  },
  {
   "cell_type": "code",
   "execution_count": 66,
   "metadata": {},
   "outputs": [
    {
     "name": "stdout",
     "output_type": "stream",
     "text": [
      "Wall time: 3min 10s\n"
     ]
    }
   ],
   "source": [
    "%%time\n",
    "result = parLapply(CORE_NUM, all_dates, get_combine_data, product_x=product_x, product_y = product_y, \n",
    "                   HEAD_PATH=HEAD_PATH, SAVE_PATH=SAVE_PATH);\n",
    "\n",
    "# Wall time: 3min 10s\n"
   ]
  },
  {
   "cell_type": "code",
   "execution_count": 102,
   "metadata": {},
   "outputs": [],
   "source": [
    "from collections import OrderedDict\n",
    "def get_crypto_cross_signal_pnl(file, product_x, product_y, signal_name, thre_mat, reverse=1, tranct=1.1e-4, max_spread=0.61, \n",
    "                                tranct_ratio=True, HEAD_PATH=\"d:/intern\", SAVE_PATH=\"e:/intern\",\n",
    "                   atr_filter=0, rebate=0):\n",
    "    ## load data\n",
    "    data = load(HEAD_PATH+\"/pkl tick/\"+product_x+\"_\"+product_y+\"/\"+file)\n",
    "    [sort_index, time_x, time_y] = load(HEAD_PATH+\"/comb time/\"+product_x+\"_\"+product_y+\"/\"+file)\n",
    "    S_x = load(SAVE_PATH+\"/tmp pkl/\"+product_x+\"/\"+signal_name+\"/\"+file)\n",
    "    S_y = load(SAVE_PATH+\"/tmp pkl/\"+product_y+\"/\"+signal_name+\"/\"+file)\n",
    "    extend_x = np.append(S_x, S_y)\n",
    "    extend_x = extend_x[sort_index]\n",
    "    extend_x[time_y] = np.nan\n",
    "    extend_x[0] = S_x[0]\n",
    "    extend_x = pd.DataFrame(extend_x)\n",
    "    extend_x.ffill(inplace=True)\n",
    "    atr_x = load(SAVE_PATH+\"/tmp pkl/\"+product_x+\"/\"+\"atr.4096\"+\"/\"+file)\n",
    "    atr_y = load(SAVE_PATH+\"/tmp pkl/\"+product_y+\"/\"+\"atr.4096\"+\"/\"+file)\n",
    "    extend_atr_x = np.append(atr_x, atr_y)\n",
    "    extend_atr_x = extend_atr_x[sort_index]\n",
    "    extend_atr_x[time_y] = np.nan\n",
    "    extend_atr_x[0] = atr_x[0]\n",
    "    extend_atr_x = pd.DataFrame(extend_atr_x)\n",
    "    extend_atr_x.ffill(inplace=True)\n",
    "    atr = extend_atr_x\n",
    "    S = extend_x\n",
    "    pred = S*reverse\n",
    "    pred = pred[data[\"good\"]].reset_index(drop=True)[0]\n",
    "    data = data[data[\"good\"]].reset_index(drop=True)    \n",
    "    data_x = np.nan\n",
    "    data_y = np.nan\n",
    "    result = pd.DataFrame(data=OrderedDict([(\"open\", thre_mat[\"open\"].values), (\"close\", thre_mat[\"close\"].values),\n",
    "                               (\"num\", 0), (\"avg.pnl\", 0), (\"pnl\", 0), (\"avg.ret\", 0), (\"ret\", 0)]), \n",
    "                          index=thre_mat.index)\n",
    "    count = 0;\n",
    "    cur_spread = data[\"y.ask\"]-data[\"y.bid\"]\n",
    "    for thre in thre_mat.iterrows():\n",
    "        count = count+1\n",
    "        buy = pred>thre[1][\"open\"]\n",
    "        sell = pred<-thre[1][\"open\"]\n",
    "        signal = pd.Series(data=0, index=data.index)\n",
    "        position = signal.copy()\n",
    "        signal[buy] = 1\n",
    "        signal[sell] = -1\n",
    "        signal[atr<atr_filter]=0\n",
    "        scratch = -thre[1][\"close\"]\n",
    "        position_pos = pd.Series(data=np.nan, index=data.index)\n",
    "        position_pos.iloc[0] = 0\n",
    "        position_pos[(signal==1) & (data[\"y.next.ask\"]>0) & (data[\"y.next.bid\"]>0) & (cur_spread<max_spread)] = 1\n",
    "        position_pos[(pred< -scratch) & (data[\"y.next.bid\"]>0) & (cur_spread<max_spread)] = 0\n",
    "        position_pos.ffill(inplace=True)\n",
    "        pre_pos = position_pos.shift(1)\n",
    "        notional_position_pos = pd.Series(data=0, index=data.index)\n",
    "        notional_position_pos[position_pos==1] = 1\n",
    "        notional_position_pos[(position_pos==1) & (pre_pos==1)] = np.nan\n",
    "        notional_position_pos[(notional_position_pos==1)] = 1/data[\"y.next.ask\"][(notional_position_pos==1)]\n",
    "        notional_position_pos.ffill(inplace=True)\n",
    "        position_neg = pd.Series(data=np.nan, index=data.index)\n",
    "        position_neg.iloc[0] = 0\n",
    "        position_neg[(signal==-1) & (data[\"y.next.ask\"]>0) & (data[\"y.next.bid\"]>0) & (cur_spread<max_spread)] = -1\n",
    "        position_neg[(pred> scratch) & (data[\"y.next.ask\"]>0) & (cur_spread<max_spread)] = 0\n",
    "        position_neg.ffill(inplace=True)\n",
    "        pre_neg = position_neg.shift(1)\n",
    "        notional_position_neg = pd.Series(data=0, index=data.index)\n",
    "        notional_position_neg[position_neg==-1] = -1\n",
    "        notional_position_neg[(position_neg==-1) & (pre_neg==-1)] = np.nan\n",
    "        notional_position_neg[(notional_position_neg==-1)] = -1/data[\"y.next.bid\"][(notional_position_neg==-1)]\n",
    "        notional_position_neg.ffill(inplace=True)\n",
    "        position = position_pos + position_neg\n",
    "        notional_position = notional_position_pos+notional_position_neg\n",
    "        #position[n_bar-1] = 0\n",
    "        position.iloc[0] = 0\n",
    "        position.iloc[-2:] = 0\n",
    "        notional_position.iloc[0] = 0\n",
    "        notional_position.iloc[-2:] = 0\n",
    "        change_pos = position - position.shift(1)\n",
    "        notional_change_pos = notional_position-notional_position.shift(1)\n",
    "        change_pos.iloc[0] = 0\n",
    "        notional_change_pos.iloc[0] = 0\n",
    "        change_base = pd.Series(data=0, index=data.index)\n",
    "        change_buy = change_pos>0\n",
    "        change_sell = change_pos<0\n",
    "        if (tranct_ratio):\n",
    "            change_base[change_buy] = data[\"y.next.ask\"][change_buy]*(1+tranct)\n",
    "            change_base[change_sell] = data[\"y.next.bid\"][change_sell]*(1-tranct)\n",
    "        else:\n",
    "            change_base[change_buy] = data[\"y.next.ask\"][change_buy]+tranct\n",
    "            change_base[change_sell] = data[\"y.next.bid\"][change_sell]-tranct\n",
    "        final_pnl = -sum(change_base*change_pos)\n",
    "        ret = -sum(change_base*notional_change_pos)\n",
    "        num = sum((position!=0) & (change_pos!=0))\n",
    "        if num == 0:\n",
    "            result.loc[thre[0], (\"num\", \"avg.pnl\", \"pnl\", \"avg.ret\", \"ret\")] = (0,0,0,0,0)\n",
    "            return result\n",
    "        else:\n",
    "            avg_pnl = np.divide(final_pnl, num)\n",
    "            avg_ret = np.divide(ret,num)\n",
    "            result.loc[thre[0], (\"num\", \"avg.pnl\", \"pnl\", \"avg.ret\", \"ret\")] = (num, avg_pnl, final_pnl, avg_ret,ret)\n",
    "    return result\n"
   ]
  },
  {
   "cell_type": "code",
   "execution_count": 252,
   "metadata": {},
   "outputs": [],
   "source": [
    "signal_name = \"kdj.j.4096\" "
   ]
  },
  {
   "cell_type": "code",
   "execution_count": 142,
   "metadata": {},
   "outputs": [],
   "source": [
    "open_list = np.arange(0.5, 1, 0.025)\n",
    "thre_list = []\n",
    "for cartesian in itertools.product(open_list, np.array([0.2, 0.4, 0.6, 0.8, 1.0])):\n",
    "    thre_list.append((cartesian[0], -cartesian[0] * cartesian[1]))\n",
    "thre_list = np.array(thre_list)\n",
    "thre_mat = pd.DataFrame(data=OrderedDict([(\"open\", thre_list[:, 0]), (\"close\", thre_list[:, 1])]))\n"
   ]
  },
  {
   "cell_type": "code",
   "execution_count": 143,
   "metadata": {},
   "outputs": [],
   "source": [
    "from collections import OrderedDict\n",
    "def get_crypto_cross_signal_stat(signal_name, thre_mat, product_x, product_y, all_dates, CORE_NUM, split_str=\"2018\", reverse=1, tranct=1.1e-4, \n",
    "                    max_spread=0.61, tranct_ratio=True, HEAD_PATH=\"d:/intern\", SAVE_PATH=\"e:/intern\", min_pnl=2, min_num=20, atr_filter=0):\n",
    "    train_sample = all_dates<split_str\n",
    "    test_sample = all_dates>split_str\n",
    "    with dask.config.set(scheduler='processes', num_workers=CORE_NUM):\n",
    "        f_par = functools.partial(get_crypto_cross_signal_pnl, product_x=product_x, product_y=product_y, signal_name=signal_name, thre_mat=thre_mat,\n",
    "                                 reverse=reverse, tranct=tranct, max_spread=max_spread, tranct_ratio=tranct_ratio,HEAD_PATH=HEAD_PATH,\n",
    "                                  SAVE_PATH=SAVE_PATH,atr_filter=atr_filter)\n",
    "        train_result = compute([delayed(f_par)(file) for file in all_dates[train_sample]])[0]\n",
    "    train_stat = get_hft_summary(train_result, thre_mat, sum(train_sample))\n",
    "    with dask.config.set(scheduler='processes', num_workers=CORE_NUM):\n",
    "        f_par = functools.partial(get_crypto_cross_signal_pnl, product_x=product_x, product_y=product_y, signal_name=signal_name, thre_mat=thre_mat,\n",
    "                                  reverse=reverse, tranct=tranct, max_spread=max_spread, tranct_ratio=tranct_ratio, \n",
    "                                  HEAD_PATH=HEAD_PATH, SAVE_PATH=SAVE_PATH,\n",
    "                                  atr_filter=atr_filter)\n",
    "        test_result = compute([delayed(f_par)(file) for file in all_dates[test_sample]])[0]\n",
    "    test_stat = get_hft_summary(test_result, thre_mat, sum(test_sample))\n",
    "    return OrderedDict([(\"train.stat\", train_stat), (\"test.stat\", test_stat)])"
   ]
  },
  {
   "cell_type": "code",
   "execution_count": 144,
   "metadata": {},
   "outputs": [],
   "source": [
    "def evaluate_crypto_cross_signal(signal, all_dates, product_x, product_y, min_pnl, min_num, HEAD_PATH, SAVE_PATH,\n",
    "                    CORE_NUM, period=4096, split_str=\"2018\", tranct=1.1e-4, \n",
    "                    max_spread=0.61, tranct_ratio=True, atr_filter=0, save_path=\"signal result\"):\n",
    "    signal_name = signal+\".\"+str(period)\n",
    "    all_signal = load(SAVE_PATH+\"/all signal/\"+product_x+\".\"+signal_name+\".pkl\")\n",
    "    tranct = product_info[product_y][\"tranct\"]\n",
    "    tranct_ratio = product_info[product_y][\"tranct.ratio\"]\n",
    "    open_list = np.quantile(abs(all_signal), np.append(np.arange(0.991,0.999,0.001),np.arange(0.9991,0.9999,0.0001)))\n",
    "    thre_list = []\n",
    "    for cartesian in itertools.product(open_list, np.array([0.2, 0.4, 0.6, 0.8, 1.0])):\n",
    "        thre_list.append((cartesian[0], -cartesian[0] * cartesian[1]))\n",
    "    thre_list = np.array(thre_list)\n",
    "    thre_mat = pd.DataFrame(data=OrderedDict([(\"open\", thre_list[:, 0]), (\"close\", thre_list[:, 1])]))\n",
    "    print(\"reverse=1\")\n",
    "    trend_signal_stat = get_crypto_cross_signal_stat(signal_name, thre_mat, product_x, product_y, all_dates, CORE_NUM, split_str=split_str, reverse=1, tranct=tranct, \n",
    "                    max_spread=max_spread, tranct_ratio=tranct_ratio, HEAD_PATH=HEAD_PATH, SAVE_PATH=SAVE_PATH, min_pnl=min_pnl, min_num=min_num, atr_filter=atr_filter)\n",
    "    print(\"reverse=-1\")\n",
    "    reverse_signal_stat = get_crypto_cross_signal_stat(signal_name, thre_mat, product_x, product_y, all_dates, CORE_NUM, split_str=split_str, reverse=-1, tranct=tranct, \n",
    "                    max_spread=max_spread, tranct_ratio=tranct_ratio, HEAD_PATH=HEAD_PATH, SAVE_PATH=SAVE_PATH,  min_pnl=min_pnl, min_num=min_num, atr_filter=atr_filter)\n",
    "    stat_result = OrderedDict([(\"trend.signal.stat\", trend_signal_stat), (\"reverse.signal.stat\", reverse_signal_stat)])    \n",
    "    save(stat_result, HEAD_PATH+\"/\"+save_path+\"/\"+product_x+\"_\"+product_y+\".\"+signal_name+\".pkl\")\n"
   ]
  },
  {
   "cell_type": "code",
   "execution_count": 91,
   "metadata": {},
   "outputs": [],
   "source": [
    "all_dates = np.sort(np.array(list(all_dates)))"
   ]
  },
  {
   "cell_type": "code",
   "execution_count": 145,
   "metadata": {
    "scrolled": true
   },
   "outputs": [
    {
     "name": "stdout",
     "output_type": "stream",
     "text": [
      "reverse=1\n",
      "reverse=-1\n",
      "Wall time: 42min 17s\n"
     ]
    }
   ],
   "source": [
    "%%time\n",
    "result = evaluate_crypto_cross_signal(\"kdj.j\", all_dates, product_x,product_y, 2, 20, HEAD_PATH, SAVE_PATH,\n",
    "                CORE_NUM, period=4096, split_str=\"2020\", tranct=7.5e-4, \n",
    "                max_spread=0.06,tranct_ratio=True, atr_filter=20, save_path=\"signal result atr\")\n",
    "\n",
    "# reverse=1\n",
    "# reverse=-1\n",
    "# Wall time: 42min 17s\n"
   ]
  },
  {
   "cell_type": "code",
   "execution_count": 146,
   "metadata": {},
   "outputs": [],
   "source": [
    "result = load(HEAD_PATH+\"/signal result atr/\"+product_x+\"_\"+product_y+\".kdj.j.4096.pkl\")"
   ]
  },
  {
   "cell_type": "code",
   "execution_count": 147,
   "metadata": {},
   "outputs": [
    {
     "name": "stdout",
     "output_type": "stream",
     "text": [
      "1.347059382200848 1.7776295079802713\n"
     ]
    },
    {
     "data": {
      "image/png": "[encoded data removed]",
      "text/plain": [
       "<Figure size 1152x720 with 1 Axes>"
      ]
     },
     "metadata": {
      "needs_background": "light"
     },
     "output_type": "display_data"
    }
   ],
   "source": [
    "date_str = [n[0:10] for n in all_dates]\n",
    "format_dates = np.array([pd.to_datetime(d) for d in date_str])\n",
    "train_stat =result[\"trend.signal.stat\"][\"train.stat\"]\n",
    "train_sample = all_dates<\"2020\"\n",
    "test_sample = all_dates>\"2020\"\n",
    "spread = product_info[product_y][\"spread\"]\n",
    "good_strat = (train_stat[\"final.result\"][\"avg.pnl\"]>2*spread) & (train_stat[\"final.result\"][\"num\"]>20)\n",
    "train_pnl = train_stat[\"daily.pnl\"].loc[:, good_strat].sum(axis=1)/sum(good_strat)\n",
    "test_stat =result[\"trend.signal.stat\"][\"test.stat\"]\n",
    "test_pnl = test_stat[\"daily.pnl\"].loc[:, good_strat].sum(axis=1)/sum(good_strat)\n",
    "pnl = np.append(train_pnl, test_pnl)\n",
    "plt.figure(1, figsize=(16, 10));\n",
    "plt.title(\"\");\n",
    "plt.xlabel(\"date\");\n",
    "plt.ylabel(\"pnl\");\n",
    "plt.title(product_x+\" to \"+product_y+\" trend\");\n",
    "plt.plot(format_dates, pnl.cumsum());\n",
    "plt.plot(format_dates[test_sample], pnl.cumsum()[test_sample])\n",
    "print(sharpe(train_pnl), sharpe(test_pnl))\n",
    "## 1.347059382200848 1.7776295079802713"
   ]
  },
  {
   "cell_type": "markdown",
   "metadata": {},
   "source": [
    "- we can see that strategies in training set can still perform well in test set"
   ]
  },
  {
   "cell_type": "code",
   "execution_count": 226,
   "metadata": {
    "scrolled": true
   },
   "outputs": [],
   "source": [
    "## backtest arbitrage signal strategy\n",
    "## each time buy a product and sell another\n",
    "## long the pair means long product x and short product y with the same notional value\n",
    "from collections import OrderedDict\n",
    "def get_crypto_arb_signal_pnl(file, product_x, product_y, signal_name, thre_mat, reverse=1, tranct=1.1e-4, max_spread_x=1.1,\n",
    "                       max_spread_y=1.1,tranct_ratio=True, HEAD_PATH=\"d:/intern\", SAVE_PATH=\"e:/intern\", rebate=0, signal_thre=11e-4):\n",
    "    ## load data\n",
    "    data = load(HEAD_PATH+\"/pkl tick/\"+product_x+\"_\"+product_y+\"/\"+file)\n",
    "    [sort_index, time_x, time_y] = load(HEAD_PATH+\"/comb time/\"+product_x+\"_\"+product_y+\"/\"+file)\n",
    "    ## load signals\n",
    "    good_x = load(SAVE_PATH + \"/good pkl/\"+product_x+\"/\"+file)\n",
    "    good_y = load(SAVE_PATH + \"/good pkl/\"+product_y+\"/\"+file)\n",
    "    S_x = load(SAVE_PATH+\"/tmp pkl/\"+product_x+\"/\"+signal_name+\"/\"+file)[good_x]\n",
    "    S_y = load(SAVE_PATH+\"/tmp pkl/\"+product_y+\"/\"+signal_name+\"/\"+file)[good_y]\n",
    "    [sort_index, time_x, time_y] = load(HEAD_PATH+\"/comb time/\"+product_x+\"_\"+product_y+\"/\"+file)\n",
    "    extend_x = np.append(S_x,S_y)\n",
    "    extend_x[time_y] = np.nan\n",
    "    extend_y = np.append(S_x,S_y)\n",
    "    extend_y[time_x] = np.nan\n",
    "    extend_x[0] = S_x[0]\n",
    "    extend_y[0] = S_y[0]\n",
    "    extend_x = pd.DataFrame(extend_x)\n",
    "    extend_y = pd.DataFrame(extend_y)\n",
    "    extend_x.ffill(inplace=True)\n",
    "    extend_y.ffill(inplace=True)\n",
    "    S = np.array((extend_x-extend_y)[0]) ## difference of two signals\n",
    "    pred = S*reverse\n",
    "    #pred = pred[data[\"good\"]].reset_index(drop=True)[0]\n",
    "    data = data[data[\"good\"]].reset_index(drop=True)    \n",
    "    data_x = np.nan\n",
    "    data_y = np.nan\n",
    "    result = pd.DataFrame(data=OrderedDict([(\"open\", thre_mat[\"open\"].values), (\"close\", thre_mat[\"close\"].values),\n",
    "                               (\"num\", 0), (\"avg.pnl\", 0), (\"pnl\", 0), (\"avg.ret\", 0), (\"ret\", 0)]), \n",
    "                          index=thre_mat.index)\n",
    "    count = 0;\n",
    "    cur_spread_x = data[\"ask\"]-data[\"bid\"]\n",
    "    cur_spread_y = data[\"y.ask\"]-data[\"y.bid\"]\n",
    "    n_bar = len(data)\n",
    "    for thre in thre_mat.iterrows():\n",
    "        count = count+1\n",
    "        buy = pred>thre[1][\"open\"]\n",
    "        sell = pred<-thre[1][\"open\"]\n",
    "        signal = pd.Series(data=0, index=data.index)\n",
    "        position = signal.copy()\n",
    "        signal[buy] = 1\n",
    "        signal[sell] = -1\n",
    "        scratch = -thre[1][\"close\"]\n",
    "        position_pos = pd.Series(data=np.nan, index=data.index)\n",
    "        position_pos.iloc[0] = 0\n",
    "        ## long means buy product x at next.ask and sell product y at next bid\n",
    "        position_pos[(signal==1) & (data[\"next.ask\"]>0) & (data[\"next.bid\"]>0) & (cur_spread_x<max_spread_x) &\n",
    "                    (data[\"y.next.ask\"]>0) & (data[\"y.next.bid\"]>0) & (cur_spread_y<max_spread_y)] = 1\n",
    "        position_pos[(pred< -scratch) & (data[\"next.bid\"]>0) & (data[\"y.next.ask\"]>0) & (cur_spread_x<max_spread_x) &\n",
    "                    (cur_spread_y<max_spread_y)] = 0\n",
    "        position_pos.ffill(inplace=True)\n",
    "        pre_pos = position_pos.shift(1)\n",
    "        notional_position_pos_x = pd.Series(data=0, index=data.index)\n",
    "        notional_position_pos_y = pd.Series(data=0, index=data.index)\n",
    "        notional_position_pos_x[position_pos==1] = 1\n",
    "        notional_position_pos_x[(position_pos==1) & (pre_pos==1)] = np.nan\n",
    "        notional_position_pos_y[position_pos==1] = 1\n",
    "        notional_position_pos_y[(position_pos==1) & (pre_pos==1)] = np.nan\n",
    "        notional_position_pos_x[(notional_position_pos_x==1)] = 1/data[\"next.ask\"][(notional_position_pos_x==1)]\n",
    "        notional_position_pos_y[(notional_position_pos_y==1)] = -1/data[\"y.next.bid\"][(notional_position_pos_y==1)]\n",
    "        notional_position_pos_x.ffill(inplace=True)\n",
    "        notional_position_pos_y.ffill(inplace=True)\n",
    "        position_neg = pd.Series(data=np.nan, index=data.index)\n",
    "        position_neg.iloc[0] = 0\n",
    "        ## short means sell product x at next.bid and buy product y at next ask\n",
    "        position_neg[(signal==-1) & (data[\"next.ask\"]>0) & (data[\"next.bid\"]>0) & (cur_spread_x<max_spread_x) &\n",
    "                    (data[\"y.next.ask\"]>0) & (data[\"y.next.bid\"]>0) & (cur_spread_y<max_spread_y)] = -1\n",
    "        position_neg[(pred> scratch) & (data[\"next.ask\"]>0) & (data[\"y.next.bid\"]>0) & (cur_spread_y<max_spread_y)] = 0\n",
    "        position_neg.ffill(inplace=True)\n",
    "        pre_neg = position_neg.shift(1)\n",
    "        notional_position_neg_x = pd.Series(data=0, index=data.index)\n",
    "        notional_position_neg_y = pd.Series(data=0, index=data.index)\n",
    "        notional_position_neg_x[position_neg==-1] = -1\n",
    "        notional_position_neg_x[(position_neg==-1) & (pre_neg==-1)] = np.nan\n",
    "        notional_position_neg_y[position_neg==-1] = -1\n",
    "        notional_position_neg_y[(position_neg==-1) & (pre_neg==-1)] = np.nan\n",
    "        notional_position_neg_x[(notional_position_neg_x==-1)] = -1/data[\"next.bid\"][(notional_position_neg_x==-1)]\n",
    "        notional_position_neg_y[(notional_position_neg_y==-1)] = 1/data[\"y.next.ask\"][(notional_position_neg_y==-1)]\n",
    "        notional_position_neg_x.ffill(inplace=True)\n",
    "        notional_position_neg_y.ffill(inplace=True)\n",
    "        position = position_pos + position_neg\n",
    "        notional_position_x = notional_position_pos_x+notional_position_neg_x\n",
    "        notional_position_y = notional_position_pos_y+notional_position_neg_y\n",
    "        #position[n_bar-1] = 0\n",
    "        position.iloc[0] = 0\n",
    "        position.iloc[-10:] = 0\n",
    "        notional_position_x.iloc[0] = 0\n",
    "        notional_position_y.iloc[0] = 0\n",
    "        notional_position_x.iloc[-10:] = 0\n",
    "        notional_position_y.iloc[-10:] = 0\n",
    "        notional_change_pos_x = notional_position_x-notional_position_x.shift(1)\n",
    "        notional_change_pos_y = notional_position_y-notional_position_y.shift(1)\n",
    "        change_pos = position - position.shift(1)\n",
    "        change_pos.iloc[0] = 0\n",
    "        notional_change_pos_x.iloc[0] = 0\n",
    "        notional_change_pos_y.iloc[0] = 0\n",
    "        change_base_x = pd.Series(data=0, index=data.index)\n",
    "        change_base_y = pd.Series(data=0, index=data.index)\n",
    "        change_buy = change_pos>0\n",
    "        change_sell = change_pos<0\n",
    "        if (tranct_ratio):\n",
    "            change_base_x[change_buy] = data[\"next.ask\"][change_buy]*(1+tranct)\n",
    "            change_base_x[change_sell] = data[\"next.bid\"][change_sell]*(1-tranct)\n",
    "            change_base_y[change_buy] = data[\"y.next.bid\"][change_buy]*(1-tranct)\n",
    "            change_base_y[change_sell] = data[\"y.next.ask\"][change_sell]*(1+tranct)\n",
    "        else:\n",
    "            change_base_x[change_buy] = data[\"next.ask\"][change_buy]+tranct\n",
    "            change_base_x[change_sell] = data[\"next.bid\"][change_sell]-tranct\n",
    "            change_base_y[change_buy] = data[\"y.next.bid\"][change_buy]-tranct\n",
    "            change_base_y[change_sell] = data[\"y.next.ask\"][change_sell]+tranct\n",
    "        final_pnl = -sum(change_base_x*change_pos)-sum(change_base_y*change_pos)\n",
    "        ret = -sum(change_base_x*notional_change_pos_x)-sum(change_base_y*notional_change_pos_y)\n",
    "        num = sum((position!=0) & (change_pos!=0))\n",
    "        if num == 0:\n",
    "            result.loc[thre[0], (\"num\", \"avg.pnl\", \"pnl\", \"avg.ret\", \"ret\")] = (0,0,0,0,0)\n",
    "            return result\n",
    "        else:\n",
    "            avg_pnl = np.divide(final_pnl, num)\n",
    "            avg_ret = np.divide(ret,num)\n",
    "            result.loc[thre[0], (\"num\", \"avg.pnl\", \"pnl\", \"avg.ret\", \"ret\")] = (num, avg_pnl, final_pnl, avg_ret,ret)\n",
    "    return result\n"
   ]
  },
  {
   "cell_type": "code",
   "execution_count": 254,
   "metadata": {},
   "outputs": [
    {
     "data": {
      "text/html": [
       "<div>\n",
       "<style scoped>\n",
       "    .dataframe tbody tr th:only-of-type {\n",
       "        vertical-align: middle;\n",
       "    }\n",
       "\n",
       "    .dataframe tbody tr th {\n",
       "        vertical-align: top;\n",
       "    }\n",
       "\n",
       "    .dataframe thead th {\n",
       "        text-align: right;\n",
       "    }\n",
       "</style>\n",
       "<table border=\"1\" class=\"dataframe\">\n",
       "  <thead>\n",
       "    <tr style=\"text-align: right;\">\n",
       "      <th></th>\n",
       "      <th>open</th>\n",
       "      <th>close</th>\n",
       "    </tr>\n",
       "  </thead>\n",
       "  <tbody>\n",
       "    <tr>\n",
       "      <th>0</th>\n",
       "      <td>0.60</td>\n",
       "      <td>-0.120</td>\n",
       "    </tr>\n",
       "    <tr>\n",
       "      <th>1</th>\n",
       "      <td>0.60</td>\n",
       "      <td>-0.240</td>\n",
       "    </tr>\n",
       "    <tr>\n",
       "      <th>2</th>\n",
       "      <td>0.60</td>\n",
       "      <td>-0.360</td>\n",
       "    </tr>\n",
       "    <tr>\n",
       "      <th>3</th>\n",
       "      <td>0.60</td>\n",
       "      <td>-0.480</td>\n",
       "    </tr>\n",
       "    <tr>\n",
       "      <th>4</th>\n",
       "      <td>0.60</td>\n",
       "      <td>-0.600</td>\n",
       "    </tr>\n",
       "    <tr>\n",
       "      <th>...</th>\n",
       "      <td>...</td>\n",
       "      <td>...</td>\n",
       "    </tr>\n",
       "    <tr>\n",
       "      <th>95</th>\n",
       "      <td>0.98</td>\n",
       "      <td>-0.196</td>\n",
       "    </tr>\n",
       "    <tr>\n",
       "      <th>96</th>\n",
       "      <td>0.98</td>\n",
       "      <td>-0.392</td>\n",
       "    </tr>\n",
       "    <tr>\n",
       "      <th>97</th>\n",
       "      <td>0.98</td>\n",
       "      <td>-0.588</td>\n",
       "    </tr>\n",
       "    <tr>\n",
       "      <th>98</th>\n",
       "      <td>0.98</td>\n",
       "      <td>-0.784</td>\n",
       "    </tr>\n",
       "    <tr>\n",
       "      <th>99</th>\n",
       "      <td>0.98</td>\n",
       "      <td>-0.980</td>\n",
       "    </tr>\n",
       "  </tbody>\n",
       "</table>\n",
       "<p>100 rows × 2 columns</p>\n",
       "</div>"
      ],
      "text/plain": [
       "    open  close\n",
       "0   0.60 -0.120\n",
       "1   0.60 -0.240\n",
       "2   0.60 -0.360\n",
       "3   0.60 -0.480\n",
       "4   0.60 -0.600\n",
       "..   ...    ...\n",
       "95  0.98 -0.196\n",
       "96  0.98 -0.392\n",
       "97  0.98 -0.588\n",
       "98  0.98 -0.784\n",
       "99  0.98 -0.980\n",
       "\n",
       "[100 rows x 2 columns]"
      ]
     },
     "execution_count": 254,
     "metadata": {},
     "output_type": "execute_result"
    }
   ],
   "source": [
    "signal_name = \"kdj.j.4096\" \n",
    "product_x = \"btc.usd.td\"\n",
    "product_y = \"eth.usd.td\"\n",
    "thre_list = []\n",
    "#open_list = np.quantile(abs(all_signal), np.arange(0.99991,0.99999,0.00001))\n",
    "open_list = np.arange(0.6,1,0.02)\n",
    "for cartesian in itertools.product(open_list, np.array([0.2, 0.4, 0.6, 0.8, 1.0])):\n",
    "        thre_list.append((cartesian[0], -cartesian[0] * cartesian[1]))\n",
    "thre_list = np.array(thre_list)\n",
    "thre_mat = pd.DataFrame(data=OrderedDict([(\"open\", thre_list[:, 0]), (\"close\", thre_list[:, 1])]))\n",
    "thre_mat"
   ]
  },
  {
   "cell_type": "code",
   "execution_count": 243,
   "metadata": {},
   "outputs": [
    {
     "name": "stdout",
     "output_type": "stream",
     "text": [
      "Wall time: 7min 43s\n"
     ]
    }
   ],
   "source": [
    "%%time\n",
    "train_result = parLapply(CORE_NUM, all_dates[train_sample], get_crypto_arb_signal_pnl, product_x=product_x, product_y=product_y, signal_name=\"kdj.j.4096\",\n",
    "                   thre_mat=thre_mat, reverse=-1, tranct=7.5e-4, max_spread_x=0.6,\n",
    "                        max_spread_y=0.06,tranct_ratio=True, HEAD_PATH=\"d:/intern\", SAVE_PATH=\"e:/intern\")\n",
    "test_result = parLapply(CORE_NUM, all_dates[test_sample], get_crypto_arb_signal_pnl, product_x=product_x, product_y=product_y, signal_name=\"kdj.j.4096\",\n",
    "                  thre_mat=thre_mat, reverse=-1, tranct=7.5e-4, max_spread_x=0.6,\n",
    "                       max_spread_y=0.06,tranct_ratio=True, HEAD_PATH=\"d:/intern\", SAVE_PATH=\"e:/intern\")\n",
    "# Wall time: 2min 1s"
   ]
  },
  {
   "cell_type": "code",
   "execution_count": 244,
   "metadata": {},
   "outputs": [
    {
     "data": {
      "text/plain": [
       "0"
      ]
     },
     "execution_count": 244,
     "metadata": {},
     "output_type": "execute_result"
    }
   ],
   "source": [
    "train_stat = get_hft_summary(train_result, thre_mat,sum(train_sample))\n",
    "good_strat = (train_stat[\"final.result\"][\"avg.pnl\"]>4) & (train_stat[\"final.result\"][\"num\"]>10)\n",
    "sum(good_strat)"
   ]
  },
  {
   "cell_type": "code",
   "execution_count": 246,
   "metadata": {},
   "outputs": [
    {
     "data": {
      "text/html": [
       "<div>\n",
       "<style scoped>\n",
       "    .dataframe tbody tr th:only-of-type {\n",
       "        vertical-align: middle;\n",
       "    }\n",
       "\n",
       "    .dataframe tbody tr th {\n",
       "        vertical-align: top;\n",
       "    }\n",
       "\n",
       "    .dataframe thead th {\n",
       "        text-align: right;\n",
       "    }\n",
       "</style>\n",
       "<table border=\"1\" class=\"dataframe\">\n",
       "  <thead>\n",
       "    <tr style=\"text-align: right;\">\n",
       "      <th></th>\n",
       "      <th>open</th>\n",
       "      <th>close</th>\n",
       "      <th>num</th>\n",
       "      <th>avg.pnl</th>\n",
       "      <th>total.pnl</th>\n",
       "      <th>sharpe</th>\n",
       "      <th>drawdown</th>\n",
       "      <th>max.drawdown</th>\n",
       "      <th>avg.ret</th>\n",
       "      <th>total.ret</th>\n",
       "      <th>sharpe.ret</th>\n",
       "      <th>drawdown.ret</th>\n",
       "      <th>max.drawdown.ret</th>\n",
       "      <th>mar</th>\n",
       "      <th>mar.ret</th>\n",
       "    </tr>\n",
       "  </thead>\n",
       "  <tbody>\n",
       "    <tr>\n",
       "      <th>0</th>\n",
       "      <td>0.60</td>\n",
       "      <td>-0.120</td>\n",
       "      <td>85</td>\n",
       "      <td>-38.744156</td>\n",
       "      <td>-3293.253263</td>\n",
       "      <td>-2.734065</td>\n",
       "      <td>3191.917913</td>\n",
       "      <td>3191.917913</td>\n",
       "      <td>-0.002589</td>\n",
       "      <td>-0.220039</td>\n",
       "      <td>-1.602190</td>\n",
       "      <td>0.251511</td>\n",
       "      <td>0.265183</td>\n",
       "      <td>-1.031747</td>\n",
       "      <td>-0.829766</td>\n",
       "    </tr>\n",
       "    <tr>\n",
       "      <th>1</th>\n",
       "      <td>0.60</td>\n",
       "      <td>-0.240</td>\n",
       "      <td>85</td>\n",
       "      <td>-38.738866</td>\n",
       "      <td>-3292.803600</td>\n",
       "      <td>-2.733607</td>\n",
       "      <td>3191.917913</td>\n",
       "      <td>3191.917913</td>\n",
       "      <td>-0.002613</td>\n",
       "      <td>-0.222096</td>\n",
       "      <td>-1.607313</td>\n",
       "      <td>0.253567</td>\n",
       "      <td>0.267239</td>\n",
       "      <td>-1.031607</td>\n",
       "      <td>-0.831076</td>\n",
       "    </tr>\n",
       "    <tr>\n",
       "      <th>2</th>\n",
       "      <td>0.60</td>\n",
       "      <td>-0.360</td>\n",
       "      <td>85</td>\n",
       "      <td>-39.218573</td>\n",
       "      <td>-3333.578700</td>\n",
       "      <td>-2.766068</td>\n",
       "      <td>3232.693013</td>\n",
       "      <td>3232.693013</td>\n",
       "      <td>-0.002444</td>\n",
       "      <td>-0.207722</td>\n",
       "      <td>-1.512760</td>\n",
       "      <td>0.239194</td>\n",
       "      <td>0.252865</td>\n",
       "      <td>-1.031208</td>\n",
       "      <td>-0.821473</td>\n",
       "    </tr>\n",
       "    <tr>\n",
       "      <th>3</th>\n",
       "      <td>0.60</td>\n",
       "      <td>-0.480</td>\n",
       "      <td>85</td>\n",
       "      <td>-33.819003</td>\n",
       "      <td>-2874.615288</td>\n",
       "      <td>-2.320829</td>\n",
       "      <td>2854.075150</td>\n",
       "      <td>2878.290463</td>\n",
       "      <td>-0.002603</td>\n",
       "      <td>-0.221234</td>\n",
       "      <td>-1.609342</td>\n",
       "      <td>0.252705</td>\n",
       "      <td>0.266975</td>\n",
       "      <td>-0.998723</td>\n",
       "      <td>-0.828667</td>\n",
       "    </tr>\n",
       "    <tr>\n",
       "      <th>4</th>\n",
       "      <td>0.60</td>\n",
       "      <td>-0.600</td>\n",
       "      <td>85</td>\n",
       "      <td>-33.819003</td>\n",
       "      <td>-2874.615288</td>\n",
       "      <td>-2.320829</td>\n",
       "      <td>2854.075150</td>\n",
       "      <td>2878.290463</td>\n",
       "      <td>-0.002603</td>\n",
       "      <td>-0.221234</td>\n",
       "      <td>-1.609342</td>\n",
       "      <td>0.252705</td>\n",
       "      <td>0.266975</td>\n",
       "      <td>-0.998723</td>\n",
       "      <td>-0.828667</td>\n",
       "    </tr>\n",
       "    <tr>\n",
       "      <th>...</th>\n",
       "      <td>...</td>\n",
       "      <td>...</td>\n",
       "      <td>...</td>\n",
       "      <td>...</td>\n",
       "      <td>...</td>\n",
       "      <td>...</td>\n",
       "      <td>...</td>\n",
       "      <td>...</td>\n",
       "      <td>...</td>\n",
       "      <td>...</td>\n",
       "      <td>...</td>\n",
       "      <td>...</td>\n",
       "      <td>...</td>\n",
       "      <td>...</td>\n",
       "      <td>...</td>\n",
       "    </tr>\n",
       "    <tr>\n",
       "      <th>95</th>\n",
       "      <td>0.98</td>\n",
       "      <td>-0.196</td>\n",
       "      <td>23</td>\n",
       "      <td>-16.133798</td>\n",
       "      <td>-371.077350</td>\n",
       "      <td>-0.813250</td>\n",
       "      <td>765.961363</td>\n",
       "      <td>765.961363</td>\n",
       "      <td>-0.006537</td>\n",
       "      <td>-0.150358</td>\n",
       "      <td>-2.864587</td>\n",
       "      <td>0.150358</td>\n",
       "      <td>0.150358</td>\n",
       "      <td>-0.484460</td>\n",
       "      <td>-1.000000</td>\n",
       "    </tr>\n",
       "    <tr>\n",
       "      <th>96</th>\n",
       "      <td>0.98</td>\n",
       "      <td>-0.392</td>\n",
       "      <td>23</td>\n",
       "      <td>-16.133798</td>\n",
       "      <td>-371.077350</td>\n",
       "      <td>-0.813250</td>\n",
       "      <td>765.961363</td>\n",
       "      <td>765.961363</td>\n",
       "      <td>-0.006537</td>\n",
       "      <td>-0.150358</td>\n",
       "      <td>-2.864587</td>\n",
       "      <td>0.150358</td>\n",
       "      <td>0.150358</td>\n",
       "      <td>-0.484460</td>\n",
       "      <td>-1.000000</td>\n",
       "    </tr>\n",
       "    <tr>\n",
       "      <th>97</th>\n",
       "      <td>0.98</td>\n",
       "      <td>-0.588</td>\n",
       "      <td>23</td>\n",
       "      <td>-11.715956</td>\n",
       "      <td>-269.466988</td>\n",
       "      <td>-0.582338</td>\n",
       "      <td>744.696550</td>\n",
       "      <td>744.696550</td>\n",
       "      <td>-0.006748</td>\n",
       "      <td>-0.155202</td>\n",
       "      <td>-2.976592</td>\n",
       "      <td>0.155202</td>\n",
       "      <td>0.155202</td>\n",
       "      <td>-0.361848</td>\n",
       "      <td>-1.000000</td>\n",
       "    </tr>\n",
       "    <tr>\n",
       "      <th>98</th>\n",
       "      <td>0.98</td>\n",
       "      <td>-0.784</td>\n",
       "      <td>23</td>\n",
       "      <td>-11.715956</td>\n",
       "      <td>-269.466988</td>\n",
       "      <td>-0.582338</td>\n",
       "      <td>744.696550</td>\n",
       "      <td>744.696550</td>\n",
       "      <td>-0.006748</td>\n",
       "      <td>-0.155202</td>\n",
       "      <td>-2.976592</td>\n",
       "      <td>0.155202</td>\n",
       "      <td>0.155202</td>\n",
       "      <td>-0.361848</td>\n",
       "      <td>-1.000000</td>\n",
       "    </tr>\n",
       "    <tr>\n",
       "      <th>99</th>\n",
       "      <td>0.98</td>\n",
       "      <td>-0.980</td>\n",
       "      <td>23</td>\n",
       "      <td>-13.615065</td>\n",
       "      <td>-313.146500</td>\n",
       "      <td>-0.672756</td>\n",
       "      <td>744.696550</td>\n",
       "      <td>744.696550</td>\n",
       "      <td>-0.006534</td>\n",
       "      <td>-0.150278</td>\n",
       "      <td>-2.866594</td>\n",
       "      <td>0.150278</td>\n",
       "      <td>0.150278</td>\n",
       "      <td>-0.420502</td>\n",
       "      <td>-1.000000</td>\n",
       "    </tr>\n",
       "  </tbody>\n",
       "</table>\n",
       "<p>100 rows × 15 columns</p>\n",
       "</div>"
      ],
      "text/plain": [
       "    open  close  num    avg.pnl    total.pnl    sharpe     drawdown  \\\n",
       "0   0.60 -0.120   85 -38.744156 -3293.253263 -2.734065  3191.917913   \n",
       "1   0.60 -0.240   85 -38.738866 -3292.803600 -2.733607  3191.917913   \n",
       "2   0.60 -0.360   85 -39.218573 -3333.578700 -2.766068  3232.693013   \n",
       "3   0.60 -0.480   85 -33.819003 -2874.615288 -2.320829  2854.075150   \n",
       "4   0.60 -0.600   85 -33.819003 -2874.615288 -2.320829  2854.075150   \n",
       "..   ...    ...  ...        ...          ...       ...          ...   \n",
       "95  0.98 -0.196   23 -16.133798  -371.077350 -0.813250   765.961363   \n",
       "96  0.98 -0.392   23 -16.133798  -371.077350 -0.813250   765.961363   \n",
       "97  0.98 -0.588   23 -11.715956  -269.466988 -0.582338   744.696550   \n",
       "98  0.98 -0.784   23 -11.715956  -269.466988 -0.582338   744.696550   \n",
       "99  0.98 -0.980   23 -13.615065  -313.146500 -0.672756   744.696550   \n",
       "\n",
       "    max.drawdown   avg.ret  total.ret  sharpe.ret  drawdown.ret  \\\n",
       "0    3191.917913 -0.002589  -0.220039   -1.602190      0.251511   \n",
       "1    3191.917913 -0.002613  -0.222096   -1.607313      0.253567   \n",
       "2    3232.693013 -0.002444  -0.207722   -1.512760      0.239194   \n",
       "3    2878.290463 -0.002603  -0.221234   -1.609342      0.252705   \n",
       "4    2878.290463 -0.002603  -0.221234   -1.609342      0.252705   \n",
       "..           ...       ...        ...         ...           ...   \n",
       "95    765.961363 -0.006537  -0.150358   -2.864587      0.150358   \n",
       "96    765.961363 -0.006537  -0.150358   -2.864587      0.150358   \n",
       "97    744.696550 -0.006748  -0.155202   -2.976592      0.155202   \n",
       "98    744.696550 -0.006748  -0.155202   -2.976592      0.155202   \n",
       "99    744.696550 -0.006534  -0.150278   -2.866594      0.150278   \n",
       "\n",
       "    max.drawdown.ret       mar   mar.ret  \n",
       "0           0.265183 -1.031747 -0.829766  \n",
       "1           0.267239 -1.031607 -0.831076  \n",
       "2           0.252865 -1.031208 -0.821473  \n",
       "3           0.266975 -0.998723 -0.828667  \n",
       "4           0.266975 -0.998723 -0.828667  \n",
       "..               ...       ...       ...  \n",
       "95          0.150358 -0.484460 -1.000000  \n",
       "96          0.150358 -0.484460 -1.000000  \n",
       "97          0.155202 -0.361848 -1.000000  \n",
       "98          0.155202 -0.361848 -1.000000  \n",
       "99          0.150278 -0.420502 -1.000000  \n",
       "\n",
       "[100 rows x 15 columns]"
      ]
     },
     "execution_count": 246,
     "metadata": {},
     "output_type": "execute_result"
    }
   ],
   "source": [
    "train_stat[\"final.result\"]"
   ]
  },
  {
   "cell_type": "code",
   "execution_count": 248,
   "metadata": {},
   "outputs": [
    {
     "data": {
      "text/plain": [
       "0"
      ]
     },
     "execution_count": 248,
     "metadata": {},
     "output_type": "execute_result"
    }
   ],
   "source": [
    "test_stat = get_hft_summary(test_result, thre_mat,sum(test_sample))\n",
    "good_strat = (test_stat[\"final.result\"][\"avg.pnl\"]>4) & (test_stat[\"final.result\"][\"num\"]>10)\n",
    "sum(good_strat)\n"
   ]
  },
  {
   "cell_type": "code",
   "execution_count": 251,
   "metadata": {},
   "outputs": [
    {
     "data": {
      "text/plain": [
       "0     False\n",
       "1     False\n",
       "2     False\n",
       "3     False\n",
       "4     False\n",
       "      ...  \n",
       "95    False\n",
       "96    False\n",
       "97    False\n",
       "98    False\n",
       "99    False\n",
       "Name: avg.ret, Length: 100, dtype: bool"
      ]
     },
     "execution_count": 251,
     "metadata": {},
     "output_type": "execute_result"
    }
   ],
   "source": [
    "train_stat[\"final.result\"][\"avg.ret\"]>0"
   ]
  },
  {
   "cell_type": "code",
   "execution_count": 250,
   "metadata": {},
   "outputs": [
    {
     "data": {
      "text/plain": [
       "0     False\n",
       "1     False\n",
       "2     False\n",
       "3     False\n",
       "4     False\n",
       "      ...  \n",
       "95     True\n",
       "96     True\n",
       "97     True\n",
       "98     True\n",
       "99     True\n",
       "Name: avg.ret, Length: 100, dtype: bool"
      ]
     },
     "execution_count": 250,
     "metadata": {},
     "output_type": "execute_result"
    }
   ],
   "source": [
    "test_stat[\"final.result\"][\"avg.ret\"]>0"
   ]
  },
  {
   "cell_type": "markdown",
   "metadata": {},
   "source": [
    "- we can see that there are no good strategies for a-m arbitrage\n",
    "- the reason may be that oil contracts have too low volatility and intraday trading cannot cover transaction cost\n"
   ]
  },
  {
   "cell_type": "code",
   "execution_count": null,
   "metadata": {},
   "outputs": [],
   "source": []
  }
 ],
 "metadata": {
  "kernelspec": {
   "display_name": "Python 3",
   "language": "python",
   "name": "python3"
  },
  "language_info": {
   "codemirror_mode": {
    "name": "ipython",
    "version": 3
   },
   "file_extension": ".py",
   "mimetype": "text/x-python",
   "name": "python",
   "nbconvert_exporter": "python",
   "pygments_lexer": "ipython3",
   "version": "3.7.0"
  }
 },
 "nbformat": 4,
 "nbformat_minor": 2
}
