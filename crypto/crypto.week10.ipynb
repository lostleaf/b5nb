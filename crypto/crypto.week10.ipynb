{
 "cells": [
  {
   "cell_type": "markdown",
   "metadata": {},
   "source": [
    "- last two weeks we used all kinds of linear regression models\n",
    "- including forward stepwise regression, lasso, ridge, and elastic net\n",
    "- this week we move on to multiple addictive regression models\n",
    "- such as gradient boosting trees\n",
    "- other models like random forest, bagging are quite similar\n",
    "\n",
    "\n",
    "- among them boosting tress are the most famous and powerful\n",
    "- there are several packages in this filed\n",
    "- the oldest one is gbm\n",
    "- the package h2o includes a parallel version of gbm\n",
    "- and a newer one which has the best performance on kaggle competition is xgboost\n",
    "- and currently Microsoft developed an even better package called lightgbm\n",
    "- these week we can try on these models to see whether they can acutally boost our performance\n",
    "\n",
    "\n",
    "- first we can install lightgbm from the zip file I sent to you\n",
    "- for linux users maybe you can follow the instruction online, and it would be easier"
   ]
  },
  {
   "cell_type": "code",
   "execution_count": 1,
   "metadata": {},
   "outputs": [],
   "source": [
    "# https://github.com/Laurae2/lgbdl\n",
    "# https://github.com/r-dbi/RPostgres/issues/110"
   ]
  },
  {
   "cell_type": "code",
   "execution_count": 67,
   "metadata": {},
   "outputs": [
    {
     "data": {
      "text/plain": [
       "<module 'stats' from 'C:\\\\Users\\\\dell\\\\stats.py'>"
      ]
     },
     "execution_count": 67,
     "metadata": {},
     "output_type": "execute_result"
    }
   ],
   "source": [
    "from helper import *\n",
    "from stats import *\n",
    "from product_info import *\n",
    "from imp import reload  \n",
    "import helper\n",
    "import stats\n",
    "reload(helper)\n",
    "reload(stats)"
   ]
  },
  {
   "cell_type": "code",
   "execution_count": 68,
   "metadata": {},
   "outputs": [
    {
     "data": {
      "text/plain": [
       "16"
      ]
     },
     "execution_count": 68,
     "metadata": {},
     "output_type": "execute_result"
    }
   ],
   "source": [
    "CORE_NUM = int(os.environ['NUMBER_OF_PROCESSORS'])\n",
    "CORE_NUM\n",
    "## 16"
   ]
  },
  {
   "cell_type": "code",
   "execution_count": 70,
   "metadata": {},
   "outputs": [],
   "source": [
    "product_list = [\"btc.usd.td\", \"eth.usd.td\", \"btc.usdt\", \"eth.usdt\"]"
   ]
  },
  {
   "cell_type": "code",
   "execution_count": 71,
   "metadata": {},
   "outputs": [],
   "source": [
    "period = 4096"
   ]
  },
  {
   "cell_type": "code",
   "execution_count": 72,
   "metadata": {},
   "outputs": [
    {
     "data": {
      "text/plain": [
       "1059"
      ]
     },
     "execution_count": 72,
     "metadata": {},
     "output_type": "execute_result"
    }
   ],
   "source": [
    "all_dates = os.listdir(DATA_PATH + product_list[0])\n",
    "all_dates.sort()\n",
    "all_dates = np.array(all_dates)\n",
    "n_days = len(all_dates)\n",
    "n_days\n",
    "## 1092"
   ]
  },
  {
   "cell_type": "code",
   "execution_count": 73,
   "metadata": {},
   "outputs": [],
   "source": [
    "import dask\n",
    "from dask import compute, delayed\n",
    "import sklearn.preprocessing"
   ]
  },
  {
   "cell_type": "markdown",
   "metadata": {},
   "source": [
    "- fix a bug in week2\n",
    "- it may affect previous result but the result is still accpetable"
   ]
  },
  {
   "cell_type": "code",
   "execution_count": 76,
   "metadata": {},
   "outputs": [
    {
     "name": "stdout",
     "output_type": "stream",
     "text": [
      "122\n",
      "92\n"
     ]
    },
    {
     "data": {
      "text/plain": [
       "Timestamp('2019-08-02 00:00:00')"
      ]
     },
     "execution_count": 76,
     "metadata": {},
     "output_type": "execute_result"
    }
   ],
   "source": [
    "train_sample = all_dates<\"2019-08\"\n",
    "test_sample = all_dates>\"2019-08\"\n",
    "date_str = [n[0:10] for n in all_dates]\n",
    "format_dates = np.array([pd.to_datetime(d) for d in date_str])\n",
    "print(sum(train_sample))\n",
    "print(sum(test_sample))\n",
    "format_dates[test_sample][0]"
   ]
  },
  {
   "cell_type": "code",
   "execution_count": 75,
   "metadata": {},
   "outputs": [],
   "source": [
    "os.makedirs(HEAD_PATH+\"/all signal\", exist_ok=True)\n",
    "dire_signal_list = [\"nr\", \"dbook\", \"range.pos\", \"price.osci\", \"ma.dif.10\", \"kdj.k\", \"kdj.j\"]\n",
    "range_signal_list = [\"\", \"range\", \"std\", \"trend.index\"]\n",
    "all_signal_list = np.array([])\n",
    "for range_signal in range_signal_list:\n",
    "    for dire_signal in dire_signal_list:\n",
    "        if len(range_signal)==0:\n",
    "            signal_name = dire_signal\n",
    "        else:\n",
    "            signal_name = dire_signal+\".\"+range_signal\n",
    "        all_signal_list = np.append(all_signal_list,signal_name)\n",
    "signal_list = [signal+\".4096\" for signal in all_signal_list]\n",
    "np.append(signal_list, [\"ret.4096\", \"ret.4096.001\", \"ret.4096.002\"])\n",
    "n_signal = len(signal_list)"
   ]
  },
  {
   "cell_type": "code",
   "execution_count": 77,
   "metadata": {},
   "outputs": [],
   "source": [
    "from sklearn import linear_model\n",
    "from sklearn.model_selection import cross_val_score\n",
    "from sklearn.linear_model import lasso_path, LassoCV\n",
    "from sklearn.preprocessing import StandardScaler\n",
    "y_signal = \"ret.\"+str(period)"
   ]
  },
  {
   "cell_type": "markdown",
   "metadata": {},
   "source": [
    "- let's begin with week 10\n",
    "- we can load xgboost and lightgbm at first"
   ]
  },
  {
   "cell_type": "code",
   "execution_count": 78,
   "metadata": {},
   "outputs": [],
   "source": [
    "import xgboost as xgb\n",
    "import lightgbm as lgb\n",
    "import os"
   ]
  },
  {
   "cell_type": "code",
   "execution_count": 79,
   "metadata": {},
   "outputs": [],
   "source": [
    "from sklearn.ensemble import GradientBoostingRegressor\n",
    "from sklearn.model_selection import GridSearchCV"
   ]
  },
  {
   "cell_type": "code",
   "execution_count": 80,
   "metadata": {},
   "outputs": [],
   "source": [
    "ori_mat = load(HEAD_PATH+\"/train test mat/\"+product_list[0]+\".train.mat.pkl\")\n",
    "signal_names = ori_mat.columns[0:-3]\n",
    "signal_names\n",
    "col_names = ori_mat.columns"
   ]
  },
  {
   "cell_type": "code",
   "execution_count": 82,
   "metadata": {
    "scrolled": true
   },
   "outputs": [
    {
     "name": "stdout",
     "output_type": "stream",
     "text": [
      "btc.usd.td (4470, 32)\n",
      "eth.usd.td (3801, 32)\n"
     ]
    }
   ],
   "source": [
    "train_mat = load(HEAD_PATH+\"/train test mat/\"+product_list[0]+\".train.mat.pkl\")\n",
    "\n",
    "print(product_list[0], train_mat.shape)\n",
    "for product in product_list[1:2]:\n",
    "    cur_mat = load(HEAD_PATH+\"/train test mat/\"+product+\".train.mat.pkl\")\n",
    "    cur_mat = pd.DataFrame(data=sklearn.preprocessing.scale(cur_mat, with_mean=False), columns=col_names)\n",
    "    print(product, cur_mat.shape)\n",
    "    train_mat = train_mat.append(cur_mat)\n",
    "\n",
    "# btc.usd.td (4470, 32)\n",
    "# eth.usd.td (3801, 32)\n",
    "\n"
   ]
  },
  {
   "cell_type": "code",
   "execution_count": 83,
   "metadata": {},
   "outputs": [],
   "source": [
    "train_std_mat = dict([])\n",
    "train_mat = load(HEAD_PATH+\"/train test mat/\"+product_list[0]+\".train.mat.pkl\")\n",
    "train_mat = train_mat[0:0]\n",
    "test_mat = train_mat\n",
    "for product in product_list[:2]:\n",
    "    cur_train_mat = load(HEAD_PATH+\"/train test mat/\"+product+\".train.mat.pkl\")\n",
    "    train_std_mat[product] = np.std(cur_train_mat)\n",
    "    train_mat = train_mat.append(cur_train_mat/train_std_mat[product])\n",
    "    cur_test_mat = load(HEAD_PATH+\"/train test mat/\"+product+\".test.mat.pkl\")\n",
    "    test_mat = test_mat.append(cur_test_mat/train_std_mat[product])"
   ]
  },
  {
   "cell_type": "code",
   "execution_count": 84,
   "metadata": {},
   "outputs": [
    {
     "name": "stdout",
     "output_type": "stream",
     "text": [
      "(8271, 32)\n",
      "(6867, 32)\n"
     ]
    }
   ],
   "source": [
    "print(train_mat.shape)\n",
    "print(test_mat.shape)\n",
    "\n",
    "# (8271, 32)\n",
    "# (6867, 32)\n",
    "\n",
    "\n"
   ]
  },
  {
   "cell_type": "code",
   "execution_count": 85,
   "metadata": {},
   "outputs": [],
   "source": [
    "x_train = train_mat.iloc[:, :n_signal].values\n",
    "y_train = train_mat.loc[:, y_signal].values"
   ]
  },
  {
   "cell_type": "code",
   "execution_count": 86,
   "metadata": {},
   "outputs": [],
   "source": [
    "strat = \"gbm.crypto.4096\""
   ]
  },
  {
   "cell_type": "markdown",
   "metadata": {},
   "source": [
    "- create a directory for the first strate"
   ]
  },
  {
   "cell_type": "code",
   "execution_count": 87,
   "metadata": {},
   "outputs": [],
   "source": [
    "for product in product_list[0:2]:\n",
    "    os.makedirs(\"e:/intern\"+\"/tmp pkl/\"+product+\"/\"+strat, exist_ok=True)"
   ]
  },
  {
   "cell_type": "code",
   "execution_count": 88,
   "metadata": {},
   "outputs": [],
   "source": [
    "gb1 = GradientBoostingRegressor(random_state=0)\n",
    "param_grid = {\n",
    "        'n_estimators': np.arange(10,200,10),\n",
    "        'max_depth': [3,4,5,6,7,8,9,10],\n",
    "        'learning_rate':[0.01,0.1],\n",
    "        'min_samples_leaf': [10,20], \n",
    "    \n",
    "}\n"
   ]
  },
  {
   "cell_type": "code",
   "execution_count": 89,
   "metadata": {},
   "outputs": [
    {
     "name": "stdout",
     "output_type": "stream",
     "text": [
      "Wall time: 30min 14s\n"
     ]
    },
    {
     "data": {
      "text/plain": [
       "GridSearchCV(cv=5, error_score='raise-deprecating',\n",
       "             estimator=GradientBoostingRegressor(alpha=0.9,\n",
       "                                                 criterion='friedman_mse',\n",
       "                                                 init=None, learning_rate=0.1,\n",
       "                                                 loss='ls', max_depth=3,\n",
       "                                                 max_features=None,\n",
       "                                                 max_leaf_nodes=None,\n",
       "                                                 min_impurity_decrease=0.0,\n",
       "                                                 min_impurity_split=None,\n",
       "                                                 min_samples_leaf=1,\n",
       "                                                 min_samples_split=2,\n",
       "                                                 min_weight_fraction_leaf=0.0,\n",
       "                                                 n_estimators=100,\n",
       "                                                 n_iter...\n",
       "                                                 subsample=1.0, tol=0.0001,\n",
       "                                                 validation_fraction=0.1,\n",
       "                                                 verbose=0, warm_start=False),\n",
       "             iid='warn', n_jobs=16,\n",
       "             param_grid={'learning_rate': [0.01, 0.1],\n",
       "                         'max_depth': [3, 4, 5, 6, 7, 8, 9, 10],\n",
       "                         'min_samples_leaf': [10, 20],\n",
       "                         'n_estimators': array([ 10,  20,  30,  40,  50,  60,  70,  80,  90, 100, 110, 120, 130,\n",
       "       140, 150, 160, 170, 180, 190])},\n",
       "             pre_dispatch='2*n_jobs', refit=True, return_train_score=False,\n",
       "             scoring=None, verbose=0)"
      ]
     },
     "execution_count": 89,
     "metadata": {},
     "output_type": "execute_result"
    }
   ],
   "source": [
    "%%time\n",
    "gbm1 = GridSearchCV(gb1, param_grid, n_jobs=CORE_NUM, cv=5);\n",
    "gbm1.fit(x_train, y_train);\n",
    "# Wall time: 30min 14s\n",
    "\n",
    "\n",
    "\n"
   ]
  },
  {
   "cell_type": "code",
   "execution_count": 90,
   "metadata": {},
   "outputs": [
    {
     "data": {
      "text/plain": [
       "(8271, 28)"
      ]
     },
     "execution_count": 90,
     "metadata": {},
     "output_type": "execute_result"
    }
   ],
   "source": [
    "x_train.shape"
   ]
  },
  {
   "cell_type": "code",
   "execution_count": 91,
   "metadata": {},
   "outputs": [
    {
     "name": "stdout",
     "output_type": "stream",
     "text": [
      "Gradient boosted tree regression...\n",
      "Best Params:\n",
      "{'learning_rate': 0.01, 'max_depth': 4, 'min_samples_leaf': 10, 'n_estimators': 190}\n",
      "Best CV Score:\n",
      "0.016761429914335\n"
     ]
    }
   ],
   "source": [
    "print('Gradient boosted tree regression...')\n",
    "print('Best Params:')\n",
    "print(gbm1.best_params_)\n",
    "print('Best CV Score:')\n",
    "print(gbm1.best_score_)\n",
    "save(gbm1, HEAD_PATH+\"/crypto.gbm.4096.pkl\")\n",
    "\n",
    "# Gradient boosted tree regression...\n",
    "# Best Params:\n",
    "# {'learning_rate': 0.01, 'max_depth': 4, 'min_samples_leaf': 10, 'n_estimators': 190}\n",
    "# Best CV Score:\n",
    "# 0.016761429914335\n"
   ]
  },
  {
   "cell_type": "code",
   "execution_count": 92,
   "metadata": {},
   "outputs": [
    {
     "name": "stdout",
     "output_type": "stream",
     "text": [
      "Wall time: 5min 55s\n"
     ]
    },
    {
     "data": {
      "text/plain": [
       "''"
      ]
     },
     "execution_count": 92,
     "metadata": {},
     "output_type": "execute_result"
    }
   ],
   "source": [
    "%%time\n",
    "for product in product_list[:2]:\n",
    "    parLapply(CORE_NUM, all_dates, get_daily_gbm, \n",
    "          product=product, signal_list=signal_list, \n",
    "          model=gbm1, strat=strat, HEAD_PATH=HEAD_PATH, SAVE_PATH=\"e:/intern\", train_std=np.array(train_std_mat[product][:n_signal]))\n",
    ";\n",
    "# Wall time: 5min 55s\n"
   ]
  },
  {
   "cell_type": "code",
   "execution_count": 93,
   "metadata": {},
   "outputs": [
    {
     "name": "stdout",
     "output_type": "stream",
     "text": [
      "gbm.crypto.4096\n"
     ]
    }
   ],
   "source": [
    "signal_name = strat\n",
    "SAVE_PATH = \"e:/intern\"\n",
    "print(strat)"
   ]
  },
  {
   "cell_type": "code",
   "execution_count": 94,
   "metadata": {},
   "outputs": [
    {
     "name": "stdout",
     "output_type": "stream",
     "text": [
      "Wall time: 19.1 s\n"
     ]
    }
   ],
   "source": [
    "%%time\n",
    "for product in product_list[0:2]:\n",
    "    par_get_all_signal(strat, all_dates, product, 4096, SAVE_PATH=\"e:/intern\")\n",
    "\n",
    "## Wall time: 19.1 s"
   ]
  },
  {
   "cell_type": "code",
   "execution_count": 95,
   "metadata": {},
   "outputs": [
    {
     "name": "stdout",
     "output_type": "stream",
     "text": [
      "reverse=1\n",
      "reverse=1\n",
      "Wall time: 9min 33s\n"
     ]
    }
   ],
   "source": [
    "%%time\n",
    "for product in product_list[0:2]:\n",
    "    spread = product_info[product][\"spread\"]\n",
    "    tranct = product_info[product][\"tranct\"]\n",
    "    tranct_ratio = product_info[product][\"tranct.ratio\"]\n",
    "    evaluate_signal(\"gbm.crypto\", all_dates, product, 2, 20, CORE_NUM, HEAD_PATH, SAVE_PATH,\n",
    "                    period=4096, split_str=\"2019-08\", tranct=tranct, \n",
    "                    max_spread=spread+0.1, tranct_ratio=tranct_ratio, atr_filter=20, save_path=\"signal result atr\",reverse=1)\n",
    "\n",
    "# reverse=1\n",
    "# reverse=1\n",
    "# Wall time: 9min 33s\n",
    "\n"
   ]
  },
  {
   "cell_type": "code",
   "execution_count": 97,
   "metadata": {},
   "outputs": [
    {
     "name": "stdout",
     "output_type": "stream",
     "text": [
      "btc.usd.td train sharpe  2.2946473226404778 test sharpe  -2.04825215757469\n",
      "eth.usd.td train sharpe  1.487246088952186 test sharpe  0.3376650352407468\n",
      "train sharpe:  1.956534795702926 test sharpe:  -0.2852653071533546\n"
     ]
    },
    {
     "data": {
      "image/png": "[encoded data removed]",
      "text/plain": [
       "<Figure size 1152x720 with 1 Axes>"
      ]
     },
     "metadata": {
      "needs_background": "light"
     },
     "output_type": "display_data"
    }
   ],
   "source": [
    "i = 0\n",
    "strat = \"gbm.crypto.4096\"\n",
    "test_all_pnl = np.zeros([sum(test_sample), len(product_list[:2])])\n",
    "train_all_pnl = np.zeros([sum(train_sample), len(product_list[:2])])\n",
    "min_pnl = 10\n",
    "min_num = 10\n",
    "for product in product_list[0:2]:\n",
    "    spread = product_info[product][\"spread\"]\n",
    "    signal_stat = load(HEAD_PATH+\"/signal result atr/\"+product+\".\"+strat+\".trend.pkl\")\n",
    "    train_stat = signal_stat[\"train.stat\"]\n",
    "    good_strat = (train_stat[\"final.result\"][\"avg.pnl\"]>min_pnl*spread) & (train_stat[\"final.result\"][\"num\"]>min_num)\n",
    "    if (sum(good_strat)>0):\n",
    "        train_pnl = train_stat[\"daily.ret\"].loc[:, good_strat].sum(axis=1)/sum(good_strat)\n",
    "        test_stat = signal_stat[\"test.stat\"]\n",
    "        test_pnl = test_stat[\"daily.ret\"].loc[:, good_strat].sum(axis=1)/sum(good_strat)\n",
    "        print(product, \"train sharpe \", sharpe(train_pnl), \"test sharpe \", sharpe(test_pnl))\n",
    "        test_all_pnl[:,i] = test_pnl\n",
    "        train_all_pnl[:,i] = train_pnl\n",
    "        i = i+1\n",
    "train_portfolio = np.array(np.mean(train_all_pnl, axis=1))\n",
    "test_portfolio = np.array(np.mean(test_all_pnl, axis=1))\n",
    "all_portfolio = np.append(train_portfolio, test_portfolio)\n",
    "plt.figure(1, figsize=(16, 10));\n",
    "plt.title(\"\");\n",
    "plt.xlabel(\"date\");\n",
    "plt.ylabel(\"pnl\");\n",
    "plt.title(\"portfolio\");\n",
    "plt.plot(format_dates, all_portfolio.cumsum());\n",
    "plt.plot(format_dates[test_sample], all_portfolio.cumsum()[test_sample])\n",
    "print(\"train sharpe: \", sharpe(train_portfolio), \"test sharpe: \", sharpe(test_portfolio))    \n",
    "\n",
    "# btc.usd.td train sharpe  1.8198027880938554 test sharpe  -2.6230002990048833\n",
    "# eth.usd.td train sharpe  1.4028662816107922 test sharpe  0.29345145801413924\n",
    "# train sharpe:  1.8074646697050671 test sharpe:  -0.5716050424660765\n",
    "\n",
    "\n",
    "    "
   ]
  },
  {
   "cell_type": "markdown",
   "metadata": {},
   "source": [
    "- now we can go on with rolling gbm model\n",
    "- it's added this term of course"
   ]
  },
  {
   "cell_type": "code",
   "execution_count": 98,
   "metadata": {},
   "outputs": [],
   "source": [
    "month = np.array([file[:7] for file in all_dates])\n",
    "month_len = np.unique(month, return_counts=True)"
   ]
  },
  {
   "cell_type": "code",
   "execution_count": 100,
   "metadata": {},
   "outputs": [],
   "source": [
    "## rolling model for gradient boosting machine\n",
    "## returned value is the training sample standard deviation and the final model\n",
    "def get_multiple_gbm_roll_model(train_start, train_end, y_signal, forward_len, strat, \n",
    "                          product_list, period=4096, SAVE_PATH=\"e:/intern\"):\n",
    "    cum_daily_ticks = dict([])\n",
    "    train_tick_start = dict([])\n",
    "    train_tick_end = dict([])   \n",
    "    test_tick_start = dict([])\n",
    "    test_tick_end = dict([])\n",
    "    scaler =  StandardScaler(copy=True, with_mean=False, with_std=True)\n",
    "    for product in product_list:\n",
    "        cum_daily_ticks[product] = daily_ticks[product].cumsum()\n",
    "        if train_start==0:\n",
    "            train_tick_start[product] = 0\n",
    "        else:\n",
    "            train_tick_start[product] = int(cum_daily_ticks[product][train_start-1]+1)\n",
    "        train_tick_end[product] = int(cum_daily_ticks[product][train_end]-1)\n",
    "        test_tick_start[product] = int(train_tick_end[product]+2)\n",
    "        test_tick_end[product] = int(cum_daily_ticks[product][train_end+1])\n",
    "    coef_list = dict([])\n",
    "    gb1 = GradientBoostingRegressor(random_state=0)\n",
    "    gb1 = GradientBoostingRegressor(random_state=0)\n",
    "    param_grid = {\n",
    "            'n_estimators': np.arange(10,100,10),\n",
    "            'max_depth': [3,4,5,6,7,8],\n",
    "            'learning_rate':[0.01],\n",
    "            'min_samples_leaf': [20], \n",
    "    }\n",
    "    model = GridSearchCV(gb1, param_grid, n_jobs=CORE_NUM, cv=5);\n",
    "    train_std_mat = dict([])\n",
    "    train_mat = np.zeros((0,n_signal))\n",
    "    y_train = np.array([])\n",
    "    for product in product_list:\n",
    "        x_train = all_mat[product].iloc[train_tick_start[product]:train_tick_end[product], :n_signal].values\n",
    "        cur_y_train = all_mat[product][y_signal][train_tick_start[product]:train_tick_end[product]]\n",
    "        scaler.fit(x_train)\n",
    "        x_train = scaler.transform(x_train)\n",
    "        train_std_mat[product] = np.sqrt(scaler.var_)\n",
    "        train_mat = np.append(train_mat,x_train, axis=0)\n",
    "        y_train = np.append(y_train, cur_y_train)\n",
    "    model.fit(train_mat, y_train);\n",
    "    os.makedirs(SAVE_PATH+\"/model\", exist_ok=True)\n",
    "    save([train_std_mat, model], SAVE_PATH+\"/model/\"+strat+\".pkl\")\n",
    "    \n"
   ]
  },
  {
   "cell_type": "code",
   "execution_count": 101,
   "metadata": {},
   "outputs": [
    {
     "name": "stdout",
     "output_type": "stream",
     "text": [
      "['2019-09' '2019-10' '2019-11' '2019-12' '2020-01' '2020-02' '2020-03'\n",
      " '2020-04' '2020-05']\n"
     ]
    }
   ],
   "source": [
    "test_range = np.where(month_len[0] > \"2019-08\" )[0]\n",
    "print(month_len[0][test_range])\n",
    "start_month = 0\n",
    "end_month = sum(month_len[0] < \"2019-08\")-1\n",
    "cum_month_len = np.cumsum(month_len[1])\n",
    "\n",
    "# ['2019-09' '2019-10' '2019-11' '2019-12' '2020-01' '2020-02' '2020-03'\n",
    "#  '2020-04' '2020-05']\n",
    "\n",
    "\n"
   ]
  },
  {
   "cell_type": "code",
   "execution_count": 102,
   "metadata": {},
   "outputs": [],
   "source": [
    "daily_ticks = dict([])\n",
    "all_mat = dict([])\n",
    "for product in product_list[:2]:\n",
    "    daily_num = load(HEAD_PATH+\"/daily num/\"+product+\".pkl\")\n",
    "    daily_ticks[product] = daily_num\n",
    "    test_mat = load(HEAD_PATH+\"/train test mat/\"+product+\".test.mat.pkl\")\n",
    "    train_mat = load(HEAD_PATH+\"/train test mat/\"+product+\".train.mat.pkl\")\n",
    "    all_mat[product] = pd.concat((train_mat, test_mat))"
   ]
  },
  {
   "cell_type": "code",
   "execution_count": 104,
   "metadata": {},
   "outputs": [
    {
     "name": "stdout",
     "output_type": "stream",
     "text": [
      "13 2019-09\n",
      "14 2019-10\n",
      "15 2019-11\n",
      "16 2019-12\n",
      "17 2020-01\n",
      "18 2020-02\n",
      "19 2020-03\n",
      "20 2020-04\n",
      "21 2020-05\n",
      "Wall time: 11min 23s\n"
     ]
    }
   ],
   "source": [
    "%%time\n",
    "strat = \"gbm.crypto.4096\"\n",
    "y_signal = \"ret.4096\"\n",
    "start_month = 0\n",
    "end_month = sum(month_len[0] < \"2019-08\")-1\n",
    "for i_test in test_range:\n",
    "    forward_len = month_len[1][i_test]\n",
    "    train_start = 0 if start_month==0 else cum_month_len[start_month-1]\n",
    "    train_end = cum_month_len[end_month]-1\n",
    "    print(i_test, month_len[0][i_test])\n",
    "    get_multiple_gbm_roll_model(train_start, train_end, y_signal, forward_len, strat+\".\"+month_len[0][i_test], \n",
    "                          product_list[:2], period=4096, SAVE_PATH=\"e:/intern\")\n",
    "    start_month = start_month+1\n",
    "    end_month = end_month+1\n",
    "\n",
    "# 13 2019-09\n",
    "# 14 2019-10\n",
    "# 15 2019-11\n",
    "# 16 2019-12\n",
    "# 17 2020-01\n",
    "# 18 2020-02\n",
    "# 19 2020-03\n",
    "# 20 2020-04\n",
    "# 21 2020-05\n",
    "# Wall time: 11min 23s\n"
   ]
  },
  {
   "cell_type": "markdown",
   "metadata": {},
   "source": [
    "- now we can generate values of each model"
   ]
  },
  {
   "cell_type": "code",
   "execution_count": 106,
   "metadata": {},
   "outputs": [
    {
     "name": "stdout",
     "output_type": "stream",
     "text": [
      "13 2019-09\n",
      "14 2019-10\n",
      "15 2019-11\n",
      "16 2019-12\n",
      "17 2020-01\n",
      "18 2020-02\n",
      "19 2020-03\n",
      "20 2020-04\n",
      "21 2020-05\n",
      "Wall time: 11min 23s\n"
     ]
    }
   ],
   "source": [
    "%%time\n",
    "start_month = 0\n",
    "SAVE_PATH = \"e:/intern\"\n",
    "end_month = sum(month_len[0] < \"2019-08\")-1\n",
    "for i_test in test_range:\n",
    "    forward_len = month_len[1][i_test]\n",
    "    train_start = 0 if start_month==0 else cum_month_len[start_month-1]\n",
    "    train_end = cum_month_len[end_month]-1\n",
    "    print(i_test, month_len[0][i_test])\n",
    "    strat_name = strat+\".\"+month_len[0][i_test]\n",
    "    train_std_mat, model = load(SAVE_PATH+\"/model/\"+strat_name+\".pkl\")\n",
    "    for product in product_list[:2]:\n",
    "        os.makedirs(SAVE_PATH+\"/tmp pkl/\"+product+\"/\"+strat_name, exist_ok=True)\n",
    "        parLapply(CORE_NUM,all_dates[train_start:(train_end+forward_len+1)], get_daily_gbm, \n",
    "          product=product, signal_list=signal_list, \n",
    "          model=model, strat=strat_name, HEAD_PATH=HEAD_PATH, SAVE_PATH=\"e:/intern\", train_std=np.array(train_std_mat[product][:n_signal]))\n",
    "    start_month = start_month+1\n",
    "    end_month = end_month+1\n",
    "\n",
    "# 13 2019-09\n",
    "# 14 2019-10\n",
    "# 15 2019-11\n",
    "# 16 2019-12\n",
    "# 17 2020-01\n",
    "# 18 2020-02\n",
    "# 19 2020-03\n",
    "# 20 2020-04\n",
    "# 21 2020-05\n",
    "# Wall time: 11min 23s\n"
   ]
  },
  {
   "cell_type": "code",
   "execution_count": 107,
   "metadata": {},
   "outputs": [
    {
     "name": "stdout",
     "output_type": "stream",
     "text": [
      "2019-09 2018-08-10.pkl 2019-07-30.pkl\n",
      "2019-10 2018-09-01.pkl 2019-08-31.pkl\n",
      "2019-11 2018-10-01.pkl 2019-09-29.pkl\n",
      "2019-12 2018-11-06.pkl 2019-10-28.pkl\n",
      "2020-01 2018-12-03.pkl 2019-11-29.pkl\n",
      "2020-02 2019-01-02.pkl 2019-12-30.pkl\n",
      "2020-03 2019-02-05.pkl 2020-01-27.pkl\n",
      "2020-04 2019-03-03.pkl 2020-02-25.pkl\n",
      "2020-05 2019-04-02.pkl 2020-03-30.pkl\n",
      "Wall time: 1min 10s\n"
     ]
    }
   ],
   "source": [
    "%%time\n",
    "strat = \"gbm.crypto.4096\"\n",
    "start_month = 0\n",
    "end_month = sum(month_len[0] < \"2019-08\")-1\n",
    "for i_test in test_range:\n",
    "    train_start = 0 if start_month==0 else cum_month_len[start_month-1]\n",
    "    train_end = cum_month_len[end_month]-1\n",
    "    print(month_len[0][i_test], all_dates[train_start], all_dates[train_end])\n",
    "    for product in product_list[0:2]:\n",
    "        par_get_all_signal(strat+\".\"+month_len[0][i_test], all_dates[train_start:(train_end+1)], product, 4096, SAVE_PATH=\"e:/intern\")\n",
    "    start_month = start_month+1\n",
    "    end_month = end_month+1\n",
    "\n",
    "# 2019-09 2018-08-10.pkl 2019-07-30.pkl\n",
    "# 2019-10 2018-09-01.pkl 2019-08-31.pkl\n",
    "# 2019-11 2018-10-01.pkl 2019-09-29.pkl\n",
    "# 2019-12 2018-11-06.pkl 2019-10-28.pkl\n",
    "# 2020-01 2018-12-03.pkl 2019-11-29.pkl\n",
    "# 2020-02 2019-01-02.pkl 2019-12-30.pkl\n",
    "# 2020-03 2019-02-05.pkl 2020-01-27.pkl\n",
    "# 2020-04 2019-03-03.pkl 2020-02-25.pkl\n",
    "# 2020-05 2019-04-02.pkl 2020-03-30.pkl\n",
    "# Wall time: 1min 10s\n"
   ]
  },
  {
   "cell_type": "code",
   "execution_count": 108,
   "metadata": {},
   "outputs": [],
   "source": [
    "def get_roll_result(product, strat,test_range, month_len, atr_filter=0, save_path=\"signal result atr\", \n",
    "                          HEAD_PATH=\"d:/intern\", SIGNAL_PATH=\"e:/intern\"):\n",
    "    start_month = 0\n",
    "    end_month = sum(month_len[0] < \"2019-08\")-1\n",
    "    tranct = product_info[product][\"tranct\"]\n",
    "    tranct_ratio = product_info[product][\"tranct.ratio\"]\n",
    "    spread = product_info[product][\"spread\"]\n",
    "    for i_test in test_range:\n",
    "        forward_len = month_len[1][i_test]\n",
    "        train_start = 0 if start_month==0 else cum_month_len[start_month-1]\n",
    "        train_end = cum_month_len[end_month]-1\n",
    "        strat_name = strat+\".\"+month_len[0][i_test]\n",
    "        print(product, i_test, strat_name)\n",
    "        all_signal = load(SIGNAL_PATH+\"/all signal/\"+product+\".\"+strat_name+\".pkl\")\n",
    "        open_list = np.quantile(abs(all_signal), np.append(np.arange(0.991,0.999,0.001),np.arange(0.9991,0.9999,0.0001)))\n",
    "        thre_list = []\n",
    "        for cartesian in itertools.product(open_list, np.array([0.2, 0.4, 0.6, 0.8, 1.0])):\n",
    "            thre_list.append((cartesian[0], -cartesian[0] * cartesian[1]))\n",
    "        thre_list = np.array(thre_list)\n",
    "        thre_mat = pd.DataFrame(data=OrderedDict([(\"open\", thre_list[:, 0]), (\"close\", thre_list[:, 1])]))\n",
    "        train_result = parLapply(CORE_NUM, all_dates[train_start:(train_end+1)], get_signal_pnl, \n",
    "                             product=product, signal_name=strat_name, thre_mat=thre_mat, reverse=1, tranct=tranct, \n",
    "                             max_spread=spread*1.1, tranct_ratio=tranct_ratio, HEAD_PATH=HEAD_PATH, SIGNAL_PATH=SIGNAL_PATH,\n",
    "                            atr_filter=atr_filter, rebate=0)\n",
    "        train_stat = get_hft_summary(train_result, thre_mat, train_end-train_start+1)\n",
    "        test_result = parLapply(CORE_NUM, all_dates[(train_end+1):(train_end+forward_len+1)], get_signal_pnl, \n",
    "                            product=product, signal_name=strat_name, thre_mat=thre_mat, reverse=1, tranct=tranct, \n",
    "                             max_spread=spread*1.1, tranct_ratio=tranct_ratio, HEAD_PATH=HEAD_PATH, SIGNAL_PATH=SIGNAL_PATH,\n",
    "                            atr_filter=atr_filter, rebate=0)\n",
    "        test_stat = get_hft_summary(test_result, thre_mat, forward_len)\n",
    "        stat_result = OrderedDict([(\"train.stat\", train_stat), (\"test.stat\", test_stat)])    \n",
    "        save(stat_result, HEAD_PATH+\"/\"+save_path+\"/\"+product+\".\"+strat_name+\".pkl\")\n",
    "        start_month = start_month+1\n",
    "        end_month = end_month+1\n"
   ]
  },
  {
   "cell_type": "code",
   "execution_count": 109,
   "metadata": {},
   "outputs": [
    {
     "name": "stdout",
     "output_type": "stream",
     "text": [
      "btc.usd.td 13 gbm.crypto.4096.2019-09\n",
      "btc.usd.td 14 gbm.crypto.4096.2019-10\n",
      "btc.usd.td 15 gbm.crypto.4096.2019-11\n",
      "btc.usd.td 16 gbm.crypto.4096.2019-12\n",
      "btc.usd.td 17 gbm.crypto.4096.2020-01\n",
      "btc.usd.td 18 gbm.crypto.4096.2020-02\n",
      "btc.usd.td 19 gbm.crypto.4096.2020-03\n",
      "btc.usd.td 20 gbm.crypto.4096.2020-04\n",
      "btc.usd.td 21 gbm.crypto.4096.2020-05\n",
      "eth.usd.td 13 gbm.crypto.4096.2019-09\n",
      "eth.usd.td 14 gbm.crypto.4096.2019-10\n",
      "eth.usd.td 15 gbm.crypto.4096.2019-11\n",
      "eth.usd.td 16 gbm.crypto.4096.2019-12\n",
      "eth.usd.td 17 gbm.crypto.4096.2020-01\n",
      "eth.usd.td 18 gbm.crypto.4096.2020-02\n",
      "eth.usd.td 19 gbm.crypto.4096.2020-03\n",
      "eth.usd.td 20 gbm.crypto.4096.2020-04\n",
      "eth.usd.td 21 gbm.crypto.4096.2020-05\n",
      "Wall time: 47min 26s\n"
     ]
    }
   ],
   "source": [
    "%%time\n",
    "strat = \"gbm.crypto.4096\"\n",
    "for product in product_list[0:2]:\n",
    "    get_roll_result(product, strat, test_range, month_len, atr_filter=20)\n",
    "\n",
    "# btc.usd.td 13 gbm.crypto.4096.2019-09\n",
    "# btc.usd.td 14 gbm.crypto.4096.2019-10\n",
    "# btc.usd.td 15 gbm.crypto.4096.2019-11\n",
    "# btc.usd.td 16 gbm.crypto.4096.2019-12\n",
    "# btc.usd.td 17 gbm.crypto.4096.2020-01\n",
    "# btc.usd.td 18 gbm.crypto.4096.2020-02\n",
    "# btc.usd.td 19 gbm.crypto.4096.2020-03\n",
    "# btc.usd.td 20 gbm.crypto.4096.2020-04\n",
    "# btc.usd.td 21 gbm.crypto.4096.2020-05\n",
    "# eth.usd.td 13 gbm.crypto.4096.2019-09\n",
    "# eth.usd.td 14 gbm.crypto.4096.2019-10\n",
    "# eth.usd.td 15 gbm.crypto.4096.2019-11\n",
    "# eth.usd.td 16 gbm.crypto.4096.2019-12\n",
    "# eth.usd.td 17 gbm.crypto.4096.2020-01\n",
    "# eth.usd.td 18 gbm.crypto.4096.2020-02\n",
    "# eth.usd.td 19 gbm.crypto.4096.2020-03\n",
    "# eth.usd.td 20 gbm.crypto.4096.2020-04\n",
    "# eth.usd.td 21 gbm.crypto.4096.2020-05\n",
    "# Wall time: 47min 26s\n"
   ]
  },
  {
   "cell_type": "code",
   "execution_count": 112,
   "metadata": {},
   "outputs": [
    {
     "name": "stdout",
     "output_type": "stream",
     "text": [
      "sharpe  0.414375642295953\n"
     ]
    },
    {
     "data": {
      "image/png": "[encoded data removed]",
      "text/plain": [
       "<Figure size 1152x720 with 1 Axes>"
      ]
     },
     "metadata": {
      "needs_background": "light"
     },
     "output_type": "display_data"
    }
   ],
   "source": [
    "n_product = len(product_list[0:2])\n",
    "save_path = \"signal result atr\"\n",
    "strat = \"gbm.crypto.4096\"\n",
    "start_month = 0\n",
    "end_month = sum(month_len[0] < \"2019-08\")-1\n",
    "all_pnl = np.array([])\n",
    "for i_test in test_range:\n",
    "    forward_len = month_len[1][i_test]\n",
    "    train_start = 0 if start_month==0 else cum_month_len[start_month-1]\n",
    "    train_end = cum_month_len[end_month]-1\n",
    "    strat_name = strat+\".\"+month_len[0][i_test]\n",
    "    train_mat = np.zeros((train_end-train_start+1, n_product))\n",
    "    test_mat = np.zeros((forward_len, n_product))\n",
    "    for i_product in range(n_product):\n",
    "        product = product_list[i_product]\n",
    "        stat_result = load(HEAD_PATH+\"/\"+save_path+\"/\"+product+\".\"+strat_name+\".pkl\")\n",
    "        train_stat = stat_result[\"train.stat\"]\n",
    "        test_stat = stat_result[\"test.stat\"]\n",
    "        spread = product_info[product][\"spread\"]\n",
    "        good_strat = (train_stat[\"final.result\"][\"avg.pnl\"]>10*spread)\n",
    "        train_pnl = train_stat[\"daily.ret\"].loc[:, good_strat].sum(axis=1)/sum(good_strat) \n",
    "        train_pnl[np.isnan(train_pnl)]=0\n",
    "        train_mat[:,i_product] = train_pnl\n",
    "        test_pnl = test_stat[\"daily.ret\"].loc[:, good_strat].sum(axis=1)/sum(good_strat)\n",
    "        test_pnl[np.isnan(test_pnl)]=0\n",
    "        test_mat[:,i_product] = test_pnl\n",
    "    sharpe_mat = np.apply_along_axis(sharpe, 0, train_mat)\n",
    "    sharpe_weight = zero_divide(sharpe_mat, np.sum(sharpe_mat))\n",
    "    #parity_weight = risk_parity(train_mat)\n",
    "    #diagonal_weight = risk_parity(train_mat, only_diag=True)\n",
    "    #avg_test_pnl = test_mat.mean(axis=1)\n",
    "    avg_test_pnl = np.dot(test_mat, sharpe_weight)\n",
    "    #avg_test_pnl = np.dot(test_mat, parity_weight)\n",
    "    #avg_test_pnl = np.dot(test_mat, diagonal_weight)\n",
    "    all_pnl = np.append(all_pnl, avg_test_pnl)\n",
    "    start_month = start_month+1\n",
    "    end_month = end_month+1\n",
    "plt.figure(1, figsize=(16, 10))\n",
    "plt.title(\"monthly roll lasso\")\n",
    "plt.xlabel(\"date\")\n",
    "plt.ylabel(\"pnl\")\n",
    "plt.plot(all_pnl.cumsum());\n",
    "print(\"sharpe \", sharpe(all_pnl))\n",
    "\n",
    "## sharpe  0.414375642295953\n",
    "\n"
   ]
  },
  {
   "cell_type": "markdown",
   "metadata": {},
   "source": [
    "- Now let's start with xgboost"
   ]
  },
  {
   "cell_type": "code",
   "execution_count": 113,
   "metadata": {},
   "outputs": [],
   "source": [
    "import xgboost as xgb"
   ]
  },
  {
   "cell_type": "markdown",
   "metadata": {},
   "source": [
    "- we need to create specific train and test data sets for xgboost"
   ]
  },
  {
   "cell_type": "code",
   "execution_count": 114,
   "metadata": {
    "scrolled": false
   },
   "outputs": [],
   "source": [
    "cv_params = {'max_depth': [3,4,5,6,7,8,9,10], \n",
    "             'n_estimators': np.arange(10,200,10)}\n",
    "ind_params = {'learning_rate': 0.1,\n",
    "              \"min_samples_leaf\":[10,20],\n",
    "              'seed':100, 'objective': 'reg:linear'}\n",
    "xgb_cv = GridSearchCV(xgb.XGBRegressor(**ind_params), \n",
    "                            cv_params, \n",
    "                            cv = 5, n_jobs = -1) "
   ]
  },
  {
   "cell_type": "code",
   "execution_count": 115,
   "metadata": {},
   "outputs": [
    {
     "name": "stdout",
     "output_type": "stream",
     "text": [
      "Wall time: 8min 24s\n"
     ]
    },
    {
     "data": {
      "text/plain": [
       "GridSearchCV(cv=5, error_score='raise-deprecating',\n",
       "             estimator=XGBRegressor(base_score=0.5, booster='gbtree',\n",
       "                                    colsample_bylevel=1, colsample_bytree=1,\n",
       "                                    gamma=0, importance_type='gain',\n",
       "                                    learning_rate=0.1, max_delta_step=0,\n",
       "                                    max_depth=3, min_child_weight=1,\n",
       "                                    min_samples_leaf=[10, 20], missing=None,\n",
       "                                    n_estimators=100, n_jobs=1, nthread=None,\n",
       "                                    objective='reg:linear', random_state=0,\n",
       "                                    reg_alpha=0, reg_lambda=1,\n",
       "                                    scale_pos_weight=1, seed=100, silent=True,\n",
       "                                    subsample=1),\n",
       "             iid='warn', n_jobs=-1,\n",
       "             param_grid={'max_depth': [3, 4, 5, 6, 7, 8, 9, 10],\n",
       "                         'n_estimators': array([ 10,  20,  30,  40,  50,  60,  70,  80,  90, 100, 110, 120, 130,\n",
       "       140, 150, 160, 170, 180, 190])},\n",
       "             pre_dispatch='2*n_jobs', refit=True, return_train_score=False,\n",
       "             scoring=None, verbose=0)"
      ]
     },
     "execution_count": 115,
     "metadata": {},
     "output_type": "execute_result"
    }
   ],
   "source": [
    "%%time\n",
    "xgb_cv.fit(x_train, y_train);\n",
    "\n",
    "# Wall time: 8min 24s\n",
    "\n",
    "# GridSearchCV(cv=5, error_score='raise-deprecating',\n",
    "#              estimator=XGBRegressor(base_score=0.5, booster='gbtree',\n",
    "#                                     colsample_bylevel=1, colsample_bytree=1,\n",
    "#                                     gamma=0, importance_type='gain',\n",
    "#                                     learning_rate=0.1, max_delta_step=0,\n",
    "#                                     max_depth=3, min_child_weight=1,\n",
    "#                                     min_samples_leaf=[10, 20], missing=None,\n",
    "#                                     n_estimators=100, n_jobs=1, nthread=None,\n",
    "#                                     objective='reg:linear', random_state=0,\n",
    "#                                     reg_alpha=0, reg_lambda=1,\n",
    "#                                     scale_pos_weight=1, seed=100, silent=True,\n",
    "#                                     subsample=1),\n",
    "#              iid='warn', n_jobs=-1,\n",
    "#              param_grid={'max_depth': [3, 4, 5, 6, 7, 8, 9, 10],\n",
    "#                          'n_estimators': array([ 10,  20,  30,  40,  50,  60,  70,  80,  90, 100, 110, 120, 130,\n",
    "#        140, 150, 160, 170, 180, 190])},\n",
    "#              pre_dispatch='2*n_jobs', refit=True, return_train_score=False,\n",
    "#              scoring=None, verbose=0)"
   ]
  },
  {
   "cell_type": "code",
   "execution_count": 116,
   "metadata": {},
   "outputs": [
    {
     "data": {
      "text/plain": [
       "{'max_depth': 3, 'n_estimators': 40}"
      ]
     },
     "execution_count": 116,
     "metadata": {},
     "output_type": "execute_result"
    }
   ],
   "source": [
    "#best_parameters, score, _ = max(xgb_cv.grid_scorer, key=lambda x: x[1])\n",
    "xgb_cv.best_params_\n",
    "## {'max_depth': 3, 'n_estimators': 40}"
   ]
  },
  {
   "cell_type": "code",
   "execution_count": 117,
   "metadata": {},
   "outputs": [],
   "source": [
    "strat = \"xgb.crypto.4096\"\n",
    "signal_name = strat"
   ]
  },
  {
   "cell_type": "code",
   "execution_count": 118,
   "metadata": {},
   "outputs": [],
   "source": [
    "SAVE_PATH = \"e:/intern\"\n",
    "for product in product_list[0:2]:\n",
    "    os.makedirs(SAVE_PATH+\"/tmp pkl/\"+product+\"/\"+strat, exist_ok=True)\n"
   ]
  },
  {
   "cell_type": "markdown",
   "metadata": {},
   "source": [
    "- we can plot them to check the result"
   ]
  },
  {
   "cell_type": "code",
   "execution_count": 119,
   "metadata": {},
   "outputs": [
    {
     "name": "stdout",
     "output_type": "stream",
     "text": [
      "Wall time: 1min 59s\n"
     ]
    },
    {
     "data": {
      "text/plain": [
       "''"
      ]
     },
     "execution_count": 119,
     "metadata": {},
     "output_type": "execute_result"
    }
   ],
   "source": [
    "%%time\n",
    "for product in product_list[0:2]:\n",
    "    parLapply(CORE_NUM, all_dates, get_daily_gbm, \n",
    "          product=product, signal_list=signal_list, \n",
    "          model=xgb_cv, strat=strat, HEAD_PATH=HEAD_PATH, SAVE_PATH=\"e:/intern\", train_std=np.array(train_std_mat[product][:n_signal]))\n",
    ";\n",
    "# Wall time: 1min 59s\n"
   ]
  },
  {
   "cell_type": "code",
   "execution_count": 120,
   "metadata": {},
   "outputs": [
    {
     "name": "stdout",
     "output_type": "stream",
     "text": [
      "Wall time: 12.3 s\n"
     ]
    }
   ],
   "source": [
    "%%time\n",
    "for product in product_list[0:2]:\n",
    "    par_get_all_signal(strat, all_dates, product, 4096, SAVE_PATH=\"e:/intern\")\n",
    "    \n",
    "#  Wall time: 12.3 s\n"
   ]
  },
  {
   "cell_type": "code",
   "execution_count": 122,
   "metadata": {},
   "outputs": [
    {
     "name": "stdout",
     "output_type": "stream",
     "text": [
      "reverse=1\n",
      "reverse=1\n",
      "Wall time: 9min 38s\n"
     ]
    }
   ],
   "source": [
    "%%time\n",
    "for product in product_list[0:2]:\n",
    "    spread = product_info[product][\"spread\"]\n",
    "    tranct = product_info[product][\"tranct\"]\n",
    "    tranct_ratio = product_info[product][\"tranct.ratio\"]\n",
    "    evaluate_signal(\"xgb.crypto\", all_dates, product, 2, 20, CORE_NUM, HEAD_PATH, SAVE_PATH,\n",
    "                    period=4096, split_str=\"2019-08\", tranct=tranct, \n",
    "                    max_spread=spread*1.1, tranct_ratio=tranct_ratio, atr_filter=20, save_path=\"signal result atr\",reverse=1)\n",
    "\n",
    "# reverse=1\n",
    "# reverse=1\n",
    "# Wall time: 9min 38s\n",
    "\n"
   ]
  },
  {
   "cell_type": "code",
   "execution_count": 124,
   "metadata": {
    "scrolled": true
   },
   "outputs": [
    {
     "name": "stdout",
     "output_type": "stream",
     "text": [
      "btc.usd.td train sharpe  2.87537796788086 test sharpe  -0.41319254807169187\n",
      "eth.usd.td train sharpe  1.2929395452179817 test sharpe  0.42662596786220847\n",
      "train sharpe:  2.3421564454152226 test sharpe:  0.0010513385244776202\n"
     ]
    },
    {
     "data": {
      "image/png": "[encoded data removed]",
      "text/plain": [
       "<Figure size 1152x720 with 1 Axes>"
      ]
     },
     "metadata": {
      "needs_background": "light"
     },
     "output_type": "display_data"
    }
   ],
   "source": [
    "i = 0\n",
    "strat = \"xgb.crypto.4096\"\n",
    "test_all_pnl = np.zeros([sum(test_sample), len(product_list[0:2])])\n",
    "train_all_pnl = np.zeros([sum(train_sample), len(product_list[0:2])])\n",
    "min_pnl = 2\n",
    "min_num = 10\n",
    "for product in product_list[0:2]:\n",
    "    spread = product_info[product][\"spread\"]\n",
    "    signal_stat = load(HEAD_PATH+\"/signal result atr/\"+product+\".\"+strat+\".trend.pkl\")\n",
    "    train_stat = signal_stat[\"train.stat\"]\n",
    "    good_strat = (train_stat[\"final.result\"][\"avg.pnl\"]>min_pnl*spread) & (train_stat[\"final.result\"][\"num\"]>min_num)\n",
    "    if sum(good_strat)>0:\n",
    "        train_pnl = train_stat[\"daily.ret\"].loc[:, good_strat].sum(axis=1)/sum(good_strat)\n",
    "        test_stat = signal_stat[\"test.stat\"]\n",
    "        test_pnl = test_stat[\"daily.ret\"].loc[:, good_strat].sum(axis=1)/sum(good_strat)\n",
    "        print(product, \"train sharpe \", sharpe(train_pnl), \"test sharpe \", sharpe(test_pnl))\n",
    "        test_all_pnl[:,i] = test_pnl\n",
    "        train_all_pnl[:,i] = train_pnl\n",
    "    else:\n",
    "        train_pnl = np.zeros(np.shape(train_stat[\"daily.ret\"])[0])\n",
    "        test_stat = signal_stat[\"test.stat\"]\n",
    "        test_pnl = np.zeros(np.shape(test_stat[\"daily.ret\"])[0])\n",
    "    test_all_pnl[:,i] = test_pnl\n",
    "    train_all_pnl[:,i] = train_pnl\n",
    "    i = i+1\n",
    "train_portfolio = np.array(np.mean(train_all_pnl, axis=1))\n",
    "test_portfolio = np.array(np.mean(test_all_pnl, axis=1))\n",
    "all_portfolio = np.append(train_portfolio, test_portfolio)\n",
    "plt.figure(1, figsize=(16, 10));\n",
    "plt.title(\"\");\n",
    "plt.xlabel(\"date\");\n",
    "plt.ylabel(\"pnl\");\n",
    "plt.title(\"portfolio\");\n",
    "plt.plot(format_dates, all_portfolio.cumsum());\n",
    "plt.plot(format_dates[test_sample], all_portfolio.cumsum()[test_sample])\n",
    "print(\"train sharpe: \", sharpe(train_portfolio), \"test sharpe: \", sharpe(test_portfolio))    \n",
    "\n",
    "# btc.usd.td train sharpe  2.87537796788086 test sharpe  -0.41319254807169187\n",
    "# eth.usd.td train sharpe  1.2929395452179817 test sharpe  0.42662596786220847\n",
    "# train sharpe:  2.3421564454152226 test sharpe:  0.0010513385244776202\n"
   ]
  },
  {
   "cell_type": "markdown",
   "metadata": {},
   "source": [
    "\n",
    "- SUMMARY\n",
    "\n",
    "\n",
    "- today we compare two tree-based models: gradient boosting machine and xgboost\n",
    "- but the result is pretty bad\n",
    "- you can try to tune the parameter to see whether we could improve it"
   ]
  },
  {
   "cell_type": "code",
   "execution_count": null,
   "metadata": {},
   "outputs": [],
   "source": []
  },
  {
   "cell_type": "code",
   "execution_count": null,
   "metadata": {},
   "outputs": [],
   "source": []
  },
  {
   "cell_type": "code",
   "execution_count": null,
   "metadata": {},
   "outputs": [],
   "source": []
  }
 ],
 "metadata": {
  "kernelspec": {
   "display_name": "Python 3",
   "language": "python",
   "name": "python3"
  },
  "language_info": {
   "codemirror_mode": {
    "name": "ipython",
    "version": 3
   },
   "file_extension": ".py",
   "mimetype": "text/x-python",
   "name": "python",
   "nbconvert_exporter": "python",
   "pygments_lexer": "ipython3",
   "version": "3.7.0"
  }
 },
 "nbformat": 4,
 "nbformat_minor": 2
}
