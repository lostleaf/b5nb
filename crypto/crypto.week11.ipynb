{
 "cells": [
  {
   "cell_type": "markdown",
   "metadata": {},
   "source": [
    "- last week we learnt the rolling model\n",
    "- this week we would learn ensemble methods and intraday trading"
   ]
  },
  {
   "cell_type": "code",
   "execution_count": 121,
   "metadata": {
    "scrolled": true
   },
   "outputs": [
    {
     "data": {
      "text/plain": [
       "<module 'stats' from 'C:\\\\Users\\\\dell\\\\stats.py'>"
      ]
     },
     "execution_count": 121,
     "metadata": {},
     "output_type": "execute_result"
    }
   ],
   "source": [
    "from helper import *\n",
    "from stats import *\n",
    "from product_info import *\n",
    "from imp import reload  \n",
    "import helper\n",
    "import stats\n",
    "reload(helper)\n",
    "reload(stats)"
   ]
  },
  {
   "cell_type": "code",
   "execution_count": 122,
   "metadata": {},
   "outputs": [
    {
     "data": {
      "text/plain": [
       "16"
      ]
     },
     "execution_count": 122,
     "metadata": {},
     "output_type": "execute_result"
    }
   ],
   "source": [
    "CORE_NUM = int(os.environ['NUMBER_OF_PROCESSORS'])\n",
    "CORE_NUM\n",
    "## 16"
   ]
  },
  {
   "cell_type": "code",
   "execution_count": 123,
   "metadata": {},
   "outputs": [],
   "source": [
    "product_list = [\"btc.usd.td\", \"eth.usd.td\", \"btc.usdt\", \"eth.usdt\"]"
   ]
  },
  {
   "cell_type": "code",
   "execution_count": 127,
   "metadata": {},
   "outputs": [],
   "source": [
    "period = 4096"
   ]
  },
  {
   "cell_type": "code",
   "execution_count": 132,
   "metadata": {},
   "outputs": [
    {
     "data": {
      "text/plain": [
       "1059"
      ]
     },
     "execution_count": 132,
     "metadata": {},
     "output_type": "execute_result"
    }
   ],
   "source": [
    "all_dates = os.listdir(DATA_PATH + product_list[0])\n",
    "all_dates.sort()\n",
    "all_dates = np.array(all_dates)\n",
    "n_days = len(all_dates)\n",
    "n_days\n",
    "## 10959"
   ]
  },
  {
   "cell_type": "code",
   "execution_count": 129,
   "metadata": {},
   "outputs": [],
   "source": [
    "import dask\n",
    "from dask import compute, delayed\n",
    "import sklearn.preprocessing"
   ]
  },
  {
   "cell_type": "code",
   "execution_count": 137,
   "metadata": {},
   "outputs": [
    {
     "name": "stdout",
     "output_type": "stream",
     "text": [
      "122\n",
      "92\n"
     ]
    }
   ],
   "source": [
    "SAVE_PATH = \"e:/intern\"\n",
    "all_dates_x = os.listdir(DATA_PATH + product_list[0])\n",
    "all_dates_y = os.listdir(DATA_PATH + product_list[1])\n",
    "all_dates = np.array(list(set(all_dates_x) & set(all_dates_y)))\n",
    "all_dates.sort()\n",
    "train_sample = all_dates<\"2019-08\"\n",
    "test_sample = all_dates>\"2019-08\"\n",
    "date_str = [n[0:10] for n in all_dates]\n",
    "format_dates = np.array([pd.to_datetime(d) for d in date_str])\n",
    "print(sum(train_sample))\n",
    "print(sum(test_sample))"
   ]
  },
  {
   "cell_type": "code",
   "execution_count": 138,
   "metadata": {},
   "outputs": [],
   "source": [
    "os.makedirs(HEAD_PATH+\"/all signal\", exist_ok=True)\n",
    "dire_signal_list = [\"nr\", \"dbook\", \"range.pos\", \"price.osci\", \"ma.dif.10\", \"kdj.k\", \"kdj.j\"]\n",
    "range_signal_list = [\"\", \"range\", \"std\", \"trend.index\"]\n",
    "all_signal_list = np.array([])\n",
    "for range_signal in range_signal_list:\n",
    "    for dire_signal in dire_signal_list:\n",
    "        if len(range_signal)==0:\n",
    "            signal_name = dire_signal\n",
    "        else:\n",
    "            signal_name = dire_signal+\".\"+range_signal\n",
    "        all_signal_list = np.append(all_signal_list,signal_name)\n",
    "signal_list = [signal+\".4096\" for signal in all_signal_list]\n",
    "np.append(signal_list, [\"ret.4096\", \"ret.4096.001\", \"ret.4096.002\"])\n",
    "n_signal = len(signal_list)"
   ]
  },
  {
   "cell_type": "code",
   "execution_count": 139,
   "metadata": {},
   "outputs": [],
   "source": [
    "from sklearn import linear_model\n",
    "from sklearn.model_selection import cross_val_score\n",
    "from sklearn.linear_model import lasso_path, LassoCV,RidgeCV\n",
    "\n",
    "from sklearn.preprocessing import StandardScaler\n",
    "#y_signal = \"ret.\"+str(period)+\".004\"\n",
    "y_signal = \"ret.\"+str(period)"
   ]
  },
  {
   "cell_type": "code",
   "execution_count": 140,
   "metadata": {},
   "outputs": [],
   "source": [
    "## get multiple samples of the singal matrix\n",
    "def get_multiple_sample_signal(good_night_files, sample, product, signal_name, period, daily_num, mod=np.array([0])):\n",
    "    n_samples = int(sum(daily_num[sample])) ## number of samples\n",
    "    n_mod = len(mod) ## number of different copies of the same signal\n",
    "    if n_mod==1: ## if there is one copy then the same as before\n",
    "        all_signal = np.zeros(n_samples)\n",
    "    else:\n",
    "        all_signal = np.zeros((n_mod, n_samples)) ## if there are multiple copies then use a matrix for one signal instead\n",
    "    cur = 0\n",
    "    for file in good_night_files[sample]: ## iterate for files\n",
    "        good = load(SAVE_PATH+\"/good pkl/\"+product+\"/\"+file)\n",
    "        S = load(SAVE_PATH+\"/tmp pkl/\"+product+\"/\"+signal_name+\"/\"+file)\n",
    "        S = S[good]\n",
    "        for i in range(n_mod):\n",
    "            signal = S[(np.arange(len(S))+1) % period == mod[i]]\n",
    "            ## the ret.cor has some bad records\n",
    "            signal[np.isnan(signal)] = 0\n",
    "            signal[np.isinf(signal)] = 0\n",
    "            if mod[i]==0: \n",
    "                cur_end = np.min((cur+len(signal),n_samples)) ## to avoid exceed the number of samoes, mod[i]==0 has most signals, \n",
    "                ## so if it doesn't exceed, others would not exceed\n",
    "            if n_mod==1:\n",
    "                all_signal[cur:cur_end] = signal[0:(cur_end-cur)]\n",
    "            else:\n",
    "                all_signal[i, cur:cur_end] = signal[0:(cur_end-cur)]\n",
    "        cur = cur_end\n",
    "    return all_signal"
   ]
  },
  {
   "cell_type": "code",
   "execution_count": 141,
   "metadata": {},
   "outputs": [
    {
     "data": {
      "text/plain": [
       "array([   0.,  409.,  818., 1227., 1636., 2045., 2454., 2863., 3272.,\n",
       "       3681.])"
      ]
     },
     "execution_count": 141,
     "metadata": {},
     "output_type": "execute_result"
    }
   ],
   "source": [
    "mod = np.arange(0, np.floor(period/10)*10, np.floor(period/10))\n",
    "n_mod = len(mod)\n",
    "mod\n",
    "## array([   0.,  409.,  818., 1227., 1636., 2045., 2454., 2863., 3272.,\n",
    "##        3681.])"
   ]
  },
  {
   "cell_type": "code",
   "execution_count": 142,
   "metadata": {},
   "outputs": [],
   "source": [
    "SAVE_PATH = \"e:/intern\"\n",
    "os.makedirs(SAVE_PATH+\"/train test array\", exist_ok=True)"
   ]
  },
  {
   "cell_type": "code",
   "execution_count": 145,
   "metadata": {},
   "outputs": [
    {
     "name": "stdout",
     "output_type": "stream",
     "text": [
      "Wall time: 0 ns\n",
      "btc.usd.td\n",
      "eth.usd.td\n"
     ]
    }
   ],
   "source": [
    "## save the result into a 3-d array, i*j*k, i is for different mod, j*k is the signal matrix for one mod\n",
    "%time\n",
    "for product in product_list[0:2]:\n",
    "    print(product)\n",
    "    daily_num = load(HEAD_PATH+\"/daily num/\"+product+\".pkl\")\n",
    "    n_train = sum(daily_num[train_sample])\n",
    "    n_test = sum(daily_num[test_sample])\n",
    "    train_array = np.zeros((n_mod, int(n_train), n_signal+1))\n",
    "    for i in range(n_signal):\n",
    "        train_array[:,:,i] = get_multiple_sample_signal(all_dates, train_sample, product, signal_list[i], period, daily_num, mod)\n",
    "    train_array[:,:,n_signal] = get_multiple_sample_signal(all_dates, train_sample, product, \"ret.\"+str(period), period, daily_num, mod)\n",
    "    save(train_array, SAVE_PATH+\"/train test array/\"+product+\".train.array.pkl\")\n",
    "    \n",
    "# Wall time: 0 ns\n",
    "# btc.usd.td\n",
    "# eth.usd.td\n",
    "\n"
   ]
  },
  {
   "cell_type": "code",
   "execution_count": 146,
   "metadata": {},
   "outputs": [],
   "source": [
    "all_train_array = dict([])\n",
    "for product in product_list[0:2]:\n",
    "    all_train_array[product] = load(SAVE_PATH+\"/train test array/\"+product+\".train.array.pkl\")"
   ]
  },
  {
   "cell_type": "code",
   "execution_count": 148,
   "metadata": {},
   "outputs": [],
   "source": [
    "## get the result of 10 models\n",
    "## save them in to a model_coef dictionary\n",
    "nfold = 10\n",
    "model_coef = dict([])\n",
    "for product in product_list[0:2]:\n",
    "    model_coef[product] = np.zeros(n_signal)\n",
    "for i_mod in range(n_mod):\n",
    "    train_std_mat = dict([])\n",
    "    x_train = np.zeros((0, n_signal))\n",
    "    y_train = np.array([])\n",
    "    for product in product_list[0:2]:\n",
    "        cur_mat = all_train_array[product][i_mod,:,:]\n",
    "        train_std_mat[product] = np.std(cur_mat, axis=0)\n",
    "        x_train = np.vstack((x_train, cur_mat[:,:n_signal]/train_std_mat[product][:n_signal]))\n",
    "        y_train = np.concatenate((y_train, cur_mat[:,n_signal]/train_std_mat[product][n_signal]))\n",
    "    scaler =  StandardScaler(copy=True, with_mean=False, with_std=True)\n",
    "    scaler.fit(x_train)\n",
    "    x_std = np.sqrt(scaler.var_)\n",
    "    x_train_normal = scaler.transform(x_train)\n",
    "    model = LassoCV(n_alphas=100, fit_intercept=False, cv=10, max_iter=10000).fit(x_train_normal, y_train)\n",
    "    fit_coef = model.coef_/x_std\n",
    "    for product in product_list[0:2]:\n",
    "        coef = fit_coef*train_std_mat[product][n_signal]/train_std_mat[product][:n_signal]\n",
    "        model_coef[product] = model_coef[product]+coef/n_mod\n"
   ]
  },
  {
   "cell_type": "code",
   "execution_count": 149,
   "metadata": {},
   "outputs": [],
   "source": [
    "save(model_coef, SAVE_PATH+\"/crypto.ensemble.model.pkl\")"
   ]
  },
  {
   "cell_type": "code",
   "execution_count": 150,
   "metadata": {},
   "outputs": [],
   "source": [
    " model_coef = load(SAVE_PATH+\"/crypto.ensemble.model.pkl\")"
   ]
  },
  {
   "cell_type": "code",
   "execution_count": 151,
   "metadata": {},
   "outputs": [
    {
     "data": {
      "text/plain": [
       "{'btc.usd.td': array([ 3.74414774e-03,  1.69819332e-03,  2.43481261e-03,  1.01906644e-04,\n",
       "        -1.67332801e-01, -3.66836201e-04, -7.85545604e-04,  1.17439080e-04,\n",
       "        -5.89936234e-05, -1.77553599e-04, -3.81283207e-06,  2.34160271e-04,\n",
       "        -6.05164786e-07,  3.60575996e-05,  9.02326218e-05,  2.34516186e-04,\n",
       "         1.00092254e-03, -1.12641384e-05,  3.22550775e-04,  1.29821677e-05,\n",
       "        -2.75322068e-04, -2.46528599e-03,  4.26859391e-03, -1.99139132e-03,\n",
       "        -1.77006769e-04,  6.71646005e-02, -2.16123902e-04,  9.28407894e-04]),\n",
       " 'eth.usd.td': array([ 7.83470383e-03,  3.11290163e-03,  3.48965716e-03,  2.32150080e-04,\n",
       "        -1.09818353e-01, -5.75196901e-04, -1.14105738e-03,  2.53406365e-03,\n",
       "        -1.80914084e-03, -4.23559189e-03, -8.94887205e-05,  1.25815748e-03,\n",
       "        -2.06446756e-05,  8.36919972e-04,  3.07707907e-03,  7.49316669e-03,\n",
       "         2.14149378e-02, -1.35487239e-04,  1.47800213e-03,  2.58776727e-04,\n",
       "        -5.68231541e-03, -5.77475556e-03,  8.45005994e-03, -2.94451422e-03,\n",
       "        -3.55995613e-04,  3.46470317e-02, -3.25974724e-04,  1.43072404e-03])}"
      ]
     },
     "execution_count": 151,
     "metadata": {},
     "output_type": "execute_result"
    }
   ],
   "source": [
    "model_coef\n",
    "\n",
    "# {'btc.usd.td': array([ 3.74414774e-03,  1.69819332e-03,  2.43481261e-03,  1.01906644e-04,\n",
    "#         -1.67332801e-01, -3.66836201e-04, -7.85545604e-04,  1.17439080e-04,\n",
    "#         -5.89936234e-05, -1.77553599e-04, -3.81283207e-06,  2.34160271e-04,\n",
    "#         -6.05164786e-07,  3.60575996e-05,  9.02326218e-05,  2.34516186e-04,\n",
    "#          1.00092254e-03, -1.12641384e-05,  3.22550775e-04,  1.29821677e-05,\n",
    "#         -2.75322068e-04, -2.46528599e-03,  4.26859391e-03, -1.99139132e-03,\n",
    "#         -1.77006769e-04,  6.71646005e-02, -2.16123902e-04,  9.28407894e-04]),\n",
    "#  'eth.usd.td': array([ 7.83470383e-03,  3.11290163e-03,  3.48965716e-03,  2.32150080e-04,\n",
    "#         -1.09818353e-01, -5.75196901e-04, -1.14105738e-03,  2.53406365e-03,\n",
    "#         -1.80914084e-03, -4.23559189e-03, -8.94887205e-05,  1.25815748e-03,\n",
    "#         -2.06446756e-05,  8.36919972e-04,  3.07707907e-03,  7.49316669e-03,\n",
    "#          2.14149378e-02, -1.35487239e-04,  1.47800213e-03,  2.58776727e-04,\n",
    "#         -5.68231541e-03, -5.77475556e-03,  8.45005994e-03, -2.94451422e-03,\n",
    "#         -3.55995613e-04,  3.46470317e-02, -3.25974724e-04,  1.43072404e-03])}"
   ]
  },
  {
   "cell_type": "code",
   "execution_count": 152,
   "metadata": {},
   "outputs": [],
   "source": [
    "strat = \"ensemble.lasso.\"+str(period)\n",
    "for product in product_list[0:2]:\n",
    "    os.makedirs(\"e:/intern\"+\"/tmp pkl/\"+product+\"/\"+strat, exist_ok=True)"
   ]
  },
  {
   "cell_type": "code",
   "execution_count": 153,
   "metadata": {},
   "outputs": [
    {
     "name": "stdout",
     "output_type": "stream",
     "text": [
      "btc.usd.td\n",
      "eth.usd.td\n",
      "Wall time: 6min 28s\n"
     ]
    }
   ],
   "source": [
    "%%time\n",
    "for product in product_list[0:2]:\n",
    "    print(product)\n",
    "    coef = model_coef[product]\n",
    "    parLapply(CORE_NUM, all_dates, par_get_daily_pred, \n",
    "              product=product, coef=coef, strat=strat, HEAD_PATH=\"e:/intern\", SAVE_PATH=\"e:/intern\")\n",
    "\n",
    "# btc.usd.td\n",
    "# eth.usd.td\n",
    "# Wall time: 6min 28s\n",
    "\n",
    "\n"
   ]
  },
  {
   "cell_type": "code",
   "execution_count": 154,
   "metadata": {},
   "outputs": [
    {
     "name": "stdout",
     "output_type": "stream",
     "text": [
      "Wall time: 21.6 s\n"
     ]
    }
   ],
   "source": [
    "%%time\n",
    "for product in product_list[0:2]:\n",
    "    par_get_all_signal(strat, all_dates, product, 4096, SAVE_PATH=\"e:/intern\")\n",
    "\n",
    "## Wall time: 21.6 s\n"
   ]
  },
  {
   "cell_type": "code",
   "execution_count": 156,
   "metadata": {},
   "outputs": [
    {
     "name": "stdout",
     "output_type": "stream",
     "text": [
      "reverse=1\n",
      "reverse=1\n",
      "Wall time: 6min 52s\n"
     ]
    }
   ],
   "source": [
    "%%time\n",
    "for product in product_list[0:2]:\n",
    "    spread = product_info[product][\"spread\"]\n",
    "    tranct = product_info[product][\"tranct\"]\n",
    "    tranct_ratio = product_info[product][\"tranct.ratio\"]\n",
    "    evaluate_signal(\"ensemble.lasso\", all_dates, product, 10, 20, CORE_NUM, HEAD_PATH, \"e:/intern\",\n",
    "                    period=4096, split_str=\"2019-08\", tranct=tranct, \n",
    "                    max_spread=spread*1.1, tranct_ratio=tranct_ratio, atr_filter=20, save_path=\"signal result atr\",reverse=1)\n",
    "    \n",
    "# reverse=1\n",
    "# reverse=1\n",
    "# reverse=1\n",
    "# Wall time: 4min 54s\n",
    "\n"
   ]
  },
  {
   "cell_type": "code",
   "execution_count": 157,
   "metadata": {},
   "outputs": [
    {
     "name": "stdout",
     "output_type": "stream",
     "text": [
      "btc.usd.td train sharpe  1.8383614176674747 test sharpe  1.8968098094114738\n",
      "eth.usd.td train sharpe  1.8821433511956018 test sharpe  3.8362922077446533\n",
      "train sharpe:  2.5173105626475962 test sharpe:  2.4037944765392374\n"
     ]
    },
    {
     "data": {
      "image/png": "[encoded data removed]",
      "text/plain": [
       "<Figure size 1152x720 with 1 Axes>"
      ]
     },
     "metadata": {
      "needs_background": "light"
     },
     "output_type": "display_data"
    }
   ],
   "source": [
    "i = 0\n",
    "strat = \"ensemble.lasso.4096\"\n",
    "test_all_pnl = np.zeros([sum(test_sample), len(product_list[:2])])\n",
    "train_all_pnl = np.zeros([sum(train_sample), len(product_list[:2])])\n",
    "min_pnl = 2\n",
    "min_num = 10\n",
    "for product in product_list[:2]:\n",
    "    spread = product_info[product][\"spread\"]\n",
    "    signal_stat = load(HEAD_PATH+\"/signal result atr/\"+product+\".\"+strat+\".trend.pkl\")\n",
    "    train_stat = signal_stat[\"train.stat\"]\n",
    "    good_strat = (train_stat[\"final.result\"][\"avg.pnl\"]>min_pnl*spread) & (train_stat[\"final.result\"][\"num\"]>min_num)\n",
    "    train_pnl = train_stat[\"daily.ret\"].loc[:, good_strat].sum(axis=1)/sum(good_strat)\n",
    "    test_stat = signal_stat[\"test.stat\"]\n",
    "    test_pnl = test_stat[\"daily.ret\"].loc[:, good_strat].sum(axis=1)/sum(good_strat)\n",
    "    print(product, \"train sharpe \", sharpe(train_pnl), \"test sharpe \", sharpe(test_pnl))\n",
    "    test_all_pnl[:,i] = test_pnl\n",
    "    train_all_pnl[:,i] = train_pnl\n",
    "    i = i+1\n",
    "train_portfolio = np.array(np.mean(train_all_pnl, axis=1))\n",
    "test_portfolio = np.array(np.mean(test_all_pnl, axis=1))\n",
    "all_portfolio = np.append(train_portfolio, test_portfolio)\n",
    "plt.figure(1, figsize=(16, 10));\n",
    "plt.title(\"\");\n",
    "plt.xlabel(\"date\");\n",
    "plt.ylabel(\"pnl\");\n",
    "plt.title(\"portfolio\");\n",
    "plt.plot(format_dates, all_portfolio.cumsum());\n",
    "plt.plot(format_dates[test_sample], all_portfolio.cumsum()[test_sample])\n",
    "print(\"train sharpe: \", sharpe(train_portfolio), \"test sharpe: \", sharpe(test_portfolio))    \n",
    "\n",
    "\n",
    "# btc.usd.td train sharpe  1.8383614176674747 test sharpe  1.8968098094114738\n",
    "# eth.usd.td train sharpe  1.8821433511956018 test sharpe  3.8362922077446533\n",
    "# train sharpe:  2.5173105626475962 test sharpe:  2.4037944765392374\n"
   ]
  },
  {
   "cell_type": "markdown",
   "metadata": {},
   "source": [
    "- it's not as good as thre model in week 9\n",
    "- maybe we can use another way of ensemble\n",
    "- we can generate 10 separate models with each pnl"
   ]
  },
  {
   "cell_type": "code",
   "execution_count": 158,
   "metadata": {},
   "outputs": [],
   "source": [
    "## generate 10 different models, and save their coefficients rather than calcualte their mean\n",
    "nfold = 10\n",
    "model_coef = dict([])\n",
    "for i_mod in range(n_mod):\n",
    "    train_std_mat = dict([])\n",
    "    model_coef[str(i_mod)] = dict([])\n",
    "    x_train = np.zeros((0, n_signal))\n",
    "    y_train = np.array([])\n",
    "    for product in product_list[0:2]:\n",
    "        cur_mat = all_train_array[product][i_mod,:,:]\n",
    "        train_std_mat[product] = np.std(cur_mat, axis=0)\n",
    "        x_train = np.vstack((x_train, cur_mat[:,:n_signal]/train_std_mat[product][:n_signal]))\n",
    "        y_train = np.concatenate((y_train, cur_mat[:,n_signal]/train_std_mat[product][n_signal]))\n",
    "    scaler =  StandardScaler(copy=True, with_mean=False, with_std=True)\n",
    "    scaler.fit(x_train)\n",
    "    x_std = np.sqrt(scaler.var_)\n",
    "    x_train_normal = scaler.transform(x_train)\n",
    "    model = LassoCV(n_alphas=100, fit_intercept=False, cv=10, max_iter=10000).fit(x_train_normal, y_train)\n",
    "    fit_coef = model.coef_/x_std\n",
    "    for product in product_list[:2]:\n",
    "        coef = fit_coef*train_std_mat[product][n_signal]/train_std_mat[product][:n_signal]\n",
    "        model_coef[str(i_mod)][product] = coef\n"
   ]
  },
  {
   "cell_type": "code",
   "execution_count": 160,
   "metadata": {},
   "outputs": [],
   "source": [
    "save(model_coef, SAVE_PATH+\"crypto.ensemble.all.coef.pkl\")"
   ]
  },
  {
   "cell_type": "code",
   "execution_count": 163,
   "metadata": {},
   "outputs": [
    {
     "name": "stdout",
     "output_type": "stream",
     "text": [
      "0\n",
      "reverse=1\n",
      "reverse=1\n",
      "1\n",
      "reverse=1\n",
      "reverse=1\n",
      "2\n",
      "reverse=1\n",
      "reverse=1\n",
      "3\n",
      "reverse=1\n",
      "reverse=1\n",
      "4\n",
      "reverse=1\n",
      "reverse=1\n",
      "5\n",
      "reverse=1\n",
      "reverse=1\n",
      "6\n",
      "reverse=1\n",
      "reverse=1\n",
      "7\n",
      "reverse=1\n",
      "reverse=1\n",
      "8\n",
      "reverse=1\n",
      "reverse=1\n",
      "9\n",
      "reverse=1\n",
      "reverse=1\n"
     ]
    }
   ],
   "source": [
    "for i_mod in range(n_mod):\n",
    "    print(i_mod)\n",
    "    strat = \"crypto.ensemble.lasso.\"+str(i_mod)+\".\"+str(period)\n",
    "    for product in product_list[:2]:\n",
    "        os.makedirs(\"e:/intern\"+\"/tmp pkl/\"+product+\"/\"+strat, exist_ok=True)\n",
    "        coef = model_coef[str(i_mod)][product]\n",
    "        parLapply(CORE_NUM, all_dates, par_get_daily_pred, \n",
    "                  product=product, coef=coef, strat=strat, HEAD_PATH=\"e:/intern\", SAVE_PATH=\"e:/intern\")\n",
    "        par_get_all_signal(strat, all_dates, product, 4096, SAVE_PATH=\"e:/intern\")    \n",
    "        spread = product_info[product][\"spread\"]\n",
    "        tranct = product_info[product][\"tranct\"]\n",
    "        tranct_ratio = product_info[product][\"tranct.ratio\"]\n",
    "        evaluate_signal(\"crypto.ensemble.lasso.\"+str(i_mod), all_dates, product, 2, 20, CORE_NUM, HEAD_PATH, \"e:/intern\",\n",
    "                        period=4096, split_str=\"2019-08\", tranct=tranct, \n",
    "                        max_spread=spread*1.1, tranct_ratio=tranct_ratio, atr_filter=20, save_path=\"signal result atr\",reverse=1)"
   ]
  },
  {
   "cell_type": "code",
   "execution_count": 167,
   "metadata": {},
   "outputs": [
    {
     "name": "stdout",
     "output_type": "stream",
     "text": [
      "btc.usd.td train sharpe  0.29815872719534453 test sharpe  1.8369472285793835\n",
      "eth.usd.td train sharpe  1.5211070201592938 test sharpe  3.214419785029105\n",
      "btc.usd.td train sharpe  0.017975717854446707 test sharpe  1.109568075269757\n",
      "eth.usd.td train sharpe  2.432378123557134 test sharpe  -1.0448736293821752\n",
      "btc.usd.td train sharpe  1.2803049916506226 test sharpe  1.5700176519831603\n",
      "eth.usd.td train sharpe  1.849391798668616 test sharpe  -1.2360548674706675\n",
      "btc.usd.td train sharpe  2.661879008404384 test sharpe  2.247949982267112\n",
      "eth.usd.td train sharpe  2.365986169404505 test sharpe  1.824721833087263\n",
      "btc.usd.td train sharpe  1.4228989041907145 test sharpe  2.326308487573868\n",
      "eth.usd.td train sharpe  2.6729734304898067 test sharpe  2.1500531095074416\n",
      "btc.usd.td train sharpe  1.7932635787575664 test sharpe  0.8400705053313451\n",
      "eth.usd.td train sharpe  1.8356882579152087 test sharpe  1.8274150687907635\n",
      "btc.usd.td train sharpe  0.6022899126243701 test sharpe  -1.7145465257573398\n",
      "eth.usd.td train sharpe  1.943422296415979 test sharpe  1.4080066459053164\n",
      "btc.usd.td train sharpe  0.9925388160849723 test sharpe  1.4760224541395557\n",
      "eth.usd.td train sharpe  1.3024647203899233 test sharpe  0.2313165618832107\n",
      "btc.usd.td train sharpe  0.4974995672851375 test sharpe  1.1020689712722247\n",
      "eth.usd.td train sharpe  2.043747647496588 test sharpe  -0.9475693068586567\n",
      "btc.usd.td train sharpe  1.3126794753610997 test sharpe  1.8846747808196154\n",
      "eth.usd.td train sharpe  1.8452072442486034 test sharpe  0.7553837692117019\n"
     ]
    }
   ],
   "source": [
    "min_pnl = 5\n",
    "min_num = 10\n",
    "all_portfolio = np.zeros((sum(test_sample)+sum(train_sample),n_mod))\n",
    "for i_mod in range(n_mod):\n",
    "    strat = \"crypto.ensemble.lasso.\"+str(i_mod)+\".\"+str(period)\n",
    "    i = 0\n",
    "    test_all_pnl = np.zeros([sum(test_sample), len(product_list)])\n",
    "    train_all_pnl = np.zeros([sum(train_sample), len(product_list)])\n",
    "    for product in product_list[0:2]:\n",
    "        spread = product_info[product][\"spread\"]\n",
    "        signal_stat = load(HEAD_PATH+\"/signal result atr/\"+product+\".\"+strat+\".trend.pkl\")\n",
    "        train_stat = signal_stat[\"train.stat\"]\n",
    "        good_strat = (train_stat[\"final.result\"][\"avg.pnl\"]>min_pnl*spread) & (train_stat[\"final.result\"][\"num\"]>min_num)\n",
    "        train_pnl = train_stat[\"daily.ret\"].loc[:, good_strat].sum(axis=1)/sum(good_strat)\n",
    "        test_stat = signal_stat[\"test.stat\"]\n",
    "        test_pnl = test_stat[\"daily.ret\"].loc[:, good_strat].sum(axis=1)/sum(good_strat)\n",
    "        print(product, \"train sharpe \", sharpe(train_pnl), \"test sharpe \", sharpe(test_pnl))\n",
    "        if sum(good_strat)==0:\n",
    "            test_pnl = np.zeros(sum(test_sample))\n",
    "            train_pnl = np.zeros(sum(train_sample))\n",
    "        test_all_pnl[:,i] = test_pnl\n",
    "        train_all_pnl[:,i] = train_pnl\n",
    "        i = i+1\n",
    "    train_portfolio = np.array(np.mean(train_all_pnl, axis=1))\n",
    "    test_portfolio = np.array(np.mean(test_all_pnl, axis=1))\n",
    "    all_portfolio[:,i_mod] = np.append(train_portfolio, test_portfolio)\n",
    "\n",
    "# btc.usd.td train sharpe  0.29815872719534453 test sharpe  1.8369472285793835\n",
    "# eth.usd.td train sharpe  1.5211070201592938 test sharpe  3.214419785029105\n",
    "# btc.usd.td train sharpe  0.017975717854446707 test sharpe  1.109568075269757\n",
    "# eth.usd.td train sharpe  2.432378123557134 test sharpe  -1.0448736293821752\n",
    "# btc.usd.td train sharpe  1.2803049916506226 test sharpe  1.5700176519831603\n",
    "# eth.usd.td train sharpe  1.849391798668616 test sharpe  -1.2360548674706675\n",
    "# btc.usd.td train sharpe  2.661879008404384 test sharpe  2.247949982267112\n",
    "# eth.usd.td train sharpe  2.365986169404505 test sharpe  1.824721833087263\n",
    "# btc.usd.td train sharpe  1.4228989041907145 test sharpe  2.326308487573868\n",
    "# eth.usd.td train sharpe  2.6729734304898067 test sharpe  2.1500531095074416\n",
    "# btc.usd.td train sharpe  1.7932635787575664 test sharpe  0.8400705053313451\n",
    "# eth.usd.td train sharpe  1.8356882579152087 test sharpe  1.8274150687907635\n",
    "# btc.usd.td train sharpe  0.6022899126243701 test sharpe  -1.7145465257573398\n",
    "# eth.usd.td train sharpe  1.943422296415979 test sharpe  1.4080066459053164\n",
    "# btc.usd.td train sharpe  0.9925388160849723 test sharpe  1.4760224541395557\n",
    "# eth.usd.td train sharpe  1.3024647203899233 test sharpe  0.2313165618832107\n",
    "# btc.usd.td train sharpe  0.4974995672851375 test sharpe  1.1020689712722247\n",
    "# eth.usd.td train sharpe  2.043747647496588 test sharpe  -0.9475693068586567\n",
    "# btc.usd.td train sharpe  1.3126794753610997 test sharpe  1.8846747808196154\n",
    "# eth.usd.td train sharpe  1.8452072442486034 test sharpe  0.7553837692117019"
   ]
  },
  {
   "cell_type": "code",
   "execution_count": 168,
   "metadata": {
    "scrolled": false
   },
   "outputs": [
    {
     "name": "stdout",
     "output_type": "stream",
     "text": [
      "train sharpe:  2.770342247393941 test sharpe:  1.8485429120130399\n"
     ]
    },
    {
     "data": {
      "image/png": "[encoded data removed]",
      "text/plain": [
       "<Figure size 1152x720 with 1 Axes>"
      ]
     },
     "metadata": {
      "needs_background": "light"
     },
     "output_type": "display_data"
    }
   ],
   "source": [
    "portfolio = np.mean(all_portfolio, axis=1)\n",
    "train_portfolio = portfolio[train_sample]\n",
    "test_portfolio = portfolio[test_sample]\n",
    "plt.figure(1, figsize=(16, 10));\n",
    "plt.title(\"\");\n",
    "plt.xlabel(\"date\")\n",
    "plt.ylabel(\"pnl\");\n",
    "plt.title(\"portfolio\");\n",
    "plt.plot(format_dates, portfolio.cumsum());\n",
    "plt.plot(format_dates[test_sample], portfolio.cumsum()[test_sample])\n",
    "print(\"train sharpe: \", sharpe(train_portfolio), \"test sharpe: \", sharpe(test_portfolio))   \n",
    "\n",
    "# train sharpe:  2.770342247393941 test sharpe:  1.8485429120130399\n"
   ]
  },
  {
   "cell_type": "markdown",
   "metadata": {},
   "source": [
    "- we can see that the rolling ensemble model much better than train/test\n",
    "\n",
    "\n",
    "- now we go for the next part: the intraday medium frequency trading\n",
    "\n",
    "    \n",
    "- at this time, we do not need to close position every day\n",
    "- and we cannot use parallel computing for daily pnl because one day's pnl depends on previous position\n",
    "- but we can still use parallel for each contract because they are independent\n",
    "\n",
    "\n",
    "- now let's first find the days of each contract"
   ]
  },
  {
   "cell_type": "markdown",
   "metadata": {},
   "source": [
    "- we know that lasso.4096 is trained using data before 2018\n",
    "- however our contract is not splited in this way\n",
    "- so we may need to comply to the data of this format"
   ]
  },
  {
   "cell_type": "code",
   "execution_count": 172,
   "metadata": {},
   "outputs": [],
   "source": [
    "train_sample_list = dict([])\n",
    "test_sample_list = dict([])\n",
    "split_date = \"2019-08\"\n",
    "for product in product_list[0:2]:\n",
    "    medium_train_sample = (all_dates<split_date)\n",
    "    medium_test_sample = (all_dates>=split_date)\n",
    "    train_sample_list[product] = medium_train_sample\n",
    "    test_sample_list[product] = medium_test_sample"
   ]
  },
  {
   "cell_type": "code",
   "execution_count": 176,
   "metadata": {},
   "outputs": [],
   "source": [
    "daily_ticks = dict([])\n",
    "all_mat = dict([])\n",
    "for product in product_list[0:2]:\n",
    "    daily_num = load(HEAD_PATH+\"/daily num/\"+product+\".pkl\")\n",
    "    daily_ticks[product] = daily_num\n",
    "    test_mat = load(HEAD_PATH+\"/train test mat/\"+product+\".test.mat.pkl\")\n",
    "    train_mat = load(HEAD_PATH+\"/train test mat/\"+product+\".train.mat.pkl\")\n",
    "    all_mat[product] = pd.concat((train_mat, test_mat))"
   ]
  },
  {
   "cell_type": "code",
   "execution_count": 177,
   "metadata": {},
   "outputs": [],
   "source": [
    "y_signal = \"ret.\"+str(period)"
   ]
  },
  {
   "cell_type": "code",
   "execution_count": 178,
   "metadata": {},
   "outputs": [],
   "source": [
    "train_std = dict([])\n",
    "all_x_train = dict([])\n",
    "all_y_train = dict([])\n",
    "n_sample = 0\n",
    "for product in product_list[0:2]:\n",
    "    medium_train_sample = train_sample_list[product]\n",
    "    medium_test_sample = test_sample_list[product]\n",
    "    medium_train_range = range(round(sum((daily_ticks[product][medium_train_sample]))))\n",
    "    medium_test_range = np.arange(sum(daily_ticks[product][medium_train_sample])+1,sum(daily_ticks[product]))\n",
    "    medium_train_mat = all_mat[product].iloc[medium_train_range,:]\n",
    "    medium_test_mat = all_mat[product].iloc[medium_test_range,:]\n",
    "    x_train = medium_train_mat.iloc[:,:n_signal]\n",
    "    y_train = medium_train_mat[y_signal]\n",
    "    train_std[product] = np.std(medium_train_mat)\n",
    "    all_x_train[product] = x_train\n",
    "    all_y_train[product] = y_train\n",
    "    n_sample = n_sample+len(y_train)"
   ]
  },
  {
   "cell_type": "code",
   "execution_count": 179,
   "metadata": {},
   "outputs": [],
   "source": [
    "x_train = np.zeros((n_sample, n_signal))\n",
    "y_train = np.zeros(n_sample)\n",
    "cur = 0\n",
    "for product in product_list[0:2]:\n",
    "    x_train[cur:(cur+len(all_y_train[product])),] = all_x_train[product]/train_std[product][:n_signal]\n",
    "    y_train[cur:(cur+len(all_y_train[product]))] = all_y_train[product]/train_std[product][y_signal]\n",
    "    cur = cur+len(all_y_train[product])"
   ]
  },
  {
   "cell_type": "code",
   "execution_count": 180,
   "metadata": {},
   "outputs": [
    {
     "data": {
      "text/plain": [
       "array([ 2.75673132e-02,  1.01490338e-02,  4.02186908e-02,  0.00000000e+00,\n",
       "       -1.06198796e-01,  0.00000000e+00, -0.00000000e+00,  6.32759753e-02,\n",
       "       -1.13452943e-02, -0.00000000e+00,  0.00000000e+00,  1.04276528e-01,\n",
       "        5.27877194e-03, -6.58194951e-02,  2.11680803e-02,  2.10823793e-04,\n",
       "        1.97722801e-01,  0.00000000e+00, -0.00000000e+00,  0.00000000e+00,\n",
       "       -2.27471665e-01, -8.32475270e-03, -0.00000000e+00, -3.05044683e-02,\n",
       "       -0.00000000e+00,  3.37073822e-02, -7.33634972e-04, -2.01160142e-02])"
      ]
     },
     "execution_count": 180,
     "metadata": {},
     "output_type": "execute_result"
    }
   ],
   "source": [
    "model = LassoCV(n_alphas=100, fit_intercept=False, cv=10, max_iter=10000).fit(x_train, y_train)\n",
    "#model = RidgeCV(fit_intercept=False, cv=5).fit(x_train, y_train)\n",
    "fit_coef = model.coef_\n",
    "fit_coef\n",
    "\n",
    "# array([ 2.75673132e-02,  1.01490338e-02,  4.02186908e-02,  0.00000000e+00,\n",
    "#        -1.06198796e-01,  0.00000000e+00, -0.00000000e+00,  6.32759753e-02,\n",
    "#        -1.13452943e-02, -0.00000000e+00,  0.00000000e+00,  1.04276528e-01,\n",
    "#         5.27877194e-03, -6.58194951e-02,  2.11680803e-02,  2.10823793e-04,\n",
    "#         1.97722801e-01,  0.00000000e+00, -0.00000000e+00,  0.00000000e+00,\n",
    "#        -2.27471665e-01, -8.32475270e-03, -0.00000000e+00, -3.05044683e-02,\n",
    "#        -0.00000000e+00,  3.37073822e-02, -7.33634972e-04, -2.01160142e-02])"
   ]
  },
  {
   "cell_type": "code",
   "execution_count": 181,
   "metadata": {},
   "outputs": [
    {
     "name": "stdout",
     "output_type": "stream",
     "text": [
      "btc.usd.td\n",
      "nr.4096                       1.986372e-03\n",
      "dbook.4096                    3.152683e-03\n",
      "range.pos.4096                2.217752e-03\n",
      "ma.dif.10.4096               -1.540382e-01\n",
      "nr.range.4096                 9.327746e-05\n",
      "dbook.range.4096             -4.800671e-05\n",
      "ma.dif.10.range.4096          5.012796e-04\n",
      "kdj.k.range.4096              9.604418e-07\n",
      "kdj.j.range.4096             -1.386668e-05\n",
      "nr.std.4096                   1.132143e-04\n",
      "dbook.std.4096                2.923634e-06\n",
      "range.pos.std.4096            4.619900e-04\n",
      "kdj.j.std.4096               -1.619900e-04\n",
      "nr.trend.index.4096          -7.938496e-04\n",
      "range.pos.trend.index.4096   -2.773290e-03\n",
      "ma.dif.10.trend.index.4096    7.734205e-02\n",
      "kdj.k.trend.index.4096       -1.574721e-05\n",
      "kdj.j.trend.index.4096       -5.415509e-04\n",
      "dtype: float64\n",
      "eth.usd.td\n",
      "nr.4096                       0.004126\n",
      "dbook.4096                    0.005987\n",
      "range.pos.4096                0.003311\n",
      "ma.dif.10.4096               -0.098646\n",
      "nr.range.4096                 0.002348\n",
      "dbook.range.4096             -0.001438\n",
      "ma.dif.10.range.4096          0.002594\n",
      "kdj.k.range.4096              0.000020\n",
      "kdj.j.range.4096             -0.000311\n",
      "nr.std.4096                   0.002489\n",
      "dbook.std.4096                0.000080\n",
      "range.pos.std.4096            0.009103\n",
      "kdj.j.std.4096               -0.003122\n",
      "nr.trend.index.4096          -0.001805\n",
      "range.pos.trend.index.4096   -0.004358\n",
      "ma.dif.10.trend.index.4096    0.041039\n",
      "kdj.k.trend.index.4096       -0.000026\n",
      "kdj.j.trend.index.4096       -0.000881\n",
      "dtype: float64\n"
     ]
    }
   ],
   "source": [
    "coef_list=dict([])\n",
    "for product in product_list[:2]:\n",
    "    coef = fit_coef*train_std[product][y_signal]/train_std[product][:n_signal]\n",
    "    coef_list[product] = coef\n",
    "    print(product)\n",
    "    print(coef[coef!=0])\n",
    "\n",
    "# btc.usd.td\n",
    "# nr.4096                       1.986372e-03\n",
    "# dbook.4096                    3.152683e-03\n",
    "# range.pos.4096                2.217752e-03\n",
    "# ma.dif.10.4096               -1.540382e-01\n",
    "# nr.range.4096                 9.327746e-05\n",
    "# dbook.range.4096             -4.800671e-05\n",
    "# ma.dif.10.range.4096          5.012796e-04\n",
    "# kdj.k.range.4096              9.604418e-07\n",
    "# kdj.j.range.4096             -1.386668e-05\n",
    "# nr.std.4096                   1.132143e-04\n",
    "# dbook.std.4096                2.923634e-06\n",
    "# range.pos.std.4096            4.619900e-04\n",
    "# kdj.j.std.4096               -1.619900e-04\n",
    "# nr.trend.index.4096          -7.938496e-04\n",
    "# range.pos.trend.index.4096   -2.773290e-03\n",
    "# ma.dif.10.trend.index.4096    7.734205e-02\n",
    "# kdj.k.trend.index.4096       -1.574721e-05\n",
    "# kdj.j.trend.index.4096       -5.415509e-04\n",
    "# dtype: float64\n",
    "# eth.usd.td\n",
    "# nr.4096                       0.004126\n",
    "# dbook.4096                    0.005987\n",
    "# range.pos.4096                0.003311\n",
    "# ma.dif.10.4096               -0.098646\n",
    "# nr.range.4096                 0.002348\n",
    "# dbook.range.4096             -0.001438\n",
    "# ma.dif.10.range.4096          0.002594\n",
    "# kdj.k.range.4096              0.000020\n",
    "# kdj.j.range.4096             -0.000311\n",
    "# nr.std.4096                   0.002489\n",
    "# dbook.std.4096                0.000080\n",
    "# range.pos.std.4096            0.009103\n",
    "# kdj.j.std.4096               -0.003122\n",
    "# nr.trend.index.4096          -0.001805\n",
    "# range.pos.trend.index.4096   -0.004358\n",
    "# ma.dif.10.trend.index.4096    0.041039\n",
    "# kdj.k.trend.index.4096       -0.000026\n",
    "# kdj.j.trend.index.4096       -0.000881\n",
    "# dtype: float64"
   ]
  },
  {
   "cell_type": "markdown",
   "metadata": {},
   "source": [
    "- here we use ridge because lasso is not good"
   ]
  },
  {
   "cell_type": "code",
   "execution_count": 182,
   "metadata": {},
   "outputs": [],
   "source": [
    "strat = \"crypto.lasso.medium.\"+str(period)\n",
    "#strat = \"ridge.medium.\"+str(period)\n",
    "SAVE_PATH = \"e:/intern\""
   ]
  },
  {
   "cell_type": "code",
   "execution_count": 183,
   "metadata": {},
   "outputs": [],
   "source": [
    "for product in product_list[0:2]:\n",
    "    os.makedirs(SAVE_PATH+\"/tmp pkl/\"+product+\"/\"+strat, exist_ok=True)"
   ]
  },
  {
   "cell_type": "code",
   "execution_count": 184,
   "metadata": {},
   "outputs": [
    {
     "name": "stdout",
     "output_type": "stream",
     "text": [
      "btc.usd.td\n",
      "eth.usd.td\n",
      "Wall time: 54.3 s\n"
     ]
    }
   ],
   "source": [
    "%%time\n",
    "for product in product_list[0:2]:\n",
    "    print(product)\n",
    "    coef = coef_list[product]\n",
    "    parLapply(CORE_NUM, all_dates, par_get_daily_pred, \n",
    "              product=product, coef=coef, strat=strat, HEAD_PATH=\"e:/intern\", SAVE_PATH=SAVE_PATH)\n",
    "\n",
    "# btc.usd.td\n",
    "# eth.usd.td\n",
    "# Wall time: 54.3 s\n",
    "\n"
   ]
  },
  {
   "cell_type": "code",
   "execution_count": 185,
   "metadata": {},
   "outputs": [
    {
     "name": "stdout",
     "output_type": "stream",
     "text": [
      "Wall time: 18.7 s\n"
     ]
    }
   ],
   "source": [
    "%%time\n",
    "for product in product_list[0:2]:\n",
    "    par_get_all_signal(strat, all_dates, product, 4096, SAVE_PATH=\"e:/intern\")\n",
    "\n",
    "#Wall time: 18.7 s"
   ]
  },
  {
   "cell_type": "code",
   "execution_count": 186,
   "metadata": {},
   "outputs": [],
   "source": [
    "close_thre_list = dict([])\n",
    "for product in product_list[0:2]:\n",
    "    all_signal = load(SAVE_PATH+\"/all signal/\"+product+\".\"+strat+\".pkl\")\n",
    "    open_thre = np.quantile(abs(all_signal), np.concatenate((np.arange(0.991, 0.999, 0.001),\n",
    "                                                         np.arange(0.9991,0.9999,0.0001)),axis=0))\n",
    "    thre_mat = pd.DataFrame(data=OrderedDict([(\"open\", open_thre), (\"close\", -open_thre)]))\n",
    "    from collections import OrderedDict\n",
    "    import itertools\n",
    "    open_list=open_thre\n",
    "    thre_list = []\n",
    "    for cartesian in itertools.product(open_list, np.array([0.2, 0.4, 0.6, 0.8, 1.0])):\n",
    "        thre_list.append((cartesian[0], -cartesian[0] * cartesian[1]))\n",
    "    thre_list = np.array(thre_list)\n",
    "    close_thre_mat = pd.DataFrame(data=OrderedDict([(\"open\", thre_list[:, 0]), (\"close\", thre_list[:, 1])]))\n",
    "    close_thre_list[product] = close_thre_mat\n"
   ]
  },
  {
   "cell_type": "code",
   "execution_count": 111,
   "metadata": {},
   "outputs": [],
   "source": [
    "contract_vec = dict([])\n",
    "contract_start = dict([])\n",
    "for product in product_list[0:3]:\n",
    "    contract_vec[product] = np.array(product_cum[product].index)\n",
    "    contract_start[product] = np.hstack((0, product_cum[product].values))\n"
   ]
  },
  {
   "cell_type": "code",
   "execution_count": 198,
   "metadata": {},
   "outputs": [],
   "source": [
    "## backtest strategy within a contract\n",
    "## need not to close position at the end of day\n",
    "## need to get the position at the end of day and calculate the overnight holding pnl\n",
    "def get_signal_pnl_contract(good_night_files,setName,product, signal_name, thre_mat, \n",
    "                                    slippage=1, fee=0.1, reverse=1, HEAD_PATH=\"d:/intern\", SAVE_PATH=\"e:/intern\"):\n",
    "    file_list = good_night_files\n",
    "    n_thre = len(thre_mat)\n",
    "    result = pd.DataFrame(data=OrderedDict([(\"open\", thre_mat[\"open\"].values), (\"close\", thre_mat[\"close\"].values),\n",
    "                               (\"num\", 0), (\"avg.pnl\", 0), (\"pnl\", 0), (\"avg.ret\", 0), (\"ret\", 0)]), \n",
    "                          index=thre_mat.index)\n",
    "    ## load product info\n",
    "    tranct = product_info[product][\"tranct\"]*(1+fee)\n",
    "    close = product_info[product][\"close\"]*(1+fee)\n",
    "    min_spread = product_info[product][\"spread\"]+0.1\n",
    "    spread = product_info[product][\"spread\"]\n",
    "    tranct_ratio = product_info[product][\"tranct.ratio\"]\n",
    "    \n",
    "    yesterday_pos = np.repeat(0, n_thre)\n",
    "    yesterday_notional = np.repeat(0., n_thre)\n",
    "    yesterday_price = 0.\n",
    "    n_day = len(file_list)\n",
    "    daily_pnl = np.zeros((n_day, n_thre))\n",
    "    daily_ret = np.zeros((n_day, n_thre))\n",
    "    for i_day in range(n_day):\n",
    "        file = file_list[i_day]\n",
    "        data = load(HEAD_PATH+\"/pkl tick/\"+product+\"/\"+file)\n",
    "        S = load(SAVE_PATH+\"/tmp pkl/\"+product+\"/\"+signal_name+\"/\"+file)\n",
    "        S = S[data[\"good\"]]\n",
    "        data = data[data[\"good\"]].reset_index(drop=True)\n",
    "        n_bar = len(data)\n",
    "        ## load signal\n",
    "        ## we don't know the signal is positive correlated or negative correlated  \n",
    "        pred = S*reverse\n",
    "        \n",
    "        bid_ask_spread = data[\"ask\"]-data[\"bid\"]\n",
    "        data[\"price\"] = (data[\"ask\"]+data[\"bid\"])/2\n",
    "        next_spread = bid_ask_spread.shift(-1)\n",
    "        next_spread.iloc[-1] = bid_ask_spread.iloc[-1]\n",
    "        #not_trade = (data[\"time\"]==\"10:15:00\") | (data[\"time\"]==\"11:30:00\") | (data[\"time\"]==\"15:00:00\") | (bid_ask_spread>min_spread) | (next_spread>min_spread)\n",
    "        not_trade = ((bid_ask_spread>min_spread) | (next_spread>min_spread))\n",
    "            \n",
    "        next_ask = data[\"next.ask\"].values\n",
    "        next_bid = data[\"next.bid\"].values\n",
    "          \n",
    "        i_thre = 0 \n",
    "        for thre in thre_mat.values:\n",
    "            buy = pred>thre[0]\n",
    "            sell = pred<-thre[0]\n",
    "            signal = pd.Series(data=0, index=data.index)\n",
    "            #position = signal.copy()\n",
    "            signal[buy] = 1\n",
    "            signal[sell] = -1\n",
    "            signal[not_trade] = 0\n",
    "            scratch = -thre[1]\n",
    "            position_pos = pd.Series(data=np.nan, index=data.index)\n",
    "            position_pos[(signal==1) & (next_ask>0) & (next_bid>0)] = 1\n",
    "            position_pos[(pred< -scratch) & (next_bid>0)] = 0\n",
    "            position_pos.iloc[0] = max((0, yesterday_pos[i_thre]))\n",
    "            position_pos.ffill(inplace=True)\n",
    "            pre_pos = position_pos.shift(1)\n",
    "            notional_position_pos = pd.Series(data=np.nan, index=data.index)\n",
    "            notional_position_pos[position_pos==1] = 1\n",
    "            notional_position_pos[0] = np.nan\n",
    "            notional_position_pos[(position_pos==1) & (pre_pos==1)] = np.nan\n",
    "            notional_position_pos[(notional_position_pos==1)] = 1/data[\"next.ask\"][(notional_position_pos==1)]\n",
    "            notional_position_pos[(pred< -scratch) & (next_bid>0)] = 0\n",
    "            notional_position_pos.iloc[0] = max((0, yesterday_notional[i_thre]))\n",
    "            notional_position_pos.ffill(inplace=True)\n",
    "            position_neg = pd.Series(data=np.nan, index=data.index)\n",
    "            position_neg[(signal==-1) & (next_ask>0) & (next_bid>0)] = -1\n",
    "            position_neg[(pred> scratch) & (next_ask>0)] = 0\n",
    "            position_neg.iloc[0] = min((yesterday_pos[i_thre], 0))\n",
    "            position_neg.ffill(inplace=True)\n",
    "            pre_neg = position_neg.shift(1)\n",
    "            notional_position_neg = pd.Series(data=np.nan, index=data.index)\n",
    "            notional_position_neg[position_neg==-1] = -1\n",
    "            notional_position_neg[0] = np.nan\n",
    "            notional_position_neg[(position_neg==-1) & (pre_neg==-1)] = np.nan\n",
    "            notional_position_neg[(notional_position_neg==-1)] = -1/data[\"next.bid\"][(notional_position_neg==-1)]\n",
    "            notional_position_neg[(pred> scratch) & (next_ask>0)] = 0\n",
    "            notional_position_neg.iloc[0] = min((yesterday_notional[i_thre], 0))\n",
    "            notional_position_neg.ffill(inplace=True)\n",
    "            position = position_pos + position_neg\n",
    "            notional_position = notional_position_pos+notional_position_neg\n",
    "            position.loc[0] = yesterday_pos[i_thre]\n",
    "            notional_position[0] = yesterday_notional[i_thre]\n",
    "            if file == file_list[-1]:\n",
    "                position.iloc[-10:] = 0\n",
    "                notional_position.iloc[-10:] = 0\n",
    "            else:\n",
    "                position.iloc[-10:] = position.iloc[-10]\n",
    "                notional_position.iloc[-10:] = notional_position.iloc[-10]\n",
    "            initial_pnl = yesterday_pos[i_thre]*yesterday_price\n",
    "            initial_notional_pnl = yesterday_notional[i_thre]*yesterday_price\n",
    "            change_pos = position - position.shift(1)\n",
    "            change_pos.iloc[0] = 0\n",
    "            notional_change_pos = notional_position-notional_position.shift(1)\n",
    "            notional_change_pos.iloc[0] = 0\n",
    "            pre_pos = position.shift(1)\n",
    "            pre_pos.iloc[0] = position.iloc[0]\n",
    "            change_base = pd.Series(data=0, index=data.index)\n",
    "            change_buy = change_pos>0\n",
    "            change_sell = change_pos<0\n",
    "            if (tranct_ratio):\n",
    "                change_base[change_buy] = (data[\"next.ask\"][change_buy]+spread*slippage)*(1+tranct)\n",
    "                change_base[change_sell] = (data[\"next.bid\"][change_sell]-spread*slippage)*(1-tranct)\n",
    "            else:\n",
    "                change_base[change_buy] = data[\"next.ask\"][change_buy]+tranct+spread*slippage\n",
    "                change_base[change_sell] = data[\"next.bid\"][change_sell]-tranct-spread*slippage\n",
    "            notional_change_base = pd.Series(data=0, index=data.index)\n",
    "            notional_change_buy = notional_change_pos>0\n",
    "            notional_change_sell = notional_change_pos<0\n",
    "            if (tranct_ratio):\n",
    "                notional_change_base[notional_change_buy] = (data[\"next.ask\"][notional_change_buy]+spread*slippage)*(1+tranct)\n",
    "                notional_change_base[notional_change_sell] = (data[\"next.bid\"][notional_change_sell]-spread*slippage)*(1-tranct)\n",
    "            else:\n",
    "                notional_change_base[notional_change_buy] = data[\"next.ask\"][notional_change_buy]+tranct+spread*slippage\n",
    "                notional_change_base[notional_change_sell] = data[\"next.bid\"][notional_change_sell]-tranct-spread*slippage\n",
    "\n",
    "            yesterday_pos[i_thre] = position.iloc[-1]\n",
    "            yesterday_notional[i_thre] = notional_position.iloc[-1]\n",
    "            final_pnl = -sum(change_base*change_pos)+data[\"price\"].iloc[-1]*yesterday_pos[i_thre]-initial_pnl\n",
    "            daily_pnl[i_day, i_thre] = final_pnl\n",
    "            ## add the overnight pnl\n",
    "            ret = -sum(notional_change_base*notional_change_pos)+data[\"price\"].iloc[-1]*yesterday_notional[i_thre]-initial_notional_pnl\n",
    "            daily_ret[i_day, i_thre] = ret\n",
    "            num = sum((position!=0) & (change_pos!=0))\n",
    "            result.loc[i_thre, (\"num\")] = result.loc[i_thre, (\"num\")]+num\n",
    "            result.loc[i_thre, (\"pnl\")] = result.loc[i_thre, (\"pnl\")]+final_pnl\n",
    "            result.loc[i_thre, (\"ret\")] = result.loc[i_thre, (\"ret\")]+ret\n",
    "            if result.loc[i_thre, (\"num\")] == 0:\n",
    "                result.loc[i_thre, (\"avg.pnl\")] = 0\n",
    "                result.loc[i_thre, (\"avg.ret\")] = 0\n",
    "            else:\n",
    "                result.loc[i_thre, (\"avg.pnl\")] = np.divide(result.loc[i_thre, (\"pnl\")], result.loc[i_thre, (\"num\")])\n",
    "                result.loc[i_thre, (\"avg.ret\")] = np.divide(result.loc[i_thre, (\"ret\")], result.loc[i_thre, (\"num\")])\n",
    "            i_thre = i_thre + 1\n",
    "        yesterday_price = data[\"price\"].iloc[-1]\n",
    "    os.makedirs(SAVE_PATH+\"/medium strat/\"+product+\"/\"+signal_name, exist_ok=True)\n",
    "    save((result, daily_pnl, daily_ret), SAVE_PATH+\"/medium strat/\"+product+\"/\"+signal_name+\"/\"+setName+\".pkl\")"
   ]
  },
  {
   "cell_type": "code",
   "execution_count": 201,
   "metadata": {},
   "outputs": [
    {
     "name": "stdout",
     "output_type": "stream",
     "text": [
      "btc.usd.td\n"
     ]
    },
    {
     "name": "stderr",
     "output_type": "stream",
     "text": [
      "d:\\Anaconda3\\lib\\site-packages\\ipykernel_launcher.py:56: RuntimeWarning: invalid value encountered in greater\n",
      "d:\\Anaconda3\\lib\\site-packages\\ipykernel_launcher.py:57: RuntimeWarning: invalid value encountered in greater\n",
      "d:\\Anaconda3\\lib\\site-packages\\ipykernel_launcher.py:66: RuntimeWarning: invalid value encountered in greater\n",
      "d:\\Anaconda3\\lib\\site-packages\\ipykernel_launcher.py:70: RuntimeWarning: invalid value encountered in greater\n",
      "d:\\Anaconda3\\lib\\site-packages\\ipykernel_launcher.py:56: RuntimeWarning: invalid value encountered in greater\n",
      "d:\\Anaconda3\\lib\\site-packages\\ipykernel_launcher.py:57: RuntimeWarning: invalid value encountered in greater\n",
      "d:\\Anaconda3\\lib\\site-packages\\ipykernel_launcher.py:66: RuntimeWarning: invalid value encountered in greater\n",
      "d:\\Anaconda3\\lib\\site-packages\\ipykernel_launcher.py:70: RuntimeWarning: invalid value encountered in greater\n",
      "d:\\Anaconda3\\lib\\site-packages\\ipykernel_launcher.py:56: RuntimeWarning: invalid value encountered in greater\n",
      "d:\\Anaconda3\\lib\\site-packages\\ipykernel_launcher.py:57: RuntimeWarning: invalid value encountered in greater\n",
      "d:\\Anaconda3\\lib\\site-packages\\ipykernel_launcher.py:66: RuntimeWarning: invalid value encountered in greater\n",
      "d:\\Anaconda3\\lib\\site-packages\\ipykernel_launcher.py:70: RuntimeWarning: invalid value encountered in greater\n",
      "d:\\Anaconda3\\lib\\site-packages\\ipykernel_launcher.py:56: RuntimeWarning: invalid value encountered in greater\n",
      "d:\\Anaconda3\\lib\\site-packages\\ipykernel_launcher.py:57: RuntimeWarning: invalid value encountered in greater\n",
      "d:\\Anaconda3\\lib\\site-packages\\ipykernel_launcher.py:66: RuntimeWarning: invalid value encountered in greater\n",
      "d:\\Anaconda3\\lib\\site-packages\\ipykernel_launcher.py:70: RuntimeWarning: invalid value encountered in greater\n",
      "d:\\Anaconda3\\lib\\site-packages\\ipykernel_launcher.py:56: RuntimeWarning: invalid value encountered in greater\n",
      "d:\\Anaconda3\\lib\\site-packages\\ipykernel_launcher.py:57: RuntimeWarning: invalid value encountered in greater\n",
      "d:\\Anaconda3\\lib\\site-packages\\ipykernel_launcher.py:66: RuntimeWarning: invalid value encountered in greater\n",
      "d:\\Anaconda3\\lib\\site-packages\\ipykernel_launcher.py:70: RuntimeWarning: invalid value encountered in greater\n",
      "d:\\Anaconda3\\lib\\site-packages\\ipykernel_launcher.py:56: RuntimeWarning: invalid value encountered in greater\n",
      "d:\\Anaconda3\\lib\\site-packages\\ipykernel_launcher.py:57: RuntimeWarning: invalid value encountered in greater\n",
      "d:\\Anaconda3\\lib\\site-packages\\ipykernel_launcher.py:66: RuntimeWarning: invalid value encountered in greater\n",
      "d:\\Anaconda3\\lib\\site-packages\\ipykernel_launcher.py:70: RuntimeWarning: invalid value encountered in greater\n",
      "d:\\Anaconda3\\lib\\site-packages\\ipykernel_launcher.py:56: RuntimeWarning: invalid value encountered in greater\n",
      "d:\\Anaconda3\\lib\\site-packages\\ipykernel_launcher.py:57: RuntimeWarning: invalid value encountered in greater\n",
      "d:\\Anaconda3\\lib\\site-packages\\ipykernel_launcher.py:66: RuntimeWarning: invalid value encountered in greater\n",
      "d:\\Anaconda3\\lib\\site-packages\\ipykernel_launcher.py:70: RuntimeWarning: invalid value encountered in greater\n",
      "d:\\Anaconda3\\lib\\site-packages\\ipykernel_launcher.py:56: RuntimeWarning: invalid value encountered in greater\n",
      "d:\\Anaconda3\\lib\\site-packages\\ipykernel_launcher.py:57: RuntimeWarning: invalid value encountered in greater\n",
      "d:\\Anaconda3\\lib\\site-packages\\ipykernel_launcher.py:66: RuntimeWarning: invalid value encountered in greater\n",
      "d:\\Anaconda3\\lib\\site-packages\\ipykernel_launcher.py:70: RuntimeWarning: invalid value encountered in greater\n",
      "d:\\Anaconda3\\lib\\site-packages\\ipykernel_launcher.py:56: RuntimeWarning: invalid value encountered in greater\n",
      "d:\\Anaconda3\\lib\\site-packages\\ipykernel_launcher.py:57: RuntimeWarning: invalid value encountered in greater\n",
      "d:\\Anaconda3\\lib\\site-packages\\ipykernel_launcher.py:66: RuntimeWarning: invalid value encountered in greater\n",
      "d:\\Anaconda3\\lib\\site-packages\\ipykernel_launcher.py:70: RuntimeWarning: invalid value encountered in greater\n",
      "d:\\Anaconda3\\lib\\site-packages\\ipykernel_launcher.py:56: RuntimeWarning: invalid value encountered in greater\n",
      "d:\\Anaconda3\\lib\\site-packages\\ipykernel_launcher.py:57: RuntimeWarning: invalid value encountered in greater\n",
      "d:\\Anaconda3\\lib\\site-packages\\ipykernel_launcher.py:66: RuntimeWarning: invalid value encountered in greater\n",
      "d:\\Anaconda3\\lib\\site-packages\\ipykernel_launcher.py:70: RuntimeWarning: invalid value encountered in greater\n",
      "d:\\Anaconda3\\lib\\site-packages\\ipykernel_launcher.py:56: RuntimeWarning: invalid value encountered in greater\n",
      "d:\\Anaconda3\\lib\\site-packages\\ipykernel_launcher.py:57: RuntimeWarning: invalid value encountered in greater\n",
      "d:\\Anaconda3\\lib\\site-packages\\ipykernel_launcher.py:66: RuntimeWarning: invalid value encountered in greater\n",
      "d:\\Anaconda3\\lib\\site-packages\\ipykernel_launcher.py:70: RuntimeWarning: invalid value encountered in greater\n",
      "d:\\Anaconda3\\lib\\site-packages\\ipykernel_launcher.py:56: RuntimeWarning: invalid value encountered in greater\n",
      "d:\\Anaconda3\\lib\\site-packages\\ipykernel_launcher.py:57: RuntimeWarning: invalid value encountered in greater\n",
      "d:\\Anaconda3\\lib\\site-packages\\ipykernel_launcher.py:66: RuntimeWarning: invalid value encountered in greater\n",
      "d:\\Anaconda3\\lib\\site-packages\\ipykernel_launcher.py:70: RuntimeWarning: invalid value encountered in greater\n",
      "d:\\Anaconda3\\lib\\site-packages\\ipykernel_launcher.py:56: RuntimeWarning: invalid value encountered in greater\n",
      "d:\\Anaconda3\\lib\\site-packages\\ipykernel_launcher.py:57: RuntimeWarning: invalid value encountered in greater\n",
      "d:\\Anaconda3\\lib\\site-packages\\ipykernel_launcher.py:66: RuntimeWarning: invalid value encountered in greater\n",
      "d:\\Anaconda3\\lib\\site-packages\\ipykernel_launcher.py:70: RuntimeWarning: invalid value encountered in greater\n",
      "d:\\Anaconda3\\lib\\site-packages\\ipykernel_launcher.py:56: RuntimeWarning: invalid value encountered in greater\n",
      "d:\\Anaconda3\\lib\\site-packages\\ipykernel_launcher.py:57: RuntimeWarning: invalid value encountered in greater\n",
      "d:\\Anaconda3\\lib\\site-packages\\ipykernel_launcher.py:66: RuntimeWarning: invalid value encountered in greater\n",
      "d:\\Anaconda3\\lib\\site-packages\\ipykernel_launcher.py:70: RuntimeWarning: invalid value encountered in greater\n",
      "d:\\Anaconda3\\lib\\site-packages\\ipykernel_launcher.py:56: RuntimeWarning: invalid value encountered in greater\n",
      "d:\\Anaconda3\\lib\\site-packages\\ipykernel_launcher.py:57: RuntimeWarning: invalid value encountered in greater\n",
      "d:\\Anaconda3\\lib\\site-packages\\ipykernel_launcher.py:66: RuntimeWarning: invalid value encountered in greater\n",
      "d:\\Anaconda3\\lib\\site-packages\\ipykernel_launcher.py:70: RuntimeWarning: invalid value encountered in greater\n",
      "d:\\Anaconda3\\lib\\site-packages\\ipykernel_launcher.py:56: RuntimeWarning: invalid value encountered in greater\n",
      "d:\\Anaconda3\\lib\\site-packages\\ipykernel_launcher.py:57: RuntimeWarning: invalid value encountered in greater\n",
      "d:\\Anaconda3\\lib\\site-packages\\ipykernel_launcher.py:66: RuntimeWarning: invalid value encountered in greater\n",
      "d:\\Anaconda3\\lib\\site-packages\\ipykernel_launcher.py:70: RuntimeWarning: invalid value encountered in greater\n",
      "d:\\Anaconda3\\lib\\site-packages\\ipykernel_launcher.py:56: RuntimeWarning: invalid value encountered in greater\n",
      "d:\\Anaconda3\\lib\\site-packages\\ipykernel_launcher.py:57: RuntimeWarning: invalid value encountered in greater\n",
      "d:\\Anaconda3\\lib\\site-packages\\ipykernel_launcher.py:66: RuntimeWarning: invalid value encountered in greater\n",
      "d:\\Anaconda3\\lib\\site-packages\\ipykernel_launcher.py:70: RuntimeWarning: invalid value encountered in greater\n",
      "d:\\Anaconda3\\lib\\site-packages\\ipykernel_launcher.py:56: RuntimeWarning: invalid value encountered in greater\n",
      "d:\\Anaconda3\\lib\\site-packages\\ipykernel_launcher.py:57: RuntimeWarning: invalid value encountered in greater\n",
      "d:\\Anaconda3\\lib\\site-packages\\ipykernel_launcher.py:66: RuntimeWarning: invalid value encountered in greater\n",
      "d:\\Anaconda3\\lib\\site-packages\\ipykernel_launcher.py:70: RuntimeWarning: invalid value encountered in greater\n",
      "d:\\Anaconda3\\lib\\site-packages\\ipykernel_launcher.py:56: RuntimeWarning: invalid value encountered in greater\n",
      "d:\\Anaconda3\\lib\\site-packages\\ipykernel_launcher.py:57: RuntimeWarning: invalid value encountered in greater\n",
      "d:\\Anaconda3\\lib\\site-packages\\ipykernel_launcher.py:66: RuntimeWarning: invalid value encountered in greater\n",
      "d:\\Anaconda3\\lib\\site-packages\\ipykernel_launcher.py:70: RuntimeWarning: invalid value encountered in greater\n",
      "d:\\Anaconda3\\lib\\site-packages\\ipykernel_launcher.py:56: RuntimeWarning: invalid value encountered in greater\n",
      "d:\\Anaconda3\\lib\\site-packages\\ipykernel_launcher.py:57: RuntimeWarning: invalid value encountered in greater\n",
      "d:\\Anaconda3\\lib\\site-packages\\ipykernel_launcher.py:66: RuntimeWarning: invalid value encountered in greater\n",
      "d:\\Anaconda3\\lib\\site-packages\\ipykernel_launcher.py:70: RuntimeWarning: invalid value encountered in greater\n",
      "d:\\Anaconda3\\lib\\site-packages\\ipykernel_launcher.py:56: RuntimeWarning: invalid value encountered in greater\n",
      "d:\\Anaconda3\\lib\\site-packages\\ipykernel_launcher.py:57: RuntimeWarning: invalid value encountered in greater\n",
      "d:\\Anaconda3\\lib\\site-packages\\ipykernel_launcher.py:66: RuntimeWarning: invalid value encountered in greater\n",
      "d:\\Anaconda3\\lib\\site-packages\\ipykernel_launcher.py:70: RuntimeWarning: invalid value encountered in greater\n",
      "d:\\Anaconda3\\lib\\site-packages\\ipykernel_launcher.py:56: RuntimeWarning: invalid value encountered in greater\n",
      "d:\\Anaconda3\\lib\\site-packages\\ipykernel_launcher.py:57: RuntimeWarning: invalid value encountered in greater\n",
      "d:\\Anaconda3\\lib\\site-packages\\ipykernel_launcher.py:66: RuntimeWarning: invalid value encountered in greater\n",
      "d:\\Anaconda3\\lib\\site-packages\\ipykernel_launcher.py:70: RuntimeWarning: invalid value encountered in greater\n",
      "d:\\Anaconda3\\lib\\site-packages\\ipykernel_launcher.py:56: RuntimeWarning: invalid value encountered in greater\n",
      "d:\\Anaconda3\\lib\\site-packages\\ipykernel_launcher.py:57: RuntimeWarning: invalid value encountered in greater\n",
      "d:\\Anaconda3\\lib\\site-packages\\ipykernel_launcher.py:66: RuntimeWarning: invalid value encountered in greater\n",
      "d:\\Anaconda3\\lib\\site-packages\\ipykernel_launcher.py:70: RuntimeWarning: invalid value encountered in greater\n",
      "d:\\Anaconda3\\lib\\site-packages\\ipykernel_launcher.py:56: RuntimeWarning: invalid value encountered in greater\n",
      "d:\\Anaconda3\\lib\\site-packages\\ipykernel_launcher.py:57: RuntimeWarning: invalid value encountered in greater\n",
      "d:\\Anaconda3\\lib\\site-packages\\ipykernel_launcher.py:66: RuntimeWarning: invalid value encountered in greater\n",
      "d:\\Anaconda3\\lib\\site-packages\\ipykernel_launcher.py:70: RuntimeWarning: invalid value encountered in greater\n",
      "d:\\Anaconda3\\lib\\site-packages\\ipykernel_launcher.py:56: RuntimeWarning: invalid value encountered in greater\n",
      "d:\\Anaconda3\\lib\\site-packages\\ipykernel_launcher.py:57: RuntimeWarning: invalid value encountered in greater\n",
      "d:\\Anaconda3\\lib\\site-packages\\ipykernel_launcher.py:66: RuntimeWarning: invalid value encountered in greater\n",
      "d:\\Anaconda3\\lib\\site-packages\\ipykernel_launcher.py:70: RuntimeWarning: invalid value encountered in greater\n",
      "d:\\Anaconda3\\lib\\site-packages\\ipykernel_launcher.py:56: RuntimeWarning: invalid value encountered in greater\n",
      "d:\\Anaconda3\\lib\\site-packages\\ipykernel_launcher.py:57: RuntimeWarning: invalid value encountered in greater\n",
      "d:\\Anaconda3\\lib\\site-packages\\ipykernel_launcher.py:66: RuntimeWarning: invalid value encountered in greater\n",
      "d:\\Anaconda3\\lib\\site-packages\\ipykernel_launcher.py:70: RuntimeWarning: invalid value encountered in greater\n",
      "d:\\Anaconda3\\lib\\site-packages\\ipykernel_launcher.py:56: RuntimeWarning: invalid value encountered in greater\n",
      "d:\\Anaconda3\\lib\\site-packages\\ipykernel_launcher.py:57: RuntimeWarning: invalid value encountered in greater\n",
      "d:\\Anaconda3\\lib\\site-packages\\ipykernel_launcher.py:66: RuntimeWarning: invalid value encountered in greater\n",
      "d:\\Anaconda3\\lib\\site-packages\\ipykernel_launcher.py:70: RuntimeWarning: invalid value encountered in greater\n",
      "d:\\Anaconda3\\lib\\site-packages\\ipykernel_launcher.py:56: RuntimeWarning: invalid value encountered in greater\n",
      "d:\\Anaconda3\\lib\\site-packages\\ipykernel_launcher.py:57: RuntimeWarning: invalid value encountered in greater\n",
      "d:\\Anaconda3\\lib\\site-packages\\ipykernel_launcher.py:66: RuntimeWarning: invalid value encountered in greater\n",
      "d:\\Anaconda3\\lib\\site-packages\\ipykernel_launcher.py:70: RuntimeWarning: invalid value encountered in greater\n",
      "d:\\Anaconda3\\lib\\site-packages\\ipykernel_launcher.py:56: RuntimeWarning: invalid value encountered in greater\n",
      "d:\\Anaconda3\\lib\\site-packages\\ipykernel_launcher.py:57: RuntimeWarning: invalid value encountered in greater\n",
      "d:\\Anaconda3\\lib\\site-packages\\ipykernel_launcher.py:66: RuntimeWarning: invalid value encountered in greater\n",
      "d:\\Anaconda3\\lib\\site-packages\\ipykernel_launcher.py:70: RuntimeWarning: invalid value encountered in greater\n",
      "d:\\Anaconda3\\lib\\site-packages\\ipykernel_launcher.py:56: RuntimeWarning: invalid value encountered in greater\n",
      "d:\\Anaconda3\\lib\\site-packages\\ipykernel_launcher.py:57: RuntimeWarning: invalid value encountered in greater\n",
      "d:\\Anaconda3\\lib\\site-packages\\ipykernel_launcher.py:66: RuntimeWarning: invalid value encountered in greater\n",
      "d:\\Anaconda3\\lib\\site-packages\\ipykernel_launcher.py:70: RuntimeWarning: invalid value encountered in greater\n",
      "d:\\Anaconda3\\lib\\site-packages\\ipykernel_launcher.py:56: RuntimeWarning: invalid value encountered in greater\n",
      "d:\\Anaconda3\\lib\\site-packages\\ipykernel_launcher.py:57: RuntimeWarning: invalid value encountered in greater\n",
      "d:\\Anaconda3\\lib\\site-packages\\ipykernel_launcher.py:66: RuntimeWarning: invalid value encountered in greater\n",
      "d:\\Anaconda3\\lib\\site-packages\\ipykernel_launcher.py:70: RuntimeWarning: invalid value encountered in greater\n",
      "d:\\Anaconda3\\lib\\site-packages\\ipykernel_launcher.py:56: RuntimeWarning: invalid value encountered in greater\n",
      "d:\\Anaconda3\\lib\\site-packages\\ipykernel_launcher.py:57: RuntimeWarning: invalid value encountered in greater\n",
      "d:\\Anaconda3\\lib\\site-packages\\ipykernel_launcher.py:66: RuntimeWarning: invalid value encountered in greater\n",
      "d:\\Anaconda3\\lib\\site-packages\\ipykernel_launcher.py:70: RuntimeWarning: invalid value encountered in greater\n",
      "d:\\Anaconda3\\lib\\site-packages\\ipykernel_launcher.py:56: RuntimeWarning: invalid value encountered in greater\n",
      "d:\\Anaconda3\\lib\\site-packages\\ipykernel_launcher.py:57: RuntimeWarning: invalid value encountered in greater\n",
      "d:\\Anaconda3\\lib\\site-packages\\ipykernel_launcher.py:66: RuntimeWarning: invalid value encountered in greater\n",
      "d:\\Anaconda3\\lib\\site-packages\\ipykernel_launcher.py:70: RuntimeWarning: invalid value encountered in greater\n",
      "d:\\Anaconda3\\lib\\site-packages\\ipykernel_launcher.py:56: RuntimeWarning: invalid value encountered in greater\n",
      "d:\\Anaconda3\\lib\\site-packages\\ipykernel_launcher.py:57: RuntimeWarning: invalid value encountered in greater\n",
      "d:\\Anaconda3\\lib\\site-packages\\ipykernel_launcher.py:66: RuntimeWarning: invalid value encountered in greater\n",
      "d:\\Anaconda3\\lib\\site-packages\\ipykernel_launcher.py:70: RuntimeWarning: invalid value encountered in greater\n",
      "d:\\Anaconda3\\lib\\site-packages\\ipykernel_launcher.py:56: RuntimeWarning: invalid value encountered in greater\n",
      "d:\\Anaconda3\\lib\\site-packages\\ipykernel_launcher.py:57: RuntimeWarning: invalid value encountered in greater\n",
      "d:\\Anaconda3\\lib\\site-packages\\ipykernel_launcher.py:66: RuntimeWarning: invalid value encountered in greater\n",
      "d:\\Anaconda3\\lib\\site-packages\\ipykernel_launcher.py:70: RuntimeWarning: invalid value encountered in greater\n",
      "d:\\Anaconda3\\lib\\site-packages\\ipykernel_launcher.py:56: RuntimeWarning: invalid value encountered in greater\n",
      "d:\\Anaconda3\\lib\\site-packages\\ipykernel_launcher.py:57: RuntimeWarning: invalid value encountered in greater\n",
      "d:\\Anaconda3\\lib\\site-packages\\ipykernel_launcher.py:66: RuntimeWarning: invalid value encountered in greater\n",
      "d:\\Anaconda3\\lib\\site-packages\\ipykernel_launcher.py:70: RuntimeWarning: invalid value encountered in greater\n",
      "d:\\Anaconda3\\lib\\site-packages\\ipykernel_launcher.py:56: RuntimeWarning: invalid value encountered in greater\n",
      "d:\\Anaconda3\\lib\\site-packages\\ipykernel_launcher.py:57: RuntimeWarning: invalid value encountered in greater\n",
      "d:\\Anaconda3\\lib\\site-packages\\ipykernel_launcher.py:66: RuntimeWarning: invalid value encountered in greater\n",
      "d:\\Anaconda3\\lib\\site-packages\\ipykernel_launcher.py:70: RuntimeWarning: invalid value encountered in greater\n",
      "d:\\Anaconda3\\lib\\site-packages\\ipykernel_launcher.py:56: RuntimeWarning: invalid value encountered in greater\n",
      "d:\\Anaconda3\\lib\\site-packages\\ipykernel_launcher.py:57: RuntimeWarning: invalid value encountered in greater\n",
      "d:\\Anaconda3\\lib\\site-packages\\ipykernel_launcher.py:66: RuntimeWarning: invalid value encountered in greater\n",
      "d:\\Anaconda3\\lib\\site-packages\\ipykernel_launcher.py:70: RuntimeWarning: invalid value encountered in greater\n",
      "d:\\Anaconda3\\lib\\site-packages\\ipykernel_launcher.py:56: RuntimeWarning: invalid value encountered in greater\n",
      "d:\\Anaconda3\\lib\\site-packages\\ipykernel_launcher.py:57: RuntimeWarning: invalid value encountered in greater\n",
      "d:\\Anaconda3\\lib\\site-packages\\ipykernel_launcher.py:66: RuntimeWarning: invalid value encountered in greater\n",
      "d:\\Anaconda3\\lib\\site-packages\\ipykernel_launcher.py:70: RuntimeWarning: invalid value encountered in greater\n",
      "d:\\Anaconda3\\lib\\site-packages\\ipykernel_launcher.py:56: RuntimeWarning: invalid value encountered in greater\n",
      "d:\\Anaconda3\\lib\\site-packages\\ipykernel_launcher.py:57: RuntimeWarning: invalid value encountered in greater\n",
      "d:\\Anaconda3\\lib\\site-packages\\ipykernel_launcher.py:66: RuntimeWarning: invalid value encountered in greater\n",
      "d:\\Anaconda3\\lib\\site-packages\\ipykernel_launcher.py:70: RuntimeWarning: invalid value encountered in greater\n",
      "d:\\Anaconda3\\lib\\site-packages\\ipykernel_launcher.py:56: RuntimeWarning: invalid value encountered in greater\n",
      "d:\\Anaconda3\\lib\\site-packages\\ipykernel_launcher.py:57: RuntimeWarning: invalid value encountered in greater\n",
      "d:\\Anaconda3\\lib\\site-packages\\ipykernel_launcher.py:66: RuntimeWarning: invalid value encountered in greater\n",
      "d:\\Anaconda3\\lib\\site-packages\\ipykernel_launcher.py:70: RuntimeWarning: invalid value encountered in greater\n",
      "d:\\Anaconda3\\lib\\site-packages\\ipykernel_launcher.py:56: RuntimeWarning: invalid value encountered in greater\n",
      "d:\\Anaconda3\\lib\\site-packages\\ipykernel_launcher.py:57: RuntimeWarning: invalid value encountered in greater\n",
      "d:\\Anaconda3\\lib\\site-packages\\ipykernel_launcher.py:66: RuntimeWarning: invalid value encountered in greater\n",
      "d:\\Anaconda3\\lib\\site-packages\\ipykernel_launcher.py:70: RuntimeWarning: invalid value encountered in greater\n",
      "d:\\Anaconda3\\lib\\site-packages\\ipykernel_launcher.py:56: RuntimeWarning: invalid value encountered in greater\n",
      "d:\\Anaconda3\\lib\\site-packages\\ipykernel_launcher.py:57: RuntimeWarning: invalid value encountered in greater\n",
      "d:\\Anaconda3\\lib\\site-packages\\ipykernel_launcher.py:66: RuntimeWarning: invalid value encountered in greater\n",
      "d:\\Anaconda3\\lib\\site-packages\\ipykernel_launcher.py:70: RuntimeWarning: invalid value encountered in greater\n",
      "d:\\Anaconda3\\lib\\site-packages\\ipykernel_launcher.py:56: RuntimeWarning: invalid value encountered in greater\n",
      "d:\\Anaconda3\\lib\\site-packages\\ipykernel_launcher.py:57: RuntimeWarning: invalid value encountered in greater\n",
      "d:\\Anaconda3\\lib\\site-packages\\ipykernel_launcher.py:66: RuntimeWarning: invalid value encountered in greater\n",
      "d:\\Anaconda3\\lib\\site-packages\\ipykernel_launcher.py:70: RuntimeWarning: invalid value encountered in greater\n",
      "d:\\Anaconda3\\lib\\site-packages\\ipykernel_launcher.py:56: RuntimeWarning: invalid value encountered in greater\n",
      "d:\\Anaconda3\\lib\\site-packages\\ipykernel_launcher.py:57: RuntimeWarning: invalid value encountered in greater\n",
      "d:\\Anaconda3\\lib\\site-packages\\ipykernel_launcher.py:66: RuntimeWarning: invalid value encountered in greater\n",
      "d:\\Anaconda3\\lib\\site-packages\\ipykernel_launcher.py:70: RuntimeWarning: invalid value encountered in greater\n",
      "d:\\Anaconda3\\lib\\site-packages\\ipykernel_launcher.py:56: RuntimeWarning: invalid value encountered in greater\n",
      "d:\\Anaconda3\\lib\\site-packages\\ipykernel_launcher.py:57: RuntimeWarning: invalid value encountered in greater\n",
      "d:\\Anaconda3\\lib\\site-packages\\ipykernel_launcher.py:66: RuntimeWarning: invalid value encountered in greater\n",
      "d:\\Anaconda3\\lib\\site-packages\\ipykernel_launcher.py:70: RuntimeWarning: invalid value encountered in greater\n",
      "d:\\Anaconda3\\lib\\site-packages\\ipykernel_launcher.py:56: RuntimeWarning: invalid value encountered in greater\n",
      "d:\\Anaconda3\\lib\\site-packages\\ipykernel_launcher.py:57: RuntimeWarning: invalid value encountered in greater\n",
      "d:\\Anaconda3\\lib\\site-packages\\ipykernel_launcher.py:66: RuntimeWarning: invalid value encountered in greater\n",
      "d:\\Anaconda3\\lib\\site-packages\\ipykernel_launcher.py:70: RuntimeWarning: invalid value encountered in greater\n",
      "d:\\Anaconda3\\lib\\site-packages\\ipykernel_launcher.py:56: RuntimeWarning: invalid value encountered in greater\n",
      "d:\\Anaconda3\\lib\\site-packages\\ipykernel_launcher.py:57: RuntimeWarning: invalid value encountered in greater\n",
      "d:\\Anaconda3\\lib\\site-packages\\ipykernel_launcher.py:66: RuntimeWarning: invalid value encountered in greater\n",
      "d:\\Anaconda3\\lib\\site-packages\\ipykernel_launcher.py:70: RuntimeWarning: invalid value encountered in greater\n",
      "d:\\Anaconda3\\lib\\site-packages\\ipykernel_launcher.py:56: RuntimeWarning: invalid value encountered in greater\n",
      "d:\\Anaconda3\\lib\\site-packages\\ipykernel_launcher.py:57: RuntimeWarning: invalid value encountered in greater\n",
      "d:\\Anaconda3\\lib\\site-packages\\ipykernel_launcher.py:66: RuntimeWarning: invalid value encountered in greater\n",
      "d:\\Anaconda3\\lib\\site-packages\\ipykernel_launcher.py:70: RuntimeWarning: invalid value encountered in greater\n",
      "d:\\Anaconda3\\lib\\site-packages\\ipykernel_launcher.py:56: RuntimeWarning: invalid value encountered in greater\n",
      "d:\\Anaconda3\\lib\\site-packages\\ipykernel_launcher.py:57: RuntimeWarning: invalid value encountered in greater\n",
      "d:\\Anaconda3\\lib\\site-packages\\ipykernel_launcher.py:66: RuntimeWarning: invalid value encountered in greater\n",
      "d:\\Anaconda3\\lib\\site-packages\\ipykernel_launcher.py:70: RuntimeWarning: invalid value encountered in greater\n",
      "d:\\Anaconda3\\lib\\site-packages\\ipykernel_launcher.py:56: RuntimeWarning: invalid value encountered in greater\n",
      "d:\\Anaconda3\\lib\\site-packages\\ipykernel_launcher.py:57: RuntimeWarning: invalid value encountered in greater\n",
      "d:\\Anaconda3\\lib\\site-packages\\ipykernel_launcher.py:66: RuntimeWarning: invalid value encountered in greater\n",
      "d:\\Anaconda3\\lib\\site-packages\\ipykernel_launcher.py:70: RuntimeWarning: invalid value encountered in greater\n",
      "d:\\Anaconda3\\lib\\site-packages\\ipykernel_launcher.py:56: RuntimeWarning: invalid value encountered in greater\n",
      "d:\\Anaconda3\\lib\\site-packages\\ipykernel_launcher.py:57: RuntimeWarning: invalid value encountered in greater\n",
      "d:\\Anaconda3\\lib\\site-packages\\ipykernel_launcher.py:66: RuntimeWarning: invalid value encountered in greater\n",
      "d:\\Anaconda3\\lib\\site-packages\\ipykernel_launcher.py:70: RuntimeWarning: invalid value encountered in greater\n",
      "d:\\Anaconda3\\lib\\site-packages\\ipykernel_launcher.py:56: RuntimeWarning: invalid value encountered in greater\n",
      "d:\\Anaconda3\\lib\\site-packages\\ipykernel_launcher.py:57: RuntimeWarning: invalid value encountered in greater\n",
      "d:\\Anaconda3\\lib\\site-packages\\ipykernel_launcher.py:66: RuntimeWarning: invalid value encountered in greater\n",
      "d:\\Anaconda3\\lib\\site-packages\\ipykernel_launcher.py:70: RuntimeWarning: invalid value encountered in greater\n",
      "d:\\Anaconda3\\lib\\site-packages\\ipykernel_launcher.py:56: RuntimeWarning: invalid value encountered in greater\n",
      "d:\\Anaconda3\\lib\\site-packages\\ipykernel_launcher.py:57: RuntimeWarning: invalid value encountered in greater\n",
      "d:\\Anaconda3\\lib\\site-packages\\ipykernel_launcher.py:66: RuntimeWarning: invalid value encountered in greater\n",
      "d:\\Anaconda3\\lib\\site-packages\\ipykernel_launcher.py:70: RuntimeWarning: invalid value encountered in greater\n",
      "d:\\Anaconda3\\lib\\site-packages\\ipykernel_launcher.py:56: RuntimeWarning: invalid value encountered in greater\n",
      "d:\\Anaconda3\\lib\\site-packages\\ipykernel_launcher.py:57: RuntimeWarning: invalid value encountered in greater\n",
      "d:\\Anaconda3\\lib\\site-packages\\ipykernel_launcher.py:66: RuntimeWarning: invalid value encountered in greater\n",
      "d:\\Anaconda3\\lib\\site-packages\\ipykernel_launcher.py:70: RuntimeWarning: invalid value encountered in greater\n",
      "d:\\Anaconda3\\lib\\site-packages\\ipykernel_launcher.py:56: RuntimeWarning: invalid value encountered in greater\n",
      "d:\\Anaconda3\\lib\\site-packages\\ipykernel_launcher.py:57: RuntimeWarning: invalid value encountered in greater\n",
      "d:\\Anaconda3\\lib\\site-packages\\ipykernel_launcher.py:66: RuntimeWarning: invalid value encountered in greater\n",
      "d:\\Anaconda3\\lib\\site-packages\\ipykernel_launcher.py:70: RuntimeWarning: invalid value encountered in greater\n",
      "d:\\Anaconda3\\lib\\site-packages\\ipykernel_launcher.py:56: RuntimeWarning: invalid value encountered in greater\n",
      "d:\\Anaconda3\\lib\\site-packages\\ipykernel_launcher.py:57: RuntimeWarning: invalid value encountered in greater\n",
      "d:\\Anaconda3\\lib\\site-packages\\ipykernel_launcher.py:66: RuntimeWarning: invalid value encountered in greater\n",
      "d:\\Anaconda3\\lib\\site-packages\\ipykernel_launcher.py:70: RuntimeWarning: invalid value encountered in greater\n",
      "d:\\Anaconda3\\lib\\site-packages\\ipykernel_launcher.py:56: RuntimeWarning: invalid value encountered in greater\n",
      "d:\\Anaconda3\\lib\\site-packages\\ipykernel_launcher.py:57: RuntimeWarning: invalid value encountered in greater\n",
      "d:\\Anaconda3\\lib\\site-packages\\ipykernel_launcher.py:66: RuntimeWarning: invalid value encountered in greater\n",
      "d:\\Anaconda3\\lib\\site-packages\\ipykernel_launcher.py:70: RuntimeWarning: invalid value encountered in greater\n",
      "d:\\Anaconda3\\lib\\site-packages\\ipykernel_launcher.py:56: RuntimeWarning: invalid value encountered in greater\n",
      "d:\\Anaconda3\\lib\\site-packages\\ipykernel_launcher.py:57: RuntimeWarning: invalid value encountered in greater\n",
      "d:\\Anaconda3\\lib\\site-packages\\ipykernel_launcher.py:66: RuntimeWarning: invalid value encountered in greater\n",
      "d:\\Anaconda3\\lib\\site-packages\\ipykernel_launcher.py:70: RuntimeWarning: invalid value encountered in greater\n",
      "d:\\Anaconda3\\lib\\site-packages\\ipykernel_launcher.py:56: RuntimeWarning: invalid value encountered in greater\n",
      "d:\\Anaconda3\\lib\\site-packages\\ipykernel_launcher.py:57: RuntimeWarning: invalid value encountered in greater\n",
      "d:\\Anaconda3\\lib\\site-packages\\ipykernel_launcher.py:66: RuntimeWarning: invalid value encountered in greater\n",
      "d:\\Anaconda3\\lib\\site-packages\\ipykernel_launcher.py:70: RuntimeWarning: invalid value encountered in greater\n",
      "d:\\Anaconda3\\lib\\site-packages\\ipykernel_launcher.py:56: RuntimeWarning: invalid value encountered in greater\n",
      "d:\\Anaconda3\\lib\\site-packages\\ipykernel_launcher.py:57: RuntimeWarning: invalid value encountered in greater\n",
      "d:\\Anaconda3\\lib\\site-packages\\ipykernel_launcher.py:66: RuntimeWarning: invalid value encountered in greater\n",
      "d:\\Anaconda3\\lib\\site-packages\\ipykernel_launcher.py:70: RuntimeWarning: invalid value encountered in greater\n",
      "d:\\Anaconda3\\lib\\site-packages\\ipykernel_launcher.py:56: RuntimeWarning: invalid value encountered in greater\n",
      "d:\\Anaconda3\\lib\\site-packages\\ipykernel_launcher.py:57: RuntimeWarning: invalid value encountered in greater\n",
      "d:\\Anaconda3\\lib\\site-packages\\ipykernel_launcher.py:66: RuntimeWarning: invalid value encountered in greater\n",
      "d:\\Anaconda3\\lib\\site-packages\\ipykernel_launcher.py:70: RuntimeWarning: invalid value encountered in greater\n",
      "d:\\Anaconda3\\lib\\site-packages\\ipykernel_launcher.py:56: RuntimeWarning: invalid value encountered in greater\n",
      "d:\\Anaconda3\\lib\\site-packages\\ipykernel_launcher.py:57: RuntimeWarning: invalid value encountered in greater\n",
      "d:\\Anaconda3\\lib\\site-packages\\ipykernel_launcher.py:66: RuntimeWarning: invalid value encountered in greater\n",
      "d:\\Anaconda3\\lib\\site-packages\\ipykernel_launcher.py:70: RuntimeWarning: invalid value encountered in greater\n",
      "d:\\Anaconda3\\lib\\site-packages\\ipykernel_launcher.py:56: RuntimeWarning: invalid value encountered in greater\n",
      "d:\\Anaconda3\\lib\\site-packages\\ipykernel_launcher.py:57: RuntimeWarning: invalid value encountered in greater\n",
      "d:\\Anaconda3\\lib\\site-packages\\ipykernel_launcher.py:66: RuntimeWarning: invalid value encountered in greater\n",
      "d:\\Anaconda3\\lib\\site-packages\\ipykernel_launcher.py:70: RuntimeWarning: invalid value encountered in greater\n",
      "d:\\Anaconda3\\lib\\site-packages\\ipykernel_launcher.py:56: RuntimeWarning: invalid value encountered in greater\n",
      "d:\\Anaconda3\\lib\\site-packages\\ipykernel_launcher.py:57: RuntimeWarning: invalid value encountered in greater\n",
      "d:\\Anaconda3\\lib\\site-packages\\ipykernel_launcher.py:66: RuntimeWarning: invalid value encountered in greater\n",
      "d:\\Anaconda3\\lib\\site-packages\\ipykernel_launcher.py:70: RuntimeWarning: invalid value encountered in greater\n",
      "d:\\Anaconda3\\lib\\site-packages\\ipykernel_launcher.py:56: RuntimeWarning: invalid value encountered in greater\n",
      "d:\\Anaconda3\\lib\\site-packages\\ipykernel_launcher.py:57: RuntimeWarning: invalid value encountered in greater\n",
      "d:\\Anaconda3\\lib\\site-packages\\ipykernel_launcher.py:66: RuntimeWarning: invalid value encountered in greater\n",
      "d:\\Anaconda3\\lib\\site-packages\\ipykernel_launcher.py:70: RuntimeWarning: invalid value encountered in greater\n",
      "d:\\Anaconda3\\lib\\site-packages\\ipykernel_launcher.py:56: RuntimeWarning: invalid value encountered in greater\n",
      "d:\\Anaconda3\\lib\\site-packages\\ipykernel_launcher.py:57: RuntimeWarning: invalid value encountered in greater\n",
      "d:\\Anaconda3\\lib\\site-packages\\ipykernel_launcher.py:66: RuntimeWarning: invalid value encountered in greater\n",
      "d:\\Anaconda3\\lib\\site-packages\\ipykernel_launcher.py:70: RuntimeWarning: invalid value encountered in greater\n",
      "d:\\Anaconda3\\lib\\site-packages\\ipykernel_launcher.py:56: RuntimeWarning: invalid value encountered in greater\n",
      "d:\\Anaconda3\\lib\\site-packages\\ipykernel_launcher.py:57: RuntimeWarning: invalid value encountered in greater\n",
      "d:\\Anaconda3\\lib\\site-packages\\ipykernel_launcher.py:66: RuntimeWarning: invalid value encountered in greater\n",
      "d:\\Anaconda3\\lib\\site-packages\\ipykernel_launcher.py:70: RuntimeWarning: invalid value encountered in greater\n",
      "d:\\Anaconda3\\lib\\site-packages\\ipykernel_launcher.py:56: RuntimeWarning: invalid value encountered in greater\n",
      "d:\\Anaconda3\\lib\\site-packages\\ipykernel_launcher.py:57: RuntimeWarning: invalid value encountered in greater\n",
      "d:\\Anaconda3\\lib\\site-packages\\ipykernel_launcher.py:66: RuntimeWarning: invalid value encountered in greater\n",
      "d:\\Anaconda3\\lib\\site-packages\\ipykernel_launcher.py:70: RuntimeWarning: invalid value encountered in greater\n",
      "d:\\Anaconda3\\lib\\site-packages\\ipykernel_launcher.py:56: RuntimeWarning: invalid value encountered in greater\n",
      "d:\\Anaconda3\\lib\\site-packages\\ipykernel_launcher.py:57: RuntimeWarning: invalid value encountered in greater\n",
      "d:\\Anaconda3\\lib\\site-packages\\ipykernel_launcher.py:66: RuntimeWarning: invalid value encountered in greater\n",
      "d:\\Anaconda3\\lib\\site-packages\\ipykernel_launcher.py:70: RuntimeWarning: invalid value encountered in greater\n",
      "d:\\Anaconda3\\lib\\site-packages\\ipykernel_launcher.py:56: RuntimeWarning: invalid value encountered in greater\n",
      "d:\\Anaconda3\\lib\\site-packages\\ipykernel_launcher.py:57: RuntimeWarning: invalid value encountered in greater\n",
      "d:\\Anaconda3\\lib\\site-packages\\ipykernel_launcher.py:66: RuntimeWarning: invalid value encountered in greater\n",
      "d:\\Anaconda3\\lib\\site-packages\\ipykernel_launcher.py:70: RuntimeWarning: invalid value encountered in greater\n",
      "d:\\Anaconda3\\lib\\site-packages\\ipykernel_launcher.py:56: RuntimeWarning: invalid value encountered in greater\n",
      "d:\\Anaconda3\\lib\\site-packages\\ipykernel_launcher.py:57: RuntimeWarning: invalid value encountered in greater\n",
      "d:\\Anaconda3\\lib\\site-packages\\ipykernel_launcher.py:66: RuntimeWarning: invalid value encountered in greater\n",
      "d:\\Anaconda3\\lib\\site-packages\\ipykernel_launcher.py:70: RuntimeWarning: invalid value encountered in greater\n",
      "d:\\Anaconda3\\lib\\site-packages\\ipykernel_launcher.py:56: RuntimeWarning: invalid value encountered in greater\n",
      "d:\\Anaconda3\\lib\\site-packages\\ipykernel_launcher.py:57: RuntimeWarning: invalid value encountered in greater\n",
      "d:\\Anaconda3\\lib\\site-packages\\ipykernel_launcher.py:66: RuntimeWarning: invalid value encountered in greater\n",
      "d:\\Anaconda3\\lib\\site-packages\\ipykernel_launcher.py:70: RuntimeWarning: invalid value encountered in greater\n"
     ]
    },
    {
     "name": "stdout",
     "output_type": "stream",
     "text": [
      "eth.usd.td\n",
      "Wall time: 2h 10min 20s\n"
     ]
    }
   ],
   "source": [
    "%%time\n",
    "for product in product_list[0:2]:\n",
    "    print(product)\n",
    "    get_signal_pnl_contract(good_night_files=all_dates[train_sample], setName=\"train\", product=product, signal_name=strat, thre_mat=close_thre_list[product]);\n",
    "    get_signal_pnl_contract(good_night_files=all_dates[test_sample], setName=\"test\", product=product, signal_name=strat, thre_mat=close_thre_list[product]);\n",
    "\n",
    "# eth.usd.td\n",
    "# Wall time: 2h 10min 20s\n"
   ]
  },
  {
   "cell_type": "markdown",
   "metadata": {},
   "source": [
    "- then we can select good signals from training samples"
   ]
  },
  {
   "cell_type": "code",
   "execution_count": 222,
   "metadata": {},
   "outputs": [],
   "source": [
    "train_stat_list = dict([])\n",
    "for product in product_list[:2]:\n",
    "    train_stat = OrderedDict([(\"final.result\", None), (\"daily.ret\", None)])\n",
    "    (result, daily_pnl, daily_ret) = load(SAVE_PATH+\"/medium strat/\"+product+\"/\"+strat+\"/\"+\"train\"+\".pkl\")\n",
    "    train_stat[\"final.result\"] = result\n",
    "    train_stat[\"daily.ret\"] = daily_ret\n",
    "    train_stat_list[product] = train_stat"
   ]
  },
  {
   "cell_type": "code",
   "execution_count": 223,
   "metadata": {},
   "outputs": [],
   "source": [
    "test_stat_list = dict([])\n",
    "for product in product_list[:2]:\n",
    "    test_stat = OrderedDict([(\"final.result\", None), (\"daily.ret\", None)])\n",
    "    (result, daily_pnl,daily_ret) = load(SAVE_PATH+\"/medium strat/\"+product+\"/\"+strat+\"/\"+\"test\"+\".pkl\")\n",
    "    test_stat[\"final.result\"] = result\n",
    "    test_stat[\"daily.ret\"] = daily_ret\n",
    "    test_stat_list[product] = test_stat"
   ]
  },
  {
   "cell_type": "code",
   "execution_count": 225,
   "metadata": {},
   "outputs": [],
   "source": [
    "test_stat = test_stat_list[product]\n",
    "test_pnl = test_stat[\"daily.ret\"][:, good_strat].sum(axis=1)/sum(good_strat)"
   ]
  },
  {
   "cell_type": "code",
   "execution_count": 226,
   "metadata": {
    "scrolled": true
   },
   "outputs": [
    {
     "name": "stdout",
     "output_type": "stream",
     "text": [
      "btc.usd.td train sharpe  1.2342050981815362 test sharpe  1.6856276424175733\n",
      "eth.usd.td train sharpe  2.6842087489460744 test sharpe  -3.1996005302314083\n"
     ]
    }
   ],
   "source": [
    "i = 0\n",
    "test_all_pnl = np.zeros([sum(test_sample), len(product_list[:2])])\n",
    "train_all_pnl = np.zeros([sum(train_sample), len(product_list[:2])])\n",
    "min_pnl = 2\n",
    "min_num = 10\n",
    "for product in product_list[:2]:\n",
    "    spread = product_info[product][\"spread\"]\n",
    "    train_stat = train_stat_list[product]\n",
    "    good_strat = (train_stat[\"final.result\"][\"avg.pnl\"]>min_pnl*spread) & (train_stat[\"final.result\"][\"num\"]>min_num)\n",
    "    train_pnl = train_stat[\"daily.ret\"][:, good_strat].sum(axis=1)/sum(good_strat)\n",
    "    test_stat = test_stat_list[product]\n",
    "    test_pnl = test_stat[\"daily.ret\"][:, good_strat].sum(axis=1)/sum(good_strat)\n",
    "    print(product, \"train sharpe \", sharpe(train_pnl), \"test sharpe \", sharpe(test_pnl))\n",
    "    i = i+1\n",
    "\n",
    "# btc.usd.td train sharpe  1.2342050981815362 test sharpe  1.6856276424175733\n",
    "# eth.usd.td train sharpe  2.6842087489460744 test sharpe  -3.1996005302314083\n",
    "\n"
   ]
  },
  {
   "cell_type": "code",
   "execution_count": 229,
   "metadata": {},
   "outputs": [],
   "source": [
    "n_days = len(all_dates)"
   ]
  },
  {
   "cell_type": "code",
   "execution_count": 230,
   "metadata": {},
   "outputs": [
    {
     "name": "stdout",
     "output_type": "stream",
     "text": [
      "btc.usd.td train sharpe  1.2342050981815362 test sharpe  1.6856276424175733\n",
      "eth.usd.td train sharpe  2.6842087489460744 test sharpe  -3.1996005302314083\n",
      "train sharpe:  2.531483144204246 test sharpe:  0.14570614630466314\n"
     ]
    },
    {
     "data": {
      "image/png": "[encoded data removed]",
      "text/plain": [
       "<Figure size 1152x720 with 1 Axes>"
      ]
     },
     "metadata": {
      "needs_background": "light"
     },
     "output_type": "display_data"
    }
   ],
   "source": [
    "i = 0\n",
    "all_pnl = np.zeros([n_days, len(product_list[:2])])\n",
    "min_pnl = 2\n",
    "min_num = 10\n",
    "for product in product_list[:2]:\n",
    "    spread = product_info[product][\"spread\"]\n",
    "    train_stat = train_stat_list[product]\n",
    "    good_strat = (train_stat[\"final.result\"][\"avg.pnl\"]>min_pnl*spread) & (train_stat[\"final.result\"][\"num\"]>min_num)\n",
    "    train_pnl = train_stat[\"daily.ret\"][:, good_strat].sum(axis=1)/sum(good_strat)\n",
    "    test_stat = test_stat_list[product]\n",
    "    test_pnl = test_stat[\"daily.ret\"][:, good_strat].sum(axis=1)/sum(good_strat)\n",
    "    all_pnl[:len(train_pnl),i] = train_pnl\n",
    "    all_pnl[len(train_pnl):n_days,i] = test_pnl\n",
    "    print(product, \"train sharpe \", sharpe(train_pnl), \"test sharpe \", sharpe(test_pnl))\n",
    "    i = i+1\n",
    "all_portfolio = np.array(np.mean(all_pnl, axis=1))\n",
    "train_portfolio = all_portfolio[train_sample]\n",
    "test_portfolio = all_portfolio[test_sample]\n",
    "plt.figure(1, figsize=(16, 10));\n",
    "plt.title(\"\");\n",
    "plt.xlabel(\"date\");\n",
    "plt.ylabel(\"pnl\");\n",
    "plt.title(\"portfolio\");\n",
    "plt.plot(format_dates, all_portfolio.cumsum());\n",
    "plt.plot(format_dates[test_sample], all_portfolio.cumsum()[test_sample])\n",
    "print(\"train sharpe: \", sharpe(train_portfolio), \"test sharpe: \", sharpe(test_portfolio))    \n",
    "\n",
    "# btc.usd.td train sharpe  1.2342050981815362 test sharpe  1.6856276424175733\n",
    "# eth.usd.td train sharpe  2.6842087489460744 test sharpe  -3.1996005302314083\n",
    "# train sharpe:  2.531483144204246 test sharpe:  0.14570614630466314\n",
    "\n",
    "\n"
   ]
  },
  {
   "cell_type": "markdown",
   "metadata": {},
   "source": [
    "- we can see that the test result accpetable even though there is a small drawback\n"
   ]
  },
  {
   "cell_type": "code",
   "execution_count": null,
   "metadata": {},
   "outputs": [],
   "source": []
  }
 ],
 "metadata": {
  "kernelspec": {
   "display_name": "Python 3",
   "language": "python",
   "name": "python3"
  },
  "language_info": {
   "codemirror_mode": {
    "name": "ipython",
    "version": 3
   },
   "file_extension": ".py",
   "mimetype": "text/x-python",
   "name": "python",
   "nbconvert_exporter": "python",
   "pygments_lexer": "ipython3",
   "version": "3.7.0"
  }
 },
 "nbformat": 4,
 "nbformat_minor": 2
}
