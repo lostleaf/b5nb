{
 "cells": [
  {
   "cell_type": "markdown",
   "metadata": {},
   "source": [
    "- in our original agenda this week we try different covariance estimation method\n",
    "- but I think we'd better go directly to regression model\n",
    "- then we can save some time for further more complicate machine learning models\n",
    "\n",
    "\n",
    "- this week we focus on the most simple linear regression without regularization"
   ]
  },
  {
   "cell_type": "code",
   "execution_count": 104,
   "metadata": {},
   "outputs": [
    {
     "data": {
      "text/plain": [
       "<function helper.get_daily_pred(file_name, product, signal_list, coef, strat, HEAD_PATH)>"
      ]
     },
     "execution_count": 104,
     "metadata": {},
     "output_type": "execute_result"
    }
   ],
   "source": [
    "from helper import *\n",
    "from stats import *\n",
    "from product_info import *\n",
    "from imp import reload  \n",
    "import helper\n",
    "import stats\n",
    "reload(helper)\n",
    "reload(stats)\n",
    "get_daily_pred\n"
   ]
  },
  {
   "cell_type": "code",
   "execution_count": 105,
   "metadata": {},
   "outputs": [
    {
     "data": {
      "text/plain": [
       "16"
      ]
     },
     "execution_count": 105,
     "metadata": {},
     "output_type": "execute_result"
    }
   ],
   "source": [
    "CORE_NUM = int(os.environ['NUMBER_OF_PROCESSORS'])\n",
    "CORE_NUM"
   ]
  },
  {
   "cell_type": "code",
   "execution_count": 107,
   "metadata": {},
   "outputs": [],
   "source": [
    "product_list = [\"btc.usd.td\", \"eth.usd.td\", \"btc.usdt\", \"eth.usdt\"]"
   ]
  },
  {
   "cell_type": "code",
   "execution_count": 108,
   "metadata": {},
   "outputs": [],
   "source": [
    "period = 4096"
   ]
  },
  {
   "cell_type": "code",
   "execution_count": 109,
   "metadata": {},
   "outputs": [
    {
     "data": {
      "text/plain": [
       "1059"
      ]
     },
     "execution_count": 109,
     "metadata": {},
     "output_type": "execute_result"
    }
   ],
   "source": [
    "import os\n",
    "all_dates = os.listdir(DATA_PATH + product_list[0])\n",
    "all_dates.sort()\n",
    "all_dates = np.array(all_dates)\n",
    "n_days = len(all_dates)\n",
    "n_days\n",
    "## 1059"
   ]
  },
  {
   "cell_type": "code",
   "execution_count": 110,
   "metadata": {},
   "outputs": [],
   "source": [
    "SAVE_PATH = \"e:/intern\"\n",
    "all_dates_x = os.listdir(DATA_PATH + product_list[0])\n",
    "all_dates_y = os.listdir(DATA_PATH + product_list[1])\n",
    "all_dates = np.array(list(set(all_dates_x) & set(all_dates_y)))\n",
    "all_dates.sort()\n",
    "train_sample = all_dates<\"2019-08\"\n",
    "test_sample = all_dates>\"2019-08\"\n",
    "date_str = [n[0:10] for n in all_dates]\n",
    "format_dates = np.array([pd.to_datetime(d) for d in date_str])"
   ]
  },
  {
   "cell_type": "code",
   "execution_count": 111,
   "metadata": {},
   "outputs": [],
   "source": [
    "import dask\n",
    "from dask import compute, delayed\n",
    "import sklearn.preprocessing"
   ]
  },
  {
   "cell_type": "code",
   "execution_count": 112,
   "metadata": {},
   "outputs": [],
   "source": [
    "os.makedirs(HEAD_PATH+\"/all signal\", exist_ok=True)\n",
    "dire_signal_list = [\"nr\", \"dbook\", \"range.pos\", \"price.osci\", \"ma.dif.10\", \"kdj.k\", \"kdj.j\"]\n",
    "range_signal_list = [\"\", \"range\", \"std\", \"trend.index\"]\n",
    "all_signal_list = np.array([])\n",
    "for range_signal in range_signal_list:\n",
    "    for dire_signal in dire_signal_list:\n",
    "        if len(range_signal)==0:\n",
    "            signal_name = dire_signal\n",
    "        else:\n",
    "            signal_name = dire_signal+\".\"+range_signal\n",
    "        all_signal_list = np.append(all_signal_list,signal_name)\n",
    "signal_list = [signal+\".4096\" for signal in all_signal_list]\n",
    "np.append(signal_list, [\"ret.4096\", \"ret.4096.001\", \"ret.4096.002\"])\n",
    "n_signal = len(signal_list)"
   ]
  },
  {
   "cell_type": "code",
   "execution_count": 114,
   "metadata": {},
   "outputs": [],
   "source": [
    "train_sample = all_dates<\"2019-08\"\n",
    "test_sample = all_dates>\"2019-08\"\n",
    "date_str = [n[0:10] for n in all_dates]\n",
    "format_dates = np.array([pd.to_datetime(d) for d in date_str])"
   ]
  },
  {
   "cell_type": "markdown",
   "metadata": {},
   "source": [
    "- let's begin with week 8"
   ]
  },
  {
   "cell_type": "code",
   "execution_count": 115,
   "metadata": {},
   "outputs": [],
   "source": [
    "from sklearn import linear_model\n",
    "from sklearn.model_selection import cross_val_score\n",
    "from sklearn.linear_model import lasso_path, LassoCV, RidgeCV\n",
    "from sklearn.preprocessing import StandardScaler\n",
    "#y_signal = \"ret.\"+str(period)+\".002\"\n",
    "\n",
    "\n",
    "\n"
   ]
  },
  {
   "cell_type": "code",
   "execution_count": 116,
   "metadata": {},
   "outputs": [],
   "source": [
    "product = product_list[0]\n",
    "train_mat = load(HEAD_PATH+\"/train test mat/\"+product+\".train.mat.pkl\")\n",
    "y_signal = \"ret.4096.004\""
   ]
  },
  {
   "cell_type": "code",
   "execution_count": 117,
   "metadata": {},
   "outputs": [
    {
     "name": "stdout",
     "output_type": "stream",
     "text": [
      "btc.usd.td\n",
      "[ 0.00000000e+00  0.00000000e+00  0.00000000e+00 -0.00000000e+00\n",
      " -0.00000000e+00 -0.00000000e+00 -0.00000000e+00  2.68265554e-05\n",
      " -0.00000000e+00 -0.00000000e+00 -0.00000000e+00  0.00000000e+00\n",
      " -0.00000000e+00 -0.00000000e+00  1.95167918e-04  2.38697596e-05\n",
      " -0.00000000e+00 -0.00000000e+00 -0.00000000e+00 -0.00000000e+00\n",
      " -4.32263089e-05 -0.00000000e+00  0.00000000e+00 -0.00000000e+00\n",
      " -0.00000000e+00 -0.00000000e+00 -0.00000000e+00 -0.00000000e+00]\n",
      "eth.usd.td\n",
      "[ 0.00065234 -0.          0.         -0.         -0.03815203 -0.\n",
      " -0.          0.00280568 -0.          0.          0.          0.00193783\n",
      " -0.00013296 -0.00036149  0.00156066  0.          0.00856788  0.\n",
      "  0.         -0.         -0.00175056  0.         -0.         -0.\n",
      " -0.         -0.         -0.         -0.00105104]\n"
     ]
    }
   ],
   "source": [
    "coef_list=dict([])\n",
    "y_signal = \"ret.\"+str(period)\n",
    "for product in product_list[0:2]:\n",
    "    train_mat = load(HEAD_PATH+\"/train test mat/\"+product+\".train.mat.pkl\")\n",
    "    x_train = train_mat.iloc[:, :n_signal].values\n",
    "    y_train = train_mat.loc[:, y_signal].values\n",
    "    scaler =  StandardScaler(copy=True, with_mean=False, with_std=True)\n",
    "    scaler.fit(x_train)\n",
    "    x_std = np.sqrt(scaler.var_)\n",
    "    x_train_normal = scaler.transform(x_train)\n",
    "    y_std = np.std(y_train)\n",
    "    model = LassoCV(n_alphas=100, fit_intercept=False, cv=5, max_iter=10000).fit(x_train_normal, y_train/y_std)\n",
    "    coef = model.coef_/x_std*y_std\n",
    "    print(product)\n",
    "    print(coef)\n",
    "    coef_list[product] = coef\n",
    "    \n",
    "# btc.usd.td\n",
    "# [ 0.00000000e+00  0.00000000e+00  0.00000000e+00 -0.00000000e+00\n",
    "#  -0.00000000e+00 -0.00000000e+00 -0.00000000e+00  2.68265554e-05\n",
    "#  -0.00000000e+00 -0.00000000e+00 -0.00000000e+00  0.00000000e+00\n",
    "#  -0.00000000e+00 -0.00000000e+00  1.95167918e-04  2.38697596e-05\n",
    "#  -0.00000000e+00 -0.00000000e+00 -0.00000000e+00 -0.00000000e+00\n",
    "#  -4.32263089e-05 -0.00000000e+00  0.00000000e+00 -0.00000000e+00\n",
    "#  -0.00000000e+00 -0.00000000e+00 -0.00000000e+00 -0.00000000e+00]\n",
    "# eth.usd.td\n",
    "# [ 0.00065234 -0.          0.         -0.         -0.03815203 -0.\n",
    "#  -0.          0.00280568 -0.          0.          0.          0.00193783\n",
    "#  -0.00013296 -0.00036149  0.00156066  0.          0.00856788  0.\n",
    "#   0.         -0.         -0.00175056  0.         -0.         -0.\n",
    "#  -0.         -0.         -0.         -0.00105104]"
   ]
  },
  {
   "cell_type": "markdown",
   "metadata": {},
   "source": [
    "- it seems the result is too bad"
   ]
  },
  {
   "cell_type": "code",
   "execution_count": 118,
   "metadata": {},
   "outputs": [
    {
     "name": "stdout",
     "output_type": "stream",
     "text": [
      "btc.usd.td\n",
      "[ 0.00000000e+00  1.34008554e-03  7.15451197e-05 -0.00000000e+00\n",
      " -0.00000000e+00  0.00000000e+00 -0.00000000e+00  2.07077811e-06\n",
      " -0.00000000e+00  0.00000000e+00 -0.00000000e+00  2.61555653e-04\n",
      "  0.00000000e+00 -0.00000000e+00  1.20778277e-04  1.93687410e-04\n",
      "  0.00000000e+00 -0.00000000e+00 -0.00000000e+00 -0.00000000e+00\n",
      " -6.95227097e-05  0.00000000e+00  0.00000000e+00 -0.00000000e+00\n",
      " -0.00000000e+00  0.00000000e+00 -0.00000000e+00 -2.26099631e-04]\n",
      "eth.usd.td\n",
      "[ 3.18599420e-03  0.00000000e+00  0.00000000e+00 -0.00000000e+00\n",
      " -5.76361051e-04 -0.00000000e+00 -1.78394900e-04  0.00000000e+00\n",
      " -0.00000000e+00  0.00000000e+00 -0.00000000e+00  0.00000000e+00\n",
      " -5.21677578e-05 -3.31251221e-07  0.00000000e+00  0.00000000e+00\n",
      "  0.00000000e+00 -0.00000000e+00  0.00000000e+00 -0.00000000e+00\n",
      " -0.00000000e+00  0.00000000e+00  0.00000000e+00  0.00000000e+00\n",
      " -0.00000000e+00 -0.00000000e+00 -0.00000000e+00 -1.03792499e-03]\n"
     ]
    }
   ],
   "source": [
    "coef_list=dict([])\n",
    "y_signal = \"ret.\"+str(period)+\".004\"\n",
    "for product in product_list[0:2]:\n",
    "    train_mat = load(HEAD_PATH+\"/train test mat/\"+product+\".train.mat.pkl\")\n",
    "    x_train = train_mat.iloc[:, :n_signal].values\n",
    "    y_train = train_mat.loc[:, y_signal].values\n",
    "    scaler =  StandardScaler(copy=True, with_mean=False, with_std=True)\n",
    "    scaler.fit(x_train)\n",
    "    x_std = np.sqrt(scaler.var_)\n",
    "    x_train_normal = scaler.transform(x_train)\n",
    "    y_std = np.std(y_train)\n",
    "    model = LassoCV(n_alphas=100, fit_intercept=False, cv=5, max_iter=10000).fit(x_train_normal, y_train/y_std)\n",
    "    coef = model.coef_/x_std*y_std\n",
    "    print(product)\n",
    "    print(coef)\n",
    "    coef_list[product] = coef\n",
    "\n",
    "# btc.usd.td\n",
    "# [ 0.00000000e+00  1.34008554e-03  7.15451197e-05 -0.00000000e+00\n",
    "#  -0.00000000e+00  0.00000000e+00 -0.00000000e+00  2.07077811e-06\n",
    "#  -0.00000000e+00  0.00000000e+00 -0.00000000e+00  2.61555653e-04\n",
    "#   0.00000000e+00 -0.00000000e+00  1.20778277e-04  1.93687410e-04\n",
    "#   0.00000000e+00 -0.00000000e+00 -0.00000000e+00 -0.00000000e+00\n",
    "#  -6.95227097e-05  0.00000000e+00  0.00000000e+00 -0.00000000e+00\n",
    "#  -0.00000000e+00  0.00000000e+00 -0.00000000e+00 -2.26099631e-04]\n",
    "# eth.usd.td\n",
    "# [ 3.18599420e-03  0.00000000e+00  0.00000000e+00 -0.00000000e+00\n",
    "#  -5.76361051e-04 -0.00000000e+00 -1.78394900e-04  0.00000000e+00\n",
    "#  -0.00000000e+00  0.00000000e+00 -0.00000000e+00  0.00000000e+00\n",
    "#  -5.21677578e-05 -3.31251221e-07  0.00000000e+00  0.00000000e+00\n",
    "#   0.00000000e+00 -0.00000000e+00  0.00000000e+00 -0.00000000e+00\n",
    "#  -0.00000000e+00  0.00000000e+00  0.00000000e+00  0.00000000e+00\n",
    "#  -0.00000000e+00 -0.00000000e+00 -0.00000000e+00 -1.03792499e-03]\n"
   ]
  },
  {
   "cell_type": "code",
   "execution_count": 119,
   "metadata": {},
   "outputs": [],
   "source": [
    "SAVE_PATH = \"e:/intern\""
   ]
  },
  {
   "cell_type": "code",
   "execution_count": 120,
   "metadata": {},
   "outputs": [],
   "source": [
    "save(coef_list, SAVE_PATH+\"/coef.ret.4096.004.pkl\")"
   ]
  },
  {
   "cell_type": "markdown",
   "metadata": {},
   "source": [
    "- we can see that the result is not good"
   ]
  },
  {
   "cell_type": "markdown",
   "metadata": {},
   "source": [
    "- it's still not good. So we cannot use lasso model"
   ]
  },
  {
   "cell_type": "code",
   "execution_count": 121,
   "metadata": {},
   "outputs": [],
   "source": [
    "def par_get_signal_mat(file_name, product, signal_list, HEAD_PATH, SAVE_PATH):\n",
    "    data = load(HEAD_PATH+\"/pkl tick/\"+product+\"/\"+file_name)\n",
    "    signal_mat = functools.reduce(functools.partial(get_signal_mat, product=product, file_name=file_name, HEAD_PATH=SAVE_PATH), signal_list, None)\n",
    "    save(signal_mat, SAVE_PATH+\"/signal mat pkl/\"+product+\"/\"+file_name)"
   ]
  },
  {
   "cell_type": "code",
   "execution_count": 122,
   "metadata": {},
   "outputs": [],
   "source": [
    "def par_get_daily_pred(file_name, product, coef, strat, HEAD_PATH):\n",
    "    signal_mat = load(HEAD_PATH+\"/signal mat pkl/\"+product+\"/\"+file_name)\n",
    "    S = np.dot(signal_mat.transpose(),coef)\n",
    "    save(S, HEAD_PATH+\"/tmp pkl/\"+product+\"/\"+strat+\"/\"+file_name)      \n"
   ]
  },
  {
   "cell_type": "markdown",
   "metadata": {},
   "source": [
    "\n",
    "- now let's try lasso regression"
   ]
  },
  {
   "cell_type": "code",
   "execution_count": 123,
   "metadata": {},
   "outputs": [],
   "source": [
    "strat = \"lasso.004.\"+str(period)\n",
    "for product in product_list:\n",
    "    os.makedirs(\"e:/intern\"+\"/tmp pkl/\"+product+\"/\"+strat, exist_ok=True)"
   ]
  },
  {
   "cell_type": "code",
   "execution_count": 124,
   "metadata": {},
   "outputs": [],
   "source": [
    "coef_list = load(SAVE_PATH+\"/coef.ret.4096.004.pkl\")"
   ]
  },
  {
   "cell_type": "code",
   "execution_count": 27,
   "metadata": {},
   "outputs": [],
   "source": [
    "## good are MA,ZC"
   ]
  },
  {
   "cell_type": "code",
   "execution_count": 125,
   "metadata": {},
   "outputs": [],
   "source": [
    "for product in product_list[:2]:\n",
    "    os.makedirs(\"e:/intern\"+\"/tmp pkl/\"+product+\"/\"+strat, exist_ok=True)"
   ]
  },
  {
   "cell_type": "code",
   "execution_count": 126,
   "metadata": {},
   "outputs": [],
   "source": [
    "os.makedirs(\"e:/intern\"+\"/signal mat pkl\", exist_ok=True)\n",
    "for product in product_list[:2]:\n",
    "    os.makedirs(\"e:/intern\"+\"/signal mat pkl/\"+product, exist_ok=True)"
   ]
  },
  {
   "cell_type": "code",
   "execution_count": 127,
   "metadata": {},
   "outputs": [
    {
     "name": "stdout",
     "output_type": "stream",
     "text": [
      "btc.usd.td\n",
      "eth.usd.td\n",
      "Wall time: 8min 42s\n"
     ]
    }
   ],
   "source": [
    "%%time\n",
    "for product in product_list[0:2]:\n",
    "    print(product)\n",
    "    parLapply(CORE_NUM, all_dates, par_get_signal_mat, product=product, signal_list=signal_list, HEAD_PATH=HEAD_PATH, SAVE_PATH=SAVE_PATH)\n",
    "    \n",
    "# btc.usd.td\n",
    "# eth.usd.td\n",
    "# Wall time: 8min 42s\n",
    "\n",
    "\n",
    "\n"
   ]
  },
  {
   "cell_type": "code",
   "execution_count": 128,
   "metadata": {},
   "outputs": [
    {
     "name": "stdout",
     "output_type": "stream",
     "text": [
      "btc.usd.td\n",
      "eth.usd.td\n",
      "Wall time: 33.1 s\n"
     ]
    }
   ],
   "source": [
    "%%time\n",
    "for product in product_list[0:2]:\n",
    "    print(product)\n",
    "    coef = coef_list[product]\n",
    "    parLapply(CORE_NUM, all_dates, par_get_daily_pred, \n",
    "              product=product, coef=coef, strat=strat, HEAD_PATH=\"e:/intern\")\n",
    "\n",
    "# btc.usd.td\n",
    "# eth.usd.td\n",
    "# Wall time: 33.1 s\n"
   ]
  },
  {
   "cell_type": "code",
   "execution_count": 129,
   "metadata": {},
   "outputs": [
    {
     "name": "stdout",
     "output_type": "stream",
     "text": [
      "Wall time: 22.9 s\n"
     ]
    }
   ],
   "source": [
    "%%time\n",
    "for product in product_list[0:2]:\n",
    "    par_get_all_signal(strat, all_dates, product, 4096, SAVE_PATH=\"e:/intern\")\n",
    "\n",
    "## Wall time: 22.9 s\n"
   ]
  },
  {
   "cell_type": "code",
   "execution_count": 139,
   "metadata": {},
   "outputs": [
    {
     "name": "stdout",
     "output_type": "stream",
     "text": [
      "reverse=1\n",
      "reverse=1\n",
      "Wall time: 4min 21s\n"
     ]
    }
   ],
   "source": [
    "%%time\n",
    "for product in product_list[0:2]:\n",
    "    spread = product_info[product][\"spread\"]\n",
    "    tranct = product_info[product][\"tranct\"]\n",
    "    tranct_ratio = product_info[product][\"tranct.ratio\"]\n",
    "    evaluate_signal(\"lasso.004\", all_dates, product, 2/spread, 20, \n",
    "                    CORE_NUM, HEAD_PATH, SAVE_PATH, period=4096, split_str=\"2019-08\", tranct=tranct, \n",
    "                    max_spread=spread*1.1, tranct_ratio=tranct_ratio, atr_filter=20/spread, save_path=\"signal result atr\",reverse=1)\n",
    "\n",
    "# reverse=1\n",
    "# reverse=1\n",
    "# Wall time: 4min 21s\n"
   ]
  },
  {
   "cell_type": "code",
   "execution_count": 140,
   "metadata": {},
   "outputs": [
    {
     "name": "stdout",
     "output_type": "stream",
     "text": [
      "btc.usd.td train sharpe  1.9947577477580274 test sharpe  2.5970644747614204\n",
      "eth.usd.td train sharpe  1.8983635762340487 test sharpe  0.915109681239281\n",
      "train sharpe:  2.2215612577122523 test sharpe:  2.449891311205896\n"
     ]
    },
    {
     "data": {
      "image/png": "[encoded data removed]",
      "text/plain": [
       "<Figure size 1152x720 with 1 Axes>"
      ]
     },
     "metadata": {
      "needs_background": "light"
     },
     "output_type": "display_data"
    }
   ],
   "source": [
    "i = 0\n",
    "strat = \"lasso.004.4096\"\n",
    "test_all_pnl = np.zeros([sum(test_sample), 4])\n",
    "train_all_pnl = np.zeros([sum(train_sample), 4])\n",
    "min_pnl = 10\n",
    "min_num = 10\n",
    "for product in product_list[0:2]:\n",
    "    spread = product_info[product][\"spread\"]\n",
    "    signal_stat = load(HEAD_PATH+\"/signal result atr/\"+product+\".\"+strat+\".trend.pkl\")\n",
    "    train_stat = signal_stat[\"train.stat\"]\n",
    "    good_strat = (train_stat[\"final.result\"][\"avg.pnl\"]>min_pnl*spread) & (train_stat[\"final.result\"][\"num\"]>min_num)\n",
    "    train_pnl = train_stat[\"daily.ret\"].loc[:, good_strat].sum(axis=1)/sum(good_strat)\n",
    "    test_stat = signal_stat[\"test.stat\"]\n",
    "    test_pnl = test_stat[\"daily.ret\"].loc[:, good_strat].sum(axis=1)/sum(good_strat)\n",
    "    print(product, \"train sharpe \", sharpe(train_pnl), \"test sharpe \", sharpe(test_pnl))\n",
    "    test_all_pnl[:,i] = test_pnl\n",
    "    train_all_pnl[:,i] = train_pnl\n",
    "    i = i+1\n",
    "train_portfolio = np.array(np.mean(train_all_pnl, axis=1))\n",
    "test_portfolio = np.array(np.mean(test_all_pnl, axis=1))\n",
    "all_portfolio = np.append(train_portfolio, test_portfolio)\n",
    "plt.figure(1, figsize=(16, 10));\n",
    "plt.title(\"\");\n",
    "plt.xlabel(\"date\");\n",
    "plt.ylabel(\"pnl\");\n",
    "plt.title(\"portfolio\");\n",
    "plt.plot(format_dates, all_portfolio.cumsum());\n",
    "plt.plot(format_dates[test_sample], all_portfolio.cumsum()[test_sample])\n",
    "print(\"train sharpe: \", sharpe(train_portfolio), \"test sharpe: \", sharpe(test_portfolio))    \n",
    "\n",
    "# btc.usd.td train sharpe  1.9947577477580274 test sharpe  2.5970644747614204\n",
    "# eth.usd.td train sharpe  1.8983635762340487 test sharpe  0.915109681239281\n",
    "# train sharpe:  2.2215612577122523 test sharpe:  2.449891311205896\n",
    "\n",
    "\n"
   ]
  },
  {
   "cell_type": "markdown",
   "metadata": {},
   "source": [
    "- The result is not good\n",
    "- Now we go to ridge"
   ]
  },
  {
   "cell_type": "code",
   "execution_count": 134,
   "metadata": {},
   "outputs": [
    {
     "name": "stdout",
     "output_type": "stream",
     "text": [
      "btc.usd.td\n",
      "[ 2.42061396e-03  6.48391728e-03  6.92423055e-03 -1.92154730e-05\n",
      " -3.97781233e-02  7.93020996e-04 -2.05602380e-03 -2.89105049e-05\n",
      " -3.43527336e-04  4.54757653e-05 -1.09551074e-06  3.70549599e-04\n",
      "  1.31810644e-05 -2.18140618e-05  3.40615936e-04  1.16043438e-03\n",
      " -2.04504364e-05 -5.73677725e-05  3.90730599e-04  5.51580968e-06\n",
      " -8.08675178e-05 -1.64833465e-03  1.02243306e-03 -8.71656354e-03\n",
      " -3.20042880e-05  6.87185785e-02 -1.58688525e-03  2.71981921e-03]\n",
      "eth.usd.td\n",
      "[ 1.18368119e-02 -2.09542800e-03  2.26411135e-03  7.30532555e-04\n",
      " -1.88065491e-01  3.03893815e-04 -1.05106169e-03  2.11890219e-03\n",
      " -1.18692596e-02  1.38401221e-04 -1.34563640e-04  2.38134286e-03\n",
      " -6.75090236e-04  9.95406286e-05 -3.23159094e-03  3.06485871e-02\n",
      "  5.94116106e-03  1.50343793e-03 -5.32115924e-03  5.86698563e-04\n",
      " -1.97589445e-03 -1.11715001e-02  1.90447310e-02  5.24666859e-03\n",
      " -2.22259762e-03  2.19131496e-01  1.29699182e-03 -3.10210715e-03]\n"
     ]
    }
   ],
   "source": [
    "coef_list=dict([])\n",
    "y_signal= \"ret.\" + str(period)+\".004\"\n",
    "for product in product_list[0:2]:\n",
    "    train_mat = load(HEAD_PATH+\"/train test mat/\"+product+\".train.mat.pkl\")\n",
    "    x_train = train_mat.iloc[:, :n_signal].values\n",
    "    y_train = train_mat.loc[:, y_signal].values\n",
    "    scaler =  StandardScaler(copy=True, with_mean=False, with_std=True)\n",
    "    scaler.fit(x_train)\n",
    "    x_std = np.sqrt(scaler.var_)\n",
    "    y_std = np.std(y_train)\n",
    "    x_train_normal = scaler.transform(x_train)\n",
    "    model = RidgeCV(fit_intercept=False, cv=5).fit(x_train_normal, y_train/y_std)\n",
    "    coef = model.coef_/x_std*y_std\n",
    "    print(product)\n",
    "    print(coef)\n",
    "    coef_list[product] = coef\n",
    "\n",
    "# btc.usd.td\n",
    "# [ 2.42061396e-03  6.48391728e-03  6.92423055e-03 -1.92154730e-05\n",
    "#  -3.97781233e-02  7.93020996e-04 -2.05602380e-03 -2.89105049e-05\n",
    "#  -3.43527336e-04  4.54757653e-05 -1.09551074e-06  3.70549599e-04\n",
    "#   1.31810644e-05 -2.18140618e-05  3.40615936e-04  1.16043438e-03\n",
    "#  -2.04504364e-05 -5.73677725e-05  3.90730599e-04  5.51580968e-06\n",
    "#  -8.08675178e-05 -1.64833465e-03  1.02243306e-03 -8.71656354e-03\n",
    "#  -3.20042880e-05  6.87185785e-02 -1.58688525e-03  2.71981921e-03]\n",
    "# eth.usd.td\n",
    "# [ 1.18368119e-02 -2.09542800e-03  2.26411135e-03  7.30532555e-04\n",
    "#  -1.88065491e-01  3.03893815e-04 -1.05106169e-03  2.11890219e-03\n",
    "#  -1.18692596e-02  1.38401221e-04 -1.34563640e-04  2.38134286e-03\n",
    "#  -6.75090236e-04  9.95406286e-05 -3.23159094e-03  3.06485871e-02\n",
    "#   5.94116106e-03  1.50343793e-03 -5.32115924e-03  5.86698563e-04\n",
    "#  -1.97589445e-03 -1.11715001e-02  1.90447310e-02  5.24666859e-03\n",
    "#  -2.22259762e-03  2.19131496e-01  1.29699182e-03 -3.10210715e-03]\n"
   ]
  },
  {
   "cell_type": "code",
   "execution_count": 135,
   "metadata": {},
   "outputs": [],
   "source": [
    "save(coef_list, SAVE_PATH+\"/coef.ridge.004.pkl\")"
   ]
  },
  {
   "cell_type": "code",
   "execution_count": 136,
   "metadata": {},
   "outputs": [],
   "source": [
    "strat = \"ridge.004.\"+str(period)\n",
    "for product in product_list:\n",
    "    os.makedirs(\"e:/intern\"+\"/tmp pkl/\"+product+\"/\"+strat, exist_ok=True)"
   ]
  },
  {
   "cell_type": "code",
   "execution_count": 137,
   "metadata": {},
   "outputs": [
    {
     "name": "stdout",
     "output_type": "stream",
     "text": [
      "btc.usd.td\n",
      "eth.usd.td\n",
      "Wall time: 31.6 s\n"
     ]
    }
   ],
   "source": [
    "%%time\n",
    "for product in product_list[0:2]:\n",
    "    print(product)\n",
    "    coef = coef_list[product]\n",
    "    parLapply(CORE_NUM, all_dates, par_get_daily_pred, \n",
    "              product=product, coef=coef, strat=strat, HEAD_PATH=\"e:/intern\")\n",
    "\n",
    "# btc.usd.td\n",
    "# eth.usd.td\n",
    "# Wall time: 31.6 s\n"
   ]
  },
  {
   "cell_type": "code",
   "execution_count": 141,
   "metadata": {},
   "outputs": [
    {
     "name": "stdout",
     "output_type": "stream",
     "text": [
      "Wall time: 18.9 s\n"
     ]
    }
   ],
   "source": [
    "%%time\n",
    "for product in product_list[0:2]:\n",
    "    par_get_all_signal(strat, all_dates, product, 4096, SAVE_PATH=\"e:/intern\")\n",
    "    \n",
    "# Wall time: 18.7 s"
   ]
  },
  {
   "cell_type": "code",
   "execution_count": 145,
   "metadata": {},
   "outputs": [
    {
     "name": "stdout",
     "output_type": "stream",
     "text": [
      "reverse=1\n",
      "reverse=1\n",
      "Wall time: 4min 26s\n"
     ]
    }
   ],
   "source": [
    "%%time\n",
    "SAVE_PATH = \"e:/intern\"\n",
    "for product in product_list[0:2]:\n",
    "    spread = product_info[product][\"spread\"]\n",
    "    tranct = product_info[product][\"tranct\"]\n",
    "    tranct_ratio = product_info[product][\"tranct.ratio\"]\n",
    "    evaluate_signal(\"ridge.004\", all_dates, product, 2/spread, 20/spread, \n",
    "                    CORE_NUM, HEAD_PATH, SAVE_PATH, period=4096, split_str=\"2019-08\", tranct=tranct, \n",
    "                    max_spread=spread*1.1, tranct_ratio=tranct_ratio, atr_filter=20/spread, save_path=\"signal result atr\",reverse=1)\n",
    "\n",
    "# reverse=1\n",
    "# reverse=1\n",
    "# Wall time: 4min 26s\n",
    "\n"
   ]
  },
  {
   "cell_type": "code",
   "execution_count": 146,
   "metadata": {},
   "outputs": [
    {
     "name": "stdout",
     "output_type": "stream",
     "text": [
      "btc.usd.td train sharpe  0.41262980449668935 test sharpe  2.3453526530638222\n",
      "eth.usd.td train sharpe  1.6222627662008389 test sharpe  -1.9638773186498046\n",
      "train sharpe:  1.7020421408256936 test sharpe:  1.574418158915555\n"
     ]
    },
    {
     "data": {
      "image/png": "[encoded data removed]",
      "text/plain": [
       "<Figure size 1152x720 with 1 Axes>"
      ]
     },
     "metadata": {
      "needs_background": "light"
     },
     "output_type": "display_data"
    }
   ],
   "source": [
    "i = 0\n",
    "strat = \"ridge.004.4096\"\n",
    "test_all_pnl = np.zeros([sum(test_sample), len(product_list)])\n",
    "train_all_pnl = np.zeros([sum(train_sample), len(product_list)])\n",
    "min_pnl = 2\n",
    "min_num = 10\n",
    "for product in product_list[0:2]:\n",
    "    spread = product_info[product][\"spread\"]\n",
    "    signal_stat = load(HEAD_PATH+\"/signal result atr/\"+product+\".\"+strat+\".trend.pkl\")\n",
    "    train_stat = signal_stat[\"train.stat\"]\n",
    "    good_strat = (train_stat[\"final.result\"][\"avg.pnl\"]>min_pnl*spread) & (train_stat[\"final.result\"][\"num\"]>min_num)\n",
    "    train_pnl = train_stat[\"daily.ret\"].loc[:, good_strat].sum(axis=1)/sum(good_strat)\n",
    "    test_stat = signal_stat[\"test.stat\"]\n",
    "    test_pnl = test_stat[\"daily.ret\"].loc[:, good_strat].sum(axis=1)/sum(good_strat)\n",
    "    print(product, \"train sharpe \", sharpe(train_pnl), \"test sharpe \", sharpe(test_pnl))\n",
    "    test_all_pnl[:,i] = test_pnl\n",
    "    train_all_pnl[:,i] = train_pnl\n",
    "    i = i+1\n",
    "train_portfolio = np.array(np.mean(train_all_pnl, axis=1))\n",
    "test_portfolio = np.array(np.mean(test_all_pnl, axis=1))\n",
    "all_portfolio = np.append(train_portfolio, test_portfolio)\n",
    "plt.figure(1, figsize=(16, 10));\n",
    "plt.title(\"\");\n",
    "plt.xlabel(\"date\");\n",
    "plt.ylabel(\"pnl\");\n",
    "plt.title(\"portfolio\");\n",
    "plt.plot(format_dates, all_portfolio.cumsum());\n",
    "plt.plot(format_dates[test_sample], all_portfolio.cumsum()[test_sample])\n",
    "print(\"train sharpe: \", sharpe(train_portfolio), \"test sharpe: \", sharpe(test_portfolio))    \n",
    "\n",
    "# btc.usd.td train sharpe  0.41262980449668935 test sharpe  2.3453526530638222\n",
    "# eth.usd.td train sharpe  1.6222627662008389 test sharpe  -1.9638773186498046\n",
    "# train sharpe:  1.7020421408256936 test sharpe:  1.574418158915555\n",
    "\n",
    "\n"
   ]
  },
  {
   "cell_type": "code",
   "execution_count": 147,
   "metadata": {},
   "outputs": [],
   "source": [
    "from sklearn.linear_model import ElasticNetCV"
   ]
  },
  {
   "cell_type": "code",
   "execution_count": 148,
   "metadata": {},
   "outputs": [],
   "source": [
    "strat = \"elastic.004.\"+str(period)"
   ]
  },
  {
   "cell_type": "code",
   "execution_count": 149,
   "metadata": {},
   "outputs": [],
   "source": [
    "for product in product_list:\n",
    "    os.makedirs(SAVE_PATH+\"/tmp pkl/\"+product+\"/\"+strat, exist_ok=True)"
   ]
  },
  {
   "cell_type": "code",
   "execution_count": 152,
   "metadata": {},
   "outputs": [
    {
     "name": "stdout",
     "output_type": "stream",
     "text": [
      "btc.usd.td\n",
      "[ 0.00000000e+00  8.71477075e-04  0.00000000e+00 -0.00000000e+00\n",
      " -0.00000000e+00  0.00000000e+00 -0.00000000e+00  1.04877607e-05\n",
      " -0.00000000e+00  0.00000000e+00 -0.00000000e+00  2.28794761e-04\n",
      "  0.00000000e+00 -0.00000000e+00  7.41657182e-05  1.98431599e-04\n",
      " -0.00000000e+00 -0.00000000e+00 -0.00000000e+00 -0.00000000e+00\n",
      " -6.25347815e-05  0.00000000e+00  0.00000000e+00 -0.00000000e+00\n",
      " -0.00000000e+00  0.00000000e+00 -0.00000000e+00 -1.96989007e-04]\n",
      "eth.usd.td\n",
      "[ 4.57421527e-03  0.00000000e+00  0.00000000e+00 -0.00000000e+00\n",
      " -3.23390145e-03 -0.00000000e+00 -3.27244609e-04  0.00000000e+00\n",
      " -0.00000000e+00  0.00000000e+00 -0.00000000e+00  0.00000000e+00\n",
      " -6.66618077e-05 -9.28860569e-05  7.31155657e-05  0.00000000e+00\n",
      "  1.19181327e-03  0.00000000e+00  0.00000000e+00 -0.00000000e+00\n",
      " -0.00000000e+00  0.00000000e+00  0.00000000e+00  0.00000000e+00\n",
      " -1.55635644e-04 -0.00000000e+00 -0.00000000e+00 -9.73884417e-04]\n"
     ]
    }
   ],
   "source": [
    "coef_list=dict([])\n",
    "y_signal= \"ret.\" + str(period)+\".004\"\n",
    "for product in product_list[0:2]:\n",
    "    train_mat = load(HEAD_PATH+\"/train test mat/\"+product+\".train.mat.pkl\")\n",
    "    x_train = train_mat.iloc[:, :n_signal].values\n",
    "    y_train = train_mat.loc[:, y_signal].values\n",
    "    scaler =  StandardScaler(copy=True, with_mean=False, with_std=True)\n",
    "    scaler.fit(x_train)\n",
    "    x_std = np.sqrt(scaler.var_)\n",
    "    y_std = np.std(y_train)\n",
    "    x_train_normal = scaler.transform(x_train)\n",
    "    model = ElasticNetCV(n_alphas=100, l1_ratio=0.5, fit_intercept=False, cv=5, max_iter=10000).fit(x_train_normal, y_train/y_std)\n",
    "    coef = model.coef_/x_std*y_std\n",
    "    print(product)\n",
    "    print(coef)\n",
    "    coef_list[product] = coef\n",
    "\n",
    "# btc.usd.td\n",
    "# [ 0.00000000e+00  8.71477075e-04  0.00000000e+00 -0.00000000e+00\n",
    "#  -0.00000000e+00  0.00000000e+00 -0.00000000e+00  1.04877607e-05\n",
    "#  -0.00000000e+00  0.00000000e+00 -0.00000000e+00  2.28794761e-04\n",
    "#   0.00000000e+00 -0.00000000e+00  7.41657182e-05  1.98431599e-04\n",
    "#  -0.00000000e+00 -0.00000000e+00 -0.00000000e+00 -0.00000000e+00\n",
    "#  -6.25347815e-05  0.00000000e+00  0.00000000e+00 -0.00000000e+00\n",
    "#  -0.00000000e+00  0.00000000e+00 -0.00000000e+00 -1.96989007e-04]\n",
    "# eth.usd.td\n",
    "# [ 4.57421527e-03  0.00000000e+00  0.00000000e+00 -0.00000000e+00\n",
    "#  -3.23390145e-03 -0.00000000e+00 -3.27244609e-04  0.00000000e+00\n",
    "#  -0.00000000e+00  0.00000000e+00 -0.00000000e+00  0.00000000e+00\n",
    "#  -6.66618077e-05 -9.28860569e-05  7.31155657e-05  0.00000000e+00\n",
    "#   1.19181327e-03  0.00000000e+00  0.00000000e+00 -0.00000000e+00\n",
    "#  -0.00000000e+00  0.00000000e+00  0.00000000e+00  0.00000000e+00\n",
    "#  -1.55635644e-04 -0.00000000e+00 -0.00000000e+00 -9.73884417e-04]"
   ]
  },
  {
   "cell_type": "code",
   "execution_count": 153,
   "metadata": {},
   "outputs": [],
   "source": [
    "save(coef_list, SAVE_PATH+\"/coef.elastic.004.pkl\")"
   ]
  },
  {
   "cell_type": "code",
   "execution_count": 154,
   "metadata": {},
   "outputs": [],
   "source": [
    "strat = \"elastic.004.\"+str(period)\n",
    "for product in product_list[0:2]:\n",
    "    os.makedirs(\"e:/intern\"+\"/tmp pkl/\"+product+\"/\"+strat, exist_ok=True)"
   ]
  },
  {
   "cell_type": "code",
   "execution_count": 155,
   "metadata": {},
   "outputs": [
    {
     "name": "stdout",
     "output_type": "stream",
     "text": [
      "btc.usd.td\n",
      "eth.usd.td\n",
      "Wall time: 31.4 s\n"
     ]
    }
   ],
   "source": [
    "%%time\n",
    "for product in product_list[0:2]:\n",
    "    print(product)\n",
    "    coef = coef_list[product]\n",
    "    parLapply(CORE_NUM, all_dates, par_get_daily_pred, \n",
    "              product=product, coef=coef, strat=strat, HEAD_PATH=\"e:/intern\")\n",
    "    \n",
    "# btc.usd.td\n",
    "# eth.usd.td\n",
    "# Wall time: 31.4 s\n",
    "\n"
   ]
  },
  {
   "cell_type": "code",
   "execution_count": 156,
   "metadata": {},
   "outputs": [
    {
     "name": "stdout",
     "output_type": "stream",
     "text": [
      "Wall time: 18.9 s\n"
     ]
    }
   ],
   "source": [
    "%%time\n",
    "for product in product_list[0:2]:\n",
    "    par_get_all_signal(strat, all_dates, product, 4096, SAVE_PATH=\"e:/intern\")\n",
    "    \n",
    "# Wall time: 18.9 s\n"
   ]
  },
  {
   "cell_type": "code",
   "execution_count": 158,
   "metadata": {},
   "outputs": [
    {
     "name": "stdout",
     "output_type": "stream",
     "text": [
      "reverse=1\n",
      "reverse=1\n",
      "Wall time: 4min 39s\n"
     ]
    }
   ],
   "source": [
    "%%time\n",
    "SAVE_PATH = \"e:/intern\"\n",
    "for product in product_list[0:2]:\n",
    "    spread = product_info[product][\"spread\"]\n",
    "    tranct = product_info[product][\"tranct\"]\n",
    "    tranct_ratio = product_info[product][\"tranct.ratio\"]\n",
    "    evaluate_signal(\"elastic.004\", all_dates, product, 2/spread, 20, \n",
    "                    CORE_NUM, HEAD_PATH, SAVE_PATH, period=4096, split_str=\"2019-08\", tranct=tranct, \n",
    "                    max_spread=spread*1.1, tranct_ratio=tranct_ratio, atr_filter=20/spread, save_path=\"signal result atr\",reverse=1)\n",
    "    \n",
    "# reverse=1\n",
    "# reverse=1\n",
    "# Wall time: 4min 39s\n",
    "\n"
   ]
  },
  {
   "cell_type": "code",
   "execution_count": 159,
   "metadata": {},
   "outputs": [
    {
     "name": "stdout",
     "output_type": "stream",
     "text": [
      "btc.usd.td train sharpe  2.347117299669759 test sharpe  2.3906379881234656\n",
      "eth.usd.td train sharpe  2.154755614125246 test sharpe  1.3275573615797207\n",
      "train sharpe:  2.6003971620018316 test sharpe:  2.2497581529684783\n"
     ]
    },
    {
     "data": {
      "image/png": "[encoded data removed]",
      "text/plain": [
       "<Figure size 1152x720 with 1 Axes>"
      ]
     },
     "metadata": {
      "needs_background": "light"
     },
     "output_type": "display_data"
    }
   ],
   "source": [
    "i = 0\n",
    "strat = \"elastic.004.4096\"\n",
    "test_all_pnl = np.zeros([sum(test_sample), 4])\n",
    "train_all_pnl = np.zeros([sum(train_sample), 4])\n",
    "min_pnl = 4\n",
    "min_num = 10\n",
    "for product in product_list[:2]:\n",
    "    spread = product_info[product][\"spread\"]\n",
    "    signal_stat = load(HEAD_PATH+\"/signal result atr/\"+product+\".\"+strat+\".trend.pkl\")\n",
    "    train_stat = signal_stat[\"train.stat\"]\n",
    "    good_strat = (train_stat[\"final.result\"][\"avg.pnl\"]>min_pnl*spread) & (train_stat[\"final.result\"][\"num\"]>min_num)\n",
    "    train_pnl = train_stat[\"daily.ret\"].loc[:, good_strat].sum(axis=1)/sum(good_strat)\n",
    "    test_stat = signal_stat[\"test.stat\"]\n",
    "    test_pnl = test_stat[\"daily.ret\"].loc[:, good_strat].sum(axis=1)/sum(good_strat)\n",
    "    print(product, \"train sharpe \", sharpe(train_pnl), \"test sharpe \", sharpe(test_pnl))\n",
    "    test_all_pnl[:,i] = test_pnl\n",
    "    train_all_pnl[:,i] = train_pnl\n",
    "    i = i+1\n",
    "train_portfolio = np.array(np.mean(train_all_pnl, axis=1))\n",
    "test_portfolio = np.array(np.mean(test_all_pnl, axis=1))\n",
    "all_portfolio = np.append(train_portfolio, test_portfolio)\n",
    "plt.figure(1, figsize=(16, 10));\n",
    "plt.title(\"\");\n",
    "plt.xlabel(\"date\");\n",
    "plt.ylabel(\"pnl\");\n",
    "plt.title(\"portfolio\");\n",
    "plt.plot(format_dates, all_portfolio.cumsum());\n",
    "plt.plot(format_dates[test_sample], all_portfolio.cumsum()[test_sample])\n",
    "print(\"train sharpe: \", sharpe(train_portfolio), \"test sharpe: \", sharpe(test_portfolio))   \n",
    "\n",
    "# btc.usd.td train sharpe  2.347117299669759 test sharpe  2.3906379881234656\n",
    "# eth.usd.td train sharpe  2.154755614125246 test sharpe  1.3275573615797207\n",
    "# train sharpe:  2.6003971620018316 test sharpe:  2.2497581529684783\n",
    "\n"
   ]
  },
  {
   "cell_type": "markdown",
   "metadata": {},
   "source": [
    "- output to txt file"
   ]
  },
  {
   "cell_type": "code",
   "execution_count": 126,
   "metadata": {},
   "outputs": [],
   "source": [
    "os.makedirs(\"d:/intern/input\", exist_ok=True)\n",
    "np.set_printoptions(suppress=True)"
   ]
  },
  {
   "cell_type": "code",
   "execution_count": 127,
   "metadata": {},
   "outputs": [],
   "source": [
    "for product in product_list:\n",
    "    file_name = \"d:/intern/input/\"+product+\".signal.txt\"\n",
    "    fo = open(file_name, \"w\")\n",
    "    fo.writelines(\"signal coef\\n\")\n",
    "    chosen_signal = coef_list[product]!=0\n",
    "    for i in np.where(chosen_signal)[0]:\n",
    "        fo.writelines(signal_list[i]+\" \"+str(coef_list[product][i])+\"\\n\")\n",
    "    fo.close()"
   ]
  },
  {
   "cell_type": "code",
   "execution_count": null,
   "metadata": {},
   "outputs": [],
   "source": []
  }
 ],
 "metadata": {
  "kernelspec": {
   "display_name": "Python 3",
   "language": "python",
   "name": "python3"
  },
  "language_info": {
   "codemirror_mode": {
    "name": "ipython",
    "version": 3
   },
   "file_extension": ".py",
   "mimetype": "text/x-python",
   "name": "python",
   "nbconvert_exporter": "python",
   "pygments_lexer": "ipython3",
   "version": "3.7.0"
  }
 },
 "nbformat": 4,
 "nbformat_minor": 2
}
