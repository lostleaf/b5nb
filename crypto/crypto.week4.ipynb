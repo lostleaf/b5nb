{
 "cells": [
  {
   "cell_type": "markdown",
   "metadata": {},
   "source": [
    "- Welcome to Quantitative and High Frequency Trading Training Program\n"
   ]
  },
  {
   "cell_type": "code",
   "execution_count": 1,
   "metadata": {
    "scrolled": true
   },
   "outputs": [
    {
     "data": {
      "text/plain": [
       "<function helper.par_get_all_signal(signal_name, file_list, product, period, HEAD_PATH='d:/intern', SAVE_PATH='e:/intern', DATA_PATH='d:/intern')>"
      ]
     },
     "execution_count": 1,
     "metadata": {},
     "output_type": "execute_result"
    }
   ],
   "source": [
    "from helper import *\n",
    "from stats import *\n",
    "from imp import reload   \n",
    "import helper\n",
    "import stats\n",
    "reload(helper)\n",
    "reload(stats)\n",
    "par_get_all_signal"
   ]
  },
  {
   "cell_type": "markdown",
   "metadata": {},
   "source": [
    "- number of cores, set this number according to your computer"
   ]
  },
  {
   "cell_type": "code",
   "execution_count": 2,
   "metadata": {},
   "outputs": [
    {
     "data": {
      "text/plain": [
       "16"
      ]
     },
     "execution_count": 2,
     "metadata": {},
     "output_type": "execute_result"
    }
   ],
   "source": [
    "CORE_NUM = int(os.environ['NUMBER_OF_PROCESSORS'])\n",
    "CORE_NUM"
   ]
  },
  {
   "cell_type": "markdown",
   "metadata": {},
   "source": [
    "- sample product, you can change to your specific product symbol"
   ]
  },
  {
   "cell_type": "code",
   "execution_count": 3,
   "metadata": {},
   "outputs": [],
   "source": [
    "product_list = [\"btc.usd.td\", \"eth.usd.td\", \"btc.usdt\", \"eth.usdt\"]"
   ]
  },
  {
   "cell_type": "code",
   "execution_count": 4,
   "metadata": {},
   "outputs": [],
   "source": [
    "import dask\n",
    "from dask import compute, delayed"
   ]
  },
  {
   "cell_type": "markdown",
   "metadata": {},
   "source": [
    "- sample period"
   ]
  },
  {
   "cell_type": "code",
   "execution_count": 5,
   "metadata": {},
   "outputs": [],
   "source": [
    "period = 4096"
   ]
  },
  {
   "cell_type": "code",
   "execution_count": 6,
   "metadata": {},
   "outputs": [
    {
     "data": {
      "text/plain": [
       "1059"
      ]
     },
     "execution_count": 6,
     "metadata": {},
     "output_type": "execute_result"
    }
   ],
   "source": [
    "all_dates = os.listdir(DATA_PATH + product_list[0])\n",
    "all_dates.sort()\n",
    "all_dates = np.array(all_dates)\n",
    "n_days = len(all_dates)\n",
    "n_days"
   ]
  },
  {
   "cell_type": "markdown",
   "metadata": {},
   "source": [
    "- choose an example day"
   ]
  },
  {
   "cell_type": "code",
   "execution_count": 7,
   "metadata": {},
   "outputs": [],
   "source": [
    "train_sample = all_dates<\"2020\"\n",
    "\n",
    "test_sample = all_dates>\"2020\"\n"
   ]
  },
  {
   "cell_type": "code",
   "execution_count": 8,
   "metadata": {},
   "outputs": [],
   "source": [
    "date_str = [n[0:10] for n in all_dates]\n",
    "format_dates = np.array([pd.to_datetime(d) for d in date_str])\n",
    "SAVE_PATH = \"e:/intern\""
   ]
  },
  {
   "cell_type": "markdown",
   "metadata": {},
   "source": [
    "- at last we plot the selected pnl"
   ]
  },
  {
   "cell_type": "markdown",
   "metadata": {},
   "source": [
    "- now we can see that the number of signals are not very big\n",
    "- and the quality is not so good\n",
    "- we can propose a systematic method to generate a large number of signals then\n",
    "- we can choose good ones from them\n",
    "\n",
    "- for example, we can first generate some signals about volatility without direction\n",
    "- there are some ideas about it\n",
    "\n",
    "- standard deviation\n",
    "- range of price\n",
    "- ratio of volume to turnover\n",
    "\n",
    "- then we can generate some signals with direction\n",
    "- actually all of our previous signals have direction\n",
    "- but some of them are good and some of them are bad\n",
    "- we can focus on some good and simple ones, such as\n",
    "\n",
    "- normalized return\n",
    "- rsi\n",
    "- dbook\n",
    "\n",
    "- let's try to generate range signals first"
   ]
  },
  {
   "cell_type": "code",
   "execution_count": 22,
   "metadata": {},
   "outputs": [],
   "source": [
    "## calculate rolling standard deviation\n",
    "from collections import OrderedDict\n",
    "class foctor_std_period(factor_template):\n",
    "    factor_name = \"std.period\"\n",
    "    \n",
    "    params = OrderedDict([\n",
    "        (\"period\", np.power(2, range(10,13)))\n",
    "    ])\n",
    "    \n",
    "    def formula(self, data, period):\n",
    "        return np.sqrt(fast_roll_var(data[\"wpr\"], period))"
   ]
  },
  {
   "cell_type": "code",
   "execution_count": 23,
   "metadata": {},
   "outputs": [],
   "source": [
    "## calcualte rolling variance\n",
    "def fast_roll_var(x, period):\n",
    "      x_ma = cum(x,period)/period ## roling first moment\n",
    "      x2 = x*x\n",
    "      x2_ma = cum(x2,period)/period ## rolling second moment\n",
    "      var_x = x2_ma-x_ma*x_ma ## rolling variance\n",
    "      return(var_x)"
   ]
  },
  {
   "cell_type": "code",
   "execution_count": 24,
   "metadata": {},
   "outputs": [
    {
     "name": "stdout",
     "output_type": "stream",
     "text": [
      "e:/intern/tmp pkl/btc.usd.td/std.1024\n",
      "e:/intern/tmp pkl/btc.usd.td/std.2048\n",
      "e:/intern/tmp pkl/btc.usd.td/std.4096\n",
      "e:/intern/tmp pkl/eth.usd.td/std.1024\n",
      "e:/intern/tmp pkl/eth.usd.td/std.2048\n",
      "e:/intern/tmp pkl/eth.usd.td/std.4096\n",
      "e:/intern/tmp pkl/btc.usdt/std.1024\n",
      "e:/intern/tmp pkl/btc.usdt/std.2048\n",
      "e:/intern/tmp pkl/btc.usdt/std.4096\n",
      "e:/intern/tmp pkl/eth.usdt/std.1024\n",
      "e:/intern/tmp pkl/eth.usdt/std.2048\n",
      "e:/intern/tmp pkl/eth.usdt/std.4096\n"
     ]
    }
   ],
   "source": [
    "x20 = foctor_std_period()\n",
    "for product in product_list:\n",
    "    create_signal_path(x20, product, SAVE_PATH);"
   ]
  },
  {
   "cell_type": "code",
   "execution_count": 25,
   "metadata": {},
   "outputs": [],
   "source": [
    "## rolling price range\n",
    "from collections import OrderedDict\n",
    "class foctor_range_period(factor_template):\n",
    "    factor_name = \"range.period\"\n",
    "    \n",
    "    params = OrderedDict([\n",
    "        (\"period\", np.power(2, range(10,13)))\n",
    "    ])\n",
    "    \n",
    "    def formula(self, data, period):\n",
    "        return data[\"max.\"+str(period)]-data[\"min.\"+str(period)]"
   ]
  },
  {
   "cell_type": "code",
   "execution_count": 26,
   "metadata": {},
   "outputs": [
    {
     "name": "stdout",
     "output_type": "stream",
     "text": [
      "e:/intern/tmp pkl/btc.usd.td/range.1024\n",
      "e:/intern/tmp pkl/btc.usd.td/range.2048\n",
      "e:/intern/tmp pkl/btc.usd.td/range.4096\n",
      "e:/intern/tmp pkl/eth.usd.td/range.1024\n",
      "e:/intern/tmp pkl/eth.usd.td/range.2048\n",
      "e:/intern/tmp pkl/eth.usd.td/range.4096\n",
      "e:/intern/tmp pkl/btc.usdt/range.1024\n",
      "e:/intern/tmp pkl/btc.usdt/range.2048\n",
      "e:/intern/tmp pkl/btc.usdt/range.4096\n",
      "e:/intern/tmp pkl/eth.usdt/range.1024\n",
      "e:/intern/tmp pkl/eth.usdt/range.2048\n",
      "e:/intern/tmp pkl/eth.usdt/range.4096\n"
     ]
    }
   ],
   "source": [
    "x21 = foctor_range_period()\n",
    "for product in product_list:\n",
    "    create_signal_path(x21, product, SAVE_PATH);"
   ]
  },
  {
   "cell_type": "code",
   "execution_count": 31,
   "metadata": {},
   "outputs": [
    {
     "name": "stdout",
     "output_type": "stream",
     "text": [
      "Wall time: 24min 31s\n"
     ]
    }
   ],
   "source": [
    "%%time\n",
    "for product in product_list:\n",
    "    file_list = list(map(lambda x: DATA_PATH+product+\"/\"+x, os.listdir(DATA_PATH + product)))\n",
    "    parLapply(CORE_NUM, file_list, build_composite_signal,signal_list=x21, product=product, HEAD_PATH=SAVE_PATH, n=14)"
   ]
  },
  {
   "cell_type": "code",
   "execution_count": 27,
   "metadata": {},
   "outputs": [],
   "source": [
    "## rolling trend index\n",
    "from collections import OrderedDict\n",
    "class foctor_trend_index_period(factor_template):\n",
    "    factor_name = \"trend.index.period\"\n",
    "    \n",
    "    params = OrderedDict([\n",
    "        (\"period\", np.power(2, range(10,13)))\n",
    "    ])\n",
    "    \n",
    "    def formula(self, data, period):\n",
    "        aa = zero_divide(abs(data[\"wpr\"]-data[\"wpr\"].shift(period)), data[\"max.\"+str(period)]-data[\"min.\"+str(period)])\n",
    "        aa[0:period]=0\n",
    "        return aa"
   ]
  },
  {
   "cell_type": "code",
   "execution_count": 28,
   "metadata": {},
   "outputs": [
    {
     "name": "stdout",
     "output_type": "stream",
     "text": [
      "e:/intern/tmp pkl/btc.usd.td/trend.index.1024\n",
      "e:/intern/tmp pkl/btc.usd.td/trend.index.2048\n",
      "e:/intern/tmp pkl/btc.usd.td/trend.index.4096\n",
      "e:/intern/tmp pkl/eth.usd.td/trend.index.1024\n",
      "e:/intern/tmp pkl/eth.usd.td/trend.index.2048\n",
      "e:/intern/tmp pkl/eth.usd.td/trend.index.4096\n",
      "e:/intern/tmp pkl/btc.usdt/trend.index.1024\n",
      "e:/intern/tmp pkl/btc.usdt/trend.index.2048\n",
      "e:/intern/tmp pkl/btc.usdt/trend.index.4096\n",
      "e:/intern/tmp pkl/eth.usdt/trend.index.1024\n",
      "e:/intern/tmp pkl/eth.usdt/trend.index.2048\n",
      "e:/intern/tmp pkl/eth.usdt/trend.index.4096\n"
     ]
    }
   ],
   "source": [
    "x23 = foctor_trend_index_period()\n",
    "for product in product_list:\n",
    "    create_signal_path(x23, product, SAVE_PATH);\n"
   ]
  },
  {
   "cell_type": "markdown",
   "metadata": {},
   "source": [
    "- Then we construt these range signals "
   ]
  },
  {
   "cell_type": "code",
   "execution_count": 29,
   "metadata": {},
   "outputs": [
    {
     "name": "stdout",
     "output_type": "stream",
     "text": [
      "Wall time: 25min 21s\n"
     ]
    },
    {
     "data": {
      "text/plain": [
       "''"
      ]
     },
     "execution_count": 29,
     "metadata": {},
     "output_type": "execute_result"
    }
   ],
   "source": [
    "%%time\n",
    "for product in product_list:\n",
    "    file_list = list(map(lambda x: DATA_PATH+product+\"/\"+x, os.listdir(DATA_PATH + product)))\n",
    "    parLapply(CORE_NUM, file_list, build_composite_signal,signal_list=x20, product=product, HEAD_PATH=SAVE_PATH, n=14)\n",
    ";\n",
    "# Wall time: 25min 21s\n"
   ]
  },
  {
   "cell_type": "code",
   "execution_count": 30,
   "metadata": {},
   "outputs": [
    {
     "name": "stdout",
     "output_type": "stream",
     "text": [
      "Wall time: 24min 12s\n"
     ]
    },
    {
     "data": {
      "text/plain": [
       "''"
      ]
     },
     "execution_count": 30,
     "metadata": {},
     "output_type": "execute_result"
    }
   ],
   "source": [
    "%%time\n",
    "for product in product_list:\n",
    "    file_list = list(map(lambda x: DATA_PATH+product+\"/\"+x, os.listdir(DATA_PATH + product)))\n",
    "    parLapply(CORE_NUM, file_list, build_composite_signal,signal_list=x23, product=product, HEAD_PATH=SAVE_PATH,n=14)\n",
    ";\n",
    "\n",
    "## Wall time: 24min 12s"
   ]
  },
  {
   "cell_type": "markdown",
   "metadata": {},
   "source": [
    "- Now we can combine directional signals and range signals together to become new direction signals\n",
    "\n",
    "- For example, we have n directional signals, and m range signals, \n",
    "- then we can generate new n*m directional signals"
   ]
  },
  {
   "cell_type": "code",
   "execution_count": 34,
   "metadata": {},
   "outputs": [],
   "source": [
    "## generate composite signal: trend signal * range signal = new trend signal\n",
    "def construct_composite_signal(dire_signal, range_signal, period_list, product_list, HEAD_PATH):\n",
    "    from collections import OrderedDict\n",
    "    class foctor_xx_period(factor_template):\n",
    "        factor_name = dire_signal+\".\"+range_signal+\".period\" ## name of new signal\n",
    "        params = OrderedDict([\n",
    "            (\"period\", period_list)\n",
    "        ])\n",
    "        def formula(self, data, period):\n",
    "            return (data[dire_signal+\".\"+str(period)]*data[range_signal+\".\"+str(period)]).values ## calculation of new signal\n",
    "    xx = foctor_xx_period()\n",
    "    for product in product_list:\n",
    "        create_signal_path(xx, product, HEAD_PATH)\n",
    "        file_list = list(map(lambda x: DATA_PATH+product+\"/\"+x, os.listdir(DATA_PATH + product)))\n",
    "        parLapply(CORE_NUM, file_list, build_composite_signal,signal_list=xx, product=product, HEAD_PATH=HEAD_PATH,n=14)"
   ]
  },
  {
   "cell_type": "code",
   "execution_count": 9,
   "metadata": {},
   "outputs": [],
   "source": [
    "dire_signal_list = [\"nr\", \"dbook\", \"range.pos\", \"price.osci\", \"ma.dif.10\", \"kdj.k\", \"kdj.j\"]\n",
    "range_signal_list = [\"range\", \"std\", \"trend.index\"]\n",
    "period_list = np.power(2, range(10,13))"
   ]
  },
  {
   "cell_type": "code",
   "execution_count": 39,
   "metadata": {},
   "outputs": [],
   "source": [
    "product = \"btc.usd.td\"\n",
    "file_list = list(map(lambda x: DATA_PATH+product+\"/\"+x, os.listdir(DATA_PATH + product)))"
   ]
  },
  {
   "cell_type": "code",
   "execution_count": 55,
   "metadata": {
    "scrolled": true
   },
   "outputs": [
    {
     "name": "stdout",
     "output_type": "stream",
     "text": [
      "e:/intern/tmp pkl/btc.usd.td/nr.std.1024\n",
      "e:/intern/tmp pkl/btc.usd.td/nr.std.2048\n",
      "e:/intern/tmp pkl/btc.usd.td/nr.std.4096\n",
      "e:/intern/tmp pkl/eth.usd.td/nr.std.1024\n",
      "e:/intern/tmp pkl/eth.usd.td/nr.std.2048\n",
      "e:/intern/tmp pkl/eth.usd.td/nr.std.4096\n",
      "e:/intern/tmp pkl/btc.usdt/nr.std.1024\n",
      "e:/intern/tmp pkl/btc.usdt/nr.std.2048\n",
      "e:/intern/tmp pkl/btc.usdt/nr.std.4096\n",
      "e:/intern/tmp pkl/eth.usdt/nr.std.1024\n",
      "e:/intern/tmp pkl/eth.usdt/nr.std.2048\n",
      "e:/intern/tmp pkl/eth.usdt/nr.std.4096\n",
      "e:/intern/tmp pkl/btc.usd.td/dbook.std.1024\n",
      "e:/intern/tmp pkl/btc.usd.td/dbook.std.2048\n",
      "e:/intern/tmp pkl/btc.usd.td/dbook.std.4096\n",
      "e:/intern/tmp pkl/eth.usd.td/dbook.std.1024\n",
      "e:/intern/tmp pkl/eth.usd.td/dbook.std.2048\n",
      "e:/intern/tmp pkl/eth.usd.td/dbook.std.4096\n",
      "e:/intern/tmp pkl/btc.usdt/dbook.std.1024\n",
      "e:/intern/tmp pkl/btc.usdt/dbook.std.2048\n",
      "e:/intern/tmp pkl/btc.usdt/dbook.std.4096\n",
      "e:/intern/tmp pkl/eth.usdt/dbook.std.1024\n",
      "e:/intern/tmp pkl/eth.usdt/dbook.std.2048\n",
      "e:/intern/tmp pkl/eth.usdt/dbook.std.4096\n",
      "e:/intern/tmp pkl/btc.usd.td/range.pos.std.1024\n",
      "e:/intern/tmp pkl/btc.usd.td/range.pos.std.2048\n",
      "e:/intern/tmp pkl/btc.usd.td/range.pos.std.4096\n",
      "e:/intern/tmp pkl/eth.usd.td/range.pos.std.1024\n",
      "e:/intern/tmp pkl/eth.usd.td/range.pos.std.2048\n",
      "e:/intern/tmp pkl/eth.usd.td/range.pos.std.4096\n",
      "e:/intern/tmp pkl/btc.usdt/range.pos.std.1024\n",
      "e:/intern/tmp pkl/btc.usdt/range.pos.std.2048\n",
      "e:/intern/tmp pkl/btc.usdt/range.pos.std.4096\n",
      "e:/intern/tmp pkl/eth.usdt/range.pos.std.1024\n",
      "e:/intern/tmp pkl/eth.usdt/range.pos.std.2048\n",
      "e:/intern/tmp pkl/eth.usdt/range.pos.std.4096\n",
      "e:/intern/tmp pkl/btc.usd.td/price.osci.std.1024\n",
      "e:/intern/tmp pkl/btc.usd.td/price.osci.std.2048\n",
      "e:/intern/tmp pkl/btc.usd.td/price.osci.std.4096\n",
      "e:/intern/tmp pkl/eth.usd.td/price.osci.std.1024\n",
      "e:/intern/tmp pkl/eth.usd.td/price.osci.std.2048\n",
      "e:/intern/tmp pkl/eth.usd.td/price.osci.std.4096\n",
      "e:/intern/tmp pkl/btc.usdt/price.osci.std.1024\n",
      "e:/intern/tmp pkl/btc.usdt/price.osci.std.2048\n",
      "e:/intern/tmp pkl/btc.usdt/price.osci.std.4096\n",
      "e:/intern/tmp pkl/eth.usdt/price.osci.std.1024\n",
      "e:/intern/tmp pkl/eth.usdt/price.osci.std.2048\n",
      "e:/intern/tmp pkl/eth.usdt/price.osci.std.4096\n",
      "e:/intern/tmp pkl/btc.usd.td/ma.dif.10.std.1024\n",
      "e:/intern/tmp pkl/btc.usd.td/ma.dif.10.std.2048\n",
      "e:/intern/tmp pkl/btc.usd.td/ma.dif.10.std.4096\n",
      "e:/intern/tmp pkl/eth.usd.td/ma.dif.10.std.1024\n",
      "e:/intern/tmp pkl/eth.usd.td/ma.dif.10.std.2048\n",
      "e:/intern/tmp pkl/eth.usd.td/ma.dif.10.std.4096\n",
      "e:/intern/tmp pkl/btc.usdt/ma.dif.10.std.1024\n",
      "e:/intern/tmp pkl/btc.usdt/ma.dif.10.std.2048\n",
      "e:/intern/tmp pkl/btc.usdt/ma.dif.10.std.4096\n",
      "e:/intern/tmp pkl/eth.usdt/ma.dif.10.std.1024\n",
      "e:/intern/tmp pkl/eth.usdt/ma.dif.10.std.2048\n",
      "e:/intern/tmp pkl/eth.usdt/ma.dif.10.std.4096\n",
      "e:/intern/tmp pkl/btc.usd.td/kdj.k.std.1024\n",
      "e:/intern/tmp pkl/btc.usd.td/kdj.k.std.2048\n",
      "e:/intern/tmp pkl/btc.usd.td/kdj.k.std.4096\n",
      "e:/intern/tmp pkl/eth.usd.td/kdj.k.std.1024\n",
      "e:/intern/tmp pkl/eth.usd.td/kdj.k.std.2048\n",
      "e:/intern/tmp pkl/eth.usd.td/kdj.k.std.4096\n",
      "e:/intern/tmp pkl/btc.usdt/kdj.k.std.1024\n",
      "e:/intern/tmp pkl/btc.usdt/kdj.k.std.2048\n",
      "e:/intern/tmp pkl/btc.usdt/kdj.k.std.4096\n",
      "e:/intern/tmp pkl/eth.usdt/kdj.k.std.1024\n",
      "e:/intern/tmp pkl/eth.usdt/kdj.k.std.2048\n",
      "e:/intern/tmp pkl/eth.usdt/kdj.k.std.4096\n",
      "e:/intern/tmp pkl/btc.usd.td/kdj.j.std.1024\n",
      "e:/intern/tmp pkl/btc.usd.td/kdj.j.std.2048\n",
      "e:/intern/tmp pkl/btc.usd.td/kdj.j.std.4096\n",
      "e:/intern/tmp pkl/eth.usd.td/kdj.j.std.1024\n",
      "e:/intern/tmp pkl/eth.usd.td/kdj.j.std.2048\n",
      "e:/intern/tmp pkl/eth.usd.td/kdj.j.std.4096\n",
      "e:/intern/tmp pkl/btc.usdt/kdj.j.std.1024\n",
      "e:/intern/tmp pkl/btc.usdt/kdj.j.std.2048\n",
      "e:/intern/tmp pkl/btc.usdt/kdj.j.std.4096\n",
      "e:/intern/tmp pkl/eth.usdt/kdj.j.std.1024\n",
      "e:/intern/tmp pkl/eth.usdt/kdj.j.std.2048\n",
      "e:/intern/tmp pkl/eth.usdt/kdj.j.std.4096\n",
      "e:/intern/tmp pkl/btc.usd.td/nr.trend.index.1024\n",
      "e:/intern/tmp pkl/btc.usd.td/nr.trend.index.2048\n",
      "e:/intern/tmp pkl/btc.usd.td/nr.trend.index.4096\n",
      "e:/intern/tmp pkl/eth.usd.td/nr.trend.index.1024\n",
      "e:/intern/tmp pkl/eth.usd.td/nr.trend.index.2048\n",
      "e:/intern/tmp pkl/eth.usd.td/nr.trend.index.4096\n",
      "e:/intern/tmp pkl/btc.usdt/nr.trend.index.1024\n",
      "e:/intern/tmp pkl/btc.usdt/nr.trend.index.2048\n",
      "e:/intern/tmp pkl/btc.usdt/nr.trend.index.4096\n",
      "e:/intern/tmp pkl/eth.usdt/nr.trend.index.1024\n",
      "e:/intern/tmp pkl/eth.usdt/nr.trend.index.2048\n",
      "e:/intern/tmp pkl/eth.usdt/nr.trend.index.4096\n",
      "e:/intern/tmp pkl/btc.usd.td/dbook.trend.index.1024\n",
      "e:/intern/tmp pkl/btc.usd.td/dbook.trend.index.2048\n",
      "e:/intern/tmp pkl/btc.usd.td/dbook.trend.index.4096\n",
      "e:/intern/tmp pkl/eth.usd.td/dbook.trend.index.1024\n",
      "e:/intern/tmp pkl/eth.usd.td/dbook.trend.index.2048\n",
      "e:/intern/tmp pkl/eth.usd.td/dbook.trend.index.4096\n",
      "e:/intern/tmp pkl/btc.usdt/dbook.trend.index.1024\n",
      "e:/intern/tmp pkl/btc.usdt/dbook.trend.index.2048\n",
      "e:/intern/tmp pkl/btc.usdt/dbook.trend.index.4096\n",
      "e:/intern/tmp pkl/eth.usdt/dbook.trend.index.1024\n",
      "e:/intern/tmp pkl/eth.usdt/dbook.trend.index.2048\n",
      "e:/intern/tmp pkl/eth.usdt/dbook.trend.index.4096\n",
      "e:/intern/tmp pkl/btc.usd.td/range.pos.trend.index.1024\n",
      "e:/intern/tmp pkl/btc.usd.td/range.pos.trend.index.2048\n",
      "e:/intern/tmp pkl/btc.usd.td/range.pos.trend.index.4096\n",
      "e:/intern/tmp pkl/eth.usd.td/range.pos.trend.index.1024\n",
      "e:/intern/tmp pkl/eth.usd.td/range.pos.trend.index.2048\n",
      "e:/intern/tmp pkl/eth.usd.td/range.pos.trend.index.4096\n",
      "e:/intern/tmp pkl/btc.usdt/range.pos.trend.index.1024\n",
      "e:/intern/tmp pkl/btc.usdt/range.pos.trend.index.2048\n",
      "e:/intern/tmp pkl/btc.usdt/range.pos.trend.index.4096\n",
      "e:/intern/tmp pkl/eth.usdt/range.pos.trend.index.1024\n",
      "e:/intern/tmp pkl/eth.usdt/range.pos.trend.index.2048\n",
      "e:/intern/tmp pkl/eth.usdt/range.pos.trend.index.4096\n",
      "e:/intern/tmp pkl/btc.usd.td/price.osci.trend.index.1024\n",
      "e:/intern/tmp pkl/btc.usd.td/price.osci.trend.index.2048\n",
      "e:/intern/tmp pkl/btc.usd.td/price.osci.trend.index.4096\n",
      "e:/intern/tmp pkl/eth.usd.td/price.osci.trend.index.1024\n",
      "e:/intern/tmp pkl/eth.usd.td/price.osci.trend.index.2048\n",
      "e:/intern/tmp pkl/eth.usd.td/price.osci.trend.index.4096\n",
      "e:/intern/tmp pkl/btc.usdt/price.osci.trend.index.1024\n",
      "e:/intern/tmp pkl/btc.usdt/price.osci.trend.index.2048\n",
      "e:/intern/tmp pkl/btc.usdt/price.osci.trend.index.4096\n",
      "e:/intern/tmp pkl/eth.usdt/price.osci.trend.index.1024\n",
      "e:/intern/tmp pkl/eth.usdt/price.osci.trend.index.2048\n",
      "e:/intern/tmp pkl/eth.usdt/price.osci.trend.index.4096\n",
      "e:/intern/tmp pkl/btc.usd.td/ma.dif.10.trend.index.1024\n",
      "e:/intern/tmp pkl/btc.usd.td/ma.dif.10.trend.index.2048\n",
      "e:/intern/tmp pkl/btc.usd.td/ma.dif.10.trend.index.4096\n",
      "e:/intern/tmp pkl/eth.usd.td/ma.dif.10.trend.index.1024\n",
      "e:/intern/tmp pkl/eth.usd.td/ma.dif.10.trend.index.2048\n",
      "e:/intern/tmp pkl/eth.usd.td/ma.dif.10.trend.index.4096\n",
      "e:/intern/tmp pkl/btc.usdt/ma.dif.10.trend.index.1024\n",
      "e:/intern/tmp pkl/btc.usdt/ma.dif.10.trend.index.2048\n",
      "e:/intern/tmp pkl/btc.usdt/ma.dif.10.trend.index.4096\n",
      "e:/intern/tmp pkl/eth.usdt/ma.dif.10.trend.index.1024\n",
      "e:/intern/tmp pkl/eth.usdt/ma.dif.10.trend.index.2048\n",
      "e:/intern/tmp pkl/eth.usdt/ma.dif.10.trend.index.4096\n",
      "e:/intern/tmp pkl/btc.usd.td/kdj.k.trend.index.1024\n",
      "e:/intern/tmp pkl/btc.usd.td/kdj.k.trend.index.2048\n",
      "e:/intern/tmp pkl/btc.usd.td/kdj.k.trend.index.4096\n",
      "e:/intern/tmp pkl/eth.usd.td/kdj.k.trend.index.1024\n",
      "e:/intern/tmp pkl/eth.usd.td/kdj.k.trend.index.2048\n",
      "e:/intern/tmp pkl/eth.usd.td/kdj.k.trend.index.4096\n",
      "e:/intern/tmp pkl/btc.usdt/kdj.k.trend.index.1024\n",
      "e:/intern/tmp pkl/btc.usdt/kdj.k.trend.index.2048\n",
      "e:/intern/tmp pkl/btc.usdt/kdj.k.trend.index.4096\n",
      "e:/intern/tmp pkl/eth.usdt/kdj.k.trend.index.1024\n",
      "e:/intern/tmp pkl/eth.usdt/kdj.k.trend.index.2048\n",
      "e:/intern/tmp pkl/eth.usdt/kdj.k.trend.index.4096\n",
      "e:/intern/tmp pkl/btc.usd.td/kdj.j.trend.index.1024\n",
      "e:/intern/tmp pkl/btc.usd.td/kdj.j.trend.index.2048\n",
      "e:/intern/tmp pkl/btc.usd.td/kdj.j.trend.index.4096\n",
      "e:/intern/tmp pkl/eth.usd.td/kdj.j.trend.index.1024\n",
      "e:/intern/tmp pkl/eth.usd.td/kdj.j.trend.index.2048\n",
      "e:/intern/tmp pkl/eth.usd.td/kdj.j.trend.index.4096\n",
      "e:/intern/tmp pkl/btc.usdt/kdj.j.trend.index.1024\n",
      "e:/intern/tmp pkl/btc.usdt/kdj.j.trend.index.2048\n",
      "e:/intern/tmp pkl/btc.usdt/kdj.j.trend.index.4096\n",
      "e:/intern/tmp pkl/eth.usdt/kdj.j.trend.index.1024\n",
      "e:/intern/tmp pkl/eth.usdt/kdj.j.trend.index.2048\n",
      "e:/intern/tmp pkl/eth.usdt/kdj.j.trend.index.4096\n",
      "Wall time: 5h 25min 25s\n"
     ]
    }
   ],
   "source": [
    "%%time\n",
    "for range_signal in range_signal_list:\n",
    "    for dire_signal in dire_signal_list:\n",
    "            construct_composite_signal(dire_signal, range_signal, period_list, product_list, SAVE_PATH)\n",
    "##　Wall time:5h 25min 25s"
   ]
  },
  {
   "cell_type": "markdown",
   "metadata": {},
   "source": [
    "- Now we can combine signals of each day in to a vector\n",
    "- here we use 4096 as period\n",
    "- so to keep them independent, we choose 1 out of every 4096 points"
   ]
  },
  {
   "cell_type": "code",
   "execution_count": 10,
   "metadata": {},
   "outputs": [
    {
     "data": {
      "text/plain": [
       "28"
      ]
     },
     "execution_count": 10,
     "metadata": {},
     "output_type": "execute_result"
    }
   ],
   "source": [
    "period = 4096\n",
    "os.makedirs(HEAD_PATH+\"/all signal\", exist_ok=True)\n",
    "dire_signal_list = [\"nr\", \"dbook\", \"range.pos\", \"price.osci\", \"ma.dif.10\", \"kdj.k\", \"kdj.j\"]\n",
    "range_signal_list = [\"\", \"range\", \"std\", \"trend.index\"]\n",
    "all_signal_list = np.array([])\n",
    "for range_signal in range_signal_list:\n",
    "    for dire_signal in dire_signal_list:\n",
    "        if len(range_signal)==0:\n",
    "            signal_name = dire_signal\n",
    "        else:\n",
    "            signal_name = dire_signal+\".\"+range_signal\n",
    "        all_signal_list = np.append(all_signal_list,signal_name)\n",
    "all_period_signal = [signal+\".4096\" for signal in all_signal_list]\n",
    "len(all_period_signal)\n",
    "## 28"
   ]
  },
  {
   "cell_type": "markdown",
   "metadata": {},
   "source": [
    "- we have 9 directional (trend) signals and 4 range signals\n",
    "- so we have 36 composite signals \n",
    "- plus the 9 original ones we have 45 signals together\n"
   ]
  },
  {
   "cell_type": "code",
   "execution_count": 57,
   "metadata": {},
   "outputs": [],
   "source": [
    "## save the good column to separte files\n",
    "def get_good(date, product, HEAD_PATH, SAVE_PATH):\n",
    "    data = load(HEAD_PATH+\"/pkl tick/\"+product+\"/\"+date)\n",
    "    good = data[\"good\"]\n",
    "    save(good, SAVE_PATH+\"/good pkl/\"+product+\"/\"+date)  "
   ]
  },
  {
   "cell_type": "code",
   "execution_count": 58,
   "metadata": {},
   "outputs": [],
   "source": [
    "os.makedirs(SAVE_PATH+\"/good pkl\", exist_ok=True)\n",
    "for product in product_list:\n",
    "    os.makedirs(SAVE_PATH+\"/good pkl/\"+product, exist_ok=True)"
   ]
  },
  {
   "cell_type": "code",
   "execution_count": 59,
   "metadata": {},
   "outputs": [
    {
     "name": "stdout",
     "output_type": "stream",
     "text": [
      "Wall time: 24min 22s\n"
     ]
    }
   ],
   "source": [
    "%%time\n",
    "for product in product_list:\n",
    "    all_dates = os.listdir(DATA_PATH + product)\n",
    "    parLapply(CORE_NUM, all_dates, get_good, product=product, HEAD_PATH=HEAD_PATH, SAVE_PATH=\"e:/intern\")\n",
    "    \n",
    "# Wall time: 24min 22s"
   ]
  },
  {
   "cell_type": "code",
   "execution_count": 60,
   "metadata": {},
   "outputs": [],
   "source": [
    "def moving_average(a, n=3) :\n",
    "    ret_sum = np.cumsum(a, dtype=float)\n",
    "    ret = a\n",
    "    ret[n:] = (ret_sum[n:] - ret_sum[:-n])/n\n",
    "    return ret"
   ]
  },
  {
   "cell_type": "code",
   "execution_count": 61,
   "metadata": {},
   "outputs": [],
   "source": [
    "## parallel generate the distribution of a signal\n",
    "def par_get_all_signal(signal_name, file_list, product, period, HEAD_PATH=\"d:/intern\", SAVE_PATH=\"e:/intern\", DATA_PATH=\"d:/intern\"):\n",
    "    n_files = len(file_list)\n",
    "    all_signal = np.array([])\n",
    "    for file in file_list:\n",
    "        S = load(HEAD_PATH+\"/tmp pkl/\"+product+\"/\"+signal_name+\"/\"+file) ## signal\n",
    "        good = load(DATA_PATH+\"/good pkl/\"+product+\"/\"+file) ## good singal\n",
    "        signal = S[good]\n",
    "        moving_average(signal,period)\n",
    "        chosen = (np.arange(len(signal))+1) % period==0\n",
    "        all_signal = np.concatenate((all_signal, signal[chosen]), axis=0)\n",
    "    save(all_signal, SAVE_PATH+\"/all signal/\"+product+\".\"+signal_name+\".pkl\")"
   ]
  },
  {
   "cell_type": "code",
   "execution_count": 62,
   "metadata": {
    "scrolled": true
   },
   "outputs": [
    {
     "name": "stdout",
     "output_type": "stream",
     "text": [
      "Wall time: 36min 15s\n"
     ]
    }
   ],
   "source": [
    "%%time\n",
    "for product in product_list:\n",
    "    all_dates = os.listdir(DATA_PATH + product)\n",
    "    parLapply(CORE_NUM, all_period_signal, par_get_all_signal, file_list=all_dates, product=product, period=4096, HEAD_PATH=SAVE_PATH,\n",
    "             SAVE_PATH = \"e:/intern\", DATA_PATH=\"e:/intern\");\n",
    "## Wall time: 36min 15s\n"
   ]
  },
  {
   "cell_type": "markdown",
   "metadata": {},
   "source": [
    "- then we can backtest our signals \n",
    "- we save the results"
   ]
  },
  {
   "cell_type": "code",
   "execution_count": 11,
   "metadata": {},
   "outputs": [],
   "source": [
    "## this is to evalute the performance of a signal on a product\n",
    "def evaluate_signal(signal, all_dates, product, min_pnl, min_num, \n",
    "                    CORE_NUM, HEAD_PATH=\"d:/intern\", SIGNAL_PATH=\"d:/intern\", period=4096, split_str=\"2018\", tranct=1.1e-4, \n",
    "                    max_spread=0.61, tranct_ratio=True, atr_filter=0, save_path=\"signal result\",reverse=0):\n",
    "    signal_name = signal+\".\"+str(period) ## signal name, with period\n",
    "    all_signal = load(SIGNAL_PATH+\"/all signal/\"+product+\".\"+signal_name+\".pkl\") ## get the distribution of the signal\n",
    "    tranct = product_info[product][\"tranct\"] ## transaction cost of the product\n",
    "    tranct_ratio = product_info[product][\"tranct.ratio\"] ## True: based on notional; False: fixed tranct\n",
    "    open_list = np.quantile(abs(all_signal), np.append(np.arange(0.991,0.999,0.001),np.arange(0.9991,0.9999,0.0001))) ## open threshold\n",
    "    thre_list = []\n",
    "    for cartesian in itertools.product(open_list, np.array([0.2, 0.4, 0.6, 0.8, 1.0])): ## close threshold\n",
    "        thre_list.append((cartesian[0], -cartesian[0] * cartesian[1]))\n",
    "    thre_list = np.array(thre_list)\n",
    "    thre_mat = pd.DataFrame(data=OrderedDict([(\"open\", thre_list[:, 0]), (\"close\", thre_list[:, 1])])) ## threshold matrix\n",
    "    \n",
    "    if reverse>=0: ## trending signal\n",
    "        print(\"reverse=1\")\n",
    "        trend_signal_stat = get_signal_stat(signal_name, thre_mat, product, all_dates, CORE_NUM, split_str=split_str, reverse=1, tranct=tranct, \n",
    "                                   max_spread=max_spread, tranct_ratio=tranct_ratio, min_pnl=min_pnl, min_num=min_num, atr_filter=atr_filter, HEAD_PATH=HEAD_PATH, SIGNAL_PATH=SIGNAL_PATH)\n",
    "    if reverse<=0: ## reversal signal\n",
    "        print(\"reverse=-1\")\n",
    "        reverse_signal_stat = get_signal_stat(signal_name, thre_mat, product, all_dates, CORE_NUM, split_str=split_str, reverse=-1, tranct=tranct, \n",
    "                        max_spread=max_spread, tranct_ratio=tranct_ratio, min_pnl=min_pnl, min_num=min_num, atr_filter=atr_filter, HEAD_PATH=HEAD_PATH, SIGNAL_PATH=SIGNAL_PATH)\n",
    "    if reverse==0: ## both trending and reversal\n",
    "        stat_result = OrderedDict([(\"trend.signal.stat\", trend_signal_stat), (\"reverse.signal.stat\", reverse_signal_stat)])    \n",
    "        save(stat_result, HEAD_PATH+\"/\"+save_path+\"/\"+product+\".\"+signal_name+\".pkl\")\n",
    "    elif reverse==1: ## just trend\n",
    "        save(trend_signal_stat, HEAD_PATH+\"/\"+save_path+\"/\"+product+\".\"+signal_name+\".trend.pkl\")\n",
    "    elif reverse==-1: ## just reversal\n",
    "        save(reverse_signal_stat, HEAD_PATH+\"/\"+save_path+\"/\"+product+\".\"+signal_name+\".reverse.pkl\")"
   ]
  },
  {
   "cell_type": "code",
   "execution_count": 12,
   "metadata": {},
   "outputs": [],
   "source": [
    "## get the statistics of backtesting a signal\n",
    "from collections import OrderedDict\n",
    "def get_signal_stat(signal_name, thre_mat, product, all_dates, CORE_NUM, split_str=\"2018\", reverse=1, tranct=1.1e-4, \n",
    "                    max_spread=0.61, tranct_ratio=True, min_pnl=2, min_num=20, atr_filter=0, HEAD_PATH=\"d:/intern\", SIGNAL_PATH=\"d:/intern\"):\n",
    "    train_sample = all_dates<split_str ## training samples\n",
    "    test_sample = all_dates>split_str ## testing samples\n",
    "    with dask.config.set(scheduler='processes', num_workers=CORE_NUM):\n",
    "        f_par = functools.partial(get_signal_pnl, product=product, signal_name=signal_name, thre_mat=thre_mat,\n",
    "                                 reverse=reverse, tranct=tranct, max_spread=max_spread, tranct_ratio=tranct_ratio, \n",
    "                                  HEAD_PATH=HEAD_PATH, SIGNAL_PATH=SIGNAL_PATH, atr_filter=atr_filter)\n",
    "        train_result = compute([delayed(f_par)(file) for file in all_dates[train_sample]])[0] ## get training result\n",
    "    train_stat = get_hft_summary(train_result, thre_mat, sum(train_sample)) ## get training result statistics\n",
    "    with dask.config.set(scheduler='processes', num_workers=CORE_NUM):\n",
    "        f_par = functools.partial(get_signal_pnl, product=product, signal_name=signal_name, thre_mat=thre_mat,\n",
    "                                  reverse=reverse, tranct=tranct, max_spread=max_spread, tranct_ratio=tranct_ratio, \n",
    "                                  HEAD_PATH=HEAD_PATH, SIGNAL_PATH=SIGNAL_PATH, atr_filter=atr_filter) \n",
    "        test_result = compute([delayed(f_par)(file) for file in all_dates[test_sample]])[0] ## get testing result\n",
    "    test_stat = get_hft_summary(test_result, thre_mat, sum(test_sample)) ## get testing result statistics\n",
    "    return OrderedDict([(\"train.stat\", train_stat), (\"test.stat\", test_stat)])"
   ]
  },
  {
   "cell_type": "code",
   "execution_count": 147,
   "metadata": {},
   "outputs": [],
   "source": [
    "product = \"eth.usd.td\"\n",
    "signal = \"nr\"\n",
    "split_str = \"2020\"\n",
    "all_dates = np.array(os.listdir(DATA_PATH + product))\n",
    "train_sample = all_dates<split_str ## training samples\n",
    "test_sample = all_dates>split_str ## testing samples\n",
    "signal_name = signal+\".\"+str(period) ## signal name, with period\n",
    "period = 4096\n",
    "all_signal = load(SIGNAL_PATH+\"/all signal/\"+product+\".\"+signal_name+\".pkl\") ## get the distribution of the signal\n",
    "tranct = product_info[product][\"tranct\"] ## transaction cost of the product\n",
    "spread = product_info[product][\"spread\"] ## transaction cost of the product\n",
    "tranct_ratio = product_info[product][\"tranct.ratio\"] ## True: based on notional; False: fixed tranct\n",
    "open_list = np.quantile(abs(all_signal), np.append(np.arange(0.991,0.999,0.001),np.arange(0.9991,0.9999,0.0001))) ## open threshold\n",
    "thre_list = []\n",
    "for cartesian in itertools.product(open_list, np.array([0.2, 0.4, 0.6, 0.8, 1.0])): ## close threshold\n",
    "    thre_list.append((cartesian[0], -cartesian[0] * cartesian[1]))\n",
    "thre_list = np.array(thre_list)\n",
    "thre_mat = pd.DataFrame(data=OrderedDict([(\"open\", thre_list[:, 0]), (\"close\", thre_list[:, 1])])) ## threshold matrix\n",
    "reverse = 1\n",
    "max_spread = spread*1.1\n",
    "atr_filter = 20/spread\n",
    "with dask.config.set(scheduler='processes', num_workers=CORE_NUM):\n",
    "    f_par = functools.partial(get_signal_pnl, product=product, signal_name=signal_name, thre_mat=thre_mat,\n",
    "                             reverse=reverse, tranct=tranct, max_spread=max_spread, tranct_ratio=tranct_ratio, \n",
    "                              HEAD_PATH=HEAD_PATH, SIGNAL_PATH=SIGNAL_PATH, atr_filter=atr_filter)\n",
    "    train_result = compute([delayed(f_par)(file) for file in all_dates[train_sample]])[0] ## get training result\n",
    "train_stat = get_hft_summary(train_result, thre_mat, sum(train_sample)) ## get training result statistics\n"
   ]
  },
  {
   "cell_type": "code",
   "execution_count": 13,
   "metadata": {
    "scrolled": false
   },
   "outputs": [
    {
     "name": "stdout",
     "output_type": "stream",
     "text": [
      "btc.usdt ma.dif.10\n"
     ]
    },
    {
     "name": "stderr",
     "output_type": "stream",
     "text": [
      "d:\\Anaconda3\\lib\\site-packages\\numpy\\lib\\function_base.py:3826: RuntimeWarning: Invalid value encountered in percentile\n",
      "  interpolation=interpolation)\n"
     ]
    },
    {
     "name": "stdout",
     "output_type": "stream",
     "text": [
      "reverse=1\n",
      "reverse=-1\n",
      "btc.usdt kdj.k\n",
      "reverse=1\n",
      "reverse=-1\n",
      "btc.usdt kdj.j\n",
      "reverse=1\n",
      "reverse=-1\n",
      "btc.usdt nr.range\n"
     ]
    },
    {
     "name": "stderr",
     "output_type": "stream",
     "text": [
      "d:\\Anaconda3\\lib\\site-packages\\numpy\\lib\\function_base.py:3826: RuntimeWarning: Invalid value encountered in percentile\n",
      "  interpolation=interpolation)\n"
     ]
    },
    {
     "name": "stdout",
     "output_type": "stream",
     "text": [
      "reverse=1\n",
      "reverse=-1\n",
      "btc.usdt dbook.range\n",
      "reverse=1\n"
     ]
    },
    {
     "name": "stderr",
     "output_type": "stream",
     "text": [
      "d:\\Anaconda3\\lib\\site-packages\\numpy\\lib\\function_base.py:3826: RuntimeWarning: Invalid value encountered in percentile\n",
      "  interpolation=interpolation)\n"
     ]
    },
    {
     "name": "stdout",
     "output_type": "stream",
     "text": [
      "reverse=-1\n",
      "btc.usdt range.pos.range\n",
      "reverse=1\n"
     ]
    },
    {
     "name": "stderr",
     "output_type": "stream",
     "text": [
      "d:\\Anaconda3\\lib\\site-packages\\numpy\\lib\\function_base.py:3826: RuntimeWarning: Invalid value encountered in percentile\n",
      "  interpolation=interpolation)\n"
     ]
    },
    {
     "name": "stdout",
     "output_type": "stream",
     "text": [
      "reverse=-1\n",
      "btc.usdt price.osci.range\n",
      "reverse=1\n"
     ]
    },
    {
     "name": "stderr",
     "output_type": "stream",
     "text": [
      "d:\\Anaconda3\\lib\\site-packages\\numpy\\lib\\function_base.py:3826: RuntimeWarning: Invalid value encountered in percentile\n",
      "  interpolation=interpolation)\n"
     ]
    },
    {
     "name": "stdout",
     "output_type": "stream",
     "text": [
      "reverse=-1\n",
      "btc.usdt ma.dif.10.range\n",
      "reverse=1\n"
     ]
    },
    {
     "name": "stderr",
     "output_type": "stream",
     "text": [
      "d:\\Anaconda3\\lib\\site-packages\\numpy\\lib\\function_base.py:3826: RuntimeWarning: Invalid value encountered in percentile\n",
      "  interpolation=interpolation)\n"
     ]
    },
    {
     "name": "stdout",
     "output_type": "stream",
     "text": [
      "reverse=-1\n",
      "btc.usdt kdj.k.range\n",
      "reverse=1\n"
     ]
    },
    {
     "name": "stderr",
     "output_type": "stream",
     "text": [
      "d:\\Anaconda3\\lib\\site-packages\\numpy\\lib\\function_base.py:3826: RuntimeWarning: Invalid value encountered in percentile\n",
      "  interpolation=interpolation)\n"
     ]
    },
    {
     "name": "stdout",
     "output_type": "stream",
     "text": [
      "reverse=-1\n",
      "btc.usdt kdj.j.range\n",
      "reverse=1\n"
     ]
    },
    {
     "name": "stderr",
     "output_type": "stream",
     "text": [
      "d:\\Anaconda3\\lib\\site-packages\\numpy\\lib\\function_base.py:3826: RuntimeWarning: Invalid value encountered in percentile\n",
      "  interpolation=interpolation)\n"
     ]
    },
    {
     "name": "stdout",
     "output_type": "stream",
     "text": [
      "reverse=-1\n",
      "btc.usdt nr.std\n",
      "reverse=1\n"
     ]
    },
    {
     "name": "stderr",
     "output_type": "stream",
     "text": [
      "d:\\Anaconda3\\lib\\site-packages\\numpy\\lib\\function_base.py:3826: RuntimeWarning: Invalid value encountered in percentile\n",
      "  interpolation=interpolation)\n"
     ]
    },
    {
     "name": "stdout",
     "output_type": "stream",
     "text": [
      "reverse=-1\n",
      "btc.usdt dbook.std\n",
      "reverse=1\n"
     ]
    },
    {
     "name": "stderr",
     "output_type": "stream",
     "text": [
      "d:\\Anaconda3\\lib\\site-packages\\numpy\\lib\\function_base.py:3826: RuntimeWarning: Invalid value encountered in percentile\n",
      "  interpolation=interpolation)\n"
     ]
    },
    {
     "name": "stdout",
     "output_type": "stream",
     "text": [
      "reverse=-1\n",
      "btc.usdt range.pos.std\n",
      "reverse=1\n"
     ]
    },
    {
     "name": "stderr",
     "output_type": "stream",
     "text": [
      "d:\\Anaconda3\\lib\\site-packages\\numpy\\lib\\function_base.py:3826: RuntimeWarning: Invalid value encountered in percentile\n",
      "  interpolation=interpolation)\n"
     ]
    },
    {
     "name": "stdout",
     "output_type": "stream",
     "text": [
      "reverse=-1\n",
      "btc.usdt price.osci.std\n",
      "reverse=1\n"
     ]
    },
    {
     "name": "stderr",
     "output_type": "stream",
     "text": [
      "d:\\Anaconda3\\lib\\site-packages\\numpy\\lib\\function_base.py:3826: RuntimeWarning: Invalid value encountered in percentile\n",
      "  interpolation=interpolation)\n"
     ]
    },
    {
     "name": "stdout",
     "output_type": "stream",
     "text": [
      "reverse=-1\n",
      "btc.usdt ma.dif.10.std\n",
      "reverse=1\n"
     ]
    },
    {
     "name": "stderr",
     "output_type": "stream",
     "text": [
      "d:\\Anaconda3\\lib\\site-packages\\numpy\\lib\\function_base.py:3826: RuntimeWarning: Invalid value encountered in percentile\n",
      "  interpolation=interpolation)\n"
     ]
    },
    {
     "name": "stdout",
     "output_type": "stream",
     "text": [
      "reverse=-1\n",
      "btc.usdt kdj.k.std\n",
      "reverse=1\n"
     ]
    },
    {
     "name": "stderr",
     "output_type": "stream",
     "text": [
      "d:\\Anaconda3\\lib\\site-packages\\numpy\\lib\\function_base.py:3826: RuntimeWarning: Invalid value encountered in percentile\n",
      "  interpolation=interpolation)\n"
     ]
    },
    {
     "name": "stdout",
     "output_type": "stream",
     "text": [
      "reverse=-1\n",
      "btc.usdt kdj.j.std\n",
      "reverse=1\n"
     ]
    },
    {
     "name": "stderr",
     "output_type": "stream",
     "text": [
      "d:\\Anaconda3\\lib\\site-packages\\numpy\\lib\\function_base.py:3826: RuntimeWarning: Invalid value encountered in percentile\n",
      "  interpolation=interpolation)\n"
     ]
    },
    {
     "name": "stdout",
     "output_type": "stream",
     "text": [
      "reverse=-1\n",
      "btc.usdt nr.trend.index\n",
      "reverse=1\n"
     ]
    },
    {
     "name": "stderr",
     "output_type": "stream",
     "text": [
      "d:\\Anaconda3\\lib\\site-packages\\numpy\\lib\\function_base.py:3826: RuntimeWarning: Invalid value encountered in percentile\n",
      "  interpolation=interpolation)\n"
     ]
    },
    {
     "name": "stdout",
     "output_type": "stream",
     "text": [
      "reverse=-1\n",
      "btc.usdt dbook.trend.index\n",
      "reverse=1\n"
     ]
    },
    {
     "name": "stderr",
     "output_type": "stream",
     "text": [
      "d:\\Anaconda3\\lib\\site-packages\\numpy\\lib\\function_base.py:3826: RuntimeWarning: Invalid value encountered in percentile\n",
      "  interpolation=interpolation)\n"
     ]
    },
    {
     "name": "stdout",
     "output_type": "stream",
     "text": [
      "reverse=-1\n",
      "btc.usdt range.pos.trend.index\n",
      "reverse=1\n"
     ]
    },
    {
     "name": "stderr",
     "output_type": "stream",
     "text": [
      "d:\\Anaconda3\\lib\\site-packages\\numpy\\lib\\function_base.py:3826: RuntimeWarning: Invalid value encountered in percentile\n",
      "  interpolation=interpolation)\n"
     ]
    },
    {
     "name": "stdout",
     "output_type": "stream",
     "text": [
      "reverse=-1\n",
      "btc.usdt price.osci.trend.index\n",
      "reverse=1\n"
     ]
    },
    {
     "name": "stderr",
     "output_type": "stream",
     "text": [
      "d:\\Anaconda3\\lib\\site-packages\\numpy\\lib\\function_base.py:3826: RuntimeWarning: Invalid value encountered in percentile\n",
      "  interpolation=interpolation)\n"
     ]
    },
    {
     "name": "stdout",
     "output_type": "stream",
     "text": [
      "reverse=-1\n",
      "btc.usdt ma.dif.10.trend.index\n",
      "reverse=1\n"
     ]
    },
    {
     "name": "stderr",
     "output_type": "stream",
     "text": [
      "d:\\Anaconda3\\lib\\site-packages\\numpy\\lib\\function_base.py:3826: RuntimeWarning: Invalid value encountered in percentile\n",
      "  interpolation=interpolation)\n"
     ]
    },
    {
     "name": "stdout",
     "output_type": "stream",
     "text": [
      "reverse=-1\n",
      "btc.usdt kdj.k.trend.index\n",
      "reverse=1\n"
     ]
    },
    {
     "name": "stderr",
     "output_type": "stream",
     "text": [
      "d:\\Anaconda3\\lib\\site-packages\\numpy\\lib\\function_base.py:3826: RuntimeWarning: Invalid value encountered in percentile\n",
      "  interpolation=interpolation)\n"
     ]
    },
    {
     "name": "stdout",
     "output_type": "stream",
     "text": [
      "reverse=-1\n",
      "btc.usdt kdj.j.trend.index\n",
      "reverse=1\n"
     ]
    },
    {
     "name": "stderr",
     "output_type": "stream",
     "text": [
      "d:\\Anaconda3\\lib\\site-packages\\numpy\\lib\\function_base.py:3826: RuntimeWarning: Invalid value encountered in percentile\n",
      "  interpolation=interpolation)\n"
     ]
    },
    {
     "name": "stdout",
     "output_type": "stream",
     "text": [
      "reverse=-1\n",
      "eth.usdt nr\n",
      "reverse=1\n",
      "reverse=-1\n",
      "eth.usdt dbook\n",
      "reverse=1\n",
      "reverse=-1\n",
      "eth.usdt range.pos\n",
      "reverse=1\n",
      "reverse=-1\n",
      "eth.usdt price.osci\n",
      "reverse=1\n"
     ]
    },
    {
     "name": "stderr",
     "output_type": "stream",
     "text": [
      "d:\\Anaconda3\\lib\\site-packages\\numpy\\lib\\function_base.py:3826: RuntimeWarning: Invalid value encountered in percentile\n",
      "  interpolation=interpolation)\n"
     ]
    },
    {
     "name": "stdout",
     "output_type": "stream",
     "text": [
      "reverse=-1\n",
      "eth.usdt ma.dif.10\n",
      "reverse=1\n"
     ]
    },
    {
     "name": "stderr",
     "output_type": "stream",
     "text": [
      "d:\\Anaconda3\\lib\\site-packages\\numpy\\lib\\function_base.py:3826: RuntimeWarning: Invalid value encountered in percentile\n",
      "  interpolation=interpolation)\n"
     ]
    },
    {
     "name": "stdout",
     "output_type": "stream",
     "text": [
      "reverse=-1\n",
      "eth.usdt kdj.k\n",
      "reverse=1\n",
      "reverse=-1\n",
      "eth.usdt kdj.j\n",
      "reverse=1\n",
      "reverse=-1\n",
      "eth.usdt nr.range\n",
      "reverse=1\n"
     ]
    },
    {
     "name": "stderr",
     "output_type": "stream",
     "text": [
      "d:\\Anaconda3\\lib\\site-packages\\numpy\\lib\\function_base.py:3826: RuntimeWarning: Invalid value encountered in percentile\n",
      "  interpolation=interpolation)\n"
     ]
    },
    {
     "name": "stdout",
     "output_type": "stream",
     "text": [
      "reverse=-1\n",
      "eth.usdt dbook.range\n",
      "reverse=1\n"
     ]
    },
    {
     "name": "stderr",
     "output_type": "stream",
     "text": [
      "d:\\Anaconda3\\lib\\site-packages\\numpy\\lib\\function_base.py:3826: RuntimeWarning: Invalid value encountered in percentile\n",
      "  interpolation=interpolation)\n"
     ]
    },
    {
     "name": "stdout",
     "output_type": "stream",
     "text": [
      "reverse=-1\n",
      "eth.usdt range.pos.range\n",
      "reverse=1\n"
     ]
    },
    {
     "name": "stderr",
     "output_type": "stream",
     "text": [
      "d:\\Anaconda3\\lib\\site-packages\\numpy\\lib\\function_base.py:3826: RuntimeWarning: Invalid value encountered in percentile\n",
      "  interpolation=interpolation)\n"
     ]
    },
    {
     "name": "stdout",
     "output_type": "stream",
     "text": [
      "reverse=-1\n",
      "eth.usdt price.osci.range\n",
      "reverse=1\n"
     ]
    },
    {
     "name": "stderr",
     "output_type": "stream",
     "text": [
      "d:\\Anaconda3\\lib\\site-packages\\numpy\\lib\\function_base.py:3826: RuntimeWarning: Invalid value encountered in percentile\n",
      "  interpolation=interpolation)\n"
     ]
    },
    {
     "name": "stdout",
     "output_type": "stream",
     "text": [
      "reverse=-1\n",
      "eth.usdt ma.dif.10.range\n",
      "reverse=1\n"
     ]
    },
    {
     "name": "stderr",
     "output_type": "stream",
     "text": [
      "d:\\Anaconda3\\lib\\site-packages\\numpy\\lib\\function_base.py:3826: RuntimeWarning: Invalid value encountered in percentile\n",
      "  interpolation=interpolation)\n"
     ]
    },
    {
     "name": "stdout",
     "output_type": "stream",
     "text": [
      "reverse=-1\n",
      "eth.usdt kdj.k.range\n",
      "reverse=1\n"
     ]
    },
    {
     "name": "stderr",
     "output_type": "stream",
     "text": [
      "d:\\Anaconda3\\lib\\site-packages\\numpy\\lib\\function_base.py:3826: RuntimeWarning: Invalid value encountered in percentile\n",
      "  interpolation=interpolation)\n"
     ]
    },
    {
     "name": "stdout",
     "output_type": "stream",
     "text": [
      "reverse=-1\n",
      "eth.usdt kdj.j.range\n",
      "reverse=1\n"
     ]
    },
    {
     "name": "stderr",
     "output_type": "stream",
     "text": [
      "d:\\Anaconda3\\lib\\site-packages\\numpy\\lib\\function_base.py:3826: RuntimeWarning: Invalid value encountered in percentile\n",
      "  interpolation=interpolation)\n"
     ]
    },
    {
     "name": "stdout",
     "output_type": "stream",
     "text": [
      "reverse=-1\n",
      "eth.usdt nr.std\n",
      "reverse=1\n"
     ]
    },
    {
     "name": "stderr",
     "output_type": "stream",
     "text": [
      "d:\\Anaconda3\\lib\\site-packages\\numpy\\lib\\function_base.py:3826: RuntimeWarning: Invalid value encountered in percentile\n",
      "  interpolation=interpolation)\n"
     ]
    },
    {
     "name": "stdout",
     "output_type": "stream",
     "text": [
      "reverse=-1\n",
      "eth.usdt dbook.std\n",
      "reverse=1\n"
     ]
    },
    {
     "name": "stderr",
     "output_type": "stream",
     "text": [
      "d:\\Anaconda3\\lib\\site-packages\\numpy\\lib\\function_base.py:3826: RuntimeWarning: Invalid value encountered in percentile\n",
      "  interpolation=interpolation)\n"
     ]
    },
    {
     "name": "stdout",
     "output_type": "stream",
     "text": [
      "reverse=-1\n",
      "eth.usdt range.pos.std\n",
      "reverse=1\n"
     ]
    },
    {
     "name": "stderr",
     "output_type": "stream",
     "text": [
      "d:\\Anaconda3\\lib\\site-packages\\numpy\\lib\\function_base.py:3826: RuntimeWarning: Invalid value encountered in percentile\n",
      "  interpolation=interpolation)\n"
     ]
    },
    {
     "name": "stdout",
     "output_type": "stream",
     "text": [
      "reverse=-1\n",
      "eth.usdt price.osci.std\n",
      "reverse=1\n"
     ]
    },
    {
     "name": "stderr",
     "output_type": "stream",
     "text": [
      "d:\\Anaconda3\\lib\\site-packages\\numpy\\lib\\function_base.py:3826: RuntimeWarning: Invalid value encountered in percentile\n",
      "  interpolation=interpolation)\n"
     ]
    },
    {
     "name": "stdout",
     "output_type": "stream",
     "text": [
      "reverse=-1\n",
      "eth.usdt ma.dif.10.std\n",
      "reverse=1\n"
     ]
    },
    {
     "name": "stderr",
     "output_type": "stream",
     "text": [
      "d:\\Anaconda3\\lib\\site-packages\\numpy\\lib\\function_base.py:3826: RuntimeWarning: Invalid value encountered in percentile\n",
      "  interpolation=interpolation)\n"
     ]
    },
    {
     "name": "stdout",
     "output_type": "stream",
     "text": [
      "reverse=-1\n",
      "eth.usdt kdj.k.std\n",
      "reverse=1\n"
     ]
    },
    {
     "name": "stderr",
     "output_type": "stream",
     "text": [
      "d:\\Anaconda3\\lib\\site-packages\\numpy\\lib\\function_base.py:3826: RuntimeWarning: Invalid value encountered in percentile\n",
      "  interpolation=interpolation)\n"
     ]
    },
    {
     "name": "stdout",
     "output_type": "stream",
     "text": [
      "reverse=-1\n",
      "eth.usdt kdj.j.std\n",
      "reverse=1\n"
     ]
    },
    {
     "name": "stderr",
     "output_type": "stream",
     "text": [
      "d:\\Anaconda3\\lib\\site-packages\\numpy\\lib\\function_base.py:3826: RuntimeWarning: Invalid value encountered in percentile\n",
      "  interpolation=interpolation)\n"
     ]
    },
    {
     "name": "stdout",
     "output_type": "stream",
     "text": [
      "reverse=-1\n",
      "eth.usdt nr.trend.index\n",
      "reverse=1\n"
     ]
    },
    {
     "name": "stderr",
     "output_type": "stream",
     "text": [
      "d:\\Anaconda3\\lib\\site-packages\\numpy\\lib\\function_base.py:3826: RuntimeWarning: Invalid value encountered in percentile\n",
      "  interpolation=interpolation)\n"
     ]
    },
    {
     "name": "stdout",
     "output_type": "stream",
     "text": [
      "reverse=-1\n",
      "eth.usdt dbook.trend.index\n",
      "reverse=1\n"
     ]
    },
    {
     "name": "stderr",
     "output_type": "stream",
     "text": [
      "d:\\Anaconda3\\lib\\site-packages\\numpy\\lib\\function_base.py:3826: RuntimeWarning: Invalid value encountered in percentile\n",
      "  interpolation=interpolation)\n"
     ]
    },
    {
     "name": "stdout",
     "output_type": "stream",
     "text": [
      "reverse=-1\n",
      "eth.usdt range.pos.trend.index\n",
      "reverse=1\n"
     ]
    },
    {
     "name": "stderr",
     "output_type": "stream",
     "text": [
      "d:\\Anaconda3\\lib\\site-packages\\numpy\\lib\\function_base.py:3826: RuntimeWarning: Invalid value encountered in percentile\n",
      "  interpolation=interpolation)\n"
     ]
    },
    {
     "name": "stdout",
     "output_type": "stream",
     "text": [
      "reverse=-1\n",
      "eth.usdt price.osci.trend.index\n",
      "reverse=1\n"
     ]
    },
    {
     "name": "stderr",
     "output_type": "stream",
     "text": [
      "d:\\Anaconda3\\lib\\site-packages\\numpy\\lib\\function_base.py:3826: RuntimeWarning: Invalid value encountered in percentile\n",
      "  interpolation=interpolation)\n"
     ]
    },
    {
     "name": "stdout",
     "output_type": "stream",
     "text": [
      "reverse=-1\n",
      "eth.usdt ma.dif.10.trend.index\n",
      "reverse=1\n"
     ]
    },
    {
     "name": "stderr",
     "output_type": "stream",
     "text": [
      "d:\\Anaconda3\\lib\\site-packages\\numpy\\lib\\function_base.py:3826: RuntimeWarning: Invalid value encountered in percentile\n",
      "  interpolation=interpolation)\n"
     ]
    },
    {
     "name": "stdout",
     "output_type": "stream",
     "text": [
      "reverse=-1\n",
      "eth.usdt kdj.k.trend.index\n",
      "reverse=1\n"
     ]
    },
    {
     "name": "stderr",
     "output_type": "stream",
     "text": [
      "d:\\Anaconda3\\lib\\site-packages\\numpy\\lib\\function_base.py:3826: RuntimeWarning: Invalid value encountered in percentile\n",
      "  interpolation=interpolation)\n"
     ]
    },
    {
     "name": "stdout",
     "output_type": "stream",
     "text": [
      "reverse=-1\n",
      "eth.usdt kdj.j.trend.index\n",
      "reverse=1\n"
     ]
    },
    {
     "name": "stderr",
     "output_type": "stream",
     "text": [
      "d:\\Anaconda3\\lib\\site-packages\\numpy\\lib\\function_base.py:3826: RuntimeWarning: Invalid value encountered in percentile\n",
      "  interpolation=interpolation)\n"
     ]
    },
    {
     "name": "stdout",
     "output_type": "stream",
     "text": [
      "reverse=-1\n",
      "Wall time: 2h 34min 9s\n"
     ]
    }
   ],
   "source": [
    "%%time\n",
    "SIGNAL_PATH = \"e:/intern\"\n",
    "for product in product_list[2:]:\n",
    "    spread = product_info[product][\"spread\"]\n",
    "    tranct = product_info[product][\"tranct\"]\n",
    "    tranct_ratio = product_info[product][\"tranct.ratio\"]\n",
    "    all_dates = np.array(os.listdir(DATA_PATH + product))\n",
    "    for signal in all_signal_list:\n",
    "        if product==\"btc.usdt\":\n",
    "            if signal in [\"nr\", \"dbook\", \"range.pos\", \"price.osci\"]:\n",
    "                continue\n",
    "        print(product, signal)\n",
    "        \n",
    "        evaluate_signal(signal, all_dates, product, 2/spread, 20, CORE_NUM, HEAD_PATH, SIGNAL_PATH,\n",
    "                        period=4096, split_str=\"2020\", tranct=tranct, \n",
    "                max_spread=spread*1.1, tranct_ratio=tranct_ratio, atr_filter=20/spread, save_path=\"signal result atr\")\n",
    "\n",
    "## Wall time: 14h 53min 10s"
   ]
  },
  {
   "cell_type": "markdown",
   "metadata": {},
   "source": [
    "- we can write a function to get all the signals' performance"
   ]
  },
  {
   "cell_type": "markdown",
   "metadata": {},
   "source": [
    "- we can get the result with atr and without atr separately"
   ]
  },
  {
   "cell_type": "code",
   "execution_count": 14,
   "metadata": {},
   "outputs": [],
   "source": [
    "## get the signal performance\n",
    "## including trend and reverse signals\n",
    "def get_signal_performance_result(all_period_signal, signal_dire, period, product_list):\n",
    "    trend_signal_result = pd.DataFrame(data=OrderedDict([(\"signal\", all_period_signal), (\"reverse\",1),\n",
    "                               (\"num\", 0), (\"trainSharpe\", 0), (\"testSharpe\", 0)]))\n",
    "    reverse_signal_result = pd.DataFrame(data=OrderedDict([(\"signal\", all_period_signal), (\"reverse\",-1),\n",
    "                               (\"num\", 0), (\"trainSharpe\", 0), (\"testSharpe\", 0)]))\n",
    "    n_signal = len(all_period_signal) ## number of all signals\n",
    "    trend_train_sharpe = np.zeros(len(product_list))\n",
    "    trend_test_sharpe = np.zeros(len(product_list))\n",
    "    reverse_train_sharpe = np.zeros(len(product_list))\n",
    "    reverse_test_sharpe = np.zeros(len(product_list))\n",
    "    for k in range(n_signal):\n",
    "        signal_name = all_period_signal[k]\n",
    "        i = 0\n",
    "        for product in product_list:\n",
    "            all_dates = np.array(os.listdir(DATA_PATH + product))\n",
    "            train_sample = all_dates<\"2020\" \n",
    "            test_sample = all_dates>\"2020\"\n",
    "            stat_result = load(HEAD_PATH+\"/\" + signal_dire +\"/\"+product+\".\"+signal_name+\".pkl\") ## statistics of signal over a product\n",
    "            trend_signal_stat = stat_result['trend.signal.stat'] ## trending statistics\n",
    "            spread = product_info[product][\"spread\"]            \n",
    "            if product==\"btc.usd.td\" or product==\"eth.usd.td\":\n",
    "                avg_pnl = 10\n",
    "            else:\n",
    "                avg_pnl = 200\n",
    "\n",
    "            if tuple(trend_signal_stat.keys())[0]=='train.stat':\n",
    "                train_stat = trend_signal_stat[\"train.stat\"]\n",
    "                test_stat = trend_signal_stat[\"test.stat\"]\n",
    "                #good_strat = trend_signal_stat[\"good.strat\"]\n",
    "                good_strat = (train_stat[\"final.result\"][\"avg.pnl\"]>avg_pnl*spread) & (train_stat[\"final.result\"][\"num\"]>10) ## filter criterion\n",
    "                if sum(good_strat)>2:\n",
    "                    train_stat = trend_signal_stat[\"train.stat\"]\n",
    "                    test_stat = trend_signal_stat[\"test.stat\"]\n",
    "                    train_pnl = train_stat[\"daily.ret\"].loc[:, good_strat].sum(axis=1)/sum(good_strat) ## get the daily return\n",
    "                    #train_std = np.std(train_pnl)\n",
    "                    #train_pnl = train_pnl/train_std\n",
    "                    test_pnl = test_stat[\"daily.ret\"].loc[:, good_strat].sum(axis=1)/sum(good_strat)\n",
    "                    trend_train_sharpe[i] = sharpe(train_pnl)\n",
    "                    trend_test_sharpe[i] = sharpe(test_pnl)\n",
    "                    #print(product, \"train sharpe \", sharpe(train_pnl), \"test sharpe \", sharpe(test_pnl))\n",
    "                    i = i+1\n",
    "            if i>0: ## if there are any good products\n",
    "                trend_signal_result.loc[k, (\"signal\", \"num\", \"trainSharpe\", \"testSharpe\")] = (signal_name, i,  np.mean(trend_train_sharpe[:i]),np.mean(trend_test_sharpe[:i]))\n",
    "        i = 0\n",
    "        for product in product_list:\n",
    "            stat_result = load(HEAD_PATH+\"/\"+signal_dire+\"/\"+product+\".\"+signal_name+\".pkl\")\n",
    "            reverse_signal_stat = stat_result['reverse.signal.stat']\n",
    "            spread = product_info[product][\"spread\"]\n",
    "            if tuple(reverse_signal_stat.keys())[0]=='train.stat':\n",
    "                #good_strat = reverse_signal_stat[\"good.strat\"]\n",
    "                train_stat = reverse_signal_stat[\"train.stat\"]\n",
    "                train_pnl = train_stat[\"daily.ret\"].loc[:, good_strat].sum(axis=1)/sum(good_strat) ## get the daily return\n",
    "                test_stat = reverse_signal_stat[\"test.stat\"]\n",
    "                good_strat = (train_stat[\"final.result\"][\"avg.pnl\"]>avg_pnl*spread) & (train_stat[\"final.result\"][\"num\"]>10)\n",
    "                test_pnl = test_stat[\"daily.ret\"].loc[:, good_strat].sum(axis=1)/sum(good_strat)\n",
    "                if sum(good_strat)>2:\n",
    "                    #train_std = np.std(train_pnl)\n",
    "                    #train_pnl = train_pnl/train_std\n",
    "                    reverse_train_sharpe[i] = sharpe(train_pnl)\n",
    "                    reverse_test_sharpe[i] = sharpe(test_pnl)\n",
    "                    i = i+1\n",
    "            if i>0:\n",
    "                \n",
    "                reverse_signal_result.loc[k, (\"signal\",\"num\", \"trainSharpe\", \"testSharpe\")] = (signal_name, i, np.mean(reverse_train_sharpe[:i]),np.mean(reverse_test_sharpe[:i]))\n",
    "    return OrderedDict([(\"trend.signal.stat\", trend_signal_result), \n",
    "                        (\"reverse.signal.stat\", reverse_signal_result)])\n"
   ]
  },
  {
   "cell_type": "code",
   "execution_count": 15,
   "metadata": {},
   "outputs": [],
   "source": [
    "result_atr = get_signal_performance_result(all_period_signal, \"signal result atr\", 4096, product_list)"
   ]
  },
  {
   "cell_type": "code",
   "execution_count": 16,
   "metadata": {},
   "outputs": [],
   "source": [
    "def get_single_signal_stat(result_atr, min_num=0, min_sharpe=0.5):\n",
    "    good_trend = (result_atr[\"trend.signal.stat\"][\"num\"]>min_num) & (result_atr[\"trend.signal.stat\"][\"trainSharpe\"]>min_sharpe) & (result_atr[\"trend.signal.stat\"][\"testSharpe\"]>min_sharpe)\n",
    "    good_reverse = (result_atr[\"reverse.signal.stat\"][\"num\"]>min_num) & (result_atr[\"reverse.signal.stat\"][\"trainSharpe\"]>min_sharpe) & (result_atr[\"reverse.signal.stat\"][\"testSharpe\"]>min_sharpe)\n",
    "    print(\"with atr good signals: \"+ str(sum(good_trend | good_reverse)))\n",
    "    train_sharpe = np.mean(np.append(result_atr[\"trend.signal.stat\"][\"trainSharpe\"][good_trend],\n",
    "                      result_atr[\"reverse.signal.stat\"][\"trainSharpe\"][good_reverse]))\n",
    "    test_sharpe = np.mean(np.append(result_atr[\"trend.signal.stat\"][\"testSharpe\"][good_trend],\n",
    "                      result_atr[\"reverse.signal.stat\"][\"testSharpe\"][good_reverse]))\n",
    "    print(\"train sharpe: \", train_sharpe)\n",
    "    print(\"test sharpe: \", test_sharpe)\n",
    "    print(all_signal_list[good_trend])\n",
    "    print(all_signal_list[good_reverse])\n"
   ]
  },
  {
   "cell_type": "code",
   "execution_count": 17,
   "metadata": {},
   "outputs": [
    {
     "name": "stdout",
     "output_type": "stream",
     "text": [
      "with atr good signals: 11\n",
      "train sharpe:  1.336956095485125\n",
      "test sharpe:  1.617636997810436\n",
      "['dbook' 'range.pos' 'kdj.k' 'kdj.j' 'dbook.range' 'price.osci.range'\n",
      " 'ma.dif.10.range' 'nr.std' 'dbook.std' 'price.osci.std' 'ma.dif.10.std']\n",
      "[]\n"
     ]
    }
   ],
   "source": [
    "get_single_signal_stat(result_atr, min_num=0, min_sharpe=0.5)\n",
    "\n",
    "# with atr good signals: 11\n",
    "# train sharpe:  1.336956095485125\n",
    "# test sharpe:  1.617636997810436\n",
    "# ['dbook' 'range.pos' 'kdj.k' 'kdj.j' 'dbook.range' 'price.osci.range'\n",
    "#  'ma.dif.10.range' 'nr.std' 'dbook.std' 'price.osci.std' 'ma.dif.10.std']\n",
    "# []\n",
    "\n",
    "\n",
    "\n",
    "\n",
    "\n"
   ]
  },
  {
   "cell_type": "code",
   "execution_count": 18,
   "metadata": {},
   "outputs": [
    {
     "name": "stdout",
     "output_type": "stream",
     "text": [
      "with atr good signals: 3\n",
      "train sharpe:  2.191348526487736\n",
      "test sharpe:  1.765902769424989\n",
      "['range.pos' 'kdj.k' 'kdj.j']\n",
      "[]\n"
     ]
    }
   ],
   "source": [
    "get_single_signal_stat(result_atr, min_num=1, min_sharpe=0.5)\n",
    "\n",
    "# with atr good signals: 3\n",
    "# train sharpe:  2.191348526487736\n",
    "# test sharpe:  1.765902769424989\n",
    "# ['range.pos' 'kdj.k' 'kdj.j']\n",
    "# []\n",
    "\n",
    "\n"
   ]
  },
  {
   "cell_type": "code",
   "execution_count": 19,
   "metadata": {},
   "outputs": [
    {
     "name": "stdout",
     "output_type": "stream",
     "text": [
      "with atr good signals: 0\n",
      "train sharpe:  nan\n",
      "test sharpe:  nan\n",
      "[]\n",
      "[]\n"
     ]
    },
    {
     "name": "stderr",
     "output_type": "stream",
     "text": [
      "d:\\Anaconda3\\lib\\site-packages\\numpy\\core\\fromnumeric.py:3118: RuntimeWarning: Mean of empty slice.\n",
      "  out=out, **kwargs)\n",
      "d:\\Anaconda3\\lib\\site-packages\\numpy\\core\\_methods.py:85: RuntimeWarning: invalid value encountered in double_scalars\n",
      "  ret = ret.dtype.type(ret / rcount)\n"
     ]
    }
   ],
   "source": [
    "get_single_signal_stat(result_atr, min_num=2, min_sharpe=0.5)\n",
    "\n",
    "# with atr good signals: 0\n",
    "# train sharpe:  nan\n",
    "# test sharpe:  nan\n",
    "# []\n",
    "# []\n",
    "\n"
   ]
  },
  {
   "cell_type": "markdown",
   "metadata": {},
   "source": [
    "- we can see that their results are very similar"
   ]
  },
  {
   "cell_type": "markdown",
   "metadata": {},
   "source": [
    "- Conclusion\n",
    "- This week we have generated results for all of the 35 signals\n",
    "- We have compared backtest result with and without atr\n",
    "- we find that there is not much difference between them\n",
    "- previously we found that for iorn with atr is better than without atr\n",
    "- that's because we lower the threhsold for number of trades\n",
    "- now we use 20 trades for training maybe for i there are not enough trades\n",
    "- Anyway, currently there are too many signals and hard to tune parameters\n",
    "- in the future, we can use fewer signals so that we can do the research more efficiently"
   ]
  },
  {
   "cell_type": "code",
   "execution_count": null,
   "metadata": {},
   "outputs": [],
   "source": []
  }
 ],
 "metadata": {
  "kernelspec": {
   "display_name": "Python 3",
   "language": "python",
   "name": "python3"
  },
  "language_info": {
   "codemirror_mode": {
    "name": "ipython",
    "version": 3
   },
   "file_extension": ".py",
   "mimetype": "text/x-python",
   "name": "python",
   "nbconvert_exporter": "python",
   "pygments_lexer": "ipython3",
   "version": "3.7.4"
  }
 },
 "nbformat": 4,
 "nbformat_minor": 2
}
