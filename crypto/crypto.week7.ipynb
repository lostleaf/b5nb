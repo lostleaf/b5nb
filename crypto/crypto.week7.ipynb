{
 "cells": [
  {
   "cell_type": "markdown",
   "metadata": {},
   "source": [
    "- in our original agenda this week we try different covariance estimation method\n",
    "- but I think we'd better go directly to regression model\n",
    "- then we can save some time for further more complicate machine learning models\n",
    "\n",
    "\n",
    "- this week we focus on the most simple linear regression without regularization"
   ]
  },
  {
   "cell_type": "code",
   "execution_count": 482,
   "metadata": {},
   "outputs": [
    {
     "data": {
      "text/plain": [
       "<module 'stats' from 'C:\\\\Users\\\\dell\\\\stats.py'>"
      ]
     },
     "execution_count": 482,
     "metadata": {},
     "output_type": "execute_result"
    }
   ],
   "source": [
    "from helper import *\n",
    "from stats import *\n",
    "from imp import reload   \n",
    "import helper\n",
    "import stats\n",
    "import  sklearn.preprocessing\n",
    "reload(helper)\n",
    "reload(stats)\n"
   ]
  },
  {
   "cell_type": "code",
   "execution_count": 257,
   "metadata": {},
   "outputs": [
    {
     "data": {
      "text/plain": [
       "16"
      ]
     },
     "execution_count": 257,
     "metadata": {},
     "output_type": "execute_result"
    }
   ],
   "source": [
    "CORE_NUM = int(os.environ['NUMBER_OF_PROCESSORS'])\n",
    "CORE_NUM "
   ]
  },
  {
   "cell_type": "markdown",
   "metadata": {},
   "source": [
    "- number of cores, set this number according to your computer"
   ]
  },
  {
   "cell_type": "markdown",
   "metadata": {},
   "source": [
    "- sample period"
   ]
  },
  {
   "cell_type": "code",
   "execution_count": 348,
   "metadata": {},
   "outputs": [],
   "source": [
    "period = 4096\n",
    "product_list = [\"btc.usd.td\", \"eth.usd.td\", \"btc.usdt\", \"eth.usdt\"]"
   ]
  },
  {
   "cell_type": "markdown",
   "metadata": {},
   "source": [
    "- get all of the days"
   ]
  },
  {
   "cell_type": "code",
   "execution_count": 259,
   "metadata": {},
   "outputs": [],
   "source": [
    "import dask\n",
    "from dask import compute, delayed"
   ]
  },
  {
   "cell_type": "code",
   "execution_count": 260,
   "metadata": {},
   "outputs": [
    {
     "data": {
      "text/plain": [
       "1092"
      ]
     },
     "execution_count": 260,
     "metadata": {},
     "output_type": "execute_result"
    }
   ],
   "source": [
    "all_dates = os.listdir(DATA_PATH + product_list[0])\n",
    "all_dates.sort()\n",
    "all_dates = np.array(all_dates)\n",
    "n_days = len(all_dates)\n",
    "n_days\n",
    "## 1092"
   ]
  },
  {
   "cell_type": "code",
   "execution_count": 362,
   "metadata": {},
   "outputs": [],
   "source": [
    "SAVE_PATH = \"e:/intern\"\n",
    "all_dates_x = os.listdir(DATA_PATH + product_list[0])\n",
    "all_dates_y = os.listdir(DATA_PATH + product_list[1])\n",
    "all_dates = np.array(list(set(all_dates_x) & set(all_dates_y)))\n",
    "all_dates.sort()\n",
    "train_sample = all_dates<\"2019-08\"\n",
    "test_sample = all_dates>\"2019-08\"\n",
    "date_str = [n[0:10] for n in all_dates]\n",
    "format_dates = np.array([pd.to_datetime(d) for d in date_str])"
   ]
  },
  {
   "cell_type": "code",
   "execution_count": 435,
   "metadata": {},
   "outputs": [],
   "source": [
    "os.makedirs(HEAD_PATH+\"/all signal\", exist_ok=True)\n",
    "dire_signal_list = [\"nr\", \"dbook\", \"range.pos\", \"price.osci\", \"ma.dif.10\", \"kdj.k\", \"kdj.j\"]\n",
    "range_signal_list = [\"\", \"range\", \"std\", \"trend.index\"]\n",
    "all_signal_list = np.array([])\n",
    "for range_signal in range_signal_list:\n",
    "    for dire_signal in dire_signal_list:\n",
    "        if len(range_signal)==0:\n",
    "            signal_name = dire_signal\n",
    "        else:\n",
    "            signal_name = dire_signal+\".\"+range_signal\n",
    "        all_signal_list = np.append(all_signal_list,signal_name)\n",
    "signal_list = [signal+\".4096\" for signal in all_signal_list]"
   ]
  },
  {
   "cell_type": "code",
   "execution_count": 436,
   "metadata": {},
   "outputs": [
    {
     "data": {
      "text/plain": [
       "array(['nr.4096', 'dbook.4096', 'range.pos.4096', 'price.osci.4096',\n",
       "       'ma.dif.10.4096', 'kdj.k.4096', 'kdj.j.4096', 'nr.range.4096',\n",
       "       'dbook.range.4096', 'range.pos.range.4096',\n",
       "       'price.osci.range.4096', 'ma.dif.10.range.4096',\n",
       "       'kdj.k.range.4096', 'kdj.j.range.4096', 'nr.std.4096',\n",
       "       'dbook.std.4096', 'range.pos.std.4096', 'price.osci.std.4096',\n",
       "       'ma.dif.10.std.4096', 'kdj.k.std.4096', 'kdj.j.std.4096',\n",
       "       'nr.trend.index.4096', 'dbook.trend.index.4096',\n",
       "       'range.pos.trend.index.4096', 'price.osci.trend.index.4096',\n",
       "       'ma.dif.10.trend.index.4096', 'kdj.k.trend.index.4096',\n",
       "       'kdj.j.trend.index.4096', 'ret.4096', 'ret.4096.001',\n",
       "       'ret.4096.002'], dtype='<U27')"
      ]
     },
     "execution_count": 436,
     "metadata": {},
     "output_type": "execute_result"
    }
   ],
   "source": [
    "np.append(signal_list, [\"ret.4096\", \"ret.4096.001\", \"ret.4096.002\"])"
   ]
  },
  {
   "cell_type": "code",
   "execution_count": 574,
   "metadata": {},
   "outputs": [],
   "source": [
    "data = load(DATA_PATH+product_list[0]+\"/\"+all_dates[9])\n",
    "data = data.reset_index(drop=True);"
   ]
  },
  {
   "cell_type": "markdown",
   "metadata": {},
   "source": [
    "- let's begin with week 7 "
   ]
  },
  {
   "cell_type": "markdown",
   "metadata": {},
   "source": [
    "- to build up a regression model, we need predictors and response variables\n",
    "- the previous signals can be predictors\n",
    "- now we need to create a response"
   ]
  },
  {
   "cell_type": "markdown",
   "metadata": {},
   "source": [
    "- for example, we can use future log returns as response"
   ]
  },
  {
   "cell_type": "markdown",
   "metadata": {},
   "source": [
    "- here fcum means the future sum of data\n",
    "- for example"
   ]
  },
  {
   "cell_type": "code",
   "execution_count": 575,
   "metadata": {},
   "outputs": [],
   "source": [
    "sample_y = fcum(data[\"ret\"], period)"
   ]
  },
  {
   "cell_type": "code",
   "execution_count": 576,
   "metadata": {},
   "outputs": [
    {
     "data": {
      "image/png": "[encoded data removed]",
      "text/plain": [
       "<Figure size 1152x720 with 1 Axes>"
      ]
     },
     "metadata": {
      "needs_background": "light"
     },
     "output_type": "display_data"
    }
   ],
   "source": [
    "plt.figure(1, figsize=(16, 10))\n",
    "plt.plot(sample_y[data[\"good\"]].values);"
   ]
  },
  {
   "cell_type": "code",
   "execution_count": 577,
   "metadata": {},
   "outputs": [
    {
     "data": {
      "text/plain": [
       "6.020208102723735"
      ]
     },
     "execution_count": 577,
     "metadata": {},
     "output_type": "execute_result"
    }
   ],
   "source": [
    "kurtosis(sample_y[data[\"good\"]], fisher=False)\n",
    "## 6.020208102723735"
   ]
  },
  {
   "cell_type": "markdown",
   "metadata": {},
   "source": [
    "- the response has quite high kurtosis, it means the response has fat tails\n",
    "\n",
    "\n",
    "- we can check the result"
   ]
  },
  {
   "cell_type": "code",
   "execution_count": 578,
   "metadata": {
    "scrolled": true
   },
   "outputs": [
    {
     "data": {
      "text/plain": [
       "0.0026166160667511207"
      ]
     },
     "execution_count": 578,
     "metadata": {},
     "output_type": "execute_result"
    }
   ],
   "source": [
    "np.sum(data[\"ret\"][3000:(3000+period)])\n",
    "## 0.002470774245956856"
   ]
  },
  {
   "cell_type": "code",
   "execution_count": 579,
   "metadata": {},
   "outputs": [
    {
     "data": {
      "text/plain": [
       "0.0026166160667511207"
      ]
     },
     "execution_count": 579,
     "metadata": {},
     "output_type": "execute_result"
    }
   ],
   "source": [
    "sample_y[2999]"
   ]
  },
  {
   "cell_type": "markdown",
   "metadata": {},
   "source": [
    "- so fcum means future sume, and ys is the future price return"
   ]
  },
  {
   "cell_type": "markdown",
   "metadata": {},
   "source": [
    "- now we create directory for this response signal"
   ]
  },
  {
   "cell_type": "code",
   "execution_count": 382,
   "metadata": {},
   "outputs": [],
   "source": [
    "## calculate future return\n",
    "class foctor_ret_period(factor_template):\n",
    "    factor_name = \"ret.period\"\n",
    "    \n",
    "    params = OrderedDict([\n",
    "        (\"period\", np.power(2, range(10,13)))\n",
    "    ])\n",
    "    \n",
    "    def formula(self, data, period):\n",
    "        return fcum(data[\"ret\"],period).values\n",
    "    \n",
    "y = foctor_ret_period()\n",
    "\n"
   ]
  },
  {
   "cell_type": "code",
   "execution_count": 383,
   "metadata": {},
   "outputs": [
    {
     "name": "stdout",
     "output_type": "stream",
     "text": [
      "e:/intern/tmp pkl/btc.usd.td/ret.1024\n",
      "e:/intern/tmp pkl/btc.usd.td/ret.2048\n",
      "e:/intern/tmp pkl/btc.usd.td/ret.4096\n",
      "e:/intern/tmp pkl/eth.usd.td/ret.1024\n",
      "e:/intern/tmp pkl/eth.usd.td/ret.2048\n",
      "e:/intern/tmp pkl/eth.usd.td/ret.4096\n",
      "e:/intern/tmp pkl/btc.usdt/ret.1024\n",
      "e:/intern/tmp pkl/btc.usdt/ret.2048\n",
      "e:/intern/tmp pkl/btc.usdt/ret.4096\n",
      "e:/intern/tmp pkl/eth.usdt/ret.1024\n",
      "e:/intern/tmp pkl/eth.usdt/ret.2048\n",
      "e:/intern/tmp pkl/eth.usdt/ret.4096\n"
     ]
    }
   ],
   "source": [
    "for product in product_list:\n",
    "    create_signal_path(y, product,SAVE_PATH);"
   ]
  },
  {
   "cell_type": "code",
   "execution_count": 388,
   "metadata": {},
   "outputs": [
    {
     "name": "stdout",
     "output_type": "stream",
     "text": [
      "Wall time: 5min 12s\n"
     ]
    },
    {
     "data": {
      "text/plain": [
       "''"
      ]
     },
     "execution_count": 388,
     "metadata": {},
     "output_type": "execute_result"
    }
   ],
   "source": [
    "%%time\n",
    "for product in product_list:\n",
    "    file_list = list(map(lambda x: DATA_PATH+product+\"/\"+x, os.listdir(DATA_PATH + product)))\n",
    "    parLapply(CORE_NUM, file_list, build_composite_signal,signal_list=y, product=product, HEAD_PATH=SAVE_PATH,n=14)\n",
    ";\n",
    "# Wall time: 5min 12s"
   ]
  },
  {
   "cell_type": "markdown",
   "metadata": {},
   "source": [
    "- now let's see how it looks like"
   ]
  },
  {
   "cell_type": "code",
   "execution_count": 386,
   "metadata": {},
   "outputs": [],
   "source": [
    "SAVE_PATH = \"e:/intern\""
   ]
  },
  {
   "cell_type": "code",
   "execution_count": 390,
   "metadata": {},
   "outputs": [
    {
     "name": "stdout",
     "output_type": "stream",
     "text": [
      "Wall time: 30.7 s\n"
     ]
    }
   ],
   "source": [
    "%%time\n",
    "for product in product_list[0:2]:\n",
    "    parLapply(CORE_NUM, [\"ret.4096\"], par_get_all_signal, file_list=all_dates, product=product, period=4096, SAVE_PATH = SAVE_PATH);\n",
    "\n",
    "# Wall time: 30.7 s"
   ]
  },
  {
   "cell_type": "code",
   "execution_count": 399,
   "metadata": {},
   "outputs": [],
   "source": [
    "all_signal = load(SAVE_PATH+\"/all signal/\"+ product_list[0]+ \".ret.\"+str(period)+\".pkl\")\n",
    "all_signal[np.isnan(all_signal)] = 0"
   ]
  },
  {
   "cell_type": "markdown",
   "metadata": {},
   "source": [
    "- plot the signal"
   ]
  },
  {
   "cell_type": "code",
   "execution_count": 400,
   "metadata": {},
   "outputs": [
    {
     "data": {
      "image/png": "[encoded data removed]",
      "text/plain": [
       "<Figure size 1152x720 with 1 Axes>"
      ]
     },
     "metadata": {
      "needs_background": "light"
     },
     "output_type": "display_data"
    }
   ],
   "source": [
    "plt.figure(1, figsize=(16, 10))\n",
    "plt.plot(all_signal);\n"
   ]
  },
  {
   "cell_type": "markdown",
   "metadata": {},
   "source": [
    "- check the statistics of the signal"
   ]
  },
  {
   "cell_type": "code",
   "execution_count": 401,
   "metadata": {},
   "outputs": [
    {
     "data": {
      "text/plain": [
       "(array([], dtype=int64),)"
      ]
     },
     "execution_count": 401,
     "metadata": {},
     "output_type": "execute_result"
    }
   ],
   "source": [
    "np.where(np.isnan(all_signal))"
   ]
  },
  {
   "cell_type": "code",
   "execution_count": 402,
   "metadata": {},
   "outputs": [
    {
     "name": "stdout",
     "output_type": "stream",
     "text": [
      "kurtosis= 125.69030334030893  skew= -4.042159028819147\n"
     ]
    }
   ],
   "source": [
    "print(\"kurtosis=\", kurtosis(all_signal, fisher=False), \" skew=\", skew(all_signal))\n",
    "## kurtosis= 125.69030334030893  skew= -4.042159028819147\n",
    "## we can see it has very fat tails\n",
    "## usually we don't adjust for response because we want to profit from the fat tails"
   ]
  },
  {
   "cell_type": "markdown",
   "metadata": {},
   "source": [
    "- let's try some vanish signal"
   ]
  },
  {
   "cell_type": "code",
   "execution_count": 404,
   "metadata": {},
   "outputs": [
    {
     "name": "stdout",
     "output_type": "stream",
     "text": [
      "kurtosis= 17.175934819150395  skew= -0.18472560796455703\n"
     ]
    },
    {
     "data": {
      "image/png": "[encoded data removed]",
      "text/plain": [
       "<Figure size 1152x720 with 1 Axes>"
      ]
     },
     "metadata": {
      "needs_background": "light"
     },
     "output_type": "display_data"
    }
   ],
   "source": [
    "all_signal = load(SAVE_PATH+\"/all signal/\"+ product_list[0]+ \".ret.\"+str(period)+\".pkl\")\n",
    "all_signal[np.isnan(all_signal)] = 0\n",
    "vanish_signal = vanish_thre(all_signal, 0.041)\n",
    "print(\"kurtosis=\", kurtosis(vanish_signal, fisher=False), \" skew=\", skew(vanish_signal))\n",
    "## kurtosis= 17.175934819150395  skew= -0.18472560796455703\n",
    "plt.figure(1, figsize=(16, 10))\n",
    "plt.plot(vanish_signal);"
   ]
  },
  {
   "cell_type": "code",
   "execution_count": null,
   "metadata": {},
   "outputs": [],
   "source": []
  },
  {
   "cell_type": "code",
   "execution_count": 405,
   "metadata": {},
   "outputs": [
    {
     "name": "stdout",
     "output_type": "stream",
     "text": [
      "kurtosis= 8.988163812284247  skew= -0.15211034759982459\n"
     ]
    },
    {
     "data": {
      "image/png": "[encoded data removed]",
      "text/plain": [
       "<Figure size 1152x720 with 1 Axes>"
      ]
     },
     "metadata": {
      "needs_background": "light"
     },
     "output_type": "display_data"
    }
   ],
   "source": [
    "all_signal = load(SAVE_PATH+\"/all signal/\"+ product_list[0]+ \".ret.\"+str(period)+\".pkl\")\n",
    "all_signal[np.isnan(all_signal)] = 0\n",
    "vanish_signal = vanish_thre(all_signal, 0.021)\n",
    "print(\"kurtosis=\", kurtosis(vanish_signal, fisher=False), \" skew=\", skew(vanish_signal))\n",
    "plt.figure(1, figsize=(16, 10))\n",
    "plt.plot(vanish_signal);\n",
    "## kurtosis= 8.988163812284247  skew= -0.15211034759982459\n"
   ]
  },
  {
   "cell_type": "code",
   "execution_count": 406,
   "metadata": {},
   "outputs": [
    {
     "name": "stdout",
     "output_type": "stream",
     "text": [
      "kurtosis= 5.48682803833185  skew= -0.1612669605531899\n"
     ]
    },
    {
     "data": {
      "image/png": "[encoded data removed]",
      "text/plain": [
       "<Figure size 1152x720 with 1 Axes>"
      ]
     },
     "metadata": {
      "needs_background": "light"
     },
     "output_type": "display_data"
    }
   ],
   "source": [
    "all_signal = load(SAVE_PATH+\"/all signal/\"+ product_list[0]+ \".ret.\"+str(period)+\".pkl\")\n",
    "all_signal[np.isnan(all_signal)] = 0\n",
    "vanish_signal = vanish_thre(all_signal, 0.011)\n",
    "print(\"kurtosis=\", kurtosis(vanish_signal, fisher=False), \" skew=\", skew(vanish_signal))\n",
    "plt.figure(1, figsize=(16, 10))\n",
    "plt.plot(vanish_signal);\n",
    "## kurtosis= 5.48682803833185  skew= -0.1612669605531899"
   ]
  },
  {
   "cell_type": "markdown",
   "metadata": {},
   "source": [
    "- it seems 0.01 fits our previous standard for predictive signals\n",
    "- but now we works for response so there may be some differences\n",
    "\n",
    "\n",
    "- let's create signals with vanish as well\n",
    "- our function can support only one parameter so we create twice"
   ]
  },
  {
   "cell_type": "code",
   "execution_count": 407,
   "metadata": {},
   "outputs": [],
   "source": [
    "class foctor_ret_period_004(factor_template):\n",
    "    factor_name = \"ret.period.004\"\n",
    "    \n",
    "    params = OrderedDict([\n",
    "        (\"period\", np.power(2, range(10,13)))\n",
    "    ])\n",
    "    \n",
    "    def formula(self, data, period):\n",
    "        return vanish_thre(fcum(data[\"ret\"],period), 0.041).values\n",
    "    \n",
    "y4 = foctor_ret_period_004()\n",
    "\n"
   ]
  },
  {
   "cell_type": "code",
   "execution_count": 408,
   "metadata": {},
   "outputs": [],
   "source": [
    "class foctor_ret_period_002(factor_template):\n",
    "    factor_name = \"ret.period.002\"\n",
    "    \n",
    "    params = OrderedDict([\n",
    "        (\"period\", np.power(2, range(10,13)))\n",
    "    ])\n",
    "    \n",
    "    def formula(self, data, period):\n",
    "        return vanish_thre(fcum(data[\"ret\"],period), 0.021).values\n",
    "    \n",
    "y2 = foctor_ret_period_002()\n",
    "\n"
   ]
  },
  {
   "cell_type": "code",
   "execution_count": 409,
   "metadata": {},
   "outputs": [
    {
     "name": "stdout",
     "output_type": "stream",
     "text": [
      "e:/intern/tmp pkl/btc.usd.td/ret.1024.004\n",
      "e:/intern/tmp pkl/btc.usd.td/ret.2048.004\n",
      "e:/intern/tmp pkl/btc.usd.td/ret.4096.004\n",
      "e:/intern/tmp pkl/eth.usd.td/ret.1024.004\n",
      "e:/intern/tmp pkl/eth.usd.td/ret.2048.004\n",
      "e:/intern/tmp pkl/eth.usd.td/ret.4096.004\n",
      "e:/intern/tmp pkl/btc.usdt/ret.1024.004\n",
      "e:/intern/tmp pkl/btc.usdt/ret.2048.004\n",
      "e:/intern/tmp pkl/btc.usdt/ret.4096.004\n",
      "e:/intern/tmp pkl/eth.usdt/ret.1024.004\n",
      "e:/intern/tmp pkl/eth.usdt/ret.2048.004\n",
      "e:/intern/tmp pkl/eth.usdt/ret.4096.004\n"
     ]
    }
   ],
   "source": [
    "for product in product_list:\n",
    "    create_signal_path(y4, product, SAVE_PATH)"
   ]
  },
  {
   "cell_type": "code",
   "execution_count": 410,
   "metadata": {},
   "outputs": [
    {
     "name": "stdout",
     "output_type": "stream",
     "text": [
      "e:/intern/tmp pkl/btc.usd.td/ret.1024.002\n",
      "e:/intern/tmp pkl/btc.usd.td/ret.2048.002\n",
      "e:/intern/tmp pkl/btc.usd.td/ret.4096.002\n",
      "e:/intern/tmp pkl/eth.usd.td/ret.1024.002\n",
      "e:/intern/tmp pkl/eth.usd.td/ret.2048.002\n",
      "e:/intern/tmp pkl/eth.usd.td/ret.4096.002\n",
      "e:/intern/tmp pkl/btc.usdt/ret.1024.002\n",
      "e:/intern/tmp pkl/btc.usdt/ret.2048.002\n",
      "e:/intern/tmp pkl/btc.usdt/ret.4096.002\n",
      "e:/intern/tmp pkl/eth.usdt/ret.1024.002\n",
      "e:/intern/tmp pkl/eth.usdt/ret.2048.002\n",
      "e:/intern/tmp pkl/eth.usdt/ret.4096.002\n"
     ]
    }
   ],
   "source": [
    "for product in product_list:\n",
    "    create_signal_path(y2, product, SAVE_PATH)"
   ]
  },
  {
   "cell_type": "code",
   "execution_count": 411,
   "metadata": {
    "scrolled": true
   },
   "outputs": [
    {
     "name": "stdout",
     "output_type": "stream",
     "text": [
      "Wall time: 4min 45s\n"
     ]
    },
    {
     "data": {
      "text/plain": [
       "''"
      ]
     },
     "execution_count": 411,
     "metadata": {},
     "output_type": "execute_result"
    }
   ],
   "source": [
    "%%time\n",
    "for product in product_list:\n",
    "    file_list = list(map(lambda x: DATA_PATH+product+\"/\"+x, os.listdir(DATA_PATH + product)))\n",
    "    parLapply(CORE_NUM, file_list, build_composite_signal,signal_list=y4, product=product, HEAD_PATH=SAVE_PATH, n=14)\n",
    ";\n",
    "## Wall time:  4min 45s"
   ]
  },
  {
   "cell_type": "code",
   "execution_count": 412,
   "metadata": {},
   "outputs": [
    {
     "name": "stdout",
     "output_type": "stream",
     "text": [
      "Wall time: 4min 45s\n"
     ]
    },
    {
     "data": {
      "text/plain": [
       "''"
      ]
     },
     "execution_count": 412,
     "metadata": {},
     "output_type": "execute_result"
    }
   ],
   "source": [
    "%%time\n",
    "for product in product_list:\n",
    "    file_list = list(map(lambda x: DATA_PATH+product+\"/\"+x, os.listdir(DATA_PATH + product)))\n",
    "    parLapply(CORE_NUM, file_list, build_composite_signal,signal_list=y2, product=product, HEAD_PATH=SAVE_PATH,n=14)\n",
    ";\n",
    "## Wall time: 5min 31s"
   ]
  },
  {
   "cell_type": "code",
   "execution_count": 413,
   "metadata": {},
   "outputs": [],
   "source": [
    "class foctor_ret_period_001(factor_template):\n",
    "    factor_name = \"ret.period.001\"\n",
    "    \n",
    "    params = OrderedDict([\n",
    "        (\"period\", np.power(2, range(10,13)))\n",
    "    ])\n",
    "    \n",
    "    def formula(self, data, period):\n",
    "        return vanish_thre(fcum(data[\"ret\"],period), 0.011).values\n",
    "    \n",
    "y1 = foctor_ret_period_001()\n"
   ]
  },
  {
   "cell_type": "code",
   "execution_count": 414,
   "metadata": {},
   "outputs": [
    {
     "name": "stdout",
     "output_type": "stream",
     "text": [
      "e:/intern/tmp pkl/btc.usd.td/ret.1024.001\n",
      "e:/intern/tmp pkl/btc.usd.td/ret.2048.001\n",
      "e:/intern/tmp pkl/btc.usd.td/ret.4096.001\n",
      "e:/intern/tmp pkl/eth.usd.td/ret.1024.001\n",
      "e:/intern/tmp pkl/eth.usd.td/ret.2048.001\n",
      "e:/intern/tmp pkl/eth.usd.td/ret.4096.001\n",
      "e:/intern/tmp pkl/btc.usdt/ret.1024.001\n",
      "e:/intern/tmp pkl/btc.usdt/ret.2048.001\n",
      "e:/intern/tmp pkl/btc.usdt/ret.4096.001\n",
      "e:/intern/tmp pkl/eth.usdt/ret.1024.001\n",
      "e:/intern/tmp pkl/eth.usdt/ret.2048.001\n",
      "e:/intern/tmp pkl/eth.usdt/ret.4096.001\n"
     ]
    }
   ],
   "source": [
    "for product in product_list:\n",
    "    create_signal_path(y1, product, SAVE_PATH)"
   ]
  },
  {
   "cell_type": "code",
   "execution_count": 415,
   "metadata": {},
   "outputs": [
    {
     "name": "stdout",
     "output_type": "stream",
     "text": [
      "Wall time: 4min 39s\n"
     ]
    },
    {
     "data": {
      "text/plain": [
       "''"
      ]
     },
     "execution_count": 415,
     "metadata": {},
     "output_type": "execute_result"
    }
   ],
   "source": [
    "%%time\n",
    "for product in product_list:\n",
    "    file_list = list(map(lambda x: DATA_PATH+product+\"/\"+x, os.listdir(DATA_PATH + product)))\n",
    "    parLapply(CORE_NUM, file_list, build_composite_signal,signal_list=y1, product=product, HEAD_PATH=SAVE_PATH, n=14)\n",
    ";\n",
    "##Wall time:  4min 39s"
   ]
  },
  {
   "cell_type": "markdown",
   "metadata": {},
   "source": [
    "- now we have 3 response values: future return, future return cut off at 0.02, future return cut of at 0.01\n",
    "\n",
    "\n",
    "- let's see how they perform with predictive signals\n",
    "\n",
    "\n",
    "- at first we need to make sum changes \n",
    "- we can check the result"
   ]
  },
  {
   "cell_type": "code",
   "execution_count": 417,
   "metadata": {},
   "outputs": [
    {
     "data": {
      "text/plain": [
       "122"
      ]
     },
     "execution_count": 417,
     "metadata": {},
     "output_type": "execute_result"
    }
   ],
   "source": [
    "sum(train_sample)\n",
    "## 122"
   ]
  },
  {
   "cell_type": "code",
   "execution_count": 418,
   "metadata": {},
   "outputs": [
    {
     "data": {
      "text/plain": [
       "92"
      ]
     },
     "execution_count": 418,
     "metadata": {},
     "output_type": "execute_result"
    }
   ],
   "source": [
    "sum(test_sample)\n",
    "## 92"
   ]
  },
  {
   "cell_type": "markdown",
   "metadata": {},
   "source": [
    "- at first we fit a linear regression model without any regularization\n",
    "- we need to know the length of each day"
   ]
  },
  {
   "cell_type": "code",
   "execution_count": 419,
   "metadata": {},
   "outputs": [],
   "source": [
    "## coutn the number of signals of every day\n",
    "def count_daily_num(x, period):\n",
    "    data = load(x)\n",
    "    return np.floor(sum(data[\"good\"])/period)"
   ]
  },
  {
   "cell_type": "code",
   "execution_count": 420,
   "metadata": {},
   "outputs": [],
   "source": [
    "os.makedirs(HEAD_PATH+\"/daily num\", exist_ok=True)"
   ]
  },
  {
   "cell_type": "code",
   "execution_count": 431,
   "metadata": {},
   "outputs": [
    {
     "name": "stdout",
     "output_type": "stream",
     "text": [
      "Wall time: 52.2 s\n"
     ]
    }
   ],
   "source": [
    "%%time\n",
    "for product in product_list[0:2]:\n",
    "    file_list = list(map(lambda x: DATA_PATH+product+\"/\"+x, all_dates))\n",
    "    daily_num = pd.Series(parLapply(CORE_NUM, file_list, count_daily_num, period=period))\n",
    "    save(daily_num, HEAD_PATH+\"/daily num/\"+product+\".pkl\")\n",
    "    \n",
    "# Wall time: 52.2 s\n"
   ]
  },
  {
   "cell_type": "markdown",
   "metadata": {},
   "source": [
    "- we don't need to do it every time"
   ]
  },
  {
   "cell_type": "code",
   "execution_count": 432,
   "metadata": {},
   "outputs": [],
   "source": [
    "daily_num = load(HEAD_PATH+\"/daily num/\"+product+\".pkl\")"
   ]
  },
  {
   "cell_type": "markdown",
   "metadata": {},
   "source": [
    "- we get the number of independent training samples"
   ]
  },
  {
   "cell_type": "code",
   "execution_count": 433,
   "metadata": {},
   "outputs": [
    {
     "data": {
      "text/plain": [
       "3801.0"
      ]
     },
     "execution_count": 433,
     "metadata": {},
     "output_type": "execute_result"
    }
   ],
   "source": [
    "n_train = sum(daily_num[train_sample])\n",
    "n_train\n",
    "## 3801.0"
   ]
  },
  {
   "cell_type": "markdown",
   "metadata": {},
   "source": [
    "- we can see there there are not many samples\n",
    "- but they are independent signals because we choose one sample out of every period samples\n",
    "- for every tick, we predict the price return of next 4096 ticks\n",
    "- so only 1/4096 of them are independent"
   ]
  },
  {
   "cell_type": "markdown",
   "metadata": {},
   "source": [
    "- number of signals"
   ]
  },
  {
   "cell_type": "code",
   "execution_count": 437,
   "metadata": {},
   "outputs": [
    {
     "data": {
      "text/plain": [
       "28"
      ]
     },
     "execution_count": 437,
     "metadata": {},
     "output_type": "execute_result"
    }
   ],
   "source": [
    "n_signal = len(signal_list)\n",
    "n_signal\n",
    "## 28"
   ]
  },
  {
   "cell_type": "code",
   "execution_count": 438,
   "metadata": {},
   "outputs": [],
   "source": [
    "## construct the signal matrix\n",
    "## we want to put multiple signals into a matrix\n",
    "def get_sample_signal(good_night_files, sample, product, signal_list, period, daily_num):\n",
    "    n_samples = sum(daily_num[sample]) ## tottal number of samples\n",
    "    n_days = sum(sample)  ## number of days\n",
    "    n_signal = len(signal_list) ## number of signals, the matrix would be n_samples*n_signal\n",
    "    all_signal =  np.ndarray(shape=(int(n_samples),n_signal))\n",
    "    cur = 0\n",
    "    for file in good_night_files[sample]:\n",
    "        #data = load(HEAD_PATH+\"/pkl tick/\"+product+\"/\"+file)\n",
    "        good = load(SAVE_PATH + \"/good pkl/\" + product +\"/\"+file)\n",
    "        chosen = (np.arange(sum(good))+1) % period==0\n",
    "        n_chosen = sum(chosen)\n",
    "        for i in range(n_signal):\n",
    "            signal_name = signal_list[i]\n",
    "            S = load(SAVE_PATH+\"/tmp pkl/\"+product+\"/\"+signal_name+\"/\"+file)\n",
    "            S = S[good]\n",
    "            signal = S[(np.arange(len(S))+1) % period == 0]\n",
    "            signal[np.isnan(signal)] = 0 ## the ret.cor has some bad records\n",
    "            signal[np.isinf(signal)] = 0 ## the ret.cor has some bad records\n",
    "            all_signal[cur:(cur+n_chosen),i] = signal\n",
    "        cur = cur+n_chosen\n",
    "    all_signal = pd.DataFrame(all_signal, columns=signal_list)\n",
    "    return all_signal"
   ]
  },
  {
   "cell_type": "markdown",
   "metadata": {},
   "source": [
    "- Now we get the train and test samples"
   ]
  },
  {
   "cell_type": "code",
   "execution_count": 439,
   "metadata": {},
   "outputs": [],
   "source": [
    "os.makedirs(HEAD_PATH+\"/train test mat/\", exist_ok=True)"
   ]
  },
  {
   "cell_type": "code",
   "execution_count": 440,
   "metadata": {},
   "outputs": [
    {
     "name": "stdout",
     "output_type": "stream",
     "text": [
      "btc.usd.td\n",
      "eth.usd.td\n",
      "Wall time: 7min 16s\n"
     ]
    }
   ],
   "source": [
    "%%time\n",
    "for product in product_list[0:2]:\n",
    "    print(product)\n",
    "    daily_num = load(HEAD_PATH+\"/daily num/\"+product+\".pkl\")\n",
    "    train_mat = get_sample_signal(all_dates, train_sample, product, \n",
    "                                  np.append(signal_list, [\"ret.\"+str(period),  \"ret.\"+str(period)+\".001\",\"ret.\"+str(period)+\".002\",\"ret.\"+str(period)+\".004\" ]), \n",
    "                                  period, daily_num)\n",
    "    os.makedirs(HEAD_PATH+\"/train test mat/\"+product, exist_ok=True)\n",
    "    save(train_mat, HEAD_PATH+\"/train test mat/\"+product+\".train.mat.pkl\")\n",
    "    \n",
    "# btc.usd.td\n",
    "# eth.usd.td\n",
    "# Wall time: 7min 16s\n"
   ]
  },
  {
   "cell_type": "code",
   "execution_count": 441,
   "metadata": {},
   "outputs": [],
   "source": [
    "import  sklearn.preprocessing"
   ]
  },
  {
   "cell_type": "code",
   "execution_count": 442,
   "metadata": {},
   "outputs": [
    {
     "data": {
      "text/plain": [
       "Index(['nr.4096', 'dbook.4096', 'range.pos.4096', 'price.osci.4096',\n",
       "       'ma.dif.10.4096', 'kdj.k.4096', 'kdj.j.4096', 'nr.range.4096',\n",
       "       'dbook.range.4096', 'range.pos.range.4096', 'price.osci.range.4096',\n",
       "       'ma.dif.10.range.4096', 'kdj.k.range.4096', 'kdj.j.range.4096',\n",
       "       'nr.std.4096', 'dbook.std.4096', 'range.pos.std.4096',\n",
       "       'price.osci.std.4096', 'ma.dif.10.std.4096', 'kdj.k.std.4096',\n",
       "       'kdj.j.std.4096', 'nr.trend.index.4096', 'dbook.trend.index.4096',\n",
       "       'range.pos.trend.index.4096', 'price.osci.trend.index.4096',\n",
       "       'ma.dif.10.trend.index.4096', 'kdj.k.trend.index.4096',\n",
       "       'kdj.j.trend.index.4096', 'ret.4096', 'ret.4096.001', 'ret.4096.002',\n",
       "       'ret.4096.004'],\n",
       "      dtype='object')"
      ]
     },
     "execution_count": 442,
     "metadata": {},
     "output_type": "execute_result"
    }
   ],
   "source": [
    "ori_mat = load(HEAD_PATH+\"/train test mat/\"+product_list[0]+\".train.mat.pkl\")\n",
    "ori_mat.columns"
   ]
  },
  {
   "cell_type": "markdown",
   "metadata": {},
   "source": [
    "- we add the y signal"
   ]
  },
  {
   "cell_type": "markdown",
   "metadata": {},
   "source": [
    "- we can check the names"
   ]
  },
  {
   "cell_type": "code",
   "execution_count": 443,
   "metadata": {},
   "outputs": [
    {
     "name": "stdout",
     "output_type": "stream",
     "text": [
      "btc.usd.td (4470, 32)\n",
      "eth.usd.td (3801, 32)\n"
     ]
    }
   ],
   "source": [
    "train_mat = load(HEAD_PATH+\"/train test mat/\"+product_list[0]+\".train.mat.pkl\")\n",
    "train_mat = pd.DataFrame(data=sklearn.preprocessing.scale(train_mat, with_mean=False), columns=ori_mat.columns)\n",
    "print(product_list[0], train_mat.shape)\n",
    "for product in product_list[1:2]:\n",
    "    cur_mat = load(HEAD_PATH+\"/train test mat/\"+product+\".train.mat.pkl\")\n",
    "    ## standardize the matrix before combination, with_mean=False,we don't use intercept\n",
    "    cur_mat = pd.DataFrame(data=sklearn.preprocessing.scale(cur_mat, with_mean=False), columns=ori_mat.columns)\n",
    "    print(product, cur_mat.shape)\n",
    "    train_mat = train_mat.append(cur_mat)\n",
    "    \n",
    "# btc.usd.td (4470, 32)\n",
    "# eth.usd.td (3801, 32)\n"
   ]
  },
  {
   "cell_type": "code",
   "execution_count": 444,
   "metadata": {
    "scrolled": true
   },
   "outputs": [
    {
     "data": {
      "text/plain": [
       "(8271, 32)"
      ]
     },
     "execution_count": 444,
     "metadata": {},
     "output_type": "execute_result"
    }
   ],
   "source": [
    "train_mat.shape\n",
    "\n",
    "# (8271, 32)"
   ]
  },
  {
   "cell_type": "markdown",
   "metadata": {},
   "source": [
    "- at first we can fit a linear regression to calcualte t-statistics "
   ]
  },
  {
   "cell_type": "code",
   "execution_count": 445,
   "metadata": {},
   "outputs": [],
   "source": [
    "import statsmodels.formula.api as smf"
   ]
  },
  {
   "cell_type": "code",
   "execution_count": 446,
   "metadata": {},
   "outputs": [
    {
     "data": {
      "text/plain": [
       "\"train_mat['ret.4096'] ~ train_mat['nr.4096'] + 0\""
      ]
     },
     "execution_count": 446,
     "metadata": {},
     "output_type": "execute_result"
    }
   ],
   "source": [
    "formula = \"train_mat['ret.\"+str(period)+\"'] ~ train_mat['nr.\"+str(period)+\"'] + 0\"\n",
    "formula\n",
    "## \"train_mat['ret.4096'] ~ train_mat['nr.4096'] + 0\""
   ]
  },
  {
   "cell_type": "code",
   "execution_count": 447,
   "metadata": {},
   "outputs": [
    {
     "name": "stdout",
     "output_type": "stream",
     "text": [
      "                                  OLS Regression Results                                  \n",
      "==========================================================================================\n",
      "Dep. Variable:     train_mat['ret.4096']   R-squared (uncentered):                   0.001\n",
      "Model:                               OLS   Adj. R-squared (uncentered):              0.001\n",
      "Method:                    Least Squares   F-statistic:                              5.224\n",
      "Date:                   Fri, 17 Jul 2020   Prob (F-statistic):                      0.0223\n",
      "Time:                           14:34:04   Log-Likelihood:                         -11734.\n",
      "No. Observations:                   8271   AIC:                                  2.347e+04\n",
      "Df Residuals:                       8270   BIC:                                  2.348e+04\n",
      "Df Model:                              1                                                  \n",
      "Covariance Type:               nonrobust                                                  \n",
      "========================================================================================\n",
      "                           coef    std err          t      P>|t|      [0.025      0.975]\n",
      "----------------------------------------------------------------------------------------\n",
      "train_mat['nr.4096']     0.0251      0.011      2.286      0.022       0.004       0.047\n",
      "==============================================================================\n",
      "Omnibus:                     2331.890   Durbin-Watson:                   2.012\n",
      "Prob(Omnibus):                  0.000   Jarque-Bera (JB):           267842.517\n",
      "Skew:                          -0.158   Prob(JB):                         0.00\n",
      "Kurtosis:                      30.877   Cond. No.                         1.00\n",
      "==============================================================================\n",
      "\n",
      "Warnings:\n",
      "[1] Standard Errors assume that the covariance matrix of the errors is correctly specified.\n"
     ]
    }
   ],
   "source": [
    "fit_one_lm = smf.ols(formula=formula, data=train_mat[train_mat.columns[:-2]]).fit()\n",
    "print(fit_one_lm.summary())\n",
    "\n",
    "#   OLS Regression Results                                  \n",
    "# ==========================================================================================\n",
    "# Dep. Variable:     train_mat['ret.4096']   R-squared (uncentered):                   0.001\n",
    "# Model:                               OLS   Adj. R-squared (uncentered):              0.001\n",
    "# Method:                    Least Squares   F-statistic:                              5.224\n",
    "# Date:                   Fri, 17 Jul 2020   Prob (F-statistic):                      0.0223\n",
    "# Time:                           14:34:04   Log-Likelihood:                         -11734.\n",
    "# No. Observations:                   8271   AIC:                                  2.347e+04\n",
    "# Df Residuals:                       8270   BIC:                                  2.348e+04\n",
    "# Df Model:                              1                                                  \n",
    "# Covariance Type:               nonrobust                                                  \n",
    "# ========================================================================================\n",
    "#                            coef    std err          t      P>|t|      [0.025      0.975]\n",
    "# ----------------------------------------------------------------------------------------\n",
    "# train_mat['nr.4096']     0.0251      0.011      2.286      0.022       0.004       0.047\n",
    "# ==============================================================================\n",
    "# Omnibus:                     2331.890   Durbin-Watson:                   2.012\n",
    "# Prob(Omnibus):                  0.000   Jarque-Bera (JB):           267842.517\n",
    "# Skew:                          -0.158   Prob(JB):                         0.00\n",
    "# Kurtosis:                      30.877   Cond. No.                         1.00\n",
    "# ==============================================================================\n",
    "\n",
    "# Warnings:\n",
    "# [1] Standard Errors assume that the covariance matrix of the errors is correctly specified."
   ]
  },
  {
   "cell_type": "code",
   "execution_count": 448,
   "metadata": {},
   "outputs": [],
   "source": [
    "## function to calculate t-stat\n",
    "def get_t_value(train_mat, signal, response):\n",
    "    beta = np.sum(train_mat[signal]*train_mat[response])/sum(train_mat[signal]**2) ## regressio coef\n",
    "    sigma = np.sqrt(np.sum((train_mat[signal]*beta-train_mat[response])**2) / (len(train_mat)-1)) \n",
    "    v = np.sqrt(np.sum(train_mat[signal]**2)) ## sigma/v is the standard devication of beta_hat\n",
    "    return beta/sigma*v"
   ]
  },
  {
   "cell_type": "markdown",
   "metadata": {},
   "source": [
    "- we can see our function is correct\n",
    "- now let's use this function to calcualte all t-stat of each variable"
   ]
  },
  {
   "cell_type": "code",
   "execution_count": 449,
   "metadata": {},
   "outputs": [
    {
     "data": {
      "text/plain": [
       "[2.28567146700119,\n",
       " 1.3902820478223545,\n",
       " -0.062192260970180616,\n",
       " -0.8171281076382253,\n",
       " -2.688310646802153,\n",
       " -1.8047060480989459,\n",
       " -2.5477538479582984,\n",
       " 4.71077267194801,\n",
       " 0.8794278429152935,\n",
       " -0.44177983414463745,\n",
       " -0.561818075729579,\n",
       " 0.4715795174349788,\n",
       " -2.4709529223444697,\n",
       " -3.4870957888279683,\n",
       " 4.650682364840856,\n",
       " 2.885444954815015,\n",
       " -0.25964809622223944,\n",
       " -0.865928879456251,\n",
       " -1.7618135911731223,\n",
       " -3.1825957083060437,\n",
       " -4.044716249466043,\n",
       " 0.9103932411963609,\n",
       " 0.5693307791740592,\n",
       " -1.5263996225495877,\n",
       " -1.3919836463525155,\n",
       " -0.9482497649199523,\n",
       " -2.7355251515630123,\n",
       " -3.206744047081926]"
      ]
     },
     "execution_count": 449,
     "metadata": {},
     "output_type": "execute_result"
    }
   ],
   "source": [
    "signal_list = np.array(signal_list)\n",
    "t_stat = list(map(lambda x: get_t_value(train_mat=train_mat, signal=x, response=\"ret.\"+str(period)), signal_list))\n",
    "t_stat\n",
    "\n",
    "# [2.28567146700119,\n",
    "#  1.3902820478223545,\n",
    "#  -0.062192260970180616,\n",
    "#  -0.8171281076382253,\n",
    "#  -2.688310646802153,\n",
    "#  -1.8047060480989459,\n",
    "#  -2.5477538479582984,\n",
    "#  4.71077267194801,\n",
    "#  0.8794278429152935,\n",
    "#  -0.44177983414463745,\n",
    "#  -0.561818075729579,\n",
    "#  0.4715795174349788,\n",
    "#  -2.4709529223444697,\n",
    "#  -3.4870957888279683,\n",
    "#  4.650682364840856,\n",
    "#  2.885444954815015,\n",
    "#  -0.25964809622223944,\n",
    "#  -0.865928879456251,\n",
    "#  -1.7618135911731223,\n",
    "#  -3.1825957083060437,\n",
    "#  -4.044716249466043,\n",
    "#  0.9103932411963609,\n",
    "#  0.5693307791740592,\n",
    "#  -1.5263996225495877,\n",
    "#  -1.3919836463525155,\n",
    "#  -0.9482497649199523,\n",
    "#  -2.7355251515630123,\n",
    "#  -3.206744047081926]"
   ]
  },
  {
   "cell_type": "markdown",
   "metadata": {},
   "source": [
    "- if we use t.stat value of 2 to filter out good signals, we have"
   ]
  },
  {
   "cell_type": "code",
   "execution_count": 450,
   "metadata": {},
   "outputs": [
    {
     "data": {
      "text/plain": [
       "array(['nr.4096', 'ma.dif.10.4096', 'kdj.j.4096', 'nr.range.4096',\n",
       "       'kdj.k.range.4096', 'kdj.j.range.4096', 'nr.std.4096',\n",
       "       'dbook.std.4096', 'kdj.k.std.4096', 'kdj.j.std.4096',\n",
       "       'kdj.k.trend.index.4096', 'kdj.j.trend.index.4096'], dtype='<U27')"
      ]
     },
     "execution_count": 450,
     "metadata": {},
     "output_type": "execute_result"
    }
   ],
   "source": [
    "signal_list[np.where(np.abs(t_stat)>2)]\n",
    "\n",
    "# array(['nr.4096', 'ma.dif.10.4096', 'kdj.j.4096', 'nr.range.4096',\n",
    "#        'kdj.k.range.4096', 'kdj.j.range.4096', 'nr.std.4096',\n",
    "#        'dbook.std.4096', 'kdj.k.std.4096', 'kdj.j.std.4096',\n",
    "#        'kdj.k.trend.index.4096', 'kdj.j.trend.index.4096'], dtype='<U27')"
   ]
  },
  {
   "cell_type": "code",
   "execution_count": 451,
   "metadata": {},
   "outputs": [
    {
     "data": {
      "text/plain": [
       "array(['nr.4096', 'ma.dif.10.4096', 'kdj.j.4096', 'nr.range.4096',\n",
       "       'kdj.k.range.4096', 'kdj.j.range.4096', 'nr.std.4096',\n",
       "       'dbook.std.4096', 'kdj.k.std.4096', 'kdj.j.std.4096',\n",
       "       'kdj.k.trend.index.4096', 'kdj.j.trend.index.4096'], dtype='<U27')"
      ]
     },
     "execution_count": 451,
     "metadata": {},
     "output_type": "execute_result"
    }
   ],
   "source": [
    "good_index = signal_list[np.abs(t_stat)>2]\n",
    "good_index\n",
    "\n",
    "# array(['nr.4096', 'ma.dif.10.4096', 'kdj.j.4096', 'nr.range.4096',\n",
    "#        'kdj.k.range.4096', 'kdj.j.range.4096', 'nr.std.4096',\n",
    "#        'dbook.std.4096', 'kdj.k.std.4096', 'kdj.j.std.4096',\n",
    "#        'kdj.k.trend.index.4096', 'kdj.j.trend.index.4096'], dtype='<U27')"
   ]
  },
  {
   "cell_type": "markdown",
   "metadata": {},
   "source": [
    "- but we know a single signal works well doesn't mean it works well when combined with other signals\n",
    "- signals have correlation, if 10 highly correlated signals together would not make prediction better"
   ]
  },
  {
   "cell_type": "code",
   "execution_count": 452,
   "metadata": {},
   "outputs": [
    {
     "data": {
      "text/html": [
       "<div>\n",
       "<style scoped>\n",
       "    .dataframe tbody tr th:only-of-type {\n",
       "        vertical-align: middle;\n",
       "    }\n",
       "\n",
       "    .dataframe tbody tr th {\n",
       "        vertical-align: top;\n",
       "    }\n",
       "\n",
       "    .dataframe thead th {\n",
       "        text-align: right;\n",
       "    }\n",
       "</style>\n",
       "<table border=\"1\" class=\"dataframe\">\n",
       "  <thead>\n",
       "    <tr style=\"text-align: right;\">\n",
       "      <th></th>\n",
       "      <th>nr.4096</th>\n",
       "      <th>ma.dif.10.4096</th>\n",
       "      <th>kdj.j.4096</th>\n",
       "      <th>nr.range.4096</th>\n",
       "      <th>kdj.k.range.4096</th>\n",
       "      <th>kdj.j.range.4096</th>\n",
       "      <th>nr.std.4096</th>\n",
       "      <th>dbook.std.4096</th>\n",
       "      <th>kdj.k.std.4096</th>\n",
       "      <th>kdj.j.std.4096</th>\n",
       "      <th>kdj.k.trend.index.4096</th>\n",
       "      <th>kdj.j.trend.index.4096</th>\n",
       "    </tr>\n",
       "  </thead>\n",
       "  <tbody>\n",
       "    <tr>\n",
       "      <th>nr.4096</th>\n",
       "      <td>1.000000</td>\n",
       "      <td>0.311746</td>\n",
       "      <td>0.484138</td>\n",
       "      <td>0.487768</td>\n",
       "      <td>0.230860</td>\n",
       "      <td>0.222039</td>\n",
       "      <td>0.451311</td>\n",
       "      <td>0.098395</td>\n",
       "      <td>0.181239</td>\n",
       "      <td>0.177674</td>\n",
       "      <td>0.646495</td>\n",
       "      <td>0.604417</td>\n",
       "    </tr>\n",
       "    <tr>\n",
       "      <th>ma.dif.10.4096</th>\n",
       "      <td>0.311746</td>\n",
       "      <td>1.000000</td>\n",
       "      <td>0.388670</td>\n",
       "      <td>0.535849</td>\n",
       "      <td>0.728825</td>\n",
       "      <td>0.746245</td>\n",
       "      <td>0.470232</td>\n",
       "      <td>-0.012621</td>\n",
       "      <td>0.719173</td>\n",
       "      <td>0.732723</td>\n",
       "      <td>0.394555</td>\n",
       "      <td>0.416507</td>\n",
       "    </tr>\n",
       "    <tr>\n",
       "      <th>kdj.j.4096</th>\n",
       "      <td>0.484138</td>\n",
       "      <td>0.388670</td>\n",
       "      <td>1.000000</td>\n",
       "      <td>0.330837</td>\n",
       "      <td>0.413593</td>\n",
       "      <td>0.471934</td>\n",
       "      <td>0.288114</td>\n",
       "      <td>0.077483</td>\n",
       "      <td>0.394659</td>\n",
       "      <td>0.445761</td>\n",
       "      <td>0.743577</td>\n",
       "      <td>0.846767</td>\n",
       "    </tr>\n",
       "    <tr>\n",
       "      <th>nr.range.4096</th>\n",
       "      <td>0.487768</td>\n",
       "      <td>0.535849</td>\n",
       "      <td>0.330837</td>\n",
       "      <td>1.000000</td>\n",
       "      <td>0.498352</td>\n",
       "      <td>0.495880</td>\n",
       "      <td>0.951891</td>\n",
       "      <td>0.256616</td>\n",
       "      <td>0.387302</td>\n",
       "      <td>0.391155</td>\n",
       "      <td>0.396076</td>\n",
       "      <td>0.391803</td>\n",
       "    </tr>\n",
       "    <tr>\n",
       "      <th>kdj.k.range.4096</th>\n",
       "      <td>0.230860</td>\n",
       "      <td>0.728825</td>\n",
       "      <td>0.413593</td>\n",
       "      <td>0.498352</td>\n",
       "      <td>1.000000</td>\n",
       "      <td>0.918824</td>\n",
       "      <td>0.418963</td>\n",
       "      <td>0.122393</td>\n",
       "      <td>0.918095</td>\n",
       "      <td>0.859495</td>\n",
       "      <td>0.477976</td>\n",
       "      <td>0.454611</td>\n",
       "    </tr>\n",
       "    <tr>\n",
       "      <th>kdj.j.range.4096</th>\n",
       "      <td>0.222039</td>\n",
       "      <td>0.746245</td>\n",
       "      <td>0.471934</td>\n",
       "      <td>0.495880</td>\n",
       "      <td>0.918824</td>\n",
       "      <td>1.000000</td>\n",
       "      <td>0.421115</td>\n",
       "      <td>0.139587</td>\n",
       "      <td>0.839552</td>\n",
       "      <td>0.906534</td>\n",
       "      <td>0.432907</td>\n",
       "      <td>0.484108</td>\n",
       "    </tr>\n",
       "    <tr>\n",
       "      <th>nr.std.4096</th>\n",
       "      <td>0.451311</td>\n",
       "      <td>0.470232</td>\n",
       "      <td>0.288114</td>\n",
       "      <td>0.951891</td>\n",
       "      <td>0.418963</td>\n",
       "      <td>0.421115</td>\n",
       "      <td>1.000000</td>\n",
       "      <td>0.217969</td>\n",
       "      <td>0.349738</td>\n",
       "      <td>0.361112</td>\n",
       "      <td>0.348510</td>\n",
       "      <td>0.347579</td>\n",
       "    </tr>\n",
       "    <tr>\n",
       "      <th>dbook.std.4096</th>\n",
       "      <td>0.098395</td>\n",
       "      <td>-0.012621</td>\n",
       "      <td>0.077483</td>\n",
       "      <td>0.256616</td>\n",
       "      <td>0.122393</td>\n",
       "      <td>0.139587</td>\n",
       "      <td>0.217969</td>\n",
       "      <td>1.000000</td>\n",
       "      <td>0.000476</td>\n",
       "      <td>0.014060</td>\n",
       "      <td>0.095167</td>\n",
       "      <td>0.099178</td>\n",
       "    </tr>\n",
       "    <tr>\n",
       "      <th>kdj.k.std.4096</th>\n",
       "      <td>0.181239</td>\n",
       "      <td>0.719173</td>\n",
       "      <td>0.394659</td>\n",
       "      <td>0.387302</td>\n",
       "      <td>0.918095</td>\n",
       "      <td>0.839552</td>\n",
       "      <td>0.349738</td>\n",
       "      <td>0.000476</td>\n",
       "      <td>1.000000</td>\n",
       "      <td>0.947516</td>\n",
       "      <td>0.404472</td>\n",
       "      <td>0.383205</td>\n",
       "    </tr>\n",
       "    <tr>\n",
       "      <th>kdj.j.std.4096</th>\n",
       "      <td>0.177674</td>\n",
       "      <td>0.732723</td>\n",
       "      <td>0.445761</td>\n",
       "      <td>0.391155</td>\n",
       "      <td>0.859495</td>\n",
       "      <td>0.906534</td>\n",
       "      <td>0.361112</td>\n",
       "      <td>0.014060</td>\n",
       "      <td>0.947516</td>\n",
       "      <td>1.000000</td>\n",
       "      <td>0.372866</td>\n",
       "      <td>0.409933</td>\n",
       "    </tr>\n",
       "    <tr>\n",
       "      <th>kdj.k.trend.index.4096</th>\n",
       "      <td>0.646495</td>\n",
       "      <td>0.394555</td>\n",
       "      <td>0.743577</td>\n",
       "      <td>0.396076</td>\n",
       "      <td>0.477976</td>\n",
       "      <td>0.432907</td>\n",
       "      <td>0.348510</td>\n",
       "      <td>0.095167</td>\n",
       "      <td>0.404472</td>\n",
       "      <td>0.372866</td>\n",
       "      <td>1.000000</td>\n",
       "      <td>0.914882</td>\n",
       "    </tr>\n",
       "    <tr>\n",
       "      <th>kdj.j.trend.index.4096</th>\n",
       "      <td>0.604417</td>\n",
       "      <td>0.416507</td>\n",
       "      <td>0.846767</td>\n",
       "      <td>0.391803</td>\n",
       "      <td>0.454611</td>\n",
       "      <td>0.484108</td>\n",
       "      <td>0.347579</td>\n",
       "      <td>0.099178</td>\n",
       "      <td>0.383205</td>\n",
       "      <td>0.409933</td>\n",
       "      <td>0.914882</td>\n",
       "      <td>1.000000</td>\n",
       "    </tr>\n",
       "  </tbody>\n",
       "</table>\n",
       "</div>"
      ],
      "text/plain": [
       "                         nr.4096  ma.dif.10.4096  kdj.j.4096  nr.range.4096  \\\n",
       "nr.4096                 1.000000        0.311746    0.484138       0.487768   \n",
       "ma.dif.10.4096          0.311746        1.000000    0.388670       0.535849   \n",
       "kdj.j.4096              0.484138        0.388670    1.000000       0.330837   \n",
       "nr.range.4096           0.487768        0.535849    0.330837       1.000000   \n",
       "kdj.k.range.4096        0.230860        0.728825    0.413593       0.498352   \n",
       "kdj.j.range.4096        0.222039        0.746245    0.471934       0.495880   \n",
       "nr.std.4096             0.451311        0.470232    0.288114       0.951891   \n",
       "dbook.std.4096          0.098395       -0.012621    0.077483       0.256616   \n",
       "kdj.k.std.4096          0.181239        0.719173    0.394659       0.387302   \n",
       "kdj.j.std.4096          0.177674        0.732723    0.445761       0.391155   \n",
       "kdj.k.trend.index.4096  0.646495        0.394555    0.743577       0.396076   \n",
       "kdj.j.trend.index.4096  0.604417        0.416507    0.846767       0.391803   \n",
       "\n",
       "                        kdj.k.range.4096  kdj.j.range.4096  nr.std.4096  \\\n",
       "nr.4096                         0.230860          0.222039     0.451311   \n",
       "ma.dif.10.4096                  0.728825          0.746245     0.470232   \n",
       "kdj.j.4096                      0.413593          0.471934     0.288114   \n",
       "nr.range.4096                   0.498352          0.495880     0.951891   \n",
       "kdj.k.range.4096                1.000000          0.918824     0.418963   \n",
       "kdj.j.range.4096                0.918824          1.000000     0.421115   \n",
       "nr.std.4096                     0.418963          0.421115     1.000000   \n",
       "dbook.std.4096                  0.122393          0.139587     0.217969   \n",
       "kdj.k.std.4096                  0.918095          0.839552     0.349738   \n",
       "kdj.j.std.4096                  0.859495          0.906534     0.361112   \n",
       "kdj.k.trend.index.4096          0.477976          0.432907     0.348510   \n",
       "kdj.j.trend.index.4096          0.454611          0.484108     0.347579   \n",
       "\n",
       "                        dbook.std.4096  kdj.k.std.4096  kdj.j.std.4096  \\\n",
       "nr.4096                       0.098395        0.181239        0.177674   \n",
       "ma.dif.10.4096               -0.012621        0.719173        0.732723   \n",
       "kdj.j.4096                    0.077483        0.394659        0.445761   \n",
       "nr.range.4096                 0.256616        0.387302        0.391155   \n",
       "kdj.k.range.4096              0.122393        0.918095        0.859495   \n",
       "kdj.j.range.4096              0.139587        0.839552        0.906534   \n",
       "nr.std.4096                   0.217969        0.349738        0.361112   \n",
       "dbook.std.4096                1.000000        0.000476        0.014060   \n",
       "kdj.k.std.4096                0.000476        1.000000        0.947516   \n",
       "kdj.j.std.4096                0.014060        0.947516        1.000000   \n",
       "kdj.k.trend.index.4096        0.095167        0.404472        0.372866   \n",
       "kdj.j.trend.index.4096        0.099178        0.383205        0.409933   \n",
       "\n",
       "                        kdj.k.trend.index.4096  kdj.j.trend.index.4096  \n",
       "nr.4096                               0.646495                0.604417  \n",
       "ma.dif.10.4096                        0.394555                0.416507  \n",
       "kdj.j.4096                            0.743577                0.846767  \n",
       "nr.range.4096                         0.396076                0.391803  \n",
       "kdj.k.range.4096                      0.477976                0.454611  \n",
       "kdj.j.range.4096                      0.432907                0.484108  \n",
       "nr.std.4096                           0.348510                0.347579  \n",
       "dbook.std.4096                        0.095167                0.099178  \n",
       "kdj.k.std.4096                        0.404472                0.383205  \n",
       "kdj.j.std.4096                        0.372866                0.409933  \n",
       "kdj.k.trend.index.4096                1.000000                0.914882  \n",
       "kdj.j.trend.index.4096                0.914882                1.000000  "
      ]
     },
     "execution_count": 452,
     "metadata": {},
     "output_type": "execute_result"
    }
   ],
   "source": [
    "train_mat[good_index].corr()\n",
    "\n",
    "#  \tnr.4096 \tma.dif.10.4096 \tkdj.j.4096 \tnr.range.4096 \tkdj.k.range.4096 \tkdj.j.range.4096 \tnr.std.4096 \tdbook.std.4096 \tkdj.k.std.4096 \tkdj.j.std.4096 \tkdj.k.trend.index.4096 \tkdj.j.trend.index.4096\n",
    "# nr.4096 \t1.000000 \t0.311746 \t0.484138 \t0.487768 \t0.230860 \t0.222039 \t0.451311 \t0.098395 \t0.181239 \t0.177674 \t0.646495 \t0.604417\n",
    "# ma.dif.10.4096 \t0.311746 \t1.000000 \t0.388670 \t0.535849 \t0.728825 \t0.746245 \t0.470232 \t-0.012621 \t0.719173 \t0.732723 \t0.394555 \t0.416507\n",
    "# kdj.j.4096 \t0.484138 \t0.388670 \t1.000000 \t0.330837 \t0.413593 \t0.471934 \t0.288114 \t0.077483 \t0.394659 \t0.445761 \t0.743577 \t0.846767\n",
    "# nr.range.4096 \t0.487768 \t0.535849 \t0.330837 \t1.000000 \t0.498352 \t0.495880 \t0.951891 \t0.256616 \t0.387302 \t0.391155 \t0.396076 \t0.391803\n",
    "# kdj.k.range.4096 \t0.230860 \t0.728825 \t0.413593 \t0.498352 \t1.000000 \t0.918824 \t0.418963 \t0.122393 \t0.918095 \t0.859495 \t0.477976 \t0.454611\n",
    "# kdj.j.range.4096 \t0.222039 \t0.746245 \t0.471934 \t0.495880 \t0.918824 \t1.000000 \t0.421115 \t0.139587 \t0.839552 \t0.906534 \t0.432907 \t0.484108\n",
    "# nr.std.4096 \t0.451311 \t0.470232 \t0.288114 \t0.951891 \t0.418963 \t0.421115 \t1.000000 \t0.217969 \t0.349738 \t0.361112 \t0.348510 \t0.347579\n",
    "# dbook.std.4096 \t0.098395 \t-0.012621 \t0.077483 \t0.256616 \t0.122393 \t0.139587 \t0.217969 \t1.000000 \t0.000476 \t0.014060 \t0.095167 \t0.099178\n",
    "# kdj.k.std.4096 \t0.181239 \t0.719173 \t0.394659 \t0.387302 \t0.918095 \t0.839552 \t0.349738 \t0.000476 \t1.000000 \t0.947516 \t0.404472 \t0.383205\n",
    "# kdj.j.std.4096 \t0.177674 \t0.732723 \t0.445761 \t0.391155 \t0.859495 \t0.906534 \t0.361112 \t0.014060 \t0.947516 \t1.000000 \t0.372866 \t0.409933\n",
    "# kdj.k.trend.index.4096 \t0.646495 \t0.394555 \t0.743577 \t0.396076 \t0.477976 \t0.432907 \t0.348510 \t0.095167 \t0.404472 \t0.372866 \t1.000000 \t0.914882\n",
    "# kdj.j.trend.index.4096 \t0.604417 \t0.416507 \t0.846767 \t0.391803 \t0.454611 \t0.484108 \t0.347579 \t0.099178 \t0.383205 \t0.409933 \t0.914882 \t1.000000"
   ]
  },
  {
   "cell_type": "code",
   "execution_count": 453,
   "metadata": {},
   "outputs": [],
   "source": [
    "corr = train_mat[good_index].corr()"
   ]
  },
  {
   "cell_type": "code",
   "execution_count": 454,
   "metadata": {},
   "outputs": [
    {
     "data": {
      "image/png": "[encoded data removed]",
      "text/plain": [
       "<Figure size 1152x720 with 2 Axes>"
      ]
     },
     "metadata": {
      "needs_background": "light"
     },
     "output_type": "display_data"
    }
   ],
   "source": [
    "import seaborn as sns\n",
    "plt.figure(figsize=(16,10)) \n",
    "sns.heatmap(corr, xticklabels=corr.columns, yticklabels=corr.columns);"
   ]
  },
  {
   "cell_type": "markdown",
   "metadata": {},
   "source": [
    "- we can see that some of them has very high correlation\n",
    "\n",
    "- we can add each signal one by one to a model and check how the performance envolves"
   ]
  },
  {
   "cell_type": "code",
   "execution_count": 455,
   "metadata": {},
   "outputs": [
    {
     "data": {
      "text/plain": [
       "7"
      ]
     },
     "execution_count": 455,
     "metadata": {},
     "output_type": "execute_result"
    }
   ],
   "source": [
    "np.argmax(np.abs(t_stat))\n",
    "## [1] 7"
   ]
  },
  {
   "cell_type": "code",
   "execution_count": 456,
   "metadata": {},
   "outputs": [
    {
     "data": {
      "text/plain": [
       "'nr.range.4096'"
      ]
     },
     "execution_count": 456,
     "metadata": {},
     "output_type": "execute_result"
    }
   ],
   "source": [
    "signal_list[np.argmax(np.abs(t_stat))]\n",
    "## 'nr.range.4096'"
   ]
  },
  {
   "cell_type": "markdown",
   "metadata": {},
   "source": [
    "- the first signal is the signal dbook.std.4096\n",
    "\n",
    "\n",
    "- to select the second signal, we can use forward selction"
   ]
  },
  {
   "cell_type": "code",
   "execution_count": 457,
   "metadata": {},
   "outputs": [],
   "source": [
    "import statsmodels.formula.api as smf\n",
    "\n",
    "## forward selection of signals\n",
    "def forward_selected(data, response):\n",
    "    \"\"\"Linear model designed by forward selection.\n",
    "\n",
    "    Parameters:\n",
    "    -----------\n",
    "    data : pandas DataFrame with all possible predictors and response\n",
    "\n",
    "    response: string, name of response column in data\n",
    "\n",
    "    Returns:\n",
    "    --------\n",
    "    model: an \"optimal\" fitted statsmodels linear model\n",
    "           with an intercept\n",
    "           selected by forward selection\n",
    "           evaluated by adjusted R-squared\n",
    "    \"\"\"\n",
    "    remaining = set(data.columns)\n",
    "    remaining.remove(response)\n",
    "    selected = []\n",
    "    current_score, best_new_score = 0.0, 0.0\n",
    "    chosen_signals = []\n",
    "    while remaining and current_score == best_new_score:\n",
    "        scores_with_candidates = []\n",
    "        for candidate in remaining:\n",
    "            formula = \"{} ~ {} - 1\".format(\"data['\"+response+\"']\",\n",
    "                                           ' + '.join(selected + [\"data['\"+candidate+\"']\"]))\n",
    "            score = smf.ols(formula, data).fit().rsquared_adj\n",
    "            scores_with_candidates.append((score, candidate))\n",
    "        scores_with_candidates.sort()\n",
    "        best_new_score, best_candidate = scores_with_candidates.pop()\n",
    "        if current_score < best_new_score:\n",
    "            remaining.remove(best_candidate)\n",
    "            selected.append(\"data['\"+best_candidate+\"']\")\n",
    "            current_score = best_new_score\n",
    "            chosen_signals.append(best_candidate)\n",
    "    formula = \"{} ~ {} - 1\".format(\"data['\"+response+\"']\",\n",
    "                                   ' + '.join(selected))\n",
    "    model = smf.ols(formula, data).fit()\n",
    "    return OrderedDict([(\"model\", model), (\"chosen.signals\", chosen_signals)])"
   ]
  },
  {
   "cell_type": "code",
   "execution_count": 458,
   "metadata": {},
   "outputs": [],
   "source": [
    "result = forward_selected(train_mat[train_mat.columns[:-3]], \"ret.\"+str(period))"
   ]
  },
  {
   "cell_type": "code",
   "execution_count": 459,
   "metadata": {},
   "outputs": [],
   "source": [
    "save(result, HEAD_PATH+\"/crypto_all_forwatd_select.pkl\")"
   ]
  },
  {
   "cell_type": "code",
   "execution_count": 460,
   "metadata": {},
   "outputs": [],
   "source": [
    "result = load(HEAD_PATH+\"/crypto_all_forwatd_select.pkl\");"
   ]
  },
  {
   "cell_type": "code",
   "execution_count": 461,
   "metadata": {},
   "outputs": [
    {
     "data": {
      "text/plain": [
       "\"data['ret.4096'] ~ data['nr.range.4096'] + data['kdj.j.range.4096'] + data['range.pos.range.4096'] + data['ma.dif.10.range.4096'] + data['ma.dif.10.4096'] + data['ma.dif.10.trend.index.4096'] + data['ma.dif.10.std.4096'] + data['range.pos.std.4096'] + data['kdj.j.std.4096'] + data['range.pos.4096'] + data['range.pos.trend.index.4096'] + data['nr.4096'] + data['nr.trend.index.4096'] + data['kdj.k.std.4096'] + data['price.osci.std.4096'] + data['price.osci.range.4096'] + data['kdj.k.range.4096'] + data['kdj.j.4096'] + data['kdj.j.trend.index.4096'] - 1\""
      ]
     },
     "execution_count": 461,
     "metadata": {},
     "output_type": "execute_result"
    }
   ],
   "source": [
    "result[\"model\"].model.formula\n",
    "# \"data['ret.4096'] ~ data['nr.range.4096'] + data['kdj.j.range.4096'] + data['range.pos.range.4096'] + data['ma.dif.10.range.4096'] + data['ma.dif.10.4096'] + data['ma.dif.10.trend.index.4096'] + data['ma.dif.10.std.4096'] + data['range.pos.std.4096'] + data['kdj.j.std.4096'] + data['range.pos.4096'] + data['range.pos.trend.index.4096'] + data['nr.4096'] + data['nr.trend.index.4096'] + data['kdj.k.std.4096'] + data['price.osci.std.4096'] + data['price.osci.range.4096'] + data['kdj.k.range.4096'] + data['kdj.j.4096'] + data['kdj.j.trend.index.4096'] - 1\""
   ]
  },
  {
   "cell_type": "code",
   "execution_count": 462,
   "metadata": {},
   "outputs": [
    {
     "data": {
      "text/plain": [
       "['nr.range.4096',\n",
       " 'kdj.j.range.4096',\n",
       " 'range.pos.range.4096',\n",
       " 'ma.dif.10.range.4096',\n",
       " 'ma.dif.10.4096',\n",
       " 'ma.dif.10.trend.index.4096',\n",
       " 'ma.dif.10.std.4096',\n",
       " 'range.pos.std.4096',\n",
       " 'kdj.j.std.4096',\n",
       " 'range.pos.4096',\n",
       " 'range.pos.trend.index.4096',\n",
       " 'nr.4096',\n",
       " 'nr.trend.index.4096',\n",
       " 'kdj.k.std.4096',\n",
       " 'price.osci.std.4096',\n",
       " 'price.osci.range.4096',\n",
       " 'kdj.k.range.4096',\n",
       " 'kdj.j.4096',\n",
       " 'kdj.j.trend.index.4096']"
      ]
     },
     "execution_count": 462,
     "metadata": {},
     "output_type": "execute_result"
    }
   ],
   "source": [
    "result[\"chosen.signals\"]\n",
    "\n",
    "# ['nr.range.4096',\n",
    "#  'kdj.j.range.4096',\n",
    "#  'range.pos.range.4096',\n",
    "#  'ma.dif.10.range.4096',\n",
    "#  'ma.dif.10.4096',\n",
    "#  'ma.dif.10.trend.index.4096',\n",
    "#  'ma.dif.10.std.4096',\n",
    "#  'range.pos.std.4096',\n",
    "#  'kdj.j.std.4096',\n",
    "#  'range.pos.4096',\n",
    "#  'range.pos.trend.index.4096',\n",
    "#  'nr.4096',\n",
    "#  'nr.trend.index.4096',\n",
    "#  'kdj.k.std.4096',\n",
    "#  'price.osci.std.4096',\n",
    "#  'price.osci.range.4096',\n",
    "#  'kdj.k.range.4096',\n",
    "#  'kdj.j.4096',\n",
    "#  'kdj.j.trend.index.4096']"
   ]
  },
  {
   "cell_type": "markdown",
   "metadata": {},
   "source": [
    "- now we can check each model to see how the pnl evolves\n",
    "\n",
    "\n",
    "- we can also get the test signals\n",
    "\n",
    "\n",
    "- we can get the test samples first"
   ]
  },
  {
   "cell_type": "code",
   "execution_count": 463,
   "metadata": {},
   "outputs": [
    {
     "name": "stdout",
     "output_type": "stream",
     "text": [
      "btc.usd.td\n",
      "eth.usd.td\n",
      "Wall time: 5min 50s\n"
     ]
    }
   ],
   "source": [
    "%%time\n",
    "for product in product_list[0:2]:\n",
    "    print(product)\n",
    "    daily_num = load(HEAD_PATH+\"/daily num/\"+product+\".pkl\")\n",
    "    test_mat = get_sample_signal(all_dates, test_sample, product, \n",
    "                                  np.append(signal_list, [\"ret.\"+str(period),  \"ret.\"+str(period)+\".001\",\"ret.\"+str(period)+\".002\",\"ret.\"+str(period)+\".004\"]), \n",
    "                                  period, daily_num)\n",
    "    os.makedirs(HEAD_PATH+\"/train test mat/\"+product, exist_ok=True)\n",
    "    save(test_mat, HEAD_PATH+\"/train test mat/\"+product+\".test.mat.pkl\")\n",
    "    \n",
    "# btc.usd.td\n",
    "# eth.usd.td\n",
    "# Wall time: 5min 50s\n",
    "\n",
    "\n"
   ]
  },
  {
   "cell_type": "markdown",
   "metadata": {},
   "source": [
    "- now let's fit the first model"
   ]
  },
  {
   "cell_type": "code",
   "execution_count": 468,
   "metadata": {},
   "outputs": [
    {
     "data": {
      "text/plain": [
       "\"train_mat['ret.4096'] ~ train_mat['nr.range.4096']+0\""
      ]
     },
     "execution_count": 468,
     "metadata": {},
     "output_type": "execute_result"
    }
   ],
   "source": [
    "first_signal = \"nr.range.\"+str(period)\n",
    "y_signal = \"ret.\"+str(period)\n",
    "formula = \"train_mat['\" + y_signal+\"'] ~ train_mat['\"+first_signal+\"']+0\"\n",
    "formula\n",
    "\n",
    "# \"train_mat['ret.4096'] ~ train_mat['nr.range.4096.4096']+0\""
   ]
  },
  {
   "cell_type": "code",
   "execution_count": 469,
   "metadata": {},
   "outputs": [
    {
     "name": "stdout",
     "output_type": "stream",
     "text": [
      "                                  OLS Regression Results                                  \n",
      "==========================================================================================\n",
      "Dep. Variable:     train_mat['ret.4096']   R-squared (uncentered):                   0.003\n",
      "Model:                               OLS   Adj. R-squared (uncentered):              0.003\n",
      "Method:                    Least Squares   F-statistic:                              22.19\n",
      "Date:                   Fri, 17 Jul 2020   Prob (F-statistic):                    2.51e-06\n",
      "Time:                           14:45:28   Log-Likelihood:                         -11726.\n",
      "No. Observations:                   8271   AIC:                                  2.345e+04\n",
      "Df Residuals:                       8270   BIC:                                  2.346e+04\n",
      "Df Model:                              1                                                  \n",
      "Covariance Type:               nonrobust                                                  \n",
      "==============================================================================================\n",
      "                                 coef    std err          t      P>|t|      [0.025      0.975]\n",
      "----------------------------------------------------------------------------------------------\n",
      "train_mat['nr.range.4096']     0.0517      0.011      4.711      0.000       0.030       0.073\n",
      "==============================================================================\n",
      "Omnibus:                     2317.518   Durbin-Watson:                   2.072\n",
      "Prob(Omnibus):                  0.000   Jarque-Bera (JB):           263873.892\n",
      "Skew:                          -0.137   Prob(JB):                         0.00\n",
      "Kurtosis:                      30.670   Cond. No.                         1.00\n",
      "==============================================================================\n",
      "\n",
      "Warnings:\n",
      "[1] Standard Errors assume that the covariance matrix of the errors is correctly specified.\n"
     ]
    }
   ],
   "source": [
    "fit1_lm = smf.ols(formula=formula, data=train_mat[train_mat.columns[:-3]]).fit()\n",
    "print(fit1_lm.summary())\n",
    "\n",
    "#  OLS Regression Results                                  \n",
    "# ==========================================================================================\n",
    "# Dep. Variable:     train_mat['ret.4096']   R-squared (uncentered):                   0.003\n",
    "# Model:                               OLS   Adj. R-squared (uncentered):              0.003\n",
    "# Method:                    Least Squares   F-statistic:                              22.19\n",
    "# Date:                   Fri, 17 Jul 2020   Prob (F-statistic):                    2.51e-06\n",
    "# Time:                           14:45:28   Log-Likelihood:                         -11726.\n",
    "# No. Observations:                   8271   AIC:                                  2.345e+04\n",
    "# Df Residuals:                       8270   BIC:                                  2.346e+04\n",
    "# Df Model:                              1                                                  \n",
    "# Covariance Type:               nonrobust                                                  \n",
    "# ==============================================================================================\n",
    "#                                  coef    std err          t      P>|t|      [0.025      0.975]\n",
    "# ----------------------------------------------------------------------------------------------\n",
    "# train_mat['nr.range.4096']     0.0517      0.011      4.711      0.000       0.030       0.073\n",
    "# ==============================================================================\n",
    "# Omnibus:                     2317.518   Durbin-Watson:                   2.072\n",
    "# Prob(Omnibus):                  0.000   Jarque-Bera (JB):           263873.892\n",
    "# Skew:                          -0.137   Prob(JB):                         0.00\n",
    "# Kurtosis:                      30.670   Cond. No.                         1.00\n",
    "# ==============================================================================\n",
    "\n",
    "# Warnings:\n",
    "# [1] Standard Errors assume that the covariance matrix of the errors is correctly specified."
   ]
  },
  {
   "cell_type": "markdown",
   "metadata": {},
   "source": [
    "- we can see that the single R-square is already 0.0005814431935065034\n",
    "\n",
    "\n",
    "- now we want to get the prediction value"
   ]
  },
  {
   "cell_type": "code",
   "execution_count": 470,
   "metadata": {},
   "outputs": [],
   "source": [
    "strat = \"one.\"+str(period)"
   ]
  },
  {
   "cell_type": "markdown",
   "metadata": {},
   "source": [
    "- create a directory for the first strate"
   ]
  },
  {
   "cell_type": "code",
   "execution_count": 471,
   "metadata": {},
   "outputs": [],
   "source": [
    "for product in product_list:\n",
    "    os.makedirs(SAVE_PATH+\"/tmp pkl/\"+product+\"/\"+strat, exist_ok=True)"
   ]
  },
  {
   "cell_type": "markdown",
   "metadata": {},
   "source": [
    "- we get the coefficiton of fit1.lm"
   ]
  },
  {
   "cell_type": "code",
   "execution_count": 472,
   "metadata": {
    "scrolled": true
   },
   "outputs": [
    {
     "data": {
      "text/plain": [
       "array([0.05172867])"
      ]
     },
     "execution_count": 472,
     "metadata": {},
     "output_type": "execute_result"
    }
   ],
   "source": [
    "fit_coef = fit1_lm.params.values\n",
    "fit_coef\n",
    "# array([0.05172867])"
   ]
  },
  {
   "cell_type": "markdown",
   "metadata": {},
   "source": [
    "- but since we have standardize the training samples before regrssion\n",
    "- we must revert the result to original scale"
   ]
  },
  {
   "cell_type": "code",
   "execution_count": 473,
   "metadata": {},
   "outputs": [],
   "source": [
    "train_std = dict([])\n",
    "for product in product_list[0:2]:\n",
    "    cur_mat = load(HEAD_PATH+\"/train test mat/\"+product+\".train.mat.pkl\")\n",
    "    train_std[product] = np.std(cur_mat)"
   ]
  },
  {
   "cell_type": "code",
   "execution_count": 474,
   "metadata": {},
   "outputs": [
    {
     "data": {
      "text/plain": [
       "array([7.62551508e-05])"
      ]
     },
     "execution_count": 474,
     "metadata": {},
     "output_type": "execute_result"
    }
   ],
   "source": [
    "coef = fit_coef*train_std[product_list[0]][y_signal]/train_std[product_list[0]][first_signal]\n",
    "coef\n",
    "## array([7.62551508e-05])"
   ]
  },
  {
   "cell_type": "code",
   "execution_count": 475,
   "metadata": {},
   "outputs": [
    {
     "name": "stdout",
     "output_type": "stream",
     "text": [
      "Wall time: 25.4 s\n"
     ]
    },
    {
     "data": {
      "text/plain": [
       "''"
      ]
     },
     "execution_count": 475,
     "metadata": {},
     "output_type": "execute_result"
    }
   ],
   "source": [
    "%%time\n",
    "for product in product_list[:2]:\n",
    "    coef = fit_coef*train_std[product][y_signal]/train_std[product][first_signal]\n",
    "    parLapply(CORE_NUM, all_dates, get_daily_pred, \n",
    "              product=product, signal_list=[first_signal], coef=coef, strat=strat, HEAD_PATH=SAVE_PATH)\n",
    ";\n",
    "\n",
    "## Wall time: "
   ]
  },
  {
   "cell_type": "code",
   "execution_count": 476,
   "metadata": {},
   "outputs": [
    {
     "name": "stdout",
     "output_type": "stream",
     "text": [
      "Wall time: 19.3 s\n"
     ]
    }
   ],
   "source": [
    "%%time\n",
    "for product in product_list[:2]:\n",
    "    par_get_all_signal(\"one.4096\", all_dates, product, 4096, SAVE_PATH=SAVE_PATH)\n",
    "## Wall time:19.3 s"
   ]
  },
  {
   "cell_type": "code",
   "execution_count": 483,
   "metadata": {},
   "outputs": [
    {
     "name": "stdout",
     "output_type": "stream",
     "text": [
      "reverse=1\n",
      "reverse=1\n",
      "Wall time: 7min 58s\n"
     ]
    }
   ],
   "source": [
    "%%time\n",
    "for product in product_list[:2]:\n",
    "    spread = product_info[product][\"spread\"]\n",
    "    tranct_ratio = product_info[product][\"tranct.ratio\"]\n",
    "    tranct = product_info[product][\"tranct\"]\n",
    "    evaluate_signal(\"one\", all_dates, product, 2/spread, 20,\n",
    "                    CORE_NUM,  HEAD_PATH, SAVE_PATH, period=4096, split_str=\"2019-08\", tranct=tranct, \n",
    "                    max_spread=spread*1.1, tranct_ratio=tranct_ratio, atr_filter=20/spread, save_path=\"signal result atr\",reverse=1)\n",
    "\n",
    "# reverse=1\n",
    "# reverse=1\n",
    "# Wall time: 7min 58s\n"
   ]
  },
  {
   "cell_type": "code",
   "execution_count": 487,
   "metadata": {},
   "outputs": [
    {
     "name": "stdout",
     "output_type": "stream",
     "text": [
      "btc.usd.td train sharpe  0.8872337683409721 test sharpe  1.3642827566582307\n",
      "eth.usd.td train sharpe  0.09714894595903997 test sharpe  1.608872168608774\n"
     ]
    }
   ],
   "source": [
    "for product in product_list[:2]:\n",
    "    spread = product_info[product][\"spread\"]\n",
    "    signal_stat = load(HEAD_PATH+\"/signal result atr/\"+product+\".\"+\"one.4096\"+\".trend.pkl\")\n",
    "    train_stat = signal_stat[\"train.stat\"]\n",
    "    good_strat = (train_stat[\"final.result\"][\"avg.pnl\"]>4*spread)\n",
    "    train_pnl = train_stat[\"daily.ret\"].loc[:, good_strat].sum(axis=1)/sum(good_strat)\n",
    "    test_stat = signal_stat[\"test.stat\"]\n",
    "    test_pnl = test_stat[\"daily.ret\"].loc[:, good_strat].sum(axis=1)/sum(good_strat)\n",
    "    print(product, \"train sharpe \", sharpe(train_pnl), \"test sharpe \", sharpe(test_pnl))\n",
    "\n",
    "# btc.usd.td train sharpe  0.8872337683409721 test sharpe  1.3642827566582307\n",
    "# eth.usd.td train sharpe  0.09714894595903997 test sharpe  1.608872168608774\n",
    "\n"
   ]
  },
  {
   "cell_type": "markdown",
   "metadata": {},
   "source": [
    "- then we work similar to previous common signals"
   ]
  },
  {
   "cell_type": "markdown",
   "metadata": {},
   "source": [
    "- now we try to add a few new signal"
   ]
  },
  {
   "cell_type": "code",
   "execution_count": 488,
   "metadata": {},
   "outputs": [
    {
     "data": {
      "text/plain": [
       "\"train_mat['ret.4096'] ~ +train_mat['nr.range.4096']+train_mat['kdj.j.range.4096']+train_mat['range.pos.range.4096']+train_mat['ma.dif.10.range.4096']+train_mat['ma.dif.10.4096']+train_mat['ma.dif.10.trend.index.4096']+train_mat['ma.dif.10.std.4096']+train_mat['range.pos.std.4096']+train_mat['kdj.j.std.4096']+0\""
      ]
     },
     "execution_count": 488,
     "metadata": {},
     "output_type": "execute_result"
    }
   ],
   "source": [
    "y_signal = \"ret.\"+str(period)\n",
    "formula = \"train_mat['\" + y_signal+\"'] ~ \"\n",
    "n_signal = int(len(result[\"chosen.signals\"])/2)\n",
    "for signal in result[\"chosen.signals\"][:n_signal]:\n",
    "    formula = formula+\"+train_mat['\"+signal+\"']\"\n",
    "formula+=\"+0\"\n",
    "formula\n",
    "\n",
    "## \"train_mat['ret.4096'] ~ +train_mat['nr.range.4096']+train_mat['kdj.j.range.4096']+train_mat['range.pos.range.4096']+train_mat['ma.dif.10.range.4096']+train_mat['ma.dif.10.4096']+train_mat['ma.dif.10.trend.index.4096']+train_mat['ma.dif.10.std.4096']+train_mat['range.pos.std.4096']+train_mat['kdj.j.std.4096']+0\""
   ]
  },
  {
   "cell_type": "code",
   "execution_count": 489,
   "metadata": {},
   "outputs": [
    {
     "name": "stdout",
     "output_type": "stream",
     "text": [
      "                                  OLS Regression Results                                  \n",
      "==========================================================================================\n",
      "Dep. Variable:     train_mat['ret.4096']   R-squared (uncentered):                   0.026\n",
      "Model:                               OLS   Adj. R-squared (uncentered):              0.025\n",
      "Method:                    Least Squares   F-statistic:                              24.89\n",
      "Date:                   Fri, 17 Jul 2020   Prob (F-statistic):                    1.21e-42\n",
      "Time:                           15:08:49   Log-Likelihood:                         -11626.\n",
      "No. Observations:                   8271   AIC:                                  2.327e+04\n",
      "Df Residuals:                       8262   BIC:                                  2.333e+04\n",
      "Df Model:                              9                                                  \n",
      "Covariance Type:               nonrobust                                                  \n",
      "===========================================================================================================\n",
      "                                              coef    std err          t      P>|t|      [0.025      0.975]\n",
      "-----------------------------------------------------------------------------------------------------------\n",
      "train_mat['nr.range.4096']                  0.0967      0.014      6.923      0.000       0.069       0.124\n",
      "train_mat['kdj.j.range.4096']               0.2858      0.096      2.975      0.003       0.098       0.474\n",
      "train_mat['range.pos.range.4096']          -0.4232      0.094     -4.487      0.000      -0.608      -0.238\n",
      "train_mat['ma.dif.10.range.4096']           0.0882      0.034      2.568      0.010       0.021       0.156\n",
      "train_mat['ma.dif.10.4096']                -0.0988      0.031     -3.138      0.002      -0.161      -0.037\n",
      "train_mat['ma.dif.10.trend.index.4096']     0.0350      0.036      0.967      0.334      -0.036       0.106\n",
      "train_mat['ma.dif.10.std.4096']             0.0406      0.036      1.128      0.260      -0.030       0.111\n",
      "train_mat['range.pos.std.4096']             0.6785      0.098      6.909      0.000       0.486       0.871\n",
      "train_mat['kdj.j.std.4096']                -0.6751      0.106     -6.385      0.000      -0.882      -0.468\n",
      "==============================================================================\n",
      "Omnibus:                     2280.531   Durbin-Watson:                   2.020\n",
      "Prob(Omnibus):                  0.000   Jarque-Bera (JB):           256490.348\n",
      "Skew:                          -0.009   Prob(JB):                         0.00\n",
      "Kurtosis:                      30.281   Cond. No.                         45.8\n",
      "==============================================================================\n",
      "\n",
      "Warnings:\n",
      "[1] Standard Errors assume that the covariance matrix of the errors is correctly specified.\n"
     ]
    }
   ],
   "source": [
    "fit_half_lm  = smf.ols(formula=formula, data=train_mat[train_mat.columns[:-3]]).fit()\n",
    "print(fit_half_lm.summary())\n",
    "\n",
    "#   OLS Regression Results                                  \n",
    "# ==========================================================================================\n",
    "# Dep. Variable:     train_mat['ret.4096']   R-squared (uncentered):                   0.026\n",
    "# Model:                               OLS   Adj. R-squared (uncentered):              0.025\n",
    "# Method:                    Least Squares   F-statistic:                              24.89\n",
    "# Date:                   Fri, 17 Jul 2020   Prob (F-statistic):                    1.21e-42\n",
    "# Time:                           15:08:49   Log-Likelihood:                         -11626.\n",
    "# No. Observations:                   8271   AIC:                                  2.327e+04\n",
    "# Df Residuals:                       8262   BIC:                                  2.333e+04\n",
    "# Df Model:                              9                                                  \n",
    "# Covariance Type:               nonrobust                                                  \n",
    "# ===========================================================================================================\n",
    "#                                               coef    std err          t      P>|t|      [0.025      0.975]\n",
    "# -----------------------------------------------------------------------------------------------------------\n",
    "# train_mat['nr.range.4096']                  0.0967      0.014      6.923      0.000       0.069       0.124\n",
    "# train_mat['kdj.j.range.4096']               0.2858      0.096      2.975      0.003       0.098       0.474\n",
    "# train_mat['range.pos.range.4096']          -0.4232      0.094     -4.487      0.000      -0.608      -0.238\n",
    "# train_mat['ma.dif.10.range.4096']           0.0882      0.034      2.568      0.010       0.021       0.156\n",
    "# train_mat['ma.dif.10.4096']                -0.0988      0.031     -3.138      0.002      -0.161      -0.037\n",
    "# train_mat['ma.dif.10.trend.index.4096']     0.0350      0.036      0.967      0.334      -0.036       0.106\n",
    "# train_mat['ma.dif.10.std.4096']             0.0406      0.036      1.128      0.260      -0.030       0.111\n",
    "# train_mat['range.pos.std.4096']             0.6785      0.098      6.909      0.000       0.486       0.871\n",
    "# train_mat['kdj.j.std.4096']                -0.6751      0.106     -6.385      0.000      -0.882      -0.468\n",
    "# ==============================================================================\n",
    "# Omnibus:                     2280.531   Durbin-Watson:                   2.020\n",
    "# Prob(Omnibus):                  0.000   Jarque-Bera (JB):           256490.348\n",
    "# Skew:                          -0.009   Prob(JB):                         0.00\n",
    "# Kurtosis:                      30.281   Cond. No.                         45.8\n",
    "# ==============================================================================\n",
    "\n",
    "# Warnings:\n",
    "# [1] Standard Errors assume that the covariance matrix of the errors is correctly specified."
   ]
  },
  {
   "cell_type": "code",
   "execution_count": 494,
   "metadata": {},
   "outputs": [
    {
     "data": {
      "text/plain": [
       "array([ 0.0967119 ,  0.2857779 , -0.42321829,  0.08819251, -0.09879853,\n",
       "        0.03501592,  0.0405621 ,  0.67854655, -0.67507806])"
      ]
     },
     "execution_count": 494,
     "metadata": {},
     "output_type": "execute_result"
    }
   ],
   "source": [
    "strat = \"half.\"+str(period)\n",
    "fit_coef = fit_half_lm.params.values\n",
    "fit_coef\n",
    "# array([ 0.0967119 ,  0.2857779 , -0.42321829,  0.08819251, -0.09879853,\n",
    "#        0.03501592,  0.0405621 ,  0.67854655, -0.67507806])"
   ]
  },
  {
   "cell_type": "code",
   "execution_count": 491,
   "metadata": {},
   "outputs": [],
   "source": [
    "train_std_mat = dict([])\n",
    "for product in product_list[0:2]:\n",
    "    cur_mat = load(HEAD_PATH+\"/train test mat/\"+product+\".train.mat.pkl\")\n",
    "    train_std_mat[product] = np.std(cur_mat)"
   ]
  },
  {
   "cell_type": "code",
   "execution_count": 492,
   "metadata": {},
   "outputs": [],
   "source": [
    "for product in product_list:\n",
    "    os.makedirs(SAVE_PATH+\"/tmp pkl/\"+product+\"/\"+strat, exist_ok=True)"
   ]
  },
  {
   "cell_type": "code",
   "execution_count": 495,
   "metadata": {},
   "outputs": [
    {
     "name": "stdout",
     "output_type": "stream",
     "text": [
      "Wall time: 39.1 s\n"
     ]
    },
    {
     "data": {
      "text/plain": [
       "''"
      ]
     },
     "execution_count": 495,
     "metadata": {},
     "output_type": "execute_result"
    }
   ],
   "source": [
    "%%time\n",
    "for product in product_list[0:2]:\n",
    "    coef = fit_coef*train_std_mat[product][y_signal]/train_std_mat[product][result[\"chosen.signals\"][:n_signal]]\n",
    "    parLapply(CORE_NUM, all_dates, get_daily_pred, \n",
    "              product=product, signal_list=result[\"chosen.signals\"][:n_signal], coef=coef, strat=strat, HEAD_PATH=SAVE_PATH)\n",
    ";\n",
    "# Wall time:  39.1 s"
   ]
  },
  {
   "cell_type": "code",
   "execution_count": 496,
   "metadata": {},
   "outputs": [
    {
     "name": "stdout",
     "output_type": "stream",
     "text": [
      "Wall time: 19.1 s\n"
     ]
    }
   ],
   "source": [
    "%%time\n",
    "for product in product_list[0:2]:\n",
    "    par_get_all_signal(\"half.4096\", all_dates, product, 4096, SAVE_PATH=\"e:/intern\")\n",
    "## Wall time: 19.1 s"
   ]
  },
  {
   "cell_type": "code",
   "execution_count": 498,
   "metadata": {},
   "outputs": [
    {
     "name": "stdout",
     "output_type": "stream",
     "text": [
      "reverse=1\n",
      "reverse=1\n",
      "Wall time: 6min 48s\n"
     ]
    }
   ],
   "source": [
    "%%time\n",
    "SAVE_PATH = \"e:/intern\"\n",
    "for product in product_list[0:2]:\n",
    "    spread = product_info[product][\"spread\"]\n",
    "    tranct = product_info[product][\"tranct\"]\n",
    "    tranct_ratio = product_info[product][\"tranct.ratio\"]\n",
    "    evaluate_signal(\"half\", all_dates, product, 2/spread, 20, \n",
    "                    CORE_NUM, HEAD_PATH, SAVE_PATH, period=4096, split_str=\"2019-08\", tranct=tranct, \n",
    "                    max_spread=spread*1.1, tranct_ratio=tranct_ratio, atr_filter=20, save_path=\"signal result atr\",reverse=1)\n",
    "\n",
    "# reverse=1\n",
    "# reverse=1\n",
    "# Wall time: 6min 48s\n",
    "\n",
    "\n"
   ]
  },
  {
   "cell_type": "code",
   "execution_count": 499,
   "metadata": {},
   "outputs": [
    {
     "name": "stdout",
     "output_type": "stream",
     "text": [
      "btc.usd.td train sharpe  0.7477602615605319 test sharpe  1.9032273456451958\n",
      "eth.usd.td train sharpe  1.9692384805514236 test sharpe  2.3756441832072936\n"
     ]
    }
   ],
   "source": [
    "for product in product_list[0:2]:\n",
    "    spread = product_info[product][\"spread\"]\n",
    "    signal_stat = load(HEAD_PATH+\"/signal result atr/\"+product+\".\"+\"half.4096\"+\".trend.pkl\")\n",
    "    train_stat = signal_stat[\"train.stat\"]\n",
    "    good_strat = (train_stat[\"final.result\"][\"avg.pnl\"]>20*spread)\n",
    "    train_pnl = train_stat[\"daily.ret\"].loc[:, good_strat].sum(axis=1)/sum(good_strat)\n",
    "    test_stat = signal_stat[\"test.stat\"]\n",
    "    test_pnl = test_stat[\"daily.ret\"].loc[:, good_strat].sum(axis=1)/sum(good_strat)\n",
    "    print(product, \"train sharpe \", sharpe(train_pnl), \"test sharpe \", sharpe(test_pnl))\n",
    "\n",
    "# btc.usd.td train sharpe  0.7477602615605319 test sharpe  1.9032273456451958\n",
    "# eth.usd.td train sharpe  1.9692384805514236 test sharpe  2.3756441832072936\n",
    "\n",
    "\n",
    "\n"
   ]
  },
  {
   "cell_type": "code",
   "execution_count": 500,
   "metadata": {},
   "outputs": [
    {
     "data": {
      "text/plain": [
       "\"train_mat['ret.4096'] ~ +train_mat['nr.range.4096']+train_mat['kdj.j.range.4096']+train_mat['range.pos.range.4096']+train_mat['ma.dif.10.range.4096']+train_mat['ma.dif.10.4096']+train_mat['ma.dif.10.trend.index.4096']+train_mat['ma.dif.10.std.4096']+train_mat['range.pos.std.4096']+train_mat['kdj.j.std.4096']+train_mat['range.pos.4096']+train_mat['range.pos.trend.index.4096']+train_mat['nr.4096']+train_mat['nr.trend.index.4096']+train_mat['kdj.k.std.4096']+train_mat['price.osci.std.4096']+train_mat['price.osci.range.4096']+train_mat['kdj.k.range.4096']+train_mat['kdj.j.4096']+train_mat['kdj.j.trend.index.4096']+0\""
      ]
     },
     "execution_count": 500,
     "metadata": {},
     "output_type": "execute_result"
    }
   ],
   "source": [
    "y_signal = \"ret.\"+str(period)\n",
    "formula = \"train_mat['\" + y_signal+\"'] ~ \"\n",
    "for signal in result[\"chosen.signals\"]:\n",
    "    formula = formula+\"+train_mat['\"+signal+\"']\"\n",
    "formula+=\"+0\"\n",
    "formula\n",
    "\n",
    "# \"train_mat['ret.4096'] ~ +train_mat['nr.range.4096']+train_mat['kdj.j.range.4096']+train_mat['range.pos.range.4096']+train_mat['ma.dif.10.range.4096']+train_mat['ma.dif.10.4096']+train_mat['ma.dif.10.trend.index.4096']+train_mat['ma.dif.10.std.4096']+train_mat['range.pos.std.4096']+train_mat['kdj.j.std.4096']+train_mat['range.pos.4096']+train_mat['range.pos.trend.index.4096']+train_mat['nr.4096']+train_mat['nr.trend.index.4096']+train_mat['kdj.k.std.4096']+train_mat['price.osci.std.4096']+train_mat['price.osci.range.4096']+train_mat['kdj.k.range.4096']+train_mat['kdj.j.4096']+train_mat['kdj.j.trend.index.4096']+0\""
   ]
  },
  {
   "cell_type": "markdown",
   "metadata": {},
   "source": [
    "- now we look at the full model"
   ]
  },
  {
   "cell_type": "code",
   "execution_count": 502,
   "metadata": {},
   "outputs": [
    {
     "name": "stdout",
     "output_type": "stream",
     "text": [
      "                                  OLS Regression Results                                  \n",
      "==========================================================================================\n",
      "Dep. Variable:     train_mat['ret.4096']   R-squared (uncentered):                   0.031\n",
      "Model:                               OLS   Adj. R-squared (uncentered):              0.029\n",
      "Method:                    Least Squares   F-statistic:                              13.98\n",
      "Date:                   Fri, 17 Jul 2020   Prob (F-statistic):                    1.32e-44\n",
      "Time:                           15:34:32   Log-Likelihood:                         -11606.\n",
      "No. Observations:                   8271   AIC:                                  2.325e+04\n",
      "Df Residuals:                       8252   BIC:                                  2.338e+04\n",
      "Df Model:                             19                                                  \n",
      "Covariance Type:               nonrobust                                                  \n",
      "===========================================================================================================\n",
      "                                              coef    std err          t      P>|t|      [0.025      0.975]\n",
      "-----------------------------------------------------------------------------------------------------------\n",
      "train_mat['nr.range.4096']                  0.0819      0.016      5.024      0.000       0.050       0.114\n",
      "train_mat['kdj.j.range.4096']               0.6914      0.173      4.005      0.000       0.353       1.030\n",
      "train_mat['range.pos.range.4096']          -0.5554      0.106     -5.255      0.000      -0.763      -0.348\n",
      "train_mat['ma.dif.10.range.4096']           0.0336      0.040      0.842      0.400      -0.045       0.112\n",
      "train_mat['ma.dif.10.4096']                -0.2123      0.047     -4.486      0.000      -0.305      -0.120\n",
      "train_mat['ma.dif.10.trend.index.4096']     0.1377      0.045      3.069      0.002       0.050       0.226\n",
      "train_mat['ma.dif.10.std.4096']             0.1248      0.041      3.070      0.002       0.045       0.204\n",
      "train_mat['range.pos.std.4096']             0.8097      0.107      7.585      0.000       0.600       1.019\n",
      "train_mat['kdj.j.std.4096']                -1.1905      0.201     -5.914      0.000      -1.585      -0.796\n",
      "train_mat['range.pos.4096']                 0.1425      0.055      2.608      0.009       0.035       0.250\n",
      "train_mat['range.pos.trend.index.4096']    -0.1147      0.056     -2.044      0.041      -0.225      -0.005\n",
      "train_mat['nr.4096']                        0.0688      0.030      2.313      0.021       0.010       0.127\n",
      "train_mat['nr.trend.index.4096']           -0.0529      0.031     -1.696      0.090      -0.114       0.008\n",
      "train_mat['kdj.k.std.4096']                 0.4150      0.152      2.735      0.006       0.118       0.712\n",
      "train_mat['price.osci.std.4096']           -0.2627      0.070     -3.757      0.000      -0.400      -0.126\n",
      "train_mat['price.osci.range.4096']          0.2381      0.070      3.384      0.001       0.100       0.376\n",
      "train_mat['kdj.k.range.4096']              -0.2784      0.119     -2.331      0.020      -0.513      -0.044\n",
      "train_mat['kdj.j.4096']                    -0.0902      0.056     -1.606      0.108      -0.200       0.020\n",
      "train_mat['kdj.j.trend.index.4096']         0.0592      0.057      1.044      0.296      -0.052       0.170\n",
      "==============================================================================\n",
      "Omnibus:                     2268.577   Durbin-Watson:                   2.023\n",
      "Prob(Omnibus):                  0.000   Jarque-Bera (JB):           248489.060\n",
      "Skew:                           0.028   Prob(JB):                         0.00\n",
      "Kurtosis:                      29.852   Cond. No.                         102.\n",
      "==============================================================================\n",
      "\n",
      "Warnings:\n",
      "[1] Standard Errors assume that the covariance matrix of the errors is correctly specified.\n"
     ]
    }
   ],
   "source": [
    "fit_full_lm  = smf.ols(formula=formula, data=train_mat[train_mat.columns[:-3]]).fit()\n",
    "print(fit_full_lm.summary())\n",
    "\n",
    "#   OLS Regression Results                                  \n",
    "# ==========================================================================================\n",
    "# Dep. Variable:     train_mat['ret.4096']   R-squared (uncentered):                   0.031\n",
    "# Model:                               OLS   Adj. R-squared (uncentered):              0.029\n",
    "# Method:                    Least Squares   F-statistic:                              13.98\n",
    "# Date:                   Fri, 17 Jul 2020   Prob (F-statistic):                    1.32e-44\n",
    "# Time:                           15:34:32   Log-Likelihood:                         -11606.\n",
    "# No. Observations:                   8271   AIC:                                  2.325e+04\n",
    "# Df Residuals:                       8252   BIC:                                  2.338e+04\n",
    "# Df Model:                             19                                                  \n",
    "# Covariance Type:               nonrobust                                                  \n",
    "# ===========================================================================================================\n",
    "#                                               coef    std err          t      P>|t|      [0.025      0.975]\n",
    "# -----------------------------------------------------------------------------------------------------------\n",
    "# train_mat['nr.range.4096']                  0.0819      0.016      5.024      0.000       0.050       0.114\n",
    "# train_mat['kdj.j.range.4096']               0.6914      0.173      4.005      0.000       0.353       1.030\n",
    "# train_mat['range.pos.range.4096']          -0.5554      0.106     -5.255      0.000      -0.763      -0.348\n",
    "# train_mat['ma.dif.10.range.4096']           0.0336      0.040      0.842      0.400      -0.045       0.112\n",
    "# train_mat['ma.dif.10.4096']                -0.2123      0.047     -4.486      0.000      -0.305      -0.120\n",
    "# train_mat['ma.dif.10.trend.index.4096']     0.1377      0.045      3.069      0.002       0.050       0.226\n",
    "# train_mat['ma.dif.10.std.4096']             0.1248      0.041      3.070      0.002       0.045       0.204\n",
    "# train_mat['range.pos.std.4096']             0.8097      0.107      7.585      0.000       0.600       1.019\n",
    "# train_mat['kdj.j.std.4096']                -1.1905      0.201     -5.914      0.000      -1.585      -0.796\n",
    "# train_mat['range.pos.4096']                 0.1425      0.055      2.608      0.009       0.035       0.250\n",
    "# train_mat['range.pos.trend.index.4096']    -0.1147      0.056     -2.044      0.041      -0.225      -0.005\n",
    "# train_mat['nr.4096']                        0.0688      0.030      2.313      0.021       0.010       0.127\n",
    "# train_mat['nr.trend.index.4096']           -0.0529      0.031     -1.696      0.090      -0.114       0.008\n",
    "# train_mat['kdj.k.std.4096']                 0.4150      0.152      2.735      0.006       0.118       0.712\n",
    "# train_mat['price.osci.std.4096']           -0.2627      0.070     -3.757      0.000      -0.400      -0.126\n",
    "# train_mat['price.osci.range.4096']          0.2381      0.070      3.384      0.001       0.100       0.376\n",
    "# train_mat['kdj.k.range.4096']              -0.2784      0.119     -2.331      0.020      -0.513      -0.044\n",
    "# train_mat['kdj.j.4096']                    -0.0902      0.056     -1.606      0.108      -0.200       0.020\n",
    "# train_mat['kdj.j.trend.index.4096']         0.0592      0.057      1.044      0.296      -0.052       0.170\n",
    "# ==============================================================================\n",
    "# Omnibus:                     2268.577   Durbin-Watson:                   2.023\n",
    "# Prob(Omnibus):                  0.000   Jarque-Bera (JB):           248489.060\n",
    "# Skew:                           0.028   Prob(JB):                         0.00\n",
    "# Kurtosis:                      29.852   Cond. No.                         102.\n",
    "# ==============================================================================\n",
    "\n",
    "# Warnings:\n",
    "# [1] Standard Errors assume that the covariance matrix of the errors is correctly specified."
   ]
  },
  {
   "cell_type": "code",
   "execution_count": 503,
   "metadata": {},
   "outputs": [
    {
     "data": {
      "text/plain": [
       "array([ 0.0819258 ,  0.6913957 , -0.55538852,  0.03359954, -0.21232737,\n",
       "        0.13766156,  0.12479479,  0.80972414, -1.19048928,  0.14254266,\n",
       "       -0.11468121,  0.06877016, -0.05289568,  0.41497584, -0.26265315,\n",
       "        0.23805662, -0.27841224, -0.09016691,  0.05924329])"
      ]
     },
     "execution_count": 503,
     "metadata": {},
     "output_type": "execute_result"
    }
   ],
   "source": [
    "strat = \"full.\"+str(period)\n",
    "os.makedirs(SAVE_PATH+\"/tmp pkl/\"+product+\"/\"+strat, exist_ok=True)\n",
    "fit_coef = fit_full_lm.params.values\n",
    "fit_coef\n",
    "\n",
    "# array([ 0.0819258 ,  0.6913957 , -0.55538852,  0.03359954, -0.21232737,\n",
    "#         0.13766156,  0.12479479,  0.80972414, -1.19048928,  0.14254266,\n",
    "#        -0.11468121,  0.06877016, -0.05289568,  0.41497584, -0.26265315,\n",
    "#         0.23805662, -0.27841224, -0.09016691,  0.05924329])"
   ]
  },
  {
   "cell_type": "code",
   "execution_count": 504,
   "metadata": {},
   "outputs": [],
   "source": [
    "for product in product_list:\n",
    "    os.makedirs(SAVE_PATH+\"/tmp pkl/\"+product+\"/\"+strat, exist_ok=True)"
   ]
  },
  {
   "cell_type": "code",
   "execution_count": 505,
   "metadata": {},
   "outputs": [
    {
     "name": "stdout",
     "output_type": "stream",
     "text": [
      "btc.usd.td\n",
      "eth.usd.td\n",
      "Wall time: 53.8 s\n"
     ]
    }
   ],
   "source": [
    "%%time\n",
    "for product in product_list[0:2]:\n",
    "    print(product)\n",
    "    coef = fit_coef*train_std_mat[product][y_signal]/train_std_mat[product][result[\"chosen.signals\"]]\n",
    "    parLapply(CORE_NUM, all_dates, get_daily_pred, \n",
    "              product=product, signal_list=result[\"chosen.signals\"], coef=coef, strat=\"full.4096\", HEAD_PATH=SAVE_PATH)\n",
    "    \n",
    "# btc.usd.td\n",
    "# eth.usd.td\n",
    "# Wall time: 53.8 s\n",
    "\n"
   ]
  },
  {
   "cell_type": "code",
   "execution_count": 506,
   "metadata": {},
   "outputs": [
    {
     "name": "stdout",
     "output_type": "stream",
     "text": [
      "Wall time: 19 s\n"
     ]
    }
   ],
   "source": [
    "%%time\n",
    "for product in product_list[0:2]:\n",
    "    par_get_all_signal(\"full.4096\", all_dates, product, 4096, SAVE_PATH=SAVE_PATH)\n",
    "## Wall time: 19 s\n",
    "\n"
   ]
  },
  {
   "cell_type": "code",
   "execution_count": 508,
   "metadata": {},
   "outputs": [
    {
     "name": "stdout",
     "output_type": "stream",
     "text": [
      "reverse=1\n",
      "reverse=1\n",
      "Wall time: 6min 38s\n"
     ]
    }
   ],
   "source": [
    "%%time\n",
    "for product in product_list[0:2]:\n",
    "    spread = product_info[product][\"spread\"]\n",
    "    tranct = product_info[product][\"tranct\"]\n",
    "    tranct_ratio = product_info[product][\"tranct.ratio\"] \n",
    "    evaluate_signal(\"full\", all_dates, product, 2/spread, 20, \n",
    "                    CORE_NUM, HEAD_PATH, SAVE_PATH,period=4096, split_str=\"2019-08\", tranct=tranct, \n",
    "                    max_spread=spread*1.1, tranct_ratio=tranct_ratio, atr_filter=20, save_path=\"signal result atr\",reverse=1)\n",
    "\n",
    "# reverse=1\n",
    "# reverse=1\n",
    "# Wall time: 6min 38s\n",
    "\n"
   ]
  },
  {
   "cell_type": "code",
   "execution_count": 580,
   "metadata": {},
   "outputs": [
    {
     "name": "stdout",
     "output_type": "stream",
     "text": [
      "btc.usd.td train sharpe  0.5829362859003242 test sharpe  2.074490735190875\n",
      "eth.usd.td train sharpe  1.7872907518663508 test sharpe  3.5647759134417827\n"
     ]
    }
   ],
   "source": [
    "for product in product_list[0:2]:\n",
    "    spread = product_info[product][\"spread\"]\n",
    "    signal_stat = load(HEAD_PATH+\"/signal result atr/\"+product+\".\"+\"full.4096\"+\".trend.pkl\")\n",
    "    train_stat = signal_stat[\"train.stat\"]\n",
    "    good_strat = (train_stat[\"final.result\"][\"avg.pnl\"]>20*spread)\n",
    "    train_pnl = train_stat[\"daily.ret\"].loc[:, good_strat].sum(axis=1)/sum(good_strat)\n",
    "    test_stat = signal_stat[\"test.stat\"]\n",
    "    test_pnl = test_stat[\"daily.ret\"].loc[:, good_strat].sum(axis=1)/sum(good_strat)\n",
    "    print(product, \"train sharpe \", sharpe(train_pnl), \"test sharpe \", sharpe(test_pnl))\n",
    "\n",
    "# btc.usd.td train sharpe  1.1037680618652521 test sharpe  1.3454173676985408\n",
    "# eth.usd.td train sharpe  1.4379465510171268 test sharpe  1.4629342214138616\n",
    "\n",
    "\n"
   ]
  },
  {
   "cell_type": "code",
   "execution_count": 513,
   "metadata": {},
   "outputs": [
    {
     "data": {
      "text/plain": [
       "\"train_mat['ret.4096.004'] ~ +train_mat['nr.range.4096']+train_mat['kdj.j.range.4096']+train_mat['range.pos.range.4096']+train_mat['ma.dif.10.range.4096']+train_mat['ma.dif.10.4096']+train_mat['ma.dif.10.trend.index.4096']+train_mat['ma.dif.10.std.4096']+train_mat['range.pos.std.4096']+train_mat['kdj.j.std.4096']+train_mat['range.pos.4096']+train_mat['range.pos.trend.index.4096']+train_mat['nr.4096']+train_mat['nr.trend.index.4096']+train_mat['kdj.k.std.4096']+train_mat['price.osci.std.4096']+train_mat['price.osci.range.4096']+train_mat['kdj.k.range.4096']+train_mat['kdj.j.4096']+train_mat['kdj.j.trend.index.4096']+0\""
      ]
     },
     "execution_count": 513,
     "metadata": {},
     "output_type": "execute_result"
    }
   ],
   "source": [
    "y_signal = \"ret.\"+str(period)+\".004\"\n",
    "formula = \"train_mat['\" + y_signal+\"'] ~ \"\n",
    "for signal in result[\"chosen.signals\"]:\n",
    "    formula = formula+\"+train_mat['\"+signal+\"']\"\n",
    "formula+=\"+0\"\n",
    "formula\n",
    "\n",
    "## \"train_mat['ret.4096.004'] ~ +train_mat['nr.range.4096']+train_mat['kdj.j.range.4096']+train_mat['range.pos.range.4096']+train_mat['ma.dif.10.range.4096']+train_mat['ma.dif.10.4096']+train_mat['ma.dif.10.trend.index.4096']+train_mat['ma.dif.10.std.4096']+train_mat['range.pos.std.4096']+train_mat['kdj.j.std.4096']+train_mat['range.pos.4096']+train_mat['range.pos.trend.index.4096']+train_mat['nr.4096']+train_mat['nr.trend.index.4096']+train_mat['kdj.k.std.4096']+train_mat['price.osci.std.4096']+train_mat['price.osci.range.4096']+train_mat['kdj.k.range.4096']+train_mat['kdj.j.4096']+train_mat['kdj.j.trend.index.4096']+0\""
   ]
  },
  {
   "cell_type": "code",
   "execution_count": 514,
   "metadata": {},
   "outputs": [
    {
     "data": {
      "text/plain": [
       "array([ 0.0396801 ,  0.17703614, -0.07385492,  0.11547512, -0.08682319,\n",
       "        0.06838427, -0.0231813 ,  0.21668915, -0.49848164,  0.11737424,\n",
       "       -0.05986007,  0.073747  , -0.05215649,  0.26189336, -0.01052209,\n",
       "       -0.04267964, -0.15418542, -0.09866202,  0.02525946])"
      ]
     },
     "execution_count": 514,
     "metadata": {},
     "output_type": "execute_result"
    }
   ],
   "source": [
    "fit_004_lm  = smf.ols(formula=formula, data=train_mat[train_mat.columns[:-3]]).fit()\n",
    "strat = \"full.004.\"+str(period)\n",
    "for product in product_list:\n",
    "    os.makedirs(SAVE_PATH+\"/tmp pkl/\"+product+\"/\"+strat, exist_ok=True)\n",
    "fit_coef = fit_004_lm.params.values\n",
    "fit_coef\n",
    "\n",
    "# array([ 0.0396801 ,  0.17703614, -0.07385492,  0.11547512, -0.08682319,\n",
    "#         0.06838427, -0.0231813 ,  0.21668915, -0.49848164,  0.11737424,\n",
    "#        -0.05986007,  0.073747  , -0.05215649,  0.26189336, -0.01052209,\n",
    "#        -0.04267964, -0.15418542, -0.09866202,  0.02525946])"
   ]
  },
  {
   "cell_type": "code",
   "execution_count": null,
   "metadata": {},
   "outputs": [],
   "source": []
  },
  {
   "cell_type": "code",
   "execution_count": 517,
   "metadata": {},
   "outputs": [
    {
     "name": "stdout",
     "output_type": "stream",
     "text": [
      "btc.usd.td\n",
      "nr.range.4096                 0.000048\n",
      "kdj.j.range.4096              0.000031\n",
      "range.pos.range.4096         -0.000040\n",
      "ma.dif.10.range.4096          0.000460\n",
      "ma.dif.10.4096               -0.104258\n",
      "ma.dif.10.trend.index.4096    0.129901\n",
      "ma.dif.10.std.4096           -0.000264\n",
      "range.pos.std.4096            0.000419\n",
      "kdj.j.std.4096               -0.000294\n",
      "range.pos.4096                0.005358\n",
      "range.pos.trend.index.4096   -0.004505\n",
      "nr.4096                       0.004399\n",
      "nr.trend.index.4096          -0.004118\n",
      "kdj.k.std.4096                0.000133\n",
      "price.osci.std.4096          -0.000007\n",
      "price.osci.range.4096        -0.000007\n",
      "kdj.k.range.4096             -0.000023\n",
      "kdj.j.4096                   -0.001365\n",
      "kdj.j.trend.index.4096        0.000563\n",
      "dtype: float64\n",
      "eth.usd.td\n",
      "nr.range.4096                 0.001160\n",
      "kdj.j.range.4096              0.000659\n",
      "range.pos.range.4096         -0.000887\n",
      "ma.dif.10.range.4096          0.002264\n",
      "ma.dif.10.4096               -0.063552\n",
      "ma.dif.10.trend.index.4096    0.065608\n",
      "ma.dif.10.std.4096           -0.001046\n",
      "range.pos.std.4096            0.007861\n",
      "kdj.j.std.4096               -0.005392\n",
      "range.pos.4096                0.007614\n",
      "range.pos.trend.index.4096   -0.006738\n",
      "nr.4096                       0.008697\n",
      "nr.trend.index.4096          -0.008909\n",
      "kdj.k.std.4096                0.002201\n",
      "price.osci.std.4096          -0.000106\n",
      "price.osci.range.4096        -0.000144\n",
      "kdj.k.range.4096             -0.000468\n",
      "kdj.j.4096                   -0.002008\n",
      "kdj.j.trend.index.4096        0.000871\n",
      "dtype: float64\n",
      "Wall time: 53 s\n"
     ]
    }
   ],
   "source": [
    "%%time\n",
    "for product in product_list[0:2]:\n",
    "    print(product)\n",
    "    coef = fit_coef*train_std_mat[product][y_signal]/train_std_mat[product][result[\"chosen.signals\"]]\n",
    "    print(coef)\n",
    "    parLapply(CORE_NUM, all_dates, get_daily_pred, \n",
    "              product=product, signal_list=result[\"chosen.signals\"], \n",
    "              coef=coef, strat=strat, HEAD_PATH=SAVE_PATH)\n",
    "    \n",
    "# IF\n",
    "# trade.imb.std.4096                 -0.001920\n",
    "# trade.imb.volume.open.ratio.4096    0.017469\n",
    "# kdj.k.trend.index.4096              0.000248\n",
    "# kdj.j.range.4096                    0.000062\n",
    "# price.osci.std.4096                 0.000818\n",
    "# ma.dif.10.std.4096                 -0.013392\n",
    "# price.osci.4096                    -0.000799\n",
    "# total.trade.imb.range.4096         -0.000157\n",
    "# price.osci.range.4096              -0.000103\n",
    "# kdj.j.std.4096                     -0.000375\n",
    "# trade.imb.range.4096                0.000463\n",
    "# dtype: float64\n",
    "# IH\n",
    "# trade.imb.std.4096                 -0.004314\n",
    "# trade.imb.volume.open.ratio.4096    0.017410\n",
    "# kdj.k.trend.index.4096              0.000274\n",
    "# kdj.j.range.4096                    0.000092\n",
    "# price.osci.std.4096                 0.001229\n",
    "# ma.dif.10.std.4096                 -0.019589\n",
    "# price.osci.4096                    -0.000899\n",
    "# total.trade.imb.range.4096         -0.000277\n",
    "# price.osci.range.4096              -0.000155\n",
    "# kdj.j.std.4096                     -0.000539\n",
    "# trade.imb.range.4096                0.001066\n",
    "# dtype: float64\n",
    "# IC\n",
    "# trade.imb.std.4096                 -0.000963\n",
    "# trade.imb.volume.open.ratio.4096    0.020816\n",
    "# kdj.k.trend.index.4096              0.000320\n",
    "# kdj.j.range.4096                    0.000033\n",
    "# price.osci.std.4096                 0.000431\n",
    "# ma.dif.10.std.4096                 -0.004773\n",
    "# price.osci.4096                    -0.001010\n",
    "# total.trade.imb.range.4096         -0.000084\n",
    "# price.osci.range.4096              -0.000055\n",
    "# kdj.j.std.4096                     -0.000192\n",
    "# trade.imb.range.4096                0.000261\n",
    "# dtype: float64\n",
    "# Wall time: 1min 21s"
   ]
  },
  {
   "cell_type": "code",
   "execution_count": 518,
   "metadata": {},
   "outputs": [
    {
     "name": "stdout",
     "output_type": "stream",
     "text": [
      "Wall time: 19 s\n"
     ]
    }
   ],
   "source": [
    "%%time\n",
    "for product in product_list[0:2]:\n",
    "    par_get_all_signal(\"full.004.4096\", all_dates, product, 4096)\n",
    "\n",
    "## Wall time: 26.9 s"
   ]
  },
  {
   "cell_type": "code",
   "execution_count": 519,
   "metadata": {},
   "outputs": [
    {
     "name": "stdout",
     "output_type": "stream",
     "text": [
      "reverse=1\n",
      "reverse=1\n",
      "Wall time: 6min 12s\n"
     ]
    }
   ],
   "source": [
    "%%time\n",
    "for product in product_list[0:2]:\n",
    "    spread = product_info[product][\"spread\"]\n",
    "    tranct = product_info[product][\"tranct\"]\n",
    "    tranct_ratio = product_info[product][\"tranct.ratio\"] \n",
    "    evaluate_signal(\"full.004\", all_dates, product, 2/spread, 20, \n",
    "                    CORE_NUM, HEAD_PATH, SAVE_PATH,period=4096, split_str=\"2019-08\", tranct=tranct, \n",
    "                    max_spread=spread*1.1, tranct_ratio=tranct_ratio, atr_filter=20, save_path=\"signal result atr\",reverse=1)\n",
    "    \n",
    "# reverse=1\n",
    "# reverse=1\n",
    "# Wall time: 6min 12s\n",
    "\n"
   ]
  },
  {
   "cell_type": "code",
   "execution_count": 581,
   "metadata": {},
   "outputs": [
    {
     "name": "stdout",
     "output_type": "stream",
     "text": [
      "btc.usd.td train sharpe  1.8813772728277425 test sharpe  1.6576743822780142\n",
      "eth.usd.td train sharpe  2.240158619352697 test sharpe  2.559491086488319\n"
     ]
    }
   ],
   "source": [
    "for product in product_list[0:2]:\n",
    "    spread = product_info[product][\"spread\"]\n",
    "    signal_stat = load(HEAD_PATH+\"/signal result atr/\"+product+\".\"+\"full.004.4096\"+\".trend.pkl\")\n",
    "    train_stat = signal_stat[\"train.stat\"]\n",
    "    good_strat = (train_stat[\"final.result\"][\"avg.pnl\"]>20*spread)\n",
    "    train_pnl = train_stat[\"daily.ret\"].loc[:, good_strat].sum(axis=1)/sum(good_strat)\n",
    "    train_std = np.std(train_pnl)\n",
    "    train_pnl = train_pnl/train_std\n",
    "    test_stat = signal_stat[\"test.stat\"]\n",
    "    test_pnl = test_stat[\"daily.ret\"].loc[:, good_strat].sum(axis=1)/sum(good_strat)/train_std\n",
    "    print(product, \"train sharpe \", sharpe(train_pnl), \"test sharpe \", sharpe(test_pnl))\n",
    "\n",
    "# btc.usd.td train sharpe  1.8813772728277425 test sharpe  1.6576743822780142\n",
    "# eth.usd.td train sharpe  2.240158619352697 test sharpe  2.559491086488319\n",
    "\n",
    "\n",
    "\n"
   ]
  },
  {
   "cell_type": "code",
   "execution_count": 521,
   "metadata": {},
   "outputs": [
    {
     "data": {
      "text/plain": [
       "\"train_mat['ret.4096.002'] ~ +train_mat['nr.range.4096']+train_mat['kdj.j.range.4096']+train_mat['range.pos.range.4096']+train_mat['ma.dif.10.range.4096']+train_mat['ma.dif.10.4096']+train_mat['ma.dif.10.trend.index.4096']+train_mat['ma.dif.10.std.4096']+train_mat['range.pos.std.4096']+train_mat['kdj.j.std.4096']+train_mat['range.pos.4096']+train_mat['range.pos.trend.index.4096']+train_mat['nr.4096']+train_mat['nr.trend.index.4096']+train_mat['kdj.k.std.4096']+train_mat['price.osci.std.4096']+train_mat['price.osci.range.4096']+train_mat['kdj.k.range.4096']+train_mat['kdj.j.4096']+train_mat['kdj.j.trend.index.4096']+0\""
      ]
     },
     "execution_count": 521,
     "metadata": {},
     "output_type": "execute_result"
    }
   ],
   "source": [
    "y_signal = \"ret.\"+str(period)+\".002\"\n",
    "formula = \"train_mat['\" + y_signal+\"'] ~ \"\n",
    "for signal in result[\"chosen.signals\"]:\n",
    "    formula = formula+\"+train_mat['\"+signal+\"']\"\n",
    "formula+=\"+0\"\n",
    "formula\n",
    "# \"train_mat['ret.4096.002'] ~ +train_mat['nr.range.4096']+train_mat['kdj.j.range.4096']+train_mat['range.pos.range.4096']+train_mat['ma.dif.10.range.4096']+train_mat['ma.dif.10.4096']+train_mat['ma.dif.10.trend.index.4096']+train_mat['ma.dif.10.std.4096']+train_mat['range.pos.std.4096']+train_mat['kdj.j.std.4096']+train_mat['range.pos.4096']+train_mat['range.pos.trend.index.4096']+train_mat['nr.4096']+train_mat['nr.trend.index.4096']+train_mat['kdj.k.std.4096']+train_mat['price.osci.std.4096']+train_mat['price.osci.range.4096']+train_mat['kdj.k.range.4096']+train_mat['kdj.j.4096']+train_mat['kdj.j.trend.index.4096']+0\""
   ]
  },
  {
   "cell_type": "code",
   "execution_count": 522,
   "metadata": {},
   "outputs": [
    {
     "data": {
      "text/plain": [
       "array([ 0.05854297,  0.24742786, -0.15695334,  0.01213161, -0.12177005,\n",
       "        0.08192567,  0.11131216,  0.28881354, -0.50034906,  0.13110896,\n",
       "       -0.05101417,  0.0331438 , -0.02013604,  0.19290853, -0.0455401 ,\n",
       "       -0.05032785, -0.1187902 , -0.12134613,  0.00987017])"
      ]
     },
     "execution_count": 522,
     "metadata": {},
     "output_type": "execute_result"
    }
   ],
   "source": [
    "fit_002_lm  = smf.ols(formula=formula, data=train_mat[train_mat.columns[:-2]]).fit()\n",
    "strat = \"full.002.\"+str(period)\n",
    "for product in product_list:\n",
    "    os.makedirs(SAVE_PATH+\"/tmp pkl/\"+product+\"/\"+strat, exist_ok=True)\n",
    "fit_coef = fit_002_lm.params.values\n",
    "fit_coef\n",
    "\n",
    "# array([ 0.05854297,  0.24742786, -0.15695334,  0.01213161, -0.12177005,\n",
    "#         0.08192567,  0.11131216,  0.28881354, -0.50034906,  0.13110896,\n",
    "#        -0.05101417,  0.0331438 , -0.02013604,  0.19290853, -0.0455401 ,\n",
    "#        -0.05032785, -0.1187902 , -0.12134613,  0.00987017])"
   ]
  },
  {
   "cell_type": "code",
   "execution_count": 523,
   "metadata": {
    "scrolled": false
   },
   "outputs": [
    {
     "name": "stdout",
     "output_type": "stream",
     "text": [
      "btc.usd.td\n",
      "nr.range.4096                 0.000057\n",
      "kdj.j.range.4096              0.000035\n",
      "range.pos.range.4096         -0.000069\n",
      "ma.dif.10.range.4096          0.000039\n",
      "ma.dif.10.4096               -0.117456\n",
      "ma.dif.10.trend.index.4096    0.125007\n",
      "ma.dif.10.std.4096            0.001019\n",
      "range.pos.std.4096            0.000449\n",
      "kdj.j.std.4096               -0.000237\n",
      "range.pos.4096                0.004808\n",
      "range.pos.trend.index.4096   -0.003084\n",
      "nr.4096                       0.001588\n",
      "nr.trend.index.4096          -0.001277\n",
      "kdj.k.std.4096                0.000079\n",
      "price.osci.std.4096          -0.000024\n",
      "price.osci.range.4096        -0.000007\n",
      "kdj.k.range.4096             -0.000014\n",
      "kdj.j.4096                   -0.001348\n",
      "kdj.j.trend.index.4096        0.000177\n",
      "dtype: float64\n",
      "eth.usd.td\n",
      "nr.range.4096                 0.001283\n",
      "kdj.j.range.4096              0.000690\n",
      "range.pos.range.4096         -0.001414\n",
      "ma.dif.10.range.4096          0.000178\n",
      "ma.dif.10.4096               -0.066815\n",
      "ma.dif.10.trend.index.4096    0.058920\n",
      "ma.dif.10.std.4096            0.003765\n",
      "range.pos.std.4096            0.007855\n",
      "kdj.j.std.4096               -0.004057\n",
      "range.pos.4096                0.006376\n",
      "range.pos.trend.index.4096   -0.004305\n",
      "nr.4096                       0.002930\n",
      "nr.trend.index.4096          -0.002578\n",
      "kdj.k.std.4096                0.001215\n",
      "price.osci.std.4096          -0.000345\n",
      "price.osci.range.4096        -0.000127\n",
      "kdj.k.range.4096             -0.000270\n",
      "kdj.j.4096                   -0.001852\n",
      "kdj.j.trend.index.4096        0.000255\n",
      "dtype: float64\n",
      "Wall time: 53.3 s\n"
     ]
    },
    {
     "data": {
      "text/plain": [
       "''"
      ]
     },
     "execution_count": 523,
     "metadata": {},
     "output_type": "execute_result"
    }
   ],
   "source": [
    "%%time\n",
    "for product in product_list[0:2]:\n",
    "    print(product)\n",
    "    coef = fit_coef*train_std_mat[product][y_signal]/train_std_mat[product][result[\"chosen.signals\"]]\n",
    "    print(coef)\n",
    "    parLapply(CORE_NUM, all_dates, get_daily_pred, \n",
    "              product=product, signal_list=result[\"chosen.signals\"], \n",
    "              coef=coef, strat=strat, HEAD_PATH=SAVE_PATH)\n",
    ";\n",
    "\n",
    "# btc.usd.td\n",
    "# nr.range.4096                 0.000057\n",
    "# kdj.j.range.4096              0.000035\n",
    "# range.pos.range.4096         -0.000069\n",
    "# ma.dif.10.range.4096          0.000039\n",
    "# ma.dif.10.4096               -0.117456\n",
    "# ma.dif.10.trend.index.4096    0.125007\n",
    "# ma.dif.10.std.4096            0.001019\n",
    "# range.pos.std.4096            0.000449\n",
    "# kdj.j.std.4096               -0.000237\n",
    "# range.pos.4096                0.004808\n",
    "# range.pos.trend.index.4096   -0.003084\n",
    "# nr.4096                       0.001588\n",
    "# nr.trend.index.4096          -0.001277\n",
    "# kdj.k.std.4096                0.000079\n",
    "# price.osci.std.4096          -0.000024\n",
    "# price.osci.range.4096        -0.000007\n",
    "# kdj.k.range.4096             -0.000014\n",
    "# kdj.j.4096                   -0.001348\n",
    "# kdj.j.trend.index.4096        0.000177\n",
    "# dtype: float64\n",
    "# eth.usd.td\n",
    "# nr.range.4096                 0.001283\n",
    "# kdj.j.range.4096              0.000690\n",
    "# range.pos.range.4096         -0.001414\n",
    "# ma.dif.10.range.4096          0.000178\n",
    "# ma.dif.10.4096               -0.066815\n",
    "# ma.dif.10.trend.index.4096    0.058920\n",
    "# ma.dif.10.std.4096            0.003765\n",
    "# range.pos.std.4096            0.007855\n",
    "# kdj.j.std.4096               -0.004057\n",
    "# range.pos.4096                0.006376\n",
    "# range.pos.trend.index.4096   -0.004305\n",
    "# nr.4096                       0.002930\n",
    "# nr.trend.index.4096          -0.002578\n",
    "# kdj.k.std.4096                0.001215\n",
    "# price.osci.std.4096          -0.000345\n",
    "# price.osci.range.4096        -0.000127\n",
    "# kdj.k.range.4096             -0.000270\n",
    "# kdj.j.4096                   -0.001852\n",
    "# kdj.j.trend.index.4096        0.000255\n",
    "# dtype: float64\n",
    "# Wall time: 53.3 s"
   ]
  },
  {
   "cell_type": "markdown",
   "metadata": {},
   "source": [
    "- now we try the ret.4096.002 as response"
   ]
  },
  {
   "cell_type": "code",
   "execution_count": 524,
   "metadata": {},
   "outputs": [
    {
     "name": "stdout",
     "output_type": "stream",
     "text": [
      "Wall time: 19.5 s\n"
     ]
    }
   ],
   "source": [
    "%%time\n",
    "for product in product_list[0:2]:\n",
    "    par_get_all_signal(\"full.002.4096\", all_dates, product, 4096)\n",
    "    \n",
    "## Wall time: 19.5 s\n"
   ]
  },
  {
   "cell_type": "code",
   "execution_count": 526,
   "metadata": {},
   "outputs": [
    {
     "name": "stdout",
     "output_type": "stream",
     "text": [
      "reverse=1\n",
      "reverse=1\n",
      "Wall time: 6min 57s\n"
     ]
    }
   ],
   "source": [
    "%%time\n",
    "for product in product_list[0:2]:\n",
    "    spread = product_info[product][\"spread\"]\n",
    "    tranct = product_info[product][\"tranct\"]\n",
    "    tranct_ratio = product_info[product][\"tranct.ratio\"] \n",
    "    evaluate_signal(\"full.002\", all_dates, product, 2/spread, 20, \n",
    "                    CORE_NUM, HEAD_PATH, SAVE_PATH,period=4096, split_str=\"2019-08\", tranct=tranct, \n",
    "                    max_spread=spread*1.1, tranct_ratio=tranct_ratio, atr_filter=20, save_path=\"signal result atr\",reverse=1)\n",
    "# reverse=1\n",
    "# reverse=1\n",
    "# reverse=1\n",
    "# reverse=1\n",
    "# Wall time: 6min 57s"
   ]
  },
  {
   "cell_type": "code",
   "execution_count": 583,
   "metadata": {},
   "outputs": [
    {
     "name": "stdout",
     "output_type": "stream",
     "text": [
      "btc.usd.td train sharpe  2.55145720509238 test sharpe  1.3977493829932683\n",
      "eth.usd.td train sharpe  1.8577544491631366 test sharpe  -1.2868484139239404\n"
     ]
    }
   ],
   "source": [
    "for product in product_list[0:2]:\n",
    "    spread = product_info[product][\"spread\"]\n",
    "    signal_stat = load(HEAD_PATH+\"/signal result atr/\"+product+\".\"+\"full.002.4096\"+\".trend.pkl\")\n",
    "    train_stat = signal_stat[\"train.stat\"]\n",
    "    good_strat = (train_stat[\"final.result\"][\"avg.pnl\"]>20*spread)\n",
    "    train_pnl = train_stat[\"daily.ret\"].loc[:, good_strat].sum(axis=1)/sum(good_strat)\n",
    "    test_stat = signal_stat[\"test.stat\"]\n",
    "    test_pnl = test_stat[\"daily.ret\"].loc[:, good_strat].sum(axis=1)/sum(good_strat)\n",
    "    print(product, \"train sharpe \", sharpe(train_pnl), \"test sharpe \", sharpe(test_pnl))\n",
    "\n",
    "## full.002\n",
    "# btc.usd.td train sharpe  2.55145720509238 test sharpe  1.3977493829932683\n",
    "# eth.usd.td train sharpe  1.8577544491631366 test sharpe  -1.2868484139239404\n",
    "\n",
    "\n"
   ]
  },
  {
   "cell_type": "markdown",
   "metadata": {},
   "source": [
    "- now we try to use ret.001"
   ]
  },
  {
   "cell_type": "code",
   "execution_count": 530,
   "metadata": {},
   "outputs": [
    {
     "data": {
      "text/plain": [
       "array([ 0.05710273, -0.11104159,  0.09803416,  0.09594221, -0.12784996,\n",
       "        0.04217033,  0.0114973 , -0.06177029,  0.13201518,  0.10336313,\n",
       "       -0.03149299,  0.004951  , -0.00827786, -0.05307445, -0.04493237,\n",
       "       -0.03812789, -0.01615294, -0.12274567,  0.00375508])"
      ]
     },
     "execution_count": 530,
     "metadata": {},
     "output_type": "execute_result"
    }
   ],
   "source": [
    "y_signal = \"ret.\"+str(period)+\".001\"\n",
    "formula = \"train_mat['\" + y_signal+\"'] ~ \"\n",
    "for signal in result[\"chosen.signals\"]:\n",
    "    formula = formula+\"+train_mat['\"+signal+\"']\"\n",
    "formula+=\"+0\"\n",
    "formula\n",
    "fit_001_lm  = smf.ols(formula=formula, data=train_mat[train_mat.columns[:-2]]).fit()\n",
    "strat = \"full.001.\"+str(period)\n",
    "for product in product_list:\n",
    "    os.makedirs(SAVE_PATH+\"/tmp pkl/\"+product+\"/\"+strat, exist_ok=True)\n",
    "fit_coef = fit_001_lm.params.values\n",
    "fit_coef\n",
    "\n",
    "# array([ 0.05710273, -0.11104159,  0.09803416,  0.09594221, -0.12784996,\n",
    "#         0.04217033,  0.0114973 , -0.06177029,  0.13201518,  0.10336313,\n",
    "#        -0.03149299,  0.004951  , -0.00827786, -0.05307445, -0.04493237,\n",
    "#        -0.03812789, -0.01615294, -0.12274567,  0.00375508])"
   ]
  },
  {
   "cell_type": "code",
   "execution_count": 531,
   "metadata": {
    "scrolled": false
   },
   "outputs": [
    {
     "name": "stdout",
     "output_type": "stream",
     "text": [
      "btc.usd.td\n",
      "nr.range.4096                 0.000040\n",
      "kdj.j.range.4096             -0.000011\n",
      "range.pos.range.4096          0.000031\n",
      "ma.dif.10.range.4096          0.000219\n",
      "ma.dif.10.4096               -0.088172\n",
      "ma.dif.10.trend.index.4096    0.046006\n",
      "ma.dif.10.std.4096            0.000075\n",
      "range.pos.std.4096           -0.000069\n",
      "kdj.j.std.4096                0.000045\n",
      "range.pos.4096                0.002710\n",
      "range.pos.trend.index.4096   -0.001361\n",
      "nr.4096                       0.000170\n",
      "nr.trend.index.4096          -0.000375\n",
      "kdj.k.std.4096               -0.000016\n",
      "price.osci.std.4096          -0.000017\n",
      "price.osci.range.4096        -0.000004\n",
      "kdj.k.range.4096             -0.000001\n",
      "kdj.j.4096                   -0.000975\n",
      "kdj.j.trend.index.4096        0.000048\n",
      "dtype: float64\n",
      "eth.usd.td\n",
      "nr.range.4096                 0.000833\n",
      "kdj.j.range.4096             -0.000206\n",
      "range.pos.range.4096          0.000588\n",
      "ma.dif.10.range.4096          0.000939\n",
      "ma.dif.10.4096               -0.046700\n",
      "ma.dif.10.trend.index.4096    0.020190\n",
      "ma.dif.10.std.4096            0.000259\n",
      "range.pos.std.4096           -0.001118\n",
      "kdj.j.std.4096                0.000713\n",
      "range.pos.4096                0.003346\n",
      "range.pos.trend.index.4096   -0.001769\n",
      "nr.4096                       0.000291\n",
      "nr.trend.index.4096          -0.000706\n",
      "kdj.k.std.4096               -0.000223\n",
      "price.osci.std.4096          -0.000227\n",
      "price.osci.range.4096        -0.000064\n",
      "kdj.k.range.4096             -0.000024\n",
      "kdj.j.4096                   -0.001247\n",
      "kdj.j.trend.index.4096        0.000065\n",
      "dtype: float64\n",
      "Wall time: 59.1 s\n"
     ]
    },
    {
     "data": {
      "text/plain": [
       "''"
      ]
     },
     "execution_count": 531,
     "metadata": {},
     "output_type": "execute_result"
    }
   ],
   "source": [
    "%%time\n",
    "for product in product_list[0:2]:\n",
    "    print(product)\n",
    "    coef = fit_coef*train_std_mat[product][y_signal]/train_std_mat[product][result[\"chosen.signals\"]]\n",
    "    print(coef)\n",
    "    parLapply(CORE_NUM, all_dates, get_daily_pred, \n",
    "              product=product, signal_list=result[\"chosen.signals\"], \n",
    "              coef=coef, strat=strat, HEAD_PATH=SAVE_PATH)\n",
    ";\n",
    "\n",
    "# btc.usd.td\n",
    "# nr.range.4096                 0.000040\n",
    "# kdj.j.range.4096             -0.000011\n",
    "# range.pos.range.4096          0.000031\n",
    "# ma.dif.10.range.4096          0.000219\n",
    "# ma.dif.10.4096               -0.088172\n",
    "# ma.dif.10.trend.index.4096    0.046006\n",
    "# ma.dif.10.std.4096            0.000075\n",
    "# range.pos.std.4096           -0.000069\n",
    "# kdj.j.std.4096                0.000045\n",
    "# range.pos.4096                0.002710\n",
    "# range.pos.trend.index.4096   -0.001361\n",
    "# nr.4096                       0.000170\n",
    "# nr.trend.index.4096          -0.000375\n",
    "# kdj.k.std.4096               -0.000016\n",
    "# price.osci.std.4096          -0.000017\n",
    "# price.osci.range.4096        -0.000004\n",
    "# kdj.k.range.4096             -0.000001\n",
    "# kdj.j.4096                   -0.000975\n",
    "# kdj.j.trend.index.4096        0.000048\n",
    "# dtype: float64\n",
    "# eth.usd.td\n",
    "# nr.range.4096                 0.000833\n",
    "# kdj.j.range.4096             -0.000206\n",
    "# range.pos.range.4096          0.000588\n",
    "# ma.dif.10.range.4096          0.000939\n",
    "# ma.dif.10.4096               -0.046700\n",
    "# ma.dif.10.trend.index.4096    0.020190\n",
    "# ma.dif.10.std.4096            0.000259\n",
    "# range.pos.std.4096           -0.001118\n",
    "# kdj.j.std.4096                0.000713\n",
    "# range.pos.4096                0.003346\n",
    "# range.pos.trend.index.4096   -0.001769\n",
    "# nr.4096                       0.000291\n",
    "# nr.trend.index.4096          -0.000706\n",
    "# kdj.k.std.4096               -0.000223\n",
    "# price.osci.std.4096          -0.000227\n",
    "# price.osci.range.4096        -0.000064\n",
    "# kdj.k.range.4096             -0.000024\n",
    "# kdj.j.4096                   -0.001247\n",
    "# kdj.j.trend.index.4096        0.000065\n",
    "# dtype: float64\n",
    "# Wall time: 59.1 s"
   ]
  },
  {
   "cell_type": "code",
   "execution_count": 532,
   "metadata": {},
   "outputs": [
    {
     "name": "stdout",
     "output_type": "stream",
     "text": [
      "Wall time: 18.9 s\n"
     ]
    }
   ],
   "source": [
    "%%time\n",
    "for product in product_list[0:2]:\n",
    "    par_get_all_signal(\"full.001.4096\", all_dates, product, 4096)\n",
    "\n",
    "## Wall time: 18.9 s"
   ]
  },
  {
   "cell_type": "code",
   "execution_count": 534,
   "metadata": {},
   "outputs": [
    {
     "name": "stdout",
     "output_type": "stream",
     "text": [
      "reverse=1\n",
      "reverse=1\n",
      "Wall time: 6min 26s\n"
     ]
    }
   ],
   "source": [
    "%%time\n",
    "for product in product_list[0:2]:\n",
    "    spread = product_info[product][\"spread\"]\n",
    "    tranct = product_info[product][\"tranct\"]\n",
    "    tranct_ratio = product_info[product][\"tranct.ratio\"] \n",
    "    evaluate_signal(\"full.001\", all_dates, product, 2/spread, 20, \n",
    "                    CORE_NUM, HEAD_PATH, SAVE_PATH,period=4096, split_str=\"2019-08\", tranct=tranct, \n",
    "                    max_spread=spread*1.1, tranct_ratio=tranct_ratio, atr_filter=20, save_path=\"signal result atr\",reverse=1)\n",
    "    \n",
    "# reverse=1\n",
    "# reverse=1\n",
    "# Wall time: 6min 26s\n",
    "\n",
    "\n"
   ]
  },
  {
   "cell_type": "code",
   "execution_count": 582,
   "metadata": {},
   "outputs": [
    {
     "name": "stdout",
     "output_type": "stream",
     "text": [
      "btc.usd.td train sharpe  2.753761923083398 test sharpe  1.2567417470314899\n",
      "eth.usd.td train sharpe  1.9827871998468172 test sharpe  -1.1643027683149838\n",
      "Wall time: 25 ms\n"
     ]
    }
   ],
   "source": [
    "%%time\n",
    "for product in product_list[0:2]:\n",
    "    spread = product_info[product][\"spread\"]\n",
    "    signal_stat = load(HEAD_PATH+\"/signal result atr/\"+product+\".\"+\"full.001.4096\"+\".trend.pkl\")\n",
    "    train_stat = signal_stat[\"train.stat\"]\n",
    "    good_strat = (train_stat[\"final.result\"][\"avg.pnl\"]>20*spread)\n",
    "    train_pnl = train_stat[\"daily.ret\"].loc[:, good_strat].sum(axis=1)/sum(good_strat)\n",
    "    test_stat = signal_stat[\"test.stat\"]\n",
    "    test_pnl = test_stat[\"daily.ret\"].loc[:, good_strat].sum(axis=1)/sum(good_strat)\n",
    "    print(product, \"train sharpe \", sharpe(train_pnl), \"test sharpe \", sharpe(test_pnl))\n",
    "\n",
    "## full.001\n",
    "# btc.usd.td train sharpe  2.753761923083398 test sharpe  1.2567417470314899\n",
    "# eth.usd.td train sharpe  1.9827871998468172 test sharpe  -1.1643027683149838\n",
    "\n",
    "## full.002\n",
    "# btc.usd.td train sharpe  2.485138801203194 test sharpe  1.4141024529125132\n",
    "# eth.usd.td train sharpe  1.5714752653681243 test sharpe  -1.3368059017951117\n",
    "\n",
    "\n",
    "## full.004\n",
    "# btc.usd.td train sharpe  1.8813772728277425 test sharpe  1.6576743822780142\n",
    "# eth.usd.td train sharpe  2.240158619352697 test sharpe  2.559491086488319\n",
    "\n",
    "\n",
    "## original full\n",
    "# IF train sharpe  0.4982541328255545 test sharpe  0.8939045222957637\n",
    "# IH train sharpe  0.21747502986522438 test sharpe  0.19000986556739546\n",
    "# IC train sharpe  0.5704744572663202 test sharpe  0.9975516857023627\n",
    "\n",
    "\n"
   ]
  },
  {
   "cell_type": "code",
   "execution_count": 537,
   "metadata": {},
   "outputs": [],
   "source": [
    "\n",
    "import statsmodels.formula.api as smf\n",
    "def step_aic(model, exog, endog, **kwargs):\n",
    "    \"\"\"\n",
    "    This select the best exogenous variables with AIC\n",
    "    Both exog and endog values can be either str or list.\n",
    "    (Endog list is for the Binomial family.)\n",
    "\n",
    "    Note: This adopt only \"forward\" selection\n",
    "\n",
    "    Args:\n",
    "        model: model from statsmodels.formula.api\n",
    "        exog (str or list): exogenous variables\n",
    "        endog (str or list): endogenous variables\n",
    "        kwargs: extra keyword argments for model (e.g., data, family)\n",
    "\n",
    "    Returns:\n",
    "        model: a model that seems to have the smallest AIC\n",
    "    \"\"\"\n",
    "    for key in kwargs.keys():\n",
    "        df = kwargs[key]\n",
    "    df_name = \"df\"    \n",
    "    remaining = set(exog)\n",
    "    \n",
    "    exog = [df_name+\"['\"+s+\"']\" for s in exog]\n",
    "    endog = [df_name+\"['\"+s+\"']\" for s in endog]\n",
    "    \n",
    "        \n",
    "    # exog, endogは強制的にリスト形式に変換しておく\n",
    "    exog = np.r_[[exog]].flatten()\n",
    "    endog = np.r_[[endog]].flatten()\n",
    "    selected = []  # 採用が確定された要因\n",
    "    chosen_signals = []\n",
    "    # 定数項のみのAICを計算\n",
    "    formula_head = ' + '.join(endog) + ' ~ '\n",
    "    formula = formula_head + '1'\n",
    "    #aic = model(formula=formula, **kwargs).fit().aic\n",
    "    aic = model(formula=formula, data=df).fit().aic\n",
    "    print('AIC: {}, formula: {}'.format(round(aic, 3), formula))\n",
    "\n",
    "    current_score, best_new_score = np.ones(2) * aic\n",
    "\n",
    "    # 全要因を採択するか，どの要因を追加してもAICが上がらなければ終了\n",
    "    while remaining and current_score == best_new_score:\n",
    "        scores_with_candidates = []\n",
    "        for candidate in remaining:\n",
    "\n",
    "            # 残っている要因を1つずつ追加したときのAICを計算\n",
    "            formula_tail = ' + '.join(selected + [df_name+\"['\"+candidate+\"']\"])\n",
    "            formula = formula_head + formula_tail\n",
    "            #aic = model(formula=formula, **kwargs).fit().aic\n",
    "            aic = model(formula=formula, data=df).fit().aic\n",
    "            print('AIC: {}, formula: {}'.format(round(aic, 3), formula))\n",
    "\n",
    "            scores_with_candidates.append((aic, candidate))\n",
    "\n",
    "        # 最もAICが小さかった要因をbest_candidateとする\n",
    "        scores_with_candidates.sort()\n",
    "        scores_with_candidates.reverse()\n",
    "        best_new_score, best_candidate = scores_with_candidates.pop()\n",
    "\n",
    "        # 候補要因追加でAICが下がったならば，それを確定要因として追加する\n",
    "        \n",
    "        if best_new_score < current_score:\n",
    "            remaining.remove(best_candidate)\n",
    "            selected.append(df_name+\"['\"+best_candidate+\"']\")\n",
    "            chosen_signals.append(best_candidate)\n",
    "            current_score = best_new_score\n",
    "\n",
    "    formula = formula_head + ' + '.join(selected)\n",
    "    print('The best formula: {}'.format(formula))\n",
    "    #return model(formula, **kwargs).fit()\n",
    "    result = OrderedDict([(\"model\", model), (\"chosen.signals\", chosen_signals)])\n",
    "    #return model(formula, data=df).fit()\n",
    "    return result"
   ]
  },
  {
   "cell_type": "code",
   "execution_count": 538,
   "metadata": {},
   "outputs": [
    {
     "name": "stdout",
     "output_type": "stream",
     "text": [
      "AIC: 23474.376, formula: df['ret.4096'] ~ 1\n",
      "AIC: 23470.283, formula: df['ret.4096'] ~ df['kdj.k.range.4096']\n",
      "AIC: 23474.273, formula: df['ret.4096'] ~ df['dbook.4096']\n",
      "AIC: 23472.952, formula: df['ret.4096'] ~ df['kdj.k.4096']\n",
      "AIC: 23475.534, formula: df['ret.4096'] ~ df['nr.trend.index.4096']\n",
      "AIC: 23471.069, formula: df['ret.4096'] ~ df['nr.4096']\n",
      "AIC: 23469.043, formula: df['ret.4096'] ~ df['ma.dif.10.4096']\n",
      "AIC: 23454.864, formula: df['ret.4096'] ~ df['nr.std.4096']\n",
      "AIC: 23475.615, formula: df['ret.4096'] ~ df['price.osci.std.4096']\n",
      "AIC: 23475.966, formula: df['ret.4096'] ~ df['dbook.trend.index.4096']\n",
      "AIC: 23474.019, formula: df['ret.4096'] ~ df['range.pos.trend.index.4096']\n",
      "AIC: 23473.276, formula: df['ret.4096'] ~ df['ma.dif.10.std.4096']\n",
      "AIC: 23475.565, formula: df['ret.4096'] ~ df['dbook.range.4096']\n",
      "AIC: 23466.195, formula: df['ret.4096'] ~ df['kdj.j.trend.index.4096']\n",
      "AIC: 23476.354, formula: df['ret.4096'] ~ df['range.pos.4096']\n",
      "AIC: 23475.446, formula: df['ret.4096'] ~ df['ma.dif.10.trend.index.4096']\n",
      "AIC: 23466.144, formula: df['ret.4096'] ~ df['kdj.k.std.4096']\n",
      "AIC: 23476.153, formula: df['ret.4096'] ~ df['range.pos.range.4096']\n",
      "AIC: 23476.162, formula: df['ret.4096'] ~ df['ma.dif.10.range.4096']\n",
      "AIC: 23468.979, formula: df['ret.4096'] ~ df['kdj.k.trend.index.4096']\n",
      "AIC: 23467.946, formula: df['ret.4096'] ~ df['dbook.std.4096']\n",
      "AIC: 23476.281, formula: df['ret.4096'] ~ df['range.pos.std.4096']\n",
      "AIC: 23475.706, formula: df['ret.4096'] ~ df['price.osci.4096']\n",
      "AIC: 23474.442, formula: df['ret.4096'] ~ df['price.osci.trend.index.4096']\n",
      "AIC: 23454.358, formula: df['ret.4096'] ~ df['nr.range.4096']\n",
      "AIC: 23464.189, formula: df['ret.4096'] ~ df['kdj.j.range.4096']\n",
      "AIC: 23459.836, formula: df['ret.4096'] ~ df['kdj.j.std.4096']\n",
      "AIC: 23469.621, formula: df['ret.4096'] ~ df['kdj.j.4096']\n",
      "AIC: 23476.044, formula: df['ret.4096'] ~ df['price.osci.range.4096']\n",
      "AIC: 23425.506, formula: df['ret.4096'] ~ df['nr.range.4096'] + df['kdj.k.range.4096']\n",
      "AIC: 23455.823, formula: df['ret.4096'] ~ df['nr.range.4096'] + df['dbook.4096']\n",
      "AIC: 23442.372, formula: df['ret.4096'] ~ df['nr.range.4096'] + df['kdj.k.4096']\n",
      "AIC: 23454.315, formula: df['ret.4096'] ~ df['nr.range.4096'] + df['nr.trend.index.4096']\n",
      "AIC: 23456.358, formula: df['ret.4096'] ~ df['nr.range.4096'] + df['nr.4096']\n",
      "AIC: 23417.944, formula: df['ret.4096'] ~ df['nr.range.4096'] + df['ma.dif.10.4096']\n",
      "AIC: 23456.044, formula: df['ret.4096'] ~ df['nr.range.4096'] + df['nr.std.4096']\n",
      "AIC: 23441.089, formula: df['ret.4096'] ~ df['nr.range.4096'] + df['price.osci.std.4096']\n",
      "AIC: 23456.281, formula: df['ret.4096'] ~ df['nr.range.4096'] + df['dbook.trend.index.4096']\n",
      "AIC: 23441.245, formula: df['ret.4096'] ~ df['nr.range.4096'] + df['range.pos.trend.index.4096']\n",
      "AIC: 23448.765, formula: df['ret.4096'] ~ df['nr.range.4096'] + df['ma.dif.10.std.4096']\n",
      "AIC: 23456.103, formula: df['ret.4096'] ~ df['nr.range.4096'] + df['dbook.range.4096']\n",
      "AIC: 23426.37, formula: df['ret.4096'] ~ df['nr.range.4096'] + df['kdj.j.trend.index.4096']\n",
      "AIC: 23452.34, formula: df['ret.4096'] ~ df['nr.range.4096'] + df['range.pos.4096']\n",
      "AIC: 23438.943, formula: df['ret.4096'] ~ df['nr.range.4096'] + df['ma.dif.10.trend.index.4096']\n",
      "AIC: 23426.651, formula: df['ret.4096'] ~ df['nr.range.4096'] + df['kdj.k.std.4096']\n",
      "AIC: 23444.131, formula: df['ret.4096'] ~ df['nr.range.4096'] + df['range.pos.range.4096']\n",
      "AIC: 23455.188, formula: df['ret.4096'] ~ df['nr.range.4096'] + df['ma.dif.10.range.4096']\n",
      "AIC: 23431.414, formula: df['ret.4096'] ~ df['nr.range.4096'] + df['kdj.k.trend.index.4096']\n",
      "AIC: 23453.258, formula: df['ret.4096'] ~ df['nr.range.4096'] + df['dbook.std.4096']\n",
      "AIC: 23449.306, formula: df['ret.4096'] ~ df['nr.range.4096'] + df['range.pos.std.4096']\n",
      "AIC: 23452.875, formula: df['ret.4096'] ~ df['nr.range.4096'] + df['price.osci.4096']\n",
      "AIC: 23448.766, formula: df['ret.4096'] ~ df['nr.range.4096'] + df['price.osci.trend.index.4096']\n",
      "AIC: 23411.277, formula: df['ret.4096'] ~ df['nr.range.4096'] + df['kdj.j.range.4096']\n",
      "AIC: 23415.06, formula: df['ret.4096'] ~ df['nr.range.4096'] + df['kdj.j.std.4096']\n",
      "AIC: 23436.945, formula: df['ret.4096'] ~ df['nr.range.4096'] + df['kdj.j.4096']\n",
      "AIC: 23438.468, formula: df['ret.4096'] ~ df['nr.range.4096'] + df['price.osci.range.4096']\n",
      "AIC: 23412.353, formula: df['ret.4096'] ~ df['nr.range.4096'] + df['kdj.j.range.4096'] + df['kdj.k.range.4096']\n",
      "AIC: 23412.492, formula: df['ret.4096'] ~ df['nr.range.4096'] + df['kdj.j.range.4096'] + df['dbook.4096']\n",
      "AIC: 23410.057, formula: df['ret.4096'] ~ df['nr.range.4096'] + df['kdj.j.range.4096'] + df['kdj.k.4096']\n",
      "AIC: 23410.944, formula: df['ret.4096'] ~ df['nr.range.4096'] + df['kdj.j.range.4096'] + df['nr.trend.index.4096']\n",
      "AIC: 23413.252, formula: df['ret.4096'] ~ df['nr.range.4096'] + df['kdj.j.range.4096'] + df['nr.4096']\n",
      "AIC: 23407.588, formula: df['ret.4096'] ~ df['nr.range.4096'] + df['kdj.j.range.4096'] + df['ma.dif.10.4096']\n",
      "AIC: 23412.732, formula: df['ret.4096'] ~ df['nr.range.4096'] + df['kdj.j.range.4096'] + df['nr.std.4096']\n",
      "AIC: 23410.705, formula: df['ret.4096'] ~ df['nr.range.4096'] + df['kdj.j.range.4096'] + df['price.osci.std.4096']\n",
      "AIC: 23413.263, formula: df['ret.4096'] ~ df['nr.range.4096'] + df['kdj.j.range.4096'] + df['dbook.trend.index.4096']\n",
      "AIC: 23409.849, formula: df['ret.4096'] ~ df['nr.range.4096'] + df['kdj.j.range.4096'] + df['range.pos.trend.index.4096']\n",
      "AIC: 23410.264, formula: df['ret.4096'] ~ df['nr.range.4096'] + df['kdj.j.range.4096'] + df['ma.dif.10.std.4096']\n",
      "AIC: 23413.215, formula: df['ret.4096'] ~ df['nr.range.4096'] + df['kdj.j.range.4096'] + df['dbook.range.4096']\n",
      "AIC: 23402.577, formula: df['ret.4096'] ~ df['nr.range.4096'] + df['kdj.j.range.4096'] + df['kdj.j.trend.index.4096']\n",
      "AIC: 23413.264, formula: df['ret.4096'] ~ df['nr.range.4096'] + df['kdj.j.range.4096'] + df['range.pos.4096']\n",
      "AIC: 23412.305, formula: df['ret.4096'] ~ df['nr.range.4096'] + df['kdj.j.range.4096'] + df['ma.dif.10.trend.index.4096']\n",
      "AIC: 23413.275, formula: df['ret.4096'] ~ df['nr.range.4096'] + df['kdj.j.range.4096'] + df['kdj.k.std.4096']\n",
      "AIC: 23380.289, formula: df['ret.4096'] ~ df['nr.range.4096'] + df['kdj.j.range.4096'] + df['range.pos.range.4096']\n",
      "AIC: 23385.918, formula: df['ret.4096'] ~ df['nr.range.4096'] + df['kdj.j.range.4096'] + df['ma.dif.10.range.4096']\n",
      "AIC: 23403.336, formula: df['ret.4096'] ~ df['nr.range.4096'] + df['kdj.j.range.4096'] + df['kdj.k.trend.index.4096']\n",
      "AIC: 23409.8, formula: df['ret.4096'] ~ df['nr.range.4096'] + df['kdj.j.range.4096'] + df['dbook.std.4096']\n",
      "AIC: 23386.52, formula: df['ret.4096'] ~ df['nr.range.4096'] + df['kdj.j.range.4096'] + df['range.pos.std.4096']\n",
      "AIC: 23411.694, formula: df['ret.4096'] ~ df['nr.range.4096'] + df['kdj.j.range.4096'] + df['price.osci.4096']\n",
      "AIC: 23409.501, formula: df['ret.4096'] ~ df['nr.range.4096'] + df['kdj.j.range.4096'] + df['price.osci.trend.index.4096']\n",
      "AIC: 23412.327, formula: df['ret.4096'] ~ df['nr.range.4096'] + df['kdj.j.range.4096'] + df['kdj.j.std.4096']\n",
      "AIC: 23409.119, formula: df['ret.4096'] ~ df['nr.range.4096'] + df['kdj.j.range.4096'] + df['kdj.j.4096']\n",
      "AIC: 23412.575, formula: df['ret.4096'] ~ df['nr.range.4096'] + df['kdj.j.range.4096'] + df['price.osci.range.4096']\n",
      "AIC: 23374.101, formula: df['ret.4096'] ~ df['nr.range.4096'] + df['kdj.j.range.4096'] + df['range.pos.range.4096'] + df['kdj.k.range.4096']\n",
      "AIC: 23381.935, formula: df['ret.4096'] ~ df['nr.range.4096'] + df['kdj.j.range.4096'] + df['range.pos.range.4096'] + df['dbook.4096']\n",
      "AIC: 23381.043, formula: df['ret.4096'] ~ df['nr.range.4096'] + df['kdj.j.range.4096'] + df['range.pos.range.4096'] + df['kdj.k.4096']\n",
      "AIC: 23380.452, formula: df['ret.4096'] ~ df['nr.range.4096'] + df['kdj.j.range.4096'] + df['range.pos.range.4096'] + df['nr.trend.index.4096']\n",
      "AIC: 23382.266, formula: df['ret.4096'] ~ df['nr.range.4096'] + df['kdj.j.range.4096'] + df['range.pos.range.4096'] + df['nr.4096']\n",
      "AIC: 23372.577, formula: df['ret.4096'] ~ df['nr.range.4096'] + df['kdj.j.range.4096'] + df['range.pos.range.4096'] + df['ma.dif.10.4096']\n",
      "AIC: 23382.096, formula: df['ret.4096'] ~ df['nr.range.4096'] + df['kdj.j.range.4096'] + df['range.pos.range.4096'] + df['nr.std.4096']\n",
      "AIC: 23381.067, formula: df['ret.4096'] ~ df['nr.range.4096'] + df['kdj.j.range.4096'] + df['range.pos.range.4096'] + df['price.osci.std.4096']\n",
      "AIC: 23382.173, formula: df['ret.4096'] ~ df['nr.range.4096'] + df['kdj.j.range.4096'] + df['range.pos.range.4096'] + df['dbook.trend.index.4096']\n",
      "AIC: 23374.896, formula: df['ret.4096'] ~ df['nr.range.4096'] + df['kdj.j.range.4096'] + df['range.pos.range.4096'] + df['range.pos.trend.index.4096']\n",
      "AIC: 23378.659, formula: df['ret.4096'] ~ df['nr.range.4096'] + df['kdj.j.range.4096'] + df['range.pos.range.4096'] + df['ma.dif.10.std.4096']\n",
      "AIC: 23381.046, formula: df['ret.4096'] ~ df['nr.range.4096'] + df['kdj.j.range.4096'] + df['range.pos.range.4096'] + df['dbook.range.4096']\n",
      "AIC: 23373.811, formula: df['ret.4096'] ~ df['nr.range.4096'] + df['kdj.j.range.4096'] + df['range.pos.range.4096'] + df['kdj.j.trend.index.4096']\n",
      "AIC: 23381.418, formula: df['ret.4096'] ~ df['nr.range.4096'] + df['kdj.j.range.4096'] + df['range.pos.range.4096'] + df['range.pos.4096']\n",
      "AIC: 23381.795, formula: df['ret.4096'] ~ df['nr.range.4096'] + df['kdj.j.range.4096'] + df['range.pos.range.4096'] + df['ma.dif.10.trend.index.4096']\n",
      "AIC: 23381.009, formula: df['ret.4096'] ~ df['nr.range.4096'] + df['kdj.j.range.4096'] + df['range.pos.range.4096'] + df['kdj.k.std.4096']\n",
      "AIC: 23353.806, formula: df['ret.4096'] ~ df['nr.range.4096'] + df['kdj.j.range.4096'] + df['range.pos.range.4096'] + df['ma.dif.10.range.4096']\n",
      "AIC: 23375.928, formula: df['ret.4096'] ~ df['nr.range.4096'] + df['kdj.j.range.4096'] + df['range.pos.range.4096'] + df['kdj.k.trend.index.4096']\n",
      "AIC: 23380.949, formula: df['ret.4096'] ~ df['nr.range.4096'] + df['kdj.j.range.4096'] + df['range.pos.range.4096'] + df['dbook.std.4096']\n",
      "AIC: 23378.575, formula: df['ret.4096'] ~ df['nr.range.4096'] + df['kdj.j.range.4096'] + df['range.pos.range.4096'] + df['range.pos.std.4096']\n",
      "AIC: 23379.975, formula: df['ret.4096'] ~ df['nr.range.4096'] + df['kdj.j.range.4096'] + df['range.pos.range.4096'] + df['price.osci.4096']\n",
      "AIC: 23378.014, formula: df['ret.4096'] ~ df['nr.range.4096'] + df['kdj.j.range.4096'] + df['range.pos.range.4096'] + df['price.osci.trend.index.4096']\n",
      "AIC: 23381.679, formula: df['ret.4096'] ~ df['nr.range.4096'] + df['kdj.j.range.4096'] + df['range.pos.range.4096'] + df['kdj.j.std.4096']\n",
      "AIC: 23379.405, formula: df['ret.4096'] ~ df['nr.range.4096'] + df['kdj.j.range.4096'] + df['range.pos.range.4096'] + df['kdj.j.4096']\n",
      "AIC: 23382.289, formula: df['ret.4096'] ~ df['nr.range.4096'] + df['kdj.j.range.4096'] + df['range.pos.range.4096'] + df['price.osci.range.4096']\n",
      "AIC: 23353.753, formula: df['ret.4096'] ~ df['nr.range.4096'] + df['kdj.j.range.4096'] + df['range.pos.range.4096'] + df['ma.dif.10.range.4096'] + df['kdj.k.range.4096']\n",
      "AIC: 23354.96, formula: df['ret.4096'] ~ df['nr.range.4096'] + df['kdj.j.range.4096'] + df['range.pos.range.4096'] + df['ma.dif.10.range.4096'] + df['dbook.4096']\n",
      "AIC: 23355.735, formula: df['ret.4096'] ~ df['nr.range.4096'] + df['kdj.j.range.4096'] + df['range.pos.range.4096'] + df['ma.dif.10.range.4096'] + df['kdj.k.4096']\n",
      "AIC: 23355.245, formula: df['ret.4096'] ~ df['nr.range.4096'] + df['kdj.j.range.4096'] + df['range.pos.range.4096'] + df['ma.dif.10.range.4096'] + df['nr.trend.index.4096']\n",
      "AIC: 23355.649, formula: df['ret.4096'] ~ df['nr.range.4096'] + df['kdj.j.range.4096'] + df['range.pos.range.4096'] + df['ma.dif.10.range.4096'] + df['nr.4096']\n",
      "AIC: 23322.424, formula: df['ret.4096'] ~ df['nr.range.4096'] + df['kdj.j.range.4096'] + df['range.pos.range.4096'] + df['ma.dif.10.range.4096'] + df['ma.dif.10.4096']\n",
      "AIC: 23355.797, formula: df['ret.4096'] ~ df['nr.range.4096'] + df['kdj.j.range.4096'] + df['range.pos.range.4096'] + df['ma.dif.10.range.4096'] + df['nr.std.4096']\n",
      "AIC: 23346.909, formula: df['ret.4096'] ~ df['nr.range.4096'] + df['kdj.j.range.4096'] + df['range.pos.range.4096'] + df['ma.dif.10.range.4096'] + df['price.osci.std.4096']\n",
      "AIC: 23355.802, formula: df['ret.4096'] ~ df['nr.range.4096'] + df['kdj.j.range.4096'] + df['range.pos.range.4096'] + df['ma.dif.10.range.4096'] + df['dbook.trend.index.4096']\n",
      "AIC: 23353.729, formula: df['ret.4096'] ~ df['nr.range.4096'] + df['kdj.j.range.4096'] + df['range.pos.range.4096'] + df['ma.dif.10.range.4096'] + df['range.pos.trend.index.4096']\n",
      "AIC: 23342.187, formula: df['ret.4096'] ~ df['nr.range.4096'] + df['kdj.j.range.4096'] + df['range.pos.range.4096'] + df['ma.dif.10.range.4096'] + df['ma.dif.10.std.4096']\n",
      "AIC: 23355.616, formula: df['ret.4096'] ~ df['nr.range.4096'] + df['kdj.j.range.4096'] + df['range.pos.range.4096'] + df['ma.dif.10.range.4096'] + df['dbook.range.4096']\n",
      "AIC: 23353.756, formula: df['ret.4096'] ~ df['nr.range.4096'] + df['kdj.j.range.4096'] + df['range.pos.range.4096'] + df['ma.dif.10.range.4096'] + df['kdj.j.trend.index.4096']\n",
      "AIC: 23355.556, formula: df['ret.4096'] ~ df['nr.range.4096'] + df['kdj.j.range.4096'] + df['range.pos.range.4096'] + df['ma.dif.10.range.4096'] + df['range.pos.4096']\n",
      "AIC: 23348.856, formula: df['ret.4096'] ~ df['nr.range.4096'] + df['kdj.j.range.4096'] + df['range.pos.range.4096'] + df['ma.dif.10.range.4096'] + df['ma.dif.10.trend.index.4096']\n",
      "AIC: 23354.663, formula: df['ret.4096'] ~ df['nr.range.4096'] + df['kdj.j.range.4096'] + df['range.pos.range.4096'] + df['ma.dif.10.range.4096'] + df['kdj.k.std.4096']\n",
      "AIC: 23353.999, formula: df['ret.4096'] ~ df['nr.range.4096'] + df['kdj.j.range.4096'] + df['range.pos.range.4096'] + df['ma.dif.10.range.4096'] + df['kdj.k.trend.index.4096']\n",
      "AIC: 23352.266, formula: df['ret.4096'] ~ df['nr.range.4096'] + df['kdj.j.range.4096'] + df['range.pos.range.4096'] + df['ma.dif.10.range.4096'] + df['dbook.std.4096']\n",
      "AIC: 23355.579, formula: df['ret.4096'] ~ df['nr.range.4096'] + df['kdj.j.range.4096'] + df['range.pos.range.4096'] + df['ma.dif.10.range.4096'] + df['range.pos.std.4096']\n",
      "AIC: 23354.374, formula: df['ret.4096'] ~ df['nr.range.4096'] + df['kdj.j.range.4096'] + df['range.pos.range.4096'] + df['ma.dif.10.range.4096'] + df['price.osci.4096']\n",
      "AIC: 23353.017, formula: df['ret.4096'] ~ df['nr.range.4096'] + df['kdj.j.range.4096'] + df['range.pos.range.4096'] + df['ma.dif.10.range.4096'] + df['price.osci.trend.index.4096']\n",
      "AIC: 23349.699, formula: df['ret.4096'] ~ df['nr.range.4096'] + df['kdj.j.range.4096'] + df['range.pos.range.4096'] + df['ma.dif.10.range.4096'] + df['kdj.j.std.4096']\n",
      "AIC: 23355.805, formula: df['ret.4096'] ~ df['nr.range.4096'] + df['kdj.j.range.4096'] + df['range.pos.range.4096'] + df['ma.dif.10.range.4096'] + df['kdj.j.4096']\n",
      "AIC: 23345.707, formula: df['ret.4096'] ~ df['nr.range.4096'] + df['kdj.j.range.4096'] + df['range.pos.range.4096'] + df['ma.dif.10.range.4096'] + df['price.osci.range.4096']\n",
      "AIC: 23320.802, formula: df['ret.4096'] ~ df['nr.range.4096'] + df['kdj.j.range.4096'] + df['range.pos.range.4096'] + df['ma.dif.10.range.4096'] + df['ma.dif.10.4096'] + df['kdj.k.range.4096']\n",
      "AIC: 23323.601, formula: df['ret.4096'] ~ df['nr.range.4096'] + df['kdj.j.range.4096'] + df['range.pos.range.4096'] + df['ma.dif.10.range.4096'] + df['ma.dif.10.4096'] + df['dbook.4096']\n",
      "AIC: 23322.737, formula: df['ret.4096'] ~ df['nr.range.4096'] + df['kdj.j.range.4096'] + df['range.pos.range.4096'] + df['ma.dif.10.range.4096'] + df['ma.dif.10.4096'] + df['kdj.k.4096']\n",
      "AIC: 23324.412, formula: df['ret.4096'] ~ df['nr.range.4096'] + df['kdj.j.range.4096'] + df['range.pos.range.4096'] + df['ma.dif.10.range.4096'] + df['ma.dif.10.4096'] + df['nr.trend.index.4096']\n",
      "AIC: 23322.444, formula: df['ret.4096'] ~ df['nr.range.4096'] + df['kdj.j.range.4096'] + df['range.pos.range.4096'] + df['ma.dif.10.range.4096'] + df['ma.dif.10.4096'] + df['nr.4096']\n",
      "AIC: 23324.401, formula: df['ret.4096'] ~ df['nr.range.4096'] + df['kdj.j.range.4096'] + df['range.pos.range.4096'] + df['ma.dif.10.range.4096'] + df['ma.dif.10.4096'] + df['nr.std.4096']\n",
      "AIC: 23324.134, formula: df['ret.4096'] ~ df['nr.range.4096'] + df['kdj.j.range.4096'] + df['range.pos.range.4096'] + df['ma.dif.10.range.4096'] + df['ma.dif.10.4096'] + df['price.osci.std.4096']\n",
      "AIC: 23324.418, formula: df['ret.4096'] ~ df['nr.range.4096'] + df['kdj.j.range.4096'] + df['range.pos.range.4096'] + df['ma.dif.10.range.4096'] + df['ma.dif.10.4096'] + df['dbook.trend.index.4096']\n",
      "AIC: 23324.369, formula: df['ret.4096'] ~ df['nr.range.4096'] + df['kdj.j.range.4096'] + df['range.pos.range.4096'] + df['ma.dif.10.range.4096'] + df['ma.dif.10.4096'] + df['range.pos.trend.index.4096']\n",
      "AIC: 23318.199, formula: df['ret.4096'] ~ df['nr.range.4096'] + df['kdj.j.range.4096'] + df['range.pos.range.4096'] + df['ma.dif.10.range.4096'] + df['ma.dif.10.4096'] + df['ma.dif.10.std.4096']\n",
      "AIC: 23323.116, formula: df['ret.4096'] ~ df['nr.range.4096'] + df['kdj.j.range.4096'] + df['range.pos.range.4096'] + df['ma.dif.10.range.4096'] + df['ma.dif.10.4096'] + df['dbook.range.4096']\n",
      "AIC: 23324.302, formula: df['ret.4096'] ~ df['nr.range.4096'] + df['kdj.j.range.4096'] + df['range.pos.range.4096'] + df['ma.dif.10.range.4096'] + df['ma.dif.10.4096'] + df['kdj.j.trend.index.4096']\n",
      "AIC: 23320.967, formula: df['ret.4096'] ~ df['nr.range.4096'] + df['kdj.j.range.4096'] + df['range.pos.range.4096'] + df['ma.dif.10.range.4096'] + df['ma.dif.10.4096'] + df['range.pos.4096']\n",
      "AIC: 23317.077, formula: df['ret.4096'] ~ df['nr.range.4096'] + df['kdj.j.range.4096'] + df['range.pos.range.4096'] + df['ma.dif.10.range.4096'] + df['ma.dif.10.4096'] + df['ma.dif.10.trend.index.4096']\n",
      "AIC: 23324.423, formula: df['ret.4096'] ~ df['nr.range.4096'] + df['kdj.j.range.4096'] + df['range.pos.range.4096'] + df['ma.dif.10.range.4096'] + df['ma.dif.10.4096'] + df['kdj.k.std.4096']\n",
      "AIC: 23324.34, formula: df['ret.4096'] ~ df['nr.range.4096'] + df['kdj.j.range.4096'] + df['range.pos.range.4096'] + df['ma.dif.10.range.4096'] + df['ma.dif.10.4096'] + df['kdj.k.trend.index.4096']\n",
      "AIC: 23324.193, formula: df['ret.4096'] ~ df['nr.range.4096'] + df['kdj.j.range.4096'] + df['range.pos.range.4096'] + df['ma.dif.10.range.4096'] + df['ma.dif.10.4096'] + df['dbook.std.4096']\n",
      "AIC: 23323.438, formula: df['ret.4096'] ~ df['nr.range.4096'] + df['kdj.j.range.4096'] + df['range.pos.range.4096'] + df['ma.dif.10.range.4096'] + df['ma.dif.10.4096'] + df['range.pos.std.4096']\n",
      "AIC: 23323.398, formula: df['ret.4096'] ~ df['nr.range.4096'] + df['kdj.j.range.4096'] + df['range.pos.range.4096'] + df['ma.dif.10.range.4096'] + df['ma.dif.10.4096'] + df['price.osci.4096']\n",
      "AIC: 23324.334, formula: df['ret.4096'] ~ df['nr.range.4096'] + df['kdj.j.range.4096'] + df['range.pos.range.4096'] + df['ma.dif.10.range.4096'] + df['ma.dif.10.4096'] + df['price.osci.trend.index.4096']\n",
      "AIC: 23322.095, formula: df['ret.4096'] ~ df['nr.range.4096'] + df['kdj.j.range.4096'] + df['range.pos.range.4096'] + df['ma.dif.10.range.4096'] + df['ma.dif.10.4096'] + df['kdj.j.std.4096']\n",
      "AIC: 23323.046, formula: df['ret.4096'] ~ df['nr.range.4096'] + df['kdj.j.range.4096'] + df['range.pos.range.4096'] + df['ma.dif.10.range.4096'] + df['ma.dif.10.4096'] + df['kdj.j.4096']\n",
      "AIC: 23322.868, formula: df['ret.4096'] ~ df['nr.range.4096'] + df['kdj.j.range.4096'] + df['range.pos.range.4096'] + df['ma.dif.10.range.4096'] + df['ma.dif.10.4096'] + df['price.osci.range.4096']\n",
      "AIC: 23317.814, formula: df['ret.4096'] ~ df['nr.range.4096'] + df['kdj.j.range.4096'] + df['range.pos.range.4096'] + df['ma.dif.10.range.4096'] + df['ma.dif.10.4096'] + df['ma.dif.10.trend.index.4096'] + df['kdj.k.range.4096']\n",
      "AIC: 23318.351, formula: df['ret.4096'] ~ df['nr.range.4096'] + df['kdj.j.range.4096'] + df['range.pos.range.4096'] + df['ma.dif.10.range.4096'] + df['ma.dif.10.4096'] + df['ma.dif.10.trend.index.4096'] + df['dbook.4096']\n",
      "AIC: 23318.005, formula: df['ret.4096'] ~ df['nr.range.4096'] + df['kdj.j.range.4096'] + df['range.pos.range.4096'] + df['ma.dif.10.range.4096'] + df['ma.dif.10.4096'] + df['ma.dif.10.trend.index.4096'] + df['kdj.k.4096']\n",
      "AIC: 23318.822, formula: df['ret.4096'] ~ df['nr.range.4096'] + df['kdj.j.range.4096'] + df['range.pos.range.4096'] + df['ma.dif.10.range.4096'] + df['ma.dif.10.4096'] + df['ma.dif.10.trend.index.4096'] + df['nr.trend.index.4096']\n",
      "AIC: 23317.379, formula: df['ret.4096'] ~ df['nr.range.4096'] + df['kdj.j.range.4096'] + df['range.pos.range.4096'] + df['ma.dif.10.range.4096'] + df['ma.dif.10.4096'] + df['ma.dif.10.trend.index.4096'] + df['nr.4096']\n",
      "AIC: 23318.993, formula: df['ret.4096'] ~ df['nr.range.4096'] + df['kdj.j.range.4096'] + df['range.pos.range.4096'] + df['ma.dif.10.range.4096'] + df['ma.dif.10.4096'] + df['ma.dif.10.trend.index.4096'] + df['nr.std.4096']\n",
      "AIC: 23319.076, formula: df['ret.4096'] ~ df['nr.range.4096'] + df['kdj.j.range.4096'] + df['range.pos.range.4096'] + df['ma.dif.10.range.4096'] + df['ma.dif.10.4096'] + df['ma.dif.10.trend.index.4096'] + df['price.osci.std.4096']\n",
      "AIC: 23319.076, formula: df['ret.4096'] ~ df['nr.range.4096'] + df['kdj.j.range.4096'] + df['range.pos.range.4096'] + df['ma.dif.10.range.4096'] + df['ma.dif.10.4096'] + df['ma.dif.10.trend.index.4096'] + df['dbook.trend.index.4096']\n",
      "AIC: 23318.437, formula: df['ret.4096'] ~ df['nr.range.4096'] + df['kdj.j.range.4096'] + df['range.pos.range.4096'] + df['ma.dif.10.range.4096'] + df['ma.dif.10.4096'] + df['ma.dif.10.trend.index.4096'] + df['range.pos.trend.index.4096']\n",
      "AIC: 23315.51, formula: df['ret.4096'] ~ df['nr.range.4096'] + df['kdj.j.range.4096'] + df['range.pos.range.4096'] + df['ma.dif.10.range.4096'] + df['ma.dif.10.4096'] + df['ma.dif.10.trend.index.4096'] + df['ma.dif.10.std.4096']\n",
      "AIC: 23318.013, formula: df['ret.4096'] ~ df['nr.range.4096'] + df['kdj.j.range.4096'] + df['range.pos.range.4096'] + df['ma.dif.10.range.4096'] + df['ma.dif.10.4096'] + df['ma.dif.10.trend.index.4096'] + df['dbook.range.4096']\n",
      "AIC: 23318.357, formula: df['ret.4096'] ~ df['nr.range.4096'] + df['kdj.j.range.4096'] + df['range.pos.range.4096'] + df['ma.dif.10.range.4096'] + df['ma.dif.10.4096'] + df['ma.dif.10.trend.index.4096'] + df['kdj.j.trend.index.4096']\n",
      "AIC: 23315.64, formula: df['ret.4096'] ~ df['nr.range.4096'] + df['kdj.j.range.4096'] + df['range.pos.range.4096'] + df['ma.dif.10.range.4096'] + df['ma.dif.10.4096'] + df['ma.dif.10.trend.index.4096'] + df['range.pos.4096']\n",
      "AIC: 23318.992, formula: df['ret.4096'] ~ df['nr.range.4096'] + df['kdj.j.range.4096'] + df['range.pos.range.4096'] + df['ma.dif.10.range.4096'] + df['ma.dif.10.4096'] + df['ma.dif.10.trend.index.4096'] + df['kdj.k.std.4096']\n",
      "AIC: 23318.296, formula: df['ret.4096'] ~ df['nr.range.4096'] + df['kdj.j.range.4096'] + df['range.pos.range.4096'] + df['ma.dif.10.range.4096'] + df['ma.dif.10.4096'] + df['ma.dif.10.trend.index.4096'] + df['kdj.k.trend.index.4096']\n",
      "AIC: 23318.992, formula: df['ret.4096'] ~ df['nr.range.4096'] + df['kdj.j.range.4096'] + df['range.pos.range.4096'] + df['ma.dif.10.range.4096'] + df['ma.dif.10.4096'] + df['ma.dif.10.trend.index.4096'] + df['dbook.std.4096']\n",
      "AIC: 23318.056, formula: df['ret.4096'] ~ df['nr.range.4096'] + df['kdj.j.range.4096'] + df['range.pos.range.4096'] + df['ma.dif.10.range.4096'] + df['ma.dif.10.4096'] + df['ma.dif.10.trend.index.4096'] + df['range.pos.std.4096']\n",
      "AIC: 23317.865, formula: df['ret.4096'] ~ df['nr.range.4096'] + df['kdj.j.range.4096'] + df['range.pos.range.4096'] + df['ma.dif.10.range.4096'] + df['ma.dif.10.4096'] + df['ma.dif.10.trend.index.4096'] + df['price.osci.4096']\n",
      "AIC: 23319.057, formula: df['ret.4096'] ~ df['nr.range.4096'] + df['kdj.j.range.4096'] + df['range.pos.range.4096'] + df['ma.dif.10.range.4096'] + df['ma.dif.10.4096'] + df['ma.dif.10.trend.index.4096'] + df['price.osci.trend.index.4096']\n",
      "AIC: 23317.439, formula: df['ret.4096'] ~ df['nr.range.4096'] + df['kdj.j.range.4096'] + df['range.pos.range.4096'] + df['ma.dif.10.range.4096'] + df['ma.dif.10.4096'] + df['ma.dif.10.trend.index.4096'] + df['kdj.j.std.4096']\n",
      "AIC: 23317.751, formula: df['ret.4096'] ~ df['nr.range.4096'] + df['kdj.j.range.4096'] + df['range.pos.range.4096'] + df['ma.dif.10.range.4096'] + df['ma.dif.10.4096'] + df['ma.dif.10.trend.index.4096'] + df['kdj.j.4096']\n",
      "AIC: 23317.378, formula: df['ret.4096'] ~ df['nr.range.4096'] + df['kdj.j.range.4096'] + df['range.pos.range.4096'] + df['ma.dif.10.range.4096'] + df['ma.dif.10.4096'] + df['ma.dif.10.trend.index.4096'] + df['price.osci.range.4096']\n",
      "AIC: 23315.533, formula: df['ret.4096'] ~ df['nr.range.4096'] + df['kdj.j.range.4096'] + df['range.pos.range.4096'] + df['ma.dif.10.range.4096'] + df['ma.dif.10.4096'] + df['ma.dif.10.trend.index.4096'] + df['ma.dif.10.std.4096'] + df['kdj.k.range.4096']\n",
      "AIC: 23316.806, formula: df['ret.4096'] ~ df['nr.range.4096'] + df['kdj.j.range.4096'] + df['range.pos.range.4096'] + df['ma.dif.10.range.4096'] + df['ma.dif.10.4096'] + df['ma.dif.10.trend.index.4096'] + df['ma.dif.10.std.4096'] + df['dbook.4096']\n",
      "AIC: 23316.268, formula: df['ret.4096'] ~ df['nr.range.4096'] + df['kdj.j.range.4096'] + df['range.pos.range.4096'] + df['ma.dif.10.range.4096'] + df['ma.dif.10.4096'] + df['ma.dif.10.trend.index.4096'] + df['ma.dif.10.std.4096'] + df['kdj.k.4096']\n",
      "AIC: 23317.375, formula: df['ret.4096'] ~ df['nr.range.4096'] + df['kdj.j.range.4096'] + df['range.pos.range.4096'] + df['ma.dif.10.range.4096'] + df['ma.dif.10.4096'] + df['ma.dif.10.trend.index.4096'] + df['ma.dif.10.std.4096'] + df['nr.trend.index.4096']\n",
      "AIC: 23315.61, formula: df['ret.4096'] ~ df['nr.range.4096'] + df['kdj.j.range.4096'] + df['range.pos.range.4096'] + df['ma.dif.10.range.4096'] + df['ma.dif.10.4096'] + df['ma.dif.10.trend.index.4096'] + df['ma.dif.10.std.4096'] + df['nr.4096']\n",
      "AIC: 23316.31, formula: df['ret.4096'] ~ df['nr.range.4096'] + df['kdj.j.range.4096'] + df['range.pos.range.4096'] + df['ma.dif.10.range.4096'] + df['ma.dif.10.4096'] + df['ma.dif.10.trend.index.4096'] + df['ma.dif.10.std.4096'] + df['nr.std.4096']\n",
      "AIC: 23317.507, formula: df['ret.4096'] ~ df['nr.range.4096'] + df['kdj.j.range.4096'] + df['range.pos.range.4096'] + df['ma.dif.10.range.4096'] + df['ma.dif.10.4096'] + df['ma.dif.10.trend.index.4096'] + df['ma.dif.10.std.4096'] + df['price.osci.std.4096']\n",
      "AIC: 23317.51, formula: df['ret.4096'] ~ df['nr.range.4096'] + df['kdj.j.range.4096'] + df['range.pos.range.4096'] + df['ma.dif.10.range.4096'] + df['ma.dif.10.4096'] + df['ma.dif.10.trend.index.4096'] + df['ma.dif.10.std.4096'] + df['dbook.trend.index.4096']\n",
      "AIC: 23316.998, formula: df['ret.4096'] ~ df['nr.range.4096'] + df['kdj.j.range.4096'] + df['range.pos.range.4096'] + df['ma.dif.10.range.4096'] + df['ma.dif.10.4096'] + df['ma.dif.10.trend.index.4096'] + df['ma.dif.10.std.4096'] + df['range.pos.trend.index.4096']\n",
      "AIC: 23316.566, formula: df['ret.4096'] ~ df['nr.range.4096'] + df['kdj.j.range.4096'] + df['range.pos.range.4096'] + df['ma.dif.10.range.4096'] + df['ma.dif.10.4096'] + df['ma.dif.10.trend.index.4096'] + df['ma.dif.10.std.4096'] + df['dbook.range.4096']\n",
      "AIC: 23316.91, formula: df['ret.4096'] ~ df['nr.range.4096'] + df['kdj.j.range.4096'] + df['range.pos.range.4096'] + df['ma.dif.10.range.4096'] + df['ma.dif.10.4096'] + df['ma.dif.10.trend.index.4096'] + df['ma.dif.10.std.4096'] + df['kdj.j.trend.index.4096']\n",
      "AIC: 23314.119, formula: df['ret.4096'] ~ df['nr.range.4096'] + df['kdj.j.range.4096'] + df['range.pos.range.4096'] + df['ma.dif.10.range.4096'] + df['ma.dif.10.4096'] + df['ma.dif.10.trend.index.4096'] + df['ma.dif.10.std.4096'] + df['range.pos.4096']\n",
      "AIC: 23316.48, formula: df['ret.4096'] ~ df['nr.range.4096'] + df['kdj.j.range.4096'] + df['range.pos.range.4096'] + df['ma.dif.10.range.4096'] + df['ma.dif.10.4096'] + df['ma.dif.10.trend.index.4096'] + df['ma.dif.10.std.4096'] + df['kdj.k.std.4096']\n",
      "AIC: 23316.905, formula: df['ret.4096'] ~ df['nr.range.4096'] + df['kdj.j.range.4096'] + df['range.pos.range.4096'] + df['ma.dif.10.range.4096'] + df['ma.dif.10.4096'] + df['ma.dif.10.trend.index.4096'] + df['ma.dif.10.std.4096'] + df['kdj.k.trend.index.4096']\n",
      "AIC: 23317.413, formula: df['ret.4096'] ~ df['nr.range.4096'] + df['kdj.j.range.4096'] + df['range.pos.range.4096'] + df['ma.dif.10.range.4096'] + df['ma.dif.10.4096'] + df['ma.dif.10.trend.index.4096'] + df['ma.dif.10.std.4096'] + df['dbook.std.4096']\n",
      "AIC: 23310.719, formula: df['ret.4096'] ~ df['nr.range.4096'] + df['kdj.j.range.4096'] + df['range.pos.range.4096'] + df['ma.dif.10.range.4096'] + df['ma.dif.10.4096'] + df['ma.dif.10.trend.index.4096'] + df['ma.dif.10.std.4096'] + df['range.pos.std.4096']\n",
      "AIC: 23316.635, formula: df['ret.4096'] ~ df['nr.range.4096'] + df['kdj.j.range.4096'] + df['range.pos.range.4096'] + df['ma.dif.10.range.4096'] + df['ma.dif.10.4096'] + df['ma.dif.10.trend.index.4096'] + df['ma.dif.10.std.4096'] + df['price.osci.4096']\n",
      "AIC: 23317.478, formula: df['ret.4096'] ~ df['nr.range.4096'] + df['kdj.j.range.4096'] + df['range.pos.range.4096'] + df['ma.dif.10.range.4096'] + df['ma.dif.10.4096'] + df['ma.dif.10.trend.index.4096'] + df['ma.dif.10.std.4096'] + df['price.osci.trend.index.4096']\n",
      "AIC: 23317.506, formula: df['ret.4096'] ~ df['nr.range.4096'] + df['kdj.j.range.4096'] + df['range.pos.range.4096'] + df['ma.dif.10.range.4096'] + df['ma.dif.10.4096'] + df['ma.dif.10.trend.index.4096'] + df['ma.dif.10.std.4096'] + df['kdj.j.std.4096']\n",
      "AIC: 23316.157, formula: df['ret.4096'] ~ df['nr.range.4096'] + df['kdj.j.range.4096'] + df['range.pos.range.4096'] + df['ma.dif.10.range.4096'] + df['ma.dif.10.4096'] + df['ma.dif.10.trend.index.4096'] + df['ma.dif.10.std.4096'] + df['kdj.j.4096']\n",
      "AIC: 23316.841, formula: df['ret.4096'] ~ df['nr.range.4096'] + df['kdj.j.range.4096'] + df['range.pos.range.4096'] + df['ma.dif.10.range.4096'] + df['ma.dif.10.4096'] + df['ma.dif.10.trend.index.4096'] + df['ma.dif.10.std.4096'] + df['price.osci.range.4096']\n",
      "AIC: 23311.16, formula: df['ret.4096'] ~ df['nr.range.4096'] + df['kdj.j.range.4096'] + df['range.pos.range.4096'] + df['ma.dif.10.range.4096'] + df['ma.dif.10.4096'] + df['ma.dif.10.trend.index.4096'] + df['ma.dif.10.std.4096'] + df['range.pos.std.4096'] + df['kdj.k.range.4096']\n",
      "AIC: 23312.017, formula: df['ret.4096'] ~ df['nr.range.4096'] + df['kdj.j.range.4096'] + df['range.pos.range.4096'] + df['ma.dif.10.range.4096'] + df['ma.dif.10.4096'] + df['ma.dif.10.trend.index.4096'] + df['ma.dif.10.std.4096'] + df['range.pos.std.4096'] + df['dbook.4096']\n",
      "AIC: 23312.396, formula: df['ret.4096'] ~ df['nr.range.4096'] + df['kdj.j.range.4096'] + df['range.pos.range.4096'] + df['ma.dif.10.range.4096'] + df['ma.dif.10.4096'] + df['ma.dif.10.trend.index.4096'] + df['ma.dif.10.std.4096'] + df['range.pos.std.4096'] + df['kdj.k.4096']\n",
      "AIC: 23312.59, formula: df['ret.4096'] ~ df['nr.range.4096'] + df['kdj.j.range.4096'] + df['range.pos.range.4096'] + df['ma.dif.10.range.4096'] + df['ma.dif.10.4096'] + df['ma.dif.10.trend.index.4096'] + df['ma.dif.10.std.4096'] + df['range.pos.std.4096'] + df['nr.trend.index.4096']\n",
      "AIC: 23310.844, formula: df['ret.4096'] ~ df['nr.range.4096'] + df['kdj.j.range.4096'] + df['range.pos.range.4096'] + df['ma.dif.10.range.4096'] + df['ma.dif.10.4096'] + df['ma.dif.10.trend.index.4096'] + df['ma.dif.10.std.4096'] + df['range.pos.std.4096'] + df['nr.4096']\n",
      "AIC: 23312.341, formula: df['ret.4096'] ~ df['nr.range.4096'] + df['kdj.j.range.4096'] + df['range.pos.range.4096'] + df['ma.dif.10.range.4096'] + df['ma.dif.10.4096'] + df['ma.dif.10.trend.index.4096'] + df['ma.dif.10.std.4096'] + df['range.pos.std.4096'] + df['nr.std.4096']\n",
      "AIC: 23312.471, formula: df['ret.4096'] ~ df['nr.range.4096'] + df['kdj.j.range.4096'] + df['range.pos.range.4096'] + df['ma.dif.10.range.4096'] + df['ma.dif.10.4096'] + df['ma.dif.10.trend.index.4096'] + df['ma.dif.10.std.4096'] + df['range.pos.std.4096'] + df['price.osci.std.4096']\n",
      "AIC: 23312.718, formula: df['ret.4096'] ~ df['nr.range.4096'] + df['kdj.j.range.4096'] + df['range.pos.range.4096'] + df['ma.dif.10.range.4096'] + df['ma.dif.10.4096'] + df['ma.dif.10.trend.index.4096'] + df['ma.dif.10.std.4096'] + df['range.pos.std.4096'] + df['dbook.trend.index.4096']\n",
      "AIC: 23312.254, formula: df['ret.4096'] ~ df['nr.range.4096'] + df['kdj.j.range.4096'] + df['range.pos.range.4096'] + df['ma.dif.10.range.4096'] + df['ma.dif.10.4096'] + df['ma.dif.10.trend.index.4096'] + df['ma.dif.10.std.4096'] + df['range.pos.std.4096'] + df['range.pos.trend.index.4096']\n",
      "AIC: 23311.579, formula: df['ret.4096'] ~ df['nr.range.4096'] + df['kdj.j.range.4096'] + df['range.pos.range.4096'] + df['ma.dif.10.range.4096'] + df['ma.dif.10.4096'] + df['ma.dif.10.trend.index.4096'] + df['ma.dif.10.std.4096'] + df['range.pos.std.4096'] + df['dbook.range.4096']\n",
      "AIC: 23312.121, formula: df['ret.4096'] ~ df['nr.range.4096'] + df['kdj.j.range.4096'] + df['range.pos.range.4096'] + df['ma.dif.10.range.4096'] + df['ma.dif.10.4096'] + df['ma.dif.10.trend.index.4096'] + df['ma.dif.10.std.4096'] + df['range.pos.std.4096'] + df['kdj.j.trend.index.4096']\n",
      "AIC: 23310.956, formula: df['ret.4096'] ~ df['nr.range.4096'] + df['kdj.j.range.4096'] + df['range.pos.range.4096'] + df['ma.dif.10.range.4096'] + df['ma.dif.10.4096'] + df['ma.dif.10.trend.index.4096'] + df['ma.dif.10.std.4096'] + df['range.pos.std.4096'] + df['range.pos.4096']\n",
      "AIC: 23311.888, formula: df['ret.4096'] ~ df['nr.range.4096'] + df['kdj.j.range.4096'] + df['range.pos.range.4096'] + df['ma.dif.10.range.4096'] + df['ma.dif.10.4096'] + df['ma.dif.10.trend.index.4096'] + df['ma.dif.10.std.4096'] + df['range.pos.std.4096'] + df['kdj.k.std.4096']\n",
      "AIC: 23312.086, formula: df['ret.4096'] ~ df['nr.range.4096'] + df['kdj.j.range.4096'] + df['range.pos.range.4096'] + df['ma.dif.10.range.4096'] + df['ma.dif.10.4096'] + df['ma.dif.10.trend.index.4096'] + df['ma.dif.10.std.4096'] + df['range.pos.std.4096'] + df['kdj.k.trend.index.4096']\n",
      "AIC: 23312.423, formula: df['ret.4096'] ~ df['nr.range.4096'] + df['kdj.j.range.4096'] + df['range.pos.range.4096'] + df['ma.dif.10.range.4096'] + df['ma.dif.10.4096'] + df['ma.dif.10.trend.index.4096'] + df['ma.dif.10.std.4096'] + df['range.pos.std.4096'] + df['dbook.std.4096']\n",
      "AIC: 23311.876, formula: df['ret.4096'] ~ df['nr.range.4096'] + df['kdj.j.range.4096'] + df['range.pos.range.4096'] + df['ma.dif.10.range.4096'] + df['ma.dif.10.4096'] + df['ma.dif.10.trend.index.4096'] + df['ma.dif.10.std.4096'] + df['range.pos.std.4096'] + df['price.osci.4096']\n",
      "AIC: 23312.693, formula: df['ret.4096'] ~ df['nr.range.4096'] + df['kdj.j.range.4096'] + df['range.pos.range.4096'] + df['ma.dif.10.range.4096'] + df['ma.dif.10.4096'] + df['ma.dif.10.trend.index.4096'] + df['ma.dif.10.std.4096'] + df['range.pos.std.4096'] + df['price.osci.trend.index.4096']\n",
      "AIC: 23271.934, formula: df['ret.4096'] ~ df['nr.range.4096'] + df['kdj.j.range.4096'] + df['range.pos.range.4096'] + df['ma.dif.10.range.4096'] + df['ma.dif.10.4096'] + df['ma.dif.10.trend.index.4096'] + df['ma.dif.10.std.4096'] + df['range.pos.std.4096'] + df['kdj.j.std.4096']\n",
      "AIC: 23312.35, formula: df['ret.4096'] ~ df['nr.range.4096'] + df['kdj.j.range.4096'] + df['range.pos.range.4096'] + df['ma.dif.10.range.4096'] + df['ma.dif.10.4096'] + df['ma.dif.10.trend.index.4096'] + df['ma.dif.10.std.4096'] + df['range.pos.std.4096'] + df['kdj.j.4096']\n",
      "AIC: 23312.249, formula: df['ret.4096'] ~ df['nr.range.4096'] + df['kdj.j.range.4096'] + df['range.pos.range.4096'] + df['ma.dif.10.range.4096'] + df['ma.dif.10.4096'] + df['ma.dif.10.trend.index.4096'] + df['ma.dif.10.std.4096'] + df['range.pos.std.4096'] + df['price.osci.range.4096']\n",
      "AIC: 23272.837, formula: df['ret.4096'] ~ df['nr.range.4096'] + df['kdj.j.range.4096'] + df['range.pos.range.4096'] + df['ma.dif.10.range.4096'] + df['ma.dif.10.4096'] + df['ma.dif.10.trend.index.4096'] + df['ma.dif.10.std.4096'] + df['range.pos.std.4096'] + df['kdj.j.std.4096'] + df['kdj.k.range.4096']\n",
      "AIC: 23273.159, formula: df['ret.4096'] ~ df['nr.range.4096'] + df['kdj.j.range.4096'] + df['range.pos.range.4096'] + df['ma.dif.10.range.4096'] + df['ma.dif.10.4096'] + df['ma.dif.10.trend.index.4096'] + df['ma.dif.10.std.4096'] + df['range.pos.std.4096'] + df['kdj.j.std.4096'] + df['dbook.4096']\n",
      "AIC: 23273.347, formula: df['ret.4096'] ~ df['nr.range.4096'] + df['kdj.j.range.4096'] + df['range.pos.range.4096'] + df['ma.dif.10.range.4096'] + df['ma.dif.10.4096'] + df['ma.dif.10.trend.index.4096'] + df['ma.dif.10.std.4096'] + df['range.pos.std.4096'] + df['kdj.j.std.4096'] + df['kdj.k.4096']\n",
      "AIC: 23273.847, formula: df['ret.4096'] ~ df['nr.range.4096'] + df['kdj.j.range.4096'] + df['range.pos.range.4096'] + df['ma.dif.10.range.4096'] + df['ma.dif.10.4096'] + df['ma.dif.10.trend.index.4096'] + df['ma.dif.10.std.4096'] + df['range.pos.std.4096'] + df['kdj.j.std.4096'] + df['nr.trend.index.4096']\n",
      "AIC: 23272.449, formula: df['ret.4096'] ~ df['nr.range.4096'] + df['kdj.j.range.4096'] + df['range.pos.range.4096'] + df['ma.dif.10.range.4096'] + df['ma.dif.10.4096'] + df['ma.dif.10.trend.index.4096'] + df['ma.dif.10.std.4096'] + df['range.pos.std.4096'] + df['kdj.j.std.4096'] + df['nr.4096']\n",
      "AIC: 23273.595, formula: df['ret.4096'] ~ df['nr.range.4096'] + df['kdj.j.range.4096'] + df['range.pos.range.4096'] + df['ma.dif.10.range.4096'] + df['ma.dif.10.4096'] + df['ma.dif.10.trend.index.4096'] + df['ma.dif.10.std.4096'] + df['range.pos.std.4096'] + df['kdj.j.std.4096'] + df['nr.std.4096']\n",
      "AIC: 23273.61, formula: df['ret.4096'] ~ df['nr.range.4096'] + df['kdj.j.range.4096'] + df['range.pos.range.4096'] + df['ma.dif.10.range.4096'] + df['ma.dif.10.4096'] + df['ma.dif.10.trend.index.4096'] + df['ma.dif.10.std.4096'] + df['range.pos.std.4096'] + df['kdj.j.std.4096'] + df['price.osci.std.4096']\n",
      "AIC: 23273.925, formula: df['ret.4096'] ~ df['nr.range.4096'] + df['kdj.j.range.4096'] + df['range.pos.range.4096'] + df['ma.dif.10.range.4096'] + df['ma.dif.10.4096'] + df['ma.dif.10.trend.index.4096'] + df['ma.dif.10.std.4096'] + df['range.pos.std.4096'] + df['kdj.j.std.4096'] + df['dbook.trend.index.4096']\n",
      "AIC: 23273.508, formula: df['ret.4096'] ~ df['nr.range.4096'] + df['kdj.j.range.4096'] + df['range.pos.range.4096'] + df['ma.dif.10.range.4096'] + df['ma.dif.10.4096'] + df['ma.dif.10.trend.index.4096'] + df['ma.dif.10.std.4096'] + df['range.pos.std.4096'] + df['kdj.j.std.4096'] + df['range.pos.trend.index.4096']\n",
      "AIC: 23273.089, formula: df['ret.4096'] ~ df['nr.range.4096'] + df['kdj.j.range.4096'] + df['range.pos.range.4096'] + df['ma.dif.10.range.4096'] + df['ma.dif.10.4096'] + df['ma.dif.10.trend.index.4096'] + df['ma.dif.10.std.4096'] + df['range.pos.std.4096'] + df['kdj.j.std.4096'] + df['dbook.range.4096']\n",
      "AIC: 23273.207, formula: df['ret.4096'] ~ df['nr.range.4096'] + df['kdj.j.range.4096'] + df['range.pos.range.4096'] + df['ma.dif.10.range.4096'] + df['ma.dif.10.4096'] + df['ma.dif.10.trend.index.4096'] + df['ma.dif.10.std.4096'] + df['range.pos.std.4096'] + df['kdj.j.std.4096'] + df['kdj.j.trend.index.4096']\n",
      "AIC: 23270.904, formula: df['ret.4096'] ~ df['nr.range.4096'] + df['kdj.j.range.4096'] + df['range.pos.range.4096'] + df['ma.dif.10.range.4096'] + df['ma.dif.10.4096'] + df['ma.dif.10.trend.index.4096'] + df['ma.dif.10.std.4096'] + df['range.pos.std.4096'] + df['kdj.j.std.4096'] + df['range.pos.4096']\n",
      "AIC: 23271.671, formula: df['ret.4096'] ~ df['nr.range.4096'] + df['kdj.j.range.4096'] + df['range.pos.range.4096'] + df['ma.dif.10.range.4096'] + df['ma.dif.10.4096'] + df['ma.dif.10.trend.index.4096'] + df['ma.dif.10.std.4096'] + df['range.pos.std.4096'] + df['kdj.j.std.4096'] + df['kdj.k.std.4096']\n",
      "AIC: 23273.24, formula: df['ret.4096'] ~ df['nr.range.4096'] + df['kdj.j.range.4096'] + df['range.pos.range.4096'] + df['ma.dif.10.range.4096'] + df['ma.dif.10.4096'] + df['ma.dif.10.trend.index.4096'] + df['ma.dif.10.std.4096'] + df['range.pos.std.4096'] + df['kdj.j.std.4096'] + df['kdj.k.trend.index.4096']\n",
      "AIC: 23273.24, formula: df['ret.4096'] ~ df['nr.range.4096'] + df['kdj.j.range.4096'] + df['range.pos.range.4096'] + df['ma.dif.10.range.4096'] + df['ma.dif.10.4096'] + df['ma.dif.10.trend.index.4096'] + df['ma.dif.10.std.4096'] + df['range.pos.std.4096'] + df['kdj.j.std.4096'] + df['dbook.std.4096']\n",
      "AIC: 23273.365, formula: df['ret.4096'] ~ df['nr.range.4096'] + df['kdj.j.range.4096'] + df['range.pos.range.4096'] + df['ma.dif.10.range.4096'] + df['ma.dif.10.4096'] + df['ma.dif.10.trend.index.4096'] + df['ma.dif.10.std.4096'] + df['range.pos.std.4096'] + df['kdj.j.std.4096'] + df['price.osci.4096']\n",
      "AIC: 23273.885, formula: df['ret.4096'] ~ df['nr.range.4096'] + df['kdj.j.range.4096'] + df['range.pos.range.4096'] + df['ma.dif.10.range.4096'] + df['ma.dif.10.4096'] + df['ma.dif.10.trend.index.4096'] + df['ma.dif.10.std.4096'] + df['range.pos.std.4096'] + df['kdj.j.std.4096'] + df['price.osci.trend.index.4096']\n",
      "AIC: 23273.354, formula: df['ret.4096'] ~ df['nr.range.4096'] + df['kdj.j.range.4096'] + df['range.pos.range.4096'] + df['ma.dif.10.range.4096'] + df['ma.dif.10.4096'] + df['ma.dif.10.trend.index.4096'] + df['ma.dif.10.std.4096'] + df['range.pos.std.4096'] + df['kdj.j.std.4096'] + df['kdj.j.4096']\n",
      "AIC: 23273.141, formula: df['ret.4096'] ~ df['nr.range.4096'] + df['kdj.j.range.4096'] + df['range.pos.range.4096'] + df['ma.dif.10.range.4096'] + df['ma.dif.10.4096'] + df['ma.dif.10.trend.index.4096'] + df['ma.dif.10.std.4096'] + df['range.pos.std.4096'] + df['kdj.j.std.4096'] + df['price.osci.range.4096']\n",
      "AIC: 23271.676, formula: df['ret.4096'] ~ df['nr.range.4096'] + df['kdj.j.range.4096'] + df['range.pos.range.4096'] + df['ma.dif.10.range.4096'] + df['ma.dif.10.4096'] + df['ma.dif.10.trend.index.4096'] + df['ma.dif.10.std.4096'] + df['range.pos.std.4096'] + df['kdj.j.std.4096'] + df['range.pos.4096'] + df['kdj.k.range.4096']\n",
      "AIC: 23272.394, formula: df['ret.4096'] ~ df['nr.range.4096'] + df['kdj.j.range.4096'] + df['range.pos.range.4096'] + df['ma.dif.10.range.4096'] + df['ma.dif.10.4096'] + df['ma.dif.10.trend.index.4096'] + df['ma.dif.10.std.4096'] + df['range.pos.std.4096'] + df['kdj.j.std.4096'] + df['range.pos.4096'] + df['dbook.4096']\n",
      "AIC: 23272.455, formula: df['ret.4096'] ~ df['nr.range.4096'] + df['kdj.j.range.4096'] + df['range.pos.range.4096'] + df['ma.dif.10.range.4096'] + df['ma.dif.10.4096'] + df['ma.dif.10.trend.index.4096'] + df['ma.dif.10.std.4096'] + df['range.pos.std.4096'] + df['kdj.j.std.4096'] + df['range.pos.4096'] + df['kdj.k.4096']\n",
      "AIC: 23271.298, formula: df['ret.4096'] ~ df['nr.range.4096'] + df['kdj.j.range.4096'] + df['range.pos.range.4096'] + df['ma.dif.10.range.4096'] + df['ma.dif.10.4096'] + df['ma.dif.10.trend.index.4096'] + df['ma.dif.10.std.4096'] + df['range.pos.std.4096'] + df['kdj.j.std.4096'] + df['range.pos.4096'] + df['nr.trend.index.4096']\n",
      "AIC: 23272.713, formula: df['ret.4096'] ~ df['nr.range.4096'] + df['kdj.j.range.4096'] + df['range.pos.range.4096'] + df['ma.dif.10.range.4096'] + df['ma.dif.10.4096'] + df['ma.dif.10.trend.index.4096'] + df['ma.dif.10.std.4096'] + df['range.pos.std.4096'] + df['kdj.j.std.4096'] + df['range.pos.4096'] + df['nr.4096']\n",
      "AIC: 23272.742, formula: df['ret.4096'] ~ df['nr.range.4096'] + df['kdj.j.range.4096'] + df['range.pos.range.4096'] + df['ma.dif.10.range.4096'] + df['ma.dif.10.4096'] + df['ma.dif.10.trend.index.4096'] + df['ma.dif.10.std.4096'] + df['range.pos.std.4096'] + df['kdj.j.std.4096'] + df['range.pos.4096'] + df['nr.std.4096']\n",
      "AIC: 23272.68, formula: df['ret.4096'] ~ df['nr.range.4096'] + df['kdj.j.range.4096'] + df['range.pos.range.4096'] + df['ma.dif.10.range.4096'] + df['ma.dif.10.4096'] + df['ma.dif.10.trend.index.4096'] + df['ma.dif.10.std.4096'] + df['range.pos.std.4096'] + df['kdj.j.std.4096'] + df['range.pos.4096'] + df['price.osci.std.4096']\n",
      "AIC: 23272.897, formula: df['ret.4096'] ~ df['nr.range.4096'] + df['kdj.j.range.4096'] + df['range.pos.range.4096'] + df['ma.dif.10.range.4096'] + df['ma.dif.10.4096'] + df['ma.dif.10.trend.index.4096'] + df['ma.dif.10.std.4096'] + df['range.pos.std.4096'] + df['kdj.j.std.4096'] + df['range.pos.4096'] + df['dbook.trend.index.4096']\n",
      "AIC: 23262.041, formula: df['ret.4096'] ~ df['nr.range.4096'] + df['kdj.j.range.4096'] + df['range.pos.range.4096'] + df['ma.dif.10.range.4096'] + df['ma.dif.10.4096'] + df['ma.dif.10.trend.index.4096'] + df['ma.dif.10.std.4096'] + df['range.pos.std.4096'] + df['kdj.j.std.4096'] + df['range.pos.4096'] + df['range.pos.trend.index.4096']\n",
      "AIC: 23272.137, formula: df['ret.4096'] ~ df['nr.range.4096'] + df['kdj.j.range.4096'] + df['range.pos.range.4096'] + df['ma.dif.10.range.4096'] + df['ma.dif.10.4096'] + df['ma.dif.10.trend.index.4096'] + df['ma.dif.10.std.4096'] + df['range.pos.std.4096'] + df['kdj.j.std.4096'] + df['range.pos.4096'] + df['dbook.range.4096']\n",
      "AIC: 23264.372, formula: df['ret.4096'] ~ df['nr.range.4096'] + df['kdj.j.range.4096'] + df['range.pos.range.4096'] + df['ma.dif.10.range.4096'] + df['ma.dif.10.4096'] + df['ma.dif.10.trend.index.4096'] + df['ma.dif.10.std.4096'] + df['range.pos.std.4096'] + df['kdj.j.std.4096'] + df['range.pos.4096'] + df['kdj.j.trend.index.4096']\n",
      "AIC: 23270.486, formula: df['ret.4096'] ~ df['nr.range.4096'] + df['kdj.j.range.4096'] + df['range.pos.range.4096'] + df['ma.dif.10.range.4096'] + df['ma.dif.10.4096'] + df['ma.dif.10.trend.index.4096'] + df['ma.dif.10.std.4096'] + df['range.pos.std.4096'] + df['kdj.j.std.4096'] + df['range.pos.4096'] + df['kdj.k.std.4096']\n",
      "AIC: 23268.152, formula: df['ret.4096'] ~ df['nr.range.4096'] + df['kdj.j.range.4096'] + df['range.pos.range.4096'] + df['ma.dif.10.range.4096'] + df['ma.dif.10.4096'] + df['ma.dif.10.trend.index.4096'] + df['ma.dif.10.std.4096'] + df['range.pos.std.4096'] + df['kdj.j.std.4096'] + df['range.pos.4096'] + df['kdj.k.trend.index.4096']\n",
      "AIC: 23272.265, formula: df['ret.4096'] ~ df['nr.range.4096'] + df['kdj.j.range.4096'] + df['range.pos.range.4096'] + df['ma.dif.10.range.4096'] + df['ma.dif.10.4096'] + df['ma.dif.10.trend.index.4096'] + df['ma.dif.10.std.4096'] + df['range.pos.std.4096'] + df['kdj.j.std.4096'] + df['range.pos.4096'] + df['dbook.std.4096']\n",
      "AIC: 23272.835, formula: df['ret.4096'] ~ df['nr.range.4096'] + df['kdj.j.range.4096'] + df['range.pos.range.4096'] + df['ma.dif.10.range.4096'] + df['ma.dif.10.4096'] + df['ma.dif.10.trend.index.4096'] + df['ma.dif.10.std.4096'] + df['range.pos.std.4096'] + df['kdj.j.std.4096'] + df['range.pos.4096'] + df['price.osci.4096']\n",
      "AIC: 23272.209, formula: df['ret.4096'] ~ df['nr.range.4096'] + df['kdj.j.range.4096'] + df['range.pos.range.4096'] + df['ma.dif.10.range.4096'] + df['ma.dif.10.4096'] + df['ma.dif.10.trend.index.4096'] + df['ma.dif.10.std.4096'] + df['range.pos.std.4096'] + df['kdj.j.std.4096'] + df['range.pos.4096'] + df['price.osci.trend.index.4096']\n",
      "AIC: 23269.461, formula: df['ret.4096'] ~ df['nr.range.4096'] + df['kdj.j.range.4096'] + df['range.pos.range.4096'] + df['ma.dif.10.range.4096'] + df['ma.dif.10.4096'] + df['ma.dif.10.trend.index.4096'] + df['ma.dif.10.std.4096'] + df['range.pos.std.4096'] + df['kdj.j.std.4096'] + df['range.pos.4096'] + df['kdj.j.4096']\n",
      "AIC: 23271.938, formula: df['ret.4096'] ~ df['nr.range.4096'] + df['kdj.j.range.4096'] + df['range.pos.range.4096'] + df['ma.dif.10.range.4096'] + df['ma.dif.10.4096'] + df['ma.dif.10.trend.index.4096'] + df['ma.dif.10.std.4096'] + df['range.pos.std.4096'] + df['kdj.j.std.4096'] + df['range.pos.4096'] + df['price.osci.range.4096']\n",
      "AIC: 23262.704, formula: df['ret.4096'] ~ df['nr.range.4096'] + df['kdj.j.range.4096'] + df['range.pos.range.4096'] + df['ma.dif.10.range.4096'] + df['ma.dif.10.4096'] + df['ma.dif.10.trend.index.4096'] + df['ma.dif.10.std.4096'] + df['range.pos.std.4096'] + df['kdj.j.std.4096'] + df['range.pos.4096'] + df['range.pos.trend.index.4096'] + df['kdj.k.range.4096']\n",
      "AIC: 23263.286, formula: df['ret.4096'] ~ df['nr.range.4096'] + df['kdj.j.range.4096'] + df['range.pos.range.4096'] + df['ma.dif.10.range.4096'] + df['ma.dif.10.4096'] + df['ma.dif.10.trend.index.4096'] + df['ma.dif.10.std.4096'] + df['range.pos.std.4096'] + df['kdj.j.std.4096'] + df['range.pos.4096'] + df['range.pos.trend.index.4096'] + df['dbook.4096']\n",
      "AIC: 23264.015, formula: df['ret.4096'] ~ df['nr.range.4096'] + df['kdj.j.range.4096'] + df['range.pos.range.4096'] + df['ma.dif.10.range.4096'] + df['ma.dif.10.4096'] + df['ma.dif.10.trend.index.4096'] + df['ma.dif.10.std.4096'] + df['range.pos.std.4096'] + df['kdj.j.std.4096'] + df['range.pos.4096'] + df['range.pos.trend.index.4096'] + df['kdj.k.4096']\n",
      "AIC: 23263.762, formula: df['ret.4096'] ~ df['nr.range.4096'] + df['kdj.j.range.4096'] + df['range.pos.range.4096'] + df['ma.dif.10.range.4096'] + df['ma.dif.10.4096'] + df['ma.dif.10.trend.index.4096'] + df['ma.dif.10.std.4096'] + df['range.pos.std.4096'] + df['kdj.j.std.4096'] + df['range.pos.4096'] + df['range.pos.trend.index.4096'] + df['nr.trend.index.4096']\n",
      "AIC: 23260.557, formula: df['ret.4096'] ~ df['nr.range.4096'] + df['kdj.j.range.4096'] + df['range.pos.range.4096'] + df['ma.dif.10.range.4096'] + df['ma.dif.10.4096'] + df['ma.dif.10.trend.index.4096'] + df['ma.dif.10.std.4096'] + df['range.pos.std.4096'] + df['kdj.j.std.4096'] + df['range.pos.4096'] + df['range.pos.trend.index.4096'] + df['nr.4096']\n",
      "AIC: 23263.885, formula: df['ret.4096'] ~ df['nr.range.4096'] + df['kdj.j.range.4096'] + df['range.pos.range.4096'] + df['ma.dif.10.range.4096'] + df['ma.dif.10.4096'] + df['ma.dif.10.trend.index.4096'] + df['ma.dif.10.std.4096'] + df['range.pos.std.4096'] + df['kdj.j.std.4096'] + df['range.pos.4096'] + df['range.pos.trend.index.4096'] + df['nr.std.4096']\n",
      "AIC: 23263.896, formula: df['ret.4096'] ~ df['nr.range.4096'] + df['kdj.j.range.4096'] + df['range.pos.range.4096'] + df['ma.dif.10.range.4096'] + df['ma.dif.10.4096'] + df['ma.dif.10.trend.index.4096'] + df['ma.dif.10.std.4096'] + df['range.pos.std.4096'] + df['kdj.j.std.4096'] + df['range.pos.4096'] + df['range.pos.trend.index.4096'] + df['price.osci.std.4096']\n",
      "AIC: 23263.985, formula: df['ret.4096'] ~ df['nr.range.4096'] + df['kdj.j.range.4096'] + df['range.pos.range.4096'] + df['ma.dif.10.range.4096'] + df['ma.dif.10.4096'] + df['ma.dif.10.trend.index.4096'] + df['ma.dif.10.std.4096'] + df['range.pos.std.4096'] + df['kdj.j.std.4096'] + df['range.pos.4096'] + df['range.pos.trend.index.4096'] + df['dbook.trend.index.4096']\n",
      "AIC: 23263.391, formula: df['ret.4096'] ~ df['nr.range.4096'] + df['kdj.j.range.4096'] + df['range.pos.range.4096'] + df['ma.dif.10.range.4096'] + df['ma.dif.10.4096'] + df['ma.dif.10.trend.index.4096'] + df['ma.dif.10.std.4096'] + df['range.pos.std.4096'] + df['kdj.j.std.4096'] + df['range.pos.4096'] + df['range.pos.trend.index.4096'] + df['dbook.range.4096']\n",
      "AIC: 23263.84, formula: df['ret.4096'] ~ df['nr.range.4096'] + df['kdj.j.range.4096'] + df['range.pos.range.4096'] + df['ma.dif.10.range.4096'] + df['ma.dif.10.4096'] + df['ma.dif.10.trend.index.4096'] + df['ma.dif.10.std.4096'] + df['range.pos.std.4096'] + df['kdj.j.std.4096'] + df['range.pos.4096'] + df['range.pos.trend.index.4096'] + df['kdj.j.trend.index.4096']\n",
      "AIC: 23261.627, formula: df['ret.4096'] ~ df['nr.range.4096'] + df['kdj.j.range.4096'] + df['range.pos.range.4096'] + df['ma.dif.10.range.4096'] + df['ma.dif.10.4096'] + df['ma.dif.10.trend.index.4096'] + df['ma.dif.10.std.4096'] + df['range.pos.std.4096'] + df['kdj.j.std.4096'] + df['range.pos.4096'] + df['range.pos.trend.index.4096'] + df['kdj.k.std.4096']\n",
      "AIC: 23264.015, formula: df['ret.4096'] ~ df['nr.range.4096'] + df['kdj.j.range.4096'] + df['range.pos.range.4096'] + df['ma.dif.10.range.4096'] + df['ma.dif.10.4096'] + df['ma.dif.10.trend.index.4096'] + df['ma.dif.10.std.4096'] + df['range.pos.std.4096'] + df['kdj.j.std.4096'] + df['range.pos.4096'] + df['range.pos.trend.index.4096'] + df['kdj.k.trend.index.4096']\n",
      "AIC: 23263.589, formula: df['ret.4096'] ~ df['nr.range.4096'] + df['kdj.j.range.4096'] + df['range.pos.range.4096'] + df['ma.dif.10.range.4096'] + df['ma.dif.10.4096'] + df['ma.dif.10.trend.index.4096'] + df['ma.dif.10.std.4096'] + df['range.pos.std.4096'] + df['kdj.j.std.4096'] + df['range.pos.4096'] + df['range.pos.trend.index.4096'] + df['dbook.std.4096']\n",
      "AIC: 23263.71, formula: df['ret.4096'] ~ df['nr.range.4096'] + df['kdj.j.range.4096'] + df['range.pos.range.4096'] + df['ma.dif.10.range.4096'] + df['ma.dif.10.4096'] + df['ma.dif.10.trend.index.4096'] + df['ma.dif.10.std.4096'] + df['range.pos.std.4096'] + df['kdj.j.std.4096'] + df['range.pos.4096'] + df['range.pos.trend.index.4096'] + df['price.osci.4096']\n",
      "AIC: 23264.033, formula: df['ret.4096'] ~ df['nr.range.4096'] + df['kdj.j.range.4096'] + df['range.pos.range.4096'] + df['ma.dif.10.range.4096'] + df['ma.dif.10.4096'] + df['ma.dif.10.trend.index.4096'] + df['ma.dif.10.std.4096'] + df['range.pos.std.4096'] + df['kdj.j.std.4096'] + df['range.pos.4096'] + df['range.pos.trend.index.4096'] + df['price.osci.trend.index.4096']\n",
      "AIC: 23261.49, formula: df['ret.4096'] ~ df['nr.range.4096'] + df['kdj.j.range.4096'] + df['range.pos.range.4096'] + df['ma.dif.10.range.4096'] + df['ma.dif.10.4096'] + df['ma.dif.10.trend.index.4096'] + df['ma.dif.10.std.4096'] + df['range.pos.std.4096'] + df['kdj.j.std.4096'] + df['range.pos.4096'] + df['range.pos.trend.index.4096'] + df['kdj.j.4096']\n",
      "AIC: 23263.034, formula: df['ret.4096'] ~ df['nr.range.4096'] + df['kdj.j.range.4096'] + df['range.pos.range.4096'] + df['ma.dif.10.range.4096'] + df['ma.dif.10.4096'] + df['ma.dif.10.trend.index.4096'] + df['ma.dif.10.std.4096'] + df['range.pos.std.4096'] + df['kdj.j.std.4096'] + df['range.pos.4096'] + df['range.pos.trend.index.4096'] + df['price.osci.range.4096']\n",
      "AIC: 23261.365, formula: df['ret.4096'] ~ df['nr.range.4096'] + df['kdj.j.range.4096'] + df['range.pos.range.4096'] + df['ma.dif.10.range.4096'] + df['ma.dif.10.4096'] + df['ma.dif.10.trend.index.4096'] + df['ma.dif.10.std.4096'] + df['range.pos.std.4096'] + df['kdj.j.std.4096'] + df['range.pos.4096'] + df['range.pos.trend.index.4096'] + df['nr.4096'] + df['kdj.k.range.4096']\n",
      "AIC: 23261.962, formula: df['ret.4096'] ~ df['nr.range.4096'] + df['kdj.j.range.4096'] + df['range.pos.range.4096'] + df['ma.dif.10.range.4096'] + df['ma.dif.10.4096'] + df['ma.dif.10.trend.index.4096'] + df['ma.dif.10.std.4096'] + df['range.pos.std.4096'] + df['kdj.j.std.4096'] + df['range.pos.4096'] + df['range.pos.trend.index.4096'] + df['nr.4096'] + df['dbook.4096']\n",
      "AIC: 23262.304, formula: df['ret.4096'] ~ df['nr.range.4096'] + df['kdj.j.range.4096'] + df['range.pos.range.4096'] + df['ma.dif.10.range.4096'] + df['ma.dif.10.4096'] + df['ma.dif.10.trend.index.4096'] + df['ma.dif.10.std.4096'] + df['range.pos.std.4096'] + df['kdj.j.std.4096'] + df['range.pos.4096'] + df['range.pos.trend.index.4096'] + df['nr.4096'] + df['kdj.k.4096']\n",
      "AIC: 23259.025, formula: df['ret.4096'] ~ df['nr.range.4096'] + df['kdj.j.range.4096'] + df['range.pos.range.4096'] + df['ma.dif.10.range.4096'] + df['ma.dif.10.4096'] + df['ma.dif.10.trend.index.4096'] + df['ma.dif.10.std.4096'] + df['range.pos.std.4096'] + df['kdj.j.std.4096'] + df['range.pos.4096'] + df['range.pos.trend.index.4096'] + df['nr.4096'] + df['nr.trend.index.4096']\n",
      "AIC: 23262.475, formula: df['ret.4096'] ~ df['nr.range.4096'] + df['kdj.j.range.4096'] + df['range.pos.range.4096'] + df['ma.dif.10.range.4096'] + df['ma.dif.10.4096'] + df['ma.dif.10.trend.index.4096'] + df['ma.dif.10.std.4096'] + df['range.pos.std.4096'] + df['kdj.j.std.4096'] + df['range.pos.4096'] + df['range.pos.trend.index.4096'] + df['nr.4096'] + df['nr.std.4096']\n",
      "AIC: 23262.376, formula: df['ret.4096'] ~ df['nr.range.4096'] + df['kdj.j.range.4096'] + df['range.pos.range.4096'] + df['ma.dif.10.range.4096'] + df['ma.dif.10.4096'] + df['ma.dif.10.trend.index.4096'] + df['ma.dif.10.std.4096'] + df['range.pos.std.4096'] + df['kdj.j.std.4096'] + df['range.pos.4096'] + df['range.pos.trend.index.4096'] + df['nr.4096'] + df['price.osci.std.4096']\n",
      "AIC: 23262.525, formula: df['ret.4096'] ~ df['nr.range.4096'] + df['kdj.j.range.4096'] + df['range.pos.range.4096'] + df['ma.dif.10.range.4096'] + df['ma.dif.10.4096'] + df['ma.dif.10.trend.index.4096'] + df['ma.dif.10.std.4096'] + df['range.pos.std.4096'] + df['kdj.j.std.4096'] + df['range.pos.4096'] + df['range.pos.trend.index.4096'] + df['nr.4096'] + df['dbook.trend.index.4096']\n",
      "AIC: 23261.966, formula: df['ret.4096'] ~ df['nr.range.4096'] + df['kdj.j.range.4096'] + df['range.pos.range.4096'] + df['ma.dif.10.range.4096'] + df['ma.dif.10.4096'] + df['ma.dif.10.trend.index.4096'] + df['ma.dif.10.std.4096'] + df['range.pos.std.4096'] + df['kdj.j.std.4096'] + df['range.pos.4096'] + df['range.pos.trend.index.4096'] + df['nr.4096'] + df['dbook.range.4096']\n",
      "AIC: 23262.275, formula: df['ret.4096'] ~ df['nr.range.4096'] + df['kdj.j.range.4096'] + df['range.pos.range.4096'] + df['ma.dif.10.range.4096'] + df['ma.dif.10.4096'] + df['ma.dif.10.trend.index.4096'] + df['ma.dif.10.std.4096'] + df['range.pos.std.4096'] + df['kdj.j.std.4096'] + df['range.pos.4096'] + df['range.pos.trend.index.4096'] + df['nr.4096'] + df['kdj.j.trend.index.4096']\n",
      "AIC: 23260.37, formula: df['ret.4096'] ~ df['nr.range.4096'] + df['kdj.j.range.4096'] + df['range.pos.range.4096'] + df['ma.dif.10.range.4096'] + df['ma.dif.10.4096'] + df['ma.dif.10.trend.index.4096'] + df['ma.dif.10.std.4096'] + df['range.pos.std.4096'] + df['kdj.j.std.4096'] + df['range.pos.4096'] + df['range.pos.trend.index.4096'] + df['nr.4096'] + df['kdj.k.std.4096']\n",
      "AIC: 23262.047, formula: df['ret.4096'] ~ df['nr.range.4096'] + df['kdj.j.range.4096'] + df['range.pos.range.4096'] + df['ma.dif.10.range.4096'] + df['ma.dif.10.4096'] + df['ma.dif.10.trend.index.4096'] + df['ma.dif.10.std.4096'] + df['range.pos.std.4096'] + df['kdj.j.std.4096'] + df['range.pos.4096'] + df['range.pos.trend.index.4096'] + df['nr.4096'] + df['kdj.k.trend.index.4096']\n",
      "AIC: 23262.103, formula: df['ret.4096'] ~ df['nr.range.4096'] + df['kdj.j.range.4096'] + df['range.pos.range.4096'] + df['ma.dif.10.range.4096'] + df['ma.dif.10.4096'] + df['ma.dif.10.trend.index.4096'] + df['ma.dif.10.std.4096'] + df['range.pos.std.4096'] + df['kdj.j.std.4096'] + df['range.pos.4096'] + df['range.pos.trend.index.4096'] + df['nr.4096'] + df['dbook.std.4096']\n",
      "AIC: 23262.534, formula: df['ret.4096'] ~ df['nr.range.4096'] + df['kdj.j.range.4096'] + df['range.pos.range.4096'] + df['ma.dif.10.range.4096'] + df['ma.dif.10.4096'] + df['ma.dif.10.trend.index.4096'] + df['ma.dif.10.std.4096'] + df['range.pos.std.4096'] + df['kdj.j.std.4096'] + df['range.pos.4096'] + df['range.pos.trend.index.4096'] + df['nr.4096'] + df['price.osci.4096']\n",
      "AIC: 23262.425, formula: df['ret.4096'] ~ df['nr.range.4096'] + df['kdj.j.range.4096'] + df['range.pos.range.4096'] + df['ma.dif.10.range.4096'] + df['ma.dif.10.4096'] + df['ma.dif.10.trend.index.4096'] + df['ma.dif.10.std.4096'] + df['range.pos.std.4096'] + df['kdj.j.std.4096'] + df['range.pos.4096'] + df['range.pos.trend.index.4096'] + df['nr.4096'] + df['price.osci.trend.index.4096']\n",
      "AIC: 23260.433, formula: df['ret.4096'] ~ df['nr.range.4096'] + df['kdj.j.range.4096'] + df['range.pos.range.4096'] + df['ma.dif.10.range.4096'] + df['ma.dif.10.4096'] + df['ma.dif.10.trend.index.4096'] + df['ma.dif.10.std.4096'] + df['range.pos.std.4096'] + df['kdj.j.std.4096'] + df['range.pos.4096'] + df['range.pos.trend.index.4096'] + df['nr.4096'] + df['kdj.j.4096']\n",
      "AIC: 23261.498, formula: df['ret.4096'] ~ df['nr.range.4096'] + df['kdj.j.range.4096'] + df['range.pos.range.4096'] + df['ma.dif.10.range.4096'] + df['ma.dif.10.4096'] + df['ma.dif.10.trend.index.4096'] + df['ma.dif.10.std.4096'] + df['range.pos.std.4096'] + df['kdj.j.std.4096'] + df['range.pos.4096'] + df['range.pos.trend.index.4096'] + df['nr.4096'] + df['price.osci.range.4096']\n",
      "AIC: 23259.988, formula: df['ret.4096'] ~ df['nr.range.4096'] + df['kdj.j.range.4096'] + df['range.pos.range.4096'] + df['ma.dif.10.range.4096'] + df['ma.dif.10.4096'] + df['ma.dif.10.trend.index.4096'] + df['ma.dif.10.std.4096'] + df['range.pos.std.4096'] + df['kdj.j.std.4096'] + df['range.pos.4096'] + df['range.pos.trend.index.4096'] + df['nr.4096'] + df['nr.trend.index.4096'] + df['kdj.k.range.4096']\n",
      "AIC: 23260.491, formula: df['ret.4096'] ~ df['nr.range.4096'] + df['kdj.j.range.4096'] + df['range.pos.range.4096'] + df['ma.dif.10.range.4096'] + df['ma.dif.10.4096'] + df['ma.dif.10.trend.index.4096'] + df['ma.dif.10.std.4096'] + df['range.pos.std.4096'] + df['kdj.j.std.4096'] + df['range.pos.4096'] + df['range.pos.trend.index.4096'] + df['nr.4096'] + df['nr.trend.index.4096'] + df['dbook.4096']\n",
      "AIC: 23261.008, formula: df['ret.4096'] ~ df['nr.range.4096'] + df['kdj.j.range.4096'] + df['range.pos.range.4096'] + df['ma.dif.10.range.4096'] + df['ma.dif.10.4096'] + df['ma.dif.10.trend.index.4096'] + df['ma.dif.10.std.4096'] + df['range.pos.std.4096'] + df['kdj.j.std.4096'] + df['range.pos.4096'] + df['range.pos.trend.index.4096'] + df['nr.4096'] + df['nr.trend.index.4096'] + df['kdj.k.4096']\n",
      "AIC: 23260.748, formula: df['ret.4096'] ~ df['nr.range.4096'] + df['kdj.j.range.4096'] + df['range.pos.range.4096'] + df['ma.dif.10.range.4096'] + df['ma.dif.10.4096'] + df['ma.dif.10.trend.index.4096'] + df['ma.dif.10.std.4096'] + df['range.pos.std.4096'] + df['kdj.j.std.4096'] + df['range.pos.4096'] + df['range.pos.trend.index.4096'] + df['nr.4096'] + df['nr.trend.index.4096'] + df['nr.std.4096']\n",
      "AIC: 23260.769, formula: df['ret.4096'] ~ df['nr.range.4096'] + df['kdj.j.range.4096'] + df['range.pos.range.4096'] + df['ma.dif.10.range.4096'] + df['ma.dif.10.4096'] + df['ma.dif.10.trend.index.4096'] + df['ma.dif.10.std.4096'] + df['range.pos.std.4096'] + df['kdj.j.std.4096'] + df['range.pos.4096'] + df['range.pos.trend.index.4096'] + df['nr.4096'] + df['nr.trend.index.4096'] + df['price.osci.std.4096']\n",
      "AIC: 23260.968, formula: df['ret.4096'] ~ df['nr.range.4096'] + df['kdj.j.range.4096'] + df['range.pos.range.4096'] + df['ma.dif.10.range.4096'] + df['ma.dif.10.4096'] + df['ma.dif.10.trend.index.4096'] + df['ma.dif.10.std.4096'] + df['range.pos.std.4096'] + df['kdj.j.std.4096'] + df['range.pos.4096'] + df['range.pos.trend.index.4096'] + df['nr.4096'] + df['nr.trend.index.4096'] + df['dbook.trend.index.4096']\n",
      "AIC: 23260.439, formula: df['ret.4096'] ~ df['nr.range.4096'] + df['kdj.j.range.4096'] + df['range.pos.range.4096'] + df['ma.dif.10.range.4096'] + df['ma.dif.10.4096'] + df['ma.dif.10.trend.index.4096'] + df['ma.dif.10.std.4096'] + df['range.pos.std.4096'] + df['kdj.j.std.4096'] + df['range.pos.4096'] + df['range.pos.trend.index.4096'] + df['nr.4096'] + df['nr.trend.index.4096'] + df['dbook.range.4096']\n",
      "AIC: 23260.923, formula: df['ret.4096'] ~ df['nr.range.4096'] + df['kdj.j.range.4096'] + df['range.pos.range.4096'] + df['ma.dif.10.range.4096'] + df['ma.dif.10.4096'] + df['ma.dif.10.trend.index.4096'] + df['ma.dif.10.std.4096'] + df['range.pos.std.4096'] + df['kdj.j.std.4096'] + df['range.pos.4096'] + df['range.pos.trend.index.4096'] + df['nr.4096'] + df['nr.trend.index.4096'] + df['kdj.j.trend.index.4096']\n",
      "AIC: 23259.069, formula: df['ret.4096'] ~ df['nr.range.4096'] + df['kdj.j.range.4096'] + df['range.pos.range.4096'] + df['ma.dif.10.range.4096'] + df['ma.dif.10.4096'] + df['ma.dif.10.trend.index.4096'] + df['ma.dif.10.std.4096'] + df['range.pos.std.4096'] + df['kdj.j.std.4096'] + df['range.pos.4096'] + df['range.pos.trend.index.4096'] + df['nr.4096'] + df['nr.trend.index.4096'] + df['kdj.k.std.4096']\n",
      "AIC: 23260.952, formula: df['ret.4096'] ~ df['nr.range.4096'] + df['kdj.j.range.4096'] + df['range.pos.range.4096'] + df['ma.dif.10.range.4096'] + df['ma.dif.10.4096'] + df['ma.dif.10.trend.index.4096'] + df['ma.dif.10.std.4096'] + df['range.pos.std.4096'] + df['kdj.j.std.4096'] + df['range.pos.4096'] + df['range.pos.trend.index.4096'] + df['nr.4096'] + df['nr.trend.index.4096'] + df['kdj.k.trend.index.4096']\n",
      "AIC: 23260.531, formula: df['ret.4096'] ~ df['nr.range.4096'] + df['kdj.j.range.4096'] + df['range.pos.range.4096'] + df['ma.dif.10.range.4096'] + df['ma.dif.10.4096'] + df['ma.dif.10.trend.index.4096'] + df['ma.dif.10.std.4096'] + df['range.pos.std.4096'] + df['kdj.j.std.4096'] + df['range.pos.4096'] + df['range.pos.trend.index.4096'] + df['nr.4096'] + df['nr.trend.index.4096'] + df['dbook.std.4096']\n",
      "AIC: 23261.022, formula: df['ret.4096'] ~ df['nr.range.4096'] + df['kdj.j.range.4096'] + df['range.pos.range.4096'] + df['ma.dif.10.range.4096'] + df['ma.dif.10.4096'] + df['ma.dif.10.trend.index.4096'] + df['ma.dif.10.std.4096'] + df['range.pos.std.4096'] + df['kdj.j.std.4096'] + df['range.pos.4096'] + df['range.pos.trend.index.4096'] + df['nr.4096'] + df['nr.trend.index.4096'] + df['price.osci.4096']\n",
      "AIC: 23260.991, formula: df['ret.4096'] ~ df['nr.range.4096'] + df['kdj.j.range.4096'] + df['range.pos.range.4096'] + df['ma.dif.10.range.4096'] + df['ma.dif.10.4096'] + df['ma.dif.10.trend.index.4096'] + df['ma.dif.10.std.4096'] + df['range.pos.std.4096'] + df['kdj.j.std.4096'] + df['range.pos.4096'] + df['range.pos.trend.index.4096'] + df['nr.4096'] + df['nr.trend.index.4096'] + df['price.osci.trend.index.4096']\n",
      "AIC: 23259.8, formula: df['ret.4096'] ~ df['nr.range.4096'] + df['kdj.j.range.4096'] + df['range.pos.range.4096'] + df['ma.dif.10.range.4096'] + df['ma.dif.10.4096'] + df['ma.dif.10.trend.index.4096'] + df['ma.dif.10.std.4096'] + df['range.pos.std.4096'] + df['kdj.j.std.4096'] + df['range.pos.4096'] + df['range.pos.trend.index.4096'] + df['nr.4096'] + df['nr.trend.index.4096'] + df['kdj.j.4096']\n",
      "AIC: 23259.982, formula: df['ret.4096'] ~ df['nr.range.4096'] + df['kdj.j.range.4096'] + df['range.pos.range.4096'] + df['ma.dif.10.range.4096'] + df['ma.dif.10.4096'] + df['ma.dif.10.trend.index.4096'] + df['ma.dif.10.std.4096'] + df['range.pos.std.4096'] + df['kdj.j.std.4096'] + df['range.pos.4096'] + df['range.pos.trend.index.4096'] + df['nr.4096'] + df['nr.trend.index.4096'] + df['price.osci.range.4096']\n",
      "The best formula: df['ret.4096'] ~ df['nr.range.4096'] + df['kdj.j.range.4096'] + df['range.pos.range.4096'] + df['ma.dif.10.range.4096'] + df['ma.dif.10.4096'] + df['ma.dif.10.trend.index.4096'] + df['ma.dif.10.std.4096'] + df['range.pos.std.4096'] + df['kdj.j.std.4096'] + df['range.pos.4096'] + df['range.pos.trend.index.4096'] + df['nr.4096'] + df['nr.trend.index.4096']\n"
     ]
    }
   ],
   "source": [
    "fwd_model = step_aic(smf.ols, train_mat.columns[:-4], [\"ret.\"+str(period)], data=train_mat)\n",
    "## The best formula: The best formula: df['ret.4096'] ~ df['trade.imb.std.4096'] + df['trade.imb.4096']"
   ]
  },
  {
   "cell_type": "code",
   "execution_count": 543,
   "metadata": {},
   "outputs": [
    {
     "data": {
      "text/plain": [
       "\"train_mat['ret.4096'] ~ +train_mat['nr.range.4096']+train_mat['kdj.j.range.4096']+train_mat['range.pos.range.4096']+train_mat['ma.dif.10.range.4096']+train_mat['ma.dif.10.4096']+train_mat['ma.dif.10.trend.index.4096']+train_mat['ma.dif.10.std.4096']+train_mat['range.pos.std.4096']+train_mat['kdj.j.std.4096']+train_mat['range.pos.4096']+train_mat['range.pos.trend.index.4096']+train_mat['nr.4096']+train_mat['nr.trend.index.4096']+0\""
      ]
     },
     "execution_count": 543,
     "metadata": {},
     "output_type": "execute_result"
    }
   ],
   "source": [
    "y_signal = \"ret.\"+str(period)\n",
    "formula = \"train_mat['\" + y_signal+\"'] ~ \"\n",
    "for signal in fwd_model[\"chosen.signals\"]:\n",
    "    formula = formula+\"+train_mat['\"+signal+\"']\"\n",
    "formula+=\"+0\"\n",
    "formula\n",
    "## \"train_mat['ret.4096'] ~ +train_mat['nr.range.4096']+train_mat['kdj.j.range.4096']+train_mat['range.pos.range.4096']+train_mat['ma.dif.10.range.4096']+train_mat['ma.dif.10.4096']+train_mat['ma.dif.10.trend.index.4096']+train_mat['ma.dif.10.std.4096']+train_mat['range.pos.std.4096']+train_mat['kdj.j.std.4096']+train_mat['range.pos.4096']+train_mat['range.pos.trend.index.4096']+train_mat['nr.4096']+train_mat['nr.trend.index.4096']+0\"\n",
    "\n"
   ]
  },
  {
   "cell_type": "code",
   "execution_count": 544,
   "metadata": {},
   "outputs": [
    {
     "name": "stdout",
     "output_type": "stream",
     "text": [
      "                                  OLS Regression Results                                  \n",
      "==========================================================================================\n",
      "Dep. Variable:     train_mat['ret.4096']   R-squared (uncentered):                   0.029\n",
      "Model:                               OLS   Adj. R-squared (uncentered):              0.027\n",
      "Method:                    Least Squares   F-statistic:                              18.89\n",
      "Date:                   Fri, 17 Jul 2020   Prob (F-statistic):                    2.78e-44\n",
      "Time:                           17:42:11   Log-Likelihood:                         -11616.\n",
      "No. Observations:                   8271   AIC:                                  2.326e+04\n",
      "Df Residuals:                       8258   BIC:                                  2.335e+04\n",
      "Df Model:                             13                                                  \n",
      "Covariance Type:               nonrobust                                                  \n",
      "===========================================================================================================\n",
      "                                              coef    std err          t      P>|t|      [0.025      0.975]\n",
      "-----------------------------------------------------------------------------------------------------------\n",
      "train_mat['nr.range.4096']                  0.0907      0.015      5.948      0.000       0.061       0.121\n",
      "train_mat['kdj.j.range.4096']               0.2953      0.096      3.060      0.002       0.106       0.484\n",
      "train_mat['range.pos.range.4096']          -0.3976      0.095     -4.201      0.000      -0.583      -0.212\n",
      "train_mat['ma.dif.10.range.4096']           0.0599      0.036      1.666      0.096      -0.011       0.130\n",
      "train_mat['ma.dif.10.4096']                -0.1521      0.034     -4.525      0.000      -0.218      -0.086\n",
      "train_mat['ma.dif.10.trend.index.4096']     0.0970      0.039      2.480      0.013       0.020       0.174\n",
      "train_mat['ma.dif.10.std.4096']             0.0737      0.037      1.971      0.049       0.000       0.147\n",
      "train_mat['range.pos.std.4096']             0.6449      0.098      6.552      0.000       0.452       0.838\n",
      "train_mat['kdj.j.std.4096']                -0.6884      0.107     -6.456      0.000      -0.897      -0.479\n",
      "train_mat['range.pos.4096']                 0.0708      0.022      3.151      0.002       0.027       0.115\n",
      "train_mat['range.pos.trend.index.4096']    -0.0718      0.026     -2.726      0.006      -0.124      -0.020\n",
      "train_mat['nr.4096']                        0.0740      0.029      2.593      0.010       0.018       0.130\n",
      "train_mat['nr.trend.index.4096']           -0.0570      0.030     -1.875      0.061      -0.117       0.003\n",
      "==============================================================================\n",
      "Omnibus:                     2276.765   Durbin-Watson:                   2.020\n",
      "Prob(Omnibus):                  0.000   Jarque-Bera (JB):           254193.920\n",
      "Skew:                           0.004   Prob(JB):                         0.00\n",
      "Kurtosis:                      30.159   Cond. No.                         48.5\n",
      "==============================================================================\n",
      "\n",
      "Warnings:\n",
      "[1] Standard Errors assume that the covariance matrix of the errors is correctly specified.\n"
     ]
    }
   ],
   "source": [
    "formula\n",
    "fit_lm  = smf.ols(formula=formula, data=train_mat[train_mat.columns]).fit()\n",
    "print(fit_lm.summary())\n",
    "\n",
    "#  OLS Regression Results                                  \n",
    "# ==========================================================================================\n",
    "# Dep. Variable:     train_mat['ret.4096']   R-squared (uncentered):                   0.029\n",
    "# Model:                               OLS   Adj. R-squared (uncentered):              0.027\n",
    "# Method:                    Least Squares   F-statistic:                              18.89\n",
    "# Date:                   Fri, 17 Jul 2020   Prob (F-statistic):                    2.78e-44\n",
    "# Time:                           17:42:11   Log-Likelihood:                         -11616.\n",
    "# No. Observations:                   8271   AIC:                                  2.326e+04\n",
    "# Df Residuals:                       8258   BIC:                                  2.335e+04\n",
    "# Df Model:                             13                                                  \n",
    "# Covariance Type:               nonrobust                                                  \n",
    "# ===========================================================================================================\n",
    "#                                               coef    std err          t      P>|t|      [0.025      0.975]\n",
    "# -----------------------------------------------------------------------------------------------------------\n",
    "# train_mat['nr.range.4096']                  0.0907      0.015      5.948      0.000       0.061       0.121\n",
    "# train_mat['kdj.j.range.4096']               0.2953      0.096      3.060      0.002       0.106       0.484\n",
    "# train_mat['range.pos.range.4096']          -0.3976      0.095     -4.201      0.000      -0.583      -0.212\n",
    "# train_mat['ma.dif.10.range.4096']           0.0599      0.036      1.666      0.096      -0.011       0.130\n",
    "# train_mat['ma.dif.10.4096']                -0.1521      0.034     -4.525      0.000      -0.218      -0.086\n",
    "# train_mat['ma.dif.10.trend.index.4096']     0.0970      0.039      2.480      0.013       0.020       0.174\n",
    "# train_mat['ma.dif.10.std.4096']             0.0737      0.037      1.971      0.049       0.000       0.147\n",
    "# train_mat['range.pos.std.4096']             0.6449      0.098      6.552      0.000       0.452       0.838\n",
    "# train_mat['kdj.j.std.4096']                -0.6884      0.107     -6.456      0.000      -0.897      -0.479\n",
    "# train_mat['range.pos.4096']                 0.0708      0.022      3.151      0.002       0.027       0.115\n",
    "# train_mat['range.pos.trend.index.4096']    -0.0718      0.026     -2.726      0.006      -0.124      -0.020\n",
    "# train_mat['nr.4096']                        0.0740      0.029      2.593      0.010       0.018       0.130\n",
    "# train_mat['nr.trend.index.4096']           -0.0570      0.030     -1.875      0.061      -0.117       0.003\n",
    "# ==============================================================================\n",
    "# Omnibus:                     2276.765   Durbin-Watson:                   2.020\n",
    "# Prob(Omnibus):                  0.000   Jarque-Bera (JB):           254193.920\n",
    "# Skew:                           0.004   Prob(JB):                         0.00\n",
    "# Kurtosis:                      30.159   Cond. No.                         48.5\n",
    "# ==============================================================================\n",
    "\n",
    "# Warnings:\n",
    "# [1] Standard Errors assume that the covariance matrix of the errors is correctly specified."
   ]
  },
  {
   "cell_type": "code",
   "execution_count": 545,
   "metadata": {},
   "outputs": [
    {
     "data": {
      "text/plain": [
       "array([ 0.09066218,  0.29529393, -0.39764424,  0.05986646, -0.15205348,\n",
       "        0.09700748,  0.07372138,  0.6449392 , -0.68841318,  0.07075761,\n",
       "       -0.07184339,  0.07404312, -0.057032  ])"
      ]
     },
     "execution_count": 545,
     "metadata": {},
     "output_type": "execute_result"
    }
   ],
   "source": [
    "strat = \"full.\"+str(period)\n",
    "for product in product_list[0:2]:\n",
    "    os.makedirs(HEAD_PATH+\"/tmp pkl/\"+product+\"/\"+strat, exist_ok=True)\n",
    "fit_coef = fit_lm.params.values\n",
    "fit_coef\n",
    "\n",
    "# array([ 0.09066218,  0.29529393, -0.39764424,  0.05986646, -0.15205348,\n",
    "#         0.09700748,  0.07372138,  0.6449392 , -0.68841318,  0.07075761,\n",
    "#        -0.07184339,  0.07404312, -0.057032  ])"
   ]
  },
  {
   "cell_type": "code",
   "execution_count": 546,
   "metadata": {},
   "outputs": [
    {
     "name": "stdout",
     "output_type": "stream",
     "text": [
      "btc.usd.td\n",
      "nr.range.4096                 0.000134\n",
      "kdj.j.range.4096              0.000062\n",
      "range.pos.range.4096         -0.000262\n",
      "ma.dif.10.range.4096          0.000288\n",
      "ma.dif.10.4096               -0.220549\n",
      "ma.dif.10.trend.index.4096    0.222585\n",
      "ma.dif.10.std.4096            0.001015\n",
      "range.pos.std.4096            0.001507\n",
      "kdj.j.std.4096               -0.000490\n",
      "range.pos.4096                0.003902\n",
      "range.pos.trend.index.4096   -0.006532\n",
      "nr.4096                       0.005335\n",
      "nr.trend.index.4096          -0.005439\n",
      "dtype: float64\n",
      "eth.usd.td\n",
      "nr.range.4096                 0.003364\n",
      "kdj.j.range.4096              0.001395\n",
      "range.pos.range.4096         -0.006064\n",
      "ma.dif.10.range.4096          0.001489\n",
      "ma.dif.10.4096               -0.141239\n",
      "ma.dif.10.trend.index.4096    0.118106\n",
      "ma.dif.10.std.4096            0.004222\n",
      "range.pos.std.4096            0.029692\n",
      "kdj.j.std.4096               -0.009449\n",
      "range.pos.4096                0.005825\n",
      "range.pos.trend.index.4096   -0.010263\n",
      "nr.4096                       0.011081\n",
      "nr.trend.index.4096          -0.012363\n",
      "dtype: float64\n",
      "Wall time: 42.6 s\n"
     ]
    },
    {
     "data": {
      "text/plain": [
       "''"
      ]
     },
     "execution_count": 546,
     "metadata": {},
     "output_type": "execute_result"
    }
   ],
   "source": [
    "%%time\n",
    "for product in product_list[0:2]:\n",
    "    print(product)\n",
    "    coef = fit_coef*train_std_mat[product][y_signal]/train_std_mat[product][fwd_model[\"chosen.signals\"]]\n",
    "    print(coef)\n",
    "    parLapply(CORE_NUM, all_dates, get_daily_pred, \n",
    "              product=product, signal_list=fwd_model[\"chosen.signals\"], \n",
    "              coef=coef, strat=strat, HEAD_PATH=SAVE_PATH)\n",
    ";\n",
    "\n",
    "# btc.usd.td\n",
    "# nr.range.4096                 0.000134\n",
    "# kdj.j.range.4096              0.000062\n",
    "# range.pos.range.4096         -0.000262\n",
    "# ma.dif.10.range.4096          0.000288\n",
    "# ma.dif.10.4096               -0.220549\n",
    "# ma.dif.10.trend.index.4096    0.222585\n",
    "# ma.dif.10.std.4096            0.001015\n",
    "# range.pos.std.4096            0.001507\n",
    "# kdj.j.std.4096               -0.000490\n",
    "# range.pos.4096                0.003902\n",
    "# range.pos.trend.index.4096   -0.006532\n",
    "# nr.4096                       0.005335\n",
    "# nr.trend.index.4096          -0.005439\n",
    "# dtype: float64\n",
    "# eth.usd.td\n",
    "# nr.range.4096                 0.003364\n",
    "# kdj.j.range.4096              0.001395\n",
    "# range.pos.range.4096         -0.006064\n",
    "# ma.dif.10.range.4096          0.001489\n",
    "# ma.dif.10.4096               -0.141239\n",
    "# ma.dif.10.trend.index.4096    0.118106\n",
    "# ma.dif.10.std.4096            0.004222\n",
    "# range.pos.std.4096            0.029692\n",
    "# kdj.j.std.4096               -0.009449\n",
    "# range.pos.4096                0.005825\n",
    "# range.pos.trend.index.4096   -0.010263\n",
    "# nr.4096                       0.011081\n",
    "# nr.trend.index.4096          -0.012363\n",
    "# dtype: float64\n",
    "# Wall time: 42.6 s"
   ]
  },
  {
   "cell_type": "markdown",
   "metadata": {},
   "source": [
    "- the result is worse than original ret.4096\n",
    "- we can use machine learning models next week\n"
   ]
  },
  {
   "cell_type": "code",
   "execution_count": 548,
   "metadata": {},
   "outputs": [
    {
     "name": "stdout",
     "output_type": "stream",
     "text": [
      "Wall time: 19.3 s\n"
     ]
    }
   ],
   "source": [
    "%%time\n",
    "for product in product_list[0:2]:\n",
    "    par_get_all_signal(\"full.4096\", all_dates, product, 4096)\n",
    "\n",
    "# Wall time: 19.3 s\n",
    "\n",
    "    "
   ]
  },
  {
   "cell_type": "code",
   "execution_count": 550,
   "metadata": {},
   "outputs": [
    {
     "name": "stdout",
     "output_type": "stream",
     "text": [
      "reverse=1\n",
      "reverse=1\n",
      "Wall time: 6min 32s\n"
     ]
    }
   ],
   "source": [
    "%%time\n",
    "for product in product_list[0:2]:\n",
    "    spread = product_info[product][\"spread\"]\n",
    "    tranct = product_info[product][\"tranct\"]\n",
    "    tranct_ratio = product_info[product][\"tranct.ratio\"] \n",
    "    evaluate_signal(\"full\", all_dates, product, 2/spread, 20, \n",
    "                    CORE_NUM, HEAD_PATH, SAVE_PATH,period=4096, split_str=\"2019-08\", tranct=tranct, \n",
    "                    max_spread=spread*1.1, tranct_ratio=tranct_ratio, atr_filter=20, save_path=\"signal result atr\",reverse=1)\n",
    "    \n",
    "# reverse=1\n",
    "# reverse=1\n",
    "# Wall time: 6min 32s\n",
    "\n"
   ]
  },
  {
   "cell_type": "code",
   "execution_count": 552,
   "metadata": {},
   "outputs": [
    {
     "name": "stdout",
     "output_type": "stream",
     "text": [
      "btc.usd.td train sharpe  0.5646013927742641 test sharpe  2.046342195041601\n",
      "eth.usd.td train sharpe  1.7491880220775864 test sharpe  3.6443073286955667\n"
     ]
    }
   ],
   "source": [
    "for product in product_list[0:2]:\n",
    "    spread = product_info[product][\"spread\"]\n",
    "    signal_stat = load(HEAD_PATH+\"/signal result atr/\"+product+\".\"+\"full.4096\"+\".trend.pkl\")\n",
    "    train_stat = signal_stat[\"train.stat\"]\n",
    "    good_strat = (train_stat[\"final.result\"][\"avg.pnl\"]>10*spread)\n",
    "    train_pnl = train_stat[\"daily.ret\"].loc[:, good_strat].sum(axis=1)/sum(good_strat)\n",
    "    test_stat = signal_stat[\"test.stat\"]\n",
    "    test_pnl = test_stat[\"daily.ret\"].loc[:, good_strat].sum(axis=1)/sum(good_strat)\n",
    "    print(product, \"train sharpe \", sharpe(train_pnl), \"test sharpe \", sharpe(test_pnl))\n",
    "    \n",
    "# btc.usd.td train sharpe  0.5646013927742641 test sharpe  2.046342195041601\n",
    "# eth.usd.td train sharpe  1.7491880220775864 test sharpe  3.6443073286955667\n",
    "\n"
   ]
  },
  {
   "cell_type": "markdown",
   "metadata": {},
   "source": [
    "- The result is not good\n",
    "- Now we use another method of training\n",
    "- we train each product with separate models\n"
   ]
  },
  {
   "cell_type": "code",
   "execution_count": 554,
   "metadata": {},
   "outputs": [],
   "source": [
    "coef_list = dict([])\n",
    "each_signal = dict([])\n",
    "for product in product_list[0:2]:\n",
    "    train_mat = load(HEAD_PATH+\"/train test mat/\"+product+\".train.mat.pkl\")\n",
    "    result = forward_selected(train_mat[train_mat.columns[:-3]], \"ret.\"+str(period))\n",
    "    y_signal = \"ret.\"+str(period)\n",
    "    formula = \"train_mat['\" + y_signal+\"'] ~ \"\n",
    "    for signal in result[\"chosen.signals\"]:\n",
    "        formula = formula+\"+train_mat['\"+signal+\"']\"\n",
    "    formula+=\"+0\"\n",
    "    fit_lm = smf.ols(formula=formula, data=train_mat[train_mat.columns[:-3]]).fit()\n",
    "    coef = fit_lm.params.values\n",
    "    coef_list[product] = coef\n",
    "    each_signal[product] = result[\"chosen.signals\"]\n",
    "    "
   ]
  },
  {
   "cell_type": "code",
   "execution_count": 555,
   "metadata": {},
   "outputs": [],
   "source": [
    "save([coef_list, each_signal], HEAD_PATH+\"/crypto.each_coef.pkl\")"
   ]
  },
  {
   "cell_type": "code",
   "execution_count": 556,
   "metadata": {},
   "outputs": [],
   "source": [
    "coef_list, each_signal = load(HEAD_PATH+\"/crypto.each_coef.pkl\")"
   ]
  },
  {
   "cell_type": "code",
   "execution_count": 557,
   "metadata": {
    "scrolled": true
   },
   "outputs": [
    {
     "name": "stdout",
     "output_type": "stream",
     "text": [
      "btc.usd.td\n",
      "[-5.74295584e-04  6.36047724e-04  1.67886832e-03 -1.90140881e-01\n",
      "  3.43429045e-05  3.03565639e-05 -2.35630240e-04  1.38264990e-02\n",
      " -1.95325670e-02  1.34123164e-02 -3.62599941e-04  7.44652566e-04\n",
      " -3.78129586e-04  1.43072265e-05  4.92395566e-05  2.07035428e-01\n",
      " -2.73855929e-03  3.54803451e-03  8.78052451e-05  1.48018379e-03]\n",
      "eth.usd.td\n",
      "[ 2.80269020e-03 -2.08135589e-03  4.47440386e-03  3.95906140e-02\n",
      " -2.08421891e-02  1.03458936e-02 -3.95642391e-01 -7.71325367e-03\n",
      " -9.13646098e-03 -1.10652511e-04  4.25381403e-03  3.58551068e-01\n",
      " -2.98125206e-03  4.51857154e-03  8.17837856e-03  2.06182578e-03\n",
      " -3.55145241e-03  1.17747866e-03 -2.88072881e-03  1.16873015e-03]\n",
      "Wall time: 57.6 s\n"
     ]
    },
    {
     "data": {
      "text/plain": [
       "''"
      ]
     },
     "execution_count": 557,
     "metadata": {},
     "output_type": "execute_result"
    }
   ],
   "source": [
    "%%time\n",
    "strat = \"each.4096\"\n",
    "\n",
    "for product in product_list[0:2]:\n",
    "    os.makedirs(SAVE_PATH+\"/tmp pkl/\"+product+\"/\"+strat, exist_ok=True)\n",
    "    print(product)\n",
    "    coef = coef_list[product]\n",
    "    print(coef)\n",
    "    parLapply(CORE_NUM, all_dates, get_daily_pred, product=product, signal_list=each_signal[product], \n",
    "              coef=coef, strat=strat, HEAD_PATH=SAVE_PATH)\n",
    ";\n",
    "\n",
    "# btc.usd.td\n",
    "# [-5.74295584e-04  6.36047724e-04  1.67886832e-03 -1.90140881e-01\n",
    "#   3.43429045e-05  3.03565639e-05 -2.35630240e-04  1.38264990e-02\n",
    "#  -1.95325670e-02  1.34123164e-02 -3.62599941e-04  7.44652566e-04\n",
    "#  -3.78129586e-04  1.43072265e-05  4.92395566e-05  2.07035428e-01\n",
    "#  -2.73855929e-03  3.54803451e-03  8.78052451e-05  1.48018379e-03]\n",
    "# eth.usd.td\n",
    "# [ 2.80269020e-03 -2.08135589e-03  4.47440386e-03  3.95906140e-02\n",
    "#  -2.08421891e-02  1.03458936e-02 -3.95642391e-01 -7.71325367e-03\n",
    "#  -9.13646098e-03 -1.10652511e-04  4.25381403e-03  3.58551068e-01\n",
    "#  -2.98125206e-03  4.51857154e-03  8.17837856e-03  2.06182578e-03\n",
    "#  -3.55145241e-03  1.17747866e-03 -2.88072881e-03  1.16873015e-03]"
   ]
  },
  {
   "cell_type": "code",
   "execution_count": 558,
   "metadata": {},
   "outputs": [
    {
     "name": "stdout",
     "output_type": "stream",
     "text": [
      "Wall time: 19.1 s\n"
     ]
    }
   ],
   "source": [
    "%%time\n",
    "for product in product_list[0:2]:\n",
    "    par_get_all_signal(\"each.4096\", all_dates, product, 4096)\n",
    "# Wall time: 19.1 s"
   ]
  },
  {
   "cell_type": "code",
   "execution_count": 560,
   "metadata": {},
   "outputs": [
    {
     "name": "stdout",
     "output_type": "stream",
     "text": [
      "reverse=1\n",
      "reverse=1\n",
      "Wall time: 6min 42s\n"
     ]
    }
   ],
   "source": [
    "%%time\n",
    "for product in product_list[0:2]:\n",
    "    spread = product_info[product][\"spread\"]\n",
    "    tranct = product_info[product][\"tranct\"]\n",
    "    tranct_ratio = product_info[product][\"tranct.ratio\"] \n",
    "    evaluate_signal(\"each\", all_dates, product, 2/spread, 20, \n",
    "                    CORE_NUM, HEAD_PATH, SAVE_PATH,period=4096, split_str=\"2019-08\", tranct=tranct, \n",
    "                    max_spread=spread*1.1, tranct_ratio=tranct_ratio, atr_filter=20, save_path=\"signal result atr\",reverse=1)\n",
    "    \n",
    "# reverse=1\n",
    "# reverse=1\n",
    "# Wall time: 6min 42s\n",
    "\n",
    "\n"
   ]
  },
  {
   "cell_type": "code",
   "execution_count": 561,
   "metadata": {
    "scrolled": true
   },
   "outputs": [
    {
     "name": "stdout",
     "output_type": "stream",
     "text": [
      "btc.usd.td train sharpe  1.119966185536338 test sharpe  1.8860990214567743\n",
      "eth.usd.td train sharpe  1.342261369019265 test sharpe  0.9246114683154616\n"
     ]
    }
   ],
   "source": [
    "for product in product_list[0:2]:\n",
    "    spread = product_info[product][\"spread\"]\n",
    "    signal_stat = load(HEAD_PATH+\"/signal result atr/\"+product+\".\"+\"each.4096\"+\".trend.pkl\")\n",
    "    train_stat = signal_stat[\"train.stat\"]\n",
    "    good_strat = (train_stat[\"final.result\"][\"avg.pnl\"]>10*spread)\n",
    "    train_pnl = train_stat[\"daily.ret\"].loc[:, good_strat].sum(axis=1)/sum(good_strat)\n",
    "    test_stat = signal_stat[\"test.stat\"]\n",
    "    test_pnl = test_stat[\"daily.ret\"].loc[:, good_strat].sum(axis=1)/sum(good_strat)\n",
    "    print(product, \"train sharpe \", sharpe(train_pnl), \"test sharpe \", sharpe(test_pnl))\n",
    "\n",
    "    \n",
    "# btc.usd.td train sharpe  1.119966185536338 test sharpe  1.8860990214567743\n",
    "# eth.usd.td train sharpe  1.342261369019265 test sharpe  0.9246114683154616\n",
    "\n"
   ]
  },
  {
   "cell_type": "markdown",
   "metadata": {},
   "source": [
    "Conclusion\n",
    "\n",
    "- we can use a linear model for T,TF\n"
   ]
  },
  {
   "cell_type": "code",
   "execution_count": null,
   "metadata": {},
   "outputs": [],
   "source": []
  }
 ],
 "metadata": {
  "kernelspec": {
   "display_name": "Python 3",
   "language": "python",
   "name": "python3"
  },
  "language_info": {
   "codemirror_mode": {
    "name": "ipython",
    "version": 3
   },
   "file_extension": ".py",
   "mimetype": "text/x-python",
   "name": "python",
   "nbconvert_exporter": "python",
   "pygments_lexer": "ipython3",
   "version": "3.7.0"
  }
 },
 "nbformat": 4,
 "nbformat_minor": 2
}
