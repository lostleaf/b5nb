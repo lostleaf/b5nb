{
 "cells": [
  {
   "cell_type": "markdown",
   "metadata": {},
   "source": [
    "- last week we learnt the rolling model\n",
    "- this week we would learn ensemble methods and intraday trading"
   ]
  },
  {
   "cell_type": "code",
   "execution_count": 1,
   "metadata": {},
   "outputs": [
    {
     "data": {
      "text/plain": [
       "<module 'stats' from 'C:\\\\Users\\\\dell\\\\stats.py'>"
      ]
     },
     "execution_count": 1,
     "metadata": {},
     "output_type": "execute_result"
    }
   ],
   "source": [
    "from helper import *\n",
    "from stats import *\n",
    "from product_info import *\n",
    "from imp import reload  \n",
    "import helper\n",
    "import stats\n",
    "reload(helper)\n",
    "reload(stats)\n"
   ]
  },
  {
   "cell_type": "code",
   "execution_count": 2,
   "metadata": {},
   "outputs": [
    {
     "data": {
      "text/plain": [
       "16"
      ]
     },
     "execution_count": 2,
     "metadata": {},
     "output_type": "execute_result"
    }
   ],
   "source": [
    "CORE_NUM = int(os.environ['NUMBER_OF_PROCESSORS'])\n",
    "CORE_NUM"
   ]
  },
  {
   "cell_type": "code",
   "execution_count": 3,
   "metadata": {},
   "outputs": [],
   "source": [
    "product_list = [\"btc.usd.td\", \"eth.usd.td\", \"btc.usdt\", \"eth.usdt\"]"
   ]
  },
  {
   "cell_type": "code",
   "execution_count": 4,
   "metadata": {},
   "outputs": [],
   "source": [
    "period = 4096"
   ]
  },
  {
   "cell_type": "code",
   "execution_count": 5,
   "metadata": {},
   "outputs": [
    {
     "data": {
      "text/plain": [
       "1148"
      ]
     },
     "execution_count": 5,
     "metadata": {},
     "output_type": "execute_result"
    }
   ],
   "source": [
    "all_dates = os.listdir(DATA_PATH + product_list[0])\n",
    "all_dates.sort()\n",
    "all_dates = np.array(all_dates)\n",
    "n_days = len(all_dates)\n",
    "n_days\n",
    "## 1148"
   ]
  },
  {
   "cell_type": "code",
   "execution_count": 6,
   "metadata": {},
   "outputs": [],
   "source": [
    "import dask\n",
    "from dask import compute, delayed\n",
    "import sklearn.preprocessing"
   ]
  },
  {
   "cell_type": "code",
   "execution_count": 7,
   "metadata": {},
   "outputs": [
    {
     "name": "stdout",
     "output_type": "stream",
     "text": [
      "122\n",
      "180\n"
     ]
    }
   ],
   "source": [
    "SAVE_PATH = \"e:/intern\"\n",
    "all_dates_x = os.listdir(DATA_PATH + product_list[0])\n",
    "all_dates_y = os.listdir(DATA_PATH + product_list[1])\n",
    "all_dates = np.array(list(set(all_dates_x) & set(all_dates_y)))\n",
    "all_dates.sort()\n",
    "train_sample = all_dates<\"2019-08\"\n",
    "test_sample = all_dates>\"2019-08\"\n",
    "date_str = [n[0:10] for n in all_dates]\n",
    "format_dates = np.array([pd.to_datetime(d) for d in date_str])\n",
    "print(sum(train_sample))\n",
    "print(sum(test_sample))\n",
    "## 122\n",
    "## 180"
   ]
  },
  {
   "cell_type": "code",
   "execution_count": 8,
   "metadata": {},
   "outputs": [
    {
     "data": {
      "text/plain": [
       "88"
      ]
     },
     "execution_count": 8,
     "metadata": {},
     "output_type": "execute_result"
    }
   ],
   "source": [
    "new_date = \"2020-05-23\"\n",
    "out_sample = all_dates>=new_date\n",
    "date_str = [n[0:10] for n in all_dates]\n",
    "format_dates = np.array([pd.to_datetime(d) for d in date_str])\n",
    "sum(out_sample)\n",
    "## 88"
   ]
  },
  {
   "cell_type": "code",
   "execution_count": 9,
   "metadata": {},
   "outputs": [],
   "source": [
    "def add_min_max(file, period_list):\n",
    "    data = load(file)\n",
    "    data = data.reset_index(drop=True)\n",
    "    for period in period_list:\n",
    "        data[\"min.\"+str(period)] = data[\"wpr\"].rolling(period).min()\n",
    "        data.loc[:period-1, (\"min.\"+str(period))] = data[\"wpr\"][0]\n",
    "        \n",
    "        data[\"max.\"+str(period)] = data[\"wpr\"].rolling(period).max()\n",
    "        data.loc[:period-1, (\"max.\"+str(period))] = data[\"wpr\"][0]\n",
    "    save(data, file)"
   ]
  },
  {
   "cell_type": "code",
   "execution_count": 10,
   "metadata": {},
   "outputs": [],
   "source": [
    "new_dates = all_dates[all_dates>=new_date]\n",
    "new_dates.sort()"
   ]
  },
  {
   "cell_type": "code",
   "execution_count": 23,
   "metadata": {},
   "outputs": [
    {
     "name": "stdout",
     "output_type": "stream",
     "text": [
      "Wall time: 1min 12s\n"
     ]
    }
   ],
   "source": [
    "%%time\n",
    "for product in product_list[0:2]:\n",
    "    file_list = list(map(lambda x: DATA_PATH+product+\"/\"+x, new_dates))\n",
    "    parLapply(CORE_NUM, file_list, add_min_max, period_list=[1024, 2048, 4096])## Wall time: 1min 35s\n"
   ]
  },
  {
   "cell_type": "code",
   "execution_count": 11,
   "metadata": {},
   "outputs": [],
   "source": [
    "import dask\n",
    "from dask import compute, delayed"
   ]
  },
  {
   "cell_type": "code",
   "execution_count": 12,
   "metadata": {},
   "outputs": [],
   "source": [
    "os.makedirs(HEAD_PATH+\"/all signal\", exist_ok=True)\n",
    "dire_signal_list = [\"nr\", \"dbook\", \"range.pos\", \"price.osci\", \"ma.dif.10\", \"kdj.k\", \"kdj.j\"]\n",
    "range_signal_list = [\"\", \"range\", \"std\", \"trend.index\"]\n",
    "all_signal_list = np.array([])\n",
    "for range_signal in range_signal_list:\n",
    "    for dire_signal in dire_signal_list:\n",
    "        if len(range_signal)==0:\n",
    "            signal_name = dire_signal\n",
    "        else:\n",
    "            signal_name = dire_signal+\".\"+range_signal\n",
    "        all_signal_list = np.append(all_signal_list,signal_name)\n",
    "signal_list = [signal+\".4096\" for signal in all_signal_list]\n",
    "np.append(signal_list, [\"ret.4096\", \"ret.4096.001\", \"ret.4096.002\"])\n",
    "n_signal = len(signal_list)"
   ]
  },
  {
   "cell_type": "code",
   "execution_count": 13,
   "metadata": {},
   "outputs": [],
   "source": [
    "SAVE_PATH = \"e:/intern\""
   ]
  },
  {
   "cell_type": "code",
   "execution_count": 14,
   "metadata": {},
   "outputs": [],
   "source": [
    "def zero_divide(x, y):\n",
    "    with warnings.catch_warnings():\n",
    "        warnings.simplefilter(\"ignore\")\n",
    "        res = np.divide(x,y)\n",
    "    if hasattr(y, \"__len__\"):\n",
    "        res[y == 0] = 0\n",
    "    elif y == 0:\n",
    "        res = 0\n",
    "        \n",
    "    return res\n",
    "\n",
    "from collections import OrderedDict\n",
    "class foctor_nr_period(factor_template):\n",
    "    factor_name = \"nr.period\"\n",
    "    \n",
    "    params = OrderedDict([\n",
    "        (\"period\", np.power(2, range(10,13)))\n",
    "    ])\n",
    "    \n",
    "    def formula(self, data, period):\n",
    "        return zero_divide(ewma(data[\"ret\"], period, adjust=True), ewma(data[\"ret\"].abs(), period, adjust=True)).values\n",
    "\n",
    "from collections import OrderedDict\n",
    "class foctor_dbook_period(factor_template):\n",
    "    factor_name = \"dbook.period\"\n",
    "    \n",
    "    params = OrderedDict([\n",
    "        (\"period\", np.power(2, range(10,13)))\n",
    "    ])\n",
    "    \n",
    "    def formula(self, data, period):\n",
    "        diff_bid_qty = data[\"bid.qty\"] - data[\"bid.qty\"].shift()\n",
    "        diff_bid_qty[0] = 0\n",
    "        diff_ask_qty = data[\"ask.qty\"] - data[\"ask.qty\"].shift()\n",
    "        diff_ask_qty[0] = 0\n",
    "        return ewma(np.sign(diff_bid_qty)-np.sign(diff_ask_qty), period).values\n",
    "    \n",
    "class foctor_range_pos_period(factor_template):\n",
    "    factor_name = \"range.pos.period\"\n",
    "    \n",
    "    params = OrderedDict([\n",
    "        (\"period\", np.power(2, range(10,13)))\n",
    "    ])\n",
    "    \n",
    "    def formula(self, data, period):\n",
    "        return get_range_pos(data[\"wpr\"], data[\"min.\"+str(period)], data[\"max.\"+str(period)], period).values\n",
    "    \n",
    "from collections import OrderedDict\n",
    "class foctor_price_osci_period(factor_template):\n",
    "    factor_name = \"price.osci.period\"\n",
    "    \n",
    "    params = OrderedDict([\n",
    "        (\"period\", np.power(2, range(10,13)))\n",
    "    ])\n",
    "    \n",
    "    def formula(self, data, period):\n",
    "        return zero_divide(ewma(data[\"wpr\"], round(period/20), adjust=True)-ewma(data[\"wpr\"], period, adjust=True), data[\"max.\"+str(period)]-data[\"min.\"+str(period)]).values\n",
    "\n",
    "from collections import OrderedDict\n",
    "class foctor_ma_diff_period(factor_template):\n",
    "    factor_name = \"ma.dif.10.period\"\n",
    "    \n",
    "    params = OrderedDict([\n",
    "        (\"period\", np.power(2, range(10,13)))\n",
    "    ])\n",
    "    \n",
    "    def formula(self, data, period):\n",
    "        return zero_divide(ewma(data[\"wpr\"], round(period/10), adjust=True) - ewma(data[\"wpr\"], period, adjust=True), data[\"wpr\"]).values\n",
    "\n",
    "class foctor_atr_period(factor_template):\n",
    "    factor_name = \"atr.period\"\n",
    "    \n",
    "    params = OrderedDict([\n",
    "        (\"period\", np.power(2, range(10,13)))\n",
    "    ])\n",
    "    \n",
    "    def formula(self, data, period):\n",
    "        signal = (data[\"max.\"+str(period)]-data[\"min.\"+str(period)])\n",
    "        return signal.values\n",
    "\n",
    "class foctor_kdj_k_period(factor_template):\n",
    "    factor_name = \"kdj.k.period\"\n",
    "    \n",
    "    params = OrderedDict([\n",
    "        (\"period\", np.power(2, range(10,13)))\n",
    "    ])\n",
    "    \n",
    "    def formula(self, data, period):\n",
    "        return ewma((zero_divide(data[\"wpr\"]-data[\"min.\"+str(period)], data[\"max.\"+str(period)]-data[\"min.\"+str(period)])-0.5)*2, round(period/5), adjust=True).values\n",
    "\n",
    "class foctor_kdj_j_period(factor_template):\n",
    "    factor_name = \"kdj.j.period\"\n",
    "    \n",
    "    params = OrderedDict([\n",
    "        (\"period\", np.power(2, range(10,13)))\n",
    "    ])\n",
    "    \n",
    "    def formula(self, data, period):\n",
    "        return ewma(ewma((zero_divide(data[\"wpr\"]-data[\"min.\"+str(period)], data[\"max.\"+str(period)]-data[\"min.\"+str(period)])-0.5)*2, round(period/5), adjust=True), round(period/5), adjust=True).values\n",
    "\n",
    "from collections import OrderedDict\n",
    "class foctor_std_period(factor_template):\n",
    "    factor_name = \"std.period\"\n",
    "    \n",
    "    params = OrderedDict([\n",
    "        (\"period\", np.power(2, range(10,13)))\n",
    "    ])\n",
    "    \n",
    "    def formula(self, data, period):\n",
    "        return np.sqrt(fast_roll_var(data[\"wpr\"], period))\n",
    "\n",
    "\n",
    "from collections import OrderedDict\n",
    "class foctor_range_period(factor_template):\n",
    "    factor_name = \"range.period\"\n",
    "    \n",
    "    params = OrderedDict([\n",
    "        (\"period\", np.power(2, range(10,13)))\n",
    "    ])\n",
    "    \n",
    "    def formula(self, data, period):\n",
    "        return data[\"max.\"+str(period)]-data[\"min.\"+str(period)]\n",
    "    \n",
    "from collections import OrderedDict\n",
    "class foctor_volume_open_ratio_period(factor_template):\n",
    "    factor_name = \"volume.open.ratio.period\"\n",
    "    \n",
    "    params = OrderedDict([\n",
    "        (\"period\", np.power(2, range(10,13)))\n",
    "    ])\n",
    "    \n",
    "    def formula(self, data, period):\n",
    "        return zero_divide(cum(data[\"qty\"],period), cum(data[\"cum.open.int\"]/period,period))\n",
    "\n",
    "from collections import OrderedDict\n",
    "class foctor_trend_index_period(factor_template):\n",
    "    factor_name = \"trend.index.period\"\n",
    "    \n",
    "    params = OrderedDict([\n",
    "        (\"period\", np.power(2, range(10,13)))\n",
    "    ])\n",
    "    \n",
    "    def formula(self, data, period):\n",
    "        aa = zero_divide(abs(data[\"wpr\"]-data[\"wpr\"].shift(period)), data[\"max.\"+str(period)]-data[\"min.\"+str(period)])\n",
    "        aa[0:period]=0\n",
    "        return aa\n",
    "\n",
    "def get_atr(file, product, period_list, spread, SAVE_PATH=\"e:/intern\"):\n",
    "    data = load(file)\n",
    "    for period in period_list:\n",
    "        S = (data[\"max.\"+str(period)]-data[\"min.\"+str(period)])/spread\n",
    "        save(S, SAVE_PATH+\"/tmp pkl/\"+product+\"/atr.\"+str(period)+\"/\" + file[-14:])\n",
    "\n",
    "class foctor_atr_period(factor_template):\n",
    "    factor_name = \"atr.period\"\n",
    "    \n",
    "    params = OrderedDict([\n",
    "        (\"period\", np.power(2, range(10,13)))\n",
    "    ])\n",
    "    \n",
    "    def formula(self, data, period):\n",
    "        signal = (data[\"max.\"+str(period)]-data[\"min.\"+str(period)])\n",
    "        return signal.values"
   ]
  },
  {
   "cell_type": "markdown",
   "metadata": {},
   "source": [
    "- Now we generate all the signals one by one for the new data"
   ]
  },
  {
   "cell_type": "code",
   "execution_count": 15,
   "metadata": {},
   "outputs": [],
   "source": [
    "x3 = foctor_nr_period()\n",
    "x4 = foctor_dbook_period()\n",
    "x5 = foctor_range_pos_period()\n",
    "x6 = foctor_price_osci_period()\n",
    "x7 = foctor_ma_diff_period()\n",
    "x8 = foctor_kdj_j_period()\n",
    "x9 = foctor_kdj_k_period()\n",
    "x10 = foctor_range_period()\n",
    "x11 = foctor_std_period()\n",
    "x13 = foctor_trend_index_period()"
   ]
  },
  {
   "cell_type": "code",
   "execution_count": 16,
   "metadata": {},
   "outputs": [
    {
     "data": {
      "text/plain": [
       "88"
      ]
     },
     "execution_count": 16,
     "metadata": {},
     "output_type": "execute_result"
    }
   ],
   "source": [
    "new_dates = all_dates[all_dates>=new_date]\n",
    "new_dates.sort()\n",
    "len(new_dates)"
   ]
  },
  {
   "cell_type": "code",
   "execution_count": 17,
   "metadata": {},
   "outputs": [],
   "source": [
    "import os\n",
    "SAVE_PATH = \"e:/intern\"\n",
    "for product in product_list[0:2]:\n",
    "    os.makedirs(SAVE_PATH + \"/tmp pkl/\" + product, exist_ok=True)"
   ]
  },
  {
   "cell_type": "code",
   "execution_count": 35,
   "metadata": {},
   "outputs": [
    {
     "name": "stdout",
     "output_type": "stream",
     "text": [
      "e:/intern/tmp pkl/btc.usd.td/nr.1024\n",
      "e:/intern/tmp pkl/btc.usd.td/nr.2048\n",
      "e:/intern/tmp pkl/btc.usd.td/nr.4096\n",
      "e:/intern/tmp pkl/btc.usd.td/dbook.1024\n",
      "e:/intern/tmp pkl/btc.usd.td/dbook.2048\n",
      "e:/intern/tmp pkl/btc.usd.td/dbook.4096\n",
      "e:/intern/tmp pkl/btc.usd.td/range.pos.1024\n",
      "e:/intern/tmp pkl/btc.usd.td/range.pos.2048\n",
      "e:/intern/tmp pkl/btc.usd.td/range.pos.4096\n",
      "e:/intern/tmp pkl/btc.usd.td/price.osci.1024\n",
      "e:/intern/tmp pkl/btc.usd.td/price.osci.2048\n",
      "e:/intern/tmp pkl/btc.usd.td/price.osci.4096\n",
      "e:/intern/tmp pkl/btc.usd.td/ma.dif.10.1024\n",
      "e:/intern/tmp pkl/btc.usd.td/ma.dif.10.2048\n",
      "e:/intern/tmp pkl/btc.usd.td/ma.dif.10.4096\n",
      "e:/intern/tmp pkl/btc.usd.td/kdj.j.1024\n",
      "e:/intern/tmp pkl/btc.usd.td/kdj.j.2048\n",
      "e:/intern/tmp pkl/btc.usd.td/kdj.j.4096\n",
      "e:/intern/tmp pkl/btc.usd.td/kdj.k.1024\n",
      "e:/intern/tmp pkl/btc.usd.td/kdj.k.2048\n",
      "e:/intern/tmp pkl/btc.usd.td/kdj.k.4096\n",
      "e:/intern/tmp pkl/btc.usd.td/range.1024\n",
      "e:/intern/tmp pkl/btc.usd.td/range.2048\n",
      "e:/intern/tmp pkl/btc.usd.td/range.4096\n",
      "e:/intern/tmp pkl/btc.usd.td/std.1024\n",
      "e:/intern/tmp pkl/btc.usd.td/std.2048\n",
      "e:/intern/tmp pkl/btc.usd.td/std.4096\n",
      "e:/intern/tmp pkl/btc.usd.td/trend.index.1024\n",
      "e:/intern/tmp pkl/btc.usd.td/trend.index.2048\n",
      "e:/intern/tmp pkl/btc.usd.td/trend.index.4096\n",
      "e:/intern/tmp pkl/eth.usd.td/nr.1024\n",
      "e:/intern/tmp pkl/eth.usd.td/nr.2048\n",
      "e:/intern/tmp pkl/eth.usd.td/nr.4096\n",
      "e:/intern/tmp pkl/eth.usd.td/dbook.1024\n",
      "e:/intern/tmp pkl/eth.usd.td/dbook.2048\n",
      "e:/intern/tmp pkl/eth.usd.td/dbook.4096\n",
      "e:/intern/tmp pkl/eth.usd.td/range.pos.1024\n",
      "e:/intern/tmp pkl/eth.usd.td/range.pos.2048\n",
      "e:/intern/tmp pkl/eth.usd.td/range.pos.4096\n",
      "e:/intern/tmp pkl/eth.usd.td/price.osci.1024\n",
      "e:/intern/tmp pkl/eth.usd.td/price.osci.2048\n",
      "e:/intern/tmp pkl/eth.usd.td/price.osci.4096\n",
      "e:/intern/tmp pkl/eth.usd.td/ma.dif.10.1024\n",
      "e:/intern/tmp pkl/eth.usd.td/ma.dif.10.2048\n",
      "e:/intern/tmp pkl/eth.usd.td/ma.dif.10.4096\n",
      "e:/intern/tmp pkl/eth.usd.td/kdj.j.1024\n",
      "e:/intern/tmp pkl/eth.usd.td/kdj.j.2048\n",
      "e:/intern/tmp pkl/eth.usd.td/kdj.j.4096\n",
      "e:/intern/tmp pkl/eth.usd.td/kdj.k.1024\n",
      "e:/intern/tmp pkl/eth.usd.td/kdj.k.2048\n",
      "e:/intern/tmp pkl/eth.usd.td/kdj.k.4096\n",
      "e:/intern/tmp pkl/eth.usd.td/range.1024\n",
      "e:/intern/tmp pkl/eth.usd.td/range.2048\n",
      "e:/intern/tmp pkl/eth.usd.td/range.4096\n",
      "e:/intern/tmp pkl/eth.usd.td/std.1024\n",
      "e:/intern/tmp pkl/eth.usd.td/std.2048\n",
      "e:/intern/tmp pkl/eth.usd.td/std.4096\n",
      "e:/intern/tmp pkl/eth.usd.td/trend.index.1024\n",
      "e:/intern/tmp pkl/eth.usd.td/trend.index.2048\n",
      "e:/intern/tmp pkl/eth.usd.td/trend.index.4096\n"
     ]
    }
   ],
   "source": [
    "all_signal_list = [x3, x4, x5, x6, x7, x8, x9, x10, x11,x13]\n",
    "for product in product_list[0:2]:\n",
    "    for xx in all_signal_list:\n",
    "        create_signal_path(xx, product, SAVE_PATH)"
   ]
  },
  {
   "cell_type": "code",
   "execution_count": 36,
   "metadata": {},
   "outputs": [
    {
     "name": "stdout",
     "output_type": "stream",
     "text": [
      "signal  0 btc.usd.td\n",
      "signal  0 eth.usd.td\n",
      "signal  1 btc.usd.td\n",
      "signal  1 eth.usd.td\n",
      "signal  2 btc.usd.td\n",
      "signal  2 eth.usd.td\n",
      "signal  3 btc.usd.td\n",
      "signal  3 eth.usd.td\n",
      "signal  4 btc.usd.td\n",
      "signal  4 eth.usd.td\n",
      "signal  5 btc.usd.td\n",
      "signal  5 eth.usd.td\n",
      "signal  6 btc.usd.td\n",
      "signal  6 eth.usd.td\n",
      "signal  7 btc.usd.td\n",
      "signal  7 eth.usd.td\n",
      "signal  8 btc.usd.td\n",
      "signal  8 eth.usd.td\n",
      "signal  9 btc.usd.td\n",
      "signal  9 eth.usd.td\n",
      "Wall time: 7min 29s\n"
     ]
    }
   ],
   "source": [
    "%%time\n",
    "i = 0\n",
    "all_signal_list = [x3, x4, x5, x6, x7, x8, x9, x10, x11, x13]\n",
    "for xx in all_signal_list:\n",
    "    for product in product_list[0:2]:\n",
    "        print(\"signal \",i,product)\n",
    "        file_list = list(map(lambda x: DATA_PATH+product+\"/\"+x, new_dates))\n",
    "        parLapply(CORE_NUM, file_list, build_composite_signal,signal_list=xx, product=product, HEAD_PATH=SAVE_PATH,n=14)\n",
    "    i = i + 1\n"
   ]
  },
  {
   "cell_type": "code",
   "execution_count": 37,
   "metadata": {},
   "outputs": [],
   "source": [
    "dire_signal_list = [\"nr\", \"dbook\", \"range.pos\", \"price.osci\", \"ma.dif.10\", \"kdj.k\", \"kdj.j\"]\n",
    "range_signal_list = [\"range\", \"std\", \"trend.index\"]\n",
    "period_list = np.power(2, range(10,13))"
   ]
  },
  {
   "cell_type": "code",
   "execution_count": 41,
   "metadata": {},
   "outputs": [],
   "source": [
    "def construct_composite_signal(dire_signal, range_signal, period_list, date_list, product_list, HEAD_PATH):\n",
    "    from collections import OrderedDict\n",
    "    class foctor_xx_period(factor_template):\n",
    "        factor_name = dire_signal+\".\"+range_signal+\".period\"\n",
    "        params = OrderedDict([\n",
    "            (\"period\", period_list)\n",
    "        ])\n",
    "        def formula(self, data, period):\n",
    "            return (data[dire_signal+\".\"+str(period)]*data[range_signal+\".\"+str(period)]).values\n",
    "    xx = foctor_xx_period()\n",
    "    for product in product_list:\n",
    "        create_signal_path(xx, product, HEAD_PATH)\n",
    "        file_list = [DATA_PATH+product+\"/\"+date for date in date_list]\n",
    "        parLapply(CORE_NUM, file_list, build_composite_signal,signal_list=xx, product=product, HEAD_PATH=HEAD_PATH, n=14)"
   ]
  },
  {
   "cell_type": "code",
   "execution_count": 42,
   "metadata": {
    "scrolled": false
   },
   "outputs": [
    {
     "name": "stdout",
     "output_type": "stream",
     "text": [
      "e:/intern/tmp pkl/btc.usd.td/nr.range.1024\n",
      "e:/intern/tmp pkl/btc.usd.td/nr.range.2048\n",
      "e:/intern/tmp pkl/btc.usd.td/nr.range.4096\n",
      "e:/intern/tmp pkl/eth.usd.td/nr.range.1024\n",
      "e:/intern/tmp pkl/eth.usd.td/nr.range.2048\n",
      "e:/intern/tmp pkl/eth.usd.td/nr.range.4096\n",
      "e:/intern/tmp pkl/btc.usd.td/dbook.range.1024\n",
      "e:/intern/tmp pkl/btc.usd.td/dbook.range.2048\n",
      "e:/intern/tmp pkl/btc.usd.td/dbook.range.4096\n",
      "e:/intern/tmp pkl/eth.usd.td/dbook.range.1024\n",
      "e:/intern/tmp pkl/eth.usd.td/dbook.range.2048\n",
      "e:/intern/tmp pkl/eth.usd.td/dbook.range.4096\n",
      "e:/intern/tmp pkl/btc.usd.td/range.pos.range.1024\n",
      "e:/intern/tmp pkl/btc.usd.td/range.pos.range.2048\n",
      "e:/intern/tmp pkl/btc.usd.td/range.pos.range.4096\n",
      "e:/intern/tmp pkl/eth.usd.td/range.pos.range.1024\n",
      "e:/intern/tmp pkl/eth.usd.td/range.pos.range.2048\n",
      "e:/intern/tmp pkl/eth.usd.td/range.pos.range.4096\n",
      "e:/intern/tmp pkl/btc.usd.td/price.osci.range.1024\n",
      "e:/intern/tmp pkl/btc.usd.td/price.osci.range.2048\n",
      "e:/intern/tmp pkl/btc.usd.td/price.osci.range.4096\n",
      "e:/intern/tmp pkl/eth.usd.td/price.osci.range.1024\n",
      "e:/intern/tmp pkl/eth.usd.td/price.osci.range.2048\n",
      "e:/intern/tmp pkl/eth.usd.td/price.osci.range.4096\n",
      "e:/intern/tmp pkl/btc.usd.td/ma.dif.10.range.1024\n",
      "e:/intern/tmp pkl/btc.usd.td/ma.dif.10.range.2048\n",
      "e:/intern/tmp pkl/btc.usd.td/ma.dif.10.range.4096\n",
      "e:/intern/tmp pkl/eth.usd.td/ma.dif.10.range.1024\n",
      "e:/intern/tmp pkl/eth.usd.td/ma.dif.10.range.2048\n",
      "e:/intern/tmp pkl/eth.usd.td/ma.dif.10.range.4096\n",
      "e:/intern/tmp pkl/btc.usd.td/kdj.k.range.1024\n",
      "e:/intern/tmp pkl/btc.usd.td/kdj.k.range.2048\n",
      "e:/intern/tmp pkl/btc.usd.td/kdj.k.range.4096\n",
      "e:/intern/tmp pkl/eth.usd.td/kdj.k.range.1024\n",
      "e:/intern/tmp pkl/eth.usd.td/kdj.k.range.2048\n",
      "e:/intern/tmp pkl/eth.usd.td/kdj.k.range.4096\n",
      "e:/intern/tmp pkl/btc.usd.td/kdj.j.range.1024\n",
      "e:/intern/tmp pkl/btc.usd.td/kdj.j.range.2048\n",
      "e:/intern/tmp pkl/btc.usd.td/kdj.j.range.4096\n",
      "e:/intern/tmp pkl/eth.usd.td/kdj.j.range.1024\n",
      "e:/intern/tmp pkl/eth.usd.td/kdj.j.range.2048\n",
      "e:/intern/tmp pkl/eth.usd.td/kdj.j.range.4096\n",
      "e:/intern/tmp pkl/btc.usd.td/nr.std.1024\n",
      "e:/intern/tmp pkl/btc.usd.td/nr.std.2048\n",
      "e:/intern/tmp pkl/btc.usd.td/nr.std.4096\n",
      "e:/intern/tmp pkl/eth.usd.td/nr.std.1024\n",
      "e:/intern/tmp pkl/eth.usd.td/nr.std.2048\n",
      "e:/intern/tmp pkl/eth.usd.td/nr.std.4096\n",
      "e:/intern/tmp pkl/btc.usd.td/dbook.std.1024\n",
      "e:/intern/tmp pkl/btc.usd.td/dbook.std.2048\n",
      "e:/intern/tmp pkl/btc.usd.td/dbook.std.4096\n",
      "e:/intern/tmp pkl/eth.usd.td/dbook.std.1024\n",
      "e:/intern/tmp pkl/eth.usd.td/dbook.std.2048\n",
      "e:/intern/tmp pkl/eth.usd.td/dbook.std.4096\n",
      "e:/intern/tmp pkl/btc.usd.td/range.pos.std.1024\n",
      "e:/intern/tmp pkl/btc.usd.td/range.pos.std.2048\n",
      "e:/intern/tmp pkl/btc.usd.td/range.pos.std.4096\n",
      "e:/intern/tmp pkl/eth.usd.td/range.pos.std.1024\n",
      "e:/intern/tmp pkl/eth.usd.td/range.pos.std.2048\n",
      "e:/intern/tmp pkl/eth.usd.td/range.pos.std.4096\n",
      "e:/intern/tmp pkl/btc.usd.td/price.osci.std.1024\n",
      "e:/intern/tmp pkl/btc.usd.td/price.osci.std.2048\n",
      "e:/intern/tmp pkl/btc.usd.td/price.osci.std.4096\n",
      "e:/intern/tmp pkl/eth.usd.td/price.osci.std.1024\n",
      "e:/intern/tmp pkl/eth.usd.td/price.osci.std.2048\n",
      "e:/intern/tmp pkl/eth.usd.td/price.osci.std.4096\n",
      "e:/intern/tmp pkl/btc.usd.td/ma.dif.10.std.1024\n",
      "e:/intern/tmp pkl/btc.usd.td/ma.dif.10.std.2048\n",
      "e:/intern/tmp pkl/btc.usd.td/ma.dif.10.std.4096\n",
      "e:/intern/tmp pkl/eth.usd.td/ma.dif.10.std.1024\n",
      "e:/intern/tmp pkl/eth.usd.td/ma.dif.10.std.2048\n",
      "e:/intern/tmp pkl/eth.usd.td/ma.dif.10.std.4096\n",
      "e:/intern/tmp pkl/btc.usd.td/kdj.k.std.1024\n",
      "e:/intern/tmp pkl/btc.usd.td/kdj.k.std.2048\n",
      "e:/intern/tmp pkl/btc.usd.td/kdj.k.std.4096\n",
      "e:/intern/tmp pkl/eth.usd.td/kdj.k.std.1024\n",
      "e:/intern/tmp pkl/eth.usd.td/kdj.k.std.2048\n",
      "e:/intern/tmp pkl/eth.usd.td/kdj.k.std.4096\n",
      "e:/intern/tmp pkl/btc.usd.td/kdj.j.std.1024\n",
      "e:/intern/tmp pkl/btc.usd.td/kdj.j.std.2048\n",
      "e:/intern/tmp pkl/btc.usd.td/kdj.j.std.4096\n",
      "e:/intern/tmp pkl/eth.usd.td/kdj.j.std.1024\n",
      "e:/intern/tmp pkl/eth.usd.td/kdj.j.std.2048\n",
      "e:/intern/tmp pkl/eth.usd.td/kdj.j.std.4096\n",
      "e:/intern/tmp pkl/btc.usd.td/nr.trend.index.1024\n",
      "e:/intern/tmp pkl/btc.usd.td/nr.trend.index.2048\n",
      "e:/intern/tmp pkl/btc.usd.td/nr.trend.index.4096\n",
      "e:/intern/tmp pkl/eth.usd.td/nr.trend.index.1024\n",
      "e:/intern/tmp pkl/eth.usd.td/nr.trend.index.2048\n",
      "e:/intern/tmp pkl/eth.usd.td/nr.trend.index.4096\n",
      "e:/intern/tmp pkl/btc.usd.td/dbook.trend.index.1024\n",
      "e:/intern/tmp pkl/btc.usd.td/dbook.trend.index.2048\n",
      "e:/intern/tmp pkl/btc.usd.td/dbook.trend.index.4096\n",
      "e:/intern/tmp pkl/eth.usd.td/dbook.trend.index.1024\n",
      "e:/intern/tmp pkl/eth.usd.td/dbook.trend.index.2048\n",
      "e:/intern/tmp pkl/eth.usd.td/dbook.trend.index.4096\n",
      "e:/intern/tmp pkl/btc.usd.td/range.pos.trend.index.1024\n",
      "e:/intern/tmp pkl/btc.usd.td/range.pos.trend.index.2048\n",
      "e:/intern/tmp pkl/btc.usd.td/range.pos.trend.index.4096\n",
      "e:/intern/tmp pkl/eth.usd.td/range.pos.trend.index.1024\n",
      "e:/intern/tmp pkl/eth.usd.td/range.pos.trend.index.2048\n",
      "e:/intern/tmp pkl/eth.usd.td/range.pos.trend.index.4096\n",
      "e:/intern/tmp pkl/btc.usd.td/price.osci.trend.index.1024\n",
      "e:/intern/tmp pkl/btc.usd.td/price.osci.trend.index.2048\n",
      "e:/intern/tmp pkl/btc.usd.td/price.osci.trend.index.4096\n",
      "e:/intern/tmp pkl/eth.usd.td/price.osci.trend.index.1024\n",
      "e:/intern/tmp pkl/eth.usd.td/price.osci.trend.index.2048\n",
      "e:/intern/tmp pkl/eth.usd.td/price.osci.trend.index.4096\n",
      "e:/intern/tmp pkl/btc.usd.td/ma.dif.10.trend.index.1024\n",
      "e:/intern/tmp pkl/btc.usd.td/ma.dif.10.trend.index.2048\n",
      "e:/intern/tmp pkl/btc.usd.td/ma.dif.10.trend.index.4096\n",
      "e:/intern/tmp pkl/eth.usd.td/ma.dif.10.trend.index.1024\n",
      "e:/intern/tmp pkl/eth.usd.td/ma.dif.10.trend.index.2048\n",
      "e:/intern/tmp pkl/eth.usd.td/ma.dif.10.trend.index.4096\n",
      "e:/intern/tmp pkl/btc.usd.td/kdj.k.trend.index.1024\n",
      "e:/intern/tmp pkl/btc.usd.td/kdj.k.trend.index.2048\n",
      "e:/intern/tmp pkl/btc.usd.td/kdj.k.trend.index.4096\n",
      "e:/intern/tmp pkl/eth.usd.td/kdj.k.trend.index.1024\n",
      "e:/intern/tmp pkl/eth.usd.td/kdj.k.trend.index.2048\n",
      "e:/intern/tmp pkl/eth.usd.td/kdj.k.trend.index.4096\n",
      "e:/intern/tmp pkl/btc.usd.td/kdj.j.trend.index.1024\n",
      "e:/intern/tmp pkl/btc.usd.td/kdj.j.trend.index.2048\n",
      "e:/intern/tmp pkl/btc.usd.td/kdj.j.trend.index.4096\n",
      "e:/intern/tmp pkl/eth.usd.td/kdj.j.trend.index.1024\n",
      "e:/intern/tmp pkl/eth.usd.td/kdj.j.trend.index.2048\n",
      "e:/intern/tmp pkl/eth.usd.td/kdj.j.trend.index.4096\n",
      "Wall time: 14min 15s\n"
     ]
    }
   ],
   "source": [
    "%%time\n",
    "for range_signal in range_signal_list:\n",
    "    for dire_signal in dire_signal_list:\n",
    "        construct_composite_signal(dire_signal, range_signal, period_list, new_dates, product_list[:2], SAVE_PATH)\n",
    "\n",
    "## Wall time: 14min 15s"
   ]
  },
  {
   "cell_type": "code",
   "execution_count": 72,
   "metadata": {},
   "outputs": [
    {
     "name": "stdout",
     "output_type": "stream",
     "text": [
      "Wall time: 25.5 s\n"
     ]
    }
   ],
   "source": [
    "%%time\n",
    "for product in product_list[0:2]:\n",
    "    spread = product_info[product][\"spread\"]\n",
    "    file_list = list(map(lambda x: DATA_PATH+product+\"/\"+x, new_dates))\n",
    "    #parLapply(CORE_NUM, file_list, get_atr, product=product,period_list=[4096], spread=spread) \n",
    "    parLapply(CORE_NUM, file_list, get_atr, product=product,period_list=np.power(2, range(10,13)), spread=spread) \n"
   ]
  },
  {
   "cell_type": "code",
   "execution_count": 64,
   "metadata": {},
   "outputs": [],
   "source": [
    "def count_daily_num(x, period):\n",
    "    data = load(x)\n",
    "    return np.floor(sum(data[\"good\"])/period)"
   ]
  },
  {
   "cell_type": "code",
   "execution_count": 112,
   "metadata": {},
   "outputs": [
    {
     "name": "stdout",
     "output_type": "stream",
     "text": [
      "Wall time: 1min 8s\n"
     ]
    }
   ],
   "source": [
    "%%time\n",
    "for product in product_list[0:2]:\n",
    "    file_list = list(map(lambda x: DATA_PATH+product+\"/\"+x, all_dates))\n",
    "    daily_num = pd.Series(parLapply(CORE_NUM, file_list, count_daily_num, period=period))\n",
    "    save(daily_num, HEAD_PATH+\"/daily num/\"+product+\".pkl\")\n",
    "\n",
    "#Wall time: 1min 8s\n"
   ]
  },
  {
   "cell_type": "code",
   "execution_count": 46,
   "metadata": {},
   "outputs": [],
   "source": [
    "def get_signal_mat(signal_mat, signal_name, product, file_name, HEAD_PATH):\n",
    "    S = load(HEAD_PATH+\"/tmp pkl/\"+product+\"/\"+signal_name+\"/\"+file_name)\n",
    "    S[np.isnan(S)] = 0\n",
    "    if signal_mat is None:\n",
    "        return S\n",
    "    else:\n",
    "        return np.vstack((signal_mat, S))\n"
   ]
  },
  {
   "cell_type": "code",
   "execution_count": 47,
   "metadata": {},
   "outputs": [],
   "source": [
    "def par_get_signal_mat(file_name, product, signal_list, HEAD_PATH, SAVE_PATH):\n",
    "    signal_mat = functools.reduce(functools.partial(get_signal_mat, product=product, file_name=file_name, HEAD_PATH=SAVE_PATH), signal_list, None)\n",
    "    save(signal_mat, SAVE_PATH+\"/signal mat pkl/\"+product+\"/\"+file_name)"
   ]
  },
  {
   "cell_type": "code",
   "execution_count": 48,
   "metadata": {},
   "outputs": [],
   "source": [
    "for product in product_list[:2]:\n",
    "    os.makedirs(SAVE_PATH+\"/signal mat pkl/\"+product, exist_ok=True)"
   ]
  },
  {
   "cell_type": "code",
   "execution_count": 49,
   "metadata": {},
   "outputs": [
    {
     "name": "stdout",
     "output_type": "stream",
     "text": [
      "btc.usd.td\n",
      "eth.usd.td\n",
      "Wall time: 1min 17s\n"
     ]
    }
   ],
   "source": [
    "%%time\n",
    "for product in product_list[:2]:\n",
    "    print(product)\n",
    "    parLapply(CORE_NUM, new_dates, par_get_signal_mat, \n",
    "              product=product, signal_list=signal_list, HEAD_PATH=\"e:/intern\", SAVE_PATH=\"e:/intern\")\n",
    "    \n",
    "# btc.usd.td\n",
    "# eth.usd.td\n",
    "# Wall time: 1min 17s\n"
   ]
  },
  {
   "cell_type": "markdown",
   "metadata": {},
   "source": [
    "- we test several models:\n",
    "- in-sample/out-sample lasso of week 9\n",
    "- rolling lasso of week 9\n",
    "- medium frequency lasso of week 11"
   ]
  },
  {
   "cell_type": "code",
   "execution_count": 55,
   "metadata": {},
   "outputs": [],
   "source": [
    "import sklearn\n",
    "from sklearn import linear_model\n",
    "from sklearn.model_selection import cross_val_score\n",
    "from sklearn.linear_model import lasso_path, LassoCV\n",
    "from sklearn.preprocessing import StandardScaler\n",
    "#y_signal = \"ret.\"+str(period)+\".004\"\n",
    "y_signal = \"ret.\"+str(period)"
   ]
  },
  {
   "cell_type": "code",
   "execution_count": 51,
   "metadata": {},
   "outputs": [],
   "source": [
    "ori_mat = load(HEAD_PATH+\"/train test mat/\"+product_list[0]+\".train.mat.pkl\")\n",
    "signal_names = ori_mat.columns[0:-4]\n",
    "signal_names\n",
    "col_names = ori_mat.columns"
   ]
  },
  {
   "cell_type": "code",
   "execution_count": 53,
   "metadata": {},
   "outputs": [
    {
     "data": {
      "text/plain": [
       "(4470, 28)"
      ]
     },
     "execution_count": 53,
     "metadata": {},
     "output_type": "execute_result"
    }
   ],
   "source": [
    "train_mat = load(HEAD_PATH+\"/train test mat/\"+product_list[0]+\".train.mat.pkl\")\n",
    "train_mat = train_mat[signal_names]\n",
    "#train_mat = pd.DataFrame(data=sklearn.preprocessing.scale(train_mat, with_mean=False), columns=signal_names)\n",
    "train_mat.shape\n",
    "## (4470, 28)"
   ]
  },
  {
   "cell_type": "code",
   "execution_count": 56,
   "metadata": {},
   "outputs": [
    {
     "name": "stdout",
     "output_type": "stream",
     "text": [
      "btc.usd.td (4470, 32)\n",
      "eth.usd.td (3801, 32)\n"
     ]
    }
   ],
   "source": [
    "train_mat = load(HEAD_PATH+\"/train test mat/\"+product_list[0]+\".train.mat.pkl\")\n",
    "train_mat = pd.DataFrame(data=sklearn.preprocessing.scale(train_mat, with_mean=False), columns=col_names)\n",
    "print(product_list[0], train_mat.shape)\n",
    "for product in product_list[1:2]:\n",
    "    cur_mat = load(HEAD_PATH+\"/train test mat/\"+product+\".train.mat.pkl\")\n",
    "    cur_mat = pd.DataFrame(data=sklearn.preprocessing.scale(cur_mat, with_mean=False), columns=col_names)\n",
    "    print(product, cur_mat.shape)\n",
    "    train_mat = train_mat.append(cur_mat)\n",
    "    \n",
    "# btc.usd.td (4470, 32)\n",
    "# eth.usd.td (3801, 32)\n"
   ]
  },
  {
   "cell_type": "code",
   "execution_count": 57,
   "metadata": {},
   "outputs": [],
   "source": [
    "train_std_mat = dict([])\n",
    "for product in product_list[:2]:\n",
    "    cur_mat = load(HEAD_PATH+\"/train test mat/\"+product+\".train.mat.pkl\")\n",
    "    train_std_mat[product] = np.std(cur_mat)"
   ]
  },
  {
   "cell_type": "code",
   "execution_count": 58,
   "metadata": {
    "scrolled": true
   },
   "outputs": [
    {
     "name": "stdout",
     "output_type": "stream",
     "text": [
      "(8271, 28)\n",
      "[ 0.0155054   0.00570079  0.02440753 -0.         -0.07424719  0.\n",
      "  0.          0.06562325 -0.00528303 -0.          0.          0.09833834\n",
      "  0.         -0.05236299  0.01675821  0.          0.16193953  0.\n",
      " -0.          0.         -0.19170497 -0.         -0.         -0.\n",
      " -0.          0.         -0.         -0.03495968]\n"
     ]
    }
   ],
   "source": [
    "x_train = train_mat.iloc[:, :n_signal].values\n",
    "#x_train = train_mat[result[\"chosen.signals\"]]\n",
    "#x_train = train_mat[signal_list[chosen_signals]]\n",
    "y_train = train_mat.loc[:, y_signal].values\n",
    "print(np.shape(x_train))\n",
    "scaler =  StandardScaler(copy=True, with_mean=False, with_std=True)\n",
    "scaler.fit(x_train)\n",
    "x_std = np.sqrt(scaler.var_)\n",
    "x_train_normal = scaler.transform(x_train)\n",
    "model = LassoCV(n_alphas=100, fit_intercept=False, cv=5, max_iter=10000).fit(x_train_normal, y_train)\n",
    "fit_coef = np.zeros(n_signal)\n",
    "#fit_coef[pos] = model.coef_/x_std\n",
    "fit_coef = model.coef_/x_std\n",
    "print(fit_coef)\n",
    "# (8271, 28)\n",
    "# [ 0.0155054   0.00570079  0.02440753 -0.         -0.07424719  0.\n",
    "#   0.          0.06562325 -0.00528303 -0.          0.          0.09833834\n",
    "#   0.         -0.05236299  0.01675821  0.          0.16193953  0.\n",
    "#  -0.          0.         -0.19170497 -0.         -0.         -0.\n",
    "#  -0.          0.         -0.         -0.03495968]"
   ]
  },
  {
   "cell_type": "code",
   "execution_count": 59,
   "metadata": {},
   "outputs": [
    {
     "name": "stdout",
     "output_type": "stream",
     "text": [
      "btc.usd.td\n",
      "nr.4096                   0.001117\n",
      "dbook.4096                0.001771\n",
      "range.pos.4096            0.001346\n",
      "ma.dif.10.4096           -0.107693\n",
      "nr.range.4096             0.000097\n",
      "dbook.range.4096         -0.000022\n",
      "ma.dif.10.range.4096      0.000473\n",
      "kdj.j.range.4096         -0.000011\n",
      "nr.std.4096               0.000090\n",
      "range.pos.std.4096        0.000378\n",
      "kdj.j.std.4096           -0.000137\n",
      "kdj.j.trend.index.4096   -0.000941\n",
      "dtype: float64\n",
      "eth.usd.td\n",
      "nr.4096                   0.002321\n",
      "dbook.4096                0.003363\n",
      "range.pos.4096            0.002009\n",
      "ma.dif.10.4096           -0.068967\n",
      "nr.range.4096             0.002435\n",
      "dbook.range.4096         -0.000670\n",
      "ma.dif.10.range.4096      0.002446\n",
      "kdj.j.range.4096         -0.000247\n",
      "nr.std.4096               0.001970\n",
      "range.pos.std.4096        0.007456\n",
      "kdj.j.std.4096           -0.002631\n",
      "kdj.j.trend.index.4096   -0.001530\n",
      "dtype: float64\n"
     ]
    }
   ],
   "source": [
    "coef_list=dict([])\n",
    "for product in product_list[:2]:\n",
    "    coef = fit_coef*train_std_mat[product][y_signal]/train_std_mat[product][signal_names]\n",
    "    coef_list[product] = coef\n",
    "    print(product)\n",
    "    print(coef[coef!=0])\n",
    "    \n",
    "# btc.usd.td\n",
    "# nr.4096                   0.001117\n",
    "# dbook.4096                0.001771\n",
    "# range.pos.4096            0.001346\n",
    "# ma.dif.10.4096           -0.107693\n",
    "# nr.range.4096             0.000097\n",
    "# dbook.range.4096         -0.000022\n",
    "# ma.dif.10.range.4096      0.000473\n",
    "# kdj.j.range.4096         -0.000011\n",
    "# nr.std.4096               0.000090\n",
    "# range.pos.std.4096        0.000378\n",
    "# kdj.j.std.4096           -0.000137\n",
    "# kdj.j.trend.index.4096   -0.000941\n",
    "# dtype: float64\n",
    "# eth.usd.td\n",
    "# nr.4096                   0.002321\n",
    "# dbook.4096                0.003363\n",
    "# range.pos.4096            0.002009\n",
    "# ma.dif.10.4096           -0.068967\n",
    "# nr.range.4096             0.002435\n",
    "# dbook.range.4096         -0.000670\n",
    "# ma.dif.10.range.4096      0.002446\n",
    "# kdj.j.range.4096         -0.000247\n",
    "# nr.std.4096               0.001970\n",
    "# range.pos.std.4096        0.007456\n",
    "# kdj.j.std.4096           -0.002631\n",
    "# kdj.j.trend.index.4096   -0.001530\n",
    "# dtype: float64"
   ]
  },
  {
   "cell_type": "code",
   "execution_count": 60,
   "metadata": {},
   "outputs": [],
   "source": [
    "strat = \"overall.crypto.lasso.\"+str(period)\n",
    "for product in product_list:\n",
    "    os.makedirs(\"e:/intern\"+\"/tmp pkl/\"+product+\"/\"+strat, exist_ok=True)"
   ]
  },
  {
   "cell_type": "code",
   "execution_count": 61,
   "metadata": {
    "scrolled": true
   },
   "outputs": [
    {
     "name": "stdout",
     "output_type": "stream",
     "text": [
      "btc.usd.td\n",
      "eth.usd.td\n",
      "Wall time: 31.5 s\n"
     ]
    }
   ],
   "source": [
    "%%time\n",
    "for product in product_list[:2]:\n",
    "    print(product)\n",
    "    coef = coef_list[product]\n",
    "    parLapply(CORE_NUM, new_dates, par_get_daily_pred, \n",
    "              product=product, coef=coef, strat=strat, HEAD_PATH=\"e:/intern\", SAVE_PATH=\"e:/intern\")\n",
    "    \n",
    "# btc.usd.td\n",
    "# eth.usd.td\n",
    "# Wall time: 31.5 s"
   ]
  },
  {
   "cell_type": "code",
   "execution_count": 62,
   "metadata": {},
   "outputs": [],
   "source": [
    "def get_good(date, product, HEAD_PATH, SAVE_PATH):\n",
    "    data = load(HEAD_PATH+\"/pkl tick/\"+product+\"/\"+date)\n",
    "    good = data[\"good\"]\n",
    "    save(good, SAVE_PATH+\"/good pkl/\"+product+\"/\"+date)  "
   ]
  },
  {
   "cell_type": "code",
   "execution_count": 63,
   "metadata": {},
   "outputs": [
    {
     "name": "stdout",
     "output_type": "stream",
     "text": [
      "Wall time: 23.4 s\n"
     ]
    }
   ],
   "source": [
    "%%time\n",
    "for product in product_list[:2]:\n",
    "    parLapply(CORE_NUM, new_dates, get_good, product=product, HEAD_PATH=HEAD_PATH, SAVE_PATH=\"e:/intern\")\n",
    "    \n",
    "#Wall time: 23.4 s"
   ]
  },
  {
   "cell_type": "code",
   "execution_count": 66,
   "metadata": {},
   "outputs": [
    {
     "name": "stdout",
     "output_type": "stream",
     "text": [
      "Wall time: 37.4 s\n"
     ]
    }
   ],
   "source": [
    "%%time\n",
    "for product in product_list[:2]:\n",
    "    par_get_all_signal(strat, all_dates, product, 4096, SAVE_PATH=\"e:/intern\")\n",
    "    \n",
    "# Wall time: 37.4 s"
   ]
  },
  {
   "cell_type": "code",
   "execution_count": 90,
   "metadata": {
    "scrolled": false
   },
   "outputs": [
    {
     "name": "stdout",
     "output_type": "stream",
     "text": [
      "reverse=1\n",
      "reverse=1\n",
      "Wall time: 9min 13s\n"
     ]
    }
   ],
   "source": [
    "%%time\n",
    "for product in product_list[:2]:\n",
    "    spread = product_info[product][\"spread\"]\n",
    "    tranct = product_info[product][\"tranct\"]\n",
    "    tranct_ratio = product_info[product][\"tranct.ratio\"]\n",
    "    evaluate_signal(\"overall.crypto.lasso\", all_dates, product, 2, 20, CORE_NUM, HEAD_PATH, \"e:/intern\",\n",
    "                    period=4096, split_str=\"2019-08\", tranct=tranct, \n",
    "                    max_spread=spread*1.1, tranct_ratio=tranct_ratio, atr_filter=20, save_path=\"signal result atr\",reverse=1)\n",
    "\n",
    "# reverse=1\n",
    "# reverse=1\n",
    "# Wall time: 9min 13s\n"
   ]
  },
  {
   "cell_type": "code",
   "execution_count": 94,
   "metadata": {},
   "outputs": [
    {
     "name": "stdout",
     "output_type": "stream",
     "text": [
      "btc.usd.td train sharpe  0.5844919836354413 test sharpe  0.4025139388330891\n",
      "eth.usd.td train sharpe  1.499444144005969 test sharpe  1.3265176001057026\n",
      "train sharpe:  1.411407339693374 test sharpe:  0.689464884469878\n"
     ]
    },
    {
     "data": {
      "image/png": "[encoded data removed]",
      "text/plain": [
       "<Figure size 1152x720 with 1 Axes>"
      ]
     },
     "metadata": {
      "needs_background": "light"
     },
     "output_type": "display_data"
    }
   ],
   "source": [
    "i = 0\n",
    "strat = \"overall.crypto.lasso.4096\"\n",
    "test_all_pnl = np.zeros([sum(test_sample), len(product_list)])\n",
    "train_all_pnl = np.zeros([sum(train_sample), len(product_list)])\n",
    "min_pnl = 2\n",
    "min_num = 10\n",
    "for product in product_list[:2]:\n",
    "    spread = product_info[product][\"spread\"]\n",
    "    signal_stat = load(HEAD_PATH+\"/signal result atr/\"+product+\".\"+strat+\".trend.pkl\")\n",
    "    train_stat = signal_stat[\"train.stat\"]\n",
    "    good_strat = (train_stat[\"final.result\"][\"avg.pnl\"]>min_pnl*spread) & (train_stat[\"final.result\"][\"num\"]>min_num)\n",
    "    train_pnl = train_stat[\"daily.ret\"].loc[:, good_strat].sum(axis=1)/sum(good_strat)\n",
    "    test_stat = signal_stat[\"test.stat\"]\n",
    "    test_pnl = test_stat[\"daily.ret\"].loc[:, good_strat].sum(axis=1)/sum(good_strat)\n",
    "    print(product, \"train sharpe \", sharpe(train_pnl), \"test sharpe \", sharpe(test_pnl))\n",
    "    test_all_pnl[:,i] = test_pnl\n",
    "    train_all_pnl[:,i] = train_pnl\n",
    "    i = i+1\n",
    "train_portfolio = np.array(np.mean(train_all_pnl, axis=1))\n",
    "test_portfolio = np.array(np.mean(test_all_pnl, axis=1))\n",
    "all_portfolio = np.append(train_portfolio, test_portfolio)\n",
    "plt.figure(1, figsize=(16, 10));\n",
    "plt.title(\"\");\n",
    "plt.xlabel(\"date\");\n",
    "plt.ylabel(\"pnl\");\n",
    "plt.title(\"portfolio\");\n",
    "plt.plot(format_dates, all_portfolio.cumsum());\n",
    "plt.plot(format_dates[test_sample], all_portfolio.cumsum()[test_sample])\n",
    "print(\"train sharpe: \", sharpe(train_portfolio), \"test sharpe: \", sharpe(test_portfolio))    \n",
    "\n",
    "# btc.usd.td train sharpe  0.5844919836354413 test sharpe  0.4025139388330891\n",
    "# eth.usd.td train sharpe  1.499444144005969 test sharpe  1.3265176001057026\n",
    "# train sharpe:  1.411407339693374 test sharpe:  0.689464884469878\n",
    "\n",
    "\n",
    "\n",
    "\n"
   ]
  },
  {
   "cell_type": "markdown",
   "metadata": {},
   "source": [
    "- we can see that the out-sample portfolio is quite good\n",
    "- now we go to the rolling lasso model"
   ]
  },
  {
   "cell_type": "code",
   "execution_count": 20,
   "metadata": {},
   "outputs": [],
   "source": [
    "## training multiple products together with rolling model\n",
    "## train_start: start day to train\n",
    "## train_end: end day to train\n",
    "## forward_len: length of test sets\n",
    "## strat: name of strategy\n",
    "## single_product: the products that need to train separately\n",
    "## combine_product: the products that need to train together\n",
    "def get_multiple_lasso_roll_model(train_start, train_end, y_signal, forward_len, strat, \n",
    "                          single_product, combine_product, period=4096, SAVE_PATH=\"e:/intern\"):\n",
    "    product_list = np.append(single_product, combine_product) ## all of the products\n",
    "    cum_daily_ticks = dict([]) ## cumulative of number of ticks by product\n",
    "    train_tick_start = dict([]) ## startting ticks of training set\n",
    "    train_tick_end = dict([])   ## ending ticks of training set\n",
    "    test_tick_start = dict([]) ## startting ticks of test set\n",
    "    test_tick_end = dict([]) ## ending ticks of test set\n",
    "    scaler =  StandardScaler(copy=True, with_mean=False, with_std=True)\n",
    "    for product in product_list:\n",
    "        cum_daily_ticks[product] = daily_ticks[product].cumsum()\n",
    "        if train_start==0:\n",
    "            train_tick_start[product] = 0\n",
    "        else:\n",
    "            train_tick_start[product] = int(cum_daily_ticks[product][train_start-1]+1)\n",
    "        train_tick_end[product] = int(cum_daily_ticks[product][train_end]-1) \n",
    "        ## the last tick would use future data that in the test sample for response variable y, so we need to minus 1 here\n",
    "        test_tick_start[product] = int(train_tick_end[product]+2) ## we minus 1 in train_tick_end, so need to plus 2 for test_tick_start\n",
    "        test_tick_end[product] = int(cum_daily_ticks[product][train_end+1]) ## we only use 1 month as test sample so plus 1 here\n",
    "    coef_list = dict([])\n",
    "    for product in single_product: ## train products in single_product separately \n",
    "        x_train = all_mat[product].iloc[train_tick_start[product]:train_tick_end[product], :n_signal].values\n",
    "        y_train = all_mat[product][y_signal][train_tick_start[product]:train_tick_end[product]]\n",
    "        n_train = x_train.shape[0]\n",
    "        scaler =  StandardScaler(copy=True, with_mean=False, with_std=True)\n",
    "        scaler.fit(x_train)\n",
    "        x_std = np.sqrt(scaler.var_)\n",
    "        x_train_normal = scaler.transform(x_train)\n",
    "        model = LassoCV(n_alphas=100, fit_intercept=False, cv=5, max_iter=10000).fit(x_train_normal, y_train)\n",
    "        coef = model.coef_ / x_std\n",
    "        coef_list[product] = coef\n",
    "    train_std_mat = dict([])\n",
    "    y_std = dict([])\n",
    "    train_mat = np.zeros((0,n_signal))\n",
    "    y_train = np.array([])\n",
    "    for product in combine_product: ## combine data sets together and then fit the model\n",
    "        x_train = all_mat[product].iloc[train_tick_start[product]:train_tick_end[product], :n_signal].values\n",
    "        cur_y_train = all_mat[product][y_signal][train_tick_start[product]:train_tick_end[product]]\n",
    "        scaler.fit(x_train)\n",
    "        x_train = scaler.transform(x_train) ## normalize data before combine\n",
    "        train_std_mat[product] = np.sqrt(scaler.var_)\n",
    "        train_mat = np.append(train_mat,x_train, axis=0)\n",
    "        y_std[product] = np.std(cur_y_train)\n",
    "        y_train = np.append(y_train, cur_y_train/y_std[product])\n",
    "    x_train = train_mat\n",
    "    scaler =  StandardScaler(copy=True, with_mean=False, with_std=True)\n",
    "    scaler.fit(x_train)\n",
    "    x_std = np.sqrt(scaler.var_)\n",
    "    x_train_normal = scaler.transform(x_train) ## normalized the combined data again\n",
    "    model = LassoCV(n_alphas=100, fit_intercept=False, cv=5, max_iter=10000).fit(x_train_normal, y_train)\n",
    "    #fit_coef = np.zeros(n_signal)\n",
    "    #fit_coef[pos] = model.coef_/x_std ## transform to the value before second normaliztion\n",
    "    fit_coef = model.coef_/x_std\n",
    "    #model = LassoCV(n_alphas=100, fit_intercept=False, cv=10, max_iter=10000).fit(train_mat, y_train)\n",
    "    #fit_coef = model.coef_\n",
    "    for product in combine_product:\n",
    "        coef_list[product] = fit_coef*y_std[product]/train_std_mat[product] ## transform to the value before the first normalization\n",
    "    os.makedirs(SAVE_PATH+\"/model\", exist_ok=True)\n",
    "    save(coef_list, SAVE_PATH+\"/model/\"+strat+\".pkl\")\n",
    "    \n"
   ]
  },
  {
   "cell_type": "code",
   "execution_count": 21,
   "metadata": {},
   "outputs": [
    {
     "data": {
      "text/plain": [
       "(array(['2018-08', '2018-09', '2018-10', '2018-11', '2018-12', '2019-01',\n",
       "        '2019-02', '2019-03', '2019-04', '2019-05', '2019-06', '2019-07',\n",
       "        '2019-08', '2019-09', '2019-10', '2019-11', '2019-12', '2020-01',\n",
       "        '2020-02', '2020-03', '2020-04', '2020-05', '2020-06', '2020-07',\n",
       "        '2020-08'], dtype='<U7'),\n",
       " array([ 7, 10, 10, 14, 11, 11, 10, 12, 14, 10,  6,  7, 10,  8, 11,  6, 14,\n",
       "         6, 10, 11,  9, 14, 30, 31, 20], dtype=int64))"
      ]
     },
     "execution_count": 21,
     "metadata": {},
     "output_type": "execute_result"
    }
   ],
   "source": [
    "month = np.array([file[:7] for file in all_dates])\n",
    "month_len = np.unique(month, return_counts=True)\n",
    "month_len\n",
    "\n",
    "# (array(['2018-08', '2018-09', '2018-10', '2018-11', '2018-12', '2019-01',\n",
    "#         '2019-02', '2019-03', '2019-04', '2019-05', '2019-06', '2019-07',\n",
    "#         '2019-08', '2019-09', '2019-10', '2019-11', '2019-12', '2020-01',\n",
    "#         '2020-02', '2020-03', '2020-04', '2020-05', '2020-06', '2020-07',\n",
    "#         '2020-08'], dtype='<U7'),\n",
    "#  array([ 7, 10, 10, 14, 11, 11, 10, 12, 14, 10,  6,  7, 10,  8, 11,  6, 14,\n",
    "#          6, 10, 11,  9, 14, 30, 31, 20], dtype=int64))"
   ]
  },
  {
   "cell_type": "code",
   "execution_count": 22,
   "metadata": {},
   "outputs": [
    {
     "name": "stdout",
     "output_type": "stream",
     "text": [
      "['2019-09' '2019-10' '2019-11' '2019-12' '2020-01' '2020-02' '2020-03'\n",
      " '2020-04' '2020-05' '2020-06' '2020-07' '2020-08']\n"
     ]
    }
   ],
   "source": [
    "test_range = np.where(month_len[0] > \"2019-08\" )[0]\n",
    "print(month_len[0][test_range])\n",
    "start_month = 0\n",
    "end_month = sum(month_len[0] <= \"2019-08\")-1\n",
    "cum_month_len = np.cumsum(month_len[1])\n",
    "\n",
    "# ['2019-09' '2019-10' '2019-11' '2019-12' '2020-01' '2020-02' '2020-03'\n",
    "#  '2020-04' '2020-05' '2020-06' '2020-07' '2020-08']\n"
   ]
  },
  {
   "cell_type": "code",
   "execution_count": 23,
   "metadata": {},
   "outputs": [
    {
     "data": {
      "text/plain": [
       "21"
      ]
     },
     "execution_count": 23,
     "metadata": {},
     "output_type": "execute_result"
    }
   ],
   "source": [
    "new_start = np.where(month_len[0]>=\"2020-05\")[0][0]\n",
    "new_start\n",
    "## 21"
   ]
  },
  {
   "cell_type": "code",
   "execution_count": 24,
   "metadata": {},
   "outputs": [
    {
     "data": {
      "text/plain": [
       "array(['2019-09', '2019-10', '2019-11', '2019-12', '2020-01', '2020-02',\n",
       "       '2020-03', '2020-04', '2020-05', '2020-06', '2020-07', '2020-08'],\n",
       "      dtype='<U7')"
      ]
     },
     "execution_count": 24,
     "metadata": {},
     "output_type": "execute_result"
    }
   ],
   "source": [
    "month_len[0][test_range]\n",
    "\n",
    "# array(['2019-09', '2019-10', '2019-11', '2019-12', '2020-01', '2020-02',\n",
    "#        '2020-03', '2020-04', '2020-05', '2020-06', '2020-07', '2020-08'],\n",
    "#       dtype='<U7')"
   ]
  },
  {
   "cell_type": "code",
   "execution_count": 25,
   "metadata": {},
   "outputs": [],
   "source": [
    "def get_sample_signal(good_night_files, sample, product, signal_list, period, daily_num):\n",
    "    n_samples = sum(daily_num[sample])\n",
    "    n_days = sum(sample)\n",
    "    n_signal = len(signal_list)\n",
    "    all_signal =  np.ndarray(shape=(int(n_samples),n_signal))\n",
    "    cur = 0\n",
    "    for file in good_night_files[sample]:\n",
    "        good = load(SAVE_PATH+\"/good pkl/\"+product+\"/\"+file)  \n",
    "        chosen = (np.arange(sum(good))+1) % period==0\n",
    "        n_chosen = sum(chosen)\n",
    "        for i in range(n_signal):\n",
    "            signal_name = signal_list[i]\n",
    "            S = load(SAVE_PATH+\"/tmp pkl/\"+product+\"/\"+signal_name+\"/\"+file)\n",
    "            S = S[good]\n",
    "            signal = S[(np.arange(len(S))+1) % period == 0]\n",
    "            signal[np.isnan(signal)] = 0 ## the ret.cor has some bad records\n",
    "            signal[np.isinf(signal)] = 0 ## the ret.cor has some bad records\n",
    "            all_signal[cur:(cur+n_chosen),i] = signal\n",
    "        cur = cur+n_chosen\n",
    "    all_signal = pd.DataFrame(all_signal, columns=signal_list)\n",
    "    return all_signal"
   ]
  },
  {
   "cell_type": "code",
   "execution_count": 26,
   "metadata": {},
   "outputs": [],
   "source": [
    "class foctor_ret_period(factor_template):\n",
    "    factor_name = \"ret.period\"\n",
    "    \n",
    "    params = OrderedDict([\n",
    "        (\"period\", np.power(2, range(10,13)))\n",
    "    ])\n",
    "    \n",
    "    def formula(self, data, period):\n",
    "        return fcum(data[\"ret\"],period).values\n",
    "y1 = foctor_ret_period()\n",
    "\n",
    "class foctor_ret_period_002(factor_template):\n",
    "    factor_name = \"ret.period.002\"\n",
    "    \n",
    "    params = OrderedDict([\n",
    "        (\"period\", np.power(2, range(10,13)))\n",
    "    ])\n",
    "    \n",
    "    def formula(self, data, period):\n",
    "        return vanish_thre(fcum(data[\"ret\"],period), 0.021).values\n",
    "y2 = foctor_ret_period_002()\n",
    "\n",
    "class foctor_ret_period_001(factor_template):\n",
    "    factor_name = \"ret.period.001\"\n",
    "    \n",
    "    params = OrderedDict([\n",
    "        (\"period\", np.power(2, range(10,13)))\n",
    "    ])\n",
    "    \n",
    "    def formula(self, data, period):\n",
    "        return vanish_thre(fcum(data[\"ret\"],period), 0.011).values\n",
    "y3 = foctor_ret_period_001()\n",
    "\n",
    "class foctor_ret_period_004(factor_template):\n",
    "    factor_name = \"ret.period.004\"\n",
    "    \n",
    "    params = OrderedDict([\n",
    "        (\"period\", np.power(2, range(10,13)))\n",
    "    ])\n",
    "    \n",
    "    def formula(self, data, period):\n",
    "        return vanish_thre(fcum(data[\"ret\"],period), 0.041).values\n",
    "y4 = foctor_ret_period_004()"
   ]
  },
  {
   "cell_type": "code",
   "execution_count": 104,
   "metadata": {},
   "outputs": [
    {
     "name": "stdout",
     "output_type": "stream",
     "text": [
      "pred  0 btc.usd.td\n",
      "pred  0 eth.usd.td\n",
      "pred  1 btc.usd.td\n",
      "pred  1 eth.usd.td\n",
      "pred  2 btc.usd.td\n",
      "pred  2 eth.usd.td\n",
      "pred  3 btc.usd.td\n",
      "pred  3 eth.usd.td\n",
      "Wall time: 2min 43s\n"
     ]
    }
   ],
   "source": [
    "%%time\n",
    "i = 0\n",
    "all_pred_list = [y1,y2,y3,y4]\n",
    "for xx in all_pred_list:\n",
    "    for product in product_list[:2]:\n",
    "        print(\"pred \",i,product)\n",
    "        file_list = list(map(lambda x: DATA_PATH+product+\"/\"+x, new_dates))\n",
    "        parLapply(CORE_NUM, file_list, build_composite_signal,signal_list=xx, product=product, HEAD_PATH=SAVE_PATH, n=14)\n",
    "    i = i + 1\n",
    "    \n",
    "# pred  0 btc.usd.td\n",
    "# pred  0 eth.usd.td\n",
    "# pred  1 btc.usd.td\n",
    "# pred  1 eth.usd.td\n",
    "# pred  2 btc.usd.td\n",
    "# pred  2 eth.usd.td\n",
    "# pred  3 btc.usd.td\n",
    "# pred  3 eth.usd.td\n",
    "# Wall time: 2min 43s\n"
   ]
  },
  {
   "cell_type": "code",
   "execution_count": 109,
   "metadata": {},
   "outputs": [
    {
     "data": {
      "text/plain": [
       "88"
      ]
     },
     "execution_count": 109,
     "metadata": {},
     "output_type": "execute_result"
    }
   ],
   "source": [
    "out_sample = all_dates>=\"2020-05-23\"\n",
    "sum(out_sample)"
   ]
  },
  {
   "cell_type": "code",
   "execution_count": 113,
   "metadata": {},
   "outputs": [
    {
     "name": "stdout",
     "output_type": "stream",
     "text": [
      "btc.usd.td\n",
      "eth.usd.td\n",
      "Wall time: 3min 59s\n"
     ]
    }
   ],
   "source": [
    "%%time\n",
    "out_sample = all_dates>=\"2020-05-23\"\n",
    "for product in product_list[:2]:\n",
    "    print(product)\n",
    "    daily_num = load(HEAD_PATH+\"/daily num/\"+product+\".pkl\")\n",
    "    out_mat = get_sample_signal(all_dates, out_sample, product, \n",
    "                                  np.append(signal_list, [\"ret.\"+str(period),  \"ret.\"+str(period)+\".001\",\"ret.\"+str(period)+\".002\",\"ret.\"+str(period)+\".004\"]), \n",
    "                                  period, daily_num)\n",
    "    save(out_mat, HEAD_PATH+\"/train test mat/\"+product+\".out.mat.pkl\")\n",
    "\n",
    "# btc.usd.td\n",
    "# eth.usd.td\n",
    "# Wall time: 3min 59s\n",
    "\n"
   ]
  },
  {
   "cell_type": "code",
   "execution_count": 27,
   "metadata": {},
   "outputs": [],
   "source": [
    "daily_ticks = dict([])\n",
    "all_mat = dict([])\n",
    "for product in product_list[:2]:\n",
    "    daily_num = load(HEAD_PATH+\"/daily num/\"+product+\".pkl\")\n",
    "    daily_ticks[product] = daily_num\n",
    "    test_mat = load(HEAD_PATH+\"/train test mat/\"+product+\".test.mat.pkl\")\n",
    "    train_mat = load(HEAD_PATH+\"/train test mat/\"+product+\".train.mat.pkl\")\n",
    "    out_mat = load(HEAD_PATH+\"/train test mat/\"+product+\".out.mat.pkl\")\n",
    "    all_mat[product] = pd.concat((train_mat, test_mat))"
   ]
  },
  {
   "cell_type": "code",
   "execution_count": 28,
   "metadata": {},
   "outputs": [],
   "source": [
    "from sklearn.preprocessing import StandardScaler"
   ]
  },
  {
   "cell_type": "code",
   "execution_count": 29,
   "metadata": {},
   "outputs": [
    {
     "name": "stdout",
     "output_type": "stream",
     "text": [
      "['2019-09' '2019-10' '2019-11' '2019-12' '2020-01' '2020-02' '2020-03'\n",
      " '2020-04' '2020-05' '2020-06' '2020-07' '2020-08']\n"
     ]
    }
   ],
   "source": [
    "test_range = np.where(month_len[0] > \"2019-08\" )[0]\n",
    "print(month_len[0][test_range])\n",
    "start_month = 0\n",
    "end_month = sum(month_len[0] < \"2019-08\")-1\n",
    "cum_month_len = np.cumsum(month_len[1])\n",
    "\n",
    "# ['2019-09' '2019-10' '2019-11' '2019-12' '2020-01' '2020-02' '2020-03'\n",
    "#  '2020-04' '2020-05' '2020-06' '2020-07' '2020-08']\n"
   ]
  },
  {
   "cell_type": "code",
   "execution_count": 31,
   "metadata": {},
   "outputs": [],
   "source": [
    "## training multiple products together with rolling model\n",
    "## train_start: start day to train\n",
    "## train_end: end day to train\n",
    "## forward_len: length of test sets\n",
    "## strat: name of strategy\n",
    "## single_product: the products that need to train separately\n",
    "## combine_product: the products that need to train together\n",
    "def get_multiple_lasso_roll_model(train_start, train_end, y_signal, forward_len, strat, \n",
    "                          single_product, combine_product, period=4096, SAVE_PATH=\"e:/intern\"):\n",
    "    product_list = np.append(single_product, combine_product) ## all of the products\n",
    "    cum_daily_ticks = dict([]) ## cumulative of number of ticks by product\n",
    "    train_tick_start = dict([]) ## startting ticks of training set\n",
    "    train_tick_end = dict([])   ## ending ticks of training set\n",
    "    test_tick_start = dict([]) ## startting ticks of test set\n",
    "    test_tick_end = dict([]) ## ending ticks of test set\n",
    "    scaler =  StandardScaler(copy=True, with_mean=False, with_std=True)\n",
    "    for product in product_list:\n",
    "        cum_daily_ticks[product] = daily_ticks[product].cumsum()\n",
    "        if train_start==0:\n",
    "            train_tick_start[product] = 0\n",
    "        else:\n",
    "            train_tick_start[product] = int(cum_daily_ticks[product][train_start-1]+1)\n",
    "        train_tick_end[product] = int(cum_daily_ticks[product][train_end]-1) \n",
    "        ## the last tick would use future data that in the test sample for response variable y, so we need to minus 1 here\n",
    "        test_tick_start[product] = int(train_tick_end[product]+2) ## we minus 1 in train_tick_end, so need to plus 2 for test_tick_start\n",
    "        test_tick_end[product] = int(cum_daily_ticks[product][train_end+1]) ## we only use 1 month as test sample so plus 1 here\n",
    "    coef_list = dict([])\n",
    "    for product in single_product: ## train products in single_product separately \n",
    "        x_train = all_mat[product].iloc[train_tick_start[product]:train_tick_end[product], :n_signal].values\n",
    "        y_train = all_mat[product][y_signal][train_tick_start[product]:train_tick_end[product]]\n",
    "        n_train = x_train.shape[0]\n",
    "        scaler =  StandardScaler(copy=True, with_mean=False, with_std=True)\n",
    "        scaler.fit(x_train)\n",
    "        x_std = np.sqrt(scaler.var_)\n",
    "        x_train_normal = scaler.transform(x_train)\n",
    "        model = LassoCV(n_alphas=100, fit_intercept=False, cv=5, max_iter=10000).fit(x_train_normal, y_train)\n",
    "        coef = model.coef_ / x_std\n",
    "        coef_list[product] = coef\n",
    "    train_std_mat = dict([])\n",
    "    y_std = dict([])\n",
    "    train_mat = np.zeros((0,n_signal))\n",
    "    y_train = np.array([])\n",
    "    for product in combine_product: ## combine data sets together and then fit the model\n",
    "        x_train = all_mat[product].iloc[train_tick_start[product]:train_tick_end[product], :n_signal].values\n",
    "        cur_y_train = all_mat[product][y_signal][train_tick_start[product]:train_tick_end[product]]\n",
    "        scaler.fit(x_train)\n",
    "        x_train = scaler.transform(x_train) ## normalize data before combine\n",
    "        train_std_mat[product] = np.sqrt(scaler.var_)\n",
    "        train_mat = np.append(train_mat,x_train, axis=0)\n",
    "        y_std[product] = np.std(cur_y_train)\n",
    "        y_train = np.append(y_train, cur_y_train/y_std[product])\n",
    "    x_train = train_mat\n",
    "    scaler =  StandardScaler(copy=True, with_mean=False, with_std=True)\n",
    "    scaler.fit(x_train)\n",
    "    x_std = np.sqrt(scaler.var_)\n",
    "    x_train_normal = scaler.transform(x_train) ## normalized the combined data again\n",
    "    model = LassoCV(n_alphas=100, fit_intercept=False, cv=5, max_iter=10000).fit(x_train_normal, y_train)\n",
    "    #fit_coef = np.zeros(n_signal)\n",
    "    #fit_coef[pos] = model.coef_/x_std ## transform to the value before second normaliztion\n",
    "    fit_coef = model.coef_/x_std\n",
    "    #model = LassoCV(n_alphas=100, fit_intercept=False, cv=10, max_iter=10000).fit(train_mat, y_train)\n",
    "    #fit_coef = model.coef_\n",
    "    for product in combine_product:\n",
    "        coef_list[product] = fit_coef*y_std[product]/train_std_mat[product] ## transform to the value before the first normalization\n",
    "    os.makedirs(SAVE_PATH+\"/model\", exist_ok=True)\n",
    "    save(coef_list, SAVE_PATH+\"/model/\"+strat+\".pkl\")\n",
    "    \n"
   ]
  },
  {
   "cell_type": "code",
   "execution_count": 141,
   "metadata": {},
   "outputs": [
    {
     "name": "stdout",
     "output_type": "stream",
     "text": [
      "13 2019-09\n",
      "14 2019-10\n",
      "15 2019-11\n",
      "16 2019-12\n",
      "17 2020-01\n",
      "18 2020-02\n",
      "19 2020-03\n",
      "20 2020-04\n",
      "21 2020-05\n",
      "22 2020-06\n",
      "23 2020-07\n",
      "24 2020-08\n",
      "Wall time: 4.47 s\n"
     ]
    }
   ],
   "source": [
    "%%time\n",
    "#strat = \"universal.lasso.4096\"\n",
    "#strat = \"rolling.lasso.4096\"\n",
    "strat = \"roll.crypto.lasso.4096\" ## with double normalization\n",
    "#y_signal = \"ret.4096.004\"\n",
    "y_signal = \"ret.4096\"\n",
    "start_month = 0\n",
    "end_month = sum(month_len[0] <= \"2019-08\")-1\n",
    "for i_test in test_range:\n",
    "    forward_len = month_len[1][i_test]\n",
    "    train_start = 0 if start_month==0 else cum_month_len[start_month-1]\n",
    "    train_end = cum_month_len[end_month]-1\n",
    "    print(i_test, month_len[0][i_test])\n",
    "    if i_test>=new_start:\n",
    "        get_multiple_lasso_roll_model(train_start, train_end, y_signal, forward_len, strat+\".\"+month_len[0][i_test], \n",
    "                              [], product_list[:2], period=4096, SAVE_PATH=\"e:/intern\")\n",
    "    start_month = start_month+1\n",
    "    end_month = end_month+1\n",
    "\n",
    "# 13 2019-09\n",
    "# 14 2019-10\n",
    "# 15 2019-11\n",
    "# 16 2019-12\n",
    "# 17 2020-01\n",
    "# 18 2020-02\n",
    "# 19 2020-03\n",
    "# 20 2020-04\n",
    "# 21 2020-05\n",
    "# 22 2020-06\n",
    "# 23 2020-07\n",
    "# 24 2020-08\n",
    "# Wall time: 4.62 s"
   ]
  },
  {
   "cell_type": "code",
   "execution_count": null,
   "metadata": {},
   "outputs": [
    {
     "name": "stdout",
     "output_type": "stream",
     "text": [
      "13 2019-09\n",
      "14 2019-10\n",
      "15 2019-11\n",
      "16 2019-12\n",
      "17 2020-01\n",
      "18 2020-02\n",
      "19 2020-03\n",
      "20 2020-04\n",
      "21 2020-05\n",
      "['2019-04-02.pkl' '2019-04-04.pkl' '2019-04-08.pkl' '2019-04-11.pkl'\n",
      " '2019-04-12.pkl' '2019-04-16.pkl' '2019-04-18.pkl' '2019-04-19.pkl'\n",
      " '2019-04-21.pkl' '2019-04-23.pkl' '2019-04-25.pkl' '2019-04-26.pkl'\n",
      " '2019-04-27.pkl' '2019-04-29.pkl' '2019-05-02.pkl' '2019-05-04.pkl'\n",
      " '2019-05-05.pkl' '2019-05-18.pkl' '2019-05-20.pkl' '2019-05-21.pkl'\n",
      " '2019-05-23.pkl' '2019-05-26.pkl' '2019-05-27.pkl' '2019-05-30.pkl'\n",
      " '2019-06-01.pkl' '2019-06-02.pkl' '2019-06-07.pkl' '2019-06-20.pkl'\n",
      " '2019-06-28.pkl' '2019-06-29.pkl' '2019-07-11.pkl' '2019-07-14.pkl'\n",
      " '2019-07-15.pkl' '2019-07-16.pkl' '2019-07-18.pkl' '2019-07-20.pkl'\n",
      " '2019-07-30.pkl' '2019-08-02.pkl' '2019-08-03.pkl' '2019-08-04.pkl'\n",
      " '2019-08-12.pkl' '2019-08-14.pkl' '2019-08-21.pkl' '2019-08-24.pkl'\n",
      " '2019-08-25.pkl' '2019-08-27.pkl' '2019-08-31.pkl' '2019-09-02.pkl'\n",
      " '2019-09-03.pkl' '2019-09-11.pkl' '2019-09-12.pkl' '2019-09-18.pkl'\n",
      " '2019-09-20.pkl' '2019-09-23.pkl' '2019-09-29.pkl' '2019-10-03.pkl'\n",
      " '2019-10-07.pkl' '2019-10-10.pkl' '2019-10-11.pkl' '2019-10-15.pkl'\n",
      " '2019-10-17.pkl' '2019-10-24.pkl' '2019-10-25.pkl' '2019-10-26.pkl'\n",
      " '2019-10-27.pkl' '2019-10-28.pkl' '2019-11-01.pkl' '2019-11-05.pkl'\n",
      " '2019-11-10.pkl' '2019-11-11.pkl' '2019-11-22.pkl' '2019-11-29.pkl'\n",
      " '2019-12-02.pkl' '2019-12-05.pkl' '2019-12-06.pkl' '2019-12-07.pkl'\n",
      " '2019-12-08.pkl' '2019-12-12.pkl' '2019-12-16.pkl' '2019-12-18.pkl'\n",
      " '2019-12-21.pkl' '2019-12-22.pkl' '2019-12-24.pkl' '2019-12-25.pkl'\n",
      " '2019-12-29.pkl' '2019-12-30.pkl' '2020-01-12.pkl' '2020-01-13.pkl'\n",
      " '2020-01-20.pkl' '2020-01-21.pkl' '2020-01-24.pkl' '2020-01-27.pkl'\n",
      " '2020-02-03.pkl' '2020-02-07.pkl' '2020-02-09.pkl' '2020-02-15.pkl'\n",
      " '2020-02-18.pkl' '2020-02-19.pkl' '2020-02-22.pkl' '2020-02-23.pkl'\n",
      " '2020-02-24.pkl' '2020-02-25.pkl' '2020-03-02.pkl' '2020-03-03.pkl'\n",
      " '2020-03-09.pkl' '2020-03-10.pkl' '2020-03-11.pkl' '2020-03-12.pkl'\n",
      " '2020-03-15.pkl' '2020-03-16.pkl' '2020-03-17.pkl' '2020-03-28.pkl'\n",
      " '2020-03-30.pkl' '2020-04-01.pkl' '2020-04-09.pkl' '2020-04-10.pkl'\n",
      " '2020-04-17.pkl' '2020-04-18.pkl' '2020-04-20.pkl' '2020-04-22.pkl'\n",
      " '2020-04-25.pkl' '2020-04-28.pkl' '2020-05-01.pkl' '2020-05-02.pkl'\n",
      " '2020-05-05.pkl' '2020-05-14.pkl' '2020-05-16.pkl' '2020-05-19.pkl'\n",
      " '2020-05-21.pkl' '2020-05-24.pkl' '2020-05-25.pkl' '2020-05-27.pkl'\n",
      " '2020-05-28.pkl' '2020-05-29.pkl' '2020-05-30.pkl' '2020-05-31.pkl']\n",
      "['2019-04-02.pkl' '2019-04-04.pkl' '2019-04-08.pkl' '2019-04-11.pkl'\n",
      " '2019-04-12.pkl' '2019-04-16.pkl' '2019-04-18.pkl' '2019-04-19.pkl'\n",
      " '2019-04-21.pkl' '2019-04-23.pkl' '2019-04-25.pkl' '2019-04-26.pkl'\n",
      " '2019-04-27.pkl' '2019-04-29.pkl' '2019-05-02.pkl' '2019-05-04.pkl'\n",
      " '2019-05-05.pkl' '2019-05-18.pkl' '2019-05-20.pkl' '2019-05-21.pkl'\n",
      " '2019-05-23.pkl' '2019-05-26.pkl' '2019-05-27.pkl' '2019-05-30.pkl'\n",
      " '2019-06-01.pkl' '2019-06-02.pkl' '2019-06-07.pkl' '2019-06-20.pkl'\n",
      " '2019-06-28.pkl' '2019-06-29.pkl' '2019-07-11.pkl' '2019-07-14.pkl'\n",
      " '2019-07-15.pkl' '2019-07-16.pkl' '2019-07-18.pkl' '2019-07-20.pkl'\n",
      " '2019-07-30.pkl' '2019-08-02.pkl' '2019-08-03.pkl' '2019-08-04.pkl'\n",
      " '2019-08-12.pkl' '2019-08-14.pkl' '2019-08-21.pkl' '2019-08-24.pkl'\n",
      " '2019-08-25.pkl' '2019-08-27.pkl' '2019-08-31.pkl' '2019-09-02.pkl'\n",
      " '2019-09-03.pkl' '2019-09-11.pkl' '2019-09-12.pkl' '2019-09-18.pkl'\n",
      " '2019-09-20.pkl' '2019-09-23.pkl' '2019-09-29.pkl' '2019-10-03.pkl'\n",
      " '2019-10-07.pkl' '2019-10-10.pkl' '2019-10-11.pkl' '2019-10-15.pkl'\n",
      " '2019-10-17.pkl' '2019-10-24.pkl' '2019-10-25.pkl' '2019-10-26.pkl'\n",
      " '2019-10-27.pkl' '2019-10-28.pkl' '2019-11-01.pkl' '2019-11-05.pkl'\n",
      " '2019-11-10.pkl' '2019-11-11.pkl' '2019-11-22.pkl' '2019-11-29.pkl'\n",
      " '2019-12-02.pkl' '2019-12-05.pkl' '2019-12-06.pkl' '2019-12-07.pkl'\n",
      " '2019-12-08.pkl' '2019-12-12.pkl' '2019-12-16.pkl' '2019-12-18.pkl'\n",
      " '2019-12-21.pkl' '2019-12-22.pkl' '2019-12-24.pkl' '2019-12-25.pkl'\n",
      " '2019-12-29.pkl' '2019-12-30.pkl' '2020-01-12.pkl' '2020-01-13.pkl'\n",
      " '2020-01-20.pkl' '2020-01-21.pkl' '2020-01-24.pkl' '2020-01-27.pkl'\n",
      " '2020-02-03.pkl' '2020-02-07.pkl' '2020-02-09.pkl' '2020-02-15.pkl'\n",
      " '2020-02-18.pkl' '2020-02-19.pkl' '2020-02-22.pkl' '2020-02-23.pkl'\n",
      " '2020-02-24.pkl' '2020-02-25.pkl' '2020-03-02.pkl' '2020-03-03.pkl'\n",
      " '2020-03-09.pkl' '2020-03-10.pkl' '2020-03-11.pkl' '2020-03-12.pkl'\n",
      " '2020-03-15.pkl' '2020-03-16.pkl' '2020-03-17.pkl' '2020-03-28.pkl'\n",
      " '2020-03-30.pkl' '2020-04-01.pkl' '2020-04-09.pkl' '2020-04-10.pkl'\n",
      " '2020-04-17.pkl' '2020-04-18.pkl' '2020-04-20.pkl' '2020-04-22.pkl'\n",
      " '2020-04-25.pkl' '2020-04-28.pkl' '2020-05-01.pkl' '2020-05-02.pkl'\n",
      " '2020-05-05.pkl' '2020-05-14.pkl' '2020-05-16.pkl' '2020-05-19.pkl'\n",
      " '2020-05-21.pkl' '2020-05-24.pkl' '2020-05-25.pkl' '2020-05-27.pkl'\n",
      " '2020-05-28.pkl' '2020-05-29.pkl' '2020-05-30.pkl' '2020-05-31.pkl']\n",
      "22 2020-06\n",
      "['2019-05-02.pkl' '2019-05-04.pkl' '2019-05-05.pkl' '2019-05-18.pkl'\n",
      " '2019-05-20.pkl' '2019-05-21.pkl' '2019-05-23.pkl' '2019-05-26.pkl'\n",
      " '2019-05-27.pkl' '2019-05-30.pkl' '2019-06-01.pkl' '2019-06-02.pkl'\n",
      " '2019-06-07.pkl' '2019-06-20.pkl' '2019-06-28.pkl' '2019-06-29.pkl'\n",
      " '2019-07-11.pkl' '2019-07-14.pkl' '2019-07-15.pkl' '2019-07-16.pkl'\n",
      " '2019-07-18.pkl' '2019-07-20.pkl' '2019-07-30.pkl' '2019-08-02.pkl'\n",
      " '2019-08-03.pkl' '2019-08-04.pkl' '2019-08-12.pkl' '2019-08-14.pkl'\n",
      " '2019-08-21.pkl' '2019-08-24.pkl' '2019-08-25.pkl' '2019-08-27.pkl'\n",
      " '2019-08-31.pkl' '2019-09-02.pkl' '2019-09-03.pkl' '2019-09-11.pkl'\n",
      " '2019-09-12.pkl' '2019-09-18.pkl' '2019-09-20.pkl' '2019-09-23.pkl'\n",
      " '2019-09-29.pkl' '2019-10-03.pkl' '2019-10-07.pkl' '2019-10-10.pkl'\n",
      " '2019-10-11.pkl' '2019-10-15.pkl' '2019-10-17.pkl' '2019-10-24.pkl'\n",
      " '2019-10-25.pkl' '2019-10-26.pkl' '2019-10-27.pkl' '2019-10-28.pkl'\n",
      " '2019-11-01.pkl' '2019-11-05.pkl' '2019-11-10.pkl' '2019-11-11.pkl'\n",
      " '2019-11-22.pkl' '2019-11-29.pkl' '2019-12-02.pkl' '2019-12-05.pkl'\n",
      " '2019-12-06.pkl' '2019-12-07.pkl' '2019-12-08.pkl' '2019-12-12.pkl'\n",
      " '2019-12-16.pkl' '2019-12-18.pkl' '2019-12-21.pkl' '2019-12-22.pkl'\n",
      " '2019-12-24.pkl' '2019-12-25.pkl' '2019-12-29.pkl' '2019-12-30.pkl'\n",
      " '2020-01-12.pkl' '2020-01-13.pkl' '2020-01-20.pkl' '2020-01-21.pkl'\n",
      " '2020-01-24.pkl' '2020-01-27.pkl' '2020-02-03.pkl' '2020-02-07.pkl'\n",
      " '2020-02-09.pkl' '2020-02-15.pkl' '2020-02-18.pkl' '2020-02-19.pkl'\n",
      " '2020-02-22.pkl' '2020-02-23.pkl' '2020-02-24.pkl' '2020-02-25.pkl'\n",
      " '2020-03-02.pkl' '2020-03-03.pkl' '2020-03-09.pkl' '2020-03-10.pkl'\n",
      " '2020-03-11.pkl' '2020-03-12.pkl' '2020-03-15.pkl' '2020-03-16.pkl'\n",
      " '2020-03-17.pkl' '2020-03-28.pkl' '2020-03-30.pkl' '2020-04-01.pkl'\n",
      " '2020-04-09.pkl' '2020-04-10.pkl' '2020-04-17.pkl' '2020-04-18.pkl'\n",
      " '2020-04-20.pkl' '2020-04-22.pkl' '2020-04-25.pkl' '2020-04-28.pkl'\n",
      " '2020-05-01.pkl' '2020-05-02.pkl' '2020-05-05.pkl' '2020-05-14.pkl'\n",
      " '2020-05-16.pkl' '2020-05-19.pkl' '2020-05-21.pkl' '2020-05-24.pkl'\n",
      " '2020-05-25.pkl' '2020-05-27.pkl' '2020-05-28.pkl' '2020-05-29.pkl'\n",
      " '2020-05-30.pkl' '2020-05-31.pkl' '2020-06-01.pkl' '2020-06-02.pkl'\n",
      " '2020-06-03.pkl' '2020-06-04.pkl' '2020-06-05.pkl' '2020-06-06.pkl'\n",
      " '2020-06-07.pkl' '2020-06-08.pkl' '2020-06-09.pkl' '2020-06-10.pkl'\n",
      " '2020-06-11.pkl' '2020-06-12.pkl' '2020-06-13.pkl' '2020-06-14.pkl'\n",
      " '2020-06-15.pkl' '2020-06-16.pkl' '2020-06-17.pkl' '2020-06-18.pkl'\n",
      " '2020-06-19.pkl' '2020-06-20.pkl' '2020-06-21.pkl' '2020-06-22.pkl'\n",
      " '2020-06-23.pkl' '2020-06-24.pkl' '2020-06-25.pkl' '2020-06-26.pkl'\n",
      " '2020-06-27.pkl' '2020-06-28.pkl' '2020-06-29.pkl' '2020-06-30.pkl']\n",
      "['2019-05-02.pkl' '2019-05-04.pkl' '2019-05-05.pkl' '2019-05-18.pkl'\n",
      " '2019-05-20.pkl' '2019-05-21.pkl' '2019-05-23.pkl' '2019-05-26.pkl'\n",
      " '2019-05-27.pkl' '2019-05-30.pkl' '2019-06-01.pkl' '2019-06-02.pkl'\n",
      " '2019-06-07.pkl' '2019-06-20.pkl' '2019-06-28.pkl' '2019-06-29.pkl'\n",
      " '2019-07-11.pkl' '2019-07-14.pkl' '2019-07-15.pkl' '2019-07-16.pkl'\n",
      " '2019-07-18.pkl' '2019-07-20.pkl' '2019-07-30.pkl' '2019-08-02.pkl'\n",
      " '2019-08-03.pkl' '2019-08-04.pkl' '2019-08-12.pkl' '2019-08-14.pkl'\n",
      " '2019-08-21.pkl' '2019-08-24.pkl' '2019-08-25.pkl' '2019-08-27.pkl'\n",
      " '2019-08-31.pkl' '2019-09-02.pkl' '2019-09-03.pkl' '2019-09-11.pkl'\n",
      " '2019-09-12.pkl' '2019-09-18.pkl' '2019-09-20.pkl' '2019-09-23.pkl'\n",
      " '2019-09-29.pkl' '2019-10-03.pkl' '2019-10-07.pkl' '2019-10-10.pkl'\n",
      " '2019-10-11.pkl' '2019-10-15.pkl' '2019-10-17.pkl' '2019-10-24.pkl'\n",
      " '2019-10-25.pkl' '2019-10-26.pkl' '2019-10-27.pkl' '2019-10-28.pkl'\n",
      " '2019-11-01.pkl' '2019-11-05.pkl' '2019-11-10.pkl' '2019-11-11.pkl'\n",
      " '2019-11-22.pkl' '2019-11-29.pkl' '2019-12-02.pkl' '2019-12-05.pkl'\n",
      " '2019-12-06.pkl' '2019-12-07.pkl' '2019-12-08.pkl' '2019-12-12.pkl'\n",
      " '2019-12-16.pkl' '2019-12-18.pkl' '2019-12-21.pkl' '2019-12-22.pkl'\n",
      " '2019-12-24.pkl' '2019-12-25.pkl' '2019-12-29.pkl' '2019-12-30.pkl'\n",
      " '2020-01-12.pkl' '2020-01-13.pkl' '2020-01-20.pkl' '2020-01-21.pkl'\n",
      " '2020-01-24.pkl' '2020-01-27.pkl' '2020-02-03.pkl' '2020-02-07.pkl'\n",
      " '2020-02-09.pkl' '2020-02-15.pkl' '2020-02-18.pkl' '2020-02-19.pkl'\n",
      " '2020-02-22.pkl' '2020-02-23.pkl' '2020-02-24.pkl' '2020-02-25.pkl'\n",
      " '2020-03-02.pkl' '2020-03-03.pkl' '2020-03-09.pkl' '2020-03-10.pkl'\n",
      " '2020-03-11.pkl' '2020-03-12.pkl' '2020-03-15.pkl' '2020-03-16.pkl'\n",
      " '2020-03-17.pkl' '2020-03-28.pkl' '2020-03-30.pkl' '2020-04-01.pkl'\n",
      " '2020-04-09.pkl' '2020-04-10.pkl' '2020-04-17.pkl' '2020-04-18.pkl'\n",
      " '2020-04-20.pkl' '2020-04-22.pkl' '2020-04-25.pkl' '2020-04-28.pkl'\n",
      " '2020-05-01.pkl' '2020-05-02.pkl' '2020-05-05.pkl' '2020-05-14.pkl'\n",
      " '2020-05-16.pkl' '2020-05-19.pkl' '2020-05-21.pkl' '2020-05-24.pkl'\n",
      " '2020-05-25.pkl' '2020-05-27.pkl' '2020-05-28.pkl' '2020-05-29.pkl'\n",
      " '2020-05-30.pkl' '2020-05-31.pkl' '2020-06-01.pkl' '2020-06-02.pkl'\n",
      " '2020-06-03.pkl' '2020-06-04.pkl' '2020-06-05.pkl' '2020-06-06.pkl'\n",
      " '2020-06-07.pkl' '2020-06-08.pkl' '2020-06-09.pkl' '2020-06-10.pkl'\n",
      " '2020-06-11.pkl' '2020-06-12.pkl' '2020-06-13.pkl' '2020-06-14.pkl'\n",
      " '2020-06-15.pkl' '2020-06-16.pkl' '2020-06-17.pkl' '2020-06-18.pkl'\n",
      " '2020-06-19.pkl' '2020-06-20.pkl' '2020-06-21.pkl' '2020-06-22.pkl'\n",
      " '2020-06-23.pkl' '2020-06-24.pkl' '2020-06-25.pkl' '2020-06-26.pkl'\n",
      " '2020-06-27.pkl' '2020-06-28.pkl' '2020-06-29.pkl' '2020-06-30.pkl']\n",
      "23 2020-07\n",
      "['2019-06-01.pkl' '2019-06-02.pkl' '2019-06-07.pkl' '2019-06-20.pkl'\n",
      " '2019-06-28.pkl' '2019-06-29.pkl' '2019-07-11.pkl' '2019-07-14.pkl'\n",
      " '2019-07-15.pkl' '2019-07-16.pkl' '2019-07-18.pkl' '2019-07-20.pkl'\n",
      " '2019-07-30.pkl' '2019-08-02.pkl' '2019-08-03.pkl' '2019-08-04.pkl'\n",
      " '2019-08-12.pkl' '2019-08-14.pkl' '2019-08-21.pkl' '2019-08-24.pkl'\n",
      " '2019-08-25.pkl' '2019-08-27.pkl' '2019-08-31.pkl' '2019-09-02.pkl'\n",
      " '2019-09-03.pkl' '2019-09-11.pkl' '2019-09-12.pkl' '2019-09-18.pkl'\n",
      " '2019-09-20.pkl' '2019-09-23.pkl' '2019-09-29.pkl' '2019-10-03.pkl'\n",
      " '2019-10-07.pkl' '2019-10-10.pkl' '2019-10-11.pkl' '2019-10-15.pkl'\n",
      " '2019-10-17.pkl' '2019-10-24.pkl' '2019-10-25.pkl' '2019-10-26.pkl'\n",
      " '2019-10-27.pkl' '2019-10-28.pkl' '2019-11-01.pkl' '2019-11-05.pkl'\n",
      " '2019-11-10.pkl' '2019-11-11.pkl' '2019-11-22.pkl' '2019-11-29.pkl'\n",
      " '2019-12-02.pkl' '2019-12-05.pkl' '2019-12-06.pkl' '2019-12-07.pkl'\n",
      " '2019-12-08.pkl' '2019-12-12.pkl' '2019-12-16.pkl' '2019-12-18.pkl'\n",
      " '2019-12-21.pkl' '2019-12-22.pkl' '2019-12-24.pkl' '2019-12-25.pkl'\n",
      " '2019-12-29.pkl' '2019-12-30.pkl' '2020-01-12.pkl' '2020-01-13.pkl'\n",
      " '2020-01-20.pkl' '2020-01-21.pkl' '2020-01-24.pkl' '2020-01-27.pkl'\n",
      " '2020-02-03.pkl' '2020-02-07.pkl' '2020-02-09.pkl' '2020-02-15.pkl'\n",
      " '2020-02-18.pkl' '2020-02-19.pkl' '2020-02-22.pkl' '2020-02-23.pkl'\n",
      " '2020-02-24.pkl' '2020-02-25.pkl' '2020-03-02.pkl' '2020-03-03.pkl'\n",
      " '2020-03-09.pkl' '2020-03-10.pkl' '2020-03-11.pkl' '2020-03-12.pkl'\n",
      " '2020-03-15.pkl' '2020-03-16.pkl' '2020-03-17.pkl' '2020-03-28.pkl'\n",
      " '2020-03-30.pkl' '2020-04-01.pkl' '2020-04-09.pkl' '2020-04-10.pkl'\n",
      " '2020-04-17.pkl' '2020-04-18.pkl' '2020-04-20.pkl' '2020-04-22.pkl'\n",
      " '2020-04-25.pkl' '2020-04-28.pkl' '2020-05-01.pkl' '2020-05-02.pkl'\n",
      " '2020-05-05.pkl' '2020-05-14.pkl' '2020-05-16.pkl' '2020-05-19.pkl'\n",
      " '2020-05-21.pkl' '2020-05-24.pkl' '2020-05-25.pkl' '2020-05-27.pkl'\n",
      " '2020-05-28.pkl' '2020-05-29.pkl' '2020-05-30.pkl' '2020-05-31.pkl'\n",
      " '2020-06-01.pkl' '2020-06-02.pkl' '2020-06-03.pkl' '2020-06-04.pkl'\n",
      " '2020-06-05.pkl' '2020-06-06.pkl' '2020-06-07.pkl' '2020-06-08.pkl'\n",
      " '2020-06-09.pkl' '2020-06-10.pkl' '2020-06-11.pkl' '2020-06-12.pkl'\n",
      " '2020-06-13.pkl' '2020-06-14.pkl' '2020-06-15.pkl' '2020-06-16.pkl'\n",
      " '2020-06-17.pkl' '2020-06-18.pkl' '2020-06-19.pkl' '2020-06-20.pkl'\n",
      " '2020-06-21.pkl' '2020-06-22.pkl' '2020-06-23.pkl' '2020-06-24.pkl'\n",
      " '2020-06-25.pkl' '2020-06-26.pkl' '2020-06-27.pkl' '2020-06-28.pkl'\n",
      " '2020-06-29.pkl' '2020-06-30.pkl' '2020-07-01.pkl' '2020-07-02.pkl'\n",
      " '2020-07-03.pkl' '2020-07-04.pkl' '2020-07-05.pkl' '2020-07-06.pkl'\n",
      " '2020-07-07.pkl' '2020-07-08.pkl' '2020-07-09.pkl' '2020-07-10.pkl'\n",
      " '2020-07-11.pkl' '2020-07-12.pkl' '2020-07-13.pkl' '2020-07-14.pkl'\n",
      " '2020-07-15.pkl' '2020-07-16.pkl' '2020-07-17.pkl' '2020-07-18.pkl'\n",
      " '2020-07-19.pkl' '2020-07-20.pkl' '2020-07-21.pkl' '2020-07-22.pkl'\n",
      " '2020-07-23.pkl' '2020-07-24.pkl' '2020-07-25.pkl' '2020-07-26.pkl'\n",
      " '2020-07-27.pkl' '2020-07-28.pkl' '2020-07-29.pkl' '2020-07-30.pkl'\n",
      " '2020-07-31.pkl']\n",
      "['2019-06-01.pkl' '2019-06-02.pkl' '2019-06-07.pkl' '2019-06-20.pkl'\n",
      " '2019-06-28.pkl' '2019-06-29.pkl' '2019-07-11.pkl' '2019-07-14.pkl'\n",
      " '2019-07-15.pkl' '2019-07-16.pkl' '2019-07-18.pkl' '2019-07-20.pkl'\n",
      " '2019-07-30.pkl' '2019-08-02.pkl' '2019-08-03.pkl' '2019-08-04.pkl'\n",
      " '2019-08-12.pkl' '2019-08-14.pkl' '2019-08-21.pkl' '2019-08-24.pkl'\n",
      " '2019-08-25.pkl' '2019-08-27.pkl' '2019-08-31.pkl' '2019-09-02.pkl'\n",
      " '2019-09-03.pkl' '2019-09-11.pkl' '2019-09-12.pkl' '2019-09-18.pkl'\n",
      " '2019-09-20.pkl' '2019-09-23.pkl' '2019-09-29.pkl' '2019-10-03.pkl'\n",
      " '2019-10-07.pkl' '2019-10-10.pkl' '2019-10-11.pkl' '2019-10-15.pkl'\n",
      " '2019-10-17.pkl' '2019-10-24.pkl' '2019-10-25.pkl' '2019-10-26.pkl'\n",
      " '2019-10-27.pkl' '2019-10-28.pkl' '2019-11-01.pkl' '2019-11-05.pkl'\n",
      " '2019-11-10.pkl' '2019-11-11.pkl' '2019-11-22.pkl' '2019-11-29.pkl'\n",
      " '2019-12-02.pkl' '2019-12-05.pkl' '2019-12-06.pkl' '2019-12-07.pkl'\n",
      " '2019-12-08.pkl' '2019-12-12.pkl' '2019-12-16.pkl' '2019-12-18.pkl'\n",
      " '2019-12-21.pkl' '2019-12-22.pkl' '2019-12-24.pkl' '2019-12-25.pkl'\n",
      " '2019-12-29.pkl' '2019-12-30.pkl' '2020-01-12.pkl' '2020-01-13.pkl'\n",
      " '2020-01-20.pkl' '2020-01-21.pkl' '2020-01-24.pkl' '2020-01-27.pkl'\n",
      " '2020-02-03.pkl' '2020-02-07.pkl' '2020-02-09.pkl' '2020-02-15.pkl'\n",
      " '2020-02-18.pkl' '2020-02-19.pkl' '2020-02-22.pkl' '2020-02-23.pkl'\n",
      " '2020-02-24.pkl' '2020-02-25.pkl' '2020-03-02.pkl' '2020-03-03.pkl'\n",
      " '2020-03-09.pkl' '2020-03-10.pkl' '2020-03-11.pkl' '2020-03-12.pkl'\n",
      " '2020-03-15.pkl' '2020-03-16.pkl' '2020-03-17.pkl' '2020-03-28.pkl'\n",
      " '2020-03-30.pkl' '2020-04-01.pkl' '2020-04-09.pkl' '2020-04-10.pkl'\n",
      " '2020-04-17.pkl' '2020-04-18.pkl' '2020-04-20.pkl' '2020-04-22.pkl'\n",
      " '2020-04-25.pkl' '2020-04-28.pkl' '2020-05-01.pkl' '2020-05-02.pkl'\n",
      " '2020-05-05.pkl' '2020-05-14.pkl' '2020-05-16.pkl' '2020-05-19.pkl'\n",
      " '2020-05-21.pkl' '2020-05-24.pkl' '2020-05-25.pkl' '2020-05-27.pkl'\n",
      " '2020-05-28.pkl' '2020-05-29.pkl' '2020-05-30.pkl' '2020-05-31.pkl'\n",
      " '2020-06-01.pkl' '2020-06-02.pkl' '2020-06-03.pkl' '2020-06-04.pkl'\n",
      " '2020-06-05.pkl' '2020-06-06.pkl' '2020-06-07.pkl' '2020-06-08.pkl'\n",
      " '2020-06-09.pkl' '2020-06-10.pkl' '2020-06-11.pkl' '2020-06-12.pkl'\n",
      " '2020-06-13.pkl' '2020-06-14.pkl' '2020-06-15.pkl' '2020-06-16.pkl'\n",
      " '2020-06-17.pkl' '2020-06-18.pkl' '2020-06-19.pkl' '2020-06-20.pkl'\n",
      " '2020-06-21.pkl' '2020-06-22.pkl' '2020-06-23.pkl' '2020-06-24.pkl'\n",
      " '2020-06-25.pkl' '2020-06-26.pkl' '2020-06-27.pkl' '2020-06-28.pkl'\n",
      " '2020-06-29.pkl' '2020-06-30.pkl' '2020-07-01.pkl' '2020-07-02.pkl'\n",
      " '2020-07-03.pkl' '2020-07-04.pkl' '2020-07-05.pkl' '2020-07-06.pkl'\n",
      " '2020-07-07.pkl' '2020-07-08.pkl' '2020-07-09.pkl' '2020-07-10.pkl'\n",
      " '2020-07-11.pkl' '2020-07-12.pkl' '2020-07-13.pkl' '2020-07-14.pkl'\n",
      " '2020-07-15.pkl' '2020-07-16.pkl' '2020-07-17.pkl' '2020-07-18.pkl'\n",
      " '2020-07-19.pkl' '2020-07-20.pkl' '2020-07-21.pkl' '2020-07-22.pkl'\n",
      " '2020-07-23.pkl' '2020-07-24.pkl' '2020-07-25.pkl' '2020-07-26.pkl'\n",
      " '2020-07-27.pkl' '2020-07-28.pkl' '2020-07-29.pkl' '2020-07-30.pkl'\n",
      " '2020-07-31.pkl']\n"
     ]
    }
   ],
   "source": [
    "%%time\n",
    "start_month = 0\n",
    "SAVE_PATH = \"e:/intern\"\n",
    "end_month = sum(month_len[0] <= \"2019-08\")-1\n",
    "for i_test in test_range:\n",
    "    forward_len = month_len[1][i_test]\n",
    "    train_start = 0 if start_month==0 else cum_month_len[start_month-1]\n",
    "    train_end = cum_month_len[end_month]-1\n",
    "    print(i_test, month_len[0][i_test])\n",
    "    if i_test>=new_start:\n",
    "        strat_name = strat+\".\"+month_len[0][i_test]\n",
    "        coef_list = load(SAVE_PATH+\"/model/\"+strat_name+\".pkl\")\n",
    "        for product in product_list[0:2]:\n",
    "            coef = coef_list[product]\n",
    "            os.makedirs(SAVE_PATH+\"/tmp pkl/\"+product+\"/\"+strat_name, exist_ok=True)\n",
    "        ## each model has training set from train_start to train_end, and a test set until train_end+forward_len, so \n",
    "        ## we need to generate values of all_dates[train_start:(train_end+forward_len)+1], plus 1 to include train_end+forward_len\n",
    "            parLapply(CORE_NUM, all_dates[train_start:(train_end+forward_len)+1], par_get_daily_pred, \n",
    "                      product=product, coef=coef, strat=strat_name, HEAD_PATH=\"e:/intern\",SAVE_PATH=\"e:/intern\")\n",
    "    start_month = start_month+1\n",
    "    end_month = end_month+1\n",
    "\n",
    "# 13 2019-09\n",
    "# 14 2019-10\n",
    "# 15 2019-11\n",
    "# 16 2019-12\n",
    "# 17 2020-01\n",
    "# 18 2020-02\n",
    "# 19 2020-03\n",
    "# 20 2020-04\n",
    "# 21 2020-05\n",
    "# 22 2020-06\n",
    "# 23 2020-07\n",
    "# 24 2020-08\n",
    "# Wall time: 2min 54s\n"
   ]
  },
  {
   "cell_type": "code",
   "execution_count": 154,
   "metadata": {
    "scrolled": true
   },
   "outputs": [
    {
     "name": "stdout",
     "output_type": "stream",
     "text": [
      "2019-09 2018-08-10.pkl 2019-08-31.pkl\n",
      "2019-10 2018-09-01.pkl 2019-09-29.pkl\n",
      "2019-11 2018-10-01.pkl 2019-10-28.pkl\n",
      "2019-12 2018-11-06.pkl 2019-11-29.pkl\n",
      "2020-01 2018-12-03.pkl 2019-12-30.pkl\n",
      "2020-02 2019-01-02.pkl 2020-01-27.pkl\n",
      "2020-03 2019-02-05.pkl 2020-02-25.pkl\n",
      "2020-04 2019-03-03.pkl 2020-03-30.pkl\n",
      "2020-05 2019-04-02.pkl 2020-04-28.pkl\n",
      "2020-06 2019-05-02.pkl 2020-05-31.pkl\n",
      "2020-07 2019-06-01.pkl 2020-06-30.pkl\n",
      "2020-08 2019-07-11.pkl 2020-07-31.pkl\n",
      "Wall time: 47 s\n"
     ]
    }
   ],
   "source": [
    "%%time\n",
    "#strat = \"universal.lasso.4096\"\n",
    "#strat = \"rolling.lasso.4096\"\n",
    "strat = \"roll.crypto.lasso.4096\"\n",
    "start_month = 0\n",
    "end_month = sum(month_len[0] <= \"2019-08\")-1\n",
    "for i_test in test_range:\n",
    "    train_start = 0 if start_month==0 else cum_month_len[start_month-1]\n",
    "    train_end = cum_month_len[end_month]-1\n",
    "    print(month_len[0][i_test], all_dates[train_start], all_dates[train_end])\n",
    "    if i_test>=new_start:\n",
    "    ## we only generte distribution on training set, not on test set\n",
    "        for product in product_list[:2]:\n",
    "            par_get_all_signal(strat+\".\"+month_len[0][i_test], all_dates[train_start:(train_end+1)], product, 4096, SAVE_PATH=\"e:/intern\")\n",
    "    start_month = start_month+1\n",
    "    end_month = end_month+1\n",
    "\n",
    "\n",
    "# 2019-09 2018-08-10.pkl 2019-08-31.pkl\n",
    "# 2019-10 2018-09-01.pkl 2019-09-29.pkl\n",
    "# 2019-11 2018-10-01.pkl 2019-10-28.pkl\n",
    "# 2019-12 2018-11-06.pkl 2019-11-29.pkl\n",
    "# 2020-01 2018-12-03.pkl 2019-12-30.pkl\n",
    "# 2020-02 2019-01-02.pkl 2020-01-27.pkl\n",
    "# 2020-03 2019-02-05.pkl 2020-02-25.pkl\n",
    "# 2020-04 2019-03-03.pkl 2020-03-30.pkl\n",
    "# 2020-05 2019-04-02.pkl 2020-04-28.pkl\n",
    "# 2020-06 2019-05-02.pkl 2020-05-31.pkl\n",
    "# 2020-07 2019-06-01.pkl 2020-06-30.pkl\n",
    "# 2020-08 2019-07-11.pkl 2020-07-31.pkl\n",
    "# Wall time: 47 s\n",
    "\n"
   ]
  },
  {
   "cell_type": "code",
   "execution_count": 35,
   "metadata": {},
   "outputs": [],
   "source": [
    "## get rolling statistics of the strategy performance\n",
    "def get_lasso_roll_result(product, strat,test_range, month_len, atr_filter=0, save_path=\"signal result atr\", \n",
    "                          HEAD_PATH=\"d:/intern\", SIGNAL_PATH=\"e:/intern\"):\n",
    "    start_month = 0\n",
    "    end_month = sum(month_len[0] <= \"2019-08\")-1\n",
    "    tranct = product_info[product][\"tranct\"]\n",
    "    tranct_ratio = product_info[product][\"tranct.ratio\"]\n",
    "    spread = product_info[product][\"spread\"]\n",
    "    for i_test in test_range:\n",
    "        forward_len = month_len[1][i_test]\n",
    "        train_start = 0 if start_month==0 else cum_month_len[start_month-1]\n",
    "        train_end = cum_month_len[end_month]-1\n",
    "        strat_name = strat+\".\"+month_len[0][i_test]\n",
    "        print(product, i_test, strat_name)\n",
    "        if i_test>=new_start:\n",
    "            all_signal = load(SIGNAL_PATH+\"/all signal/\"+product+\".\"+strat_name+\".pkl\")\n",
    "            open_list = np.quantile(abs(all_signal), np.append(np.arange(0.991,0.999,0.001),np.arange(0.9991,0.9999,0.0001)))\n",
    "            thre_list = []\n",
    "            for cartesian in itertools.product(open_list, np.array([0.2, 0.4, 0.6, 0.8, 1.0])):\n",
    "                thre_list.append((cartesian[0], -cartesian[0] * cartesian[1]))\n",
    "            thre_list = np.array(thre_list)\n",
    "            thre_mat = pd.DataFrame(data=OrderedDict([(\"open\", thre_list[:, 0]), (\"close\", thre_list[:, 1])]))\n",
    "            train_result = parLapply(CORE_NUM, all_dates[train_start:(train_end+1)], get_signal_pnl, \n",
    "                                 product=product, signal_name=strat_name, thre_mat=thre_mat, reverse=1, tranct=tranct, \n",
    "                                 max_spread=spread*1.1, tranct_ratio=tranct_ratio, HEAD_PATH=HEAD_PATH, SIGNAL_PATH=SIGNAL_PATH,\n",
    "                                atr_filter=atr_filter, rebate=0)\n",
    "            train_stat = get_hft_summary(train_result, thre_mat, train_end-train_start+1)\n",
    "            test_result = parLapply(CORE_NUM, all_dates[(train_end+1):(train_end+forward_len+1)], get_signal_pnl, \n",
    "                                product=product, signal_name=strat_name, thre_mat=thre_mat, reverse=1, tranct=tranct, \n",
    "                                 max_spread=spread*1.1, tranct_ratio=tranct_ratio, HEAD_PATH=HEAD_PATH, SIGNAL_PATH=SIGNAL_PATH,\n",
    "                                atr_filter=atr_filter, rebate=0)\n",
    "            test_stat = get_hft_summary(test_result, thre_mat, forward_len)\n",
    "            stat_result = OrderedDict([(\"train.stat\", train_stat), (\"test.stat\", test_stat)])    \n",
    "            save(stat_result, HEAD_PATH+\"/\"+save_path+\"/\"+product+\".\"+strat_name+\".pkl\")\n",
    "        start_month = start_month+1\n",
    "        end_month = end_month+1\n"
   ]
  },
  {
   "cell_type": "code",
   "execution_count": 38,
   "metadata": {},
   "outputs": [
    {
     "name": "stdout",
     "output_type": "stream",
     "text": [
      "btc.usd.td 13 roll.crypto.lasso.4096.2019-09\n",
      "btc.usd.td 14 roll.crypto.lasso.4096.2019-10\n",
      "btc.usd.td 15 roll.crypto.lasso.4096.2019-11\n",
      "btc.usd.td 16 roll.crypto.lasso.4096.2019-12\n",
      "btc.usd.td 17 roll.crypto.lasso.4096.2020-01\n",
      "btc.usd.td 18 roll.crypto.lasso.4096.2020-02\n",
      "btc.usd.td 19 roll.crypto.lasso.4096.2020-03\n",
      "btc.usd.td 20 roll.crypto.lasso.4096.2020-04\n",
      "btc.usd.td 21 roll.crypto.lasso.4096.2020-05\n",
      "btc.usd.td 22 roll.crypto.lasso.4096.2020-06\n",
      "btc.usd.td 23 roll.crypto.lasso.4096.2020-07\n",
      "btc.usd.td 24 roll.crypto.lasso.4096.2020-08\n"
     ]
    }
   ],
   "source": [
    "start_month = 0\n",
    "strat = \"roll.crypto.lasso.4096\"\n",
    "end_month = sum(month_len[0] <= \"2019-08\")-1\n",
    "tranct = product_info[product][\"tranct\"]\n",
    "tranct_ratio = product_info[product][\"tranct.ratio\"]\n",
    "spread = product_info[product][\"spread\"]\n",
    "SIGNAL_PATH = \"e:/intern\"\n",
    "atr_filter = 20\n",
    "save_path=\"signal result atr\"\n",
    "product = \"btc.usd.td\"\n",
    "for i_test in test_range:\n",
    "    forward_len = month_len[1][i_test]\n",
    "    train_start = 0 if start_month==0 else cum_month_len[start_month-1]\n",
    "    train_end = cum_month_len[end_month]-1\n",
    "    strat_name = strat+\".\"+month_len[0][i_test]\n",
    "    print(product, i_test, strat_name)\n",
    "    if i_test>=new_start:\n",
    "        all_signal = load(SIGNAL_PATH+\"/all signal/\"+product+\".\"+strat_name+\".pkl\")\n",
    "        open_list = np.quantile(abs(all_signal), np.append(np.arange(0.991,0.999,0.001),np.arange(0.9991,0.9999,0.0001)))\n",
    "        thre_list = []\n",
    "        for cartesian in itertools.product(open_list, np.array([0.2, 0.4, 0.6, 0.8, 1.0])):\n",
    "            thre_list.append((cartesian[0], -cartesian[0] * cartesian[1]))\n",
    "        thre_list = np.array(thre_list)\n",
    "        thre_mat = pd.DataFrame(data=OrderedDict([(\"open\", thre_list[:, 0]), (\"close\", thre_list[:, 1])]))\n",
    "        train_result = parLapply(CORE_NUM, all_dates[train_start:(train_end+1)], get_signal_pnl, \n",
    "                             product=product, signal_name=strat_name, thre_mat=thre_mat, reverse=1, tranct=tranct, \n",
    "                             max_spread=spread*1.1, tranct_ratio=tranct_ratio, HEAD_PATH=HEAD_PATH, SIGNAL_PATH=SIGNAL_PATH,\n",
    "                            atr_filter=atr_filter, rebate=0)\n",
    "        train_stat = get_hft_summary(train_result, thre_mat, train_end-train_start+1)\n",
    "        test_result = parLapply(CORE_NUM, all_dates[(train_end+1):(train_end+forward_len+1)], get_signal_pnl, \n",
    "                            product=product, signal_name=strat_name, thre_mat=thre_mat, reverse=1, tranct=tranct, \n",
    "                             max_spread=spread*1.1, tranct_ratio=tranct_ratio, HEAD_PATH=HEAD_PATH, SIGNAL_PATH=SIGNAL_PATH,\n",
    "                            atr_filter=atr_filter, rebate=0)\n",
    "        test_stat = get_hft_summary(test_result, thre_mat, forward_len)\n",
    "        stat_result = OrderedDict([(\"train.stat\", train_stat), (\"test.stat\", test_stat)])    \n",
    "        save(stat_result, HEAD_PATH+\"/\"+save_path+\"/\"+product+\".\"+strat_name+\".pkl\")\n",
    "    start_month = start_month+1\n",
    "    end_month = end_month+1\n"
   ]
  },
  {
   "cell_type": "code",
   "execution_count": 39,
   "metadata": {},
   "outputs": [
    {
     "name": "stdout",
     "output_type": "stream",
     "text": [
      "btc.usd.td 13 roll.crypto.lasso.4096.2019-09\n",
      "btc.usd.td 14 roll.crypto.lasso.4096.2019-10\n",
      "btc.usd.td 15 roll.crypto.lasso.4096.2019-11\n",
      "btc.usd.td 16 roll.crypto.lasso.4096.2019-12\n",
      "btc.usd.td 17 roll.crypto.lasso.4096.2020-01\n",
      "btc.usd.td 18 roll.crypto.lasso.4096.2020-02\n",
      "btc.usd.td 19 roll.crypto.lasso.4096.2020-03\n",
      "btc.usd.td 20 roll.crypto.lasso.4096.2020-04\n",
      "btc.usd.td 21 roll.crypto.lasso.4096.2020-05\n",
      "btc.usd.td 22 roll.crypto.lasso.4096.2020-06\n",
      "btc.usd.td 23 roll.crypto.lasso.4096.2020-07\n",
      "btc.usd.td 24 roll.crypto.lasso.4096.2020-08\n",
      "eth.usd.td 13 roll.crypto.lasso.4096.2019-09\n",
      "eth.usd.td 14 roll.crypto.lasso.4096.2019-10\n",
      "eth.usd.td 15 roll.crypto.lasso.4096.2019-11\n",
      "eth.usd.td 16 roll.crypto.lasso.4096.2019-12\n",
      "eth.usd.td 17 roll.crypto.lasso.4096.2020-01\n",
      "eth.usd.td 18 roll.crypto.lasso.4096.2020-02\n",
      "eth.usd.td 19 roll.crypto.lasso.4096.2020-03\n",
      "eth.usd.td 20 roll.crypto.lasso.4096.2020-04\n",
      "eth.usd.td 21 roll.crypto.lasso.4096.2020-05\n",
      "eth.usd.td 22 roll.crypto.lasso.4096.2020-06\n",
      "eth.usd.td 23 roll.crypto.lasso.4096.2020-07\n",
      "eth.usd.td 24 roll.crypto.lasso.4096.2020-08\n",
      "Wall time: 25min 23s\n"
     ]
    }
   ],
   "source": [
    "%%time\n",
    "#strat = \"universal.lasso.4096\"\n",
    "#strat = \"rolling.lasso.4096\"\n",
    "strat = \"roll.crypto.lasso.4096\"\n",
    "for product in product_list[0:2]:\n",
    "    get_lasso_roll_result(product, strat, test_range, month_len, atr_filter=20)\n",
    "\n",
    "# btc.usd.td 13 roll.crypto.lasso.4096.2019-09\n",
    "# btc.usd.td 14 roll.crypto.lasso.4096.2019-10\n",
    "# btc.usd.td 15 roll.crypto.lasso.4096.2019-11\n",
    "# btc.usd.td 16 roll.crypto.lasso.4096.2019-12\n",
    "# btc.usd.td 17 roll.crypto.lasso.4096.2020-01\n",
    "# btc.usd.td 18 roll.crypto.lasso.4096.2020-02\n",
    "# btc.usd.td 19 roll.crypto.lasso.4096.2020-03\n",
    "# btc.usd.td 20 roll.crypto.lasso.4096.2020-04\n",
    "# btc.usd.td 21 roll.crypto.lasso.4096.2020-05\n",
    "# btc.usd.td 22 roll.crypto.lasso.4096.2020-06\n",
    "# btc.usd.td 23 roll.crypto.lasso.4096.2020-07\n",
    "# btc.usd.td 24 roll.crypto.lasso.4096.2020-08\n",
    "# eth.usd.td 13 roll.crypto.lasso.4096.2019-09\n",
    "# eth.usd.td 14 roll.crypto.lasso.4096.2019-10\n",
    "# eth.usd.td 15 roll.crypto.lasso.4096.2019-11\n",
    "# eth.usd.td 16 roll.crypto.lasso.4096.2019-12\n",
    "# eth.usd.td 17 roll.crypto.lasso.4096.2020-01\n",
    "# eth.usd.td 18 roll.crypto.lasso.4096.2020-02\n",
    "# eth.usd.td 19 roll.crypto.lasso.4096.2020-03\n",
    "# eth.usd.td 20 roll.crypto.lasso.4096.2020-04\n",
    "# eth.usd.td 21 roll.crypto.lasso.4096.2020-05\n",
    "# eth.usd.td 22 roll.crypto.lasso.4096.2020-06\n",
    "# eth.usd.td 23 roll.crypto.lasso.4096.2020-07\n",
    "# eth.usd.td 24 roll.crypto.lasso.4096.2020-08\n",
    "# Wall time: 25min 23s"
   ]
  },
  {
   "cell_type": "code",
   "execution_count": 45,
   "metadata": {},
   "outputs": [
    {
     "data": {
      "text/plain": [
       "(132, 2)"
      ]
     },
     "execution_count": 45,
     "metadata": {},
     "output_type": "execute_result"
    }
   ],
   "source": [
    "np.shape(train_mat)"
   ]
  },
  {
   "cell_type": "code",
   "execution_count": 46,
   "metadata": {},
   "outputs": [
    {
     "data": {
      "text/plain": [
       "(8, 2)"
      ]
     },
     "execution_count": 46,
     "metadata": {},
     "output_type": "execute_result"
    }
   ],
   "source": [
    "np.shape(test_mat)"
   ]
  },
  {
   "cell_type": "code",
   "execution_count": null,
   "metadata": {},
   "outputs": [],
   "source": []
  },
  {
   "cell_type": "code",
   "execution_count": 57,
   "metadata": {
    "scrolled": true
   },
   "outputs": [
    {
     "name": "stdout",
     "output_type": "stream",
     "text": [
      "sharpe  0.3797287331752823\n"
     ]
    },
    {
     "data": {
      "image/png": "[encoded data removed]",
      "text/plain": [
       "<Figure size 1152x720 with 1 Axes>"
      ]
     },
     "metadata": {
      "needs_background": "light"
     },
     "output_type": "display_data"
    }
   ],
   "source": [
    "n_product = len(product_list[0:2])\n",
    "save_path = \"signal result atr\"\n",
    "#strat = \"universal.lasso.4096\"\n",
    "#strat = \"rolling.lasso.4096\"\n",
    "strat = \"roll.crypto.lasso.4096\"\n",
    "start_month = 0\n",
    "min_pnl = 4\n",
    "min_num = 20\n",
    "end_month = sum(month_len[0] <= \"2019-08\")-1\n",
    "all_pnl = np.array([])\n",
    "for i_test in test_range:\n",
    "    forward_len = month_len[1][i_test]\n",
    "    train_start = 0 if start_month==0 else cum_month_len[start_month-1]\n",
    "    train_end = cum_month_len[end_month]-1\n",
    "    strat_name = strat+\".\"+month_len[0][i_test]\n",
    "    #train_mat = np.zeros((train_end-train_start+1, n_product))\n",
    "    #test_mat = np.zeros((forward_len, n_product))\n",
    "    for i_product in range(n_product):\n",
    "        product = product_list[i_product]\n",
    "        stat_result = load(HEAD_PATH+\"/\"+save_path+\"/\"+product+\".\"+strat_name+\".pkl\")\n",
    "        train_stat = stat_result[\"train.stat\"]\n",
    "        test_stat = stat_result[\"test.stat\"]\n",
    "        spread = product_info[product][\"spread\"]\n",
    "        good_strat = (train_stat[\"final.result\"][\"avg.pnl\"]>min_pnl*spread) & (train_stat[\"final.result\"][\"num\"]>min_num)\n",
    "        train_pnl = train_stat[\"daily.ret\"].loc[:, good_strat].sum(axis=1)/sum(good_strat) \n",
    "        train_pnl[np.isnan(train_pnl)]=0\n",
    "        test_pnl = test_stat[\"daily.ret\"].loc[:, good_strat].sum(axis=1)/sum(good_strat)\n",
    "        if i_product==0:\n",
    "            train_mat = np.zeros((len(train_pnl), n_product))\n",
    "            test_mat = np.zeros((len(test_pnl), n_product))\n",
    "        train_mat[:,i_product] = train_pnl\n",
    "        \n",
    "        test_pnl[np.isnan(test_pnl)]=0\n",
    "        test_mat[:,i_product] = test_pnl\n",
    "    sharpe_mat = np.apply_along_axis(sharpe, 0, train_mat)\n",
    "    sharpe_weight = zero_divide(sharpe_mat, np.sum(sharpe_mat))\n",
    "    #parity_weight = risk_parity(train_mat)\n",
    "    #diagonal_weight = risk_parity(train_mat, only_diag=True)\n",
    "    avg_test_pnl = test_mat.mean(axis=1)\n",
    "    #avg_test_pnl = np.dot(test_mat, sharpe_weight)\n",
    "    #print(len(avg_test_pnl_mean)==len(avg_test_pnl))\n",
    "    #avg_test_pnl = np.dot(test_mat, parity_weight)\n",
    "    #avg_test_pnl = np.dot(test_mat, diagonal_weight)\n",
    "    all_pnl = np.append(all_pnl, avg_test_pnl)\n",
    "    #print(all_pnl)\n",
    "    #print(len(all_pnl), len(avg_test_pnl))\n",
    "    start_month = start_month+1\n",
    "    end_month = end_month+1\n",
    "plt.figure(1, figsize=(16, 10))\n",
    "plt.title(\"monthly roll lasso\")\n",
    "plt.xlabel(\"date\")\n",
    "plt.ylabel(\"pnl\")\n",
    "plt.plot(all_pnl.cumsum());\n",
    "print(\"sharpe \", sharpe(all_pnl))\n",
    "\n",
    "# sharpe  0.3797287331752823\n",
    "\n",
    "\n"
   ]
  },
  {
   "cell_type": "markdown",
   "metadata": {},
   "source": [
    "- we can see that the result is not so good but acceptable"
   ]
  },
  {
   "cell_type": "markdown",
   "metadata": {},
   "source": [
    "- Congratulations! You have finished this course!\n",
    "- Thank you very much for your participation! I wish you would enjoy taking this course!\n",
    "- Happy trading in the future!"
   ]
  },
  {
   "cell_type": "code",
   "execution_count": null,
   "metadata": {},
   "outputs": [],
   "source": []
  }
 ],
 "metadata": {
  "kernelspec": {
   "display_name": "Python 3",
   "language": "python",
   "name": "python3"
  },
  "language_info": {
   "codemirror_mode": {
    "name": "ipython",
    "version": 3
   },
   "file_extension": ".py",
   "mimetype": "text/x-python",
   "name": "python",
   "nbconvert_exporter": "python",
   "pygments_lexer": "ipython3",
   "version": "3.7.0"
  }
 },
 "nbformat": 4,
 "nbformat_minor": 2
}
