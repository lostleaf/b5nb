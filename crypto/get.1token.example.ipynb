{
 "cells": [
  {
   "cell_type": "code",
   "execution_count": 12,
   "metadata": {},
   "outputs": [],
   "source": [
    "import gzip\n",
    "import json\n",
    "import logging\n",
    "import os\n",
    "import requests\n",
    "import yaml\n",
    "import csv\n",
    "import numpy as np\n",
    "import datetime\n",
    "from datetime import timedelta\n",
    "from dateutil.relativedelta import relativedelta\n",
    "import pandas as pd\n",
    "import matplotlib.pyplot as plt"
   ]
  },
  {
   "cell_type": "code",
   "execution_count": 2,
   "metadata": {},
   "outputs": [],
   "source": [
    "def get_contracts(date, quote_type):\n",
    "    url = 'https://hist-quote.1tokentrade.cn/{}/contracts?date={}'.format(quote_type, date)\n",
    "    print('get contracts: ', url)\n",
    "    r = requests.get(url, timeout=5)\n",
    "    if r.status_code != 200:\n",
    "        print('fail get contracts', r.status_code, r.text)\n",
    "    print('----------available contracts------------')\n",
    "    print('total size', len(r.json()))\n",
    "    print('first 10 contracts', r.json()[:10])\n",
    "    return r.json()\n"
   ]
  },
  {
   "cell_type": "code",
   "execution_count": 3,
   "metadata": {},
   "outputs": [
    {
     "name": "stdout",
     "output_type": "stream",
     "text": [
      "get contracts:  https://hist-quote.1tokentrade.cn/ticks/contracts?date=2020-05-06\n",
      "----------available contracts------------\n",
      "total size 5801\n",
      "first 10 contracts ['a365mex/btc.usd.td', 'basefex/bch.btc.td', 'basefex/bnb.btc.td', 'basefex/btc.usd.td', 'basefex/btc.usdt.td', 'basefex/dash.usdt.td', 'basefex/eos.usdt.td', 'basefex/etc.usdt.td', 'basefex/eth.btc.td', 'basefex/eth.usdt.td']\n"
     ]
    }
   ],
   "source": [
    "all_contracts = np.array(get_contracts(\"2020-05-06\", 'ticks'))"
   ]
  },
  {
   "cell_type": "code",
   "execution_count": 4,
   "metadata": {},
   "outputs": [
    {
     "data": {
      "text/plain": [
       "array(['a365mex/btc.usd.td', 'basefex/bch.btc.td', 'basefex/bnb.btc.td',\n",
       "       ..., 'zb/zrx.btc', 'zb/zrx.qc', 'zb/zrx.usdt'], dtype='<U37')"
      ]
     },
     "execution_count": 4,
     "metadata": {},
     "output_type": "execute_result"
    }
   ],
   "source": [
    "all_contracts"
   ]
  },
  {
   "cell_type": "code",
   "execution_count": 5,
   "metadata": {},
   "outputs": [
    {
     "data": {
      "text/plain": [
       "array(['a365mex', 'basefex', 'binance', 'binancef', 'bitbank', 'bitfinex',\n",
       "       'bitflyer', 'bitflyex', 'bithumb', 'bitmax', 'bitmex', 'bitstamp',\n",
       "       'bittrex', 'bitz', 'bitzf', 'btcbox', 'bybit', 'coinbase',\n",
       "       'coinbeneswap', 'coincheck', 'coinone', 'crypto', 'deribit',\n",
       "       'ftxf', 'gaea', 'gaef', 'gate', 'gemini', 'gopax', 'hcoin', 'hoo',\n",
       "       'huobif', 'huobip', 'huobiswap', 'itbit', 'korbit', 'kraken',\n",
       "       'kucoin', 'kumex', 'lbank', 'mxc', 'okef', 'okex', 'okswap',\n",
       "       'poloniex', 'qume', 'quoinex', 'rightbtc', 'upbit', 'zb'],\n",
       "      dtype='<U12')"
      ]
     },
     "execution_count": 5,
     "metadata": {},
     "output_type": "execute_result"
    }
   ],
   "source": [
    "exchange_list= np.array(list(map(lambda x: x[0:x.index(\"/\")], all_contracts)))\n",
    "np.unique(exchange_list)"
   ]
  },
  {
   "cell_type": "code",
   "execution_count": 6,
   "metadata": {},
   "outputs": [
    {
     "data": {
      "text/plain": [
       "array(['huobiswap/ada.usd.td', 'huobiswap/bch.usd.td',\n",
       "       'huobiswap/bsv.usd.td', 'huobiswap/btc.usd.td',\n",
       "       'huobiswap/dash.usd.td', 'huobiswap/eos.usd.td',\n",
       "       'huobiswap/etc.usd.td', 'huobiswap/eth.usd.td',\n",
       "       'huobiswap/link.usd.td', 'huobiswap/ltc.usd.td',\n",
       "       'huobiswap/trx.usd.td', 'huobiswap/xrp.usd.td',\n",
       "       'huobiswap/zec.usd.td'], dtype='<U37')"
      ]
     },
     "execution_count": 6,
     "metadata": {},
     "output_type": "execute_result"
    }
   ],
   "source": [
    "chosen = np.where(exchange_list=='huobiswap')\n",
    "all_contracts[chosen]"
   ]
  },
  {
   "cell_type": "code",
   "execution_count": 7,
   "metadata": {},
   "outputs": [
    {
     "data": {
      "text/plain": [
       "array(['huobiswap/ada.usd.td', 'huobiswap/bch.usd.td',\n",
       "       'huobiswap/bsv.usd.td', 'huobiswap/btc.usd.td',\n",
       "       'huobiswap/dash.usd.td', 'huobiswap/eos.usd.td',\n",
       "       'huobiswap/etc.usd.td', 'huobiswap/eth.usd.td',\n",
       "       'huobiswap/link.usd.td', 'huobiswap/ltc.usd.td',\n",
       "       'huobiswap/trx.usd.td', 'huobiswap/xrp.usd.td',\n",
       "       'huobiswap/zec.usd.td'], dtype='<U37')"
      ]
     },
     "execution_count": 7,
     "metadata": {},
     "output_type": "execute_result"
    }
   ],
   "source": [
    "all_contracts[chosen]"
   ]
  },
  {
   "cell_type": "code",
   "execution_count": 8,
   "metadata": {},
   "outputs": [],
   "source": [
    "def download(url, file_path):\n",
    "    print('downloading', url)\n",
    "    r = requests.get(url, headers={'ot-key': ot_key}, stream=True)\n",
    "    if r.status_code != 200:\n",
    "        print('fail get historical data', r.status_code, r.text)\n",
    "        print('failed ot-key', ot_key[:5], ot_key[-5:], len(ot_key))\n",
    "        return\n",
    "    print('quota-remaining:', r.headers.get('ot-quota-remaining'),\n",
    "          'quota-consumption:', r.headers.get('ot-quota-consumption'))\n",
    "    block_size = 300 * 1024\n",
    "    total = 0\n",
    "    with open(file_path, 'wb') as f:\n",
    "        for data in r.iter_content(block_size):\n",
    "            f.write(data)\n",
    "            total += len(data) / 1024\n",
    "            #print('downloaded {}kb'.format(round(total)))"
   ]
  },
  {
   "cell_type": "code",
   "execution_count": 9,
   "metadata": {},
   "outputs": [],
   "source": [
    "def download_full_ticks(contract, date, file_path):\n",
    "    url = 'https://hist-quote.1tokentrade.cn/ticks/full?date={}&contract={}'.format(date, contract)\n",
    "    download(url, file_path)\n"
   ]
  },
  {
   "cell_type": "code",
   "execution_count": 10,
   "metadata": {},
   "outputs": [],
   "source": [
    "def down_load_contract_full_tick(contract, start_date, end_date,path=\"e:/1token\"):\n",
    "    format_date = datetime.datetime.strptime(start_date, \"%Y-%m-%d\")\n",
    "    day = timedelta(days=1)\n",
    "    cur_date = start_date\n",
    "    all_dates = []\n",
    "    while cur_date<end_date:\n",
    "        all_dates.append(cur_date)\n",
    "        format_date = format_date+day\n",
    "        cur_date = format_date.strftime(\"%Y-%m-%d\")\n",
    "    for date in all_dates:\n",
    "        file_path = path+'/tick-full-{}-{}.gz'.format(date, contract.replace('/', '-'))\n",
    "        download_full_ticks(contract, date , file_path)"
   ]
  },
  {
   "cell_type": "code",
   "execution_count": 14,
   "metadata": {},
   "outputs": [],
   "source": [
    "ot_key = '' ## enter your own key of 1token"
   ]
  },
  {
   "cell_type": "code",
   "execution_count": 15,
   "metadata": {},
   "outputs": [
    {
     "name": "stdout",
     "output_type": "stream",
     "text": [
      "downloading https://hist-quote.1tokentrade.cn/ticks/full?date=2020-05-06&contract=huobiswap/btc.usd.td\n",
      "quota-remaining: 12394 quota-consumption: 100\n"
     ]
    }
   ],
   "source": [
    "down_load_contract_full_tick(\"huobiswap/btc.usd.td\", \"2020-05-06\", \"2020-05-07\")"
   ]
  },
  {
   "cell_type": "code",
   "execution_count": 16,
   "metadata": {},
   "outputs": [],
   "source": [
    "path = \"e:/1token\"\n",
    "contract_name = \"huobiswap-btc.usd.td\"\n",
    "date = \"2020-05-06\"\n",
    "file_name = path+\"/tick-full-\"+date+\"-\"+contract_name+\".gz\"\n",
    "g_file = gzip.GzipFile(file_name)\n",
    "output_dire = \"e:\"\n",
    "output_name = output_dire+\"/\"+contract_name+\"-\"+date+\".csv\"\n",
    "open(output_name, \"wb+\").write(g_file.read())\n",
    "g_file.close()"
   ]
  },
  {
   "cell_type": "code",
   "execution_count": 17,
   "metadata": {},
   "outputs": [
    {
     "data": {
      "text/html": [
       "<div>\n",
       "<style scoped>\n",
       "    .dataframe tbody tr th:only-of-type {\n",
       "        vertical-align: middle;\n",
       "    }\n",
       "\n",
       "    .dataframe tbody tr th {\n",
       "        vertical-align: top;\n",
       "    }\n",
       "\n",
       "    .dataframe thead th {\n",
       "        text-align: right;\n",
       "    }\n",
       "</style>\n",
       "<table border=\"1\" class=\"dataframe\">\n",
       "  <thead>\n",
       "    <tr style=\"text-align: right;\">\n",
       "      <th></th>\n",
       "      <th>time</th>\n",
       "      <th>last</th>\n",
       "      <th>volume</th>\n",
       "      <th>ask_0_p</th>\n",
       "      <th>ask_0_v</th>\n",
       "      <th>ask_1_p</th>\n",
       "      <th>ask_1_v</th>\n",
       "      <th>ask_2_p</th>\n",
       "      <th>ask_2_v</th>\n",
       "      <th>ask_3_p</th>\n",
       "      <th>...</th>\n",
       "      <th>bid_15_v</th>\n",
       "      <th>bid_16_p</th>\n",
       "      <th>bid_16_v</th>\n",
       "      <th>bid_17_p</th>\n",
       "      <th>bid_17_v</th>\n",
       "      <th>bid_18_p</th>\n",
       "      <th>bid_18_v</th>\n",
       "      <th>bid_19_p</th>\n",
       "      <th>bid_19_v</th>\n",
       "      <th>timestamp</th>\n",
       "    </tr>\n",
       "  </thead>\n",
       "  <tbody>\n",
       "    <tr>\n",
       "      <th>0</th>\n",
       "      <td>2020-05-06T00:00:00.440623Z</td>\n",
       "      <td>9026.1</td>\n",
       "      <td>1</td>\n",
       "      <td>9026.1</td>\n",
       "      <td>2604</td>\n",
       "      <td>9026.5</td>\n",
       "      <td>1</td>\n",
       "      <td>9026.6</td>\n",
       "      <td>13</td>\n",
       "      <td>9026.8</td>\n",
       "      <td>...</td>\n",
       "      <td>54</td>\n",
       "      <td>9023.3</td>\n",
       "      <td>503</td>\n",
       "      <td>9023.2</td>\n",
       "      <td>290</td>\n",
       "      <td>9023.0</td>\n",
       "      <td>22</td>\n",
       "      <td>9022.9</td>\n",
       "      <td>1</td>\n",
       "      <td>1588723200440</td>\n",
       "    </tr>\n",
       "    <tr>\n",
       "      <th>1</th>\n",
       "      <td>2020-05-06T00:00:00.946112Z</td>\n",
       "      <td>9026.1</td>\n",
       "      <td>0</td>\n",
       "      <td>9026.1</td>\n",
       "      <td>1934</td>\n",
       "      <td>9026.5</td>\n",
       "      <td>1</td>\n",
       "      <td>9026.6</td>\n",
       "      <td>13</td>\n",
       "      <td>9026.8</td>\n",
       "      <td>...</td>\n",
       "      <td>54</td>\n",
       "      <td>9023.3</td>\n",
       "      <td>503</td>\n",
       "      <td>9023.2</td>\n",
       "      <td>252</td>\n",
       "      <td>9023.0</td>\n",
       "      <td>22</td>\n",
       "      <td>9022.9</td>\n",
       "      <td>1</td>\n",
       "      <td>1588723200946</td>\n",
       "    </tr>\n",
       "    <tr>\n",
       "      <th>2</th>\n",
       "      <td>2020-05-06T00:00:01.456087Z</td>\n",
       "      <td>9026.1</td>\n",
       "      <td>0</td>\n",
       "      <td>9026.1</td>\n",
       "      <td>2034</td>\n",
       "      <td>9026.5</td>\n",
       "      <td>1</td>\n",
       "      <td>9026.6</td>\n",
       "      <td>13</td>\n",
       "      <td>9026.8</td>\n",
       "      <td>...</td>\n",
       "      <td>200</td>\n",
       "      <td>9023.4</td>\n",
       "      <td>54</td>\n",
       "      <td>9023.3</td>\n",
       "      <td>495</td>\n",
       "      <td>9023.2</td>\n",
       "      <td>252</td>\n",
       "      <td>9023.0</td>\n",
       "      <td>22</td>\n",
       "      <td>1588723201456</td>\n",
       "    </tr>\n",
       "    <tr>\n",
       "      <th>3</th>\n",
       "      <td>2020-05-06T00:00:01.977380Z</td>\n",
       "      <td>9026.0</td>\n",
       "      <td>5</td>\n",
       "      <td>9026.1</td>\n",
       "      <td>2529</td>\n",
       "      <td>9026.5</td>\n",
       "      <td>1</td>\n",
       "      <td>9026.6</td>\n",
       "      <td>13</td>\n",
       "      <td>9026.8</td>\n",
       "      <td>...</td>\n",
       "      <td>68</td>\n",
       "      <td>9023.3</td>\n",
       "      <td>495</td>\n",
       "      <td>9023.2</td>\n",
       "      <td>252</td>\n",
       "      <td>9023.0</td>\n",
       "      <td>22</td>\n",
       "      <td>9022.8</td>\n",
       "      <td>22</td>\n",
       "      <td>1588723201977</td>\n",
       "    </tr>\n",
       "    <tr>\n",
       "      <th>4</th>\n",
       "      <td>2020-05-06T00:00:02.487149Z</td>\n",
       "      <td>9026.0</td>\n",
       "      <td>119</td>\n",
       "      <td>9026.1</td>\n",
       "      <td>5358</td>\n",
       "      <td>9026.5</td>\n",
       "      <td>1</td>\n",
       "      <td>9026.6</td>\n",
       "      <td>13</td>\n",
       "      <td>9026.8</td>\n",
       "      <td>...</td>\n",
       "      <td>14</td>\n",
       "      <td>9023.3</td>\n",
       "      <td>495</td>\n",
       "      <td>9023.2</td>\n",
       "      <td>252</td>\n",
       "      <td>9022.8</td>\n",
       "      <td>22</td>\n",
       "      <td>9022.7</td>\n",
       "      <td>6</td>\n",
       "      <td>1588723202487</td>\n",
       "    </tr>\n",
       "    <tr>\n",
       "      <th>5</th>\n",
       "      <td>2020-05-06T00:00:02.994853Z</td>\n",
       "      <td>9026.0</td>\n",
       "      <td>0</td>\n",
       "      <td>9026.1</td>\n",
       "      <td>5262</td>\n",
       "      <td>9026.5</td>\n",
       "      <td>1</td>\n",
       "      <td>9026.6</td>\n",
       "      <td>13</td>\n",
       "      <td>9026.8</td>\n",
       "      <td>...</td>\n",
       "      <td>505</td>\n",
       "      <td>9023.2</td>\n",
       "      <td>252</td>\n",
       "      <td>9022.8</td>\n",
       "      <td>22</td>\n",
       "      <td>9022.7</td>\n",
       "      <td>6</td>\n",
       "      <td>9022.6</td>\n",
       "      <td>700</td>\n",
       "      <td>1588723202994</td>\n",
       "    </tr>\n",
       "    <tr>\n",
       "      <th>6</th>\n",
       "      <td>2020-05-06T00:00:03.505479Z</td>\n",
       "      <td>9026.0</td>\n",
       "      <td>100</td>\n",
       "      <td>9026.1</td>\n",
       "      <td>2122</td>\n",
       "      <td>9026.5</td>\n",
       "      <td>1</td>\n",
       "      <td>9026.6</td>\n",
       "      <td>13</td>\n",
       "      <td>9026.8</td>\n",
       "      <td>...</td>\n",
       "      <td>495</td>\n",
       "      <td>9023.2</td>\n",
       "      <td>252</td>\n",
       "      <td>9023.0</td>\n",
       "      <td>40</td>\n",
       "      <td>9022.9</td>\n",
       "      <td>50</td>\n",
       "      <td>9022.8</td>\n",
       "      <td>22</td>\n",
       "      <td>1588723203505</td>\n",
       "    </tr>\n",
       "    <tr>\n",
       "      <th>7</th>\n",
       "      <td>2020-05-06T00:00:04.015421Z</td>\n",
       "      <td>9026.0</td>\n",
       "      <td>564</td>\n",
       "      <td>9026.1</td>\n",
       "      <td>4008</td>\n",
       "      <td>9026.5</td>\n",
       "      <td>1</td>\n",
       "      <td>9026.6</td>\n",
       "      <td>13</td>\n",
       "      <td>9026.7</td>\n",
       "      <td>...</td>\n",
       "      <td>495</td>\n",
       "      <td>9023.2</td>\n",
       "      <td>252</td>\n",
       "      <td>9023.0</td>\n",
       "      <td>11</td>\n",
       "      <td>9022.9</td>\n",
       "      <td>50</td>\n",
       "      <td>9022.8</td>\n",
       "      <td>42</td>\n",
       "      <td>1588723204015</td>\n",
       "    </tr>\n",
       "    <tr>\n",
       "      <th>8</th>\n",
       "      <td>2020-05-06T00:00:04.516161Z</td>\n",
       "      <td>9026.1</td>\n",
       "      <td>10</td>\n",
       "      <td>9026.1</td>\n",
       "      <td>3575</td>\n",
       "      <td>9026.5</td>\n",
       "      <td>2</td>\n",
       "      <td>9026.6</td>\n",
       "      <td>13</td>\n",
       "      <td>9026.7</td>\n",
       "      <td>...</td>\n",
       "      <td>52</td>\n",
       "      <td>9023.3</td>\n",
       "      <td>495</td>\n",
       "      <td>9023.2</td>\n",
       "      <td>252</td>\n",
       "      <td>9023.0</td>\n",
       "      <td>11</td>\n",
       "      <td>9022.9</td>\n",
       "      <td>50</td>\n",
       "      <td>1588723204516</td>\n",
       "    </tr>\n",
       "    <tr>\n",
       "      <th>9</th>\n",
       "      <td>2020-05-06T00:00:05.026929Z</td>\n",
       "      <td>9026.1</td>\n",
       "      <td>0</td>\n",
       "      <td>9026.1</td>\n",
       "      <td>5395</td>\n",
       "      <td>9026.5</td>\n",
       "      <td>2</td>\n",
       "      <td>9026.6</td>\n",
       "      <td>13</td>\n",
       "      <td>9026.7</td>\n",
       "      <td>...</td>\n",
       "      <td>52</td>\n",
       "      <td>9023.3</td>\n",
       "      <td>495</td>\n",
       "      <td>9023.2</td>\n",
       "      <td>252</td>\n",
       "      <td>9023.0</td>\n",
       "      <td>11</td>\n",
       "      <td>9022.9</td>\n",
       "      <td>50</td>\n",
       "      <td>1588723205026</td>\n",
       "    </tr>\n",
       "  </tbody>\n",
       "</table>\n",
       "<p>10 rows × 84 columns</p>\n",
       "</div>"
      ],
      "text/plain": [
       "                          time    last  volume  ask_0_p  ask_0_v  ask_1_p  \\\n",
       "0  2020-05-06T00:00:00.440623Z  9026.1       1   9026.1     2604   9026.5   \n",
       "1  2020-05-06T00:00:00.946112Z  9026.1       0   9026.1     1934   9026.5   \n",
       "2  2020-05-06T00:00:01.456087Z  9026.1       0   9026.1     2034   9026.5   \n",
       "3  2020-05-06T00:00:01.977380Z  9026.0       5   9026.1     2529   9026.5   \n",
       "4  2020-05-06T00:00:02.487149Z  9026.0     119   9026.1     5358   9026.5   \n",
       "5  2020-05-06T00:00:02.994853Z  9026.0       0   9026.1     5262   9026.5   \n",
       "6  2020-05-06T00:00:03.505479Z  9026.0     100   9026.1     2122   9026.5   \n",
       "7  2020-05-06T00:00:04.015421Z  9026.0     564   9026.1     4008   9026.5   \n",
       "8  2020-05-06T00:00:04.516161Z  9026.1      10   9026.1     3575   9026.5   \n",
       "9  2020-05-06T00:00:05.026929Z  9026.1       0   9026.1     5395   9026.5   \n",
       "\n",
       "   ask_1_v  ask_2_p  ask_2_v  ask_3_p  ...  bid_15_v  bid_16_p  bid_16_v  \\\n",
       "0        1   9026.6       13   9026.8  ...        54    9023.3       503   \n",
       "1        1   9026.6       13   9026.8  ...        54    9023.3       503   \n",
       "2        1   9026.6       13   9026.8  ...       200    9023.4        54   \n",
       "3        1   9026.6       13   9026.8  ...        68    9023.3       495   \n",
       "4        1   9026.6       13   9026.8  ...        14    9023.3       495   \n",
       "5        1   9026.6       13   9026.8  ...       505    9023.2       252   \n",
       "6        1   9026.6       13   9026.8  ...       495    9023.2       252   \n",
       "7        1   9026.6       13   9026.7  ...       495    9023.2       252   \n",
       "8        2   9026.6       13   9026.7  ...        52    9023.3       495   \n",
       "9        2   9026.6       13   9026.7  ...        52    9023.3       495   \n",
       "\n",
       "   bid_17_p  bid_17_v  bid_18_p  bid_18_v  bid_19_p  bid_19_v      timestamp  \n",
       "0    9023.2       290    9023.0        22    9022.9         1  1588723200440  \n",
       "1    9023.2       252    9023.0        22    9022.9         1  1588723200946  \n",
       "2    9023.3       495    9023.2       252    9023.0        22  1588723201456  \n",
       "3    9023.2       252    9023.0        22    9022.8        22  1588723201977  \n",
       "4    9023.2       252    9022.8        22    9022.7         6  1588723202487  \n",
       "5    9022.8        22    9022.7         6    9022.6       700  1588723202994  \n",
       "6    9023.0        40    9022.9        50    9022.8        22  1588723203505  \n",
       "7    9023.0        11    9022.9        50    9022.8        42  1588723204015  \n",
       "8    9023.2       252    9023.0        11    9022.9        50  1588723204516  \n",
       "9    9023.2       252    9023.0        11    9022.9        50  1588723205026  \n",
       "\n",
       "[10 rows x 84 columns]"
      ]
     },
     "execution_count": 17,
     "metadata": {},
     "output_type": "execute_result"
    }
   ],
   "source": [
    "data = pd.read_csv(output_name)\n",
    "data[:10]"
   ]
  },
  {
   "cell_type": "code",
   "execution_count": 18,
   "metadata": {},
   "outputs": [
    {
     "data": {
      "text/plain": [
       "Index(['time', 'last', 'volume', 'ask_0_p', 'ask_0_v', 'ask_1_p', 'ask_1_v',\n",
       "       'ask_2_p', 'ask_2_v', 'ask_3_p', 'ask_3_v', 'ask_4_p', 'ask_4_v',\n",
       "       'ask_5_p', 'ask_5_v', 'ask_6_p', 'ask_6_v', 'ask_7_p', 'ask_7_v',\n",
       "       'ask_8_p', 'ask_8_v', 'ask_9_p', 'ask_9_v', 'ask_10_p', 'ask_10_v',\n",
       "       'ask_11_p', 'ask_11_v', 'ask_12_p', 'ask_12_v', 'ask_13_p', 'ask_13_v',\n",
       "       'ask_14_p', 'ask_14_v', 'ask_15_p', 'ask_15_v', 'ask_16_p', 'ask_16_v',\n",
       "       'ask_17_p', 'ask_17_v', 'ask_18_p', 'ask_18_v', 'ask_19_p', 'ask_19_v',\n",
       "       'bid_0_p', 'bid_0_v', 'bid_1_p', 'bid_1_v', 'bid_2_p', 'bid_2_v',\n",
       "       'bid_3_p', 'bid_3_v', 'bid_4_p', 'bid_4_v', 'bid_5_p', 'bid_5_v',\n",
       "       'bid_6_p', 'bid_6_v', 'bid_7_p', 'bid_7_v', 'bid_8_p', 'bid_8_v',\n",
       "       'bid_9_p', 'bid_9_v', 'bid_10_p', 'bid_10_v', 'bid_11_p', 'bid_11_v',\n",
       "       'bid_12_p', 'bid_12_v', 'bid_13_p', 'bid_13_v', 'bid_14_p', 'bid_14_v',\n",
       "       'bid_15_p', 'bid_15_v', 'bid_16_p', 'bid_16_v', 'bid_17_p', 'bid_17_v',\n",
       "       'bid_18_p', 'bid_18_v', 'bid_19_p', 'bid_19_v', 'timestamp'],\n",
       "      dtype='object')"
      ]
     },
     "execution_count": 18,
     "metadata": {},
     "output_type": "execute_result"
    }
   ],
   "source": [
    "data.columns"
   ]
  },
  {
   "cell_type": "code",
   "execution_count": 19,
   "metadata": {},
   "outputs": [
    {
     "data": {
      "image/png": "[encoded data removed]",
      "text/plain": [
       "<Figure size 576x360 with 1 Axes>"
      ]
     },
     "metadata": {
      "needs_background": "light"
     },
     "output_type": "display_data"
    }
   ],
   "source": [
    "plt.figure(1, figsize=(8, 5));\n",
    "plt.plot(data[\"last\"]);"
   ]
  }
 ],
 "metadata": {
  "kernelspec": {
   "display_name": "Python 3",
   "language": "python",
   "name": "python3"
  },
  "language_info": {
   "codemirror_mode": {
    "name": "ipython",
    "version": 3
   },
   "file_extension": ".py",
   "mimetype": "text/x-python",
   "name": "python",
   "nbconvert_exporter": "python",
   "pygments_lexer": "ipython3",
   "version": "3.7.0"
  }
 },
 "nbformat": 4,
 "nbformat_minor": 2
}
