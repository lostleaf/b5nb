{
 "cells": [
  {
   "cell_type": "code",
   "execution_count": 267,
   "metadata": {},
   "outputs": [
    {
     "data": {
      "text/plain": [
       "<function helper.get_signal_stat(signal_name, thre_mat, product, all_dates, CORE_NUM, split_str='2018', reverse=1, tranct=0.00011, max_spread=0.61, tranct_ratio=True, min_pnl=2, min_num=20, atr_filter=0, HEAD_PATH='d:/intern', SIGNAL_PATH='d:/intern')>"
      ]
     },
     "execution_count": 267,
     "metadata": {},
     "output_type": "execute_result"
    }
   ],
   "source": [
    "from helper import *\n",
    "from stats import *\n",
    "from product_info import *\n",
    "from imp import reload  \n",
    "import helper\n",
    "import stats\n",
    "reload(helper)\n",
    "reload(stats)\n",
    "par_get_daily_pred\n",
    "par_get_all_signal\n",
    "get_signal_stat"
   ]
  },
  {
   "cell_type": "code",
   "execution_count": 268,
   "metadata": {},
   "outputs": [
    {
     "data": {
      "text/plain": [
       "16"
      ]
     },
     "execution_count": 268,
     "metadata": {},
     "output_type": "execute_result"
    }
   ],
   "source": [
    "CORE_NUM = int(os.environ['NUMBER_OF_PROCESSORS'])\n",
    "CORE_NUM"
   ]
  },
  {
   "cell_type": "code",
   "execution_count": 269,
   "metadata": {},
   "outputs": [],
   "source": [
    "product_list = [\"btc.usd.td\", \"eth.usd.td\", \"btc.usdt\", \"eth.usdt\"]"
   ]
  },
  {
   "cell_type": "code",
   "execution_count": 270,
   "metadata": {},
   "outputs": [],
   "source": [
    "period = 4096"
   ]
  },
  {
   "cell_type": "code",
   "execution_count": 271,
   "metadata": {},
   "outputs": [
    {
     "data": {
      "text/plain": [
       "1059"
      ]
     },
     "execution_count": 271,
     "metadata": {},
     "output_type": "execute_result"
    }
   ],
   "source": [
    "all_dates = os.listdir(DATA_PATH + product_list[0])\n",
    "all_dates.sort()\n",
    "all_dates = np.array(all_dates)\n",
    "n_days = len(all_dates)\n",
    "n_days\n",
    "## 1059"
   ]
  },
  {
   "cell_type": "code",
   "execution_count": 361,
   "metadata": {},
   "outputs": [],
   "source": [
    "SAVE_PATH = \"e:/intern\"\n",
    "all_dates_x = os.listdir(DATA_PATH + product_list[0])\n",
    "all_dates_y = os.listdir(DATA_PATH + product_list[1])\n",
    "all_dates = np.array(list(set(all_dates_x) & set(all_dates_y)))\n",
    "all_dates.sort()\n",
    "train_sample = all_dates<\"2019-09\"\n",
    "test_sample = all_dates>\"2019-09\"\n",
    "date_str = [n[0:10] for n in all_dates]\n",
    "format_dates = np.array([pd.to_datetime(d) for d in date_str])"
   ]
  },
  {
   "cell_type": "code",
   "execution_count": 273,
   "metadata": {},
   "outputs": [],
   "source": [
    "import dask\n",
    "from dask import compute, delayed\n",
    "import sklearn.preprocessing"
   ]
  },
  {
   "cell_type": "code",
   "execution_count": 274,
   "metadata": {},
   "outputs": [],
   "source": [
    "os.makedirs(HEAD_PATH+\"/all signal\", exist_ok=True)\n",
    "dire_signal_list = [\"nr\", \"dbook\", \"range.pos\", \"price.osci\", \"ma.dif.10\", \"kdj.k\", \"kdj.j\"]\n",
    "range_signal_list = [\"\", \"range\", \"std\", \"trend.index\"]\n",
    "all_signal_list = np.array([])\n",
    "for range_signal in range_signal_list:\n",
    "    for dire_signal in dire_signal_list:\n",
    "        if len(range_signal)==0:\n",
    "            signal_name = dire_signal\n",
    "        else:\n",
    "            signal_name = dire_signal+\".\"+range_signal\n",
    "        all_signal_list = np.append(all_signal_list,signal_name)\n",
    "signal_list = [signal+\".4096\" for signal in all_signal_list]\n",
    "np.append(signal_list, [\"ret.4096\", \"ret.4096.001\", \"ret.4096.002\"])\n",
    "n_signal = len(signal_list)"
   ]
  },
  {
   "cell_type": "code",
   "execution_count": 276,
   "metadata": {},
   "outputs": [
    {
     "name": "stdout",
     "output_type": "stream",
     "text": [
      "122\n",
      "92\n"
     ]
    },
    {
     "data": {
      "text/plain": [
       "Timestamp('2019-08-02 00:00:00')"
      ]
     },
     "execution_count": 276,
     "metadata": {},
     "output_type": "execute_result"
    }
   ],
   "source": [
    "train_sample = all_dates<\"2019-08\"\n",
    "test_sample = all_dates>\"2019-08\"\n",
    "date_str = [n[0:10] for n in all_dates]\n",
    "format_dates = np.array([pd.to_datetime(d) for d in date_str])\n",
    "print(sum(train_sample))\n",
    "print(sum(test_sample))\n",
    "format_dates[test_sample][0]"
   ]
  },
  {
   "cell_type": "code",
   "execution_count": 277,
   "metadata": {},
   "outputs": [],
   "source": [
    "from sklearn import linear_model\n",
    "from sklearn.model_selection import cross_val_score\n",
    "from sklearn.linear_model import lasso_path, LassoCV\n",
    "from sklearn.preprocessing import StandardScaler\n",
    "#y_signal = \"ret.\"+str(period)+\".004\"\n",
    "y_signal = \"ret.\"+str(period)"
   ]
  },
  {
   "cell_type": "markdown",
   "metadata": {},
   "source": [
    "- at first we try using lasso for them together "
   ]
  },
  {
   "cell_type": "code",
   "execution_count": 278,
   "metadata": {},
   "outputs": [],
   "source": [
    "ori_mat = load(HEAD_PATH+\"/train test mat/\"+product_list[0]+\".train.mat.pkl\")\n",
    "signal_names = ori_mat.columns[0:-4]\n",
    "signal_names\n",
    "col_names = ori_mat.columns"
   ]
  },
  {
   "cell_type": "code",
   "execution_count": 279,
   "metadata": {},
   "outputs": [
    {
     "data": {
      "text/plain": [
       "(4470, 28)"
      ]
     },
     "execution_count": 279,
     "metadata": {},
     "output_type": "execute_result"
    }
   ],
   "source": [
    "train_mat = load(HEAD_PATH+\"/train test mat/\"+product_list[0]+\".train.mat.pkl\")\n",
    "train_mat = train_mat[signal_names]\n",
    "#train_mat = pd.DataFrame(data=sklearn.preprocessing.scale(train_mat, with_mean=False), columns=signal_names)\n",
    "train_mat.shape\n",
    "## (4470, 28)"
   ]
  },
  {
   "cell_type": "code",
   "execution_count": 280,
   "metadata": {},
   "outputs": [
    {
     "name": "stdout",
     "output_type": "stream",
     "text": [
      "btc.usd.td (4470, 32)\n",
      "eth.usd.td (3801, 32)\n"
     ]
    }
   ],
   "source": [
    "train_mat = load(HEAD_PATH+\"/train test mat/\"+product_list[0]+\".train.mat.pkl\")\n",
    "train_mat = pd.DataFrame(data=sklearn.preprocessing.scale(train_mat, with_mean=False), columns=col_names)\n",
    "print(product_list[0], train_mat.shape)\n",
    "for product in product_list[1:2]:\n",
    "    cur_mat = load(HEAD_PATH+\"/train test mat/\"+product+\".train.mat.pkl\")\n",
    "    cur_mat = pd.DataFrame(data=sklearn.preprocessing.scale(cur_mat, with_mean=False), columns=col_names)\n",
    "    print(product, cur_mat.shape)\n",
    "    train_mat = train_mat.append(cur_mat)\n",
    "\n",
    "# btc.usd.td (4470, 32)\n",
    "# eth.usd.td (3801, 32)\n",
    "\n",
    "\n"
   ]
  },
  {
   "cell_type": "code",
   "execution_count": 285,
   "metadata": {},
   "outputs": [],
   "source": [
    "train_std_mat = dict([])\n",
    "for product in product_list[0:2]:\n",
    "    cur_mat = load(HEAD_PATH+\"/train test mat/\"+product+\".train.mat.pkl\")\n",
    "    train_std_mat[product] = np.std(cur_mat)"
   ]
  },
  {
   "cell_type": "code",
   "execution_count": 288,
   "metadata": {},
   "outputs": [
    {
     "name": "stdout",
     "output_type": "stream",
     "text": [
      "(8271, 28)\n",
      "[ 0.0155054   0.00570079  0.02440753 -0.         -0.07424719  0.\n",
      "  0.          0.06562325 -0.00528303 -0.          0.          0.09833834\n",
      "  0.         -0.05236299  0.01675821  0.          0.16193953  0.\n",
      " -0.          0.         -0.19170497 -0.         -0.         -0.\n",
      " -0.          0.         -0.         -0.03495968]\n"
     ]
    }
   ],
   "source": [
    "x_train = train_mat.iloc[:, :n_signal].values\n",
    "#x_train = train_mat[result[\"chosen.signals\"]]\n",
    "#x_train = train_mat[signal_list[chosen_signals]]\n",
    "y_train = train_mat.loc[:, y_signal].values\n",
    "print(np.shape(x_train))\n",
    "scaler =  StandardScaler(copy=True, with_mean=False, with_std=True)\n",
    "scaler.fit(x_train)\n",
    "x_std = np.sqrt(scaler.var_)\n",
    "x_train_normal = scaler.transform(x_train)\n",
    "model = LassoCV(n_alphas=100, fit_intercept=False, cv=5, max_iter=10000).fit(x_train_normal, y_train)\n",
    "fit_coef = np.zeros(n_signal)\n",
    "#fit_coef[pos] = model.coef_/x_std\n",
    "fit_coef = model.coef_/x_std\n",
    "print(fit_coef)\n",
    "\n",
    "# (8271, 28)\n",
    "# [ 0.0155054   0.00570079  0.02440753 -0.         -0.07424719  0.\n",
    "#   0.          0.06562325 -0.00528303 -0.          0.          0.09833834\n",
    "#   0.         -0.05236299  0.01675821  0.          0.16193953  0.\n",
    "#  -0.          0.         -0.19170497 -0.         -0.         -0.\n",
    "#  -0.          0.         -0.         -0.03495968]\n",
    "\n",
    "\n"
   ]
  },
  {
   "cell_type": "code",
   "execution_count": 290,
   "metadata": {},
   "outputs": [
    {
     "name": "stdout",
     "output_type": "stream",
     "text": [
      "btc.usd.td\n",
      "nr.4096                   0.001117\n",
      "dbook.4096                0.001771\n",
      "range.pos.4096            0.001346\n",
      "ma.dif.10.4096           -0.107693\n",
      "nr.range.4096             0.000097\n",
      "dbook.range.4096         -0.000022\n",
      "ma.dif.10.range.4096      0.000473\n",
      "kdj.j.range.4096         -0.000011\n",
      "nr.std.4096               0.000090\n",
      "range.pos.std.4096        0.000378\n",
      "kdj.j.std.4096           -0.000137\n",
      "kdj.j.trend.index.4096   -0.000941\n",
      "dtype: float64\n",
      "eth.usd.td\n",
      "nr.4096                   0.002321\n",
      "dbook.4096                0.003363\n",
      "range.pos.4096            0.002009\n",
      "ma.dif.10.4096           -0.068967\n",
      "nr.range.4096             0.002435\n",
      "dbook.range.4096         -0.000670\n",
      "ma.dif.10.range.4096      0.002446\n",
      "kdj.j.range.4096         -0.000247\n",
      "nr.std.4096               0.001970\n",
      "range.pos.std.4096        0.007456\n",
      "kdj.j.std.4096           -0.002631\n",
      "kdj.j.trend.index.4096   -0.001530\n",
      "dtype: float64\n"
     ]
    }
   ],
   "source": [
    "coef_list=dict([])\n",
    "for product in product_list[:2]:\n",
    "    coef = fit_coef*train_std_mat[product][y_signal]/train_std_mat[product][signal_names]\n",
    "    coef_list[product] = coef\n",
    "    print(product)\n",
    "    print(coef[coef!=0])\n",
    "    \n",
    "# btc.usd.td\n",
    "# nr.4096                   0.001117\n",
    "# dbook.4096                0.001771\n",
    "# range.pos.4096            0.001346\n",
    "# ma.dif.10.4096           -0.107693\n",
    "# nr.range.4096             0.000097\n",
    "# dbook.range.4096         -0.000022\n",
    "# ma.dif.10.range.4096      0.000473\n",
    "# kdj.j.range.4096         -0.000011\n",
    "# nr.std.4096               0.000090\n",
    "# range.pos.std.4096        0.000378\n",
    "# kdj.j.std.4096           -0.000137\n",
    "# kdj.j.trend.index.4096   -0.000941\n",
    "# dtype: float64\n",
    "# eth.usd.td\n",
    "# nr.4096                   0.002321\n",
    "# dbook.4096                0.003363\n",
    "# range.pos.4096            0.002009\n",
    "# ma.dif.10.4096           -0.068967\n",
    "# nr.range.4096             0.002435\n",
    "# dbook.range.4096         -0.000670\n",
    "# ma.dif.10.range.4096      0.002446\n",
    "# kdj.j.range.4096         -0.000247\n",
    "# nr.std.4096               0.001970\n",
    "# range.pos.std.4096        0.007456\n",
    "# kdj.j.std.4096           -0.002631\n",
    "# kdj.j.trend.index.4096   -0.001530\n",
    "# dtype: float64"
   ]
  },
  {
   "cell_type": "code",
   "execution_count": 291,
   "metadata": {},
   "outputs": [],
   "source": [
    "SAVE_PATH = \"e:/intern\"\n",
    "save(coef_list, SAVE_PATH+\"/crypto.lasso.pkl\")"
   ]
  },
  {
   "cell_type": "code",
   "execution_count": 292,
   "metadata": {},
   "outputs": [],
   "source": [
    "coef_list = load(SAVE_PATH+\"/crypto.lasso.pkl\")"
   ]
  },
  {
   "cell_type": "code",
   "execution_count": 293,
   "metadata": {},
   "outputs": [],
   "source": [
    "strat = \"overall.crypto.lasso.\"+str(period)\n",
    "for product in product_list:\n",
    "    os.makedirs(\"e:/intern\"+\"/tmp pkl/\"+product+\"/\"+strat, exist_ok=True)"
   ]
  },
  {
   "cell_type": "code",
   "execution_count": 294,
   "metadata": {},
   "outputs": [
    {
     "name": "stdout",
     "output_type": "stream",
     "text": [
      "btc.usd.td\n",
      "eth.usd.td\n",
      "Wall time: 5min 51s\n"
     ]
    }
   ],
   "source": [
    "%%time\n",
    "for product in product_list[0:2]:\n",
    "    print(product)\n",
    "    coef = coef_list[product]\n",
    "    parLapply(CORE_NUM, all_dates, par_get_daily_pred, \n",
    "              product=product, coef=coef, strat=strat, HEAD_PATH=\"e:/intern\", SAVE_PATH=\"e:/intern\")\n",
    "\n",
    "# btc.usd.td\n",
    "# eth.usd.td\n",
    "# Wall time: 5min 51s\n",
    "\n",
    "\n"
   ]
  },
  {
   "cell_type": "code",
   "execution_count": 295,
   "metadata": {},
   "outputs": [
    {
     "name": "stdout",
     "output_type": "stream",
     "text": [
      "btc.usd.td\n",
      "eth.usd.td\n",
      "Wall time: 23.6 s\n"
     ]
    }
   ],
   "source": [
    "%%time\n",
    "for product in product_list[:2]:\n",
    "    print(product)\n",
    "    par_get_all_signal(strat, all_dates, product, 4096, SAVE_PATH=\"e:/intern\")\n",
    "\n",
    "# btc.usd.td\n",
    "# eth.usd.td\n",
    "# Wall time: 23.6 s\n"
   ]
  },
  {
   "cell_type": "code",
   "execution_count": 299,
   "metadata": {},
   "outputs": [
    {
     "name": "stdout",
     "output_type": "stream",
     "text": [
      "reverse=1\n",
      "reverse=1\n",
      "Wall time: 7min 9s\n"
     ]
    }
   ],
   "source": [
    "%%time\n",
    "for product in product_list[:2]:\n",
    "    spread = product_info[product][\"spread\"]\n",
    "    tranct = product_info[product][\"tranct\"]\n",
    "    tranct_ratio = product_info[product][\"tranct.ratio\"]\n",
    "    evaluate_signal(\"overall.crypto.lasso\", all_dates, product, 2, 20, CORE_NUM, HEAD_PATH, \"e:/intern\",\n",
    "                    period=4096, split_str=\"2019-08\", tranct=tranct, \n",
    "                    max_spread=spread*1.1, tranct_ratio=tranct_ratio, atr_filter=20, save_path=\"signal result atr\",reverse=1)\n",
    "\n",
    "# reverse=1\n",
    "# reverse=1\n",
    "# Wall time: 3min 41s\n",
    "\n"
   ]
  },
  {
   "cell_type": "code",
   "execution_count": 302,
   "metadata": {
    "scrolled": true
   },
   "outputs": [
    {
     "name": "stdout",
     "output_type": "stream",
     "text": [
      "btc.usd.td train sharpe  0.7425249105347431 test sharpe  1.64623314079153\n",
      "eth.usd.td train sharpe  1.556446751716841 test sharpe  2.80912912895812\n",
      "train sharpe:  1.5375444085862857 test sharpe:  2.0349401250749484\n"
     ]
    },
    {
     "data": {
      "image/png": "[encoded data removed]",
      "text/plain": [
       "<Figure size 1152x720 with 1 Axes>"
      ]
     },
     "metadata": {
      "needs_background": "light"
     },
     "output_type": "display_data"
    }
   ],
   "source": [
    "i = 0\n",
    "strat = \"overall.crypto.lasso.4096\"\n",
    "test_all_pnl = np.zeros([sum(test_sample), len(product_list)])\n",
    "train_all_pnl = np.zeros([sum(train_sample), len(product_list)])\n",
    "min_pnl = 4\n",
    "min_num = 10\n",
    "for product in product_list[:2]:\n",
    "    spread = product_info[product][\"spread\"]\n",
    "    signal_stat = load(HEAD_PATH+\"/signal result atr/\"+product+\".\"+strat+\".trend.pkl\")\n",
    "    train_stat = signal_stat[\"train.stat\"]\n",
    "    good_strat = (train_stat[\"final.result\"][\"avg.pnl\"]>min_pnl*spread) & (train_stat[\"final.result\"][\"num\"]>min_num)\n",
    "    train_pnl = train_stat[\"daily.ret\"].loc[:, good_strat].sum(axis=1)/sum(good_strat)\n",
    "    test_stat = signal_stat[\"test.stat\"]\n",
    "    test_pnl = test_stat[\"daily.ret\"].loc[:, good_strat].sum(axis=1)/sum(good_strat)\n",
    "    print(product, \"train sharpe \", sharpe(train_pnl), \"test sharpe \", sharpe(test_pnl))\n",
    "    test_all_pnl[:,i] = test_pnl\n",
    "    train_all_pnl[:,i] = train_pnl\n",
    "    i = i+1\n",
    "train_portfolio = np.array(np.mean(train_all_pnl, axis=1))\n",
    "test_portfolio = np.array(np.mean(test_all_pnl, axis=1))\n",
    "all_portfolio = np.append(train_portfolio, test_portfolio)\n",
    "plt.figure(1, figsize=(16, 10));\n",
    "plt.title(\"\");\n",
    "plt.xlabel(\"date\");\n",
    "plt.ylabel(\"pnl\");\n",
    "plt.title(\"portfolio\");\n",
    "plt.plot(format_dates, all_portfolio.cumsum());\n",
    "plt.plot(format_dates[test_sample], all_portfolio.cumsum()[test_sample])\n",
    "print(\"train sharpe: \", sharpe(train_portfolio), \"test sharpe: \", sharpe(test_portfolio))    \n",
    "\n",
    "# IF train sharpe  0.5382723555283818 test sharpe  0.9297478470109406\n",
    "# IH train sharpe  0.3015850553271201 test sharpe  -0.2627275976746257\n",
    "# IC train sharpe  0.5217126788528591 test sharpe  0.8105542278366956\n",
    "# train sharpe:  0.6174139012165428 test sharpe:  0.6998230576278767\n",
    "\n",
    "\n",
    "\n",
    "\n"
   ]
  },
  {
   "cell_type": "markdown",
   "metadata": {},
   "source": [
    "- we can see that the result is much better than before\n",
    "- so we can use this method for rolling models\n",
    "- However, using the previous method may be too slow\n",
    "- we calcualte the predictions values of each product using 26 mintues, and other time add up together would be 30 mintues\n",
    "- if we are rolling on a monthly basis\n",
    "- from 201801 to 201908 there are 20 months\n",
    "- so it may use 10 hours for the rolling"
   ]
  },
  {
   "cell_type": "markdown",
   "metadata": {},
   "source": [
    "- rolling model"
   ]
  },
  {
   "cell_type": "markdown",
   "metadata": {},
   "source": [
    "- at first we need to know how many ticks every day"
   ]
  },
  {
   "cell_type": "code",
   "execution_count": 303,
   "metadata": {},
   "outputs": [],
   "source": [
    "daily_ticks = dict([])\n",
    "all_mat = dict([])\n",
    "for product in product_list[0:2]:\n",
    "    daily_num = load(HEAD_PATH+\"/daily num/\"+product+\".pkl\")\n",
    "    daily_ticks[product] = daily_num\n",
    "    test_mat = load(HEAD_PATH+\"/train test mat/\"+product+\".test.mat.pkl\")\n",
    "    train_mat = load(HEAD_PATH+\"/train test mat/\"+product+\".train.mat.pkl\")\n",
    "    all_mat[product] = pd.concat((train_mat, test_mat))"
   ]
  },
  {
   "cell_type": "markdown",
   "metadata": {},
   "source": [
    "- at first we can try a not so intensive method\n",
    "- we can get the starting day for train"
   ]
  },
  {
   "cell_type": "code",
   "execution_count": 304,
   "metadata": {},
   "outputs": [],
   "source": [
    "from sklearn import linear_model\n",
    "from sklearn.model_selection import cross_val_score\n",
    "from sklearn.linear_model import lasso_path, LassoCV"
   ]
  },
  {
   "cell_type": "markdown",
   "metadata": {},
   "source": [
    "- at first we can try a not so intensive method\n",
    "- we can get the starting day for train"
   ]
  },
  {
   "cell_type": "code",
   "execution_count": 305,
   "metadata": {},
   "outputs": [],
   "source": [
    "from sklearn.preprocessing import StandardScaler"
   ]
  },
  {
   "cell_type": "markdown",
   "metadata": {},
   "source": [
    "- now we generate prediction values for next 22 days"
   ]
  },
  {
   "cell_type": "markdown",
   "metadata": {},
   "source": [
    "- now we can combien all these and get a function for rolling\n",
    "- we can also use calendar month rather than 22 days"
   ]
  },
  {
   "cell_type": "code",
   "execution_count": 310,
   "metadata": {},
   "outputs": [],
   "source": [
    "month = np.array([file[:7] for file in all_dates])"
   ]
  },
  {
   "cell_type": "code",
   "execution_count": 311,
   "metadata": {},
   "outputs": [
    {
     "data": {
      "text/plain": [
       "(array(['2018-08', '2018-09', '2018-10', '2018-11', '2018-12', '2019-01',\n",
       "        '2019-02', '2019-03', '2019-04', '2019-05', '2019-06', '2019-07',\n",
       "        '2019-08', '2019-09', '2019-10', '2019-11', '2019-12', '2020-01',\n",
       "        '2020-02', '2020-03', '2020-04', '2020-05'], dtype='<U7'),\n",
       " array([ 7, 10, 10, 14, 11, 11, 10, 12, 14, 10,  6,  7, 10,  8, 11,  6, 14,\n",
       "         6, 10, 11,  9,  7], dtype=int64))"
      ]
     },
     "execution_count": 311,
     "metadata": {},
     "output_type": "execute_result"
    }
   ],
   "source": [
    "month_len = np.unique(month, return_counts=True)\n",
    "month_len\n",
    "# (array(['2018-08', '2018-09', '2018-10', '2018-11', '2018-12', '2019-01',\n",
    "#         '2019-02', '2019-03', '2019-04', '2019-05', '2019-06', '2019-07',\n",
    "#         '2019-08', '2019-09', '2019-10', '2019-11', '2019-12', '2020-01',\n",
    "#         '2020-02', '2020-03', '2020-04', '2020-05'], dtype='<U7'),\n",
    "#  array([ 7, 10, 10, 14, 11, 11, 10, 12, 14, 10,  6,  7, 10,  8, 11,  6, 14,\n",
    "#          6, 10, 11,  9,  7], dtype=int64))"
   ]
  },
  {
   "cell_type": "code",
   "execution_count": 339,
   "metadata": {},
   "outputs": [],
   "source": [
    "## training multiple products together with rolling model\n",
    "## train_start: start day to train\n",
    "## train_end: end day to train\n",
    "## forward_len: length of test sets\n",
    "## strat: name of strategy\n",
    "## single_product: the products that need to train separately\n",
    "## combine_product: the products that need to train together\n",
    "def get_multiple_lasso_roll_model(train_start, train_end, y_signal, forward_len, strat, \n",
    "                          single_product, combine_product, period=4096, SAVE_PATH=\"e:/intern\"):\n",
    "    product_list = np.append(single_product, combine_product) ## all of the products\n",
    "    cum_daily_ticks = dict([]) ## cumulative of number of ticks by product\n",
    "    train_tick_start = dict([]) ## startting ticks of training set\n",
    "    train_tick_end = dict([])   ## ending ticks of training set\n",
    "    test_tick_start = dict([]) ## startting ticks of test set\n",
    "    test_tick_end = dict([]) ## ending ticks of test set\n",
    "    scaler =  StandardScaler(copy=True, with_mean=False, with_std=True)\n",
    "    for product in product_list:\n",
    "        cum_daily_ticks[product] = daily_ticks[product].cumsum()\n",
    "        if train_start==0:\n",
    "            train_tick_start[product] = 0\n",
    "        else:\n",
    "            train_tick_start[product] = int(cum_daily_ticks[product][train_start-1]+1)\n",
    "        train_tick_end[product] = int(cum_daily_ticks[product][train_end]-1) \n",
    "        ## the last tick would use future data that in the test sample for response variable y, so we need to minus 1 here\n",
    "        test_tick_start[product] = int(train_tick_end[product]+2) ## we minus 1 in train_tick_end, so need to plus 2 for test_tick_start\n",
    "        test_tick_end[product] = int(cum_daily_ticks[product][train_end+1]) ## we only use 1 month as test sample so plus 1 here\n",
    "    coef_list = dict([])\n",
    "    for product in single_product: ## train products in single_product separately \n",
    "        x_train = all_mat[product].iloc[train_tick_start[product]:train_tick_end[product], :n_signal].values\n",
    "        y_train = all_mat[product][y_signal][train_tick_start[product]:train_tick_end[product]]\n",
    "        n_train = x_train.shape[0]\n",
    "        scaler =  StandardScaler(copy=True, with_mean=False, with_std=True)\n",
    "        scaler.fit(x_train)\n",
    "        x_std = np.sqrt(scaler.var_)\n",
    "        x_train_normal = scaler.transform(x_train)\n",
    "        model = LassoCV(n_alphas=100, fit_intercept=False, cv=5, max_iter=10000).fit(x_train_normal, y_train)\n",
    "        coef = model.coef_ / x_std\n",
    "        coef_list[product] = coef\n",
    "    train_std_mat = dict([])\n",
    "    y_std = dict([])\n",
    "    train_mat = np.zeros((0,n_signal))\n",
    "    y_train = np.array([])\n",
    "    for product in combine_product: ## combine data sets together and then fit the model\n",
    "        x_train = all_mat[product].iloc[train_tick_start[product]:train_tick_end[product], :n_signal].values\n",
    "        cur_y_train = all_mat[product][y_signal][train_tick_start[product]:train_tick_end[product]]\n",
    "        scaler.fit(x_train)\n",
    "        x_train = scaler.transform(x_train) ## normalize data before combine\n",
    "        train_std_mat[product] = np.sqrt(scaler.var_)\n",
    "        train_mat = np.append(train_mat,x_train, axis=0)\n",
    "        y_std[product] = np.std(cur_y_train)\n",
    "        y_train = np.append(y_train, cur_y_train/y_std[product])\n",
    "    x_train = train_mat\n",
    "    scaler =  StandardScaler(copy=True, with_mean=False, with_std=True)\n",
    "    scaler.fit(x_train)\n",
    "    x_std = np.sqrt(scaler.var_)\n",
    "    x_train_normal = scaler.transform(x_train) ## normalized the combined data again\n",
    "    model = LassoCV(n_alphas=100, fit_intercept=False, cv=5, max_iter=10000).fit(x_train_normal, y_train)\n",
    "    #fit_coef = np.zeros(n_signal)\n",
    "    #fit_coef[pos] = model.coef_/x_std ## transform to the value before second normaliztion\n",
    "    fit_coef = model.coef_/x_std\n",
    "    #model = LassoCV(n_alphas=100, fit_intercept=False, cv=10, max_iter=10000).fit(train_mat, y_train)\n",
    "    #fit_coef = model.coef_\n",
    "    for product in combine_product:\n",
    "        coef_list[product] = fit_coef*y_std[product]/train_std_mat[product] ## transform to the value before the first normalization\n",
    "    os.makedirs(SAVE_PATH+\"/model\", exist_ok=True)\n",
    "    save(coef_list, SAVE_PATH+\"/model/\"+strat+\".pkl\")\n",
    "    \n"
   ]
  },
  {
   "cell_type": "code",
   "execution_count": 360,
   "metadata": {},
   "outputs": [
    {
     "name": "stdout",
     "output_type": "stream",
     "text": [
      "['2019-09' '2019-10' '2019-11' '2019-12' '2020-01' '2020-02' '2020-03'\n",
      " '2020-04' '2020-05']\n"
     ]
    }
   ],
   "source": [
    "test_range = np.where(month_len[0] > \"2019-08\" )[0]\n",
    "print(month_len[0][test_range])\n",
    "start_month = 0\n",
    "end_month = sum(month_len[0] < \"2019-08\")-1\n",
    "cum_month_len = np.cumsum(month_len[1])\n",
    "\n",
    "# ['2019-09' '2019-10' '2019-11' '2019-12' '2020-01' '2020-02'\n",
    "#  '2020-03' '2020-04' '2020-05']\n",
    "\n",
    "\n"
   ]
  },
  {
   "cell_type": "code",
   "execution_count": 341,
   "metadata": {},
   "outputs": [
    {
     "name": "stdout",
     "output_type": "stream",
     "text": [
      "13 2019-09\n",
      "14 2019-10\n",
      "15 2019-11\n",
      "16 2019-12\n",
      "17 2020-01\n",
      "18 2020-02\n",
      "19 2020-03\n",
      "20 2020-04\n",
      "21 2020-05\n",
      "Wall time: 12.1 s\n"
     ]
    }
   ],
   "source": [
    "%%time\n",
    "#strat = \"universal.lasso.4096\"\n",
    "#strat = \"rolling.lasso.4096\"\n",
    "strat = \"roll.crypto.lasso.4096\" ## with double normalization\n",
    "#y_signal = \"ret.4096.004\"\n",
    "y_signal = \"ret.4096\"\n",
    "start_month = 0\n",
    "end_month = sum(month_len[0] < \"2019-08\")-1\n",
    "for i_test in test_range:\n",
    "    forward_len = month_len[1][i_test]\n",
    "    train_start = 0 if start_month==0 else cum_month_len[start_month-1]\n",
    "    train_end = cum_month_len[end_month]-1\n",
    "    print(i_test, month_len[0][i_test])\n",
    "    get_multiple_lasso_roll_model(train_start, train_end, y_signal, forward_len, strat+\".\"+month_len[0][i_test], \n",
    "                          [], product_list[:2], period=4096, SAVE_PATH=\"e:/intern\")\n",
    "    start_month = start_month+1\n",
    "    end_month = end_month+1\n",
    "    \n",
    "# 13 2019-09\n",
    "# 14 2019-10\n",
    "# 15 2019-11\n",
    "# 16 2019-12\n",
    "# 17 2020-01\n",
    "# 18 2020-02\n",
    "# 19 2020-03\n",
    "# 20 2020-04\n",
    "# 21 2020-05\n",
    "# Wall time: 12.1 s\n"
   ]
  },
  {
   "cell_type": "markdown",
   "metadata": {},
   "source": [
    "- Then we can generate prediction values of each model"
   ]
  },
  {
   "cell_type": "code",
   "execution_count": 343,
   "metadata": {},
   "outputs": [
    {
     "name": "stdout",
     "output_type": "stream",
     "text": [
      "13 2019-09\n",
      "14 2019-10\n",
      "15 2019-11\n",
      "16 2019-12\n",
      "17 2020-01\n",
      "18 2020-02\n",
      "19 2020-03\n",
      "20 2020-04\n",
      "21 2020-05\n",
      "Wall time: 5min 29s\n"
     ]
    }
   ],
   "source": [
    "%%time\n",
    "start_month = 0\n",
    "SAVE_PATH = \"e:/intern\"\n",
    "end_month = sum(month_len[0] < \"2019-08\")-1\n",
    "for i_test in test_range:\n",
    "    forward_len = month_len[1][i_test]\n",
    "    train_start = 0 if start_month==0 else cum_month_len[start_month-1]\n",
    "    train_end = cum_month_len[end_month]-1\n",
    "    print(i_test, month_len[0][i_test])\n",
    "    strat_name = strat+\".\"+month_len[0][i_test]\n",
    "    coef_list = load(SAVE_PATH+\"/model/\"+strat_name+\".pkl\")\n",
    "    for product in product_list[0:2]:\n",
    "        coef = coef_list[product]\n",
    "        os.makedirs(SAVE_PATH+\"/tmp pkl/\"+product+\"/\"+strat_name, exist_ok=True)\n",
    "        ## each model has training set from train_start to train_end, and a test set until train_end+forward_len, so \n",
    "        ## we need to generate values of all_dates[train_start:(train_end+forward_len)+1], plus 1 to include train_end+forward_len\n",
    "        parLapply(CORE_NUM, all_dates[train_start:(train_end+forward_len)+1], par_get_daily_pred, \n",
    "                  product=product, coef=coef, strat=strat_name, HEAD_PATH=\"e:/intern\",SAVE_PATH=\"e:/intern\")\n",
    "    start_month = start_month+1\n",
    "    end_month = end_month+1\n",
    "\n",
    "# 13 2019-09\n",
    "# 14 2019-10\n",
    "# 15 2019-11\n",
    "# 16 2019-12\n",
    "# 17 2020-01\n",
    "# 18 2020-02\n",
    "# 19 2020-03\n",
    "# 20 2020-04\n",
    "# 21 2020-05\n",
    "# Wall time: 5min 29s\n"
   ]
  },
  {
   "cell_type": "code",
   "execution_count": 346,
   "metadata": {},
   "outputs": [
    {
     "name": "stdout",
     "output_type": "stream",
     "text": [
      "2019-09 2018-08-10.pkl 2019-07-30.pkl\n",
      "2019-10 2018-09-01.pkl 2019-08-31.pkl\n",
      "2019-11 2018-10-01.pkl 2019-09-29.pkl\n",
      "2019-12 2018-11-06.pkl 2019-10-28.pkl\n",
      "2020-01 2018-12-03.pkl 2019-11-29.pkl\n",
      "2020-02 2019-01-02.pkl 2019-12-30.pkl\n",
      "2020-03 2019-02-05.pkl 2020-01-27.pkl\n",
      "2020-04 2019-03-03.pkl 2020-02-25.pkl\n",
      "2020-05 2019-04-02.pkl 2020-03-30.pkl\n",
      "Wall time: 1min 34s\n"
     ]
    }
   ],
   "source": [
    "%%time\n",
    "#strat = \"universal.lasso.4096\"\n",
    "#strat = \"rolling.lasso.4096\"\n",
    "strat = \"roll.crypto.lasso.4096\"\n",
    "start_month = 0\n",
    "end_month = sum(month_len[0] < \"2019-08\")-1\n",
    "for i_test in test_range:\n",
    "    train_start = 0 if start_month==0 else cum_month_len[start_month-1]\n",
    "    train_end = cum_month_len[end_month]-1\n",
    "    print(month_len[0][i_test], all_dates[train_start], all_dates[train_end])\n",
    "    ## we only generte distribution on training set, not on test set\n",
    "    for product in product_list[:2]:\n",
    "        par_get_all_signal(strat+\".\"+month_len[0][i_test], all_dates[train_start:(train_end+1)], product, 4096, SAVE_PATH=\"e:/intern\")\n",
    "    start_month = start_month+1\n",
    "    end_month = end_month+1\n",
    "\n",
    "# 2019-09 2018-08-10.pkl 2019-07-30.pkl\n",
    "# 2019-10 2018-09-01.pkl 2019-08-31.pkl\n",
    "# 2019-11 2018-10-01.pkl 2019-09-29.pkl\n",
    "# 2019-12 2018-11-06.pkl 2019-10-28.pkl\n",
    "# 2020-01 2018-12-03.pkl 2019-11-29.pkl\n",
    "# 2020-02 2019-01-02.pkl 2019-12-30.pkl\n",
    "# 2020-03 2019-02-05.pkl 2020-01-27.pkl\n",
    "# 2020-04 2019-03-03.pkl 2020-02-25.pkl\n",
    "# 2020-05 2019-04-02.pkl 2020-03-30.pkl\n",
    "# Wall time: 1min 34s"
   ]
  },
  {
   "cell_type": "code",
   "execution_count": 347,
   "metadata": {},
   "outputs": [],
   "source": [
    "## get rolling statistics of the strategy performance\n",
    "def get_lasso_roll_result(product, strat,test_range, month_len, atr_filter=0, save_path=\"signal result atr\", \n",
    "                          HEAD_PATH=\"d:/intern\", SIGNAL_PATH=\"e:/intern\"):\n",
    "    start_month = 0\n",
    "    end_month = sum(month_len[0] < \"2019-08\")-1\n",
    "    tranct = product_info[product][\"tranct\"]\n",
    "    tranct_ratio = product_info[product][\"tranct.ratio\"]\n",
    "    spread = product_info[product][\"spread\"]\n",
    "    for i_test in test_range:\n",
    "        forward_len = month_len[1][i_test]\n",
    "        train_start = 0 if start_month==0 else cum_month_len[start_month-1]\n",
    "        train_end = cum_month_len[end_month]-1\n",
    "        strat_name = strat+\".\"+month_len[0][i_test]\n",
    "        print(product, i_test, strat_name)\n",
    "        all_signal = load(SIGNAL_PATH+\"/all signal/\"+product+\".\"+strat_name+\".pkl\")\n",
    "        open_list = np.quantile(abs(all_signal), np.append(np.arange(0.991,0.999,0.001),np.arange(0.9991,0.9999,0.0001)))\n",
    "        thre_list = []\n",
    "        for cartesian in itertools.product(open_list, np.array([0.2, 0.4, 0.6, 0.8, 1.0])):\n",
    "            thre_list.append((cartesian[0], -cartesian[0] * cartesian[1]))\n",
    "        thre_list = np.array(thre_list)\n",
    "        thre_mat = pd.DataFrame(data=OrderedDict([(\"open\", thre_list[:, 0]), (\"close\", thre_list[:, 1])]))\n",
    "        train_result = parLapply(CORE_NUM, all_dates[train_start:(train_end+1)], get_signal_pnl, \n",
    "                             product=product, signal_name=strat_name, thre_mat=thre_mat, reverse=1, tranct=tranct, \n",
    "                             max_spread=spread*1.1, tranct_ratio=tranct_ratio, HEAD_PATH=HEAD_PATH, SIGNAL_PATH=SIGNAL_PATH,\n",
    "                            atr_filter=atr_filter, rebate=0)\n",
    "        train_stat = get_hft_summary(train_result, thre_mat, train_end-train_start+1)\n",
    "        test_result = parLapply(CORE_NUM, all_dates[(train_end+1):(train_end+forward_len+1)], get_signal_pnl, \n",
    "                            product=product, signal_name=strat_name, thre_mat=thre_mat, reverse=1, tranct=tranct, \n",
    "                             max_spread=spread*1.1, tranct_ratio=tranct_ratio, HEAD_PATH=HEAD_PATH, SIGNAL_PATH=SIGNAL_PATH,\n",
    "                            atr_filter=atr_filter, rebate=0)\n",
    "        test_stat = get_hft_summary(test_result, thre_mat, forward_len)\n",
    "        stat_result = OrderedDict([(\"train.stat\", train_stat), (\"test.stat\", test_stat)])    \n",
    "        save(stat_result, HEAD_PATH+\"/\"+save_path+\"/\"+product+\".\"+strat_name+\".pkl\")\n",
    "        start_month = start_month+1\n",
    "        end_month = end_month+1\n"
   ]
  },
  {
   "cell_type": "code",
   "execution_count": 348,
   "metadata": {},
   "outputs": [
    {
     "name": "stdout",
     "output_type": "stream",
     "text": [
      "btc.usd.td 13 roll.crypto.lasso.4096.2019-09\n",
      "btc.usd.td 14 roll.crypto.lasso.4096.2019-10\n",
      "btc.usd.td 15 roll.crypto.lasso.4096.2019-11\n",
      "btc.usd.td 16 roll.crypto.lasso.4096.2019-12\n",
      "btc.usd.td 17 roll.crypto.lasso.4096.2020-01\n",
      "btc.usd.td 18 roll.crypto.lasso.4096.2020-02\n",
      "btc.usd.td 19 roll.crypto.lasso.4096.2020-03\n",
      "btc.usd.td 20 roll.crypto.lasso.4096.2020-04\n",
      "btc.usd.td 21 roll.crypto.lasso.4096.2020-05\n",
      "eth.usd.td 13 roll.crypto.lasso.4096.2019-09\n",
      "eth.usd.td 14 roll.crypto.lasso.4096.2019-10\n",
      "eth.usd.td 15 roll.crypto.lasso.4096.2019-11\n",
      "eth.usd.td 16 roll.crypto.lasso.4096.2019-12\n",
      "eth.usd.td 17 roll.crypto.lasso.4096.2020-01\n",
      "eth.usd.td 18 roll.crypto.lasso.4096.2020-02\n",
      "eth.usd.td 19 roll.crypto.lasso.4096.2020-03\n",
      "eth.usd.td 20 roll.crypto.lasso.4096.2020-04\n",
      "eth.usd.td 21 roll.crypto.lasso.4096.2020-05\n",
      "Wall time: 38min 56s\n"
     ]
    }
   ],
   "source": [
    "%%time\n",
    "#strat = \"universal.lasso.4096\"\n",
    "#strat = \"rolling.lasso.4096\"\n",
    "strat = \"roll.crypto.lasso.4096\"\n",
    "for product in product_list[0:2]:\n",
    "    get_lasso_roll_result(product, strat, test_range, month_len, atr_filter=20)\n",
    "\n",
    "# btc.usd.td 13 roll.crypto.lasso.4096.2019-09\n",
    "# btc.usd.td 14 roll.crypto.lasso.4096.2019-10\n",
    "# btc.usd.td 15 roll.crypto.lasso.4096.2019-11\n",
    "# btc.usd.td 16 roll.crypto.lasso.4096.2019-12\n",
    "# btc.usd.td 17 roll.crypto.lasso.4096.2020-01\n",
    "# btc.usd.td 18 roll.crypto.lasso.4096.2020-02\n",
    "# btc.usd.td 19 roll.crypto.lasso.4096.2020-03\n",
    "# btc.usd.td 20 roll.crypto.lasso.4096.2020-04\n",
    "# btc.usd.td 21 roll.crypto.lasso.4096.2020-05\n",
    "# eth.usd.td 13 roll.crypto.lasso.4096.2019-09\n",
    "# eth.usd.td 14 roll.crypto.lasso.4096.2019-10\n",
    "# eth.usd.td 15 roll.crypto.lasso.4096.2019-11\n",
    "# eth.usd.td 16 roll.crypto.lasso.4096.2019-12\n",
    "# eth.usd.td 17 roll.crypto.lasso.4096.2020-01\n",
    "# eth.usd.td 18 roll.crypto.lasso.4096.2020-02\n",
    "# eth.usd.td 19 roll.crypto.lasso.4096.2020-03\n",
    "# eth.usd.td 20 roll.crypto.lasso.4096.2020-04\n",
    "# eth.usd.td 21 roll.crypto.lasso.4096.2020-05\n",
    "# Wall time: 38min 56s\n"
   ]
  },
  {
   "cell_type": "code",
   "execution_count": 358,
   "metadata": {},
   "outputs": [
    {
     "data": {
      "text/plain": [
       "array([13, 14, 15, 16, 17, 18, 19, 20, 21], dtype=int64)"
      ]
     },
     "execution_count": 358,
     "metadata": {},
     "output_type": "execute_result"
    }
   ],
   "source": [
    "test_range"
   ]
  },
  {
   "cell_type": "code",
   "execution_count": 365,
   "metadata": {},
   "outputs": [
    {
     "name": "stdout",
     "output_type": "stream",
     "text": [
      "sharpe  0.9119954426918262\n"
     ]
    },
    {
     "data": {
      "image/png": "[encoded data removed]",
      "text/plain": [
       "<Figure size 1152x720 with 1 Axes>"
      ]
     },
     "metadata": {
      "needs_background": "light"
     },
     "output_type": "display_data"
    }
   ],
   "source": [
    "n_product = len(product_list[0:2])\n",
    "save_path = \"signal result atr\"\n",
    "#strat = \"universal.lasso.4096\"\n",
    "#strat = \"rolling.lasso.4096\"\n",
    "strat = \"roll.crypto.lasso.4096\"\n",
    "start_month = 0\n",
    "min_pnl = 10\n",
    "min_num = 20\n",
    "end_month = sum(month_len[0] < \"2019-08\")-1\n",
    "all_pnl = np.array([])\n",
    "for i_test in test_range:\n",
    "    forward_len = month_len[1][i_test]\n",
    "    train_start = 0 if start_month==0 else cum_month_len[start_month-1]\n",
    "    train_end = cum_month_len[end_month]-1\n",
    "    strat_name = strat+\".\"+month_len[0][i_test]\n",
    "    train_mat = np.zeros((train_end-train_start+1, n_product))\n",
    "    test_mat = np.zeros((forward_len, n_product))\n",
    "    for i_product in range(n_product):\n",
    "        product = product_list[i_product]\n",
    "        stat_result = load(HEAD_PATH+\"/\"+save_path+\"/\"+product+\".\"+strat_name+\".pkl\")\n",
    "        train_stat = stat_result[\"train.stat\"]\n",
    "        test_stat = stat_result[\"test.stat\"]\n",
    "        spread = product_info[product][\"spread\"]\n",
    "        good_strat = (train_stat[\"final.result\"][\"avg.pnl\"]>min_pnl*spread) & (train_stat[\"final.result\"][\"num\"]>min_num)\n",
    "        train_pnl = train_stat[\"daily.ret\"].loc[:, good_strat].sum(axis=1)/sum(good_strat) \n",
    "        train_pnl[np.isnan(train_pnl)]=0\n",
    "        train_mat[:,i_product] = train_pnl\n",
    "        test_pnl = test_stat[\"daily.ret\"].loc[:, good_strat].sum(axis=1)/sum(good_strat)\n",
    "        test_pnl[np.isnan(test_pnl)]=0\n",
    "        test_mat[:,i_product] = test_pnl\n",
    "    sharpe_mat = np.apply_along_axis(sharpe, 0, train_mat)\n",
    "    sharpe_weight = zero_divide(sharpe_mat, np.sum(sharpe_mat))\n",
    "    #parity_weight = risk_parity(train_mat)\n",
    "    #diagonal_weight = risk_parity(train_mat, only_diag=True)\n",
    "    avg_test_pnl = test_mat.mean(axis=1)\n",
    "    #avg_test_pnl = np.dot(test_mat, sharpe_weight)\n",
    "    #print(len(avg_test_pnl_mean)==len(avg_test_pnl))\n",
    "    #avg_test_pnl = np.dot(test_mat, parity_weight)\n",
    "    #avg_test_pnl = np.dot(test_mat, diagonal_weight)\n",
    "    all_pnl = np.append(all_pnl, avg_test_pnl)\n",
    "    #print(all_pnl)\n",
    "    #print(len(all_pnl), len(avg_test_pnl))\n",
    "    start_month = start_month+1\n",
    "    end_month = end_month+1\n",
    "plt.figure(1, figsize=(16, 10))\n",
    "plt.title(\"monthly roll lasso\")\n",
    "plt.xlabel(\"date\")\n",
    "plt.ylabel(\"pnl\")\n",
    "plt.plot(format_dates[test_sample], all_pnl.cumsum());\n",
    "print(\"sharpe \", sharpe(all_pnl))\n",
    "\n",
    "## sharpe  0.9119954426918262  ## avg\n",
    "## sharpe  0.7391606833372824 ## sharpe\n"
   ]
  },
  {
   "cell_type": "code",
   "execution_count": null,
   "metadata": {},
   "outputs": [],
   "source": []
  }
 ],
 "metadata": {
  "kernelspec": {
   "display_name": "Python 3",
   "language": "python",
   "name": "python3"
  },
  "language_info": {
   "codemirror_mode": {
    "name": "ipython",
    "version": 3
   },
   "file_extension": ".py",
   "mimetype": "text/x-python",
   "name": "python",
   "nbconvert_exporter": "python",
   "pygments_lexer": "ipython3",
   "version": "3.7.0"
  }
 },
 "nbformat": 4,
 "nbformat_minor": 2
}
