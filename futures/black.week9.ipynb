{
 "cells": [
  {
   "cell_type": "code",
   "execution_count": 1,
   "metadata": {},
   "outputs": [
    {
     "data": {
      "text/plain": [
       "<function helper.get_signal_stat(signal_name, thre_mat, product, all_dates, CORE_NUM, split_str='2018', reverse=1, tranct=0.00011, max_spread=0.61, tranct_ratio=True, min_pnl=2, min_num=20, atr_filter=0, HEAD_PATH='d:/intern', SIGNAL_PATH='d:/intern')>"
      ]
     },
     "execution_count": 1,
     "metadata": {},
     "output_type": "execute_result"
    }
   ],
   "source": [
    "from helper import *\n",
    "from stats import *\n",
    "from product_info import *\n",
    "from imp import reload  \n",
    "import helper\n",
    "import stats\n",
    "reload(helper)\n",
    "reload(stats)\n",
    "par_get_daily_pred\n",
    "par_get_all_signal\n",
    "get_signal_stat"
   ]
  },
  {
   "cell_type": "code",
   "execution_count": 2,
   "metadata": {},
   "outputs": [
    {
     "data": {
      "text/plain": [
       "16"
      ]
     },
     "execution_count": 2,
     "metadata": {},
     "output_type": "execute_result"
    }
   ],
   "source": [
    "CORE_NUM = int(os.environ['NUMBER_OF_PROCESSORS'])\n",
    "CORE_NUM"
   ]
  },
  {
   "cell_type": "code",
   "execution_count": 3,
   "metadata": {},
   "outputs": [],
   "source": [
    "product_list = [\"rb\", \"hc\", \"i\", \"j\", \"jm\"]"
   ]
  },
  {
   "cell_type": "code",
   "execution_count": 4,
   "metadata": {},
   "outputs": [],
   "source": [
    "period = 4096"
   ]
  },
  {
   "cell_type": "code",
   "execution_count": 5,
   "metadata": {},
   "outputs": [
    {
     "data": {
      "text/plain": [
       "915"
      ]
     },
     "execution_count": 5,
     "metadata": {},
     "output_type": "execute_result"
    }
   ],
   "source": [
    "all_dates = os.listdir(DATA_PATH + product_list[0])\n",
    "all_dates.sort()\n",
    "all_dates = np.array(all_dates)\n",
    "n_days = len(all_dates)\n",
    "n_days\n",
    "## 915"
   ]
  },
  {
   "cell_type": "code",
   "execution_count": 6,
   "metadata": {},
   "outputs": [],
   "source": [
    "import dask\n",
    "from dask import compute, delayed\n",
    "import sklearn.preprocessing"
   ]
  },
  {
   "cell_type": "code",
   "execution_count": 7,
   "metadata": {},
   "outputs": [],
   "source": [
    "os.makedirs(HEAD_PATH+\"/all signal\", exist_ok=True)\n",
    "dire_signal_list = [\"trade.imb\", \"total.trade.imb\", \"nr\", \"dbook\", \"range.pos\", \"price.osci\", \"ma.dif.10\", \"kdj.k\", \"kdj.j\"]\n",
    "range_signal_list = [\"\", \"range\", \"std\", \"volume.open.ratio\", \"trend.index\"]\n",
    "all_signal_list = np.array([])\n",
    "for range_signal in range_signal_list:\n",
    "    for dire_signal in dire_signal_list:\n",
    "        if len(range_signal)==0:\n",
    "            signal_name = dire_signal\n",
    "        else:\n",
    "            signal_name = dire_signal+\".\"+range_signal\n",
    "        all_signal_list = np.append(all_signal_list,signal_name)\n",
    "signal_list = [signal+\".4096\" for signal in all_signal_list]\n",
    "n_signal = len(signal_list)"
   ]
  },
  {
   "cell_type": "code",
   "execution_count": 8,
   "metadata": {},
   "outputs": [],
   "source": [
    "train_sample = all_dates<\"2018\"\n",
    "test_sample = all_dates>\"2018\"\n",
    "date_str = [n[0:8] for n in all_dates]\n",
    "format_dates = np.array([pd.to_datetime(d) for d in date_str])"
   ]
  },
  {
   "cell_type": "code",
   "execution_count": 9,
   "metadata": {},
   "outputs": [],
   "source": [
    "from sklearn import linear_model\n",
    "from sklearn.model_selection import cross_val_score\n",
    "from sklearn.linear_model import lasso_path, LassoCV\n",
    "from sklearn.preprocessing import StandardScaler\n",
    "y_signal = \"ret.\"+str(period)+\".002\""
   ]
  },
  {
   "cell_type": "markdown",
   "metadata": {},
   "source": [
    "- at first we try using lasso for rb, hc, j, jm together "
   ]
  },
  {
   "cell_type": "code",
   "execution_count": 10,
   "metadata": {},
   "outputs": [],
   "source": [
    "ori_mat = load(HEAD_PATH+\"/train test mat/\"+product_list[0]+\".train.mat.pkl\")\n",
    "signal_names = ori_mat.columns[0:-3]\n",
    "signal_names\n",
    "col_names = ori_mat.columns"
   ]
  },
  {
   "cell_type": "code",
   "execution_count": 11,
   "metadata": {},
   "outputs": [
    {
     "data": {
      "text/plain": [
       "(5266, 45)"
      ]
     },
     "execution_count": 11,
     "metadata": {},
     "output_type": "execute_result"
    }
   ],
   "source": [
    "train_mat = load(HEAD_PATH+\"/train test mat/\"+product_list[0]+\".train.mat.pkl\")\n",
    "train_mat = train_mat[signal_names]\n",
    "#train_mat = pd.DataFrame(data=sklearn.preprocessing.scale(train_mat, with_mean=False), columns=signal_names)\n",
    "train_mat.shape"
   ]
  },
  {
   "cell_type": "code",
   "execution_count": 12,
   "metadata": {},
   "outputs": [
    {
     "name": "stdout",
     "output_type": "stream",
     "text": [
      "rb (5266, 48)\n",
      "hc (3894, 48)\n",
      "j (3118, 48)\n",
      "jm (2999, 48)\n"
     ]
    }
   ],
   "source": [
    "train_mat = load(HEAD_PATH+\"/train test mat/\"+product_list[0]+\".train.mat.pkl\")\n",
    "train_mat = pd.DataFrame(data=sklearn.preprocessing.scale(train_mat, with_mean=False), columns=col_names)\n",
    "print(product_list[0], train_mat.shape)\n",
    "for product in [\"hc\",\"j\",\"jm\"]:\n",
    "    cur_mat = load(HEAD_PATH+\"/train test mat/\"+product+\".train.mat.pkl\")\n",
    "    cur_mat = pd.DataFrame(data=sklearn.preprocessing.scale(cur_mat, with_mean=False), columns=col_names)\n",
    "    print(product, cur_mat.shape)\n",
    "    train_mat = train_mat.append(cur_mat)\n",
    "# rb (5266, 48)\n",
    "# hc (3894, 48)\n",
    "# j (3118, 48)\n",
    "# jm (2999, 48)\n"
   ]
  },
  {
   "cell_type": "code",
   "execution_count": 13,
   "metadata": {},
   "outputs": [],
   "source": [
    "train_std_mat = dict([])\n",
    "for product in product_list:\n",
    "    cur_mat = load(HEAD_PATH+\"/train test mat/\"+product+\".train.mat.pkl\")\n",
    "    train_std_mat[product] = np.std(cur_mat)"
   ]
  },
  {
   "cell_type": "code",
   "execution_count": 14,
   "metadata": {},
   "outputs": [
    {
     "name": "stdout",
     "output_type": "stream",
     "text": [
      "[-0.         -0.          0.01571216 -0.00036018  0.          0.0112997\n",
      " -0.          0.         -0.         -0.         -0.          0.\n",
      " -0.01278658 -0.         -0.          0.          0.         -0.\n",
      " -0.00746176 -0.00949664  0.         -0.         -0.01548164 -0.\n",
      "  0.          0.         -0.         -0.          0.          0.00115205\n",
      " -0.02323864 -0.          0.          0.          0.         -0.\n",
      " -0.00137254  0.          0.         -0.00331034  0.          0.00530771\n",
      "  0.          0.          0.        ]\n"
     ]
    }
   ],
   "source": [
    "x_train = train_mat.iloc[:, :n_signal].values\n",
    "y_train = train_mat.loc[:, y_signal].values\n",
    "scaler =  StandardScaler(copy=True, with_mean=False, with_std=True)\n",
    "scaler.fit(x_train)\n",
    "x_std = np.sqrt(scaler.var_)\n",
    "x_train_normal = scaler.transform(x_train)\n",
    "model = LassoCV(n_alphas=100, fit_intercept=False, cv=5, max_iter=10000).fit(x_train_normal, y_train)\n",
    "fit_coef = model.coef_/x_std\n",
    "print(fit_coef)\n",
    "# [-0.         -0.          0.01571216 -0.00036018  0.          0.0112997\n",
    "#  -0.          0.         -0.         -0.         -0.          0.\n",
    "#  -0.01278658 -0.         -0.          0.          0.         -0.\n",
    "#  -0.00746176 -0.00949664  0.         -0.         -0.01548164 -0.\n",
    "#   0.          0.         -0.         -0.          0.          0.00115205\n",
    "#  -0.02323864 -0.          0.          0.          0.         -0.\n",
    "#  -0.00137254  0.          0.         -0.00331034  0.          0.00530771\n",
    "#   0.          0.          0.        ]\n"
   ]
  },
  {
   "cell_type": "code",
   "execution_count": 34,
   "metadata": {},
   "outputs": [
    {
     "name": "stdout",
     "output_type": "stream",
     "text": [
      "rb\n",
      "trade.imb.4096                           -0.000000\n",
      "total.trade.imb.4096                     -0.000000\n",
      "nr.4096                                   0.002800\n",
      "dbook.4096                               -0.000037\n",
      "range.pos.4096                            0.000000\n",
      "price.osci.4096                           0.000112\n",
      "ma.dif.10.4096                           -0.000000\n",
      "kdj.k.4096                                0.000000\n",
      "kdj.j.4096                               -0.000000\n",
      "trade.imb.range.4096                     -0.000000\n",
      "total.trade.imb.range.4096               -0.000000\n",
      "nr.range.4096                             0.000000\n",
      "dbook.range.4096                         -0.000048\n",
      "range.pos.range.4096                     -0.000000\n",
      "price.osci.range.4096                    -0.000000\n",
      "ma.dif.10.range.4096                      0.000000\n",
      "kdj.k.range.4096                          0.000000\n",
      "kdj.j.range.4096                         -0.000000\n",
      "trade.imb.std.4096                       -0.000171\n",
      "total.trade.imb.std.4096                 -0.000088\n",
      "nr.std.4096                               0.000000\n",
      "dbook.std.4096                           -0.000000\n",
      "range.pos.std.4096                       -0.000079\n",
      "price.osci.std.4096                      -0.000000\n",
      "ma.dif.10.std.4096                        0.000000\n",
      "kdj.k.std.4096                            0.000000\n",
      "kdj.j.std.4096                           -0.000000\n",
      "trade.imb.volume.open.ratio.4096         -0.000000\n",
      "total.trade.imb.volume.open.ratio.4096    0.000000\n",
      "nr.volume.open.ratio.4096                 0.000779\n",
      "dbook.volume.open.ratio.4096             -0.011112\n",
      "range.pos.volume.open.ratio.4096         -0.000000\n",
      "price.osci.volume.open.ratio.4096         0.000000\n",
      "ma.dif.10.volume.open.ratio.4096          0.000000\n",
      "kdj.k.volume.open.ratio.4096              0.000000\n",
      "kdj.j.volume.open.ratio.4096             -0.000000\n",
      "trade.imb.trend.index.4096               -0.000394\n",
      "total.trade.imb.trend.index.4096          0.000000\n",
      "nr.trend.index.4096                       0.000000\n",
      "dbook.trend.index.4096                   -0.000624\n",
      "range.pos.trend.index.4096                0.000000\n",
      "price.osci.trend.index.4096               0.000076\n",
      "ma.dif.10.trend.index.4096                0.000000\n",
      "kdj.k.trend.index.4096                    0.000000\n",
      "kdj.j.trend.index.4096                    0.000000\n",
      "dtype: float64\n",
      "hc\n",
      "trade.imb.4096                           -0.000000\n",
      "total.trade.imb.4096                     -0.000000\n",
      "nr.4096                                   0.005652\n",
      "dbook.4096                               -0.000078\n",
      "range.pos.4096                            0.000000\n",
      "price.osci.4096                           0.000132\n",
      "ma.dif.10.4096                           -0.000000\n",
      "kdj.k.4096                                0.000000\n",
      "kdj.j.4096                               -0.000000\n",
      "trade.imb.range.4096                     -0.000000\n",
      "total.trade.imb.range.4096               -0.000000\n",
      "nr.range.4096                             0.000000\n",
      "dbook.range.4096                         -0.000074\n",
      "range.pos.range.4096                     -0.000000\n",
      "price.osci.range.4096                    -0.000000\n",
      "ma.dif.10.range.4096                      0.000000\n",
      "kdj.k.range.4096                          0.000000\n",
      "kdj.j.range.4096                         -0.000000\n",
      "trade.imb.std.4096                       -0.000201\n",
      "total.trade.imb.std.4096                 -0.000095\n",
      "nr.std.4096                               0.000000\n",
      "dbook.std.4096                           -0.000000\n",
      "range.pos.std.4096                       -0.000070\n",
      "price.osci.std.4096                      -0.000000\n",
      "ma.dif.10.std.4096                        0.000000\n",
      "kdj.k.std.4096                            0.000000\n",
      "kdj.j.std.4096                           -0.000000\n",
      "trade.imb.volume.open.ratio.4096         -0.000000\n",
      "total.trade.imb.volume.open.ratio.4096    0.000000\n",
      "nr.volume.open.ratio.4096                 0.001716\n",
      "dbook.volume.open.ratio.4096             -0.028269\n",
      "range.pos.volume.open.ratio.4096         -0.000000\n",
      "price.osci.volume.open.ratio.4096         0.000000\n",
      "ma.dif.10.volume.open.ratio.4096          0.000000\n",
      "kdj.k.volume.open.ratio.4096              0.000000\n",
      "kdj.j.volume.open.ratio.4096             -0.000000\n",
      "trade.imb.trend.index.4096               -0.000637\n",
      "total.trade.imb.trend.index.4096          0.000000\n",
      "nr.trend.index.4096                       0.000000\n",
      "dbook.trend.index.4096                   -0.001316\n",
      "range.pos.trend.index.4096                0.000000\n",
      "price.osci.trend.index.4096               0.000115\n",
      "ma.dif.10.trend.index.4096                0.000000\n",
      "kdj.k.trend.index.4096                    0.000000\n",
      "kdj.j.trend.index.4096                    0.000000\n",
      "dtype: float64\n",
      "j\n",
      "trade.imb.4096                           -0.000000\n",
      "total.trade.imb.4096                     -0.000000\n",
      "nr.4096                                   0.005562\n",
      "dbook.4096                               -0.000091\n",
      "range.pos.4096                            0.000000\n",
      "price.osci.4096                           0.000194\n",
      "ma.dif.10.4096                           -0.000000\n",
      "kdj.k.4096                                0.000000\n",
      "kdj.j.4096                               -0.000000\n",
      "trade.imb.range.4096                     -0.000000\n",
      "total.trade.imb.range.4096               -0.000000\n",
      "nr.range.4096                             0.000000\n",
      "dbook.range.4096                         -0.000139\n",
      "range.pos.range.4096                     -0.000000\n",
      "price.osci.range.4096                    -0.000000\n",
      "ma.dif.10.range.4096                      0.000000\n",
      "kdj.k.range.4096                          0.000000\n",
      "kdj.j.range.4096                         -0.000000\n",
      "trade.imb.std.4096                       -0.000375\n",
      "total.trade.imb.std.4096                 -0.000140\n",
      "nr.std.4096                               0.000000\n",
      "dbook.std.4096                           -0.000000\n",
      "range.pos.std.4096                       -0.000117\n",
      "price.osci.std.4096                      -0.000000\n",
      "ma.dif.10.std.4096                        0.000000\n",
      "kdj.k.std.4096                            0.000000\n",
      "kdj.j.std.4096                           -0.000000\n",
      "trade.imb.volume.open.ratio.4096         -0.000000\n",
      "total.trade.imb.volume.open.ratio.4096    0.000000\n",
      "nr.volume.open.ratio.4096                 0.001006\n",
      "dbook.volume.open.ratio.4096             -0.017831\n",
      "range.pos.volume.open.ratio.4096         -0.000000\n",
      "price.osci.volume.open.ratio.4096         0.000000\n",
      "ma.dif.10.volume.open.ratio.4096          0.000000\n",
      "kdj.k.volume.open.ratio.4096              0.000000\n",
      "kdj.j.volume.open.ratio.4096             -0.000000\n",
      "trade.imb.trend.index.4096               -0.000778\n",
      "total.trade.imb.trend.index.4096          0.000000\n",
      "nr.trend.index.4096                       0.000000\n",
      "dbook.trend.index.4096                   -0.001543\n",
      "range.pos.trend.index.4096                0.000000\n",
      "price.osci.trend.index.4096               0.000153\n",
      "ma.dif.10.trend.index.4096                0.000000\n",
      "kdj.k.trend.index.4096                    0.000000\n",
      "kdj.j.trend.index.4096                    0.000000\n",
      "dtype: float64\n",
      "jm\n",
      "trade.imb.4096                           -0.000000\n",
      "total.trade.imb.4096                     -0.000000\n",
      "nr.4096                                   0.006575\n",
      "dbook.4096                               -0.000083\n",
      "range.pos.4096                            0.000000\n",
      "price.osci.4096                           0.000190\n",
      "ma.dif.10.4096                           -0.000000\n",
      "kdj.k.4096                                0.000000\n",
      "kdj.j.4096                               -0.000000\n",
      "trade.imb.range.4096                     -0.000000\n",
      "total.trade.imb.range.4096               -0.000000\n",
      "nr.range.4096                             0.000000\n",
      "dbook.range.4096                         -0.000159\n",
      "range.pos.range.4096                     -0.000000\n",
      "price.osci.range.4096                    -0.000000\n",
      "ma.dif.10.range.4096                      0.000000\n",
      "kdj.k.range.4096                          0.000000\n",
      "kdj.j.range.4096                         -0.000000\n",
      "trade.imb.std.4096                       -0.000484\n",
      "total.trade.imb.std.4096                 -0.000209\n",
      "nr.std.4096                               0.000000\n",
      "dbook.std.4096                           -0.000000\n",
      "range.pos.std.4096                       -0.000169\n",
      "price.osci.std.4096                      -0.000000\n",
      "ma.dif.10.std.4096                        0.000000\n",
      "kdj.k.std.4096                            0.000000\n",
      "kdj.j.std.4096                           -0.000000\n",
      "trade.imb.volume.open.ratio.4096         -0.000000\n",
      "total.trade.imb.volume.open.ratio.4096    0.000000\n",
      "nr.volume.open.ratio.4096                 0.001365\n",
      "dbook.volume.open.ratio.4096             -0.018449\n",
      "range.pos.volume.open.ratio.4096         -0.000000\n",
      "price.osci.volume.open.ratio.4096         0.000000\n",
      "ma.dif.10.volume.open.ratio.4096          0.000000\n",
      "kdj.k.volume.open.ratio.4096              0.000000\n",
      "kdj.j.volume.open.ratio.4096             -0.000000\n",
      "trade.imb.trend.index.4096               -0.000775\n",
      "total.trade.imb.trend.index.4096          0.000000\n",
      "nr.trend.index.4096                       0.000000\n",
      "dbook.trend.index.4096                   -0.001384\n",
      "range.pos.trend.index.4096                0.000000\n",
      "price.osci.trend.index.4096               0.000131\n",
      "ma.dif.10.trend.index.4096                0.000000\n",
      "kdj.k.trend.index.4096                    0.000000\n",
      "kdj.j.trend.index.4096                    0.000000\n",
      "dtype: float64\n"
     ]
    }
   ],
   "source": [
    "coef_list=dict([])\n",
    "for product in [\"rb\",\"hc\",\"j\",\"jm\"]:\n",
    "    coef = fit_coef*train_std_mat[product][y_signal]/train_std_mat[product][signal_names]\n",
    "    coef_list[product] = coef\n",
    "    print(product)\n",
    "    print(coef)"
   ]
  },
  {
   "cell_type": "code",
   "execution_count": 35,
   "metadata": {},
   "outputs": [],
   "source": [
    "strat = \"overall.lasso.002.\"+str(period)\n",
    "for product in product_list:\n",
    "    os.makedirs(HEAD_PATH+\"/tmp pkl/\"+product+\"/\"+strat, exist_ok=True)\n",
    "    \n",
    "for product in product_list:\n",
    "    os.makedirs(\"e:/intern\"+\"/tmp pkl/\"+product+\"/\"+strat, exist_ok=True)"
   ]
  },
  {
   "cell_type": "code",
   "execution_count": 37,
   "metadata": {},
   "outputs": [
    {
     "name": "stdout",
     "output_type": "stream",
     "text": [
      "rb\n",
      "hc\n",
      "j\n",
      "jm\n",
      "Wall time: 21min 50s\n"
     ]
    }
   ],
   "source": [
    "%%time\n",
    "for product in [\"rb\",\"hc\",\"j\",\"jm\"]:\n",
    "    print(product)\n",
    "    coef = coef_list[product]\n",
    "    parLapply(CORE_NUM, all_dates, par_get_daily_pred, \n",
    "              product=product, coef=coef, strat=strat, HEAD_PATH=\"e:/intern\")\n",
    "\n",
    "# rb\n",
    "# hc\n",
    "# j\n",
    "# jm\n",
    "# Wall time: 21min 50s"
   ]
  },
  {
   "cell_type": "code",
   "execution_count": 41,
   "metadata": {},
   "outputs": [
    {
     "name": "stdout",
     "output_type": "stream",
     "text": [
      "Wall time: 1min 7s\n"
     ]
    }
   ],
   "source": [
    "%%time\n",
    "for product in [\"rb\",\"hc\",\"j\",\"jm\"]:\n",
    "    par_get_all_signal(strat, all_dates, product, 4096, HEAD_PATH=\"e:/intern\")"
   ]
  },
  {
   "cell_type": "code",
   "execution_count": 47,
   "metadata": {},
   "outputs": [
    {
     "name": "stdout",
     "output_type": "stream",
     "text": [
      "reverse=1\n",
      "reverse=1\n",
      "reverse=1\n",
      "reverse=1\n",
      "Wall time: 4min 57s\n"
     ]
    }
   ],
   "source": [
    "%%time\n",
    "for product in [\"rb\",\"hc\",\"j\",\"jm\"]:\n",
    "    spread = product_info[product][\"spread\"]\n",
    "    evaluate_signal(\"overall.lasso.002\", all_dates, product, 2, 20, CORE_NUM, HEAD_PATH, SIGNAL_PATH=\"e:/intern\",\n",
    "                    period=4096, split_str=\"2018\", tranct=1.1e-4, \n",
    "                    max_spread=spread+0.1, tranct_ratio=True, atr_filter=20, save_path=\"signal result atr\",reverse=1)\n",
    "\n",
    "# reverse=1\n",
    "# reverse=1\n",
    "# reverse=1\n",
    "# reverse=1\n",
    "# Wall time: 9min 45s\n"
   ]
  },
  {
   "cell_type": "code",
   "execution_count": 48,
   "metadata": {},
   "outputs": [],
   "source": [
    "# we save the result of i lasso.002.4096 to another file overall.lasso.002.4096\n",
    "signal_stat = load(HEAD_PATH+\"/signal result atr/\"+\"i\"+\".\"+\"lasso.002.4096\"+\".trend.pkl\")\n",
    "save(signal_stat, HEAD_PATH+\"/signal result atr/\"+\"i\"+\".\"+\"overall.lasso.002.4096\"+\".trend.pkl\")"
   ]
  },
  {
   "cell_type": "code",
   "execution_count": 50,
   "metadata": {},
   "outputs": [
    {
     "name": "stdout",
     "output_type": "stream",
     "text": [
      "rb train sharpe  1.1530164630600237 test sharpe  1.5067433544527533\n",
      "hc train sharpe  1.4029104175429374 test sharpe  0.44701175768572476\n",
      "i train sharpe  0.8872894801115896 test sharpe  1.2391069972827167\n",
      "j train sharpe  1.934567536328342 test sharpe  1.4775609096621738\n",
      "jm train sharpe  1.0721787230723798 test sharpe  0.7304099893727429\n"
     ]
    }
   ],
   "source": [
    "for product in product_list:\n",
    "    spread = product_info[product][\"spread\"]\n",
    "    signal_stat = load(HEAD_PATH+\"/signal result atr/\"+product+\".\"+\"overall.lasso.002.4096\"+\".trend.pkl\")\n",
    "    train_stat = signal_stat[\"train.stat\"]\n",
    "    good_strat = (train_stat[\"final.result\"][\"avg.pnl\"]>2*spread)\n",
    "    train_pnl = train_stat[\"daily.pnl\"].loc[:, good_strat].sum(axis=1)/sum(good_strat)\n",
    "    train_std = np.std(train_pnl)\n",
    "    train_pnl = train_pnl/train_std\n",
    "    test_stat = signal_stat[\"test.stat\"]\n",
    "    test_pnl = test_stat[\"daily.pnl\"].loc[:, good_strat].sum(axis=1)/sum(good_strat)/train_std\n",
    "    print(product, \"train sharpe \", sharpe(train_pnl), \"test sharpe \", sharpe(test_pnl))\n",
    "\n",
    "# rb train sharpe  1.1530164630600237 test sharpe  1.5067433544527533\n",
    "# hc train sharpe  1.4029104175429374 test sharpe  0.44701175768572476\n",
    "# i train sharpe  0.8872894801115896 test sharpe  1.2391069972827167\n",
    "# j train sharpe  1.934567536328342 test sharpe  1.4775609096621738\n",
    "# jm train sharpe  1.0721787230723798 test sharpe  0.7304099893727429\n"
   ]
  },
  {
   "cell_type": "code",
   "execution_count": 51,
   "metadata": {
    "scrolled": true
   },
   "outputs": [
    {
     "name": "stdout",
     "output_type": "stream",
     "text": [
      "rb train sharpe  1.1573394555359664 test sharpe  1.5067433544527522\n",
      "hc train sharpe  1.4029104175429374 test sharpe  0.44701175768572476\n",
      "i train sharpe  1.0578039802590233 test sharpe  0.7404904012321055\n",
      "j train sharpe  1.882628152705039 test sharpe  1.4707256045526333\n",
      "jm train sharpe  1.169831922470172 test sharpe  0.7730535623940026\n",
      "train sharpe:  2.0557422122189277 test sharpe:  1.9364802070196268\n"
     ]
    },
    {
     "data": {
      "image/png": "[encoded data removed]",
      "text/plain": [
       "<Figure size 1152x720 with 1 Axes>"
      ]
     },
     "metadata": {
      "needs_background": "light"
     },
     "output_type": "display_data"
    }
   ],
   "source": [
    "i = 0\n",
    "strat = \"overall.lasso.002.4096\"\n",
    "test_all_pnl = np.zeros([sum(test_sample), len(product_list)])\n",
    "train_all_pnl = np.zeros([sum(train_sample), len(product_list)])\n",
    "min_pnl = 2\n",
    "min_num = 10\n",
    "for product in product_list:\n",
    "    spread = product_info[product][\"spread\"]\n",
    "    signal_stat = load(HEAD_PATH+\"/signal result atr/\"+product+\".\"+strat+\".trend.pkl\")\n",
    "    train_stat = signal_stat[\"train.stat\"]\n",
    "    good_strat = (train_stat[\"final.result\"][\"avg.pnl\"]>min_pnl*spread) & (train_stat[\"final.result\"][\"num\"]>min_num)\n",
    "    train_pnl = train_stat[\"daily.pnl\"].loc[:, good_strat].sum(axis=1)/sum(good_strat)\n",
    "    train_std = np.std(train_pnl)\n",
    "    train_pnl = train_pnl/train_std\n",
    "    test_stat = signal_stat[\"test.stat\"]\n",
    "    test_pnl = test_stat[\"daily.pnl\"].loc[:, good_strat].sum(axis=1)/sum(good_strat)/train_std\n",
    "    print(product, \"train sharpe \", sharpe(train_pnl), \"test sharpe \", sharpe(test_pnl))\n",
    "    test_all_pnl[:,i] = test_pnl\n",
    "    train_all_pnl[:,i] = train_pnl\n",
    "    i = i+1\n",
    "train_portfolio = np.array(np.mean(train_all_pnl, axis=1))\n",
    "test_portfolio = np.array(np.mean(test_all_pnl, axis=1))\n",
    "all_portfolio = np.append(train_portfolio, test_portfolio)\n",
    "plt.figure(1, figsize=(16, 10));\n",
    "plt.title(\"\");\n",
    "plt.xlabel(\"date\");\n",
    "plt.ylabel(\"pnl\");\n",
    "plt.title(\"portfolio\");\n",
    "plt.plot(format_dates, all_portfolio.cumsum());\n",
    "plt.plot(format_dates[test_sample], all_portfolio.cumsum()[test_sample])\n",
    "print(\"train sharpe: \", sharpe(train_portfolio), \"test sharpe: \", sharpe(test_portfolio))    \n",
    "# rb train sharpe  1.1573394555359664 test sharpe  1.5067433544527522\n",
    "# hc train sharpe  1.4029104175429374 test sharpe  0.44701175768572476\n",
    "# i train sharpe  1.0578039802590233 test sharpe  0.7404904012321055\n",
    "# j train sharpe  1.882628152705039 test sharpe  1.4707256045526333\n",
    "# jm train sharpe  1.169831922470172 test sharpe  0.7730535623940026\n",
    "# train sharpe:  2.0557422122189277 test sharpe:  1.9364802070196268\n",
    "\n",
    "\n"
   ]
  },
  {
   "cell_type": "markdown",
   "metadata": {},
   "source": [
    "- we can see that the result is much better than before\n",
    "- so we can use this method for rolling models\n",
    "- However, using the previous method may be too slow\n",
    "- we calcualte the predictions values of each product using 26 mintues, and other time add up together would be 30 mintues\n",
    "- if we are rolling on a monthly basis\n",
    "- from 201801 to 201908 there are 20 months\n",
    "- so it may use 10 hours for the rolling"
   ]
  },
  {
   "cell_type": "markdown",
   "metadata": {},
   "source": [
    "- rolling model"
   ]
  },
  {
   "cell_type": "markdown",
   "metadata": {},
   "source": [
    "- at first we need to know how many ticks every day"
   ]
  },
  {
   "cell_type": "code",
   "execution_count": 66,
   "metadata": {},
   "outputs": [],
   "source": [
    "daily_ticks = dict([])\n",
    "all_mat = dict([])\n",
    "for product in product_list:\n",
    "    daily_num = load(HEAD_PATH+\"/daily num/\"+product+\".pkl\")\n",
    "    daily_ticks[product] = daily_num\n",
    "    test_mat = load(HEAD_PATH+\"/train test mat/\"+product+\".test.mat.pkl\")\n",
    "    train_mat = load(HEAD_PATH+\"/train test mat/\"+product+\".train.mat.pkl\")\n",
    "    train_mat\n",
    "    all_mat[product] = pd.concat((train_mat, test_mat))"
   ]
  },
  {
   "cell_type": "markdown",
   "metadata": {},
   "source": [
    "- at first we can try a not so intensive method\n",
    "- we can get the starting day for train"
   ]
  },
  {
   "cell_type": "code",
   "execution_count": 57,
   "metadata": {},
   "outputs": [],
   "source": [
    "from sklearn import linear_model\n",
    "from sklearn.model_selection import cross_val_score\n",
    "from sklearn.linear_model import lasso_path, LassoCV"
   ]
  },
  {
   "cell_type": "markdown",
   "metadata": {},
   "source": [
    "- at first we can try a not so intensive method\n",
    "- we can get the starting day for train"
   ]
  },
  {
   "cell_type": "code",
   "execution_count": 44,
   "metadata": {},
   "outputs": [],
   "source": [
    "from sklearn.preprocessing import StandardScaler"
   ]
  },
  {
   "cell_type": "markdown",
   "metadata": {},
   "source": [
    "- now we generate prediction values for next 22 days"
   ]
  },
  {
   "cell_type": "markdown",
   "metadata": {},
   "source": [
    "- now we can combien all these and get a function for rolling\n",
    "- we can also use calendar month rather than 22 days"
   ]
  },
  {
   "cell_type": "code",
   "execution_count": 41,
   "metadata": {},
   "outputs": [],
   "source": [
    "month = np.array([file[:6] for file in all_dates])"
   ]
  },
  {
   "cell_type": "code",
   "execution_count": 42,
   "metadata": {},
   "outputs": [
    {
     "data": {
      "text/plain": [
       "(array(['201512', '201601', '201602', '201603', '201604', '201605',\n",
       "        '201606', '201607', '201608', '201609', '201610', '201611',\n",
       "        '201612', '201701', '201702', '201703', '201704', '201705',\n",
       "        '201706', '201707', '201708', '201709', '201710', '201711',\n",
       "        '201712', '201801', '201802', '201803', '201804', '201805',\n",
       "        '201806', '201807', '201808', '201809', '201810', '201811',\n",
       "        '201812', '201901', '201902', '201903', '201904', '201905',\n",
       "        '201906', '201907', '201908'], dtype='<U6'),\n",
       " array([22, 20, 16, 23, 20, 21, 20, 21, 23, 20, 16, 22, 22, 18, 18, 23, 18,\n",
       "        20, 22, 21, 23, 21, 17, 22, 21, 22, 15, 22, 18, 22, 20, 22, 23, 19,\n",
       "        18, 22, 20, 22, 15, 21, 21, 20, 19, 23, 21], dtype=int64))"
      ]
     },
     "execution_count": 42,
     "metadata": {},
     "output_type": "execute_result"
    }
   ],
   "source": [
    "month_len = np.unique(month, return_counts=True)\n",
    "month_len\n",
    "# (array(['201512', '201601', '201602', '201603', '201604', '201605',\n",
    "#         '201606', '201607', '201608', '201609', '201610', '201611',\n",
    "#         '201612', '201701', '201702', '201703', '201704', '201705',\n",
    "#         '201706', '201707', '201708', '201709', '201710', '201711',\n",
    "#         '201712', '201801', '201802', '201803', '201804', '201805',\n",
    "#         '201806', '201807', '201808', '201809', '201810', '201811',\n",
    "#         '201812', '201901', '201902', '201903', '201904', '201905',\n",
    "#         '201906', '201907', '201908'], dtype='<U6'),\n",
    "#  array([22, 20, 16, 23, 20, 21, 20, 21, 23, 20, 16, 22, 22, 18, 18, 23, 18,\n",
    "#         20, 22, 21, 23, 21, 17, 22, 21, 22, 15, 22, 18, 22, 20, 22, 23, 19,\n",
    "#         18, 22, 20, 22, 15, 21, 21, 20, 19, 23, 21], dtype=int64))"
   ]
  },
  {
   "cell_type": "code",
   "execution_count": 210,
   "metadata": {},
   "outputs": [],
   "source": [
    "def get_multiple_lasso_roll_model(train_start, train_end, y_signal, forward_len, strat, \n",
    "                          single_product, combine_product, period=4096, SAVE_PATH=\"e:/intern\"):\n",
    "    product_list = np.append(single_product, combine_product)\n",
    "    cum_daily_ticks = dict([])\n",
    "    train_tick_start = dict([])\n",
    "    train_tick_end = dict([])   \n",
    "    test_tick_start = dict([])\n",
    "    test_tick_end = dict([])   \n",
    "    for product in product_list:\n",
    "        cum_daily_ticks[product] = daily_ticks[product].cumsum()\n",
    "        if train_start==0:\n",
    "            train_tick_start[product] = 0\n",
    "        else:\n",
    "            train_tick_start[product] = int(cum_daily_ticks[product][train_start-1]+1)\n",
    "        train_tick_end[product] = int(cum_daily_ticks[product][train_end]-1)\n",
    "        test_tick_start[product] = int(train_tick_end[product]+2)\n",
    "        test_tick_end[product] = int(cum_daily_ticks[product][train_end+1])\n",
    "        \n",
    "    coef_list = dict([])\n",
    "    for product in single_product:\n",
    "        x_train = all_mat[product].iloc[train_tick_start[product]:train_tick_end[product], :n_signal].values\n",
    "        y_train = all_mat[product][y_signal][train_tick_start[product]:train_tick_end[product]]\n",
    "        n_train = x_train.shape[0]\n",
    "        scaler =  StandardScaler(copy=True, with_mean=False, with_std=True)\n",
    "        scaler.fit(x_train)\n",
    "        x_std = np.sqrt(scaler.var_)\n",
    "        x_train_normal = scaler.transform(x_train)\n",
    "        model = LassoCV(n_alphas=100, fit_intercept=False, cv=5, max_iter=10000).fit(x_train_normal, y_train)\n",
    "        coef = model.coef_ / x_std\n",
    "        coef_list[product] = coef\n",
    "    train_std_mat = dict([])\n",
    "    train_std_mat\n",
    "    n_samples = x_train.shape[0]\n",
    "    train_mat = np.zeros((0,n_signal))\n",
    "    y_train = np.array([])\n",
    "    for product in combine_product:\n",
    "        x_train = all_mat[product].iloc[train_tick_start[product]:train_tick_end[product], :n_signal].values\n",
    "        cur_y_train = all_mat[product][y_signal][train_tick_start[product]:train_tick_end[product]]\n",
    "        scaler.fit(x_train)\n",
    "        train_std_mat[product] = np.sqrt(scaler.var_)\n",
    "        train_mat = np.append(train_mat,x_train, axis=0)\n",
    "        y_train = np.append(y_train, cur_y_train)\n",
    "    model = LassoCV(n_alphas=100, fit_intercept=False, cv=5, max_iter=10000).fit(train_mat, y_train)\n",
    "    fit_coef = model.coef_\n",
    "    for product in combine_product:\n",
    "        coef_list[product] = fit_coef/train_std_mat[product]\n",
    "    os.makedirs(SAVE_PATH+\"/model\", exist_ok=True)\n",
    "    save(coef_list, SAVE_PATH+\"/model/\"+strat+\".pkl\")\n",
    "    \n"
   ]
  },
  {
   "cell_type": "code",
   "execution_count": 44,
   "metadata": {},
   "outputs": [
    {
     "name": "stdout",
     "output_type": "stream",
     "text": [
      "['201801' '201802' '201803' '201804' '201805' '201806' '201807' '201808'\n",
      " '201809' '201810' '201811' '201812' '201901' '201902' '201903' '201904'\n",
      " '201905' '201906' '201907' '201908']\n"
     ]
    }
   ],
   "source": [
    "test_range = np.where((month_len[0] > \"2018\" ) & (month_len[0]<\"201909\"))[0]\n",
    "print(month_len[0][test_range])\n",
    "start_month = 0\n",
    "end_month = sum(month_len[0] < \"2018\")-1\n",
    "cum_month_len = np.cumsum(month_len[1])"
   ]
  },
  {
   "cell_type": "code",
   "execution_count": 212,
   "metadata": {},
   "outputs": [
    {
     "name": "stdout",
     "output_type": "stream",
     "text": [
      "25 201801\n",
      "26 201802\n",
      "27 201803\n",
      "28 201804\n",
      "29 201805\n",
      "30 201806\n",
      "31 201807\n",
      "32 201808\n",
      "33 201809\n",
      "34 201810\n",
      "35 201811\n",
      "36 201812\n",
      "37 201901\n",
      "38 201902\n",
      "39 201903\n",
      "40 201904\n",
      "41 201905\n",
      "42 201906\n",
      "43 201907\n",
      "44 201908\n",
      "Wall time: 1min 59s\n"
     ]
    }
   ],
   "source": [
    "%%time\n",
    "strat = \"overall.lasso.002.4096\"\n",
    "y_signal = \"ret.4096.002\"\n",
    "start_month = 0\n",
    "end_month = sum(month_len[0] < \"2018\")-1\n",
    "for i_test in test_range:\n",
    "    forward_len = month_len[1][i_test]\n",
    "    train_start = 0 if start_month==0 else cum_month_len[start_month-1]\n",
    "    train_end = cum_month_len[end_month]-1\n",
    "    print(i_test, month_len[0][i_test])\n",
    "    get_multiple_lasso_roll_model(train_start, train_end, y_signal, forward_len, strat+\".\"+month_len[0][i_test], \n",
    "                          [\"i\"], [\"rb\",\"hc\",\"j\",\"jm\"], period=4096, SAVE_PATH=\"e:/intern\")\n",
    "    start_month = start_month+1\n",
    "    end_month = end_month+1\n",
    "    \n",
    "# 25 201801\n",
    "# 26 201802\n",
    "# 27 201803\n",
    "# 28 201804\n",
    "# 29 201805\n",
    "# 30 201806\n",
    "# 31 201807\n",
    "# 32 201808\n",
    "# 33 201809\n",
    "# 34 201810\n",
    "# 35 201811\n",
    "# 36 201812\n",
    "# 37 201901\n",
    "# 38 201902\n",
    "# 39 201903\n",
    "# 40 201904\n",
    "# 41 201905\n",
    "# 42 201906\n",
    "# 43 201907\n",
    "# 44 201908\n",
    "# Wall time: 1min 59s\n"
   ]
  },
  {
   "cell_type": "markdown",
   "metadata": {},
   "source": [
    "- Then we can generate prediction values of each model"
   ]
  },
  {
   "cell_type": "code",
   "execution_count": 220,
   "metadata": {},
   "outputs": [
    {
     "name": "stdout",
     "output_type": "stream",
     "text": [
      "25 201801\n",
      "26 201802\n",
      "27 201803\n",
      "28 201804\n",
      "29 201805\n",
      "30 201806\n",
      "31 201807\n",
      "32 201808\n",
      "33 201809\n",
      "34 201810\n",
      "35 201811\n",
      "36 201812\n",
      "37 201901\n",
      "38 201902\n",
      "39 201903\n",
      "40 201904\n",
      "41 201905\n",
      "42 201906\n",
      "43 201907\n",
      "44 201908\n",
      "Wall time: 4h 54min 51s\n"
     ]
    }
   ],
   "source": [
    "%%time\n",
    "start_month = 0\n",
    "end_month = sum(month_len[0] < \"2018\")-1\n",
    "for i_test in test_range:\n",
    "    forward_len = month_len[1][i_test]\n",
    "    train_start = 0 if start_month==0 else cum_month_len[start_month-1]\n",
    "    train_end = cum_month_len[end_month]-1\n",
    "    print(i_test, month_len[0][i_test])\n",
    "    strat_name = strat+\".\"+month_len[0][i_test]\n",
    "    coef_list = load(SAVE_PATH+\"/model/\"+strat_name+\".pkl\")\n",
    "    for product in product_list:\n",
    "        coef = coef_list[product]\n",
    "        os.makedirs(SAVE_PATH+\"/tmp pkl/\"+product+\"/\"+strat_name, exist_ok=True)\n",
    "        parLapply(CORE_NUM, all_dates[train_start:(train_end+forward_len)+1], par_get_daily_pred, \n",
    "                  product=product, coef=coef, strat=strat_name, HEAD_PATH=\"e:/intern\")\n",
    "    start_month = start_month+1\n",
    "    end_month = end_month+1\n",
    "\n",
    "# 25 201801\n",
    "# 26 201802\n",
    "# 27 201803\n",
    "# 28 201804\n",
    "# 29 201805\n",
    "# 30 201806\n",
    "# 31 201807\n",
    "# 32 201808\n",
    "# 33 201809\n",
    "# 34 201810\n",
    "# 35 201811\n",
    "# 36 201812\n",
    "# 37 201901\n",
    "# 38 201902\n",
    "# 39 201903\n",
    "# 40 201904\n",
    "# 41 201905\n",
    "# 42 201906\n",
    "# 43 201907\n",
    "# 44 201908\n",
    "# Wall time: 4h 54min 51s"
   ]
  },
  {
   "cell_type": "code",
   "execution_count": 224,
   "metadata": {},
   "outputs": [
    {
     "name": "stdout",
     "output_type": "stream",
     "text": [
      "201801 20151202.pkl 20180102.pkl\n",
      "201802 20160104.pkl 20180201.pkl\n",
      "201803 20160201.pkl 20180301.pkl\n",
      "201804 20160301.pkl 20180402.pkl\n",
      "201805 20160401.pkl 20180502.pkl\n",
      "201806 20160503.pkl 20180601.pkl\n",
      "201807 20160601.pkl 20180702.pkl\n",
      "201808 20160701.pkl 20180801.pkl\n",
      "201809 20160801.pkl 20180903.pkl\n",
      "201810 20160901.pkl 20181008.pkl\n",
      "201811 20161010.pkl 20181101.pkl\n",
      "201812 20161101.pkl 20181203.pkl\n",
      "201901 20161201.pkl 20190102.pkl\n",
      "201902 20170103.pkl 20190201.pkl\n",
      "201903 20170203.pkl 20190301.pkl\n",
      "201904 20170301.pkl 20190401.pkl\n",
      "201905 20170405.pkl 20190506.pkl\n",
      "201906 20170502.pkl 20190603.pkl\n",
      "201907 20170601.pkl 20190701.pkl\n",
      "201908 20170703.pkl 20190801.pkl\n",
      "Wall time: 16min 6s\n"
     ]
    }
   ],
   "source": [
    "%%time\n",
    "strat = \"overall.lasso.002.4096\"\n",
    "start_month = 0\n",
    "end_month = sum(month_len[0] < \"2018\")-1\n",
    "for i_test in test_range:\n",
    "    train_start = 0 if start_month==0 else cum_month_len[start_month-1]\n",
    "    train_end = cum_month_len[end_month]-1\n",
    "    print(month_len[0][i_test], all_dates[train_start], all_dates[train_end])\n",
    "    for product in product_list:\n",
    "        par_get_all_signal(strat+\".\"+month_len[0][i_test], all_dates[train_start:(train_end+1)], product, 4096, HEAD_PATH=\"e:/intern\")\n",
    "    start_month = start_month+1\n",
    "    end_month = end_month+1\n",
    "\n",
    "# 201801 20151202.pkl 20180102.pkl\n",
    "# 201802 20160104.pkl 20180201.pkl\n",
    "# 201803 20160201.pkl 20180301.pkl\n",
    "# 201804 20160301.pkl 20180402.pkl\n",
    "# 201805 20160401.pkl 20180502.pkl\n",
    "# 201806 20160503.pkl 20180601.pkl\n",
    "# 201807 20160601.pkl 20180702.pkl\n",
    "# 201808 20160701.pkl 20180801.pkl\n",
    "# 201809 20160801.pkl 20180903.pkl\n",
    "# 201810 20160901.pkl 20181008.pkl\n",
    "# 201811 20161010.pkl 20181101.pkl\n",
    "# 201812 20161101.pkl 20181203.pkl\n",
    "# 201901 20161201.pkl 20190102.pkl\n",
    "# 201902 20170103.pkl 20190201.pkl\n",
    "# 201903 20170203.pkl 20190301.pkl\n",
    "# 201904 20170301.pkl 20190401.pkl\n",
    "# 201905 20170405.pkl 20190506.pkl\n",
    "# 201906 20170502.pkl 20190603.pkl\n",
    "# 201907 20170601.pkl 20190701.pkl\n",
    "# 201908 20170703.pkl 20190801.pkl\n",
    "# Wall time: 16min 6s\n",
    "\n",
    "## I made a mistake here, all_dates[train_start:(train_end+1)] would end at train_end, so I should not print the train_end+1 point "
   ]
  },
  {
   "cell_type": "code",
   "execution_count": 270,
   "metadata": {},
   "outputs": [],
   "source": [
    "def get_lasso_roll_result(product, strat,test_range, month_len, atr_filter=0, save_path=\"signal result atr\", HEAD_PATH=\"d:/intern\", SIGNAL_PATH=\"e:/intern\"):\n",
    "    start_month = 0\n",
    "    end_month = sum(month_len[0] < \"2018\")-1\n",
    "    tranct = product_info[product][\"tranct\"]\n",
    "    tranct_ratio = product_info[product][\"tranct.ratio\"]\n",
    "    spread = product_info[product][\"spread\"]\n",
    "    for i_test in test_range:\n",
    "        forward_len = month_len[1][i_test]\n",
    "        train_start = 0 if start_month==0 else cum_month_len[start_month-1]\n",
    "        train_end = cum_month_len[end_month]-1\n",
    "        strat_name = strat+\".\"+month_len[0][i_test]\n",
    "        print(product, i_test, strat_name)\n",
    "        all_signal = load(SIGNAL_PATH+\"/all signal/\"+product+\".\"+strat_name+\".pkl\")\n",
    "        open_list = np.quantile(abs(all_signal), np.append(np.arange(0.991,0.999,0.001),np.arange(0.9991,0.9999,0.0001)))\n",
    "        thre_list = []\n",
    "        for cartesian in itertools.product(open_list, np.array([0.2, 0.4, 0.6, 0.8, 1.0])):\n",
    "            thre_list.append((cartesian[0], -cartesian[0] * cartesian[1]))\n",
    "        thre_list = np.array(thre_list)\n",
    "        thre_mat = pd.DataFrame(data=OrderedDict([(\"open\", thre_list[:, 0]), (\"close\", thre_list[:, 1])]))\n",
    "        train_result = parLapply(CORE_NUM, all_dates[train_start:(train_end+1)], get_signal_pnl, \n",
    "                             product=product, signal_name=strat_name, thre_mat=thre_mat, reverse=1, tranct=1.1e-4, \n",
    "                             max_spread=spread+0.1, tranct_ratio=tranct_ratio, HEAD_PATH=HEAD_PATH, SIGNAL_PATH=SIGNAL_PATH,\n",
    "                            atr_filter=atr_filter, rebate=0)\n",
    "        train_stat = get_hft_summary(train_result, thre_mat, train_end-train_start+1)\n",
    "        test_result = parLapply(CORE_NUM, all_dates[(train_end+1):(train_end+forward_len+1)], get_signal_pnl, \n",
    "                            product=product, signal_name=strat_name, thre_mat=thre_mat, reverse=1, tranct=1.1e-4, \n",
    "                             max_spread=spread+0.1, tranct_ratio=tranct_ratio, HEAD_PATH=HEAD_PATH, SIGNAL_PATH=SIGNAL_PATH,\n",
    "                            atr_filter=atr_filter, rebate=0)\n",
    "        test_stat = get_hft_summary(test_result, thre_mat, forward_len)\n",
    "        stat_result = OrderedDict([(\"train.stat\", train_stat), (\"test.stat\", test_stat)])    \n",
    "        save(stat_result, HEAD_PATH+\"/\"+save_path+\"/\"+product+\".\"+strat_name+\".pkl\")\n",
    "        start_month = start_month+1\n",
    "        end_month = end_month+1\n"
   ]
  },
  {
   "cell_type": "code",
   "execution_count": 271,
   "metadata": {},
   "outputs": [
    {
     "name": "stdout",
     "output_type": "stream",
     "text": [
      "rb 25 overall.lasso.002.4096.201801\n",
      "rb 26 overall.lasso.002.4096.201802\n",
      "rb 27 overall.lasso.002.4096.201803\n",
      "rb 28 overall.lasso.002.4096.201804\n",
      "rb 29 overall.lasso.002.4096.201805\n",
      "rb 30 overall.lasso.002.4096.201806\n",
      "rb 31 overall.lasso.002.4096.201807\n",
      "rb 32 overall.lasso.002.4096.201808\n",
      "rb 33 overall.lasso.002.4096.201809\n",
      "rb 34 overall.lasso.002.4096.201810\n",
      "rb 35 overall.lasso.002.4096.201811\n",
      "rb 36 overall.lasso.002.4096.201812\n",
      "rb 37 overall.lasso.002.4096.201901\n",
      "rb 38 overall.lasso.002.4096.201902\n",
      "rb 39 overall.lasso.002.4096.201903\n",
      "rb 40 overall.lasso.002.4096.201904\n",
      "rb 41 overall.lasso.002.4096.201905\n",
      "rb 42 overall.lasso.002.4096.201906\n",
      "rb 43 overall.lasso.002.4096.201907\n",
      "rb 44 overall.lasso.002.4096.201908\n",
      "hc 25 overall.lasso.002.4096.201801\n",
      "hc 26 overall.lasso.002.4096.201802\n",
      "hc 27 overall.lasso.002.4096.201803\n",
      "hc 28 overall.lasso.002.4096.201804\n",
      "hc 29 overall.lasso.002.4096.201805\n",
      "hc 30 overall.lasso.002.4096.201806\n",
      "hc 31 overall.lasso.002.4096.201807\n",
      "hc 32 overall.lasso.002.4096.201808\n",
      "hc 33 overall.lasso.002.4096.201809\n",
      "hc 34 overall.lasso.002.4096.201810\n",
      "hc 35 overall.lasso.002.4096.201811\n",
      "hc 36 overall.lasso.002.4096.201812\n",
      "hc 37 overall.lasso.002.4096.201901\n",
      "hc 38 overall.lasso.002.4096.201902\n",
      "hc 39 overall.lasso.002.4096.201903\n",
      "hc 40 overall.lasso.002.4096.201904\n",
      "hc 41 overall.lasso.002.4096.201905\n",
      "hc 42 overall.lasso.002.4096.201906\n",
      "hc 43 overall.lasso.002.4096.201907\n",
      "hc 44 overall.lasso.002.4096.201908\n",
      "i 25 overall.lasso.002.4096.201801\n",
      "i 26 overall.lasso.002.4096.201802\n",
      "i 27 overall.lasso.002.4096.201803\n",
      "i 28 overall.lasso.002.4096.201804\n",
      "i 29 overall.lasso.002.4096.201805\n",
      "i 30 overall.lasso.002.4096.201806\n",
      "i 31 overall.lasso.002.4096.201807\n",
      "i 32 overall.lasso.002.4096.201808\n",
      "i 33 overall.lasso.002.4096.201809\n",
      "i 34 overall.lasso.002.4096.201810\n",
      "i 35 overall.lasso.002.4096.201811\n",
      "i 36 overall.lasso.002.4096.201812\n",
      "i 37 overall.lasso.002.4096.201901\n",
      "i 38 overall.lasso.002.4096.201902\n",
      "i 39 overall.lasso.002.4096.201903\n",
      "i 40 overall.lasso.002.4096.201904\n",
      "i 41 overall.lasso.002.4096.201905\n",
      "i 42 overall.lasso.002.4096.201906\n",
      "i 43 overall.lasso.002.4096.201907\n",
      "i 44 overall.lasso.002.4096.201908\n",
      "j 25 overall.lasso.002.4096.201801\n",
      "j 26 overall.lasso.002.4096.201802\n",
      "j 27 overall.lasso.002.4096.201803\n",
      "j 28 overall.lasso.002.4096.201804\n",
      "j 29 overall.lasso.002.4096.201805\n",
      "j 30 overall.lasso.002.4096.201806\n",
      "j 31 overall.lasso.002.4096.201807\n",
      "j 32 overall.lasso.002.4096.201808\n",
      "j 33 overall.lasso.002.4096.201809\n",
      "j 34 overall.lasso.002.4096.201810\n",
      "j 35 overall.lasso.002.4096.201811\n",
      "j 36 overall.lasso.002.4096.201812\n",
      "j 37 overall.lasso.002.4096.201901\n",
      "j 38 overall.lasso.002.4096.201902\n",
      "j 39 overall.lasso.002.4096.201903\n",
      "j 40 overall.lasso.002.4096.201904\n",
      "j 41 overall.lasso.002.4096.201905\n",
      "j 42 overall.lasso.002.4096.201906\n",
      "j 43 overall.lasso.002.4096.201907\n",
      "j 44 overall.lasso.002.4096.201908\n",
      "jm 25 overall.lasso.002.4096.201801\n",
      "jm 26 overall.lasso.002.4096.201802\n",
      "jm 27 overall.lasso.002.4096.201803\n",
      "jm 28 overall.lasso.002.4096.201804\n",
      "jm 29 overall.lasso.002.4096.201805\n",
      "jm 30 overall.lasso.002.4096.201806\n",
      "jm 31 overall.lasso.002.4096.201807\n",
      "jm 32 overall.lasso.002.4096.201808\n",
      "jm 33 overall.lasso.002.4096.201809\n",
      "jm 34 overall.lasso.002.4096.201810\n",
      "jm 35 overall.lasso.002.4096.201811\n",
      "jm 36 overall.lasso.002.4096.201812\n",
      "jm 37 overall.lasso.002.4096.201901\n",
      "jm 38 overall.lasso.002.4096.201902\n",
      "jm 39 overall.lasso.002.4096.201903\n",
      "jm 40 overall.lasso.002.4096.201904\n",
      "jm 41 overall.lasso.002.4096.201905\n",
      "jm 42 overall.lasso.002.4096.201906\n",
      "jm 43 overall.lasso.002.4096.201907\n",
      "jm 44 overall.lasso.002.4096.201908\n",
      "Wall time: 1h 19min 44s\n"
     ]
    }
   ],
   "source": [
    "%%time\n",
    "strat = \"overall.lasso.002.4096\"\n",
    "for product in product_list:\n",
    "    get_lasso_roll_result(product, strat, test_range, month_len, atr_filter=20)\n",
    "\n",
    "# rb 25 overall.lasso.002.4096.201801\n",
    "# rb 26 overall.lasso.002.4096.201802\n",
    "# rb 27 overall.lasso.002.4096.201803\n",
    "# rb 28 overall.lasso.002.4096.201804\n",
    "# rb 29 overall.lasso.002.4096.201805\n",
    "# rb 30 overall.lasso.002.4096.201806\n",
    "# rb 31 overall.lasso.002.4096.201807\n",
    "# rb 32 overall.lasso.002.4096.201808\n",
    "# rb 33 overall.lasso.002.4096.201809\n",
    "# rb 34 overall.lasso.002.4096.201810\n",
    "# rb 35 overall.lasso.002.4096.201811\n",
    "# rb 36 overall.lasso.002.4096.201812\n",
    "# rb 37 overall.lasso.002.4096.201901\n",
    "# rb 38 overall.lasso.002.4096.201902\n",
    "# rb 39 overall.lasso.002.4096.201903\n",
    "# rb 40 overall.lasso.002.4096.201904\n",
    "# rb 41 overall.lasso.002.4096.201905\n",
    "# rb 42 overall.lasso.002.4096.201906\n",
    "# rb 43 overall.lasso.002.4096.201907\n",
    "# rb 44 overall.lasso.002.4096.201908\n",
    "# hc 25 overall.lasso.002.4096.201801\n",
    "# hc 26 overall.lasso.002.4096.201802\n",
    "# hc 27 overall.lasso.002.4096.201803\n",
    "# hc 28 overall.lasso.002.4096.201804\n",
    "# hc 29 overall.lasso.002.4096.201805\n",
    "# hc 30 overall.lasso.002.4096.201806\n",
    "# hc 31 overall.lasso.002.4096.201807\n",
    "# hc 32 overall.lasso.002.4096.201808\n",
    "# hc 33 overall.lasso.002.4096.201809\n",
    "# hc 34 overall.lasso.002.4096.201810\n",
    "# hc 35 overall.lasso.002.4096.201811\n",
    "# hc 36 overall.lasso.002.4096.201812\n",
    "# hc 37 overall.lasso.002.4096.201901\n",
    "# hc 38 overall.lasso.002.4096.201902\n",
    "# hc 39 overall.lasso.002.4096.201903\n",
    "# hc 40 overall.lasso.002.4096.201904\n",
    "# hc 41 overall.lasso.002.4096.201905\n",
    "# hc 42 overall.lasso.002.4096.201906\n",
    "# hc 43 overall.lasso.002.4096.201907\n",
    "# hc 44 overall.lasso.002.4096.201908\n",
    "# i 25 overall.lasso.002.4096.201801\n",
    "# i 26 overall.lasso.002.4096.201802\n",
    "# i 27 overall.lasso.002.4096.201803\n",
    "# i 28 overall.lasso.002.4096.201804\n",
    "# i 29 overall.lasso.002.4096.201805\n",
    "# i 30 overall.lasso.002.4096.201806\n",
    "# i 31 overall.lasso.002.4096.201807\n",
    "# i 32 overall.lasso.002.4096.201808\n",
    "# i 33 overall.lasso.002.4096.201809\n",
    "# i 34 overall.lasso.002.4096.201810\n",
    "# i 35 overall.lasso.002.4096.201811\n",
    "# i 36 overall.lasso.002.4096.201812\n",
    "# i 37 overall.lasso.002.4096.201901\n",
    "# i 38 overall.lasso.002.4096.201902\n",
    "# i 39 overall.lasso.002.4096.201903\n",
    "# i 40 overall.lasso.002.4096.201904\n",
    "# i 41 overall.lasso.002.4096.201905\n",
    "# i 42 overall.lasso.002.4096.201906\n",
    "# i 43 overall.lasso.002.4096.201907\n",
    "# i 44 overall.lasso.002.4096.201908\n",
    "# j 25 overall.lasso.002.4096.201801\n",
    "# j 26 overall.lasso.002.4096.201802\n",
    "# j 27 overall.lasso.002.4096.201803\n",
    "# j 28 overall.lasso.002.4096.201804\n",
    "# j 29 overall.lasso.002.4096.201805\n",
    "# j 30 overall.lasso.002.4096.201806\n",
    "# j 31 overall.lasso.002.4096.201807\n",
    "# j 32 overall.lasso.002.4096.201808\n",
    "# j 33 overall.lasso.002.4096.201809\n",
    "# j 34 overall.lasso.002.4096.201810\n",
    "# j 35 overall.lasso.002.4096.201811\n",
    "# j 36 overall.lasso.002.4096.201812\n",
    "# j 37 overall.lasso.002.4096.201901\n",
    "# j 38 overall.lasso.002.4096.201902\n",
    "# j 39 overall.lasso.002.4096.201903\n",
    "# j 40 overall.lasso.002.4096.201904\n",
    "# j 41 overall.lasso.002.4096.201905\n",
    "# j 42 overall.lasso.002.4096.201906\n",
    "# j 43 overall.lasso.002.4096.201907\n",
    "# j 44 overall.lasso.002.4096.201908\n",
    "# jm 25 overall.lasso.002.4096.201801\n",
    "# jm 26 overall.lasso.002.4096.201802\n",
    "# jm 27 overall.lasso.002.4096.201803\n",
    "# jm 28 overall.lasso.002.4096.201804\n",
    "# jm 29 overall.lasso.002.4096.201805\n",
    "# jm 30 overall.lasso.002.4096.201806\n",
    "# jm 31 overall.lasso.002.4096.201807\n",
    "# jm 32 overall.lasso.002.4096.201808\n",
    "# jm 33 overall.lasso.002.4096.201809\n",
    "# jm 34 overall.lasso.002.4096.201810\n",
    "# jm 35 overall.lasso.002.4096.201811\n",
    "# jm 36 overall.lasso.002.4096.201812\n",
    "# jm 37 overall.lasso.002.4096.201901\n",
    "# jm 38 overall.lasso.002.4096.201902\n",
    "# jm 39 overall.lasso.002.4096.201903\n",
    "# jm 40 overall.lasso.002.4096.201904\n",
    "# jm 41 overall.lasso.002.4096.201905\n",
    "# jm 42 overall.lasso.002.4096.201906\n",
    "# jm 43 overall.lasso.002.4096.201907\n",
    "# jm 44 overall.lasso.002.4096.201908\n",
    "# Wall time: 1h 19min 44s\n"
   ]
  },
  {
   "cell_type": "code",
   "execution_count": 46,
   "metadata": {},
   "outputs": [
    {
     "name": "stdout",
     "output_type": "stream",
     "text": [
      "sharpe  2.2515152456197316\n"
     ]
    },
    {
     "data": {
      "image/png": "[encoded data removed]",
      "text/plain": [
       "<Figure size 1152x720 with 1 Axes>"
      ]
     },
     "metadata": {
      "needs_background": "light"
     },
     "output_type": "display_data"
    }
   ],
   "source": [
    "n_product = len(product_list)\n",
    "save_path = \"signal result atr\"\n",
    "strat = \"overall.lasso.002.4096\"\n",
    "start_month = 0\n",
    "end_month = sum(month_len[0] < \"2018\")-1\n",
    "all_pnl = np.array([])\n",
    "capital = 1e3\n",
    "for i_test in test_range:\n",
    "    forward_len = month_len[1][i_test]\n",
    "    train_start = 0 if start_month==0 else cum_month_len[start_month-1]\n",
    "    train_end = cum_month_len[end_month]-1\n",
    "    strat_name = strat+\".\"+month_len[0][i_test]\n",
    "    train_mat = np.zeros((train_end-train_start+1, n_product))\n",
    "    test_mat = np.zeros((forward_len, n_product))\n",
    "    for i_product in range(n_product):\n",
    "        product = product_list[i_product]\n",
    "        stat_result = load(HEAD_PATH+\"/\"+save_path+\"/\"+product+\".\"+strat_name+\".pkl\")\n",
    "        train_stat = stat_result[\"train.stat\"]\n",
    "        test_stat = stat_result[\"test.stat\"]\n",
    "        spread = product_info[product][\"spread\"]\n",
    "        good_strat = (train_stat[\"final.result\"][\"avg.pnl\"]>2*spread)\n",
    "        train_pnl = train_stat[\"daily.pnl\"].loc[:, good_strat].sum(axis=1)/sum(good_strat) \n",
    "        train_pnl[np.isnan(train_pnl)]=0\n",
    "        train_mat[:,i_product] = train_pnl/capital\n",
    "        test_pnl = test_stat[\"daily.pnl\"].loc[:, good_strat].sum(axis=1)/sum(good_strat)/capital\n",
    "        test_pnl[np.isnan(test_pnl)]=0\n",
    "        test_mat[:,i_product] = test_pnl\n",
    "    sharpe_mat = np.apply_along_axis(sharpe, 0, train_mat)\n",
    "    sharpe_weight = zero_divide(sharpe_mat, np.sum(sharpe_mat))\n",
    "    #parity_weight = risk_parity(train_mat)\n",
    "    #diagonal_weight = risk_parity(train_mat, only_diag=True)\n",
    "    #avg_test_pnl = test_mat.mean(axis=1)\n",
    "    avg_test_pnl = np.dot(test_mat, sharpe_weight)\n",
    "    #avg_test_pnl = np.dot(test_mat, parity_weight)\n",
    "    #avg_test_pnl = np.dot(test_mat, diagonal_weight)\n",
    "    all_pnl = np.append(all_pnl, avg_test_pnl)\n",
    "    start_month = start_month+1\n",
    "    end_month = end_month+1\n",
    "plt.figure(1, figsize=(16, 10))\n",
    "plt.title(\"monthly roll lasso\")\n",
    "plt.xlabel(\"date\")\n",
    "plt.ylabel(\"pnl\")\n",
    "plt.plot(format_dates[test_sample], all_pnl.cumsum());\n",
    "print(\"sharpe \", sharpe(all_pnl))\n",
    "\n",
    "## sharpe  2.1251684630027663 ## avg\n",
    "## sharpe  2.2515152456197316 ## sharpe\n",
    "## sharpe  1.3967417699240174 ## risk parity"
   ]
  },
  {
   "cell_type": "markdown",
   "metadata": {},
   "source": [
    "- we can repeat this process for other models but it may be too time-consuming\n",
    "- you can do this as homework"
   ]
  },
  {
   "cell_type": "code",
   "execution_count": null,
   "metadata": {},
   "outputs": [],
   "source": []
  }
 ],
 "metadata": {
  "kernelspec": {
   "display_name": "Python 3",
   "language": "python",
   "name": "python3"
  },
  "language_info": {
   "codemirror_mode": {
    "name": "ipython",
    "version": 3
   },
   "file_extension": ".py",
   "mimetype": "text/x-python",
   "name": "python",
   "nbconvert_exporter": "python",
   "pygments_lexer": "ipython3",
   "version": "3.7.0"
  }
 },
 "nbformat": 4,
 "nbformat_minor": 2
}
