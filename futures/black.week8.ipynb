{
 "cells": [
  {
   "cell_type": "markdown",
   "metadata": {},
   "source": [
    "- in our original agenda this week we try different covariance estimation method\n",
    "- but I think we'd better go directly to regression model\n",
    "- then we can save some time for further more complicate machine learning models\n",
    "\n",
    "\n",
    "- this week we focus on the most simple linear regression without regularization"
   ]
  },
  {
   "cell_type": "code",
   "execution_count": 4,
   "metadata": {},
   "outputs": [
    {
     "data": {
      "text/plain": [
       "<function helper.get_daily_pred(file_name, product, signal_list, coef, strat, HEAD_PATH)>"
      ]
     },
     "execution_count": 4,
     "metadata": {},
     "output_type": "execute_result"
    }
   ],
   "source": [
    "from helper import *\n",
    "from stats import *\n",
    "from product_info import *\n",
    "from imp import reload  \n",
    "import helper\n",
    "import stats\n",
    "reload(helper)\n",
    "reload(stats)\n",
    "get_daily_pred\n"
   ]
  },
  {
   "cell_type": "code",
   "execution_count": 5,
   "metadata": {},
   "outputs": [
    {
     "data": {
      "text/plain": [
       "16"
      ]
     },
     "execution_count": 5,
     "metadata": {},
     "output_type": "execute_result"
    }
   ],
   "source": [
    "CORE_NUM = int(os.environ['NUMBER_OF_PROCESSORS'])\n",
    "CORE_NUM"
   ]
  },
  {
   "cell_type": "code",
   "execution_count": 6,
   "metadata": {},
   "outputs": [],
   "source": [
    "product_list = [\"rb\", \"hc\", \"i\", \"j\", \"jm\"]"
   ]
  },
  {
   "cell_type": "code",
   "execution_count": 7,
   "metadata": {},
   "outputs": [],
   "source": [
    "period = 4096"
   ]
  },
  {
   "cell_type": "code",
   "execution_count": 8,
   "metadata": {},
   "outputs": [
    {
     "data": {
      "text/plain": [
       "915"
      ]
     },
     "execution_count": 8,
     "metadata": {},
     "output_type": "execute_result"
    }
   ],
   "source": [
    "all_dates = os.listdir(DATA_PATH + product_list[0])\n",
    "all_dates.sort()\n",
    "all_dates = np.array(all_dates)\n",
    "n_days = len(all_dates)\n",
    "n_days\n",
    "## 915"
   ]
  },
  {
   "cell_type": "code",
   "execution_count": 9,
   "metadata": {},
   "outputs": [],
   "source": [
    "import dask\n",
    "from dask import compute, delayed\n",
    "import sklearn.preprocessing"
   ]
  },
  {
   "cell_type": "code",
   "execution_count": 10,
   "metadata": {},
   "outputs": [],
   "source": [
    "os.makedirs(HEAD_PATH+\"/all signal\", exist_ok=True)\n",
    "dire_signal_list = [\"trade.imb\", \"total.trade.imb\", \"nr\", \"dbook\", \"range.pos\", \"price.osci\", \"ma.dif.10\", \"kdj.k\", \"kdj.j\"]\n",
    "range_signal_list = [\"\", \"range\", \"std\", \"volume.open.ratio\", \"trend.index\"]\n",
    "all_signal_list = np.array([])\n",
    "for range_signal in range_signal_list:\n",
    "    for dire_signal in dire_signal_list:\n",
    "        if len(range_signal)==0:\n",
    "            signal_name = dire_signal\n",
    "        else:\n",
    "            signal_name = dire_signal+\".\"+range_signal\n",
    "        all_signal_list = np.append(all_signal_list,signal_name)\n",
    "signal_list = [signal+\".4096\" for signal in all_signal_list]\n",
    "n_signal = len(signal_list)"
   ]
  },
  {
   "cell_type": "code",
   "execution_count": 11,
   "metadata": {},
   "outputs": [],
   "source": [
    "train_sample = all_dates<\"2018\"\n",
    "test_sample = all_dates>\"2018\"\n",
    "date_str = [n[0:8] for n in all_dates]\n",
    "format_dates = np.array([pd.to_datetime(d) for d in date_str])"
   ]
  },
  {
   "cell_type": "markdown",
   "metadata": {},
   "source": [
    "- let's begin with week 8"
   ]
  },
  {
   "cell_type": "code",
   "execution_count": 12,
   "metadata": {},
   "outputs": [],
   "source": [
    "from sklearn import linear_model\n",
    "from sklearn.model_selection import cross_val_score\n",
    "from sklearn.linear_model import lasso_path, LassoCV\n",
    "from sklearn.preprocessing import StandardScaler\n",
    "y_signal = \"ret.\"+str(period)+\".002\"\n",
    "\n"
   ]
  },
  {
   "cell_type": "code",
   "execution_count": 13,
   "metadata": {},
   "outputs": [
    {
     "name": "stdout",
     "output_type": "stream",
     "text": [
      "rb\n",
      "[ 0.00000000e+00  0.00000000e+00  1.46151781e-03 -0.00000000e+00\n",
      "  0.00000000e+00  1.19948774e-04  0.00000000e+00  0.00000000e+00\n",
      "  0.00000000e+00 -0.00000000e+00 -0.00000000e+00 -0.00000000e+00\n",
      " -0.00000000e+00 -1.17089646e-05  0.00000000e+00 -0.00000000e+00\n",
      "  0.00000000e+00 -0.00000000e+00 -0.00000000e+00 -0.00000000e+00\n",
      "  0.00000000e+00 -0.00000000e+00 -5.47280752e-05  0.00000000e+00\n",
      "  0.00000000e+00  0.00000000e+00 -0.00000000e+00 -0.00000000e+00\n",
      " -0.00000000e+00  0.00000000e+00 -2.53119573e-02 -0.00000000e+00\n",
      "  0.00000000e+00 -0.00000000e+00  0.00000000e+00 -0.00000000e+00\n",
      " -0.00000000e+00 -0.00000000e+00  0.00000000e+00 -2.40055353e-03\n",
      " -0.00000000e+00  0.00000000e+00 -0.00000000e+00  0.00000000e+00\n",
      "  0.00000000e+00]\n",
      "hc\n",
      "[-0.00000000e+00 -0.00000000e+00  0.00000000e+00 -9.72938494e-05\n",
      "  0.00000000e+00  8.49286012e-05  0.00000000e+00  0.00000000e+00\n",
      "  0.00000000e+00 -0.00000000e+00 -4.24714494e-05 -0.00000000e+00\n",
      "  0.00000000e+00 -4.75266625e-05 -0.00000000e+00  2.39447278e-04\n",
      "  0.00000000e+00 -0.00000000e+00  0.00000000e+00 -0.00000000e+00\n",
      " -0.00000000e+00  1.12672499e-04 -1.09076025e-04 -0.00000000e+00\n",
      " -0.00000000e+00 -0.00000000e+00 -0.00000000e+00 -3.04748178e-02\n",
      " -0.00000000e+00  0.00000000e+00 -0.00000000e+00  0.00000000e+00\n",
      "  5.38787461e-04  0.00000000e+00  2.33492521e-03 -0.00000000e+00\n",
      " -0.00000000e+00  0.00000000e+00  0.00000000e+00 -0.00000000e+00\n",
      "  3.23066767e-03  2.75108612e-04  0.00000000e+00  0.00000000e+00\n",
      "  0.00000000e+00]\n",
      "i\n",
      "[ 6.16585396e-03  0.00000000e+00  4.31578629e-04  4.34389078e-04\n",
      " -0.00000000e+00  6.93773884e-04 -0.00000000e+00  0.00000000e+00\n",
      "  0.00000000e+00  0.00000000e+00 -2.53884434e-04 -0.00000000e+00\n",
      "  0.00000000e+00 -1.69604492e-04 -0.00000000e+00 -0.00000000e+00\n",
      "  0.00000000e+00 -0.00000000e+00 -1.27386213e-03 -0.00000000e+00\n",
      " -0.00000000e+00 -2.67209310e-03 -0.00000000e+00 -0.00000000e+00\n",
      " -3.82280516e-03 -0.00000000e+00 -0.00000000e+00 -0.00000000e+00\n",
      " -0.00000000e+00  0.00000000e+00  0.00000000e+00 -2.38191983e-03\n",
      " -0.00000000e+00  0.00000000e+00 -0.00000000e+00 -0.00000000e+00\n",
      " -0.00000000e+00 -0.00000000e+00  2.85735676e-03 -0.00000000e+00\n",
      " -0.00000000e+00 -3.40377938e-05 -0.00000000e+00  6.04154454e-04\n",
      " -0.00000000e+00]\n",
      "j\n",
      "[-6.64618626e-04 -0.00000000e+00  0.00000000e+00 -0.00000000e+00\n",
      "  0.00000000e+00  1.83706240e-04  0.00000000e+00 -0.00000000e+00\n",
      "  0.00000000e+00 -0.00000000e+00  0.00000000e+00  8.71352204e-05\n",
      " -0.00000000e+00  0.00000000e+00  0.00000000e+00  0.00000000e+00\n",
      "  0.00000000e+00  0.00000000e+00 -1.17781790e-03 -0.00000000e+00\n",
      "  0.00000000e+00 -9.82199329e-04  0.00000000e+00  0.00000000e+00\n",
      "  0.00000000e+00  0.00000000e+00  0.00000000e+00  0.00000000e+00\n",
      "  1.06761075e-03  0.00000000e+00 -2.82892753e-04  0.00000000e+00\n",
      "  0.00000000e+00  1.71950324e-02  0.00000000e+00  0.00000000e+00\n",
      " -0.00000000e+00  0.00000000e+00  0.00000000e+00 -0.00000000e+00\n",
      "  5.19215094e-04  0.00000000e+00  0.00000000e+00  0.00000000e+00\n",
      "  0.00000000e+00]\n",
      "jm\n",
      "[-0.         -0.         -0.         -0.00087096 -0.         -0.\n",
      " -0.0065562  -0.         -0.         -0.         -0.         -0.\n",
      " -0.         -0.         -0.         -0.         -0.         -0.\n",
      " -0.00024119 -0.         -0.         -0.00099405 -0.         -0.\n",
      " -0.00050114 -0.         -0.         -0.         -0.         -0.\n",
      " -0.         -0.         -0.         -0.05973195 -0.         -0.\n",
      " -0.         -0.          0.         -0.         -0.         -0.\n",
      " -0.         -0.         -0.        ]\n"
     ]
    }
   ],
   "source": [
    "coef_list=dict([])\n",
    "for product in product_list:\n",
    "    train_mat = load(HEAD_PATH+\"/train test mat/\"+product+\".train.mat.pkl\")\n",
    "    x_train = train_mat.iloc[:, :n_signal].values\n",
    "    y_train = train_mat.loc[:, y_signal].values\n",
    "    scaler =  StandardScaler(copy=True, with_mean=False, with_std=True)\n",
    "    scaler.fit(x_train)\n",
    "    x_std = np.sqrt(scaler.var_)\n",
    "    x_train_normal = scaler.transform(x_train)\n",
    "    model = LassoCV(n_alphas=100, fit_intercept=False, cv=5, max_iter=10000).fit(x_train_normal, y_train)\n",
    "    coef = model.coef_/x_std\n",
    "    print(product)\n",
    "    print(coef)\n",
    "    coef_list[product] = coef\n",
    "    \n",
    "# rb\n",
    "# [ 0.00000000e+00  0.00000000e+00  1.46151781e-03 -0.00000000e+00\n",
    "#   0.00000000e+00  1.19948774e-04  0.00000000e+00  0.00000000e+00\n",
    "#   0.00000000e+00 -0.00000000e+00 -0.00000000e+00 -0.00000000e+00\n",
    "#  -0.00000000e+00 -1.17089646e-05  0.00000000e+00 -0.00000000e+00\n",
    "#   0.00000000e+00 -0.00000000e+00 -0.00000000e+00 -0.00000000e+00\n",
    "#   0.00000000e+00 -0.00000000e+00 -5.47280752e-05  0.00000000e+00\n",
    "#   0.00000000e+00  0.00000000e+00 -0.00000000e+00 -0.00000000e+00\n",
    "#  -0.00000000e+00  0.00000000e+00 -2.53119573e-02 -0.00000000e+00\n",
    "#   0.00000000e+00 -0.00000000e+00  0.00000000e+00 -0.00000000e+00\n",
    "#  -0.00000000e+00 -0.00000000e+00  0.00000000e+00 -2.40055353e-03\n",
    "#  -0.00000000e+00  0.00000000e+00 -0.00000000e+00  0.00000000e+00\n",
    "#   0.00000000e+00]\n",
    "# hc\n",
    "# [-0.00000000e+00 -0.00000000e+00  0.00000000e+00 -9.72938494e-05\n",
    "#   0.00000000e+00  8.49286012e-05  0.00000000e+00  0.00000000e+00\n",
    "#   0.00000000e+00 -0.00000000e+00 -4.24714494e-05 -0.00000000e+00\n",
    "#   0.00000000e+00 -4.75266625e-05 -0.00000000e+00  2.39447278e-04\n",
    "#   0.00000000e+00 -0.00000000e+00  0.00000000e+00 -0.00000000e+00\n",
    "#  -0.00000000e+00  1.12672499e-04 -1.09076025e-04 -0.00000000e+00\n",
    "#  -0.00000000e+00 -0.00000000e+00 -0.00000000e+00 -3.04748178e-02\n",
    "#  -0.00000000e+00  0.00000000e+00 -0.00000000e+00  0.00000000e+00\n",
    "#   5.38787461e-04  0.00000000e+00  2.33492521e-03 -0.00000000e+00\n",
    "#  -0.00000000e+00  0.00000000e+00  0.00000000e+00 -0.00000000e+00\n",
    "#   3.23066767e-03  2.75108612e-04  0.00000000e+00  0.00000000e+00\n",
    "#   0.00000000e+00]\n",
    "# i\n",
    "# [ 6.16585396e-03  0.00000000e+00  4.31578629e-04  4.34389078e-04\n",
    "#  -0.00000000e+00  6.93773884e-04 -0.00000000e+00  0.00000000e+00\n",
    "#   0.00000000e+00  0.00000000e+00 -2.53884434e-04 -0.00000000e+00\n",
    "#   0.00000000e+00 -1.69604492e-04 -0.00000000e+00 -0.00000000e+00\n",
    "#   0.00000000e+00 -0.00000000e+00 -1.27386213e-03 -0.00000000e+00\n",
    "#  -0.00000000e+00 -2.67209310e-03 -0.00000000e+00 -0.00000000e+00\n",
    "#  -3.82280516e-03 -0.00000000e+00 -0.00000000e+00 -0.00000000e+00\n",
    "#  -0.00000000e+00  0.00000000e+00  0.00000000e+00 -2.38191983e-03\n",
    "#  -0.00000000e+00  0.00000000e+00 -0.00000000e+00 -0.00000000e+00\n",
    "#  -0.00000000e+00 -0.00000000e+00  2.85735676e-03 -0.00000000e+00\n",
    "#  -0.00000000e+00 -3.40377938e-05 -0.00000000e+00  6.04154454e-04\n",
    "#  -0.00000000e+00]\n",
    "# j\n",
    "# [-6.64618626e-04 -0.00000000e+00  0.00000000e+00 -0.00000000e+00\n",
    "#   0.00000000e+00  1.83706240e-04  0.00000000e+00 -0.00000000e+00\n",
    "#   0.00000000e+00 -0.00000000e+00  0.00000000e+00  8.71352204e-05\n",
    "#  -0.00000000e+00  0.00000000e+00  0.00000000e+00  0.00000000e+00\n",
    "#   0.00000000e+00  0.00000000e+00 -1.17781790e-03 -0.00000000e+00\n",
    "#   0.00000000e+00 -9.82199329e-04  0.00000000e+00  0.00000000e+00\n",
    "#   0.00000000e+00  0.00000000e+00  0.00000000e+00  0.00000000e+00\n",
    "#   1.06761075e-03  0.00000000e+00 -2.82892753e-04  0.00000000e+00\n",
    "#   0.00000000e+00  1.71950324e-02  0.00000000e+00  0.00000000e+00\n",
    "#  -0.00000000e+00  0.00000000e+00  0.00000000e+00 -0.00000000e+00\n",
    "#   5.19215094e-04  0.00000000e+00  0.00000000e+00  0.00000000e+00\n",
    "#   0.00000000e+00]\n",
    "# jm\n",
    "# [-0.         -0.         -0.         -0.00087096 -0.         -0.\n",
    "#  -0.0065562  -0.         -0.         -0.         -0.         -0.\n",
    "#  -0.         -0.         -0.         -0.         -0.         -0.\n",
    "#  -0.00024119 -0.         -0.         -0.00099405 -0.         -0.\n",
    "#  -0.00050114 -0.         -0.         -0.         -0.         -0.\n",
    "#  -0.         -0.         -0.         -0.05973195 -0.         -0.\n",
    "#  -0.         -0.          0.         -0.         -0.         -0.\n",
    "#  -0.         -0.         -0.        ]"
   ]
  },
  {
   "cell_type": "code",
   "execution_count": 15,
   "metadata": {},
   "outputs": [],
   "source": [
    "strat = \"lasso.002.\"+str(period)\n",
    "for product in product_list:\n",
    "    os.makedirs(HEAD_PATH+\"/tmp pkl/\"+product+\"/\"+strat, exist_ok=True)"
   ]
  },
  {
   "cell_type": "code",
   "execution_count": 16,
   "metadata": {},
   "outputs": [],
   "source": [
    "os.makedirs(HEAD_PATH+\"/signal mat pkl\", exist_ok=True)\n",
    "for product in product_list:\n",
    "    os.makedirs(HEAD_PATH+\"/signal mat pkl/\"+product, exist_ok=True)"
   ]
  },
  {
   "cell_type": "code",
   "execution_count": 42,
   "metadata": {},
   "outputs": [],
   "source": [
    "def par_get_signal_mat(file_name, product, signal_list, HEAD_PATH):\n",
    "    data = load(HEAD_PATH+\"/pkl tick/\"+product+\"/\"+file_name)\n",
    "    signal_mat = functools.reduce(functools.partial(get_signal_mat, product=product, file_name=file_name), signal_list, None)\n",
    "    save(signal_mat, HEAD_PATH+\"/signal mat pkl/\"+product+\"/\"+file_name)"
   ]
  },
  {
   "cell_type": "code",
   "execution_count": 18,
   "metadata": {},
   "outputs": [
    {
     "name": "stdout",
     "output_type": "stream",
     "text": [
      "rb\n",
      "hc\n",
      "i\n",
      "j\n",
      "jm\n",
      "Wall time: 2h 21min 34s\n"
     ]
    }
   ],
   "source": [
    "%%time\n",
    "for product in product_list:\n",
    "    print(product)\n",
    "    parLapply(CORE_NUM, all_dates, par_get_signal_mat, \n",
    "              product=product, signal_list=signal_list, HEAD_PATH=HEAD_PATH)\n",
    "    \n",
    "# rb\n",
    "# hc\n",
    "# i\n",
    "# j\n",
    "# jm\n",
    "# Wall time: 2h 21min 34s\n",
    "\n",
    "    "
   ]
  },
  {
   "cell_type": "code",
   "execution_count": 44,
   "metadata": {},
   "outputs": [],
   "source": [
    "def par_get_daily_pred(file_name, product, coef, strat, HEAD_PATH):\n",
    "    signal_mat = load(HEAD_PATH+\"/signal mat pkl/\"+product+\"/\"+file_name)\n",
    "    S = np.dot(signal_mat.transpose(),coef)\n",
    "    save(S, HEAD_PATH+\"/tmp pkl/\"+product+\"/\"+strat+\"/\"+file_name)      \n"
   ]
  },
  {
   "cell_type": "code",
   "execution_count": 19,
   "metadata": {},
   "outputs": [
    {
     "data": {
      "text/plain": [
       "['rb', 'hc', 'i', 'j', 'jm']"
      ]
     },
     "execution_count": 19,
     "metadata": {},
     "output_type": "execute_result"
    }
   ],
   "source": [
    "%%time\n",
    "for product in product_list:\n",
    "    print(product)\n",
    "    coef = coef_list[product]\n",
    "    parLapply(CORE_NUM, all_dates, par_get_daily_pred, \n",
    "              product=product, coef=coef, strat=strat, HEAD_PATH=\"e:/intern\")"
   ]
  },
  {
   "cell_type": "code",
   "execution_count": 19,
   "metadata": {},
   "outputs": [],
   "source": [
    "def par_get_all_signal(signal_name, file_list, product, period, HEAD_PATH=\"d:/intern\"):\n",
    "    n_files = len(file_list)\n",
    "    all_signal = np.array([])\n",
    "    for file in file_list:\n",
    "        S = load(HEAD_PATH+\"/tmp pkl/\"+product+\"/\"+signal_name+\"/\"+file)\n",
    "        #data = load(HEAD_PATH+\"/pkl tick/\"+product+\"/\"+file)\n",
    "        good = load(HEAD_PATH+\"/good pkl/\"+product+\"/\"+file)\n",
    "        signal = S[good]\n",
    "        chosen = (np.arange(len(signal))+1) % period==0\n",
    "        all_signal = np.concatenate((all_signal, signal[chosen]), axis=0)\n",
    "    save(all_signal, HEAD_PATH+\"/all signal/\"+product+\".\"+signal_name+\".pkl\")\n"
   ]
  },
  {
   "cell_type": "code",
   "execution_count": 20,
   "metadata": {},
   "outputs": [
    {
     "name": "stdout",
     "output_type": "stream",
     "text": [
      "Wall time: 59.6 s\n"
     ]
    }
   ],
   "source": [
    "%%time\n",
    "for product in product_list:\n",
    "    par_get_all_signal(strat, all_dates, product, 4096, HEAD_PATH=\"e:/intern\")\n",
    "    \n",
    "# Wall time: 59.6 s"
   ]
  },
  {
   "cell_type": "code",
   "execution_count": 22,
   "metadata": {},
   "outputs": [
    {
     "name": "stdout",
     "output_type": "stream",
     "text": [
      "reverse=1\n",
      "reverse=1\n",
      "reverse=1\n",
      "reverse=1\n",
      "reverse=1\n",
      "Wall time: 10min 51s\n"
     ]
    }
   ],
   "source": [
    "%%time\n",
    "for product in product_list:\n",
    "    spread = product_info[product][\"spread\"]\n",
    "    evaluate_signal(\"lasso.002\", all_dates, product, 2, 20, HEAD_PATH, \n",
    "                    CORE_NUM, period=4096, split_str=\"2018\", tranct=1.1e-4, \n",
    "                    max_spread=spread+0.1, tranct_ratio=True, atr_filter=20, save_path=\"signal result atr\",reverse=1)\n",
    "# reverse=1\n",
    "# reverse=1\n",
    "# reverse=1\n",
    "\n",
    "# Wall time: 3min 8s"
   ]
  },
  {
   "cell_type": "code",
   "execution_count": 116,
   "metadata": {},
   "outputs": [
    {
     "name": "stdout",
     "output_type": "stream",
     "text": [
      "rb train sharpe  2.204322309825338 test sharpe  1.2972262253364206\n",
      "hc train sharpe  1.4625173163029064 test sharpe  0.26773784783357013\n",
      "i train sharpe  1.0578039802590233 test sharpe  0.7404904012321055\n",
      "j train sharpe  0.6100507159879063 test sharpe  -0.4673255998299031\n",
      "jm train sharpe  1.3829124479087864 test sharpe  1.7186449948558897\n",
      "train sharpe:  2.4107119934607146 test sharpe:  0.812712468660879\n"
     ]
    },
    {
     "data": {
      "image/png": "[encoded data removed]",
      "text/plain": [
       "<Figure size 1152x720 with 1 Axes>"
      ]
     },
     "metadata": {
      "needs_background": "light"
     },
     "output_type": "display_data"
    }
   ],
   "source": [
    "i = 0\n",
    "strat = \"lasso.002.4096\"\n",
    "test_all_pnl = np.zeros([sum(test_sample), len(product_list)])\n",
    "train_all_pnl = np.zeros([sum(train_sample), len(product_list)])\n",
    "min_pnl = 2\n",
    "min_num = 10\n",
    "for product in product_list:\n",
    "    spread = product_info[product][\"spread\"]\n",
    "    signal_stat = load(HEAD_PATH+\"/signal result atr/\"+product+\".\"+strat+\".trend.pkl\")\n",
    "    train_stat = signal_stat[\"train.stat\"]\n",
    "    good_strat = (train_stat[\"final.result\"][\"avg.pnl\"]>min_pnl*spread) & (train_stat[\"final.result\"][\"num\"]>min_num)\n",
    "    train_pnl = train_stat[\"daily.pnl\"].loc[:, good_strat].sum(axis=1)/sum(good_strat)\n",
    "    train_std = np.std(train_pnl)\n",
    "    train_pnl = train_pnl/train_std\n",
    "    test_stat = signal_stat[\"test.stat\"]\n",
    "    test_pnl = test_stat[\"daily.pnl\"].loc[:, good_strat].sum(axis=1)/sum(good_strat)/train_std\n",
    "    print(product, \"train sharpe \", sharpe(train_pnl), \"test sharpe \", sharpe(test_pnl))\n",
    "    test_all_pnl[:,i] = test_pnl\n",
    "    train_all_pnl[:,i] = train_pnl\n",
    "    i = i+1\n",
    "train_portfolio = np.array(np.mean(train_all_pnl, axis=1))\n",
    "test_portfolio = np.array(np.mean(test_all_pnl, axis=1))\n",
    "all_portfolio = np.append(train_portfolio, test_portfolio)\n",
    "plt.figure(1, figsize=(16, 10));\n",
    "plt.title(\"\");\n",
    "plt.xlabel(\"date\");\n",
    "plt.ylabel(\"pnl\");\n",
    "plt.title(\"portfolio\");\n",
    "plt.plot(format_dates, all_portfolio.cumsum());\n",
    "plt.plot(format_dates[test_sample], all_portfolio.cumsum()[test_sample])\n",
    "print(\"train sharpe: \", sharpe(train_portfolio), \"test sharpe: \", sharpe(test_portfolio))    \n",
    "# rb train sharpe  2.204322309825338 test sharpe  1.2972262253364206\n",
    "# hc train sharpe  1.4625173163029064 test sharpe  0.26773784783357013\n",
    "# i train sharpe  1.0578039802590233 test sharpe  0.7404904012321055\n",
    "# j train sharpe  0.6100507159879063 test sharpe  -0.4673255998299031\n",
    "# jm train sharpe  1.3829124479087864 test sharpe  1.7186449948558897\n",
    "# train sharpe:  2.4107119934607146 test sharpe:  0.812712468660879\n",
    "\n"
   ]
  },
  {
   "cell_type": "markdown",
   "metadata": {},
   "source": [
    "- we can see that all but j are profitable\n",
    "- now let's try ridge regression"
   ]
  },
  {
   "cell_type": "code",
   "execution_count": 35,
   "metadata": {},
   "outputs": [],
   "source": [
    "strat = \"ridge.002\"+str(period)"
   ]
  },
  {
   "cell_type": "code",
   "execution_count": 52,
   "metadata": {},
   "outputs": [],
   "source": [
    "for product in product_list:\n",
    "    os.makedirs(HEAD_PATH+\"/tmp pkl/\"+product+\"/\"+strat, exist_ok=True)"
   ]
  },
  {
   "cell_type": "code",
   "execution_count": 37,
   "metadata": {},
   "outputs": [],
   "source": [
    "from sklearn.linear_model import RidgeCV"
   ]
  },
  {
   "cell_type": "code",
   "execution_count": 39,
   "metadata": {},
   "outputs": [
    {
     "name": "stdout",
     "output_type": "stream",
     "text": [
      "rb\n",
      "[ 5.78488016e-03  3.01066134e-04  1.31568694e-02  5.22384390e-03\n",
      "  4.86311858e-03  3.29323967e-04 -1.76483596e-01  2.98322811e-04\n",
      " -1.01752343e-03  1.01528107e-03 -1.99124064e-04  2.54655199e-04\n",
      " -8.91265361e-04  1.51266560e-05  1.32088607e-05 -4.26001830e-04\n",
      " -5.26020772e-06 -1.49048688e-05 -2.23104033e-03  4.20565823e-04\n",
      " -6.51997001e-04  1.92752889e-03 -8.59942448e-04 -1.57513870e-05\n",
      "  5.48153784e-03 -6.00978543e-05  3.16062218e-04 -4.42957915e-02\n",
      " -6.22781130e-03 -1.00393625e-03 -7.09026634e-03  1.20140842e-03\n",
      "  3.34280281e-03  5.09163139e-02  1.46947595e-03 -3.57791493e-03\n",
      " -6.59399837e-03 -5.00678287e-04 -6.87673202e-03 -7.41229725e-03\n",
      " -3.02919375e-03 -3.29127350e-04  2.55499530e-02 -6.30129722e-04\n",
      "  1.26501305e-03]\n",
      "hc\n",
      "[ 2.05245705e-02 -1.10540193e-02  1.85084075e-02 -1.89898797e-02\n",
      "  1.31480293e-03  4.24931882e-04  1.46507463e-02 -5.84237438e-04\n",
      "  2.88481220e-04  1.30261466e-04 -2.38589805e-04 -9.93787838e-04\n",
      "  4.95767067e-04 -1.78286857e-04 -6.31586274e-05  5.22484182e-03\n",
      "  2.39979936e-06  6.61132212e-05 -1.20656575e-03  8.00640050e-04\n",
      "  1.69267122e-03  1.44393435e-04 -2.96311704e-04  1.89056464e-04\n",
      " -1.35221189e-02  2.78875461e-05 -6.01991886e-05 -6.15812625e-02\n",
      "  1.53486383e-02  1.10122917e-01 -2.90777711e-02  1.37446265e-02\n",
      " -7.71985054e-04  1.71411650e-02  8.23034255e-03 -1.38166595e-02\n",
      " -2.05274303e-02  1.48928731e-02 -3.56953534e-02  1.19780011e-02\n",
      "  1.19281570e-02  1.18088133e-03 -1.71261960e-01 -2.58949710e-04\n",
      " -1.46630670e-03]\n",
      "i\n",
      "[ 1.11121249e-02  1.60181928e-03  5.26350483e-04  1.51936672e-04\n",
      " -1.64353660e-03  2.09495974e-03  1.50849299e-02 -6.75407254e-04\n",
      "  7.06100030e-04  2.74195904e-03 -1.61644157e-03 -8.05307586e-04\n",
      "  2.74507747e-04 -6.47737099e-04  2.05222254e-04  3.14387254e-04\n",
      "  2.45881683e-04  2.21218233e-05 -1.27331506e-02  6.72819863e-03\n",
      " -7.82174023e-04 -4.46374464e-03  1.96271539e-03 -1.49234685e-03\n",
      " -1.36835389e-02 -6.11317669e-04 -1.66330598e-04 -8.51655448e-03\n",
      "  2.92858517e-03 -1.29461441e-02  6.24597530e-03 -2.01356324e-04\n",
      " -2.64985634e-03  2.14807646e-01 -3.24614858e-03  2.84301403e-04\n",
      " -8.59772716e-03 -8.53372322e-03  2.59166008e-02  8.60410827e-04\n",
      " -8.91556805e-04 -1.88008023e-03  7.45153592e-02  2.64614079e-03\n",
      " -1.48555810e-03]\n",
      "j\n",
      "[-3.56154078e-03 -1.54068821e-02  1.41423166e-02  2.05719225e-03\n",
      "  3.18141991e-04  6.86270191e-03 -3.12370379e-01 -1.12349841e-03\n",
      " -1.59511676e-03  5.96442402e-04  4.42401133e-04  3.16631038e-04\n",
      "  4.67144788e-04 -1.45640522e-05  6.17077833e-05 -2.88295337e-03\n",
      " -2.72115776e-06  3.71250332e-05 -4.11604211e-03 -1.33416356e-03\n",
      "  2.61856557e-03 -3.65250932e-03  5.55722490e-05 -6.35513790e-04\n",
      "  1.47741062e-02 -1.38680564e-05  1.42749580e-05  1.38377761e-02\n",
      "  1.15881118e-02  2.92925483e-02 -1.97333690e-02 -8.39603133e-03\n",
      " -4.80865922e-03  2.78007886e-01 -3.34093176e-03  3.40647155e-03\n",
      "  3.44686539e-03  1.13612286e-02 -6.51739436e-02  1.01574347e-02\n",
      "  1.15150847e-02 -5.21661448e-03  2.04422405e-01  2.57776214e-03\n",
      "  5.00531590e-04]\n",
      "jm\n",
      "[ 4.63561573e-02 -1.87413443e-02  5.49106815e-02 -3.52336806e-02\n",
      " -6.11878815e-04  1.13660183e-03 -9.97225653e-02 -9.46455473e-04\n",
      " -1.31698496e-03 -1.10416025e-05  1.82243467e-04  4.10394277e-04\n",
      "  7.71738468e-04  1.57990640e-04  1.57120572e-04 -8.46544541e-04\n",
      "  2.75530193e-05 -2.73747730e-05 -2.57266650e-03 -3.05544563e-04\n",
      "  2.49987635e-03 -3.35212371e-03  5.54151380e-05 -5.49770417e-04\n",
      " -3.95102864e-03 -2.93215780e-04  2.18408367e-04  5.50416166e-03\n",
      "  2.48239596e-02 -1.13010705e-01  1.76087812e-02 -4.54671948e-03\n",
      " -4.48379862e-03 -1.96739346e-01  5.39252417e-03  6.61492022e-03\n",
      " -5.82294221e-02  1.50423494e-02  8.46162490e-03  2.80569603e-02\n",
      " -6.99255318e-03 -5.70063831e-04  5.14683962e-02  2.19361090e-04\n",
      "  1.67826106e-05]\n"
     ]
    }
   ],
   "source": [
    "coef_list=dict([])\n",
    "for product in product_list:\n",
    "    train_mat = load(HEAD_PATH+\"/train test mat/\"+product+\".train.mat.pkl\")\n",
    "    x_train = train_mat.iloc[:, :n_signal].values\n",
    "    y_train = train_mat.loc[:, y_signal].values\n",
    "    scaler =  StandardScaler(copy=True, with_mean=False, with_std=True)\n",
    "    scaler.fit(x_train)\n",
    "    x_std = np.sqrt(scaler.var_)\n",
    "    x_train_normal = scaler.transform(x_train)\n",
    "    model = RidgeCV(fit_intercept=False, cv=5).fit(x_train_normal, y_train)\n",
    "    coef = model.coef_/x_std\n",
    "    print(product)\n",
    "    print(coef)\n",
    "    coef_list[product] = coef\n",
    "\n",
    "# rb\n",
    "# [ 5.78488016e-03  3.01066134e-04  1.31568694e-02  5.22384390e-03\n",
    "#   4.86311858e-03  3.29323967e-04 -1.76483596e-01  2.98322811e-04\n",
    "#  -1.01752343e-03  1.01528107e-03 -1.99124064e-04  2.54655199e-04\n",
    "#  -8.91265361e-04  1.51266560e-05  1.32088607e-05 -4.26001830e-04\n",
    "#  -5.26020772e-06 -1.49048688e-05 -2.23104033e-03  4.20565823e-04\n",
    "#  -6.51997001e-04  1.92752889e-03 -8.59942448e-04 -1.57513870e-05\n",
    "#   5.48153784e-03 -6.00978543e-05  3.16062218e-04 -4.42957915e-02\n",
    "#  -6.22781130e-03 -1.00393625e-03 -7.09026634e-03  1.20140842e-03\n",
    "#   3.34280281e-03  5.09163139e-02  1.46947595e-03 -3.57791493e-03\n",
    "#  -6.59399837e-03 -5.00678287e-04 -6.87673202e-03 -7.41229725e-03\n",
    "#  -3.02919375e-03 -3.29127350e-04  2.55499530e-02 -6.30129722e-04\n",
    "#   1.26501305e-03]\n",
    "# hc\n",
    "# [ 2.05245705e-02 -1.10540193e-02  1.85084075e-02 -1.89898797e-02\n",
    "#   1.31480293e-03  4.24931882e-04  1.46507463e-02 -5.84237438e-04\n",
    "#   2.88481220e-04  1.30261466e-04 -2.38589805e-04 -9.93787838e-04\n",
    "#   4.95767067e-04 -1.78286857e-04 -6.31586274e-05  5.22484182e-03\n",
    "#   2.39979936e-06  6.61132212e-05 -1.20656575e-03  8.00640050e-04\n",
    "#   1.69267122e-03  1.44393435e-04 -2.96311704e-04  1.89056464e-04\n",
    "#  -1.35221189e-02  2.78875461e-05 -6.01991886e-05 -6.15812625e-02\n",
    "#   1.53486383e-02  1.10122917e-01 -2.90777711e-02  1.37446265e-02\n",
    "#  -7.71985054e-04  1.71411650e-02  8.23034255e-03 -1.38166595e-02\n",
    "#  -2.05274303e-02  1.48928731e-02 -3.56953534e-02  1.19780011e-02\n",
    "#   1.19281570e-02  1.18088133e-03 -1.71261960e-01 -2.58949710e-04\n",
    "#  -1.46630670e-03]\n",
    "# i\n",
    "# [ 1.11121249e-02  1.60181928e-03  5.26350483e-04  1.51936672e-04\n",
    "#  -1.64353660e-03  2.09495974e-03  1.50849299e-02 -6.75407254e-04\n",
    "#   7.06100030e-04  2.74195904e-03 -1.61644157e-03 -8.05307586e-04\n",
    "#   2.74507747e-04 -6.47737099e-04  2.05222254e-04  3.14387254e-04\n",
    "#   2.45881683e-04  2.21218233e-05 -1.27331506e-02  6.72819863e-03\n",
    "#  -7.82174023e-04 -4.46374464e-03  1.96271539e-03 -1.49234685e-03\n",
    "#  -1.36835389e-02 -6.11317669e-04 -1.66330598e-04 -8.51655448e-03\n",
    "#   2.92858517e-03 -1.29461441e-02  6.24597530e-03 -2.01356324e-04\n",
    "#  -2.64985634e-03  2.14807646e-01 -3.24614858e-03  2.84301403e-04\n",
    "#  -8.59772716e-03 -8.53372322e-03  2.59166008e-02  8.60410827e-04\n",
    "#  -8.91556805e-04 -1.88008023e-03  7.45153592e-02  2.64614079e-03\n",
    "#  -1.48555810e-03]\n",
    "# j\n",
    "# [-3.56154078e-03 -1.54068821e-02  1.41423166e-02  2.05719225e-03\n",
    "#   3.18141991e-04  6.86270191e-03 -3.12370379e-01 -1.12349841e-03\n",
    "#  -1.59511676e-03  5.96442402e-04  4.42401133e-04  3.16631038e-04\n",
    "#   4.67144788e-04 -1.45640522e-05  6.17077833e-05 -2.88295337e-03\n",
    "#  -2.72115776e-06  3.71250332e-05 -4.11604211e-03 -1.33416356e-03\n",
    "#   2.61856557e-03 -3.65250932e-03  5.55722490e-05 -6.35513790e-04\n",
    "#   1.47741062e-02 -1.38680564e-05  1.42749580e-05  1.38377761e-02\n",
    "#   1.15881118e-02  2.92925483e-02 -1.97333690e-02 -8.39603133e-03\n",
    "#  -4.80865922e-03  2.78007886e-01 -3.34093176e-03  3.40647155e-03\n",
    "#   3.44686539e-03  1.13612286e-02 -6.51739436e-02  1.01574347e-02\n",
    "#   1.15150847e-02 -5.21661448e-03  2.04422405e-01  2.57776214e-03\n",
    "#   5.00531590e-04]\n",
    "# jm\n",
    "# [ 4.63561573e-02 -1.87413443e-02  5.49106815e-02 -3.52336806e-02\n",
    "#  -6.11878815e-04  1.13660183e-03 -9.97225653e-02 -9.46455473e-04\n",
    "#  -1.31698496e-03 -1.10416025e-05  1.82243467e-04  4.10394277e-04\n",
    "#   7.71738468e-04  1.57990640e-04  1.57120572e-04 -8.46544541e-04\n",
    "#   2.75530193e-05 -2.73747730e-05 -2.57266650e-03 -3.05544563e-04\n",
    "#   2.49987635e-03 -3.35212371e-03  5.54151380e-05 -5.49770417e-04\n",
    "#  -3.95102864e-03 -2.93215780e-04  2.18408367e-04  5.50416166e-03\n",
    "#   2.48239596e-02 -1.13010705e-01  1.76087812e-02 -4.54671948e-03\n",
    "#  -4.48379862e-03 -1.96739346e-01  5.39252417e-03  6.61492022e-03\n",
    "#  -5.82294221e-02  1.50423494e-02  8.46162490e-03  2.80569603e-02\n",
    "#  -6.99255318e-03 -5.70063831e-04  5.14683962e-02  2.19361090e-04\n",
    "#   1.67826106e-05]"
   ]
  },
  {
   "cell_type": "code",
   "execution_count": 40,
   "metadata": {},
   "outputs": [],
   "source": [
    "strat = \"ridge.002.\"+str(period)\n",
    "for product in product_list:\n",
    "    os.makedirs(\"e:/intern\"+\"/tmp pkl/\"+product+\"/\"+strat, exist_ok=True)"
   ]
  },
  {
   "cell_type": "code",
   "execution_count": null,
   "metadata": {},
   "outputs": [],
   "source": []
  },
  {
   "cell_type": "code",
   "execution_count": 45,
   "metadata": {},
   "outputs": [
    {
     "name": "stdout",
     "output_type": "stream",
     "text": [
      "rb\n",
      "hc\n",
      "i\n",
      "j\n",
      "jm\n",
      "Wall time: 26min 29s\n"
     ]
    }
   ],
   "source": [
    "%%time\n",
    "for product in product_list:\n",
    "    print(product)\n",
    "    coef = coef_list[product]\n",
    "    parLapply(CORE_NUM, all_dates, par_get_daily_pred, \n",
    "              product=product, coef=coef, strat=strat, HEAD_PATH=\"e:/intern\")\n",
    "    \n",
    "# rb\n",
    "# hc\n",
    "# i\n",
    "# j\n",
    "# jm\n",
    "# Wall time: 26min 29s"
   ]
  },
  {
   "cell_type": "markdown",
   "metadata": {},
   "source": [
    "- we can see that for ridge we use all of the signals"
   ]
  },
  {
   "cell_type": "code",
   "execution_count": 46,
   "metadata": {},
   "outputs": [
    {
     "name": "stdout",
     "output_type": "stream",
     "text": [
      "Wall time: 1min 54s\n"
     ]
    }
   ],
   "source": [
    "%%time\n",
    "for product in product_list:\n",
    "    par_get_all_signal(strat, all_dates, product, 4096, HEAD_PATH=\"e:/intern\")"
   ]
  },
  {
   "cell_type": "code",
   "execution_count": 48,
   "metadata": {},
   "outputs": [
    {
     "name": "stdout",
     "output_type": "stream",
     "text": [
      "reverse=1\n",
      "reverse=1\n",
      "reverse=1\n",
      "reverse=1\n",
      "reverse=1\n",
      "Wall time: 13min 26s\n"
     ]
    }
   ],
   "source": [
    "%%time\n",
    "for product in product_list:\n",
    "    spread = product_info[product][\"spread\"]\n",
    "    evaluate_signal(\"ridge.002\", all_dates, product, 2, 20, HEAD_PATH, \n",
    "                    CORE_NUM, period=4096, split_str=\"2018\", tranct=1.1e-4, \n",
    "                    max_spread=spread+0.1, tranct_ratio=True, atr_filter=20, save_path=\"signal result atr\",reverse=1)"
   ]
  },
  {
   "cell_type": "code",
   "execution_count": 49,
   "metadata": {},
   "outputs": [
    {
     "name": "stdout",
     "output_type": "stream",
     "text": [
      "rb train sharpe  1.1290345204426433 test sharpe  0.21040399292482728\n",
      "hc train sharpe  2.0907058083683556 test sharpe  0.22760096513589834\n",
      "i train sharpe  1.305726106991769 test sharpe  0.6356950214482296\n",
      "j train sharpe  1.0898424144470746 test sharpe  -0.6697161676577547\n",
      "jm train sharpe  1.656746654377378 test sharpe  -2.03044129952892\n",
      "train sharpe:  2.5285316820759767 test sharpe:  -0.7273905545346081\n"
     ]
    },
    {
     "data": {
      "image/png": "[encoded data removed]",
      "text/plain": [
       "<Figure size 1152x720 with 1 Axes>"
      ]
     },
     "metadata": {
      "needs_background": "light"
     },
     "output_type": "display_data"
    }
   ],
   "source": [
    "i = 0\n",
    "strat = \"ridge.002.4096\"\n",
    "test_all_pnl = np.zeros([sum(test_sample), len(product_list)])\n",
    "train_all_pnl = np.zeros([sum(train_sample), len(product_list)])\n",
    "min_pnl = 2\n",
    "min_num = 10\n",
    "for product in product_list:\n",
    "    spread = product_info[product][\"spread\"]\n",
    "    signal_stat = load(HEAD_PATH+\"/signal result atr/\"+product+\".\"+strat+\".trend.pkl\")\n",
    "    train_stat = signal_stat[\"train.stat\"]\n",
    "    good_strat = (train_stat[\"final.result\"][\"avg.pnl\"]>min_pnl*spread) & (train_stat[\"final.result\"][\"num\"]>min_num)\n",
    "    train_pnl = train_stat[\"daily.pnl\"].loc[:, good_strat].sum(axis=1)/sum(good_strat)\n",
    "    train_std = np.std(train_pnl)\n",
    "    train_pnl = train_pnl/train_std\n",
    "    test_stat = signal_stat[\"test.stat\"]\n",
    "    test_pnl = test_stat[\"daily.pnl\"].loc[:, good_strat].sum(axis=1)/sum(good_strat)/train_std\n",
    "    print(product, \"train sharpe \", sharpe(train_pnl), \"test sharpe \", sharpe(test_pnl))\n",
    "    test_all_pnl[:,i] = test_pnl\n",
    "    train_all_pnl[:,i] = train_pnl\n",
    "    i = i+1\n",
    "train_portfolio = np.array(np.mean(train_all_pnl, axis=1))\n",
    "test_portfolio = np.array(np.mean(test_all_pnl, axis=1))\n",
    "all_portfolio = np.append(train_portfolio, test_portfolio)\n",
    "plt.figure(1, figsize=(16, 10));\n",
    "plt.title(\"\");\n",
    "plt.xlabel(\"date\");\n",
    "plt.ylabel(\"pnl\");\n",
    "plt.title(\"portfolio\");\n",
    "plt.plot(format_dates, all_portfolio.cumsum());\n",
    "plt.plot(format_dates[test_sample], all_portfolio.cumsum()[test_sample])\n",
    "print(\"train sharpe: \", sharpe(train_portfolio), \"test sharpe: \", sharpe(test_portfolio))    \n",
    "\n",
    "# rb train sharpe  1.1290345204426433 test sharpe  0.21040399292482728\n",
    "# hc train sharpe  2.0907058083683556 test sharpe  0.22760096513589834\n",
    "# i train sharpe  1.305726106991769 test sharpe  0.6356950214482296\n",
    "# j train sharpe  1.0898424144470746 test sharpe  -0.6697161676577547\n",
    "# jm train sharpe  1.656746654377378 test sharpe  -2.03044129952892\n",
    "# train sharpe:  2.5285316820759767 test sharpe:  -0.7273905545346081\n",
    "\n",
    "\n"
   ]
  },
  {
   "cell_type": "markdown",
   "metadata": {},
   "source": [
    "- It's worse than lasso"
   ]
  },
  {
   "cell_type": "markdown",
   "metadata": {},
   "source": [
    "- maybe we can try elastic net"
   ]
  },
  {
   "cell_type": "code",
   "execution_count": 50,
   "metadata": {},
   "outputs": [],
   "source": [
    "from sklearn.linear_model import ElasticNetCV"
   ]
  },
  {
   "cell_type": "code",
   "execution_count": 51,
   "metadata": {},
   "outputs": [],
   "source": [
    "strat = \"elastic.002.\"+str(period)"
   ]
  },
  {
   "cell_type": "code",
   "execution_count": 53,
   "metadata": {},
   "outputs": [],
   "source": [
    "for product in product_list:\n",
    "    os.makedirs(HEAD_PATH+\"/tmp pkl/\"+product+\"/\"+strat, exist_ok=True)"
   ]
  },
  {
   "cell_type": "code",
   "execution_count": 55,
   "metadata": {},
   "outputs": [
    {
     "name": "stdout",
     "output_type": "stream",
     "text": [
      "rb\n",
      "[ 0.00000000e+00  0.00000000e+00  1.46138940e-03 -0.00000000e+00\n",
      "  0.00000000e+00  1.19942263e-04  0.00000000e+00  0.00000000e+00\n",
      "  0.00000000e+00 -0.00000000e+00 -0.00000000e+00 -0.00000000e+00\n",
      " -0.00000000e+00 -1.17052591e-05  0.00000000e+00 -0.00000000e+00\n",
      "  0.00000000e+00 -0.00000000e+00 -0.00000000e+00 -0.00000000e+00\n",
      "  0.00000000e+00 -0.00000000e+00 -5.47284826e-05  0.00000000e+00\n",
      "  0.00000000e+00  0.00000000e+00 -0.00000000e+00 -0.00000000e+00\n",
      " -0.00000000e+00  0.00000000e+00 -2.53081194e-02 -0.00000000e+00\n",
      "  0.00000000e+00 -0.00000000e+00  0.00000000e+00 -0.00000000e+00\n",
      " -0.00000000e+00 -0.00000000e+00  0.00000000e+00 -2.40145955e-03\n",
      " -0.00000000e+00  0.00000000e+00 -0.00000000e+00  0.00000000e+00\n",
      "  0.00000000e+00]\n",
      "hc\n",
      "[-0.00000000e+00 -0.00000000e+00  0.00000000e+00 -9.74357143e-05\n",
      "  0.00000000e+00  8.48757710e-05  0.00000000e+00  0.00000000e+00\n",
      "  0.00000000e+00 -0.00000000e+00 -4.24734179e-05 -0.00000000e+00\n",
      "  0.00000000e+00 -4.74717393e-05 -0.00000000e+00  2.39244868e-04\n",
      "  0.00000000e+00 -0.00000000e+00  0.00000000e+00 -0.00000000e+00\n",
      " -0.00000000e+00  1.12645551e-04 -1.09160932e-04 -0.00000000e+00\n",
      " -0.00000000e+00 -0.00000000e+00 -0.00000000e+00 -3.04718380e-02\n",
      " -0.00000000e+00  0.00000000e+00 -0.00000000e+00  0.00000000e+00\n",
      "  5.38788274e-04  0.00000000e+00  2.33470845e-03 -0.00000000e+00\n",
      " -0.00000000e+00  0.00000000e+00  0.00000000e+00 -0.00000000e+00\n",
      "  3.22811395e-03  2.75561899e-04  0.00000000e+00  0.00000000e+00\n",
      "  0.00000000e+00]\n",
      "i\n",
      "[ 6.16514482e-03  0.00000000e+00  4.31974613e-04  4.34382903e-04\n",
      " -0.00000000e+00  6.93628586e-04 -0.00000000e+00  0.00000000e+00\n",
      "  0.00000000e+00  0.00000000e+00 -2.53829689e-04 -0.00000000e+00\n",
      "  0.00000000e+00 -1.69595734e-04 -0.00000000e+00 -0.00000000e+00\n",
      "  0.00000000e+00 -0.00000000e+00 -1.27382910e-03 -0.00000000e+00\n",
      " -0.00000000e+00 -2.67180247e-03 -0.00000000e+00 -0.00000000e+00\n",
      " -3.82365978e-03 -0.00000000e+00 -0.00000000e+00 -0.00000000e+00\n",
      " -0.00000000e+00  0.00000000e+00  0.00000000e+00 -2.38147018e-03\n",
      " -0.00000000e+00  0.00000000e+00 -0.00000000e+00 -0.00000000e+00\n",
      " -0.00000000e+00 -0.00000000e+00  2.85624076e-03 -0.00000000e+00\n",
      " -0.00000000e+00 -3.38415026e-05 -0.00000000e+00  6.04092279e-04\n",
      " -0.00000000e+00]\n",
      "j\n",
      "[-6.66165457e-04 -0.00000000e+00  0.00000000e+00 -0.00000000e+00\n",
      "  0.00000000e+00  1.83666665e-04  0.00000000e+00 -0.00000000e+00\n",
      "  0.00000000e+00 -0.00000000e+00  0.00000000e+00  8.71141824e-05\n",
      " -0.00000000e+00  0.00000000e+00  0.00000000e+00  0.00000000e+00\n",
      "  0.00000000e+00  0.00000000e+00 -1.17752160e-03 -0.00000000e+00\n",
      "  0.00000000e+00 -9.82092721e-04  0.00000000e+00  0.00000000e+00\n",
      "  0.00000000e+00  0.00000000e+00  0.00000000e+00  0.00000000e+00\n",
      "  1.06780441e-03  0.00000000e+00 -2.83773396e-04  0.00000000e+00\n",
      "  0.00000000e+00  1.71937837e-02  0.00000000e+00  0.00000000e+00\n",
      " -0.00000000e+00  0.00000000e+00  0.00000000e+00 -0.00000000e+00\n",
      "  5.19423788e-04  0.00000000e+00  0.00000000e+00  0.00000000e+00\n",
      "  0.00000000e+00]\n",
      "jm\n",
      "[-0.         -0.         -0.         -0.00087277 -0.         -0.\n",
      " -0.00656326 -0.         -0.         -0.         -0.         -0.\n",
      " -0.         -0.         -0.         -0.         -0.         -0.\n",
      " -0.00024151 -0.         -0.         -0.00099332 -0.         -0.\n",
      " -0.00050151 -0.         -0.         -0.         -0.         -0.\n",
      " -0.         -0.         -0.         -0.05968966 -0.         -0.\n",
      " -0.         -0.          0.         -0.         -0.         -0.\n",
      " -0.         -0.         -0.        ]\n"
     ]
    }
   ],
   "source": [
    "coef_list=dict([])\n",
    "for product in product_list:\n",
    "    train_mat = load(HEAD_PATH+\"/train test mat/\"+product+\".train.mat.pkl\")\n",
    "    x_train = train_mat.iloc[:, :n_signal].values\n",
    "    y_train = train_mat.loc[:, y_signal].values\n",
    "    scaler =  StandardScaler(copy=True, with_mean=False, with_std=True)\n",
    "    scaler.fit(x_train)\n",
    "    x_std = np.sqrt(scaler.var_)\n",
    "    x_train_normal = scaler.transform(x_train)\n",
    "    model = ElasticNetCV(n_alphas=100, l1_ratio=0.5, fit_intercept=False, cv=5, max_iter=10000).fit(x_train_normal, y_train)\n",
    "    coef = model.coef_/x_std\n",
    "    print(product)\n",
    "    print(coef)\n",
    "    coef_list[product] = coef\n"
   ]
  },
  {
   "cell_type": "code",
   "execution_count": 56,
   "metadata": {},
   "outputs": [],
   "source": [
    "for product in product_list:\n",
    "    os.makedirs(HEAD_PATH+\"/tmp pkl/\"+product+\"/\"+strat, exist_ok=True)"
   ]
  },
  {
   "cell_type": "code",
   "execution_count": 57,
   "metadata": {},
   "outputs": [
    {
     "name": "stdout",
     "output_type": "stream",
     "text": [
      "rb\n",
      "hc\n",
      "i\n",
      "j\n",
      "jm\n",
      "Wall time: 26min 45s\n"
     ]
    }
   ],
   "source": [
    "%%time\n",
    "for product in product_list:\n",
    "    print(product)\n",
    "    coef = coef_list[product]\n",
    "    parLapply(CORE_NUM, all_dates, par_get_daily_pred, \n",
    "              product=product, coef=coef, strat=strat, HEAD_PATH=\"e:/intern\")\n",
    "\n",
    "# rb\n",
    "# hc\n",
    "# i\n",
    "# j\n",
    "# jm\n",
    "# Wall time: 26min 45s\n"
   ]
  },
  {
   "cell_type": "code",
   "execution_count": null,
   "metadata": {},
   "outputs": [],
   "source": []
  },
  {
   "cell_type": "code",
   "execution_count": 58,
   "metadata": {},
   "outputs": [
    {
     "name": "stdout",
     "output_type": "stream",
     "text": [
      "Wall time: 1min 35s\n"
     ]
    }
   ],
   "source": [
    "%%time\n",
    "for product in product_list:\n",
    "    par_get_all_signal(strat, all_dates, product, 4096, HEAD_PATH=\"e:/intern\")"
   ]
  },
  {
   "cell_type": "code",
   "execution_count": 60,
   "metadata": {},
   "outputs": [
    {
     "name": "stdout",
     "output_type": "stream",
     "text": [
      "reverse=1\n",
      "reverse=1\n",
      "reverse=1\n",
      "reverse=1\n",
      "reverse=1\n",
      "Wall time: 13min 1s\n"
     ]
    }
   ],
   "source": [
    "%%time\n",
    "for product in product_list:\n",
    "    spread = product_info[product][\"spread\"]\n",
    "    evaluate_signal(\"elastic.002\", all_dates, product, 2, 20, HEAD_PATH, \n",
    "                    CORE_NUM, period=4096, split_str=\"2018\", tranct=1.1e-4, \n",
    "                    max_spread=spread+0.1, tranct_ratio=True, atr_filter=20, save_path=\"signal result atr\",reverse=1)"
   ]
  },
  {
   "cell_type": "code",
   "execution_count": 61,
   "metadata": {},
   "outputs": [
    {
     "name": "stdout",
     "output_type": "stream",
     "text": [
      "rb train sharpe  2.2045016518398075 test sharpe  1.3033843915519625\n",
      "hc train sharpe  1.462908132265175 test sharpe  0.2682945785528859\n",
      "i train sharpe  1.0578039802590233 test sharpe  0.7404904012321055\n",
      "j train sharpe  0.6102247013395624 test sharpe  -0.4679164786251905\n",
      "jm train sharpe  1.381665393610158 test sharpe  1.7186449948558942\n",
      "train sharpe:  2.4107781976002425 test sharpe:  0.8145650577581276\n"
     ]
    },
    {
     "data": {
      "image/png": "[encoded data removed]",
      "text/plain": [
       "<Figure size 1152x720 with 1 Axes>"
      ]
     },
     "metadata": {
      "needs_background": "light"
     },
     "output_type": "display_data"
    }
   ],
   "source": [
    "i = 0\n",
    "strat = \"elastic.002.4096\"\n",
    "test_all_pnl = np.zeros([sum(test_sample), len(product_list)])\n",
    "train_all_pnl = np.zeros([sum(train_sample), len(product_list)])\n",
    "min_pnl = 2\n",
    "min_num = 10\n",
    "for product in product_list:\n",
    "    spread = product_info[product][\"spread\"]\n",
    "    signal_stat = load(HEAD_PATH+\"/signal result atr/\"+product+\".\"+strat+\".trend.pkl\")\n",
    "    train_stat = signal_stat[\"train.stat\"]\n",
    "    good_strat = (train_stat[\"final.result\"][\"avg.pnl\"]>min_pnl*spread) & (train_stat[\"final.result\"][\"num\"]>min_num)\n",
    "    train_pnl = train_stat[\"daily.pnl\"].loc[:, good_strat].sum(axis=1)/sum(good_strat)\n",
    "    train_std = np.std(train_pnl)\n",
    "    train_pnl = train_pnl/train_std\n",
    "    test_stat = signal_stat[\"test.stat\"]\n",
    "    test_pnl = test_stat[\"daily.pnl\"].loc[:, good_strat].sum(axis=1)/sum(good_strat)/train_std\n",
    "    print(product, \"train sharpe \", sharpe(train_pnl), \"test sharpe \", sharpe(test_pnl))\n",
    "    test_all_pnl[:,i] = test_pnl\n",
    "    train_all_pnl[:,i] = train_pnl\n",
    "    i = i+1\n",
    "train_portfolio = np.array(np.mean(train_all_pnl, axis=1))\n",
    "test_portfolio = np.array(np.mean(test_all_pnl, axis=1))\n",
    "all_portfolio = np.append(train_portfolio, test_portfolio)\n",
    "plt.figure(1, figsize=(16, 10));\n",
    "plt.title(\"\");\n",
    "plt.xlabel(\"date\");\n",
    "plt.ylabel(\"pnl\");\n",
    "plt.title(\"portfolio\");\n",
    "plt.plot(format_dates, all_portfolio.cumsum());\n",
    "plt.plot(format_dates[test_sample], all_portfolio.cumsum()[test_sample])\n",
    "print(\"train sharpe: \", sharpe(train_portfolio), \"test sharpe: \", sharpe(test_portfolio))    \n",
    "\n",
    "## elastic net\n",
    "# rb train sharpe  2.2045016518398075 test sharpe  1.3033843915519625\n",
    "# hc train sharpe  1.462908132265175 test sharpe  0.2682945785528859\n",
    "# i train sharpe  1.0578039802590233 test sharpe  0.7404904012321055\n",
    "# j train sharpe  0.6102247013395624 test sharpe  -0.4679164786251905\n",
    "# jm train sharpe  1.381665393610158 test sharpe  1.7186449948558942\n",
    "# train sharpe:  2.4107781976002425 test sharpe:  0.8145650577581276\n",
    "\n",
    "## lasso\n",
    "# rb train sharpe  2.204322309825338 test sharpe  1.2972262253364206\n",
    "# hc train sharpe  1.4625173163029064 test sharpe  0.26773784783357013\n",
    "# i train sharpe  1.0578039802590233 test sharpe  0.7404904012321055\n",
    "# j train sharpe  0.6100507159879063 test sharpe  -0.4673255998299031\n",
    "# jm train sharpe  1.3829124479087864 test sharpe  1.7186449948558897\n",
    "# train sharpe:  2.4107119934607146 test sharpe:  0.812712468660879"
   ]
  },
  {
   "cell_type": "markdown",
   "metadata": {},
   "source": [
    "- Now we can add another model - Adaptive Lasso\n",
    "- Previously, the penalty for each coefficent is the same\n",
    "- However, we can use different penalty for each coefficient, and that's adaptive lasso\n",
    "- Python does not support adaptive lasso directly\n",
    "- but we can derive the formula by ourselvs\n",
    "- for example, people may use leat square regression or ridge to get the penalty\n",
    "- usually it's (1/beta) for each coeffcient\n",
    "- so we can simply multiple each x by 1/beta_i for each indicator i\n",
    "- and then solve it by lasso\n",
    "- in the end recover the coeffient\n"
   ]
  },
  {
   "cell_type": "code",
   "execution_count": 92,
   "metadata": {},
   "outputs": [],
   "source": []
  },
  {
   "cell_type": "code",
   "execution_count": 95,
   "metadata": {},
   "outputs": [
    {
     "data": {
      "text/plain": [
       "array([ 2.06363111e-04,  2.20021237e-05,  4.02149831e-04,  2.78529786e-04,\n",
       "        6.21889846e-04,  1.80414486e-04, -8.07806599e-04,  1.28956179e-04,\n",
       "       -3.88282962e-04,  9.71717856e-04, -4.79041305e-04,  2.95521242e-04,\n",
       "       -1.28150373e-03,  6.65722230e-05,  1.93433821e-04, -1.14880245e-04,\n",
       "       -8.02759222e-05, -1.95939570e-04, -5.31515831e-04,  2.47183857e-04,\n",
       "       -1.98136423e-04,  6.56289443e-04, -9.23222856e-04, -5.61447204e-05,\n",
       "        3.70489216e-04, -2.30412270e-04,  1.03486451e-03, -3.55045837e-04,\n",
       "       -1.10076084e-04, -8.08308207e-06, -8.07765954e-05,  4.28053086e-05,\n",
       "        4.06325653e-04,  9.31158961e-05,  1.67768216e-04, -3.70091791e-04,\n",
       "       -1.25211377e-04, -2.41693688e-05, -1.48814048e-04, -2.14262071e-04,\n",
       "       -2.44056025e-04, -1.25535364e-04,  8.48781231e-05, -1.84683689e-04,\n",
       "        3.11377849e-04])"
      ]
     },
     "execution_count": 95,
     "metadata": {},
     "output_type": "execute_result"
    }
   ],
   "source": [
    "ridge_coef"
   ]
  },
  {
   "cell_type": "code",
   "execution_count": 98,
   "metadata": {},
   "outputs": [
    {
     "data": {
      "text/plain": [
       "array([2.60566308e-02, 6.63377693e-02, 1.93214523e-02, 3.49547910e-02,\n",
       "       1.30414501e-01, 4.82087430e-01, 7.31232287e-03, 4.41420468e-01,\n",
       "       3.84816056e-01, 5.02651905e-01, 1.45383658e+00, 4.60969980e-01,\n",
       "       6.48605045e-01, 2.95423291e+00, 9.05887701e+00, 2.56750109e-01,\n",
       "       1.05217162e+01, 9.05860524e+00, 1.24549790e-01, 3.66662599e-01,\n",
       "       1.23126244e-01, 1.59800681e-01, 7.42777372e-01, 2.26220818e+00,\n",
       "       6.80179079e-02, 2.67738069e+00, 2.29066963e+00, 7.42064038e-03,\n",
       "       1.96040824e-02, 6.82408511e-03, 1.01846458e-02, 3.89474373e-02,\n",
       "       1.22261609e-01, 2.61128031e-03, 1.25648311e-01, 1.12922016e-01,\n",
       "       1.43150685e-02, 4.16182821e-02, 1.33740212e-02, 1.93433737e-02,\n",
       "       7.86727458e-02, 3.26773573e-01, 4.93455306e-03, 2.86616420e-01,\n",
       "       2.37111398e-01])"
      ]
     },
     "execution_count": 98,
     "metadata": {},
     "output_type": "execute_result"
    }
   ],
   "source": [
    "x_std"
   ]
  },
  {
   "cell_type": "code",
   "execution_count": 105,
   "metadata": {},
   "outputs": [
    {
     "name": "stdout",
     "output_type": "stream",
     "text": [
      "rb\n",
      "[-0.00000000e+00  3.52168227e-04  0.00000000e+00 -0.00000000e+00\n",
      "  0.00000000e+00  3.21642484e-04  0.00000000e+00  0.00000000e+00\n",
      "  0.00000000e+00 -0.00000000e+00 -3.25126548e-05  0.00000000e+00\n",
      " -1.87655633e-04 -9.40453995e-05  9.85792910e-06 -0.00000000e+00\n",
      "  3.88969687e-06  8.04627694e-06 -0.00000000e+00 -0.00000000e+00\n",
      "  0.00000000e+00 -0.00000000e+00 -0.00000000e+00  0.00000000e+00\n",
      "  0.00000000e+00 -0.00000000e+00  0.00000000e+00 -0.00000000e+00\n",
      "  0.00000000e+00  0.00000000e+00 -0.00000000e+00  0.00000000e+00\n",
      "  0.00000000e+00  0.00000000e+00  0.00000000e+00  0.00000000e+00\n",
      " -0.00000000e+00  0.00000000e+00  0.00000000e+00 -0.00000000e+00\n",
      "  0.00000000e+00 -0.00000000e+00  0.00000000e+00  0.00000000e+00\n",
      "  0.00000000e+00]\n",
      "hc\n",
      "[-0.00000000e+00 -0.00000000e+00  0.00000000e+00 -0.00000000e+00\n",
      "  0.00000000e+00  2.78153140e-04  0.00000000e+00  0.00000000e+00\n",
      "  0.00000000e+00 -0.00000000e+00 -8.59627884e-05  0.00000000e+00\n",
      " -0.00000000e+00 -5.34560879e-05  0.00000000e+00  1.63503485e-04\n",
      "  2.09553151e-05 -9.12230091e-07 -0.00000000e+00 -0.00000000e+00\n",
      " -0.00000000e+00  0.00000000e+00 -0.00000000e+00 -7.57853091e-06\n",
      " -0.00000000e+00 -2.56440075e-05 -0.00000000e+00 -0.00000000e+00\n",
      "  0.00000000e+00  0.00000000e+00 -0.00000000e+00  0.00000000e+00\n",
      "  0.00000000e+00  0.00000000e+00  0.00000000e+00  0.00000000e+00\n",
      " -0.00000000e+00  0.00000000e+00  0.00000000e+00 -0.00000000e+00\n",
      "  0.00000000e+00  8.95042822e-04  0.00000000e+00  0.00000000e+00\n",
      "  0.00000000e+00]\n",
      "i\n",
      "[ 0.00000000e+00  8.14116333e-04  0.00000000e+00  0.00000000e+00\n",
      "  0.00000000e+00  5.90015028e-04  0.00000000e+00  3.37615032e-04\n",
      "  0.00000000e+00 -0.00000000e+00 -0.00000000e+00 -0.00000000e+00\n",
      " -0.00000000e+00 -3.19239869e-04 -0.00000000e+00 -0.00000000e+00\n",
      "  3.00123331e-05  0.00000000e+00 -0.00000000e+00 -0.00000000e+00\n",
      " -0.00000000e+00 -0.00000000e+00  0.00000000e+00 -1.70304001e-04\n",
      " -0.00000000e+00 -0.00000000e+00  0.00000000e+00 -0.00000000e+00\n",
      " -0.00000000e+00  0.00000000e+00 -0.00000000e+00 -0.00000000e+00\n",
      "  0.00000000e+00  0.00000000e+00 -0.00000000e+00 -0.00000000e+00\n",
      " -0.00000000e+00 -0.00000000e+00  0.00000000e+00 -0.00000000e+00\n",
      "  0.00000000e+00  0.00000000e+00 -0.00000000e+00  0.00000000e+00\n",
      "  0.00000000e+00]\n",
      "j\n",
      "[-0.00000000e+00 -8.38240173e-03 -0.00000000e+00 -0.00000000e+00\n",
      " -0.00000000e+00  3.19944604e-03 -0.00000000e+00 -2.08066476e-03\n",
      " -0.00000000e+00 -1.80913833e-04 -0.00000000e+00  4.67567368e-04\n",
      " -3.96133630e-04  1.19704781e-04  3.13326387e-05  1.76953950e-03\n",
      " -4.68778496e-05 -2.90530174e-06 -0.00000000e+00 -0.00000000e+00\n",
      "  0.00000000e+00 -0.00000000e+00  0.00000000e+00 -7.26771276e-04\n",
      "  0.00000000e+00  3.15428843e-04  0.00000000e+00  0.00000000e+00\n",
      "  2.14847136e-03 -0.00000000e+00 -0.00000000e+00 -2.70803122e-03\n",
      " -0.00000000e+00  0.00000000e+00 -0.00000000e+00 -0.00000000e+00\n",
      "  0.00000000e+00  6.98185182e-03 -0.00000000e+00 -0.00000000e+00\n",
      "  0.00000000e+00 -9.31270579e-04 -0.00000000e+00  1.96642485e-03\n",
      "  0.00000000e+00]\n",
      "jm\n",
      "[-0.         -0.          0.         -0.         -0.         -0.\n",
      " -0.         -0.         -0.         -0.         -0.          0.\n",
      " -0.         -0.         -0.         -0.         -0.         -0.\n",
      " -0.         -0.          0.         -0.         -0.         -0.00014758\n",
      " -0.         -0.         -0.         -0.         -0.         -0.\n",
      " -0.         -0.         -0.         -0.         -0.         -0.\n",
      " -0.          0.          0.         -0.         -0.          0.\n",
      " -0.          0.         -0.        ]\n"
     ]
    }
   ],
   "source": [
    "coef_list=dict([])\n",
    "y_signal = \"ret.4096.002\"\n",
    "for product in product_list:\n",
    "    train_mat = load(HEAD_PATH+\"/train test mat/\"+product+\".train.mat.pkl\")\n",
    "    x_train = train_mat.iloc[:, :n_signal].values\n",
    "    y_train = train_mat.loc[:, y_signal].values\n",
    "    #scaler =  StandardScaler(copy=True, with_mean=False, with_std=True)\n",
    "    #scaler.fit(x_train)\n",
    "    #x_std = np.sqrt(scaler.var_)\n",
    "    #x_train_normal = scaler.transform(x_train)\n",
    "    ridge_model = RidgeCV(fit_intercept=False, cv=5).fit(x_train, y_train)\n",
    "    ridge_ceof = np.abs(ridge_model.coef_)\n",
    "    model = LassoCV(n_alphas=100, fit_intercept=False, cv=5, max_iter=10000).fit(x_train/ridge_coef, y_train)\n",
    "    coef = model.coef_/ridge_coef\n",
    "    print(product)\n",
    "    print(coef)\n",
    "    coef_list[product] = coef\n",
    "    \n",
    "# rb\n",
    "# [-0.00000000e+00  9.89672475e-04  0.00000000e+00 -0.00000000e+00\n",
    "#   0.00000000e+00  0.00000000e+00  0.00000000e+00  0.00000000e+00\n",
    "#   0.00000000e+00 -0.00000000e+00 -0.00000000e+00 -0.00000000e+00\n",
    "#  -0.00000000e+00 -4.12168955e-05  0.00000000e+00 -0.00000000e+00\n",
    "#   0.00000000e+00 -0.00000000e+00 -0.00000000e+00 -0.00000000e+00\n",
    "#  -0.00000000e+00 -0.00000000e+00 -0.00000000e+00  0.00000000e+00\n",
    "#  -0.00000000e+00  0.00000000e+00 -0.00000000e+00 -0.00000000e+00\n",
    "#  -0.00000000e+00  1.19966943e-02 -3.20567895e-02 -0.00000000e+00\n",
    "#   0.00000000e+00 -0.00000000e+00  0.00000000e+00 -0.00000000e+00\n",
    "#  -0.00000000e+00 -0.00000000e+00  0.00000000e+00 -0.00000000e+00\n",
    "#   0.00000000e+00  0.00000000e+00 -0.00000000e+00  0.00000000e+00\n",
    "#   0.00000000e+00]\n",
    "# hc\n",
    "# [-0.00000000e+00 -5.87094062e-03  0.00000000e+00 -0.00000000e+00\n",
    "#   0.00000000e+00  3.59996206e-05  0.00000000e+00  2.23087882e-04\n",
    "#   0.00000000e+00 -0.00000000e+00 -0.00000000e+00 -0.00000000e+00\n",
    "#   0.00000000e+00 -7.20970391e-05 -0.00000000e+00  0.00000000e+00\n",
    "#   0.00000000e+00 -0.00000000e+00 -0.00000000e+00 -0.00000000e+00\n",
    "#  -0.00000000e+00  0.00000000e+00 -0.00000000e+00 -0.00000000e+00\n",
    "#  -0.00000000e+00 -0.00000000e+00 -0.00000000e+00 -0.00000000e+00\n",
    "#  -0.00000000e+00  5.16689085e-02 -9.97206379e-03  5.52299307e-03\n",
    "#   0.00000000e+00  0.00000000e+00  0.00000000e+00  0.00000000e+00\n",
    "#  -3.51078423e-03  7.19468492e-03 -0.00000000e+00  0.00000000e+00\n",
    "#   0.00000000e+00  5.77614745e-04 -0.00000000e+00  0.00000000e+00\n",
    "#   0.00000000e+00]\n",
    "# i\n",
    "# [ 0.00000000e+00  2.21345018e-03  0.00000000e+00  0.00000000e+00\n",
    "#   0.00000000e+00  3.73016388e-04  0.00000000e+00  2.50595796e-04\n",
    "#   0.00000000e+00 -0.00000000e+00 -0.00000000e+00 -0.00000000e+00\n",
    "#  -0.00000000e+00 -1.55588670e-04 -0.00000000e+00 -1.42441241e-03\n",
    "#   0.00000000e+00 -0.00000000e+00 -0.00000000e+00 -0.00000000e+00\n",
    "#  -0.00000000e+00 -0.00000000e+00 -0.00000000e+00 -2.28419801e-05\n",
    "#  -0.00000000e+00 -0.00000000e+00 -0.00000000e+00 -0.00000000e+00\n",
    "#  -1.59904384e-04  9.14612187e-03 -2.15645101e-03 -4.05147779e-03\n",
    "#   0.00000000e+00  0.00000000e+00  0.00000000e+00 -0.00000000e+00\n",
    "#  -0.00000000e+00 -2.41772642e-03  0.00000000e+00 -0.00000000e+00\n",
    "#   0.00000000e+00  0.00000000e+00 -0.00000000e+00  3.51354991e-04\n",
    "#   0.00000000e+00]\n",
    "# j\n",
    "# [-2.01794642e-03 -9.29156204e-03  0.00000000e+00 -0.00000000e+00\n",
    "#   0.00000000e+00  1.19283438e-03 -0.00000000e+00 -3.20598039e-04\n",
    "#  -0.00000000e+00 -0.00000000e+00 -0.00000000e+00  0.00000000e+00\n",
    "#  -0.00000000e+00  6.40592901e-05  0.00000000e+00  5.57703137e-04\n",
    "#   0.00000000e+00  0.00000000e+00 -7.41647122e-04 -0.00000000e+00\n",
    "#   0.00000000e+00 -0.00000000e+00  0.00000000e+00 -1.20357472e-04\n",
    "#   0.00000000e+00  0.00000000e+00  0.00000000e+00  0.00000000e+00\n",
    "#   7.96607692e-03  1.28745811e-02 -1.97764648e-02 -2.15197581e-03\n",
    "#  -0.00000000e+00  2.73395162e-03 -1.82748076e-04 -0.00000000e+00\n",
    "#  -0.00000000e+00  8.09034978e-03 -0.00000000e+00 -0.00000000e+00\n",
    "#   0.00000000e+00  0.00000000e+00  0.00000000e+00  0.00000000e+00\n",
    "#   0.00000000e+00]\n",
    "# jm\n",
    "# [-0.00000000e+00 -8.77498330e-04  0.00000000e+00 -0.00000000e+00\n",
    "#  -0.00000000e+00 -0.00000000e+00 -0.00000000e+00 -0.00000000e+00\n",
    "#  -0.00000000e+00 -0.00000000e+00 -0.00000000e+00 -0.00000000e+00\n",
    "#  -0.00000000e+00 -0.00000000e+00 -0.00000000e+00 -0.00000000e+00\n",
    "#  -0.00000000e+00 -0.00000000e+00 -0.00000000e+00 -0.00000000e+00\n",
    "#  -0.00000000e+00 -0.00000000e+00 -0.00000000e+00 -4.60989859e-05\n",
    "#  -0.00000000e+00 -0.00000000e+00 -0.00000000e+00 -0.00000000e+00\n",
    "#  -0.00000000e+00 -0.00000000e+00 -1.01217793e-02 -3.83078114e-03\n",
    "#  -0.00000000e+00 -0.00000000e+00 -0.00000000e+00 -0.00000000e+00\n",
    "#  -0.00000000e+00  0.00000000e+00  0.00000000e+00 -0.00000000e+00\n",
    "#  -0.00000000e+00 -0.00000000e+00 -0.00000000e+00 -0.00000000e+00\n",
    "#  -0.00000000e+00]"
   ]
  },
  {
   "cell_type": "code",
   "execution_count": 106,
   "metadata": {},
   "outputs": [],
   "source": [
    "strat = \"adaptive.002.4096\"\n",
    "for product in product_list:\n",
    "    os.makedirs(\"e:/intern\"+\"/tmp pkl/\"+product+\"/\"+strat, exist_ok=True)"
   ]
  },
  {
   "cell_type": "markdown",
   "metadata": {},
   "source": [
    "\n",
    "- we can see that it's similar to lasso and worse than ridge\n",
    "- for this example, lasso would filter out bad signals for training set\n",
    "- however, our training sample is qutie different from test sample\n",
    "- so the signals that perform well for training set may not perform well for test set\n",
    "- since ridge would choose all signals, it may keep balance betwwen training and test sets\n",
    "- so ridge could have better result in test samples"
   ]
  },
  {
   "cell_type": "code",
   "execution_count": 107,
   "metadata": {},
   "outputs": [
    {
     "name": "stdout",
     "output_type": "stream",
     "text": [
      "rb\n",
      "hc\n",
      "i\n",
      "j\n",
      "jm\n",
      "Wall time: 26min 30s\n"
     ]
    }
   ],
   "source": [
    "%%time\n",
    "for product in product_list:\n",
    "    print(product)\n",
    "    coef = coef_list[product]\n",
    "    parLapply(CORE_NUM, all_dates, par_get_daily_pred, \n",
    "              product=product, coef=coef, strat=strat, HEAD_PATH=\"e:/intern\")\n",
    "    \n",
    "# rb\n",
    "# hc\n",
    "# i\n",
    "# j\n",
    "# jm\n",
    "# Wall time: 26min 45s\n"
   ]
  },
  {
   "cell_type": "code",
   "execution_count": 108,
   "metadata": {},
   "outputs": [
    {
     "name": "stdout",
     "output_type": "stream",
     "text": [
      "Wall time: 1min 38s\n"
     ]
    }
   ],
   "source": [
    "%%time\n",
    "for product in product_list:\n",
    "    par_get_all_signal(strat, all_dates, product, 4096, HEAD_PATH=\"e:/intern\")"
   ]
  },
  {
   "cell_type": "code",
   "execution_count": 110,
   "metadata": {},
   "outputs": [
    {
     "name": "stdout",
     "output_type": "stream",
     "text": [
      "reverse=1\n",
      "reverse=1\n",
      "Wall time: 4min 24s\n"
     ]
    }
   ],
   "source": [
    "%%time\n",
    "for product in product_list:\n",
    "    spread = product_info[product][\"spread\"]\n",
    "    evaluate_signal(\"adaptive.002\", all_dates, product, 2, 20, HEAD_PATH, \n",
    "                    CORE_NUM, period=4096, split_str=\"2018\", tranct=1.1e-4, \n",
    "                    max_spread=spread+0.1, tranct_ratio=True, atr_filter=20, save_path=\"signal result atr\",reverse=1)\n",
    "\n",
    "# reverse=1\n",
    "# reverse=1\n",
    "# reverse=1\n",
    "# reverse=1\n",
    "# reverse=1\n",
    "# Wall time: 13min 43s\n"
   ]
  },
  {
   "cell_type": "code",
   "execution_count": 111,
   "metadata": {},
   "outputs": [
    {
     "name": "stdout",
     "output_type": "stream",
     "text": [
      "rb train sharpe  1.8346620016096344 test sharpe  0.3620529678246786\n",
      "hc train sharpe  1.1914799327135988 test sharpe  0.2840234116922066\n",
      "i train sharpe  1.1472088393155544 test sharpe  -0.972774473941334\n",
      "j train sharpe  0.2149676964893535 test sharpe  -1.65274526438415\n",
      "jm train sharpe  0.9791166525240026 test sharpe  1.0305984654602123\n",
      "train sharpe:  2.2782337682405114 test sharpe:  -1.1346524286723305\n"
     ]
    },
    {
     "data": {
      "image/png": "[encoded data removed]",
      "text/plain": [
       "<Figure size 1152x720 with 1 Axes>"
      ]
     },
     "metadata": {
      "needs_background": "light"
     },
     "output_type": "display_data"
    }
   ],
   "source": [
    "i = 0\n",
    "strat = \"adaptive.002.4096\"\n",
    "test_all_pnl = np.zeros([sum(test_sample), len(product_list)])\n",
    "train_all_pnl = np.zeros([sum(train_sample), len(product_list)])\n",
    "min_pnl = 2\n",
    "min_num = 10\n",
    "for product in product_list:\n",
    "    spread = product_info[product][\"spread\"]\n",
    "    signal_stat = load(HEAD_PATH+\"/signal result atr/\"+product+\".\"+strat+\".trend.pkl\")\n",
    "    train_stat = signal_stat[\"train.stat\"]\n",
    "    good_strat = (train_stat[\"final.result\"][\"avg.pnl\"]>min_pnl*spread) & (train_stat[\"final.result\"][\"num\"]>min_num)\n",
    "    train_pnl = train_stat[\"daily.pnl\"].loc[:, good_strat].sum(axis=1)/sum(good_strat)\n",
    "    train_std = np.std(train_pnl)\n",
    "    train_pnl = train_pnl/train_std\n",
    "    test_stat = signal_stat[\"test.stat\"]\n",
    "    test_pnl = test_stat[\"daily.pnl\"].loc[:, good_strat].sum(axis=1)/sum(good_strat)/train_std\n",
    "    print(product, \"train sharpe \", sharpe(train_pnl), \"test sharpe \", sharpe(test_pnl))\n",
    "    test_all_pnl[:,i] = test_pnl\n",
    "    train_all_pnl[:,i] = train_pnl\n",
    "    i = i+1\n",
    "train_portfolio = np.array(np.mean(train_all_pnl, axis=1))\n",
    "test_portfolio = np.array(np.mean(test_all_pnl, axis=1))\n",
    "all_portfolio = np.append(train_portfolio, test_portfolio)\n",
    "plt.figure(1, figsize=(16, 10));\n",
    "plt.title(\"\");\n",
    "plt.xlabel(\"date\");\n",
    "plt.ylabel(\"pnl\");\n",
    "plt.title(\"portfolio\");\n",
    "plt.plot(format_dates, all_portfolio.cumsum());\n",
    "plt.plot(format_dates[test_sample], all_portfolio.cumsum()[test_sample])\n",
    "print(\"train sharpe: \", sharpe(train_portfolio), \"test sharpe: \", sharpe(test_portfolio))    \n",
    "\n",
    "# rb train sharpe  1.8346620016096344 test sharpe  0.3620529678246786\n",
    "# hc train sharpe  1.1914799327135988 test sharpe  0.2840234116922066\n",
    "# i train sharpe  1.1472088393155544 test sharpe  -0.972774473941334\n",
    "# j train sharpe  0.2149676964893535 test sharpe  -1.65274526438415\n",
    "# jm train sharpe  0.9791166525240026 test sharpe  1.0305984654602123\n",
    "# train sharpe:  2.2782337682405114 test sharpe:  -1.1346524286723305\n",
    "\n",
    "\n",
    "\n",
    "\n"
   ]
  },
  {
   "cell_type": "markdown",
   "metadata": {},
   "source": [
    "- The result is really bad\n",
    "\n",
    "Conclusion\n",
    "\n",
    "- we have used 4 models: lasso, ridge, elastic net, and adaptive lasso\n",
    "- it seems lasso performs the best; however, j lost money for lasso\n",
    "- maybe we can use all products' data together to build up models, \n",
    "- and we can try in the future"
   ]
  },
  {
   "cell_type": "code",
   "execution_count": null,
   "metadata": {},
   "outputs": [],
   "source": []
  }
 ],
 "metadata": {
  "kernelspec": {
   "display_name": "Python 3",
   "language": "python",
   "name": "python3"
  },
  "language_info": {
   "codemirror_mode": {
    "name": "ipython",
    "version": 3
   },
   "file_extension": ".py",
   "mimetype": "text/x-python",
   "name": "python",
   "nbconvert_exporter": "python",
   "pygments_lexer": "ipython3",
   "version": "3.7.0"
  }
 },
 "nbformat": 4,
 "nbformat_minor": 2
}
