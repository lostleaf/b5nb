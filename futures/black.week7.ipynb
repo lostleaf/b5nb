{
 "cells": [
  {
   "cell_type": "markdown",
   "metadata": {},
   "source": [
    "- in our original agenda this week we try different covariance estimation method\n",
    "- but I think we'd better go directly to regression model\n",
    "- then we can save some time for further more complicate machine learning models\n",
    "\n",
    "\n",
    "- this week we focus on the most simple linear regression without regularization"
   ]
  },
  {
   "cell_type": "code",
   "execution_count": 57,
   "metadata": {},
   "outputs": [
    {
     "data": {
      "text/plain": [
       "<module 'stats' from 'C:\\\\Users\\\\dell\\\\stats.py'>"
      ]
     },
     "execution_count": 57,
     "metadata": {},
     "output_type": "execute_result"
    }
   ],
   "source": [
    "from helper import *\n",
    "from stats import *\n",
    "from imp import reload   \n",
    "import helper\n",
    "import stats\n",
    "import  sklearn.preprocessing\n",
    "reload(helper)\n",
    "reload(stats)\n"
   ]
  },
  {
   "cell_type": "code",
   "execution_count": 50,
   "metadata": {},
   "outputs": [
    {
     "data": {
      "text/plain": [
       "16"
      ]
     },
     "execution_count": 50,
     "metadata": {},
     "output_type": "execute_result"
    }
   ],
   "source": [
    "CORE_NUM = int(os.environ['NUMBER_OF_PROCESSORS'])\n",
    "CORE_NUM "
   ]
  },
  {
   "cell_type": "markdown",
   "metadata": {},
   "source": [
    "- number of cores, set this number according to your computer"
   ]
  },
  {
   "cell_type": "markdown",
   "metadata": {},
   "source": [
    "- sample period"
   ]
  },
  {
   "cell_type": "code",
   "execution_count": 4,
   "metadata": {},
   "outputs": [],
   "source": [
    "period = 4096"
   ]
  },
  {
   "cell_type": "markdown",
   "metadata": {},
   "source": [
    "- get all of the days"
   ]
  },
  {
   "cell_type": "code",
   "execution_count": 5,
   "metadata": {},
   "outputs": [],
   "source": [
    "import dask\n",
    "from dask import compute, delayed"
   ]
  },
  {
   "cell_type": "code",
   "execution_count": 6,
   "metadata": {},
   "outputs": [
    {
     "data": {
      "text/plain": [
       "915"
      ]
     },
     "execution_count": 6,
     "metadata": {},
     "output_type": "execute_result"
    }
   ],
   "source": [
    "all_dates = os.listdir(DATA_PATH + product_list[0])\n",
    "all_dates.sort()\n",
    "all_dates = np.array(all_dates)\n",
    "n_days = len(all_dates)\n",
    "n_days\n",
    "## 915"
   ]
  },
  {
   "cell_type": "code",
   "execution_count": 12,
   "metadata": {},
   "outputs": [],
   "source": [
    "train_sample = all_dates<\"2018\"\n",
    "test_sample = all_dates>\"2018\"\n",
    "date_str = [n[0:8] for n in all_dates]\n",
    "format_dates = np.array([pd.to_datetime(d) for d in date_str])"
   ]
  },
  {
   "cell_type": "code",
   "execution_count": 3,
   "metadata": {},
   "outputs": [],
   "source": [
    "product_list = [\"rb\", \"hc\", \"i\", \"j\", \"jm\"]"
   ]
  },
  {
   "cell_type": "code",
   "execution_count": 13,
   "metadata": {},
   "outputs": [],
   "source": [
    "os.makedirs(HEAD_PATH+\"/all signal\", exist_ok=True)\n",
    "dire_signal_list = [\"trade.imb\", \"total.trade.imb\", \"nr\", \"dbook\", \"range.pos\", \"price.osci\", \"ma.dif.10\", \"kdj.k\", \"kdj.j\"]\n",
    "range_signal_list = [\"\", \"range\", \"std\", \"volume.open.ratio\", \"trend.index\"]\n",
    "all_signal_list = np.array([])\n",
    "for range_signal in range_signal_list:\n",
    "    for dire_signal in dire_signal_list:\n",
    "        if len(range_signal)==0:\n",
    "            signal_name = dire_signal\n",
    "        else:\n",
    "            signal_name = dire_signal+\".\"+range_signal\n",
    "        all_signal_list = np.append(all_signal_list,signal_name)\n",
    "signal_list = [signal+\".4096\" for signal in all_signal_list]"
   ]
  },
  {
   "cell_type": "code",
   "execution_count": 14,
   "metadata": {},
   "outputs": [
    {
     "data": {
      "text/plain": [
       "['trade.imb.4096',\n",
       " 'total.trade.imb.4096',\n",
       " 'nr.4096',\n",
       " 'dbook.4096',\n",
       " 'range.pos.4096',\n",
       " 'price.osci.4096',\n",
       " 'ma.dif.10.4096',\n",
       " 'kdj.k.4096',\n",
       " 'kdj.j.4096',\n",
       " 'trade.imb.range.4096',\n",
       " 'total.trade.imb.range.4096',\n",
       " 'nr.range.4096',\n",
       " 'dbook.range.4096',\n",
       " 'range.pos.range.4096',\n",
       " 'price.osci.range.4096',\n",
       " 'ma.dif.10.range.4096',\n",
       " 'kdj.k.range.4096',\n",
       " 'kdj.j.range.4096',\n",
       " 'trade.imb.std.4096',\n",
       " 'total.trade.imb.std.4096',\n",
       " 'nr.std.4096',\n",
       " 'dbook.std.4096',\n",
       " 'range.pos.std.4096',\n",
       " 'price.osci.std.4096',\n",
       " 'ma.dif.10.std.4096',\n",
       " 'kdj.k.std.4096',\n",
       " 'kdj.j.std.4096',\n",
       " 'trade.imb.volume.open.ratio.4096',\n",
       " 'total.trade.imb.volume.open.ratio.4096',\n",
       " 'nr.volume.open.ratio.4096',\n",
       " 'dbook.volume.open.ratio.4096',\n",
       " 'range.pos.volume.open.ratio.4096',\n",
       " 'price.osci.volume.open.ratio.4096',\n",
       " 'ma.dif.10.volume.open.ratio.4096',\n",
       " 'kdj.k.volume.open.ratio.4096',\n",
       " 'kdj.j.volume.open.ratio.4096',\n",
       " 'trade.imb.trend.index.4096',\n",
       " 'total.trade.imb.trend.index.4096',\n",
       " 'nr.trend.index.4096',\n",
       " 'dbook.trend.index.4096',\n",
       " 'range.pos.trend.index.4096',\n",
       " 'price.osci.trend.index.4096',\n",
       " 'ma.dif.10.trend.index.4096',\n",
       " 'kdj.k.trend.index.4096',\n",
       " 'kdj.j.trend.index.4096']"
      ]
     },
     "execution_count": 14,
     "metadata": {},
     "output_type": "execute_result"
    }
   ],
   "source": [
    "signal_list"
   ]
  },
  {
   "cell_type": "code",
   "execution_count": 15,
   "metadata": {},
   "outputs": [
    {
     "data": {
      "text/plain": [
       "array(['trade.imb.4096', 'total.trade.imb.4096', 'nr.4096', 'dbook.4096',\n",
       "       'range.pos.4096', 'price.osci.4096', 'ma.dif.10.4096',\n",
       "       'kdj.k.4096', 'kdj.j.4096', 'trade.imb.range.4096',\n",
       "       'total.trade.imb.range.4096', 'nr.range.4096', 'dbook.range.4096',\n",
       "       'range.pos.range.4096', 'price.osci.range.4096',\n",
       "       'ma.dif.10.range.4096', 'kdj.k.range.4096', 'kdj.j.range.4096',\n",
       "       'trade.imb.std.4096', 'total.trade.imb.std.4096', 'nr.std.4096',\n",
       "       'dbook.std.4096', 'range.pos.std.4096', 'price.osci.std.4096',\n",
       "       'ma.dif.10.std.4096', 'kdj.k.std.4096', 'kdj.j.std.4096',\n",
       "       'trade.imb.volume.open.ratio.4096',\n",
       "       'total.trade.imb.volume.open.ratio.4096',\n",
       "       'nr.volume.open.ratio.4096', 'dbook.volume.open.ratio.4096',\n",
       "       'range.pos.volume.open.ratio.4096',\n",
       "       'price.osci.volume.open.ratio.4096',\n",
       "       'ma.dif.10.volume.open.ratio.4096', 'kdj.k.volume.open.ratio.4096',\n",
       "       'kdj.j.volume.open.ratio.4096', 'trade.imb.trend.index.4096',\n",
       "       'total.trade.imb.trend.index.4096', 'nr.trend.index.4096',\n",
       "       'dbook.trend.index.4096', 'range.pos.trend.index.4096',\n",
       "       'price.osci.trend.index.4096', 'ma.dif.10.trend.index.4096',\n",
       "       'kdj.k.trend.index.4096', 'kdj.j.trend.index.4096', 'ret.4096',\n",
       "       'ret.4096.001', 'ret.4096.002'], dtype='<U38')"
      ]
     },
     "execution_count": 15,
     "metadata": {},
     "output_type": "execute_result"
    }
   ],
   "source": [
    "np.append(signal_list, [\"ret.4096\", \"ret.4096.001\", \"ret.4096.002\"])"
   ]
  },
  {
   "cell_type": "code",
   "execution_count": 16,
   "metadata": {},
   "outputs": [],
   "source": [
    "data = load(DATA_PATH+product_list[0]+\"/\"+all_dates[9])"
   ]
  },
  {
   "cell_type": "markdown",
   "metadata": {},
   "source": [
    "- let's begin with week 7 "
   ]
  },
  {
   "cell_type": "markdown",
   "metadata": {},
   "source": [
    "- to build up a regression model, we need predictors and response variables\n",
    "- the previous signals can be predictors\n",
    "- now we need to create a response"
   ]
  },
  {
   "cell_type": "markdown",
   "metadata": {},
   "source": [
    "- for example, we can use future log returns as response"
   ]
  },
  {
   "cell_type": "markdown",
   "metadata": {},
   "source": [
    "- here fcum means the future sum of data\n",
    "- for example"
   ]
  },
  {
   "cell_type": "code",
   "execution_count": 16,
   "metadata": {},
   "outputs": [],
   "source": [
    "sample_y = fcum(data[\"ret\"], period)"
   ]
  },
  {
   "cell_type": "code",
   "execution_count": 17,
   "metadata": {},
   "outputs": [
    {
     "data": {
      "image/png": "[encoded data removed]",
      "text/plain": [
       "<Figure size 1152x720 with 1 Axes>"
      ]
     },
     "metadata": {
      "needs_background": "light"
     },
     "output_type": "display_data"
    }
   ],
   "source": [
    "plt.figure(1, figsize=(16, 10))\n",
    "plt.plot(sample_y[data[\"good\"]].values);"
   ]
  },
  {
   "cell_type": "code",
   "execution_count": 18,
   "metadata": {},
   "outputs": [
    {
     "data": {
      "text/plain": [
       "5.622609589565017"
      ]
     },
     "execution_count": 18,
     "metadata": {},
     "output_type": "execute_result"
    }
   ],
   "source": [
    "kurtosis(sample_y[data[\"good\"]], fisher=False)\n",
    "## 5.622609589565017"
   ]
  },
  {
   "cell_type": "markdown",
   "metadata": {},
   "source": [
    "- the response has quite high kurtosis, it means the response has fat tails\n",
    "\n",
    "\n",
    "- we can check the result"
   ]
  },
  {
   "cell_type": "code",
   "execution_count": 19,
   "metadata": {
    "scrolled": true
   },
   "outputs": [
    {
     "data": {
      "text/plain": [
       "0.0014536186018068169"
      ]
     },
     "execution_count": 19,
     "metadata": {},
     "output_type": "execute_result"
    }
   ],
   "source": [
    "np.sum(data[\"ret\"][3000:(3000+period)])\n",
    "## 0.0014536186018068169"
   ]
  },
  {
   "cell_type": "code",
   "execution_count": 20,
   "metadata": {},
   "outputs": [
    {
     "data": {
      "text/plain": [
       "0.0014536186018068169"
      ]
     },
     "execution_count": 20,
     "metadata": {},
     "output_type": "execute_result"
    }
   ],
   "source": [
    "sample_y[2999]\n",
    "## 0.0014536186018068169"
   ]
  },
  {
   "cell_type": "markdown",
   "metadata": {},
   "source": [
    "- so fcum means future sume, and ys is the future price return"
   ]
  },
  {
   "cell_type": "markdown",
   "metadata": {},
   "source": [
    "- now we create directory for this response signal"
   ]
  },
  {
   "cell_type": "code",
   "execution_count": 22,
   "metadata": {},
   "outputs": [],
   "source": [
    "class foctor_ret_period(factor_template):\n",
    "    factor_name = \"ret.period\"\n",
    "    \n",
    "    params = OrderedDict([\n",
    "        (\"period\", np.power(2, range(10,13)))\n",
    "    ])\n",
    "    \n",
    "    def formula(self, data, period):\n",
    "        return fcum(data[\"ret\"],period).values\n",
    "    \n",
    "y1 = foctor_ret_period()\n",
    "\n"
   ]
  },
  {
   "cell_type": "code",
   "execution_count": 23,
   "metadata": {},
   "outputs": [
    {
     "name": "stdout",
     "output_type": "stream",
     "text": [
      "d:/intern/tmp pkl/rb/ret.1024\n",
      "d:/intern/tmp pkl/rb/ret.2048\n",
      "d:/intern/tmp pkl/rb/ret.4096\n",
      "d:/intern/tmp pkl/hc/ret.1024\n",
      "d:/intern/tmp pkl/hc/ret.2048\n",
      "d:/intern/tmp pkl/hc/ret.4096\n",
      "d:/intern/tmp pkl/i/ret.1024\n",
      "d:/intern/tmp pkl/i/ret.2048\n",
      "d:/intern/tmp pkl/i/ret.4096\n",
      "d:/intern/tmp pkl/j/ret.1024\n",
      "d:/intern/tmp pkl/j/ret.2048\n",
      "d:/intern/tmp pkl/j/ret.4096\n",
      "d:/intern/tmp pkl/jm/ret.1024\n",
      "d:/intern/tmp pkl/jm/ret.2048\n",
      "d:/intern/tmp pkl/jm/ret.4096\n"
     ]
    }
   ],
   "source": [
    "for product in product_list:\n",
    "    create_signal_path(y1, product, HEAD_PATH);"
   ]
  },
  {
   "cell_type": "code",
   "execution_count": 26,
   "metadata": {},
   "outputs": [
    {
     "name": "stdout",
     "output_type": "stream",
     "text": [
      "Wall time: 14min 21s\n"
     ]
    }
   ],
   "source": [
    "%%time\n",
    "for product in product_list:\n",
    "    file_list = list(map(lambda x: DATA_PATH+product+\"/\"+x, os.listdir(DATA_PATH + product)))\n",
    "    parLapply(CORE_NUM, file_list, build_composite_signal,signal_list=y1, product=product, HEAD_PATH=HEAD_PATH)\n",
    ";\n",
    "\n"
   ]
  },
  {
   "cell_type": "markdown",
   "metadata": {},
   "source": [
    "- now let's see how it looks like"
   ]
  },
  {
   "cell_type": "code",
   "execution_count": 27,
   "metadata": {},
   "outputs": [
    {
     "name": "stdout",
     "output_type": "stream",
     "text": [
      "Wall time: 14min 6s\n"
     ]
    }
   ],
   "source": [
    "%%time\n",
    "for product in product_list:\n",
    "    parLapply(CORE_NUM, [\"ret.4096\"], par_get_all_signal, file_list=all_dates, product=product, period=4096, HEAD_PATH=HEAD_PATH);\n",
    "    "
   ]
  },
  {
   "cell_type": "code",
   "execution_count": 25,
   "metadata": {},
   "outputs": [],
   "source": [
    "all_signal = load(HEAD_PATH+\"/all signal/\"+ product_list[0]+ \".ret.\"+str(period)+\".pkl\")"
   ]
  },
  {
   "cell_type": "markdown",
   "metadata": {},
   "source": [
    "- plot the signal"
   ]
  },
  {
   "cell_type": "code",
   "execution_count": 21,
   "metadata": {},
   "outputs": [
    {
     "data": {
      "image/png": "[encoded data removed]",
      "text/plain": [
       "<Figure size 1152x720 with 1 Axes>"
      ]
     },
     "metadata": {
      "needs_background": "light"
     },
     "output_type": "display_data"
    }
   ],
   "source": [
    "plt.figure(1, figsize=(16, 10))\n",
    "plt.plot(all_signal);"
   ]
  },
  {
   "cell_type": "markdown",
   "metadata": {},
   "source": [
    "- check the statistics of the signal"
   ]
  },
  {
   "cell_type": "code",
   "execution_count": 14,
   "metadata": {},
   "outputs": [
    {
     "name": "stdout",
     "output_type": "stream",
     "text": [
      "kurtosis= 11.896707071146905  skew= -0.15047762629522704\n"
     ]
    }
   ],
   "source": [
    "print(\"kurtosis=\", kurtosis(all_signal, fisher=False), \" skew=\", skew(all_signal))\n",
    "## kurtosis= 11.896707071146905  skew= -0.15047762629522704\n",
    "## we can see it has very fat tails\n",
    "## usually we don't adjust for response because we want to profit from the fat tails"
   ]
  },
  {
   "cell_type": "markdown",
   "metadata": {},
   "source": [
    "- let's try some vanish signal"
   ]
  },
  {
   "cell_type": "code",
   "execution_count": 31,
   "metadata": {},
   "outputs": [
    {
     "name": "stdout",
     "output_type": "stream",
     "text": [
      "kurtosis= 5.240453925443156  skew= -0.015080391934041855\n"
     ]
    },
    {
     "data": {
      "image/png": "[encoded data removed]",
      "text/plain": [
       "<Figure size 1152x720 with 1 Axes>"
      ]
     },
     "metadata": {
      "needs_background": "light"
     },
     "output_type": "display_data"
    }
   ],
   "source": [
    "all_signal = load(HEAD_PATH+\"/all signal/\"+ product_list[0]+ \".ret.\"+str(period)+\".pkl\")\n",
    "vanish_signal = vanish_thre(all_signal, 0.021)\n",
    "print(\"kurtosis=\", kurtosis(vanish_signal, fisher=False), \" skew=\", skew(vanish_signal))\n",
    "## kurtosis= 5.240453925443156  skew= -0.015080391934041855\n",
    "plt.figure(1, figsize=(16, 10))\n",
    "plt.plot(vanish_signal);"
   ]
  },
  {
   "cell_type": "code",
   "execution_count": 32,
   "metadata": {},
   "outputs": [
    {
     "name": "stdout",
     "output_type": "stream",
     "text": [
      "kurtosis= 3.451406595020492  skew= -0.06954141454184519\n"
     ]
    },
    {
     "data": {
      "image/png": "[encoded data removed]",
      "text/plain": [
       "<Figure size 1152x720 with 1 Axes>"
      ]
     },
     "metadata": {
      "needs_background": "light"
     },
     "output_type": "display_data"
    }
   ],
   "source": [
    "all_signal = load(HEAD_PATH+\"/all signal/\"+ product_list[0]+ \".ret.\"+str(period)+\".pkl\")\n",
    "vanish_signal = vanish_thre(all_signal, 0.011)\n",
    "print(\"kurtosis=\", kurtosis(vanish_signal, fisher=False), \" skew=\", skew(vanish_signal))\n",
    "plt.figure(1, figsize=(16, 10))\n",
    "plt.plot(vanish_signal);\n",
    "## kurtosis= 3.451406595020492  skew= -0.06954141454184519"
   ]
  },
  {
   "cell_type": "markdown",
   "metadata": {},
   "source": [
    "- it seems 0.01 fits our previous standard for predictive signals\n",
    "- but now we works for response so there may be some differences\n",
    "\n",
    "\n",
    "- let's create signals with vanish as well\n",
    "- our function can support only one parameter so we create twice"
   ]
  },
  {
   "cell_type": "code",
   "execution_count": 34,
   "metadata": {},
   "outputs": [],
   "source": [
    "class foctor_ret_period_002(factor_template):\n",
    "    factor_name = \"ret.period.002\"\n",
    "    \n",
    "    params = OrderedDict([\n",
    "        (\"period\", np.power(2, range(10,13)))\n",
    "    ])\n",
    "    \n",
    "    def formula(self, data, period):\n",
    "        return vanish_thre(fcum(data[\"ret\"],period), 0.021).values\n",
    "    \n",
    "y2 = foctor_ret_period_002()\n",
    "\n"
   ]
  },
  {
   "cell_type": "code",
   "execution_count": 35,
   "metadata": {},
   "outputs": [
    {
     "name": "stdout",
     "output_type": "stream",
     "text": [
      "d:/intern/tmp pkl/rb/ret.1024.002\n",
      "d:/intern/tmp pkl/rb/ret.2048.002\n",
      "d:/intern/tmp pkl/rb/ret.4096.002\n",
      "d:/intern/tmp pkl/hc/ret.1024.002\n",
      "d:/intern/tmp pkl/hc/ret.2048.002\n",
      "d:/intern/tmp pkl/hc/ret.4096.002\n",
      "d:/intern/tmp pkl/i/ret.1024.002\n",
      "d:/intern/tmp pkl/i/ret.2048.002\n",
      "d:/intern/tmp pkl/i/ret.4096.002\n",
      "d:/intern/tmp pkl/j/ret.1024.002\n",
      "d:/intern/tmp pkl/j/ret.2048.002\n",
      "d:/intern/tmp pkl/j/ret.4096.002\n",
      "d:/intern/tmp pkl/jm/ret.1024.002\n",
      "d:/intern/tmp pkl/jm/ret.2048.002\n",
      "d:/intern/tmp pkl/jm/ret.4096.002\n"
     ]
    }
   ],
   "source": [
    "for product in product_list:\n",
    "    create_signal_path(y2, product, HEAD_PATH)"
   ]
  },
  {
   "cell_type": "code",
   "execution_count": 37,
   "metadata": {
    "scrolled": true
   },
   "outputs": [
    {
     "name": "stdout",
     "output_type": "stream",
     "text": [
      "Wall time: 14min 3s\n"
     ]
    }
   ],
   "source": [
    "%%time\n",
    "for product in product_list:\n",
    "    file_list = list(map(lambda x: DATA_PATH+product+\"/\"+x, os.listdir(DATA_PATH + product)))\n",
    "    parLapply(CORE_NUM, file_list, build_composite_signal,signal_list=y2, product=product, HEAD_PATH=HEAD_PATH)\n",
    ";\n",
    "## Wall time: 14min 3s"
   ]
  },
  {
   "cell_type": "code",
   "execution_count": 38,
   "metadata": {},
   "outputs": [],
   "source": [
    "class foctor_ret_period_001(factor_template):\n",
    "    factor_name = \"ret.period.001\"\n",
    "    \n",
    "    params = OrderedDict([\n",
    "        (\"period\", np.power(2, range(10,13)))\n",
    "    ])\n",
    "    \n",
    "    def formula(self, data, period):\n",
    "        return vanish_thre(fcum(data[\"ret\"],period), 0.011).values\n",
    "    \n",
    "y3 = foctor_ret_period_001()\n"
   ]
  },
  {
   "cell_type": "code",
   "execution_count": 39,
   "metadata": {},
   "outputs": [
    {
     "name": "stdout",
     "output_type": "stream",
     "text": [
      "d:/intern/tmp pkl/rb/ret.1024.001\n",
      "d:/intern/tmp pkl/rb/ret.2048.001\n",
      "d:/intern/tmp pkl/rb/ret.4096.001\n",
      "d:/intern/tmp pkl/hc/ret.1024.001\n",
      "d:/intern/tmp pkl/hc/ret.2048.001\n",
      "d:/intern/tmp pkl/hc/ret.4096.001\n",
      "d:/intern/tmp pkl/i/ret.1024.001\n",
      "d:/intern/tmp pkl/i/ret.2048.001\n",
      "d:/intern/tmp pkl/i/ret.4096.001\n",
      "d:/intern/tmp pkl/j/ret.1024.001\n",
      "d:/intern/tmp pkl/j/ret.2048.001\n",
      "d:/intern/tmp pkl/j/ret.4096.001\n",
      "d:/intern/tmp pkl/jm/ret.1024.001\n",
      "d:/intern/tmp pkl/jm/ret.2048.001\n",
      "d:/intern/tmp pkl/jm/ret.4096.001\n"
     ]
    }
   ],
   "source": [
    "for product in product_list:\n",
    "    create_signal_path(y3, product, HEAD_PATH)"
   ]
  },
  {
   "cell_type": "code",
   "execution_count": 40,
   "metadata": {},
   "outputs": [
    {
     "name": "stdout",
     "output_type": "stream",
     "text": [
      "Wall time: 3min 34s\n"
     ]
    }
   ],
   "source": [
    "%%time\n",
    "for product in product_list:\n",
    "    file_list = list(map(lambda x: DATA_PATH+product+\"/\"+x, os.listdir(DATA_PATH + product)))\n",
    "    parLapply(CORE_NUM, file_list, build_composite_signal,signal_list=y3, product=product, HEAD_PATH=HEAD_PATH)\n",
    ";\n",
    "## Wall time: 3min 34s"
   ]
  },
  {
   "cell_type": "markdown",
   "metadata": {},
   "source": [
    "- now we have 3 response values: future return, future return cut off at 0.02, future return cut of at 0.01\n",
    "\n",
    "\n",
    "- let's see how they perform with predictive signals\n",
    "\n",
    "\n",
    "- at first we need to make sum changes \n",
    "- we can check the result"
   ]
  },
  {
   "cell_type": "code",
   "execution_count": 41,
   "metadata": {},
   "outputs": [
    {
     "data": {
      "text/plain": [
       "510"
      ]
     },
     "execution_count": 41,
     "metadata": {},
     "output_type": "execute_result"
    }
   ],
   "source": [
    "sum(train_sample)\n",
    "## 510"
   ]
  },
  {
   "cell_type": "code",
   "execution_count": 42,
   "metadata": {},
   "outputs": [
    {
     "data": {
      "text/plain": [
       "405"
      ]
     },
     "execution_count": 42,
     "metadata": {},
     "output_type": "execute_result"
    }
   ],
   "source": [
    "sum(test_sample)\n",
    "## 405"
   ]
  },
  {
   "cell_type": "markdown",
   "metadata": {},
   "source": [
    "- at first we fit a linear regression model without any regularization\n",
    "- we need to know the length of each day"
   ]
  },
  {
   "cell_type": "code",
   "execution_count": 43,
   "metadata": {},
   "outputs": [],
   "source": [
    "def count_daily_num(x, period):\n",
    "    data = load(x)\n",
    "    return np.floor(sum(data[\"good\"])/period)"
   ]
  },
  {
   "cell_type": "code",
   "execution_count": 46,
   "metadata": {},
   "outputs": [],
   "source": [
    "os.makedirs(HEAD_PATH+\"/daily num\", exist_ok=True)"
   ]
  },
  {
   "cell_type": "code",
   "execution_count": 47,
   "metadata": {},
   "outputs": [
    {
     "name": "stdout",
     "output_type": "stream",
     "text": [
      "Wall time: 1min 49s\n"
     ]
    }
   ],
   "source": [
    "%%time\n",
    "for product in product_list:\n",
    "    file_list = list(map(lambda x: DATA_PATH+product+\"/\"+x, os.listdir(DATA_PATH + product)))\n",
    "    daily_num = pd.Series(parLapply(CORE_NUM, file_list, count_daily_num, period=period))\n",
    "    save(daily_num, HEAD_PATH+\"/daily num/\"+product+\".pkl\")"
   ]
  },
  {
   "cell_type": "markdown",
   "metadata": {},
   "source": [
    "- we don't need to do it every time"
   ]
  },
  {
   "cell_type": "code",
   "execution_count": 48,
   "metadata": {},
   "outputs": [],
   "source": [
    "daily_num = load(HEAD_PATH+\"/daily num/\"+product+\".pkl\")"
   ]
  },
  {
   "cell_type": "markdown",
   "metadata": {},
   "source": [
    "- we get the number of independent training samples"
   ]
  },
  {
   "cell_type": "code",
   "execution_count": 50,
   "metadata": {},
   "outputs": [
    {
     "data": {
      "text/plain": [
       "2999.0"
      ]
     },
     "execution_count": 50,
     "metadata": {},
     "output_type": "execute_result"
    }
   ],
   "source": [
    "n_train = sum(daily_num[train_sample])\n",
    "n_train\n",
    "## 2999.0"
   ]
  },
  {
   "cell_type": "markdown",
   "metadata": {},
   "source": [
    "- we can see there there are not many samples\n",
    "- but they are independent signals because we choose one sample out of every period samples\n",
    "- for every tick, we predict the price return of next 4096 ticks\n",
    "- so only 1/4096 of them are independent"
   ]
  },
  {
   "cell_type": "markdown",
   "metadata": {},
   "source": [
    "- number of signals"
   ]
  },
  {
   "cell_type": "code",
   "execution_count": 51,
   "metadata": {},
   "outputs": [
    {
     "data": {
      "text/plain": [
       "45"
      ]
     },
     "execution_count": 51,
     "metadata": {},
     "output_type": "execute_result"
    }
   ],
   "source": [
    "n_signal = len(signal_list)\n",
    "n_signal\n",
    "## 45"
   ]
  },
  {
   "cell_type": "code",
   "execution_count": 11,
   "metadata": {},
   "outputs": [],
   "source": [
    "def get_sample_signal(good_night_files, sample, product, signal_list, period, daily_num):\n",
    "    n_samples = sum(daily_num[sample])\n",
    "    n_days = sum(sample)\n",
    "    n_signal = len(signal_list)\n",
    "    all_signal =  np.ndarray(shape=(int(n_samples),n_signal))\n",
    "    cur = 0\n",
    "    for file in good_night_files[sample]:\n",
    "        data = load(HEAD_PATH+\"/pkl tick/\"+product+\"/\"+file)\n",
    "        chosen = (np.arange(sum(data[\"good\"]))+1) % period==0\n",
    "        n_chosen = sum(chosen)\n",
    "        for i in range(n_signal):\n",
    "            signal_name = signal_list[i]\n",
    "            S = load(HEAD_PATH+\"/tmp pkl/\"+product+\"/\"+signal_name+\"/\"+file)\n",
    "            S = S[data[\"good\"]]\n",
    "            signal = S[(np.arange(len(S))+1) % period == 0]\n",
    "            signal[np.isnan(signal)] = 0 ## the ret.cor has some bad records\n",
    "            signal[np.isinf(signal)] = 0 ## the ret.cor has some bad records\n",
    "            all_signal[cur:(cur+n_chosen),i] = signal\n",
    "        cur = cur+n_chosen\n",
    "    all_signal = pd.DataFrame(all_signal, columns=signal_list)\n",
    "    return all_signal"
   ]
  },
  {
   "cell_type": "markdown",
   "metadata": {},
   "source": [
    "- Now we get the train and test samples"
   ]
  },
  {
   "cell_type": "code",
   "execution_count": 53,
   "metadata": {},
   "outputs": [],
   "source": [
    "os.makedirs(HEAD_PATH+\"/train test mat/\", exist_ok=True)"
   ]
  },
  {
   "cell_type": "code",
   "execution_count": 60,
   "metadata": {},
   "outputs": [
    {
     "name": "stdout",
     "output_type": "stream",
     "text": [
      "Wall time: 1h 28min 44s\n"
     ]
    }
   ],
   "source": [
    "%%time\n",
    "for product in product_list:\n",
    "    daily_num = load(HEAD_PATH+\"/daily num/\"+product+\".pkl\")\n",
    "    train_mat = get_sample_signal(all_dates, train_sample, product, \n",
    "                                  np.append(signal_list, [\"ret.\"+str(period),  \"ret.\"+str(period)+\".001\",\"ret.\"+str(period)+\".002\"]), \n",
    "                                  period, daily_num)\n",
    "    os.makedirs(HEAD_PATH+\"/train test mat/\"+product, exist_ok=True)\n",
    "    save(train_mat, HEAD_PATH+\"/train test mat/\"+product+\".train.mat.pkl\")\n",
    "    \n",
    "## Wall time: 1h 28min 44s"
   ]
  },
  {
   "cell_type": "code",
   "execution_count": 61,
   "metadata": {},
   "outputs": [
    {
     "data": {
      "text/plain": [
       "(2999, 48)"
      ]
     },
     "execution_count": 61,
     "metadata": {},
     "output_type": "execute_result"
    }
   ],
   "source": [
    "train_mat.shape\n",
    "# (2022, 29)"
   ]
  },
  {
   "cell_type": "code",
   "execution_count": 44,
   "metadata": {},
   "outputs": [],
   "source": [
    "import  sklearn.preprocessing"
   ]
  },
  {
   "cell_type": "code",
   "execution_count": 17,
   "metadata": {},
   "outputs": [
    {
     "data": {
      "text/plain": [
       "Index(['trade.imb.4096', 'total.trade.imb.4096', 'nr.4096', 'dbook.4096',\n",
       "       'range.pos.4096', 'price.osci.4096', 'ma.dif.10.4096', 'kdj.k.4096',\n",
       "       'kdj.j.4096', 'trade.imb.range.4096', 'total.trade.imb.range.4096',\n",
       "       'nr.range.4096', 'dbook.range.4096', 'range.pos.range.4096',\n",
       "       'price.osci.range.4096', 'ma.dif.10.range.4096', 'kdj.k.range.4096',\n",
       "       'kdj.j.range.4096', 'trade.imb.std.4096', 'total.trade.imb.std.4096',\n",
       "       'nr.std.4096', 'dbook.std.4096', 'range.pos.std.4096',\n",
       "       'price.osci.std.4096', 'ma.dif.10.std.4096', 'kdj.k.std.4096',\n",
       "       'kdj.j.std.4096', 'trade.imb.volume.open.ratio.4096',\n",
       "       'total.trade.imb.volume.open.ratio.4096', 'nr.volume.open.ratio.4096',\n",
       "       'dbook.volume.open.ratio.4096', 'range.pos.volume.open.ratio.4096',\n",
       "       'price.osci.volume.open.ratio.4096', 'ma.dif.10.volume.open.ratio.4096',\n",
       "       'kdj.k.volume.open.ratio.4096', 'kdj.j.volume.open.ratio.4096',\n",
       "       'trade.imb.trend.index.4096', 'total.trade.imb.trend.index.4096',\n",
       "       'nr.trend.index.4096', 'dbook.trend.index.4096',\n",
       "       'range.pos.trend.index.4096', 'price.osci.trend.index.4096',\n",
       "       'ma.dif.10.trend.index.4096', 'kdj.k.trend.index.4096',\n",
       "       'kdj.j.trend.index.4096', 'ret.4096', 'ret.4096.001', 'ret.4096.002'],\n",
       "      dtype='object')"
      ]
     },
     "execution_count": 17,
     "metadata": {},
     "output_type": "execute_result"
    }
   ],
   "source": [
    "ori_mat = load(HEAD_PATH+\"/train test mat/\"+product_list[0]+\".train.mat.pkl\")\n",
    "ori_mat.columns"
   ]
  },
  {
   "cell_type": "markdown",
   "metadata": {},
   "source": [
    "- we add the y signal"
   ]
  },
  {
   "cell_type": "markdown",
   "metadata": {},
   "source": [
    "- we can check the names"
   ]
  },
  {
   "cell_type": "code",
   "execution_count": 114,
   "metadata": {},
   "outputs": [
    {
     "name": "stdout",
     "output_type": "stream",
     "text": [
      "rb (5266, 48)\n",
      "hc (3894, 48)\n",
      "i (4658, 48)\n",
      "j (3118, 48)\n",
      "jm (2999, 48)\n"
     ]
    }
   ],
   "source": [
    "train_mat = load(HEAD_PATH+\"/train test mat/\"+product_list[0]+\".train.mat.pkl\")\n",
    "train_mat = pd.DataFrame(data=sklearn.preprocessing.scale(train_mat, with_mean=False), columns=ori_mat.columns)\n",
    "print(product_list[0], train_mat.shape)\n",
    "for product in product_list[1:]:\n",
    "    cur_mat = load(HEAD_PATH+\"/train test mat/\"+product+\".train.mat.pkl\")\n",
    "    cur_mat = pd.DataFrame(data=sklearn.preprocessing.scale(cur_mat, with_mean=False), columns=ori_mat.columns)\n",
    "    print(product, cur_mat.shape)\n",
    "    train_mat = train_mat.append(cur_mat)"
   ]
  },
  {
   "cell_type": "code",
   "execution_count": 21,
   "metadata": {},
   "outputs": [
    {
     "data": {
      "text/plain": [
       "(19935, 48)"
      ]
     },
     "execution_count": 21,
     "metadata": {},
     "output_type": "execute_result"
    }
   ],
   "source": [
    "train_mat.shape"
   ]
  },
  {
   "cell_type": "markdown",
   "metadata": {},
   "source": [
    "- at first we can fit a linear regression to calcualte t-statistics "
   ]
  },
  {
   "cell_type": "code",
   "execution_count": 115,
   "metadata": {},
   "outputs": [],
   "source": [
    "import statsmodels.formula.api as smf"
   ]
  },
  {
   "cell_type": "code",
   "execution_count": 116,
   "metadata": {},
   "outputs": [
    {
     "data": {
      "text/plain": [
       "\"train_mat['ret.4096'] ~ train_mat['nr.4096'] + 0\""
      ]
     },
     "execution_count": 116,
     "metadata": {},
     "output_type": "execute_result"
    }
   ],
   "source": [
    "formula = \"train_mat['ret.\"+str(period)+\"'] ~ train_mat['nr.\"+str(period)+\"'] + 0\"\n",
    "formula\n",
    "## \"train_mat['ret.4096'] ~ train_mat['nr.4096'] + 0\""
   ]
  },
  {
   "cell_type": "code",
   "execution_count": 117,
   "metadata": {},
   "outputs": [
    {
     "name": "stdout",
     "output_type": "stream",
     "text": [
      "                              OLS Regression Results                             \n",
      "=================================================================================\n",
      "Dep. Variable:     train_mat['ret.4096']   R-squared:                       0.001\n",
      "Model:                               OLS   Adj. R-squared:                  0.000\n",
      "Method:                    Least Squares   F-statistic:                     10.23\n",
      "Date:                   Sat, 19 Oct 2019   Prob (F-statistic):            0.00139\n",
      "Time:                           23:43:31   Log-Likelihood:                -28292.\n",
      "No. Observations:                  19935   AIC:                         5.659e+04\n",
      "Df Residuals:                      19934   BIC:                         5.659e+04\n",
      "Df Model:                              1                                         \n",
      "Covariance Type:               nonrobust                                         \n",
      "========================================================================================\n",
      "                           coef    std err          t      P>|t|      [0.025      0.975]\n",
      "----------------------------------------------------------------------------------------\n",
      "train_mat['nr.4096']     0.0226      0.007      3.198      0.001       0.009       0.036\n",
      "==============================================================================\n",
      "Omnibus:                     2297.616   Durbin-Watson:                   1.987\n",
      "Prob(Omnibus):                  0.000   Jarque-Bera (JB):            20831.843\n",
      "Skew:                          -0.184   Prob(JB):                         0.00\n",
      "Kurtosis:                       7.994   Cond. No.                         1.00\n",
      "==============================================================================\n",
      "\n",
      "Warnings:\n",
      "[1] Standard Errors assume that the covariance matrix of the errors is correctly specified.\n"
     ]
    }
   ],
   "source": [
    "fit_one_lm = smf.ols(formula=formula, data=train_mat[train_mat.columns[:-2]]).fit()\n",
    "print(fit_one_lm.summary())\n",
    "#  OLS Regression Results                             \n",
    "# =================================================================================\n",
    "# Dep. Variable:     train_mat['ret.4096']   R-squared:                       0.001\n",
    "# Model:                               OLS   Adj. R-squared:                  0.000\n",
    "# Method:                    Least Squares   F-statistic:                     10.23\n",
    "# Date:                   Wed, 16 Oct 2019   Prob (F-statistic):            0.00139\n",
    "# Time:                           22:51:20   Log-Likelihood:                -28292.\n",
    "# No. Observations:                  19935   AIC:                         5.659e+04\n",
    "# Df Residuals:                      19934   BIC:                         5.659e+04\n",
    "# Df Model:                              1                                         \n",
    "# Covariance Type:               nonrobust                                         \n",
    "# ========================================================================================\n",
    "#                            coef    std err          t      P>|t|      [0.025      0.975]\n",
    "# ----------------------------------------------------------------------------------------\n",
    "# train_mat['nr.4096']     0.0226      0.007      3.198      0.001       0.009       0.036\n",
    "# ==============================================================================\n",
    "# Omnibus:                     2297.616   Durbin-Watson:                   1.987\n",
    "# Prob(Omnibus):                  0.000   Jarque-Bera (JB):            20831.843\n",
    "# Skew:                          -0.184   Prob(JB):                         0.00\n",
    "# Kurtosis:                       7.994   Cond. No.                         1.00\n",
    "# ==============================================================================\n",
    "\n",
    "# Warnings:\n",
    "# [1] Standard Errors assume that the covariance matrix of the errors is correctly specified."
   ]
  },
  {
   "cell_type": "code",
   "execution_count": 118,
   "metadata": {},
   "outputs": [],
   "source": [
    "def get_t_value(train_mat, signal, response):\n",
    "    beta = np.sum(train_mat[signal]*train_mat[response])/sum(train_mat[signal]**2)\n",
    "    sigma = np.sqrt(np.sum((train_mat[signal]*beta-train_mat[response])**2) / (len(train_mat)-1))\n",
    "    v = np.sqrt(np.sum(train_mat[signal]**2))\n",
    "    return beta/sigma*v"
   ]
  },
  {
   "cell_type": "markdown",
   "metadata": {},
   "source": [
    "- we can see our function is correct\n",
    "- now let's use this function to calcualte all t-stat of each variable"
   ]
  },
  {
   "cell_type": "code",
   "execution_count": 119,
   "metadata": {},
   "outputs": [
    {
     "data": {
      "text/plain": [
       "[-3.611495615006903,\n",
       " 3.164739927259585,\n",
       " 3.198002726076485,\n",
       " -4.822738801264186,\n",
       " 2.7575911663032158,\n",
       " 4.657938860344221,\n",
       " 1.6529352721680235,\n",
       " 3.7585608508863406,\n",
       " 2.5074246080482956,\n",
       " -3.0491361697004815,\n",
       " 1.4115442629488593,\n",
       " 1.4128242337644012,\n",
       " -6.134873595235046,\n",
       " -0.6503622948625044,\n",
       " 1.7969532400605526,\n",
       " 0.045390959147707126,\n",
       " 2.214464450973309,\n",
       " 0.7023027572825669,\n",
       " -3.222933690379256,\n",
       " 1.1320368242914174,\n",
       " 0.9822910188333999,\n",
       " -6.149680367706145,\n",
       " -0.7791708280320117,\n",
       " 1.3196031064308733,\n",
       " -0.7298487123690929,\n",
       " 1.8927752506924223,\n",
       " 0.5443447735464335,\n",
       " -2.9830571935153745,\n",
       " 1.9899335412719745,\n",
       " 1.8398320165421655,\n",
       " -5.666588495815191,\n",
       " 0.1356807292003784,\n",
       " 2.246659069225599,\n",
       " -0.6998478078878412,\n",
       " 2.3499101468787575,\n",
       " 1.0609133761727592,\n",
       " -2.6463935988505507,\n",
       " 3.5626443903163967,\n",
       " 3.532083281222354,\n",
       " -5.155653412524966,\n",
       " 3.343287918282742,\n",
       " 4.530848811762212,\n",
       " 1.8666390776006276,\n",
       " 4.536664902288269,\n",
       " 3.896152044619528]"
      ]
     },
     "execution_count": 119,
     "metadata": {},
     "output_type": "execute_result"
    }
   ],
   "source": [
    "signal_list = np.array(signal_list)\n",
    "t_stat = list(map(lambda x: get_t_value(train_mat=train_mat, signal=x, response=\"ret.\"+str(period)), signal_list))\n",
    "t_stat\n",
    "# [-3.611495615006903,\n",
    "#  3.164739927259585,\n",
    "#  3.198002726076485,\n",
    "#  -4.822738801264186,\n",
    "#  2.7575911663032158,\n",
    "#  4.657938860344221,\n",
    "#  1.6529352721680235,\n",
    "#  3.7585608508863406,\n",
    "#  2.5074246080482956,\n",
    "#  -3.0491361697004815,\n",
    "#  1.4115442629488593,\n",
    "#  1.4128242337644012,\n",
    "#  -6.134873595235046,\n",
    "#  -0.6503622948625044,\n",
    "#  1.7969532400605526,\n",
    "#  0.045390959147707126,\n",
    "#  2.214464450973309,\n",
    "#  0.7023027572825669,\n",
    "#  -3.222933690379256,\n",
    "#  1.1320368242914174,\n",
    "#  0.9822910188333999,\n",
    "#  -6.149680367706145,\n",
    "#  -0.7791708280320117,\n",
    "#  1.3196031064308733,\n",
    "#  -0.7298487123690929,\n",
    "#  1.8927752506924223,\n",
    "#  0.5443447735464335,\n",
    "#  -2.9830571935153745,\n",
    "#  1.9899335412719745,\n",
    "#  1.8398320165421655,\n",
    "#  -5.666588495815191,\n",
    "#  0.1356807292003784,\n",
    "#  2.246659069225599,\n",
    "#  -0.6998478078878412,\n",
    "#  2.3499101468787575,\n",
    "#  1.0609133761727592,\n",
    "#  -2.6463935988505507,\n",
    "#  3.5626443903163967,\n",
    "#  3.532083281222354,\n",
    "#  -5.155653412524966,\n",
    "#  3.343287918282742,\n",
    "#  4.530848811762212,\n",
    "#  1.8666390776006276,\n",
    "#  4.536664902288269,\n",
    "#  3.896152044619528]"
   ]
  },
  {
   "cell_type": "markdown",
   "metadata": {},
   "source": [
    "- if we use t.stat value of 3 to filter out good signals, we have"
   ]
  },
  {
   "cell_type": "code",
   "execution_count": 120,
   "metadata": {},
   "outputs": [
    {
     "data": {
      "text/plain": [
       "array(['trade.imb.4096', 'total.trade.imb.4096', 'nr.4096', 'dbook.4096',\n",
       "       'price.osci.4096', 'kdj.k.4096', 'trade.imb.range.4096',\n",
       "       'dbook.range.4096', 'trade.imb.std.4096', 'dbook.std.4096',\n",
       "       'dbook.volume.open.ratio.4096', 'total.trade.imb.trend.index.4096',\n",
       "       'nr.trend.index.4096', 'dbook.trend.index.4096',\n",
       "       'range.pos.trend.index.4096', 'price.osci.trend.index.4096',\n",
       "       'kdj.k.trend.index.4096', 'kdj.j.trend.index.4096'], dtype='<U38')"
      ]
     },
     "execution_count": 120,
     "metadata": {},
     "output_type": "execute_result"
    }
   ],
   "source": [
    "signal_list[np.where(np.abs(t_stat)>3)]\n",
    "# array(['trade.imb.4096', 'total.trade.imb.4096', 'nr.4096', 'dbook.4096',\n",
    "#        'price.osci.4096', 'kdj.k.4096', 'trade.imb.range.4096',\n",
    "#        'dbook.range.4096', 'trade.imb.std.4096', 'dbook.std.4096',\n",
    "#        'dbook.volume.open.ratio.4096', 'total.trade.imb.trend.index.4096',\n",
    "#        'nr.trend.index.4096', 'dbook.trend.index.4096',\n",
    "#        'range.pos.trend.index.4096', 'price.osci.trend.index.4096',\n",
    "#        'kdj.k.trend.index.4096', 'kdj.j.trend.index.4096'], dtype='<U38')"
   ]
  },
  {
   "cell_type": "code",
   "execution_count": 136,
   "metadata": {},
   "outputs": [
    {
     "data": {
      "text/plain": [
       "array(['trade.imb.4096', 'total.trade.imb.4096', 'nr.4096', 'dbook.4096',\n",
       "       'price.osci.4096', 'kdj.k.4096', 'trade.imb.range.4096',\n",
       "       'dbook.range.4096', 'trade.imb.std.4096', 'dbook.std.4096',\n",
       "       'dbook.volume.open.ratio.4096', 'total.trade.imb.trend.index.4096',\n",
       "       'nr.trend.index.4096', 'dbook.trend.index.4096',\n",
       "       'range.pos.trend.index.4096', 'price.osci.trend.index.4096',\n",
       "       'kdj.k.trend.index.4096', 'kdj.j.trend.index.4096'], dtype='<U38')"
      ]
     },
     "execution_count": 136,
     "metadata": {},
     "output_type": "execute_result"
    }
   ],
   "source": [
    "good_index = signal_list[np.abs(t_stat)>3]\n",
    "good_index\n",
    "# array(['trade.imb.4096', 'total.trade.imb.4096', 'nr.4096', 'dbook.4096',\n",
    "#        'price.osci.4096', 'kdj.k.4096', 'trade.imb.range.4096',\n",
    "#        'dbook.range.4096', 'trade.imb.std.4096', 'dbook.std.4096',\n",
    "#        'dbook.volume.open.ratio.4096', 'total.trade.imb.trend.index.4096',\n",
    "#        'nr.trend.index.4096', 'dbook.trend.index.4096',\n",
    "#        'range.pos.trend.index.4096', 'price.osci.trend.index.4096',\n",
    "#        'kdj.k.trend.index.4096', 'kdj.j.trend.index.4096'], dtype='<U38')"
   ]
  },
  {
   "cell_type": "markdown",
   "metadata": {},
   "source": [
    "- but we know a single signal works well doesn't mean it works well when combined with other signals\n",
    "- signals have correlation, if 10 highly correlated signals together would not make prediction better"
   ]
  },
  {
   "cell_type": "code",
   "execution_count": 137,
   "metadata": {},
   "outputs": [
    {
     "data": {
      "text/html": [
       "<div>\n",
       "<style scoped>\n",
       "    .dataframe tbody tr th:only-of-type {\n",
       "        vertical-align: middle;\n",
       "    }\n",
       "\n",
       "    .dataframe tbody tr th {\n",
       "        vertical-align: top;\n",
       "    }\n",
       "\n",
       "    .dataframe thead th {\n",
       "        text-align: right;\n",
       "    }\n",
       "</style>\n",
       "<table border=\"1\" class=\"dataframe\">\n",
       "  <thead>\n",
       "    <tr style=\"text-align: right;\">\n",
       "      <th></th>\n",
       "      <th>trade.imb.4096</th>\n",
       "      <th>total.trade.imb.4096</th>\n",
       "      <th>nr.4096</th>\n",
       "      <th>dbook.4096</th>\n",
       "      <th>price.osci.4096</th>\n",
       "      <th>kdj.k.4096</th>\n",
       "      <th>trade.imb.range.4096</th>\n",
       "      <th>dbook.range.4096</th>\n",
       "      <th>trade.imb.std.4096</th>\n",
       "      <th>dbook.std.4096</th>\n",
       "      <th>dbook.volume.open.ratio.4096</th>\n",
       "      <th>total.trade.imb.trend.index.4096</th>\n",
       "      <th>nr.trend.index.4096</th>\n",
       "      <th>dbook.trend.index.4096</th>\n",
       "      <th>range.pos.trend.index.4096</th>\n",
       "      <th>price.osci.trend.index.4096</th>\n",
       "      <th>kdj.k.trend.index.4096</th>\n",
       "      <th>kdj.j.trend.index.4096</th>\n",
       "    </tr>\n",
       "  </thead>\n",
       "  <tbody>\n",
       "    <tr>\n",
       "      <th>trade.imb.4096</th>\n",
       "      <td>1.000000</td>\n",
       "      <td>0.166648</td>\n",
       "      <td>-0.036883</td>\n",
       "      <td>0.766871</td>\n",
       "      <td>-0.116310</td>\n",
       "      <td>0.005390</td>\n",
       "      <td>0.794253</td>\n",
       "      <td>0.617244</td>\n",
       "      <td>0.741980</td>\n",
       "      <td>0.571292</td>\n",
       "      <td>0.650103</td>\n",
       "      <td>0.142710</td>\n",
       "      <td>0.011471</td>\n",
       "      <td>0.645302</td>\n",
       "      <td>-0.060528</td>\n",
       "      <td>-0.044029</td>\n",
       "      <td>0.027138</td>\n",
       "      <td>-0.027565</td>\n",
       "    </tr>\n",
       "    <tr>\n",
       "      <th>total.trade.imb.4096</th>\n",
       "      <td>0.166648</td>\n",
       "      <td>1.000000</td>\n",
       "      <td>0.738826</td>\n",
       "      <td>-0.127800</td>\n",
       "      <td>0.702923</td>\n",
       "      <td>0.656518</td>\n",
       "      <td>0.135198</td>\n",
       "      <td>-0.134324</td>\n",
       "      <td>0.127383</td>\n",
       "      <td>-0.136751</td>\n",
       "      <td>-0.128027</td>\n",
       "      <td>0.903278</td>\n",
       "      <td>0.708499</td>\n",
       "      <td>-0.138345</td>\n",
       "      <td>0.729047</td>\n",
       "      <td>0.667015</td>\n",
       "      <td>0.668077</td>\n",
       "      <td>0.677334</td>\n",
       "    </tr>\n",
       "    <tr>\n",
       "      <th>nr.4096</th>\n",
       "      <td>-0.036883</td>\n",
       "      <td>0.738826</td>\n",
       "      <td>1.000000</td>\n",
       "      <td>-0.122128</td>\n",
       "      <td>0.747859</td>\n",
       "      <td>0.693019</td>\n",
       "      <td>-0.014833</td>\n",
       "      <td>-0.132412</td>\n",
       "      <td>-0.026237</td>\n",
       "      <td>-0.123060</td>\n",
       "      <td>-0.156052</td>\n",
       "      <td>0.760568</td>\n",
       "      <td>0.888472</td>\n",
       "      <td>-0.146608</td>\n",
       "      <td>0.751264</td>\n",
       "      <td>0.717780</td>\n",
       "      <td>0.734560</td>\n",
       "      <td>0.715860</td>\n",
       "    </tr>\n",
       "    <tr>\n",
       "      <th>dbook.4096</th>\n",
       "      <td>0.766871</td>\n",
       "      <td>-0.127800</td>\n",
       "      <td>-0.122128</td>\n",
       "      <td>1.000000</td>\n",
       "      <td>-0.219614</td>\n",
       "      <td>-0.180442</td>\n",
       "      <td>0.609769</td>\n",
       "      <td>0.823079</td>\n",
       "      <td>0.558456</td>\n",
       "      <td>0.778186</td>\n",
       "      <td>0.842478</td>\n",
       "      <td>-0.109412</td>\n",
       "      <td>-0.110418</td>\n",
       "      <td>0.851233</td>\n",
       "      <td>-0.216497</td>\n",
       "      <td>-0.162410</td>\n",
       "      <td>-0.153795</td>\n",
       "      <td>-0.198090</td>\n",
       "    </tr>\n",
       "    <tr>\n",
       "      <th>price.osci.4096</th>\n",
       "      <td>-0.116310</td>\n",
       "      <td>0.702923</td>\n",
       "      <td>0.747859</td>\n",
       "      <td>-0.219614</td>\n",
       "      <td>1.000000</td>\n",
       "      <td>0.681526</td>\n",
       "      <td>-0.040360</td>\n",
       "      <td>-0.190198</td>\n",
       "      <td>-0.036901</td>\n",
       "      <td>-0.185814</td>\n",
       "      <td>-0.201135</td>\n",
       "      <td>0.647968</td>\n",
       "      <td>0.645948</td>\n",
       "      <td>-0.198184</td>\n",
       "      <td>0.724936</td>\n",
       "      <td>0.856754</td>\n",
       "      <td>0.646559</td>\n",
       "      <td>0.663807</td>\n",
       "    </tr>\n",
       "    <tr>\n",
       "      <th>kdj.k.4096</th>\n",
       "      <td>0.005390</td>\n",
       "      <td>0.656518</td>\n",
       "      <td>0.693019</td>\n",
       "      <td>-0.180442</td>\n",
       "      <td>0.681526</td>\n",
       "      <td>1.000000</td>\n",
       "      <td>-0.001237</td>\n",
       "      <td>-0.204473</td>\n",
       "      <td>-0.005444</td>\n",
       "      <td>-0.209848</td>\n",
       "      <td>-0.190846</td>\n",
       "      <td>0.690796</td>\n",
       "      <td>0.707149</td>\n",
       "      <td>-0.195081</td>\n",
       "      <td>0.782888</td>\n",
       "      <td>0.690291</td>\n",
       "      <td>0.923447</td>\n",
       "      <td>0.866369</td>\n",
       "    </tr>\n",
       "    <tr>\n",
       "      <th>trade.imb.range.4096</th>\n",
       "      <td>0.794253</td>\n",
       "      <td>0.135198</td>\n",
       "      <td>-0.014833</td>\n",
       "      <td>0.609769</td>\n",
       "      <td>-0.040360</td>\n",
       "      <td>-0.001237</td>\n",
       "      <td>1.000000</td>\n",
       "      <td>0.680116</td>\n",
       "      <td>0.973039</td>\n",
       "      <td>0.640744</td>\n",
       "      <td>0.575076</td>\n",
       "      <td>0.129139</td>\n",
       "      <td>-0.013439</td>\n",
       "      <td>0.557730</td>\n",
       "      <td>-0.056432</td>\n",
       "      <td>-0.013610</td>\n",
       "      <td>0.012450</td>\n",
       "      <td>-0.027923</td>\n",
       "    </tr>\n",
       "    <tr>\n",
       "      <th>dbook.range.4096</th>\n",
       "      <td>0.617244</td>\n",
       "      <td>-0.134324</td>\n",
       "      <td>-0.132412</td>\n",
       "      <td>0.823079</td>\n",
       "      <td>-0.190198</td>\n",
       "      <td>-0.204473</td>\n",
       "      <td>0.680116</td>\n",
       "      <td>1.000000</td>\n",
       "      <td>0.635230</td>\n",
       "      <td>0.975781</td>\n",
       "      <td>0.805588</td>\n",
       "      <td>-0.132519</td>\n",
       "      <td>-0.111680</td>\n",
       "      <td>0.795098</td>\n",
       "      <td>-0.230802</td>\n",
       "      <td>-0.167070</td>\n",
       "      <td>-0.193119</td>\n",
       "      <td>-0.223957</td>\n",
       "    </tr>\n",
       "    <tr>\n",
       "      <th>trade.imb.std.4096</th>\n",
       "      <td>0.741980</td>\n",
       "      <td>0.127383</td>\n",
       "      <td>-0.026237</td>\n",
       "      <td>0.558456</td>\n",
       "      <td>-0.036901</td>\n",
       "      <td>-0.005444</td>\n",
       "      <td>0.973039</td>\n",
       "      <td>0.635230</td>\n",
       "      <td>1.000000</td>\n",
       "      <td>0.619195</td>\n",
       "      <td>0.534200</td>\n",
       "      <td>0.124039</td>\n",
       "      <td>-0.032244</td>\n",
       "      <td>0.521927</td>\n",
       "      <td>-0.051996</td>\n",
       "      <td>-0.017351</td>\n",
       "      <td>0.006726</td>\n",
       "      <td>-0.025966</td>\n",
       "    </tr>\n",
       "    <tr>\n",
       "      <th>dbook.std.4096</th>\n",
       "      <td>0.571292</td>\n",
       "      <td>-0.136751</td>\n",
       "      <td>-0.123060</td>\n",
       "      <td>0.778186</td>\n",
       "      <td>-0.185814</td>\n",
       "      <td>-0.209848</td>\n",
       "      <td>0.640744</td>\n",
       "      <td>0.975781</td>\n",
       "      <td>0.619195</td>\n",
       "      <td>1.000000</td>\n",
       "      <td>0.778044</td>\n",
       "      <td>-0.136205</td>\n",
       "      <td>-0.097074</td>\n",
       "      <td>0.775656</td>\n",
       "      <td>-0.232135</td>\n",
       "      <td>-0.166839</td>\n",
       "      <td>-0.199070</td>\n",
       "      <td>-0.226662</td>\n",
       "    </tr>\n",
       "    <tr>\n",
       "      <th>dbook.volume.open.ratio.4096</th>\n",
       "      <td>0.650103</td>\n",
       "      <td>-0.128027</td>\n",
       "      <td>-0.156052</td>\n",
       "      <td>0.842478</td>\n",
       "      <td>-0.201135</td>\n",
       "      <td>-0.190846</td>\n",
       "      <td>0.575076</td>\n",
       "      <td>0.805588</td>\n",
       "      <td>0.534200</td>\n",
       "      <td>0.778044</td>\n",
       "      <td>1.000000</td>\n",
       "      <td>-0.122556</td>\n",
       "      <td>-0.132044</td>\n",
       "      <td>0.775871</td>\n",
       "      <td>-0.224596</td>\n",
       "      <td>-0.164883</td>\n",
       "      <td>-0.176781</td>\n",
       "      <td>-0.213129</td>\n",
       "    </tr>\n",
       "    <tr>\n",
       "      <th>total.trade.imb.trend.index.4096</th>\n",
       "      <td>0.142710</td>\n",
       "      <td>0.903278</td>\n",
       "      <td>0.760568</td>\n",
       "      <td>-0.109412</td>\n",
       "      <td>0.647968</td>\n",
       "      <td>0.690796</td>\n",
       "      <td>0.129139</td>\n",
       "      <td>-0.132519</td>\n",
       "      <td>0.124039</td>\n",
       "      <td>-0.136205</td>\n",
       "      <td>-0.122556</td>\n",
       "      <td>1.000000</td>\n",
       "      <td>0.825052</td>\n",
       "      <td>-0.142148</td>\n",
       "      <td>0.811548</td>\n",
       "      <td>0.737176</td>\n",
       "      <td>0.777829</td>\n",
       "      <td>0.773326</td>\n",
       "    </tr>\n",
       "    <tr>\n",
       "      <th>nr.trend.index.4096</th>\n",
       "      <td>0.011471</td>\n",
       "      <td>0.708499</td>\n",
       "      <td>0.888472</td>\n",
       "      <td>-0.110418</td>\n",
       "      <td>0.645948</td>\n",
       "      <td>0.707149</td>\n",
       "      <td>-0.013439</td>\n",
       "      <td>-0.111680</td>\n",
       "      <td>-0.032244</td>\n",
       "      <td>-0.097074</td>\n",
       "      <td>-0.132044</td>\n",
       "      <td>0.825052</td>\n",
       "      <td>1.000000</td>\n",
       "      <td>-0.135222</td>\n",
       "      <td>0.803616</td>\n",
       "      <td>0.760612</td>\n",
       "      <td>0.814557</td>\n",
       "      <td>0.785350</td>\n",
       "    </tr>\n",
       "    <tr>\n",
       "      <th>dbook.trend.index.4096</th>\n",
       "      <td>0.645302</td>\n",
       "      <td>-0.138345</td>\n",
       "      <td>-0.146608</td>\n",
       "      <td>0.851233</td>\n",
       "      <td>-0.198184</td>\n",
       "      <td>-0.195081</td>\n",
       "      <td>0.557730</td>\n",
       "      <td>0.795098</td>\n",
       "      <td>0.521927</td>\n",
       "      <td>0.775656</td>\n",
       "      <td>0.775871</td>\n",
       "      <td>-0.142148</td>\n",
       "      <td>-0.135222</td>\n",
       "      <td>1.000000</td>\n",
       "      <td>-0.266675</td>\n",
       "      <td>-0.192348</td>\n",
       "      <td>-0.200916</td>\n",
       "      <td>-0.246803</td>\n",
       "    </tr>\n",
       "    <tr>\n",
       "      <th>range.pos.trend.index.4096</th>\n",
       "      <td>-0.060528</td>\n",
       "      <td>0.729047</td>\n",
       "      <td>0.751264</td>\n",
       "      <td>-0.216497</td>\n",
       "      <td>0.724936</td>\n",
       "      <td>0.782888</td>\n",
       "      <td>-0.056432</td>\n",
       "      <td>-0.230802</td>\n",
       "      <td>-0.051996</td>\n",
       "      <td>-0.232135</td>\n",
       "      <td>-0.224596</td>\n",
       "      <td>0.811548</td>\n",
       "      <td>0.803616</td>\n",
       "      <td>-0.266675</td>\n",
       "      <td>1.000000</td>\n",
       "      <td>0.818586</td>\n",
       "      <td>0.856563</td>\n",
       "      <td>0.936577</td>\n",
       "    </tr>\n",
       "    <tr>\n",
       "      <th>price.osci.trend.index.4096</th>\n",
       "      <td>-0.044029</td>\n",
       "      <td>0.667015</td>\n",
       "      <td>0.717780</td>\n",
       "      <td>-0.162410</td>\n",
       "      <td>0.856754</td>\n",
       "      <td>0.690291</td>\n",
       "      <td>-0.013610</td>\n",
       "      <td>-0.167070</td>\n",
       "      <td>-0.017351</td>\n",
       "      <td>-0.166839</td>\n",
       "      <td>-0.164883</td>\n",
       "      <td>0.737176</td>\n",
       "      <td>0.760612</td>\n",
       "      <td>-0.192348</td>\n",
       "      <td>0.818586</td>\n",
       "      <td>1.000000</td>\n",
       "      <td>0.763904</td>\n",
       "      <td>0.771062</td>\n",
       "    </tr>\n",
       "    <tr>\n",
       "      <th>kdj.k.trend.index.4096</th>\n",
       "      <td>0.027138</td>\n",
       "      <td>0.668077</td>\n",
       "      <td>0.734560</td>\n",
       "      <td>-0.153795</td>\n",
       "      <td>0.646559</td>\n",
       "      <td>0.923447</td>\n",
       "      <td>0.012450</td>\n",
       "      <td>-0.193119</td>\n",
       "      <td>0.006726</td>\n",
       "      <td>-0.199070</td>\n",
       "      <td>-0.176781</td>\n",
       "      <td>0.777829</td>\n",
       "      <td>0.814557</td>\n",
       "      <td>-0.200916</td>\n",
       "      <td>0.856563</td>\n",
       "      <td>0.763904</td>\n",
       "      <td>1.000000</td>\n",
       "      <td>0.941489</td>\n",
       "    </tr>\n",
       "    <tr>\n",
       "      <th>kdj.j.trend.index.4096</th>\n",
       "      <td>-0.027565</td>\n",
       "      <td>0.677334</td>\n",
       "      <td>0.715860</td>\n",
       "      <td>-0.198090</td>\n",
       "      <td>0.663807</td>\n",
       "      <td>0.866369</td>\n",
       "      <td>-0.027923</td>\n",
       "      <td>-0.223957</td>\n",
       "      <td>-0.025966</td>\n",
       "      <td>-0.226662</td>\n",
       "      <td>-0.213129</td>\n",
       "      <td>0.773326</td>\n",
       "      <td>0.785350</td>\n",
       "      <td>-0.246803</td>\n",
       "      <td>0.936577</td>\n",
       "      <td>0.771062</td>\n",
       "      <td>0.941489</td>\n",
       "      <td>1.000000</td>\n",
       "    </tr>\n",
       "  </tbody>\n",
       "</table>\n",
       "</div>"
      ],
      "text/plain": [
       "                                  trade.imb.4096  total.trade.imb.4096  \\\n",
       "trade.imb.4096                          1.000000              0.166648   \n",
       "total.trade.imb.4096                    0.166648              1.000000   \n",
       "nr.4096                                -0.036883              0.738826   \n",
       "dbook.4096                              0.766871             -0.127800   \n",
       "price.osci.4096                        -0.116310              0.702923   \n",
       "kdj.k.4096                              0.005390              0.656518   \n",
       "trade.imb.range.4096                    0.794253              0.135198   \n",
       "dbook.range.4096                        0.617244             -0.134324   \n",
       "trade.imb.std.4096                      0.741980              0.127383   \n",
       "dbook.std.4096                          0.571292             -0.136751   \n",
       "dbook.volume.open.ratio.4096            0.650103             -0.128027   \n",
       "total.trade.imb.trend.index.4096        0.142710              0.903278   \n",
       "nr.trend.index.4096                     0.011471              0.708499   \n",
       "dbook.trend.index.4096                  0.645302             -0.138345   \n",
       "range.pos.trend.index.4096             -0.060528              0.729047   \n",
       "price.osci.trend.index.4096            -0.044029              0.667015   \n",
       "kdj.k.trend.index.4096                  0.027138              0.668077   \n",
       "kdj.j.trend.index.4096                 -0.027565              0.677334   \n",
       "\n",
       "                                   nr.4096  dbook.4096  price.osci.4096  \\\n",
       "trade.imb.4096                   -0.036883    0.766871        -0.116310   \n",
       "total.trade.imb.4096              0.738826   -0.127800         0.702923   \n",
       "nr.4096                           1.000000   -0.122128         0.747859   \n",
       "dbook.4096                       -0.122128    1.000000        -0.219614   \n",
       "price.osci.4096                   0.747859   -0.219614         1.000000   \n",
       "kdj.k.4096                        0.693019   -0.180442         0.681526   \n",
       "trade.imb.range.4096             -0.014833    0.609769        -0.040360   \n",
       "dbook.range.4096                 -0.132412    0.823079        -0.190198   \n",
       "trade.imb.std.4096               -0.026237    0.558456        -0.036901   \n",
       "dbook.std.4096                   -0.123060    0.778186        -0.185814   \n",
       "dbook.volume.open.ratio.4096     -0.156052    0.842478        -0.201135   \n",
       "total.trade.imb.trend.index.4096  0.760568   -0.109412         0.647968   \n",
       "nr.trend.index.4096               0.888472   -0.110418         0.645948   \n",
       "dbook.trend.index.4096           -0.146608    0.851233        -0.198184   \n",
       "range.pos.trend.index.4096        0.751264   -0.216497         0.724936   \n",
       "price.osci.trend.index.4096       0.717780   -0.162410         0.856754   \n",
       "kdj.k.trend.index.4096            0.734560   -0.153795         0.646559   \n",
       "kdj.j.trend.index.4096            0.715860   -0.198090         0.663807   \n",
       "\n",
       "                                  kdj.k.4096  trade.imb.range.4096  \\\n",
       "trade.imb.4096                      0.005390              0.794253   \n",
       "total.trade.imb.4096                0.656518              0.135198   \n",
       "nr.4096                             0.693019             -0.014833   \n",
       "dbook.4096                         -0.180442              0.609769   \n",
       "price.osci.4096                     0.681526             -0.040360   \n",
       "kdj.k.4096                          1.000000             -0.001237   \n",
       "trade.imb.range.4096               -0.001237              1.000000   \n",
       "dbook.range.4096                   -0.204473              0.680116   \n",
       "trade.imb.std.4096                 -0.005444              0.973039   \n",
       "dbook.std.4096                     -0.209848              0.640744   \n",
       "dbook.volume.open.ratio.4096       -0.190846              0.575076   \n",
       "total.trade.imb.trend.index.4096    0.690796              0.129139   \n",
       "nr.trend.index.4096                 0.707149             -0.013439   \n",
       "dbook.trend.index.4096             -0.195081              0.557730   \n",
       "range.pos.trend.index.4096          0.782888             -0.056432   \n",
       "price.osci.trend.index.4096         0.690291             -0.013610   \n",
       "kdj.k.trend.index.4096              0.923447              0.012450   \n",
       "kdj.j.trend.index.4096              0.866369             -0.027923   \n",
       "\n",
       "                                  dbook.range.4096  trade.imb.std.4096  \\\n",
       "trade.imb.4096                            0.617244            0.741980   \n",
       "total.trade.imb.4096                     -0.134324            0.127383   \n",
       "nr.4096                                  -0.132412           -0.026237   \n",
       "dbook.4096                                0.823079            0.558456   \n",
       "price.osci.4096                          -0.190198           -0.036901   \n",
       "kdj.k.4096                               -0.204473           -0.005444   \n",
       "trade.imb.range.4096                      0.680116            0.973039   \n",
       "dbook.range.4096                          1.000000            0.635230   \n",
       "trade.imb.std.4096                        0.635230            1.000000   \n",
       "dbook.std.4096                            0.975781            0.619195   \n",
       "dbook.volume.open.ratio.4096              0.805588            0.534200   \n",
       "total.trade.imb.trend.index.4096         -0.132519            0.124039   \n",
       "nr.trend.index.4096                      -0.111680           -0.032244   \n",
       "dbook.trend.index.4096                    0.795098            0.521927   \n",
       "range.pos.trend.index.4096               -0.230802           -0.051996   \n",
       "price.osci.trend.index.4096              -0.167070           -0.017351   \n",
       "kdj.k.trend.index.4096                   -0.193119            0.006726   \n",
       "kdj.j.trend.index.4096                   -0.223957           -0.025966   \n",
       "\n",
       "                                  dbook.std.4096  \\\n",
       "trade.imb.4096                          0.571292   \n",
       "total.trade.imb.4096                   -0.136751   \n",
       "nr.4096                                -0.123060   \n",
       "dbook.4096                              0.778186   \n",
       "price.osci.4096                        -0.185814   \n",
       "kdj.k.4096                             -0.209848   \n",
       "trade.imb.range.4096                    0.640744   \n",
       "dbook.range.4096                        0.975781   \n",
       "trade.imb.std.4096                      0.619195   \n",
       "dbook.std.4096                          1.000000   \n",
       "dbook.volume.open.ratio.4096            0.778044   \n",
       "total.trade.imb.trend.index.4096       -0.136205   \n",
       "nr.trend.index.4096                    -0.097074   \n",
       "dbook.trend.index.4096                  0.775656   \n",
       "range.pos.trend.index.4096             -0.232135   \n",
       "price.osci.trend.index.4096            -0.166839   \n",
       "kdj.k.trend.index.4096                 -0.199070   \n",
       "kdj.j.trend.index.4096                 -0.226662   \n",
       "\n",
       "                                  dbook.volume.open.ratio.4096  \\\n",
       "trade.imb.4096                                        0.650103   \n",
       "total.trade.imb.4096                                 -0.128027   \n",
       "nr.4096                                              -0.156052   \n",
       "dbook.4096                                            0.842478   \n",
       "price.osci.4096                                      -0.201135   \n",
       "kdj.k.4096                                           -0.190846   \n",
       "trade.imb.range.4096                                  0.575076   \n",
       "dbook.range.4096                                      0.805588   \n",
       "trade.imb.std.4096                                    0.534200   \n",
       "dbook.std.4096                                        0.778044   \n",
       "dbook.volume.open.ratio.4096                          1.000000   \n",
       "total.trade.imb.trend.index.4096                     -0.122556   \n",
       "nr.trend.index.4096                                  -0.132044   \n",
       "dbook.trend.index.4096                                0.775871   \n",
       "range.pos.trend.index.4096                           -0.224596   \n",
       "price.osci.trend.index.4096                          -0.164883   \n",
       "kdj.k.trend.index.4096                               -0.176781   \n",
       "kdj.j.trend.index.4096                               -0.213129   \n",
       "\n",
       "                                  total.trade.imb.trend.index.4096  \\\n",
       "trade.imb.4096                                            0.142710   \n",
       "total.trade.imb.4096                                      0.903278   \n",
       "nr.4096                                                   0.760568   \n",
       "dbook.4096                                               -0.109412   \n",
       "price.osci.4096                                           0.647968   \n",
       "kdj.k.4096                                                0.690796   \n",
       "trade.imb.range.4096                                      0.129139   \n",
       "dbook.range.4096                                         -0.132519   \n",
       "trade.imb.std.4096                                        0.124039   \n",
       "dbook.std.4096                                           -0.136205   \n",
       "dbook.volume.open.ratio.4096                             -0.122556   \n",
       "total.trade.imb.trend.index.4096                          1.000000   \n",
       "nr.trend.index.4096                                       0.825052   \n",
       "dbook.trend.index.4096                                   -0.142148   \n",
       "range.pos.trend.index.4096                                0.811548   \n",
       "price.osci.trend.index.4096                               0.737176   \n",
       "kdj.k.trend.index.4096                                    0.777829   \n",
       "kdj.j.trend.index.4096                                    0.773326   \n",
       "\n",
       "                                  nr.trend.index.4096  dbook.trend.index.4096  \\\n",
       "trade.imb.4096                               0.011471                0.645302   \n",
       "total.trade.imb.4096                         0.708499               -0.138345   \n",
       "nr.4096                                      0.888472               -0.146608   \n",
       "dbook.4096                                  -0.110418                0.851233   \n",
       "price.osci.4096                              0.645948               -0.198184   \n",
       "kdj.k.4096                                   0.707149               -0.195081   \n",
       "trade.imb.range.4096                        -0.013439                0.557730   \n",
       "dbook.range.4096                            -0.111680                0.795098   \n",
       "trade.imb.std.4096                          -0.032244                0.521927   \n",
       "dbook.std.4096                              -0.097074                0.775656   \n",
       "dbook.volume.open.ratio.4096                -0.132044                0.775871   \n",
       "total.trade.imb.trend.index.4096             0.825052               -0.142148   \n",
       "nr.trend.index.4096                          1.000000               -0.135222   \n",
       "dbook.trend.index.4096                      -0.135222                1.000000   \n",
       "range.pos.trend.index.4096                   0.803616               -0.266675   \n",
       "price.osci.trend.index.4096                  0.760612               -0.192348   \n",
       "kdj.k.trend.index.4096                       0.814557               -0.200916   \n",
       "kdj.j.trend.index.4096                       0.785350               -0.246803   \n",
       "\n",
       "                                  range.pos.trend.index.4096  \\\n",
       "trade.imb.4096                                     -0.060528   \n",
       "total.trade.imb.4096                                0.729047   \n",
       "nr.4096                                             0.751264   \n",
       "dbook.4096                                         -0.216497   \n",
       "price.osci.4096                                     0.724936   \n",
       "kdj.k.4096                                          0.782888   \n",
       "trade.imb.range.4096                               -0.056432   \n",
       "dbook.range.4096                                   -0.230802   \n",
       "trade.imb.std.4096                                 -0.051996   \n",
       "dbook.std.4096                                     -0.232135   \n",
       "dbook.volume.open.ratio.4096                       -0.224596   \n",
       "total.trade.imb.trend.index.4096                    0.811548   \n",
       "nr.trend.index.4096                                 0.803616   \n",
       "dbook.trend.index.4096                             -0.266675   \n",
       "range.pos.trend.index.4096                          1.000000   \n",
       "price.osci.trend.index.4096                         0.818586   \n",
       "kdj.k.trend.index.4096                              0.856563   \n",
       "kdj.j.trend.index.4096                              0.936577   \n",
       "\n",
       "                                  price.osci.trend.index.4096  \\\n",
       "trade.imb.4096                                      -0.044029   \n",
       "total.trade.imb.4096                                 0.667015   \n",
       "nr.4096                                              0.717780   \n",
       "dbook.4096                                          -0.162410   \n",
       "price.osci.4096                                      0.856754   \n",
       "kdj.k.4096                                           0.690291   \n",
       "trade.imb.range.4096                                -0.013610   \n",
       "dbook.range.4096                                    -0.167070   \n",
       "trade.imb.std.4096                                  -0.017351   \n",
       "dbook.std.4096                                      -0.166839   \n",
       "dbook.volume.open.ratio.4096                        -0.164883   \n",
       "total.trade.imb.trend.index.4096                     0.737176   \n",
       "nr.trend.index.4096                                  0.760612   \n",
       "dbook.trend.index.4096                              -0.192348   \n",
       "range.pos.trend.index.4096                           0.818586   \n",
       "price.osci.trend.index.4096                          1.000000   \n",
       "kdj.k.trend.index.4096                               0.763904   \n",
       "kdj.j.trend.index.4096                               0.771062   \n",
       "\n",
       "                                  kdj.k.trend.index.4096  \\\n",
       "trade.imb.4096                                  0.027138   \n",
       "total.trade.imb.4096                            0.668077   \n",
       "nr.4096                                         0.734560   \n",
       "dbook.4096                                     -0.153795   \n",
       "price.osci.4096                                 0.646559   \n",
       "kdj.k.4096                                      0.923447   \n",
       "trade.imb.range.4096                            0.012450   \n",
       "dbook.range.4096                               -0.193119   \n",
       "trade.imb.std.4096                              0.006726   \n",
       "dbook.std.4096                                 -0.199070   \n",
       "dbook.volume.open.ratio.4096                   -0.176781   \n",
       "total.trade.imb.trend.index.4096                0.777829   \n",
       "nr.trend.index.4096                             0.814557   \n",
       "dbook.trend.index.4096                         -0.200916   \n",
       "range.pos.trend.index.4096                      0.856563   \n",
       "price.osci.trend.index.4096                     0.763904   \n",
       "kdj.k.trend.index.4096                          1.000000   \n",
       "kdj.j.trend.index.4096                          0.941489   \n",
       "\n",
       "                                  kdj.j.trend.index.4096  \n",
       "trade.imb.4096                                 -0.027565  \n",
       "total.trade.imb.4096                            0.677334  \n",
       "nr.4096                                         0.715860  \n",
       "dbook.4096                                     -0.198090  \n",
       "price.osci.4096                                 0.663807  \n",
       "kdj.k.4096                                      0.866369  \n",
       "trade.imb.range.4096                           -0.027923  \n",
       "dbook.range.4096                               -0.223957  \n",
       "trade.imb.std.4096                             -0.025966  \n",
       "dbook.std.4096                                 -0.226662  \n",
       "dbook.volume.open.ratio.4096                   -0.213129  \n",
       "total.trade.imb.trend.index.4096                0.773326  \n",
       "nr.trend.index.4096                             0.785350  \n",
       "dbook.trend.index.4096                         -0.246803  \n",
       "range.pos.trend.index.4096                      0.936577  \n",
       "price.osci.trend.index.4096                     0.771062  \n",
       "kdj.k.trend.index.4096                          0.941489  \n",
       "kdj.j.trend.index.4096                          1.000000  "
      ]
     },
     "execution_count": 137,
     "metadata": {},
     "output_type": "execute_result"
    }
   ],
   "source": [
    "train_mat[good_index].corr()\n",
    "\n",
    "#  \tdbook.range.4096 \tkdj.k.trend.index.4096 \tkdj.j.abs.nr.4096\n",
    "# dbook.range.4096 \t1.000000 \t0.151582 \t0.178621\n",
    "# kdj.k.trend.index.4096 \t0.151582 \t1.000000 \t0.805130\n",
    "# kdj.j.abs.nr.4096 \t0.178621 \t0.805130 \t1.000000"
   ]
  },
  {
   "cell_type": "code",
   "execution_count": 138,
   "metadata": {},
   "outputs": [],
   "source": [
    "corr = train_mat[good_index].corr()"
   ]
  },
  {
   "cell_type": "code",
   "execution_count": 139,
   "metadata": {},
   "outputs": [
    {
     "data": {
      "image/png": "[encoded data removed]",
      "text/plain": [
       "<Figure size 1152x720 with 2 Axes>"
      ]
     },
     "metadata": {
      "needs_background": "light"
     },
     "output_type": "display_data"
    }
   ],
   "source": [
    "import seaborn as sns\n",
    "plt.figure(figsize=(16,10)) \n",
    "sns.heatmap(corr, xticklabels=corr.columns, yticklabels=corr.columns);"
   ]
  },
  {
   "cell_type": "markdown",
   "metadata": {},
   "source": [
    "- we can see that some of them has very high correlation\n",
    "\n",
    "- we can add each signal one by one to a model and check how the performance envolves"
   ]
  },
  {
   "cell_type": "code",
   "execution_count": 132,
   "metadata": {},
   "outputs": [
    {
     "data": {
      "text/plain": [
       "21"
      ]
     },
     "execution_count": 132,
     "metadata": {},
     "output_type": "execute_result"
    }
   ],
   "source": [
    "np.argmax(np.abs(t_stat))\n",
    "## [1] 21"
   ]
  },
  {
   "cell_type": "code",
   "execution_count": 133,
   "metadata": {},
   "outputs": [
    {
     "data": {
      "text/plain": [
       "'dbook.std.4096'"
      ]
     },
     "execution_count": 133,
     "metadata": {},
     "output_type": "execute_result"
    }
   ],
   "source": [
    "signal_list[np.argmax(np.abs(t_stat))]\n",
    "## 'dbook.std.4096'"
   ]
  },
  {
   "cell_type": "markdown",
   "metadata": {},
   "source": [
    "- the first signal is the signal dbook.std.4096\n",
    "\n",
    "\n",
    "- to select the second signal, we can use forward selction"
   ]
  },
  {
   "cell_type": "code",
   "execution_count": 23,
   "metadata": {},
   "outputs": [],
   "source": [
    "import statsmodels.formula.api as smf\n",
    "\n",
    "def forward_selected(data, response):\n",
    "    \"\"\"Linear model designed by forward selection.\n",
    "\n",
    "    Parameters:\n",
    "    -----------\n",
    "    data : pandas DataFrame with all possible predictors and response\n",
    "\n",
    "    response: string, name of response column in data\n",
    "\n",
    "    Returns:\n",
    "    --------\n",
    "    model: an \"optimal\" fitted statsmodels linear model\n",
    "           with an intercept\n",
    "           selected by forward selection\n",
    "           evaluated by adjusted R-squared\n",
    "    \"\"\"\n",
    "    remaining = set(data.columns)\n",
    "    remaining.remove(response)\n",
    "    selected = []\n",
    "    current_score, best_new_score = 0.0, 0.0\n",
    "    chosen_signals = []\n",
    "    while remaining and current_score == best_new_score:\n",
    "        scores_with_candidates = []\n",
    "        for candidate in remaining:\n",
    "            formula = \"{} ~ {} - 1\".format(\"data['\"+response+\"']\",\n",
    "                                           ' + '.join(selected + [\"data['\"+candidate+\"']\"]))\n",
    "            score = smf.ols(formula, data).fit().rsquared_adj\n",
    "            scores_with_candidates.append((score, candidate))\n",
    "        scores_with_candidates.sort()\n",
    "        best_new_score, best_candidate = scores_with_candidates.pop()\n",
    "        if current_score < best_new_score:\n",
    "            remaining.remove(best_candidate)\n",
    "            selected.append(\"data['\"+best_candidate+\"']\")\n",
    "            current_score = best_new_score\n",
    "            chosen_signals.append(best_candidate)\n",
    "    formula = \"{} ~ {} - 1\".format(\"data['\"+response+\"']\",\n",
    "                                   ' + '.join(selected))\n",
    "    model = smf.ols(formula, data).fit()\n",
    "    return OrderedDict([(\"model\", model), (\"chosen.signals\", chosen_signals)])"
   ]
  },
  {
   "cell_type": "code",
   "execution_count": 135,
   "metadata": {},
   "outputs": [],
   "source": [
    "result = forward_selected(train_mat[train_mat.columns[:-2]], \"ret.\"+str(period))"
   ]
  },
  {
   "cell_type": "code",
   "execution_count": 140,
   "metadata": {},
   "outputs": [],
   "source": [
    "save(result, HEAD_PATH+\"/all_forwatd_select.pkl\")"
   ]
  },
  {
   "cell_type": "code",
   "execution_count": 141,
   "metadata": {},
   "outputs": [
    {
     "name": "stdout",
     "output_type": "stream",
     "text": [
      "not in depth 2\n",
      "not in depth 3\n",
      "not in depth 1\n"
     ]
    }
   ],
   "source": [
    "result = load(HEAD_PATH+\"/all_forwatd_select.pkl\");"
   ]
  },
  {
   "cell_type": "code",
   "execution_count": 30,
   "metadata": {},
   "outputs": [
    {
     "data": {
      "text/plain": [
       "\"data['ret.4096'] ~ data['dbook.std.4096'] + data['price.osci.4096'] + data['range.pos.range.4096'] + data['kdj.k.trend.index.4096'] + data['ma.dif.10.range.4096'] + data['ma.dif.10.std.4096'] + data['ma.dif.10.volume.open.ratio.4096'] + data['range.pos.trend.index.4096'] + data['kdj.k.range.4096'] + data['kdj.k.4096'] + data['range.pos.4096'] + data['kdj.j.4096'] + data['kdj.j.range.4096'] + data['kdj.j.trend.index.4096'] + data['nr.std.4096'] + data['nr.4096'] + data['dbook.4096'] + data['dbook.volume.open.ratio.4096'] + data['nr.volume.open.ratio.4096'] - 1\""
      ]
     },
     "execution_count": 30,
     "metadata": {},
     "output_type": "execute_result"
    }
   ],
   "source": [
    "result[\"model\"].model.formula\n",
    "# \"data['ret.4096'] ~ data['dbook.std.4096'] + data['price.osci.4096'] + data['range.pos.range.4096'] + data['kdj.k.trend.index.4096'] + data['ma.dif.10.range.4096'] + data['ma.dif.10.std.4096'] + data['ma.dif.10.volume.open.ratio.4096'] + data['range.pos.trend.index.4096'] + data['kdj.k.range.4096'] + data['kdj.k.4096'] + data['range.pos.4096'] + data['kdj.j.4096'] + data['kdj.j.range.4096'] + data['kdj.j.trend.index.4096'] + data['nr.std.4096'] + data['nr.4096'] + data['dbook.4096'] + data['dbook.volume.open.ratio.4096'] + data['nr.volume.open.ratio.4096'] - 1\""
   ]
  },
  {
   "cell_type": "code",
   "execution_count": 142,
   "metadata": {},
   "outputs": [
    {
     "data": {
      "text/plain": [
       "['dbook.std.4096',\n",
       " 'price.osci.4096',\n",
       " 'range.pos.range.4096',\n",
       " 'kdj.k.trend.index.4096',\n",
       " 'ma.dif.10.range.4096',\n",
       " 'ma.dif.10.std.4096',\n",
       " 'ma.dif.10.volume.open.ratio.4096',\n",
       " 'range.pos.trend.index.4096',\n",
       " 'kdj.k.range.4096',\n",
       " 'kdj.k.4096',\n",
       " 'range.pos.4096',\n",
       " 'kdj.j.4096',\n",
       " 'kdj.j.range.4096',\n",
       " 'kdj.j.trend.index.4096',\n",
       " 'nr.std.4096',\n",
       " 'nr.4096',\n",
       " 'dbook.4096',\n",
       " 'dbook.volume.open.ratio.4096',\n",
       " 'nr.volume.open.ratio.4096']"
      ]
     },
     "execution_count": 142,
     "metadata": {},
     "output_type": "execute_result"
    }
   ],
   "source": [
    "result[\"chosen.signals\"]\n",
    "# ['dbook.std.4096',\n",
    "#  'price.osci.4096',\n",
    "#  'range.pos.range.4096',\n",
    "#  'kdj.k.trend.index.4096',\n",
    "#  'ma.dif.10.range.4096',\n",
    "#  'ma.dif.10.std.4096',\n",
    "#  'ma.dif.10.volume.open.ratio.4096',\n",
    "#  'range.pos.trend.index.4096',\n",
    "#  'kdj.k.range.4096',\n",
    "#  'kdj.k.4096',\n",
    "#  'range.pos.4096',\n",
    "#  'kdj.j.4096',\n",
    "#  'kdj.j.range.4096',\n",
    "#  'kdj.j.trend.index.4096',\n",
    "#  'nr.std.4096',\n",
    "#  'nr.4096',\n",
    "#  'dbook.4096',\n",
    "#  'dbook.volume.open.ratio.4096',\n",
    "#  'nr.volume.open.ratio.4096']"
   ]
  },
  {
   "cell_type": "markdown",
   "metadata": {},
   "source": [
    "- now we can check each model to see how the pnl evolves\n",
    "\n",
    "\n",
    "- we can also get the test signals\n",
    "\n",
    "\n",
    "- we can get the test samples first"
   ]
  },
  {
   "cell_type": "code",
   "execution_count": 31,
   "metadata": {},
   "outputs": [
    {
     "name": "stdout",
     "output_type": "stream",
     "text": [
      "Wall time: 1h 17min 36s\n"
     ]
    }
   ],
   "source": [
    "%%time\n",
    "for product in product_list:\n",
    "    daily_num = load(HEAD_PATH+\"/daily num/\"+product+\".pkl\")\n",
    "    test_mat = get_sample_signal(all_dates, test_sample, product, \n",
    "                                  np.append(signal_list, [\"ret.\"+str(period),  \"ret.\"+str(period)+\".001\",\"ret.\"+str(period)+\".002\"]), \n",
    "                                  period, daily_num)\n",
    "    os.makedirs(HEAD_PATH+\"/train test mat/\"+product, exist_ok=True)\n",
    "    save(test_mat, HEAD_PATH+\"/train test mat/\"+product+\".test.mat.pkl\")\n",
    "    \n",
    "## Wall time: 1h 17min 36s\n"
   ]
  },
  {
   "cell_type": "code",
   "execution_count": 27,
   "metadata": {},
   "outputs": [],
   "source": [
    "test_mat = load(HEAD_PATH+\"/train test mat/\"+product+\".test.mat.pkl\")"
   ]
  },
  {
   "cell_type": "markdown",
   "metadata": {},
   "source": [
    "- now let's fit the first model"
   ]
  },
  {
   "cell_type": "code",
   "execution_count": 74,
   "metadata": {},
   "outputs": [
    {
     "data": {
      "text/plain": [
       "\"train_mat['ret.4096'] ~ train_mat['dbook.std.4096']+0\""
      ]
     },
     "execution_count": 74,
     "metadata": {},
     "output_type": "execute_result"
    }
   ],
   "source": [
    "first_signal = \"dbook.std.\"+str(period)\n",
    "y_signal = \"ret.\"+str(period)\n",
    "formula = \"train_mat['\" + y_signal+\"'] ~ train_mat['\"+first_signal+\"']+0\"\n",
    "formula"
   ]
  },
  {
   "cell_type": "code",
   "execution_count": 66,
   "metadata": {},
   "outputs": [
    {
     "name": "stdout",
     "output_type": "stream",
     "text": [
      "                              OLS Regression Results                             \n",
      "=================================================================================\n",
      "Dep. Variable:     train_mat['ret.4096']   R-squared:                       0.002\n",
      "Model:                               OLS   Adj. R-squared:                  0.002\n",
      "Method:                    Least Squares   F-statistic:                     37.82\n",
      "Date:                   Thu, 17 Oct 2019   Prob (F-statistic):           7.91e-10\n",
      "Time:                           18:05:50   Log-Likelihood:                -28279.\n",
      "No. Observations:                  19935   AIC:                         5.656e+04\n",
      "Df Residuals:                      19934   BIC:                         5.657e+04\n",
      "Df Model:                              1                                         \n",
      "Covariance Type:               nonrobust                                         \n",
      "===============================================================================================\n",
      "                                  coef    std err          t      P>|t|      [0.025      0.975]\n",
      "-----------------------------------------------------------------------------------------------\n",
      "train_mat['dbook.std.4096']    -0.0426      0.007     -6.150      0.000      -0.056      -0.029\n",
      "==============================================================================\n",
      "Omnibus:                     2281.536   Durbin-Watson:                   1.973\n",
      "Prob(Omnibus):                  0.000   Jarque-Bera (JB):            20642.905\n",
      "Skew:                          -0.176   Prob(JB):                         0.00\n",
      "Kurtosis:                       7.973   Cond. No.                         1.00\n",
      "==============================================================================\n",
      "\n",
      "Warnings:\n",
      "[1] Standard Errors assume that the covariance matrix of the errors is correctly specified.\n"
     ]
    }
   ],
   "source": [
    "fit1_lm = smf.ols(formula=formula, data=train_mat[train_mat.columns[:-2]]).fit()\n",
    "print(fit1_lm.summary())\n",
    "#       OLS Regression Results                             \n",
    "# =================================================================================\n",
    "# Dep. Variable:     train_mat['ret.4096']   R-squared:                       0.002\n",
    "# Model:                               OLS   Adj. R-squared:                  0.002\n",
    "# Method:                    Least Squares   F-statistic:                     37.82\n",
    "# Date:                   Thu, 17 Oct 2019   Prob (F-statistic):           7.91e-10\n",
    "# Time:                           14:52:12   Log-Likelihood:                -28279.\n",
    "# No. Observations:                  19935   AIC:                         5.656e+04\n",
    "# Df Residuals:                      19934   BIC:                         5.657e+04\n",
    "# Df Model:                              1                                         \n",
    "# Covariance Type:               nonrobust                                         \n",
    "# ===============================================================================================\n",
    "#                                   coef    std err          t      P>|t|      [0.025      0.975]\n",
    "# -----------------------------------------------------------------------------------------------\n",
    "# train_mat['dbook.std.4096']    -0.0426      0.007     -6.150      0.000      -0.056      -0.029\n",
    "# ==============================================================================\n",
    "# Omnibus:                     2281.536   Durbin-Watson:                   1.973\n",
    "# Prob(Omnibus):                  0.000   Jarque-Bera (JB):            20642.905\n",
    "# Skew:                          -0.176   Prob(JB):                         0.00\n",
    "# Kurtosis:                       7.973   Cond. No.                         1.00\n",
    "# ==============================================================================\n",
    "\n",
    "# Warnings:\n",
    "# [1] Standard Errors assume that the covariance matrix of the errors is correctly specified."
   ]
  },
  {
   "cell_type": "markdown",
   "metadata": {},
   "source": [
    "- we can see that the single R-square is already 0.0005814431935065034\n",
    "\n",
    "\n",
    "- now we want to get the prediction value"
   ]
  },
  {
   "cell_type": "code",
   "execution_count": 38,
   "metadata": {},
   "outputs": [],
   "source": [
    "strat = \"one.\"+str(period)"
   ]
  },
  {
   "cell_type": "markdown",
   "metadata": {},
   "source": [
    "- create a directory for the first strate"
   ]
  },
  {
   "cell_type": "code",
   "execution_count": 88,
   "metadata": {},
   "outputs": [],
   "source": [
    "for product in product_list:\n",
    "    os.makedirs(HEAD_PATH+\"/tmp pkl/\"+product+\"/\"+strat, exist_ok=True)"
   ]
  },
  {
   "cell_type": "markdown",
   "metadata": {},
   "source": [
    "- we get the coefficiton of fit1.lm"
   ]
  },
  {
   "cell_type": "code",
   "execution_count": 93,
   "metadata": {
    "scrolled": true
   },
   "outputs": [
    {
     "data": {
      "text/plain": [
       "array([-0.04256225])"
      ]
     },
     "execution_count": 93,
     "metadata": {},
     "output_type": "execute_result"
    }
   ],
   "source": [
    "fit_coef = fit1_lm.params.values\n",
    "fit_coef\n",
    "# array([-0.04256225])\n",
    "\n"
   ]
  },
  {
   "cell_type": "markdown",
   "metadata": {},
   "source": [
    "- but since we have standardize the training samples before regrssion\n",
    "- we must revert the result to original scale"
   ]
  },
  {
   "cell_type": "code",
   "execution_count": 85,
   "metadata": {},
   "outputs": [],
   "source": [
    "train_std = dict([])\n",
    "for product in product_list:\n",
    "    cur_mat = load(HEAD_PATH+\"/train test mat/\"+product+\".train.mat.pkl\")\n",
    "    train_std[product] = np.std(cur_mat)"
   ]
  },
  {
   "cell_type": "code",
   "execution_count": 86,
   "metadata": {},
   "outputs": [
    {
     "data": {
      "text/plain": [
       "array([-0.00080093])"
      ]
     },
     "execution_count": 86,
     "metadata": {},
     "output_type": "execute_result"
    }
   ],
   "source": [
    "coef = fit_coef*train_std[product_list[0]][y_signal]/train_std[product_list[0]][first_signal]\n",
    "coef\n",
    "## array([-0.00080093])"
   ]
  },
  {
   "cell_type": "code",
   "execution_count": 89,
   "metadata": {},
   "outputs": [
    {
     "name": "stdout",
     "output_type": "stream",
     "text": [
      "Wall time: 7min 1s\n"
     ]
    }
   ],
   "source": [
    "%%time\n",
    "for product in product_list:\n",
    "    coef = fit_coef*train_std[product][y_signal]/train_std[product][first_signal]\n",
    "    parLapply(CORE_NUM, all_dates, get_daily_pred, \n",
    "              product=product, signal_list=[first_signal], coef=coef, strat=strat, HEAD_PATH=HEAD_PATH)\n",
    ";\n",
    "\n",
    "## Wall time: 7min 1s"
   ]
  },
  {
   "cell_type": "code",
   "execution_count": 23,
   "metadata": {},
   "outputs": [
    {
     "name": "stdout",
     "output_type": "stream",
     "text": [
      "Wall time: 13min 28s\n"
     ]
    }
   ],
   "source": [
    "%%time\n",
    "for product in product_list:\n",
    "    par_get_all_signal(\"one.4096\", all_dates, product, 4096, HEAD_PATH=\"d:/intern\")\n",
    "##Wall time: 13min 28s"
   ]
  },
  {
   "cell_type": "code",
   "execution_count": 25,
   "metadata": {},
   "outputs": [
    {
     "name": "stdout",
     "output_type": "stream",
     "text": [
      "reverse=1\n",
      "reverse=1\n",
      "reverse=1\n",
      "reverse=1\n",
      "reverse=1\n",
      "Wall time: 5min 33s\n"
     ]
    }
   ],
   "source": [
    "%%time\n",
    "for product in product_list:\n",
    "    spread = product_info[product][\"spread\"]\n",
    "    evaluate_signal(\"one\", all_dates, product, 2, 20, HEAD_PATH, \n",
    "                    CORE_NUM, period=4096, split_str=\"2018\", tranct=1.1e-4, \n",
    "                    max_spread=spread+0.1, tranct_ratio=True, atr_filter=20, save_path=\"signal result atr\",reverse=1)\n",
    "\n",
    "# reverse=1\n",
    "# reverse=1\n",
    "# reverse=1\n",
    "# reverse=1\n",
    "# reverse=1\n",
    "# Wall time: 5min 29s\n"
   ]
  },
  {
   "cell_type": "code",
   "execution_count": 33,
   "metadata": {},
   "outputs": [
    {
     "name": "stdout",
     "output_type": "stream",
     "text": [
      "rb train sharpe  1.9127232685752373 test sharpe  0.9584319255780096\n",
      "hc train sharpe  0.917633153232838 test sharpe  0.5104135402657566\n",
      "i train sharpe  0.45505617659901054 test sharpe  -0.7856742013183898\n",
      "j train sharpe  1.0118309783770423 test sharpe  0.01757407150728489\n",
      "jm train sharpe  1.2508863961989867 test sharpe  0.9674501096241781\n"
     ]
    }
   ],
   "source": [
    "for product in product_list:\n",
    "    spread = product_info[product][\"spread\"]\n",
    "    signal_stat = load(HEAD_PATH+\"/signal result atr/\"+product+\".\"+\"one.4096\"+\".trend.pkl\")\n",
    "    train_stat = signal_stat[\"train.stat\"]\n",
    "    good_strat = (train_stat[\"final.result\"][\"avg.pnl\"]>2*spread)\n",
    "    train_pnl = train_stat[\"daily.pnl\"].loc[:, good_strat].sum(axis=1)/sum(good_strat)\n",
    "    train_std = np.std(train_pnl)\n",
    "    train_pnl = train_pnl/train_std\n",
    "    test_stat = signal_stat[\"test.stat\"]\n",
    "    test_pnl = test_stat[\"daily.pnl\"].loc[:, good_strat].sum(axis=1)/sum(good_strat)/train_std\n",
    "    print(product, \"train sharpe \", sharpe(train_pnl), \"test sharpe \", sharpe(test_pnl))\n",
    "\n",
    "# rb train sharpe  1.9127232685752373 test sharpe  0.9584319255780096\n",
    "# hc train sharpe  0.917633153232838 test sharpe  0.5104135402657566\n",
    "# i train sharpe  0.45505617659901054 test sharpe  -0.7856742013183898\n",
    "# j train sharpe  1.0118309783770423 test sharpe  0.01757407150728489\n",
    "# jm train sharpe  1.2508863961989867 test sharpe  0.9674501096241781\n"
   ]
  },
  {
   "cell_type": "code",
   "execution_count": 134,
   "metadata": {},
   "outputs": [
    {
     "data": {
      "text/plain": [
       "15"
      ]
     },
     "execution_count": 134,
     "metadata": {},
     "output_type": "execute_result"
    }
   ],
   "source": [
    "len(result[\"chosen.signals\"])"
   ]
  },
  {
   "cell_type": "markdown",
   "metadata": {},
   "source": [
    "- then we work similar to previous common signals"
   ]
  },
  {
   "cell_type": "markdown",
   "metadata": {},
   "source": [
    "- now we try to add a few new signal"
   ]
  },
  {
   "cell_type": "code",
   "execution_count": 63,
   "metadata": {},
   "outputs": [
    {
     "data": {
      "text/plain": [
       "\"train_mat['ret.4096'] ~ +train_mat['dbook.std.4096']+train_mat['price.osci.4096']+train_mat['range.pos.range.4096']+train_mat['kdj.k.trend.index.4096']+train_mat['ma.dif.10.range.4096']+train_mat['ma.dif.10.std.4096']+train_mat['ma.dif.10.volume.open.ratio.4096']+train_mat['range.pos.trend.index.4096']+train_mat['kdj.k.range.4096']+train_mat['kdj.k.4096']+0\""
      ]
     },
     "execution_count": 63,
     "metadata": {},
     "output_type": "execute_result"
    }
   ],
   "source": [
    "y_signal = \"ret.\"+str(period)\n",
    "formula = \"train_mat['\" + y_signal+\"'] ~ \"\n",
    "n_signal = 10\n",
    "for signal in result[\"chosen.signals\"][:n_signal]:\n",
    "    formula = formula+\"+train_mat['\"+signal+\"']\"\n",
    "formula+=\"+0\"\n",
    "formula\n",
    "\n",
    "#\"train_mat['ret.4096'] ~ +train_mat['dbook.std.4096']+train_mat['price.osci.4096']+train_mat['range.pos.range.4096']+train_mat['kdj.k.trend.index.4096']+train_mat['ma.dif.10.range.4096']+train_mat['ma.dif.10.std.4096']+train_mat['ma.dif.10.volume.open.ratio.4096']+train_mat['range.pos.trend.index.4096']+train_mat['kdj.k.range.4096']+train_mat['kdj.k.4096']+0\""
   ]
  },
  {
   "cell_type": "code",
   "execution_count": 65,
   "metadata": {},
   "outputs": [
    {
     "name": "stdout",
     "output_type": "stream",
     "text": [
      "                              OLS Regression Results                             \n",
      "=================================================================================\n",
      "Dep. Variable:     train_mat['ret.4096']   R-squared:                       0.007\n",
      "Model:                               OLS   Adj. R-squared:                  0.006\n",
      "Method:                    Least Squares   F-statistic:                     13.26\n",
      "Date:                   Fri, 18 Oct 2019   Prob (F-statistic):           1.65e-23\n",
      "Time:                           16:52:45   Log-Likelihood:                -28231.\n",
      "No. Observations:                  19935   AIC:                         5.648e+04\n",
      "Df Residuals:                      19925   BIC:                         5.656e+04\n",
      "Df Model:                             10                                         \n",
      "Covariance Type:               nonrobust                                         \n",
      "=================================================================================================================\n",
      "                                                    coef    std err          t      P>|t|      [0.025      0.975]\n",
      "-----------------------------------------------------------------------------------------------------------------\n",
      "train_mat['dbook.std.4096']                      -0.0448      0.007     -6.149      0.000      -0.059      -0.031\n",
      "train_mat['price.osci.4096']                      0.0440      0.011      3.866      0.000       0.022       0.066\n",
      "train_mat['range.pos.range.4096']                -0.1203      0.020     -5.962      0.000      -0.160      -0.081\n",
      "train_mat['kdj.k.trend.index.4096']               0.0284      0.026      1.072      0.284      -0.024       0.080\n",
      "train_mat['ma.dif.10.range.4096']                 0.1107      0.031      3.577      0.000       0.050       0.171\n",
      "train_mat['ma.dif.10.std.4096']                  -0.0820      0.028     -2.964      0.003      -0.136      -0.028\n",
      "train_mat['ma.dif.10.volume.open.ratio.4096']    -0.0376      0.014     -2.769      0.006      -0.064      -0.011\n",
      "train_mat['range.pos.trend.index.4096']           0.0514      0.022      2.305      0.021       0.008       0.095\n",
      "train_mat['kdj.k.range.4096']                     0.0526      0.025      2.116      0.034       0.004       0.101\n",
      "train_mat['kdj.k.4096']                          -0.0375      0.023     -1.640      0.101      -0.082       0.007\n",
      "==============================================================================\n",
      "Omnibus:                     2240.756   Durbin-Watson:                   1.999\n",
      "Prob(Omnibus):                  0.000   Jarque-Bera (JB):            19972.685\n",
      "Skew:                          -0.164   Prob(JB):                         0.00\n",
      "Kurtosis:                       7.893   Cond. No.                         14.5\n",
      "==============================================================================\n",
      "\n",
      "Warnings:\n",
      "[1] Standard Errors assume that the covariance matrix of the errors is correctly specified.\n"
     ]
    }
   ],
   "source": [
    "fit_half_lm  = smf.ols(formula=formula, data=train_mat[train_mat.columns[:-2]]).fit()\n",
    "print(fit_half_lm.summary())\n",
    "\n",
    "#       OLS Regression Results                             \n",
    "# =================================================================================\n",
    "# Dep. Variable:     train_mat['ret.4096']   R-squared:                       0.007\n",
    "# Model:                               OLS   Adj. R-squared:                  0.006\n",
    "# Method:                    Least Squares   F-statistic:                     13.26\n",
    "# Date:                   Fri, 18 Oct 2019   Prob (F-statistic):           1.65e-23\n",
    "# Time:                           16:52:45   Log-Likelihood:                -28231.\n",
    "# No. Observations:                  19935   AIC:                         5.648e+04\n",
    "# Df Residuals:                      19925   BIC:                         5.656e+04\n",
    "# Df Model:                             10                                         \n",
    "# Covariance Type:               nonrobust                                         \n",
    "# =================================================================================================================\n",
    "#                                                     coef    std err          t      P>|t|      [0.025      0.975]\n",
    "# -----------------------------------------------------------------------------------------------------------------\n",
    "# train_mat['dbook.std.4096']                      -0.0448      0.007     -6.149      0.000      -0.059      -0.031\n",
    "# train_mat['price.osci.4096']                      0.0440      0.011      3.866      0.000       0.022       0.066\n",
    "# train_mat['range.pos.range.4096']                -0.1203      0.020     -5.962      0.000      -0.160      -0.081\n",
    "# train_mat['kdj.k.trend.index.4096']               0.0284      0.026      1.072      0.284      -0.024       0.080\n",
    "# train_mat['ma.dif.10.range.4096']                 0.1107      0.031      3.577      0.000       0.050       0.171\n",
    "# train_mat['ma.dif.10.std.4096']                  -0.0820      0.028     -2.964      0.003      -0.136      -0.028\n",
    "# train_mat['ma.dif.10.volume.open.ratio.4096']    -0.0376      0.014     -2.769      0.006      -0.064      -0.011\n",
    "# train_mat['range.pos.trend.index.4096']           0.0514      0.022      2.305      0.021       0.008       0.095\n",
    "# train_mat['kdj.k.range.4096']                     0.0526      0.025      2.116      0.034       0.004       0.101\n",
    "# train_mat['kdj.k.4096']                          -0.0375      0.023     -1.640      0.101      -0.082       0.007\n",
    "# ==============================================================================\n",
    "# Omnibus:                     2240.756   Durbin-Watson:                   1.999\n",
    "# Prob(Omnibus):                  0.000   Jarque-Bera (JB):            19972.685\n",
    "# Skew:                          -0.164   Prob(JB):                         0.00\n",
    "# Kurtosis:                       7.893   Cond. No.                         14.5\n",
    "# ==============================================================================\n",
    "\n",
    "# Warnings:\n",
    "# [1] Standard Errors assume that the covariance matrix of the errors is correctly specified."
   ]
  },
  {
   "cell_type": "code",
   "execution_count": 68,
   "metadata": {},
   "outputs": [
    {
     "data": {
      "text/plain": [
       "array([-0.04480095,  0.04400857, -0.12030828,  0.02839326,  0.11074066,\n",
       "       -0.08197656, -0.03762745,  0.05138238,  0.05260907, -0.03749734])"
      ]
     },
     "execution_count": 68,
     "metadata": {},
     "output_type": "execute_result"
    }
   ],
   "source": [
    "strat = \"half.\"+str(period)\n",
    "os.makedirs(HEAD_PATH+\"/tmp pkl/\"+product+\"/\"+strat, exist_ok=True)\n",
    "fit_coef = fit_half_lm.params.values\n",
    "fit_coef\n",
    "#array([-0.04480095,  0.04400857, -0.12030828,  0.02839326,  0.11074066,\n",
    "#       -0.08197656, -0.03762745,  0.05138238,  0.05260907, -0.03749734])"
   ]
  },
  {
   "cell_type": "code",
   "execution_count": 38,
   "metadata": {},
   "outputs": [],
   "source": [
    "train_std_mat = dict([])\n",
    "for product in product_list:\n",
    "    cur_mat = load(HEAD_PATH+\"/train test mat/\"+product+\".train.mat.pkl\")\n",
    "    train_std_mat[product] = np.std(cur_mat)"
   ]
  },
  {
   "cell_type": "code",
   "execution_count": 91,
   "metadata": {},
   "outputs": [],
   "source": [
    "for product in product_list:\n",
    "    os.makedirs(HEAD_PATH+\"/tmp pkl/\"+product+\"/\"+strat, exist_ok=True)"
   ]
  },
  {
   "cell_type": "code",
   "execution_count": 92,
   "metadata": {},
   "outputs": [
    {
     "name": "stdout",
     "output_type": "stream",
     "text": [
      "Wall time: 25min 16s\n"
     ]
    }
   ],
   "source": [
    "%%time\n",
    "for product in product_list:\n",
    "    coef = fit_coef*train_std_mat[product][y_signal]/train_std_mat[product][result[\"chosen.signals\"][:10]]\n",
    "    parLapply(CORE_NUM, all_dates, get_daily_pred, \n",
    "              product=product, signal_list=result[\"chosen.signals\"][:10], coef=coef, strat=strat, HEAD_PATH=HEAD_PATH)\n",
    ";\n",
    "#Wall time: 25min 16s\n"
   ]
  },
  {
   "cell_type": "code",
   "execution_count": 94,
   "metadata": {},
   "outputs": [
    {
     "name": "stdout",
     "output_type": "stream",
     "text": [
      "Wall time: 13min 25s\n"
     ]
    }
   ],
   "source": [
    "%%time\n",
    "for product in product_list:\n",
    "    par_get_all_signal(\"half.4096\", all_dates, product, 4096, HEAD_PATH=\"d:/intern\")\n",
    "##Wall time: 13min 28s"
   ]
  },
  {
   "cell_type": "code",
   "execution_count": 95,
   "metadata": {},
   "outputs": [
    {
     "name": "stdout",
     "output_type": "stream",
     "text": [
      "reverse=1\n",
      "reverse=1\n",
      "reverse=1\n",
      "reverse=1\n",
      "reverse=1\n",
      "Wall time: 5min 11s\n"
     ]
    }
   ],
   "source": [
    "%%time\n",
    "for product in product_list:\n",
    "    spread = product_info[product][\"spread\"]\n",
    "    evaluate_signal(\"half\", all_dates, product, 2, 20, HEAD_PATH, \n",
    "                    CORE_NUM, period=4096, split_str=\"2018\", tranct=1.1e-4, \n",
    "                    max_spread=spread+0.1, tranct_ratio=True, atr_filter=20, save_path=\"signal result atr\",reverse=1)"
   ]
  },
  {
   "cell_type": "code",
   "execution_count": 152,
   "metadata": {},
   "outputs": [
    {
     "name": "stdout",
     "output_type": "stream",
     "text": [
      "rb train sharpe  1.5087587260185147 test sharpe  0.5435115989362888\n",
      "hc train sharpe  1.3163668002045286 test sharpe  0.43393342334925783\n",
      "i train sharpe  1.149040743970226 test sharpe  -0.5492190956631218\n",
      "j train sharpe  1.0612819393874031 test sharpe  1.083466412606586\n",
      "jm train sharpe  1.3330174025222248 test sharpe  1.2884672527364454\n"
     ]
    }
   ],
   "source": [
    "for product in product_list:\n",
    "    spread = product_info[product][\"spread\"]\n",
    "    signal_stat = load(HEAD_PATH+\"/signal result atr/\"+product+\".\"+\"half.4096\"+\".trend.pkl\")\n",
    "    train_stat = signal_stat[\"train.stat\"]\n",
    "    good_strat = (train_stat[\"final.result\"][\"avg.pnl\"]>2*spread)\n",
    "    train_pnl = train_stat[\"daily.pnl\"].loc[:, good_strat].sum(axis=1)/sum(good_strat)\n",
    "    train_std = np.std(train_pnl)\n",
    "    train_pnl = train_pnl/train_std\n",
    "    test_stat = signal_stat[\"test.stat\"]\n",
    "    test_pnl = test_stat[\"daily.pnl\"].loc[:, good_strat].sum(axis=1)/sum(good_strat)/train_std\n",
    "    print(product, \"train sharpe \", sharpe(train_pnl), \"test sharpe \", sharpe(test_pnl))\n",
    "\n",
    "# rb train sharpe  1.5087587260185147 test sharpe  0.5435115989362888\n",
    "# hc train sharpe  1.3163668002045286 test sharpe  0.43393342334925783\n",
    "# i train sharpe  1.149040743970226 test sharpe  -0.5492190956631218\n",
    "# j train sharpe  1.0612819393874031 test sharpe  1.083466412606586\n",
    "# jm train sharpe  1.3330174025222248 test sharpe  1.2884672527364454\n",
    "\n"
   ]
  },
  {
   "cell_type": "code",
   "execution_count": 34,
   "metadata": {},
   "outputs": [
    {
     "data": {
      "text/plain": [
       "\"train_mat['ret.4096'] ~ +train_mat['dbook.std.4096']+train_mat['price.osci.4096']+train_mat['range.pos.range.4096']+train_mat['kdj.k.trend.index.4096']+train_mat['ma.dif.10.range.4096']+train_mat['ma.dif.10.std.4096']+train_mat['ma.dif.10.volume.open.ratio.4096']+train_mat['range.pos.trend.index.4096']+train_mat['kdj.k.range.4096']+train_mat['kdj.k.4096']+train_mat['range.pos.4096']+train_mat['kdj.j.4096']+train_mat['kdj.j.range.4096']+train_mat['kdj.j.trend.index.4096']+train_mat['nr.std.4096']+train_mat['nr.4096']+train_mat['dbook.4096']+train_mat['dbook.volume.open.ratio.4096']+train_mat['nr.volume.open.ratio.4096']+0\""
      ]
     },
     "execution_count": 34,
     "metadata": {},
     "output_type": "execute_result"
    }
   ],
   "source": [
    "y_signal = \"ret.\"+str(period)\n",
    "formula = \"train_mat['\" + y_signal+\"'] ~ \"\n",
    "for signal in result[\"chosen.signals\"]:\n",
    "    formula = formula+\"+train_mat['\"+signal+\"']\"\n",
    "formula+=\"+0\"\n",
    "formula\n",
    "\n",
    "#\"train_mat['ret.4096'] ~ +train_mat['dbook.std.4096']+train_mat['price.osci.4096']+train_mat['range.pos.range.4096']+train_mat['kdj.k.trend.index.4096']+train_mat['ma.dif.10.range.4096']+train_mat['ma.dif.10.std.4096']+train_mat['ma.dif.10.volume.open.ratio.4096']+train_mat['range.pos.trend.index.4096']+train_mat['kdj.k.range.4096']+train_mat['kdj.k.4096']+train_mat['range.pos.4096']+train_mat['kdj.j.4096']+train_mat['kdj.j.range.4096']+train_mat['kdj.j.trend.index.4096']+train_mat['nr.std.4096']+train_mat['nr.4096']+train_mat['dbook.4096']+train_mat['dbook.volume.open.ratio.4096']+train_mat['nr.volume.open.ratio.4096']+0\""
   ]
  },
  {
   "cell_type": "markdown",
   "metadata": {},
   "source": [
    "- now we look at the full model"
   ]
  },
  {
   "cell_type": "code",
   "execution_count": 35,
   "metadata": {},
   "outputs": [
    {
     "name": "stdout",
     "output_type": "stream",
     "text": [
      "                              OLS Regression Results                             \n",
      "=================================================================================\n",
      "Dep. Variable:     train_mat['ret.4096']   R-squared:                       0.008\n",
      "Model:                               OLS   Adj. R-squared:                  0.008\n",
      "Method:                    Least Squares   F-statistic:                     8.982\n",
      "Date:                   Fri, 18 Oct 2019   Prob (F-statistic):           2.83e-26\n",
      "Time:                           23:27:39   Log-Likelihood:                -28212.\n",
      "No. Observations:                  19935   AIC:                         5.646e+04\n",
      "Df Residuals:                      19916   BIC:                         5.661e+04\n",
      "Df Model:                             19                                         \n",
      "Covariance Type:               nonrobust                                         \n",
      "=================================================================================================================\n",
      "                                                    coef    std err          t      P>|t|      [0.025      0.975]\n",
      "-----------------------------------------------------------------------------------------------------------------\n",
      "train_mat['dbook.std.4096']                      -0.0488      0.013     -3.874      0.000      -0.073      -0.024\n",
      "train_mat['price.osci.4096']                      0.0278      0.014      1.964      0.050    4.98e-05       0.055\n",
      "train_mat['range.pos.range.4096']                -0.2295      0.036     -6.299      0.000      -0.301      -0.158\n",
      "train_mat['kdj.k.trend.index.4096']               0.0172      0.043      0.397      0.691      -0.068       0.102\n",
      "train_mat['ma.dif.10.range.4096']                 0.1275      0.032      4.040      0.000       0.066       0.189\n",
      "train_mat['ma.dif.10.std.4096']                  -0.0993      0.032     -3.108      0.002      -0.162      -0.037\n",
      "train_mat['ma.dif.10.volume.open.ratio.4096']    -0.0612      0.021     -2.891      0.004      -0.103      -0.020\n",
      "train_mat['range.pos.trend.index.4096']          -0.0608      0.041     -1.499      0.134      -0.140       0.019\n",
      "train_mat['kdj.k.range.4096']                     0.0007      0.039      0.019      0.985      -0.076       0.078\n",
      "train_mat['kdj.k.4096']                           0.0084      0.039      0.215      0.829      -0.068       0.085\n",
      "train_mat['range.pos.4096']                       0.2236      0.043      5.197      0.000       0.139       0.308\n",
      "train_mat['kdj.j.4096']                          -0.2196      0.052     -4.190      0.000      -0.322      -0.117\n",
      "train_mat['kdj.j.range.4096']                     0.1380      0.054      2.554      0.011       0.032       0.244\n",
      "train_mat['kdj.j.trend.index.4096']               0.1233      0.060      2.073      0.038       0.007       0.240\n",
      "train_mat['nr.std.4096']                          0.0273      0.017      1.571      0.116      -0.007       0.061\n",
      "train_mat['nr.4096']                             -0.0443      0.018     -2.444      0.015      -0.080      -0.009\n",
      "train_mat['dbook.4096']                           0.0354      0.014      2.443      0.015       0.007       0.064\n",
      "train_mat['dbook.volume.open.ratio.4096']        -0.0306      0.014     -2.145      0.032      -0.059      -0.003\n",
      "train_mat['nr.volume.open.ratio.4096']            0.0286      0.021      1.341      0.180      -0.013       0.070\n",
      "==============================================================================\n",
      "Omnibus:                     2199.699   Durbin-Watson:                   2.001\n",
      "Prob(Omnibus):                  0.000   Jarque-Bera (JB):            19277.202\n",
      "Skew:                          -0.152   Prob(JB):                         0.00\n",
      "Kurtosis:                       7.808   Cond. No.                         43.4\n",
      "==============================================================================\n",
      "\n",
      "Warnings:\n",
      "[1] Standard Errors assume that the covariance matrix of the errors is correctly specified.\n"
     ]
    }
   ],
   "source": [
    "fit_full_lm  = smf.ols(formula=formula, data=train_mat[train_mat.columns[:-2]]).fit()\n",
    "print(fit_full_lm.summary())\n",
    "#                               OLS Regression Results                             \n",
    "# =================================================================================\n",
    "# Dep. Variable:     train_mat['ret.4096']   R-squared:                       0.008\n",
    "# Model:                               OLS   Adj. R-squared:                  0.008\n",
    "# Method:                    Least Squares   F-statistic:                     8.982\n",
    "# Date:                   Fri, 18 Oct 2019   Prob (F-statistic):           2.83e-26\n",
    "# Time:                           22:59:34   Log-Likelihood:                -28212.\n",
    "# No. Observations:                  19935   AIC:                         5.646e+04\n",
    "# Df Residuals:                      19916   BIC:                         5.661e+04\n",
    "# Df Model:                             19                                         \n",
    "# Covariance Type:               nonrobust                                         \n",
    "# =================================================================================================================\n",
    "#                                                     coef    std err          t      P>|t|      [0.025      0.975]\n",
    "# -----------------------------------------------------------------------------------------------------------------\n",
    "# train_mat['dbook.std.4096']                      -0.0488      0.013     -3.874      0.000      -0.073      -0.024\n",
    "# train_mat['price.osci.4096']                      0.0278      0.014      1.964      0.050    4.98e-05       0.055\n",
    "# train_mat['range.pos.range.4096']                -0.2295      0.036     -6.299      0.000      -0.301      -0.158\n",
    "# train_mat['kdj.k.trend.index.4096']               0.0172      0.043      0.397      0.691      -0.068       0.102\n",
    "# train_mat['ma.dif.10.range.4096']                 0.1275      0.032      4.040      0.000       0.066       0.189\n",
    "# train_mat['ma.dif.10.std.4096']                  -0.0993      0.032     -3.108      0.002      -0.162      -0.037\n",
    "# train_mat['ma.dif.10.volume.open.ratio.4096']    -0.0612      0.021     -2.891      0.004      -0.103      -0.020\n",
    "# train_mat['range.pos.trend.index.4096']          -0.0608      0.041     -1.499      0.134      -0.140       0.019\n",
    "# train_mat['kdj.k.range.4096']                     0.0007      0.039      0.019      0.985      -0.076       0.078\n",
    "# train_mat['kdj.k.4096']                           0.0084      0.039      0.215      0.829      -0.068       0.085\n",
    "# train_mat['range.pos.4096']                       0.2236      0.043      5.197      0.000       0.139       0.308\n",
    "# train_mat['kdj.j.4096']                          -0.2196      0.052     -4.190      0.000      -0.322      -0.117\n",
    "# train_mat['kdj.j.range.4096']                     0.1380      0.054      2.554      0.011       0.032       0.244\n",
    "# train_mat['kdj.j.trend.index.4096']               0.1233      0.060      2.073      0.038       0.007       0.240\n",
    "# train_mat['nr.std.4096']                          0.0273      0.017      1.571      0.116      -0.007       0.061\n",
    "# train_mat['nr.4096']                             -0.0443      0.018     -2.444      0.015      -0.080      -0.009\n",
    "# train_mat['dbook.4096']                           0.0354      0.014      2.443      0.015       0.007       0.064\n",
    "# train_mat['dbook.volume.open.ratio.4096']        -0.0306      0.014     -2.145      0.032      -0.059      -0.003\n",
    "# train_mat['nr.volume.open.ratio.4096']            0.0286      0.021      1.341      0.180      -0.013       0.070\n",
    "# ==============================================================================\n",
    "# Omnibus:                     2199.699   Durbin-Watson:                   2.001\n",
    "# Prob(Omnibus):                  0.000   Jarque-Bera (JB):            19277.202\n",
    "# Skew:                          -0.152   Prob(JB):                         0.00\n",
    "# Kurtosis:                       7.808   Cond. No.                         43.4\n",
    "# ==============================================================================\n",
    "\n",
    "# Warnings:\n",
    "# [1] Standard Errors assume that the covariance matrix of the errors is correctly specified.\n",
    "\n",
    "# ​"
   ]
  },
  {
   "cell_type": "code",
   "execution_count": 40,
   "metadata": {},
   "outputs": [
    {
     "data": {
      "text/plain": [
       "array([-0.04878916,  0.02776062, -0.22951796,  0.01722934,  0.12753776,\n",
       "       -0.09930048, -0.06124559, -0.06082973,  0.00073911,  0.00839828,\n",
       "        0.22356773, -0.21961847,  0.13803354,  0.12332368,  0.02732981,\n",
       "       -0.04428479,  0.03536779, -0.03061114,  0.02861395])"
      ]
     },
     "execution_count": 40,
     "metadata": {},
     "output_type": "execute_result"
    }
   ],
   "source": [
    "strat = \"full.\"+str(period)\n",
    "os.makedirs(HEAD_PATH+\"/tmp pkl/\"+product+\"/\"+strat, exist_ok=True)\n",
    "fit_coef = fit_full_lm.params.values\n",
    "fit_coef\n",
    "# array([-0.04878916,  0.02776062, -0.22951796,  0.01722934,  0.12753776,\n",
    "#        -0.09930048, -0.06124559, -0.06082973,  0.00073911,  0.00839828,\n",
    "#         0.22356773, -0.21961847,  0.13803354,  0.12332368,  0.02732981,\n",
    "#        -0.04428479,  0.03536779, -0.03061114,  0.02861395])"
   ]
  },
  {
   "cell_type": "code",
   "execution_count": 107,
   "metadata": {},
   "outputs": [],
   "source": [
    "for product in product_list:\n",
    "    os.makedirs(HEAD_PATH+\"/tmp pkl/\"+product+\"/\"+strat, exist_ok=True)"
   ]
  },
  {
   "cell_type": "code",
   "execution_count": 41,
   "metadata": {},
   "outputs": [
    {
     "name": "stdout",
     "output_type": "stream",
     "text": [
      "rb\n",
      "hc\n",
      "i\n",
      "j\n",
      "jm\n",
      "Wall time: 1h 2min 20s\n"
     ]
    }
   ],
   "source": [
    "%%time\n",
    "for product in product_list:\n",
    "    print(product)\n",
    "    coef = fit_coef*train_std_mat[product][y_signal]/train_std_mat[product][result[\"chosen.signals\"]]\n",
    "    parLapply(CORE_NUM, all_dates, get_daily_pred, \n",
    "              product=product, signal_list=result[\"chosen.signals\"], coef=coef, strat=\"full.4096\", HEAD_PATH=HEAD_PATH)\n",
    "    \n",
    "# rb\n",
    "# hc\n",
    "# i\n",
    "# j\n",
    "# jm\n",
    "# Wall time: 1h 2min 20s"
   ]
  },
  {
   "cell_type": "code",
   "execution_count": 42,
   "metadata": {},
   "outputs": [
    {
     "name": "stdout",
     "output_type": "stream",
     "text": [
      "Wall time: 13min 40s\n"
     ]
    }
   ],
   "source": [
    "%%time\n",
    "for product in product_list:\n",
    "    par_get_all_signal(\"full.4096\", all_dates, product, 4096, HEAD_PATH=\"d:/intern\")\n",
    "##Wall time: 13min 28s"
   ]
  },
  {
   "cell_type": "code",
   "execution_count": 43,
   "metadata": {},
   "outputs": [
    {
     "name": "stdout",
     "output_type": "stream",
     "text": [
      "reverse=1\n",
      "reverse=1\n",
      "reverse=1\n",
      "reverse=1\n",
      "reverse=1\n",
      "Wall time: 4min 44s\n"
     ]
    }
   ],
   "source": [
    "%%time\n",
    "for product in product_list:\n",
    "    spread = product_info[product][\"spread\"]\n",
    "    evaluate_signal(\"full\", all_dates, product, 2, 20, HEAD_PATH, \n",
    "                    CORE_NUM, period=4096, split_str=\"2018\", tranct=1.1e-4, \n",
    "                    max_spread=spread+0.1, tranct_ratio=True, atr_filter=20, save_path=\"signal result atr\",reverse=1)\n",
    "# reverse=1\n",
    "# reverse=1\n",
    "# reverse=1\n",
    "# reverse=1\n",
    "# reverse=1\n",
    "# Wall time: 4min 44s\n"
   ]
  },
  {
   "cell_type": "code",
   "execution_count": 44,
   "metadata": {},
   "outputs": [
    {
     "name": "stdout",
     "output_type": "stream",
     "text": [
      "rb train sharpe  1.704618814398022 test sharpe  0.6365400917490537\n",
      "hc train sharpe  1.456652408617159 test sharpe  -0.31265191226212263\n",
      "i train sharpe  1.1726148281676756 test sharpe  -0.2389617502474381\n",
      "j train sharpe  1.418748107108979 test sharpe  0.19663675769340597\n",
      "jm train sharpe  1.039996018429806 test sharpe  1.5959995793218809\n"
     ]
    }
   ],
   "source": [
    "for product in product_list:\n",
    "    spread = product_info[product][\"spread\"]\n",
    "    signal_stat = load(HEAD_PATH+\"/signal result atr/\"+product+\".\"+\"full.4096\"+\".trend.pkl\")\n",
    "    train_stat = signal_stat[\"train.stat\"]\n",
    "    good_strat = (train_stat[\"final.result\"][\"avg.pnl\"]>2*spread)\n",
    "    train_pnl = train_stat[\"daily.pnl\"].loc[:, good_strat].sum(axis=1)/sum(good_strat)\n",
    "    train_std = np.std(train_pnl)\n",
    "    train_pnl = train_pnl/train_std\n",
    "    test_stat = signal_stat[\"test.stat\"]\n",
    "    test_pnl = test_stat[\"daily.pnl\"].loc[:, good_strat].sum(axis=1)/sum(good_strat)/train_std\n",
    "    print(product, \"train sharpe \", sharpe(train_pnl), \"test sharpe \", sharpe(test_pnl))\n",
    "\n",
    "# rb train sharpe  1.704618814398022 test sharpe  0.6365400917490537\n",
    "# hc train sharpe  1.456652408617159 test sharpe  -0.31265191226212263\n",
    "# i train sharpe  1.1726148281676756 test sharpe  -0.2389617502474381\n",
    "# j train sharpe  1.418748107108979 test sharpe  0.19663675769340597\n",
    "# jm train sharpe  1.039996018429806 test sharpe  1.5959995793218809\n"
   ]
  },
  {
   "cell_type": "code",
   "execution_count": 46,
   "metadata": {},
   "outputs": [
    {
     "data": {
      "text/plain": [
       "Index(['nr.4096', 'dbook.4096', 'range.pos.4096', 'ma.dif.10.4096',\n",
       "       'kdj.k.4096', 'kdj.j.4096', 'nr.std.4096', 'dbook.std.4096',\n",
       "       'range.pos.std.4096', 'ma.dif.10.std.4096', 'kdj.k.std.4096',\n",
       "       'kdj.j.std.4096', 'nr.range.4096', 'dbook.range.4096',\n",
       "       'ma.dif.10.range.4096', 'kdj.k.range.4096', 'kdj.j.range.4096',\n",
       "       'nr.trend.index.4096', 'range.pos.trend.index.4096',\n",
       "       'ma.dif.10.trend.index.4096', 'kdj.k.trend.index.4096',\n",
       "       'kdj.j.trend.index.4096', 'dbook.abs.nr.4096', 'kdj.k.abs.nr.4096',\n",
       "       'range.pos.abs.nr.4096', 'kdj.j.abs.nr.4096', 'ret.4096.002'],\n",
       "      dtype='object')"
      ]
     },
     "execution_count": 46,
     "metadata": {},
     "output_type": "execute_result"
    }
   ],
   "source": [
    "train_mat.columns[np.append(np.arange(0,26,1),28)]"
   ]
  },
  {
   "cell_type": "code",
   "execution_count": 45,
   "metadata": {},
   "outputs": [
    {
     "data": {
      "text/plain": [
       "\"train_mat['ret.4096.002'] ~ +train_mat['dbook.std.4096']+train_mat['price.osci.4096']+train_mat['range.pos.range.4096']+train_mat['kdj.k.trend.index.4096']+train_mat['ma.dif.10.range.4096']+train_mat['ma.dif.10.std.4096']+train_mat['ma.dif.10.volume.open.ratio.4096']+train_mat['range.pos.trend.index.4096']+train_mat['kdj.k.range.4096']+train_mat['kdj.k.4096']+0\""
      ]
     },
     "execution_count": 45,
     "metadata": {},
     "output_type": "execute_result"
    }
   ],
   "source": [
    "y_signal = \"ret.\"+str(period)+\".002\"\n",
    "formula = \"train_mat['\" + y_signal+\"'] ~ \"\n",
    "for signal in result[\"chosen.signals\"][:10]:\n",
    "    formula = formula+\"+train_mat['\"+signal+\"']\"\n",
    "formula+=\"+0\"\n",
    "formula"
   ]
  },
  {
   "cell_type": "code",
   "execution_count": 82,
   "metadata": {},
   "outputs": [
    {
     "data": {
      "text/plain": [
       "array([-0.03368195, -0.0589743 ,  0.04862577,  0.04658016, -0.01877884,\n",
       "        0.0756933 , -0.05820322,  0.02459242, -0.05687115])"
      ]
     },
     "execution_count": 82,
     "metadata": {},
     "output_type": "execute_result"
    }
   ],
   "source": [
    "fit_002_lm  = smf.ols(formula=formula, data=train_mat[train_mat.columns[:-2]]).fit()\n",
    "strat = \"half.002.\"+str(period)\n",
    "for product in product_list:\n",
    "    os.makedirs(HEAD_PATH+\"/tmp pkl/\"+product+\"/\"+strat, exist_ok=True)\n",
    "fit_coef = fit_002_lm.params.values\n",
    "fit_coef\n",
    "# array([-0.04172749,  0.03307341, -0.0734288 ,  0.0091929 ,  0.04530266,\n",
    "#        -0.03520079,  0.00279073,  0.02965995,  0.00508659, -0.00308378])\n"
   ]
  },
  {
   "cell_type": "code",
   "execution_count": 58,
   "metadata": {},
   "outputs": [
    {
     "name": "stdout",
     "output_type": "stream",
     "text": [
      "rb\n",
      "dbook.std.4096                     -0.000668\n",
      "price.osci.4096                     0.000329\n",
      "range.pos.range.4096               -0.000091\n",
      "kdj.k.trend.index.4096              0.000171\n",
      "ma.dif.10.range.4096                0.000915\n",
      "ma.dif.10.std.4096                 -0.002837\n",
      "ma.dif.10.volume.open.ratio.4096    0.008313\n",
      "range.pos.trend.index.4096          0.002005\n",
      "kdj.k.range.4096                    0.000002\n",
      "kdj.k.4096                         -0.000039\n",
      "dtype: float64\n",
      "hc\n",
      "dbook.std.4096                     -0.000962\n",
      "price.osci.4096                     0.000388\n",
      "range.pos.range.4096               -0.000084\n",
      "kdj.k.trend.index.4096              0.000194\n",
      "ma.dif.10.range.4096                0.000863\n",
      "ma.dif.10.std.4096                 -0.002617\n",
      "ma.dif.10.volume.open.ratio.4096    0.011209\n",
      "range.pos.trend.index.4096          0.002229\n",
      "kdj.k.range.4096                    0.000002\n",
      "kdj.k.4096                         -0.000044\n",
      "dtype: float64\n",
      "i\n",
      "dbook.std.4096                     -0.002443\n",
      "price.osci.4096                     0.000418\n",
      "range.pos.range.4096               -0.000493\n",
      "kdj.k.trend.index.4096              0.000205\n",
      "ma.dif.10.range.4096                0.003708\n",
      "ma.dif.10.std.4096                 -0.010451\n",
      "ma.dif.10.volume.open.ratio.4096    0.008791\n",
      "range.pos.trend.index.4096          0.002476\n",
      "kdj.k.range.4096                    0.000009\n",
      "kdj.k.4096                         -0.000046\n",
      "dtype: float64\n",
      "j\n",
      "dbook.std.4096                     -0.001843\n",
      "price.osci.4096                     0.000567\n",
      "range.pos.range.4096               -0.000141\n",
      "kdj.k.trend.index.4096              0.000243\n",
      "ma.dif.10.range.4096                0.001039\n",
      "ma.dif.10.std.4096                 -0.002831\n",
      "ma.dif.10.volume.open.ratio.4096    0.007360\n",
      "range.pos.trend.index.4096          0.002793\n",
      "kdj.k.range.4096                    0.000003\n",
      "kdj.k.4096                         -0.000053\n",
      "dtype: float64\n",
      "jm\n",
      "dbook.std.4096                     -0.002111\n",
      "price.osci.4096                     0.000555\n",
      "range.pos.range.4096               -0.000201\n",
      "kdj.k.trend.index.4096              0.000259\n",
      "ma.dif.10.range.4096                0.001427\n",
      "ma.dif.10.std.4096                 -0.004185\n",
      "ma.dif.10.volume.open.ratio.4096    0.008641\n",
      "range.pos.trend.index.4096          0.003048\n",
      "kdj.k.range.4096                    0.000004\n",
      "kdj.k.4096                         -0.000056\n",
      "dtype: float64\n",
      "Wall time: 4min 47s\n"
     ]
    }
   ],
   "source": [
    "%%time\n",
    "for product in product_list:\n",
    "    print(product)\n",
    "    coef = fit_coef*train_std_mat[product][y_signal]/train_std_mat[product][result[\"chosen.signals\"][:10]]\n",
    "    print(coef)\n",
    "    parLapply(CORE_NUM, all_dates, get_daily_pred, \n",
    "              product=product, signal_list=result[\"chosen.signals\"][:10], \n",
    "              coef=coef, strat=strat, HEAD_PATH=HEAD_PATH)\n",
    ";\n",
    "\n",
    "# rb\n",
    "# dbook.std.4096                     -0.000668\n",
    "# price.osci.4096                     0.000329\n",
    "# range.pos.range.4096               -0.000091\n",
    "# kdj.k.trend.index.4096              0.000171\n",
    "# ma.dif.10.range.4096                0.000915\n",
    "# ma.dif.10.std.4096                 -0.002837\n",
    "# ma.dif.10.volume.open.ratio.4096    0.008313\n",
    "# range.pos.trend.index.4096          0.002005\n",
    "# kdj.k.range.4096                    0.000002\n",
    "# kdj.k.4096                         -0.000039\n",
    "# dtype: float64\n",
    "# hc\n",
    "# dbook.std.4096                     -0.000962\n",
    "# price.osci.4096                     0.000388\n",
    "# range.pos.range.4096               -0.000084\n",
    "# kdj.k.trend.index.4096              0.000194\n",
    "# ma.dif.10.range.4096                0.000863\n",
    "# ma.dif.10.std.4096                 -0.002617\n",
    "# ma.dif.10.volume.open.ratio.4096    0.011209\n",
    "# range.pos.trend.index.4096          0.002229\n",
    "# kdj.k.range.4096                    0.000002\n",
    "# kdj.k.4096                         -0.000044\n",
    "# dtype: float64\n",
    "# i\n",
    "# dbook.std.4096                     -0.002443\n",
    "# price.osci.4096                     0.000418\n",
    "# range.pos.range.4096               -0.000493\n",
    "# kdj.k.trend.index.4096              0.000205\n",
    "# ma.dif.10.range.4096                0.003708\n",
    "# ma.dif.10.std.4096                 -0.010451\n",
    "# ma.dif.10.volume.open.ratio.4096    0.008791\n",
    "# range.pos.trend.index.4096          0.002476\n",
    "# kdj.k.range.4096                    0.000009\n",
    "# kdj.k.4096                         -0.000046\n",
    "# dtype: float64\n",
    "# j\n",
    "# dbook.std.4096                     -0.001843\n",
    "# price.osci.4096                     0.000567\n",
    "# range.pos.range.4096               -0.000141\n",
    "# kdj.k.trend.index.4096              0.000243\n",
    "# ma.dif.10.range.4096                0.001039\n",
    "# ma.dif.10.std.4096                 -0.002831\n",
    "# ma.dif.10.volume.open.ratio.4096    0.007360\n",
    "# range.pos.trend.index.4096          0.002793\n",
    "# kdj.k.range.4096                    0.000003\n",
    "# kdj.k.4096                         -0.000053\n",
    "# dtype: float64\n",
    "# jm\n",
    "# dbook.std.4096                     -0.002111\n",
    "# price.osci.4096                     0.000555\n",
    "# range.pos.range.4096               -0.000201\n",
    "# kdj.k.trend.index.4096              0.000259\n",
    "# ma.dif.10.range.4096                0.001427\n",
    "# ma.dif.10.std.4096                 -0.004185\n",
    "# ma.dif.10.volume.open.ratio.4096    0.008641\n",
    "# range.pos.trend.index.4096          0.003048\n",
    "# kdj.k.range.4096                    0.000004\n",
    "# kdj.k.4096                         -0.000056\n",
    "# dtype: float64\n",
    "# Wall time: 7min 33s\n"
   ]
  },
  {
   "cell_type": "markdown",
   "metadata": {},
   "source": [
    "- now we try the ret.4096.002 as response"
   ]
  },
  {
   "cell_type": "code",
   "execution_count": 86,
   "metadata": {},
   "outputs": [
    {
     "name": "stdout",
     "output_type": "stream",
     "text": [
      "Wall time: 10min 9s\n"
     ]
    }
   ],
   "source": [
    "%%time\n",
    "for product in product_list:\n",
    "    par_get_all_signal(\"half.002.4096\", all_dates, product, 4096, HEAD_PATH=\"d:/intern\")\n",
    "    \n",
    "## Wall time: 10min 9s"
   ]
  },
  {
   "cell_type": "code",
   "execution_count": 87,
   "metadata": {},
   "outputs": [
    {
     "name": "stdout",
     "output_type": "stream",
     "text": [
      "reverse=1\n",
      "reverse=1\n",
      "reverse=1\n",
      "reverse=1\n",
      "reverse=1\n",
      "Wall time: 4min 52s\n"
     ]
    }
   ],
   "source": [
    "%%time\n",
    "for product in product_list:\n",
    "    spread = product_info[product][\"spread\"]\n",
    "    evaluate_signal(\"half.002\", all_dates, product, 2, 20, HEAD_PATH, \n",
    "                    CORE_NUM, period=4096, split_str=\"2018\", tranct=1.1e-4, \n",
    "                    max_spread=spread+0.1, tranct_ratio=True, atr_filter=20, save_path=\"signal result atr\",reverse=1)"
   ]
  },
  {
   "cell_type": "code",
   "execution_count": 88,
   "metadata": {},
   "outputs": [
    {
     "name": "stdout",
     "output_type": "stream",
     "text": [
      "rb train sharpe  1.805163613001169 test sharpe  0.6621112321856355\n",
      "hc train sharpe  1.4598213101929218 test sharpe  0.8867239507359027\n",
      "i train sharpe  0.9741634182244937 test sharpe  -0.17454451392139766\n",
      "j train sharpe  0.9325288372188562 test sharpe  0.946739073723811\n",
      "jm train sharpe  1.5053053560092053 test sharpe  1.2463778729387376\n"
     ]
    }
   ],
   "source": [
    "for product in product_list:\n",
    "    spread = product_info[product][\"spread\"]\n",
    "    signal_stat = load(HEAD_PATH+\"/signal result atr/\"+product+\".\"+\"half.002.4096\"+\".trend.pkl\")\n",
    "    train_stat = signal_stat[\"train.stat\"]\n",
    "    good_strat = (train_stat[\"final.result\"][\"avg.pnl\"]>2*spread)\n",
    "    train_pnl = train_stat[\"daily.pnl\"].loc[:, good_strat].sum(axis=1)/sum(good_strat)\n",
    "    train_std = np.std(train_pnl)\n",
    "    train_pnl = train_pnl/train_std\n",
    "    test_stat = signal_stat[\"test.stat\"]\n",
    "    test_pnl = test_stat[\"daily.pnl\"].loc[:, good_strat].sum(axis=1)/sum(good_strat)/train_std\n",
    "    print(product, \"train sharpe \", sharpe(train_pnl), \"test sharpe \", sharpe(test_pnl))\n",
    "\n",
    "## hafl.002\n",
    "# rb train sharpe  1.805163613001169 test sharpe  0.6621112321856355\n",
    "# hc train sharpe  1.4598213101929218 test sharpe  0.8867239507359027\n",
    "# i train sharpe  0.9741634182244937 test sharpe  -0.17454451392139766\n",
    "# j train sharpe  0.9325288372188562 test sharpe  0.946739073723811\n",
    "# jm train sharpe  1.5053053560092053 test sharpe  1.2463778729387376\n",
    "\n",
    "\n",
    "## original half\n",
    "# rb train sharpe  1.5087587260185147 test sharpe  0.5435115989362888\n",
    "# hc train sharpe  1.3163668002045286 test sharpe  0.43393342334925783\n",
    "# i train sharpe  1.149040743970226 test sharpe  -0.5492190956631218\n",
    "# j train sharpe  1.0612819393874031 test sharpe  1.083466412606586\n",
    "# jm train sharpe  1.3330174025222248 test sharpe  1.2884672527364454\n"
   ]
  },
  {
   "cell_type": "markdown",
   "metadata": {},
   "source": [
    "- now we try to use ret.001"
   ]
  },
  {
   "cell_type": "code",
   "execution_count": 145,
   "metadata": {},
   "outputs": [
    {
     "data": {
      "text/plain": [
       "array([-0.03221915,  0.02424631, -0.02997526, -0.01562285, -0.00965228,\n",
       "       -0.0001313 , -0.00586716,  0.01798759,  0.03440735, -0.02230567])"
      ]
     },
     "execution_count": 145,
     "metadata": {},
     "output_type": "execute_result"
    }
   ],
   "source": [
    "y_signal = \"ret.\"+str(period)+\".001\"\n",
    "formula = \"train_mat['\" + y_signal+\"'] ~ \"\n",
    "for signal in result[\"chosen.signals\"][:10]:\n",
    "    formula = formula+\"+train_mat['\"+signal+\"']\"\n",
    "formula+=\"+0\"\n",
    "formula\n",
    "fit_001_lm  = smf.ols(formula=formula, data=train_mat[train_mat.columns[:-2]]).fit()\n",
    "strat = \"half.001.\"+str(period)\n",
    "for product in product_list:\n",
    "    os.makedirs(HEAD_PATH+\"/tmp pkl/\"+product+\"/\"+strat, exist_ok=True)\n",
    "fit_coef = fit_001_lm.params.values\n",
    "fit_coef\n",
    "# array([-0.03221915,  0.02424631, -0.02997526, -0.01562285, -0.00965228,\n",
    "#        -0.0001313 , -0.00586716,  0.01798759,  0.03440735, -0.02230567])\n",
    "\n"
   ]
  },
  {
   "cell_type": "code",
   "execution_count": 146,
   "metadata": {},
   "outputs": [
    {
     "name": "stdout",
     "output_type": "stream",
     "text": [
      "rb\n",
      "dbook.std.4096                     -0.000383\n",
      "price.osci.4096                     0.000179\n",
      "range.pos.range.4096               -0.000028\n",
      "kdj.k.trend.index.4096             -0.000216\n",
      "ma.dif.10.range.4096               -0.000145\n",
      "ma.dif.10.std.4096                 -0.000008\n",
      "ma.dif.10.volume.open.ratio.4096   -0.013000\n",
      "range.pos.trend.index.4096          0.000905\n",
      "kdj.k.range.4096                    0.000009\n",
      "kdj.k.4096                         -0.000209\n",
      "dtype: float64\n",
      "hc\n",
      "dbook.std.4096                     -0.000525\n",
      "price.osci.4096                     0.000201\n",
      "range.pos.range.4096               -0.000024\n",
      "kdj.k.trend.index.4096             -0.000233\n",
      "ma.dif.10.range.4096               -0.000130\n",
      "ma.dif.10.std.4096                 -0.000007\n",
      "ma.dif.10.volume.open.ratio.4096   -0.016668\n",
      "range.pos.trend.index.4096          0.000956\n",
      "kdj.k.range.4096                    0.000008\n",
      "kdj.k.4096                         -0.000225\n",
      "dtype: float64\n",
      "i\n",
      "dbook.std.4096                     -0.001244\n",
      "price.osci.4096                     0.000202\n",
      "range.pos.range.4096               -0.000133\n",
      "kdj.k.trend.index.4096             -0.000230\n",
      "ma.dif.10.range.4096               -0.000521\n",
      "ma.dif.10.std.4096                 -0.000026\n",
      "ma.dif.10.volume.open.ratio.4096   -0.012194\n",
      "range.pos.trend.index.4096          0.000991\n",
      "kdj.k.range.4096                    0.000042\n",
      "kdj.k.4096                         -0.000220\n",
      "dtype: float64\n",
      "j\n",
      "dbook.std.4096                     -0.000864\n",
      "price.osci.4096                     0.000253\n",
      "range.pos.range.4096               -0.000035\n",
      "kdj.k.trend.index.4096             -0.000251\n",
      "ma.dif.10.range.4096               -0.000134\n",
      "ma.dif.10.std.4096                 -0.000006\n",
      "ma.dif.10.volume.open.ratio.4096   -0.009395\n",
      "range.pos.trend.index.4096          0.001028\n",
      "kdj.k.range.4096                    0.000011\n",
      "kdj.k.4096                         -0.000235\n",
      "dtype: float64\n",
      "jm\n",
      "dbook.std.4096                     -0.000979\n",
      "price.osci.4096                     0.000244\n",
      "range.pos.range.4096               -0.000049\n",
      "kdj.k.trend.index.4096             -0.000265\n",
      "ma.dif.10.range.4096               -0.000183\n",
      "ma.dif.10.std.4096                 -0.000009\n",
      "ma.dif.10.volume.open.ratio.4096   -0.010908\n",
      "range.pos.trend.index.4096          0.001110\n",
      "kdj.k.range.4096                    0.000016\n",
      "kdj.k.4096                         -0.000245\n",
      "dtype: float64\n",
      "Wall time: 21min 33s\n"
     ]
    }
   ],
   "source": [
    "%%time\n",
    "for product in product_list:\n",
    "    print(product)\n",
    "    coef = fit_coef*train_std_mat[product][y_signal]/train_std_mat[product][result[\"chosen.signals\"][:10]]\n",
    "    print(coef)\n",
    "    parLapply(CORE_NUM, all_dates, get_daily_pred, \n",
    "              product=product, signal_list=result[\"chosen.signals\"][:10], \n",
    "              coef=coef, strat=strat, HEAD_PATH=HEAD_PATH)\n",
    ";\n",
    "\n"
   ]
  },
  {
   "cell_type": "code",
   "execution_count": 147,
   "metadata": {},
   "outputs": [
    {
     "name": "stdout",
     "output_type": "stream",
     "text": [
      "Wall time: 13min 30s\n"
     ]
    }
   ],
   "source": [
    "%%time\n",
    "for product in product_list:\n",
    "    par_get_all_signal(\"half.001.4096\", all_dates, product, 4096, HEAD_PATH=\"d:/intern\")\n"
   ]
  },
  {
   "cell_type": "code",
   "execution_count": 148,
   "metadata": {},
   "outputs": [
    {
     "name": "stdout",
     "output_type": "stream",
     "text": [
      "reverse=1\n",
      "reverse=1\n",
      "reverse=1\n",
      "reverse=1\n",
      "reverse=1\n",
      "Wall time: 4min 59s\n"
     ]
    }
   ],
   "source": [
    "%%time\n",
    "for product in product_list:\n",
    "    spread = product_info[product][\"spread\"]\n",
    "    evaluate_signal(\"half.001\", all_dates, product, 2, 20, HEAD_PATH, \n",
    "                    CORE_NUM, period=4096, split_str=\"2018\", tranct=1.1e-4, \n",
    "                    max_spread=spread+0.1, tranct_ratio=True, atr_filter=20, save_path=\"signal result atr\",reverse=1)"
   ]
  },
  {
   "cell_type": "code",
   "execution_count": 151,
   "metadata": {},
   "outputs": [
    {
     "name": "stdout",
     "output_type": "stream",
     "text": [
      "rb train sharpe  1.9202445602756277 test sharpe  1.5630880186352167\n",
      "hc train sharpe  1.0281880639838406 test sharpe  1.195426918559872\n",
      "i train sharpe  0.7673063794629459 test sharpe  -0.46049206413075866\n",
      "j train sharpe  1.1803814823909604 test sharpe  0.8638922041684458\n",
      "jm train sharpe  1.4082211056397258 test sharpe  1.3772306552717015\n",
      "Wall time: 72.4 ms\n"
     ]
    }
   ],
   "source": [
    "%%time\n",
    "for product in product_list:\n",
    "    spread = product_info[product][\"spread\"]\n",
    "    signal_stat = load(HEAD_PATH+\"/signal result atr/\"+product+\".\"+\"half.001.4096\"+\".trend.pkl\")\n",
    "    train_stat = signal_stat[\"train.stat\"]\n",
    "    good_strat = (train_stat[\"final.result\"][\"avg.pnl\"]>2*spread)\n",
    "    train_pnl = train_stat[\"daily.pnl\"].loc[:, good_strat].sum(axis=1)/sum(good_strat)\n",
    "    train_std = np.std(train_pnl)\n",
    "    train_pnl = train_pnl/train_std\n",
    "    test_stat = signal_stat[\"test.stat\"]\n",
    "    test_pnl = test_stat[\"daily.pnl\"].loc[:, good_strat].sum(axis=1)/sum(good_strat)/train_std\n",
    "    print(product, \"train sharpe \", sharpe(train_pnl), \"test sharpe \", sharpe(test_pnl))\n",
    "\n",
    "## half.001.4096\n",
    "# rb train sharpe  1.9202445602756277 test sharpe  1.5630880186352167\n",
    "# hc train sharpe  1.0281880639838406 test sharpe  1.195426918559872\n",
    "# i train sharpe  0.7673063794629459 test sharpe  -0.46049206413075866\n",
    "# j train sharpe  1.1803814823909604 test sharpe  0.8638922041684458\n",
    "# jm train sharpe  1.4082211056397258 test sharpe  1.3772306552717015\n",
    "# Wall time: 72.4 ms\n",
    "\n",
    "## half.002.4096\n",
    "# rb train sharpe  1.805163613001169 test sharpe  0.6621112321856355\n",
    "# hc train sharpe  1.4598213101929218 test sharpe  0.8867239507359027\n",
    "# i train sharpe  0.9741634182244937 test sharpe  -0.17454451392139766\n",
    "# j train sharpe  0.9325288372188562 test sharpe  0.946739073723811\n",
    "# jm train sharpe  1.5053053560092053 test sharpe  1.2463778729387376\n",
    "\n",
    "## original half\n",
    "# rb train sharpe  1.5087587260185147 test sharpe  0.5435115989362888\n",
    "# hc train sharpe  1.3163668002045286 test sharpe  0.43393342334925783\n",
    "# i train sharpe  1.149040743970226 test sharpe  -0.5492190956631218\n",
    "# j train sharpe  1.0612819393874031 test sharpe  1.083466412606586\n",
    "# jm train sharpe  1.3330174025222248 test sharpe  1.2884672527364454\n",
    "\n"
   ]
  },
  {
   "cell_type": "code",
   "execution_count": 73,
   "metadata": {},
   "outputs": [],
   "source": [
    "\n",
    "import statsmodels.formula.api as smf\n",
    "def step_aic(model, exog, endog, **kwargs):\n",
    "    \"\"\"\n",
    "    This select the best exogenous variables with AIC\n",
    "    Both exog and endog values can be either str or list.\n",
    "    (Endog list is for the Binomial family.)\n",
    "\n",
    "    Note: This adopt only \"forward\" selection\n",
    "\n",
    "    Args:\n",
    "        model: model from statsmodels.formula.api\n",
    "        exog (str or list): exogenous variables\n",
    "        endog (str or list): endogenous variables\n",
    "        kwargs: extra keyword argments for model (e.g., data, family)\n",
    "\n",
    "    Returns:\n",
    "        model: a model that seems to have the smallest AIC\n",
    "    \"\"\"\n",
    "    for key in kwargs.keys():\n",
    "        df = kwargs[key]\n",
    "    df_name = \"df\"    \n",
    "    remaining = set(exog)\n",
    "    \n",
    "    exog = [df_name+\"['\"+s+\"']\" for s in exog]\n",
    "    endog = [df_name+\"['\"+s+\"']\" for s in endog]\n",
    "    \n",
    "        \n",
    "    # exog, endogは強制的にリスト形式に変換しておく\n",
    "    exog = np.r_[[exog]].flatten()\n",
    "    endog = np.r_[[endog]].flatten()\n",
    "    selected = []  # 採用が確定された要因\n",
    "    chosen_signals = []\n",
    "    # 定数項のみのAICを計算\n",
    "    formula_head = ' + '.join(endog) + ' ~ '\n",
    "    formula = formula_head + '1'\n",
    "    #aic = model(formula=formula, **kwargs).fit().aic\n",
    "    aic = model(formula=formula, data=df).fit().aic\n",
    "    print('AIC: {}, formula: {}'.format(round(aic, 3), formula))\n",
    "\n",
    "    current_score, best_new_score = np.ones(2) * aic\n",
    "\n",
    "    # 全要因を採択するか，どの要因を追加してもAICが上がらなければ終了\n",
    "    while remaining and current_score == best_new_score:\n",
    "        scores_with_candidates = []\n",
    "        for candidate in remaining:\n",
    "\n",
    "            # 残っている要因を1つずつ追加したときのAICを計算\n",
    "            formula_tail = ' + '.join(selected + [df_name+\"['\"+candidate+\"']\"])\n",
    "            formula = formula_head + formula_tail\n",
    "            #aic = model(formula=formula, **kwargs).fit().aic\n",
    "            aic = model(formula=formula, data=df).fit().aic\n",
    "            print('AIC: {}, formula: {}'.format(round(aic, 3), formula))\n",
    "\n",
    "            scores_with_candidates.append((aic, candidate))\n",
    "\n",
    "        # 最もAICが小さかった要因をbest_candidateとする\n",
    "        scores_with_candidates.sort()\n",
    "        scores_with_candidates.reverse()\n",
    "        best_new_score, best_candidate = scores_with_candidates.pop()\n",
    "\n",
    "        # 候補要因追加でAICが下がったならば，それを確定要因として追加する\n",
    "        \n",
    "        if best_new_score < current_score:\n",
    "            remaining.remove(best_candidate)\n",
    "            selected.append(df_name+\"['\"+best_candidate+\"']\")\n",
    "            chosen_signals.append(best_candidate)\n",
    "            current_score = best_new_score\n",
    "\n",
    "    formula = formula_head + ' + '.join(selected)\n",
    "    print('The best formula: {}'.format(formula))\n",
    "    #return model(formula, **kwargs).fit()\n",
    "    result = OrderedDict([(\"model\", model), (\"chosen.signals\", chosen_signals)])\n",
    "    #return model(formula, data=df).fit()\n",
    "    return result"
   ]
  },
  {
   "cell_type": "code",
   "execution_count": 74,
   "metadata": {},
   "outputs": [
    {
     "name": "stdout",
     "output_type": "stream",
     "text": [
      "AIC: 56577.966, formula: df['ret.4096.001'] ~ 1\n",
      "AIC: 56570.138, formula: df['ret.4096.001'] ~ df['dbook.std.4096']\n",
      "AIC: 56579.62, formula: df['ret.4096.001'] ~ df['ma.dif.10.volume.open.ratio.4096']\n",
      "AIC: 56579.547, formula: df['ret.4096.001'] ~ df['ma.dif.10.std.4096']\n",
      "AIC: 56579.837, formula: df['ret.4096.001'] ~ df['nr.trend.index.4096']\n",
      "AIC: 56579.67, formula: df['ret.4096.001'] ~ df['ma.dif.10.trend.index.4096']\n",
      "AIC: 56572.474, formula: df['ret.4096.001'] ~ df['trade.imb.trend.index.4096']\n",
      "AIC: 56579.945, formula: df['ret.4096.001'] ~ df['nr.std.4096']\n",
      "AIC: 56579.945, formula: df['ret.4096.001'] ~ df['kdj.j.range.4096']\n",
      "AIC: 56579.814, formula: df['ret.4096.001'] ~ df['kdj.k.4096']\n",
      "AIC: 56579.775, formula: df['ret.4096.001'] ~ df['price.osci.trend.index.4096']\n",
      "AIC: 56579.64, formula: df['ret.4096.001'] ~ df['kdj.j.trend.index.4096']\n",
      "AIC: 56579.629, formula: df['ret.4096.001'] ~ df['total.trade.imb.volume.open.ratio.4096']\n",
      "AIC: 56576.798, formula: df['ret.4096.001'] ~ df['trade.imb.volume.open.ratio.4096']\n",
      "AIC: 56573.281, formula: df['ret.4096.001'] ~ df['trade.imb.std.4096']\n",
      "AIC: 56578.082, formula: df['ret.4096.001'] ~ df['total.trade.imb.4096']\n",
      "AIC: 56576.977, formula: df['ret.4096.001'] ~ df['total.trade.imb.std.4096']\n",
      "AIC: 56578.979, formula: df['ret.4096.001'] ~ df['price.osci.4096']\n",
      "AIC: 56578.798, formula: df['ret.4096.001'] ~ df['range.pos.volume.open.ratio.4096']\n",
      "AIC: 56579.791, formula: df['ret.4096.001'] ~ df['kdj.k.trend.index.4096']\n",
      "AIC: 56579.35, formula: df['ret.4096.001'] ~ df['range.pos.range.4096']\n",
      "AIC: 56579.474, formula: df['ret.4096.001'] ~ df['range.pos.std.4096']\n",
      "AIC: 56579.801, formula: df['ret.4096.001'] ~ df['nr.range.4096']\n",
      "AIC: 56579.426, formula: df['ret.4096.001'] ~ df['ma.dif.10.4096']\n",
      "AIC: 56574.894, formula: df['ret.4096.001'] ~ df['trade.imb.4096']\n",
      "AIC: 56579.78, formula: df['ret.4096.001'] ~ df['kdj.k.volume.open.ratio.4096']\n",
      "AIC: 56579.956, formula: df['ret.4096.001'] ~ df['nr.volume.open.ratio.4096']\n",
      "AIC: 56579.544, formula: df['ret.4096.001'] ~ df['ma.dif.10.range.4096']\n",
      "AIC: 56570.697, formula: df['ret.4096.001'] ~ df['dbook.volume.open.ratio.4096']\n",
      "AIC: 56579.727, formula: df['ret.4096.001'] ~ df['range.pos.4096']\n",
      "AIC: 56571.505, formula: df['ret.4096.001'] ~ df['dbook.4096']\n",
      "AIC: 56576.108, formula: df['ret.4096.001'] ~ df['total.trade.imb.range.4096']\n",
      "AIC: 56579.666, formula: df['ret.4096.001'] ~ df['kdj.j.4096']\n",
      "AIC: 56579.873, formula: df['ret.4096.001'] ~ df['kdj.k.std.4096']\n",
      "AIC: 56578.724, formula: df['ret.4096.001'] ~ df['total.trade.imb.trend.index.4096']\n",
      "AIC: 56579.936, formula: df['ret.4096.001'] ~ df['kdj.j.std.4096']\n",
      "AIC: 56579.831, formula: df['ret.4096.001'] ~ df['range.pos.trend.index.4096']\n",
      "AIC: 56570.996, formula: df['ret.4096.001'] ~ df['dbook.range.4096']\n",
      "AIC: 56579.722, formula: df['ret.4096.001'] ~ df['price.osci.range.4096']\n",
      "AIC: 56579.913, formula: df['ret.4096.001'] ~ df['nr.4096']\n",
      "AIC: 56573.768, formula: df['ret.4096.001'] ~ df['trade.imb.range.4096']\n",
      "AIC: 56570.591, formula: df['ret.4096.001'] ~ df['dbook.trend.index.4096']\n",
      "AIC: 56579.449, formula: df['ret.4096.001'] ~ df['kdj.j.volume.open.ratio.4096']\n",
      "AIC: 56579.931, formula: df['ret.4096.001'] ~ df['kdj.k.range.4096']\n",
      "AIC: 56579.673, formula: df['ret.4096.001'] ~ df['price.osci.std.4096']\n",
      "AIC: 56579.963, formula: df['ret.4096.001'] ~ df['price.osci.volume.open.ratio.4096']\n",
      "AIC: 56570.87, formula: df['ret.4096.001'] ~ df['dbook.std.4096'] + df['ma.dif.10.volume.open.ratio.4096']\n",
      "AIC: 56571.032, formula: df['ret.4096.001'] ~ df['dbook.std.4096'] + df['ma.dif.10.std.4096']\n",
      "AIC: 56572.135, formula: df['ret.4096.001'] ~ df['dbook.std.4096'] + df['nr.trend.index.4096']\n",
      "AIC: 56570.818, formula: df['ret.4096.001'] ~ df['dbook.std.4096'] + df['ma.dif.10.trend.index.4096']\n",
      "AIC: 56570.612, formula: df['ret.4096.001'] ~ df['dbook.std.4096'] + df['trade.imb.trend.index.4096']\n",
      "AIC: 56572.031, formula: df['ret.4096.001'] ~ df['dbook.std.4096'] + df['nr.std.4096']\n",
      "AIC: 56571.204, formula: df['ret.4096.001'] ~ df['dbook.std.4096'] + df['kdj.j.range.4096']\n",
      "AIC: 56570.99, formula: df['ret.4096.001'] ~ df['dbook.std.4096'] + df['kdj.k.4096']\n",
      "AIC: 56572.13, formula: df['ret.4096.001'] ~ df['dbook.std.4096'] + df['price.osci.trend.index.4096']\n",
      "AIC: 56570.406, formula: df['ret.4096.001'] ~ df['dbook.std.4096'] + df['kdj.j.trend.index.4096']\n",
      "AIC: 56571.057, formula: df['ret.4096.001'] ~ df['dbook.std.4096'] + df['total.trade.imb.volume.open.ratio.4096']\n",
      "AIC: 56572.068, formula: df['ret.4096.001'] ~ df['dbook.std.4096'] + df['trade.imb.volume.open.ratio.4096']\n",
      "AIC: 56571.464, formula: df['ret.4096.001'] ~ df['dbook.std.4096'] + df['trade.imb.std.4096']\n",
      "AIC: 56568.831, formula: df['ret.4096.001'] ~ df['dbook.std.4096'] + df['total.trade.imb.4096']\n",
      "AIC: 56567.063, formula: df['ret.4096.001'] ~ df['dbook.std.4096'] + df['total.trade.imb.std.4096']\n",
      "AIC: 56571.963, formula: df['ret.4096.001'] ~ df['dbook.std.4096'] + df['price.osci.4096']\n",
      "AIC: 56568.962, formula: df['ret.4096.001'] ~ df['dbook.std.4096'] + df['range.pos.volume.open.ratio.4096']\n",
      "AIC: 56571.006, formula: df['ret.4096.001'] ~ df['dbook.std.4096'] + df['kdj.k.trend.index.4096']\n",
      "AIC: 56569.49, formula: df['ret.4096.001'] ~ df['dbook.std.4096'] + df['range.pos.range.4096']\n",
      "AIC: 56569.655, formula: df['ret.4096.001'] ~ df['dbook.std.4096'] + df['range.pos.std.4096']\n",
      "AIC: 56571.671, formula: df['ret.4096.001'] ~ df['dbook.std.4096'] + df['nr.range.4096']\n",
      "AIC: 56570.036, formula: df['ret.4096.001'] ~ df['dbook.std.4096'] + df['ma.dif.10.4096']\n",
      "AIC: 56571.822, formula: df['ret.4096.001'] ~ df['dbook.std.4096'] + df['trade.imb.4096']\n",
      "AIC: 56570.89, formula: df['ret.4096.001'] ~ df['dbook.std.4096'] + df['kdj.k.volume.open.ratio.4096']\n",
      "AIC: 56572.036, formula: df['ret.4096.001'] ~ df['dbook.std.4096'] + df['nr.volume.open.ratio.4096']\n",
      "AIC: 56570.994, formula: df['ret.4096.001'] ~ df['dbook.std.4096'] + df['ma.dif.10.range.4096']\n",
      "AIC: 56571.209, formula: df['ret.4096.001'] ~ df['dbook.std.4096'] + df['dbook.volume.open.ratio.4096']\n",
      "AIC: 56570.48, formula: df['ret.4096.001'] ~ df['dbook.std.4096'] + df['range.pos.4096']\n",
      "AIC: 56571.58, formula: df['ret.4096.001'] ~ df['dbook.std.4096'] + df['dbook.4096']\n",
      "AIC: 56566.006, formula: df['ret.4096.001'] ~ df['dbook.std.4096'] + df['total.trade.imb.range.4096']\n",
      "AIC: 56570.37, formula: df['ret.4096.001'] ~ df['dbook.std.4096'] + df['kdj.j.4096']\n",
      "AIC: 56570.968, formula: df['ret.4096.001'] ~ df['dbook.std.4096'] + df['kdj.k.std.4096']\n",
      "AIC: 56569.717, formula: df['ret.4096.001'] ~ df['dbook.std.4096'] + df['total.trade.imb.trend.index.4096']\n",
      "AIC: 56571.098, formula: df['ret.4096.001'] ~ df['dbook.std.4096'] + df['kdj.j.std.4096']\n",
      "AIC: 56570.871, formula: df['ret.4096.001'] ~ df['dbook.std.4096'] + df['range.pos.trend.index.4096']\n",
      "AIC: 56572.053, formula: df['ret.4096.001'] ~ df['dbook.std.4096'] + df['dbook.range.4096']\n",
      "AIC: 56570.618, formula: df['ret.4096.001'] ~ df['dbook.std.4096'] + df['price.osci.range.4096']\n",
      "AIC: 56572.113, formula: df['ret.4096.001'] ~ df['dbook.std.4096'] + df['nr.4096']\n",
      "AIC: 56571.746, formula: df['ret.4096.001'] ~ df['dbook.std.4096'] + df['trade.imb.range.4096']\n",
      "AIC: 56571.141, formula: df['ret.4096.001'] ~ df['dbook.std.4096'] + df['dbook.trend.index.4096']\n",
      "AIC: 56570.063, formula: df['ret.4096.001'] ~ df['dbook.std.4096'] + df['kdj.j.volume.open.ratio.4096']\n",
      "AIC: 56571.253, formula: df['ret.4096.001'] ~ df['dbook.std.4096'] + df['kdj.k.range.4096']\n",
      "AIC: 56570.481, formula: df['ret.4096.001'] ~ df['dbook.std.4096'] + df['price.osci.std.4096']\n",
      "AIC: 56571.829, formula: df['ret.4096.001'] ~ df['dbook.std.4096'] + df['price.osci.volume.open.ratio.4096']\n",
      "AIC: 56567.626, formula: df['ret.4096.001'] ~ df['dbook.std.4096'] + df['total.trade.imb.range.4096'] + df['ma.dif.10.volume.open.ratio.4096']\n",
      "AIC: 56566.947, formula: df['ret.4096.001'] ~ df['dbook.std.4096'] + df['total.trade.imb.range.4096'] + df['ma.dif.10.std.4096']\n",
      "AIC: 56562.715, formula: df['ret.4096.001'] ~ df['dbook.std.4096'] + df['total.trade.imb.range.4096'] + df['nr.trend.index.4096']\n",
      "AIC: 56566.27, formula: df['ret.4096.001'] ~ df['dbook.std.4096'] + df['total.trade.imb.range.4096'] + df['ma.dif.10.trend.index.4096']\n",
      "AIC: 56567.625, formula: df['ret.4096.001'] ~ df['dbook.std.4096'] + df['total.trade.imb.range.4096'] + df['trade.imb.trend.index.4096']\n",
      "AIC: 56564.167, formula: df['ret.4096.001'] ~ df['dbook.std.4096'] + df['total.trade.imb.range.4096'] + df['nr.std.4096']\n",
      "AIC: 56566.044, formula: df['ret.4096.001'] ~ df['dbook.std.4096'] + df['total.trade.imb.range.4096'] + df['kdj.j.range.4096']\n",
      "AIC: 56567.692, formula: df['ret.4096.001'] ~ df['dbook.std.4096'] + df['total.trade.imb.range.4096'] + df['kdj.k.4096']\n"
     ]
    },
    {
     "name": "stdout",
     "output_type": "stream",
     "text": [
      "AIC: 56565.039, formula: df['ret.4096.001'] ~ df['dbook.std.4096'] + df['total.trade.imb.range.4096'] + df['price.osci.trend.index.4096']\n",
      "AIC: 56567.831, formula: df['ret.4096.001'] ~ df['dbook.std.4096'] + df['total.trade.imb.range.4096'] + df['kdj.j.trend.index.4096']\n",
      "AIC: 56565.722, formula: df['ret.4096.001'] ~ df['dbook.std.4096'] + df['total.trade.imb.range.4096'] + df['total.trade.imb.volume.open.ratio.4096']\n",
      "AIC: 56567.872, formula: df['ret.4096.001'] ~ df['dbook.std.4096'] + df['total.trade.imb.range.4096'] + df['trade.imb.volume.open.ratio.4096']\n",
      "AIC: 56568.006, formula: df['ret.4096.001'] ~ df['dbook.std.4096'] + df['total.trade.imb.range.4096'] + df['trade.imb.std.4096']\n",
      "AIC: 56567.875, formula: df['ret.4096.001'] ~ df['dbook.std.4096'] + df['total.trade.imb.range.4096'] + df['total.trade.imb.4096']\n",
      "AIC: 56567.314, formula: df['ret.4096.001'] ~ df['dbook.std.4096'] + df['total.trade.imb.range.4096'] + df['total.trade.imb.std.4096']\n",
      "AIC: 56562.85, formula: df['ret.4096.001'] ~ df['dbook.std.4096'] + df['total.trade.imb.range.4096'] + df['price.osci.4096']\n",
      "AIC: 56567.867, formula: df['ret.4096.001'] ~ df['dbook.std.4096'] + df['total.trade.imb.range.4096'] + df['range.pos.volume.open.ratio.4096']\n",
      "AIC: 56567.457, formula: df['ret.4096.001'] ~ df['dbook.std.4096'] + df['total.trade.imb.range.4096'] + df['kdj.k.trend.index.4096']\n",
      "AIC: 56567.768, formula: df['ret.4096.001'] ~ df['dbook.std.4096'] + df['total.trade.imb.range.4096'] + df['range.pos.range.4096']\n",
      "AIC: 56567.721, formula: df['ret.4096.001'] ~ df['dbook.std.4096'] + df['total.trade.imb.range.4096'] + df['range.pos.std.4096']\n",
      "AIC: 56564.157, formula: df['ret.4096.001'] ~ df['dbook.std.4096'] + df['total.trade.imb.range.4096'] + df['nr.range.4096']\n",
      "AIC: 56567.159, formula: df['ret.4096.001'] ~ df['dbook.std.4096'] + df['total.trade.imb.range.4096'] + df['ma.dif.10.4096']\n",
      "AIC: 56568.0, formula: df['ret.4096.001'] ~ df['dbook.std.4096'] + df['total.trade.imb.range.4096'] + df['trade.imb.4096']\n",
      "AIC: 56567.732, formula: df['ret.4096.001'] ~ df['dbook.std.4096'] + df['total.trade.imb.range.4096'] + df['kdj.k.volume.open.ratio.4096']\n",
      "AIC: 56565.191, formula: df['ret.4096.001'] ~ df['dbook.std.4096'] + df['total.trade.imb.range.4096'] + df['nr.volume.open.ratio.4096']\n",
      "AIC: 56566.649, formula: df['ret.4096.001'] ~ df['dbook.std.4096'] + df['total.trade.imb.range.4096'] + df['ma.dif.10.range.4096']\n",
      "AIC: 56566.973, formula: df['ret.4096.001'] ~ df['dbook.std.4096'] + df['total.trade.imb.range.4096'] + df['dbook.volume.open.ratio.4096']\n",
      "AIC: 56567.842, formula: df['ret.4096.001'] ~ df['dbook.std.4096'] + df['total.trade.imb.range.4096'] + df['range.pos.4096']\n",
      "AIC: 56567.466, formula: df['ret.4096.001'] ~ df['dbook.std.4096'] + df['total.trade.imb.range.4096'] + df['dbook.4096']\n",
      "AIC: 56567.957, formula: df['ret.4096.001'] ~ df['dbook.std.4096'] + df['total.trade.imb.range.4096'] + df['kdj.j.4096']\n",
      "AIC: 56566.561, formula: df['ret.4096.001'] ~ df['dbook.std.4096'] + df['total.trade.imb.range.4096'] + df['kdj.k.std.4096']\n",
      "AIC: 56567.362, formula: df['ret.4096.001'] ~ df['dbook.std.4096'] + df['total.trade.imb.range.4096'] + df['total.trade.imb.trend.index.4096']\n",
      "AIC: 56566.334, formula: df['ret.4096.001'] ~ df['dbook.std.4096'] + df['total.trade.imb.range.4096'] + df['kdj.j.std.4096']\n",
      "AIC: 56567.419, formula: df['ret.4096.001'] ~ df['dbook.std.4096'] + df['total.trade.imb.range.4096'] + df['range.pos.trend.index.4096']\n",
      "AIC: 56567.919, formula: df['ret.4096.001'] ~ df['dbook.std.4096'] + df['total.trade.imb.range.4096'] + df['dbook.range.4096']\n",
      "AIC: 56565.606, formula: df['ret.4096.001'] ~ df['dbook.std.4096'] + df['total.trade.imb.range.4096'] + df['price.osci.range.4096']\n",
      "AIC: 56564.19, formula: df['ret.4096.001'] ~ df['dbook.std.4096'] + df['total.trade.imb.range.4096'] + df['nr.4096']\n",
      "AIC: 56567.93, formula: df['ret.4096.001'] ~ df['dbook.std.4096'] + df['total.trade.imb.range.4096'] + df['trade.imb.range.4096']\n",
      "AIC: 56566.816, formula: df['ret.4096.001'] ~ df['dbook.std.4096'] + df['total.trade.imb.range.4096'] + df['dbook.trend.index.4096']\n",
      "AIC: 56568.003, formula: df['ret.4096.001'] ~ df['dbook.std.4096'] + df['total.trade.imb.range.4096'] + df['kdj.j.volume.open.ratio.4096']\n",
      "AIC: 56565.883, formula: df['ret.4096.001'] ~ df['dbook.std.4096'] + df['total.trade.imb.range.4096'] + df['kdj.k.range.4096']\n",
      "AIC: 56566.149, formula: df['ret.4096.001'] ~ df['dbook.std.4096'] + df['total.trade.imb.range.4096'] + df['price.osci.std.4096']\n",
      "AIC: 56566.491, formula: df['ret.4096.001'] ~ df['dbook.std.4096'] + df['total.trade.imb.range.4096'] + df['price.osci.volume.open.ratio.4096']\n",
      "AIC: 56564.71, formula: df['ret.4096.001'] ~ df['dbook.std.4096'] + df['total.trade.imb.range.4096'] + df['nr.trend.index.4096'] + df['ma.dif.10.volume.open.ratio.4096']\n",
      "AIC: 56564.179, formula: df['ret.4096.001'] ~ df['dbook.std.4096'] + df['total.trade.imb.range.4096'] + df['nr.trend.index.4096'] + df['ma.dif.10.std.4096']\n",
      "AIC: 56564.687, formula: df['ret.4096.001'] ~ df['dbook.std.4096'] + df['total.trade.imb.range.4096'] + df['nr.trend.index.4096'] + df['ma.dif.10.trend.index.4096']\n",
      "AIC: 56564.606, formula: df['ret.4096.001'] ~ df['dbook.std.4096'] + df['total.trade.imb.range.4096'] + df['nr.trend.index.4096'] + df['trade.imb.trend.index.4096']\n",
      "AIC: 56564.115, formula: df['ret.4096.001'] ~ df['dbook.std.4096'] + df['total.trade.imb.range.4096'] + df['nr.trend.index.4096'] + df['nr.std.4096']\n",
      "AIC: 56563.905, formula: df['ret.4096.001'] ~ df['dbook.std.4096'] + df['total.trade.imb.range.4096'] + df['nr.trend.index.4096'] + df['kdj.j.range.4096']\n",
      "AIC: 56564.231, formula: df['ret.4096.001'] ~ df['dbook.std.4096'] + df['total.trade.imb.range.4096'] + df['nr.trend.index.4096'] + df['kdj.k.4096']\n",
      "AIC: 56564.54, formula: df['ret.4096.001'] ~ df['dbook.std.4096'] + df['total.trade.imb.range.4096'] + df['nr.trend.index.4096'] + df['price.osci.trend.index.4096']\n",
      "AIC: 56563.06, formula: df['ret.4096.001'] ~ df['dbook.std.4096'] + df['total.trade.imb.range.4096'] + df['nr.trend.index.4096'] + df['kdj.j.trend.index.4096']\n",
      "AIC: 56563.947, formula: df['ret.4096.001'] ~ df['dbook.std.4096'] + df['total.trade.imb.range.4096'] + df['nr.trend.index.4096'] + df['total.trade.imb.volume.open.ratio.4096']\n",
      "AIC: 56564.161, formula: df['ret.4096.001'] ~ df['dbook.std.4096'] + df['total.trade.imb.range.4096'] + df['nr.trend.index.4096'] + df['trade.imb.volume.open.ratio.4096']\n",
      "AIC: 56564.286, formula: df['ret.4096.001'] ~ df['dbook.std.4096'] + df['total.trade.imb.range.4096'] + df['nr.trend.index.4096'] + df['trade.imb.std.4096']\n",
      "AIC: 56564.438, formula: df['ret.4096.001'] ~ df['dbook.std.4096'] + df['total.trade.imb.range.4096'] + df['nr.trend.index.4096'] + df['total.trade.imb.4096']\n",
      "AIC: 56564.145, formula: df['ret.4096.001'] ~ df['dbook.std.4096'] + df['total.trade.imb.range.4096'] + df['nr.trend.index.4096'] + df['total.trade.imb.std.4096']\n",
      "AIC: 56562.651, formula: df['ret.4096.001'] ~ df['dbook.std.4096'] + df['total.trade.imb.range.4096'] + df['nr.trend.index.4096'] + df['price.osci.4096']\n",
      "AIC: 56562.887, formula: df['ret.4096.001'] ~ df['dbook.std.4096'] + df['total.trade.imb.range.4096'] + df['nr.trend.index.4096'] + df['range.pos.volume.open.ratio.4096']\n",
      "AIC: 56563.538, formula: df['ret.4096.001'] ~ df['dbook.std.4096'] + df['total.trade.imb.range.4096'] + df['nr.trend.index.4096'] + df['kdj.k.trend.index.4096']\n",
      "AIC: 56564.715, formula: df['ret.4096.001'] ~ df['dbook.std.4096'] + df['total.trade.imb.range.4096'] + df['nr.trend.index.4096'] + df['range.pos.range.4096']\n",
      "AIC: 56564.702, formula: df['ret.4096.001'] ~ df['dbook.std.4096'] + df['total.trade.imb.range.4096'] + df['nr.trend.index.4096'] + df['range.pos.std.4096']\n",
      "AIC: 56564.258, formula: df['ret.4096.001'] ~ df['dbook.std.4096'] + df['total.trade.imb.range.4096'] + df['nr.trend.index.4096'] + df['nr.range.4096']\n",
      "AIC: 56564.693, formula: df['ret.4096.001'] ~ df['dbook.std.4096'] + df['total.trade.imb.range.4096'] + df['nr.trend.index.4096'] + df['ma.dif.10.4096']\n",
      "AIC: 56564.582, formula: df['ret.4096.001'] ~ df['dbook.std.4096'] + df['total.trade.imb.range.4096'] + df['nr.trend.index.4096'] + df['trade.imb.4096']\n"
     ]
    },
    {
     "name": "stdout",
     "output_type": "stream",
     "text": [
      "AIC: 56564.26, formula: df['ret.4096.001'] ~ df['dbook.std.4096'] + df['total.trade.imb.range.4096'] + df['nr.trend.index.4096'] + df['kdj.k.volume.open.ratio.4096']\n",
      "AIC: 56564.707, formula: df['ret.4096.001'] ~ df['dbook.std.4096'] + df['total.trade.imb.range.4096'] + df['nr.trend.index.4096'] + df['nr.volume.open.ratio.4096']\n",
      "AIC: 56563.908, formula: df['ret.4096.001'] ~ df['dbook.std.4096'] + df['total.trade.imb.range.4096'] + df['nr.trend.index.4096'] + df['ma.dif.10.range.4096']\n",
      "AIC: 56564.099, formula: df['ret.4096.001'] ~ df['dbook.std.4096'] + df['total.trade.imb.range.4096'] + df['nr.trend.index.4096'] + df['dbook.volume.open.ratio.4096']\n",
      "AIC: 56564.329, formula: df['ret.4096.001'] ~ df['dbook.std.4096'] + df['total.trade.imb.range.4096'] + df['nr.trend.index.4096'] + df['range.pos.4096']\n",
      "AIC: 56564.409, formula: df['ret.4096.001'] ~ df['dbook.std.4096'] + df['total.trade.imb.range.4096'] + df['nr.trend.index.4096'] + df['dbook.4096']\n",
      "AIC: 56564.053, formula: df['ret.4096.001'] ~ df['dbook.std.4096'] + df['total.trade.imb.range.4096'] + df['nr.trend.index.4096'] + df['kdj.j.4096']\n",
      "AIC: 56564.421, formula: df['ret.4096.001'] ~ df['dbook.std.4096'] + df['total.trade.imb.range.4096'] + df['nr.trend.index.4096'] + df['kdj.k.std.4096']\n",
      "AIC: 56563.911, formula: df['ret.4096.001'] ~ df['dbook.std.4096'] + df['total.trade.imb.range.4096'] + df['nr.trend.index.4096'] + df['total.trade.imb.trend.index.4096']\n",
      "AIC: 56564.015, formula: df['ret.4096.001'] ~ df['dbook.std.4096'] + df['total.trade.imb.range.4096'] + df['nr.trend.index.4096'] + df['kdj.j.std.4096']\n",
      "AIC: 56563.83, formula: df['ret.4096.001'] ~ df['dbook.std.4096'] + df['total.trade.imb.range.4096'] + df['nr.trend.index.4096'] + df['range.pos.trend.index.4096']\n",
      "AIC: 56564.421, formula: df['ret.4096.001'] ~ df['dbook.std.4096'] + df['total.trade.imb.range.4096'] + df['nr.trend.index.4096'] + df['dbook.range.4096']\n",
      "AIC: 56564.163, formula: df['ret.4096.001'] ~ df['dbook.std.4096'] + df['total.trade.imb.range.4096'] + df['nr.trend.index.4096'] + df['price.osci.range.4096']\n",
      "AIC: 56564.678, formula: df['ret.4096.001'] ~ df['dbook.std.4096'] + df['total.trade.imb.range.4096'] + df['nr.trend.index.4096'] + df['nr.4096']\n",
      "AIC: 56563.937, formula: df['ret.4096.001'] ~ df['dbook.std.4096'] + df['total.trade.imb.range.4096'] + df['nr.trend.index.4096'] + df['trade.imb.range.4096']\n",
      "AIC: 56563.948, formula: df['ret.4096.001'] ~ df['dbook.std.4096'] + df['total.trade.imb.range.4096'] + df['nr.trend.index.4096'] + df['dbook.trend.index.4096']\n",
      "AIC: 56563.843, formula: df['ret.4096.001'] ~ df['dbook.std.4096'] + df['total.trade.imb.range.4096'] + df['nr.trend.index.4096'] + df['kdj.j.volume.open.ratio.4096']\n",
      "AIC: 56564.114, formula: df['ret.4096.001'] ~ df['dbook.std.4096'] + df['total.trade.imb.range.4096'] + df['nr.trend.index.4096'] + df['kdj.k.range.4096']\n",
      "AIC: 56564.42, formula: df['ret.4096.001'] ~ df['dbook.std.4096'] + df['total.trade.imb.range.4096'] + df['nr.trend.index.4096'] + df['price.osci.std.4096']\n",
      "AIC: 56564.68, formula: df['ret.4096.001'] ~ df['dbook.std.4096'] + df['total.trade.imb.range.4096'] + df['nr.trend.index.4096'] + df['price.osci.volume.open.ratio.4096']\n",
      "AIC: 56564.564, formula: df['ret.4096.001'] ~ df['dbook.std.4096'] + df['total.trade.imb.range.4096'] + df['nr.trend.index.4096'] + df['price.osci.4096'] + df['ma.dif.10.volume.open.ratio.4096']\n",
      "AIC: 56564.043, formula: df['ret.4096.001'] ~ df['dbook.std.4096'] + df['total.trade.imb.range.4096'] + df['nr.trend.index.4096'] + df['price.osci.4096'] + df['ma.dif.10.std.4096']\n",
      "AIC: 56564.474, formula: df['ret.4096.001'] ~ df['dbook.std.4096'] + df['total.trade.imb.range.4096'] + df['nr.trend.index.4096'] + df['price.osci.4096'] + df['ma.dif.10.trend.index.4096']\n",
      "AIC: 56564.61, formula: df['ret.4096.001'] ~ df['dbook.std.4096'] + df['total.trade.imb.range.4096'] + df['nr.trend.index.4096'] + df['price.osci.4096'] + df['trade.imb.trend.index.4096']\n",
      "AIC: 56563.616, formula: df['ret.4096.001'] ~ df['dbook.std.4096'] + df['total.trade.imb.range.4096'] + df['nr.trend.index.4096'] + df['price.osci.4096'] + df['nr.std.4096']\n",
      "AIC: 56564.108, formula: df['ret.4096.001'] ~ df['dbook.std.4096'] + df['total.trade.imb.range.4096'] + df['nr.trend.index.4096'] + df['price.osci.4096'] + df['kdj.j.range.4096']\n",
      "AIC: 56563.005, formula: df['ret.4096.001'] ~ df['dbook.std.4096'] + df['total.trade.imb.range.4096'] + df['nr.trend.index.4096'] + df['price.osci.4096'] + df['kdj.k.4096']\n",
      "AIC: 56563.861, formula: df['ret.4096.001'] ~ df['dbook.std.4096'] + df['total.trade.imb.range.4096'] + df['nr.trend.index.4096'] + df['price.osci.4096'] + df['price.osci.trend.index.4096']\n",
      "AIC: 56561.776, formula: df['ret.4096.001'] ~ df['dbook.std.4096'] + df['total.trade.imb.range.4096'] + df['nr.trend.index.4096'] + df['price.osci.4096'] + df['kdj.j.trend.index.4096']\n",
      "AIC: 56564.093, formula: df['ret.4096.001'] ~ df['dbook.std.4096'] + df['total.trade.imb.range.4096'] + df['nr.trend.index.4096'] + df['price.osci.4096'] + df['total.trade.imb.volume.open.ratio.4096']\n",
      "AIC: 56563.795, formula: df['ret.4096.001'] ~ df['dbook.std.4096'] + df['total.trade.imb.range.4096'] + df['nr.trend.index.4096'] + df['price.osci.4096'] + df['trade.imb.volume.open.ratio.4096']\n",
      "AIC: 56564.206, formula: df['ret.4096.001'] ~ df['dbook.std.4096'] + df['total.trade.imb.range.4096'] + df['nr.trend.index.4096'] + df['price.osci.4096'] + df['trade.imb.std.4096']\n",
      "AIC: 56563.317, formula: df['ret.4096.001'] ~ df['dbook.std.4096'] + df['total.trade.imb.range.4096'] + df['nr.trend.index.4096'] + df['price.osci.4096'] + df['total.trade.imb.4096']\n",
      "AIC: 56563.768, formula: df['ret.4096.001'] ~ df['dbook.std.4096'] + df['total.trade.imb.range.4096'] + df['nr.trend.index.4096'] + df['price.osci.4096'] + df['total.trade.imb.std.4096']\n",
      "AIC: 56560.871, formula: df['ret.4096.001'] ~ df['dbook.std.4096'] + df['total.trade.imb.range.4096'] + df['nr.trend.index.4096'] + df['price.osci.4096'] + df['range.pos.volume.open.ratio.4096']\n",
      "AIC: 56562.727, formula: df['ret.4096.001'] ~ df['dbook.std.4096'] + df['total.trade.imb.range.4096'] + df['nr.trend.index.4096'] + df['price.osci.4096'] + df['kdj.k.trend.index.4096']\n",
      "AIC: 56564.519, formula: df['ret.4096.001'] ~ df['dbook.std.4096'] + df['total.trade.imb.range.4096'] + df['nr.trend.index.4096'] + df['price.osci.4096'] + df['range.pos.range.4096']\n",
      "AIC: 56564.627, formula: df['ret.4096.001'] ~ df['dbook.std.4096'] + df['total.trade.imb.range.4096'] + df['nr.trend.index.4096'] + df['price.osci.4096'] + df['range.pos.std.4096']\n",
      "AIC: 56563.944, formula: df['ret.4096.001'] ~ df['dbook.std.4096'] + df['total.trade.imb.range.4096'] + df['nr.trend.index.4096'] + df['price.osci.4096'] + df['nr.range.4096']\n",
      "AIC: 56563.253, formula: df['ret.4096.001'] ~ df['dbook.std.4096'] + df['total.trade.imb.range.4096'] + df['nr.trend.index.4096'] + df['price.osci.4096'] + df['ma.dif.10.4096']\n",
      "AIC: 56564.272, formula: df['ret.4096.001'] ~ df['dbook.std.4096'] + df['total.trade.imb.range.4096'] + df['nr.trend.index.4096'] + df['price.osci.4096'] + df['trade.imb.4096']\n",
      "AIC: 56563.754, formula: df['ret.4096.001'] ~ df['dbook.std.4096'] + df['total.trade.imb.range.4096'] + df['nr.trend.index.4096'] + df['price.osci.4096'] + df['kdj.k.volume.open.ratio.4096']\n",
      "AIC: 56564.638, formula: df['ret.4096.001'] ~ df['dbook.std.4096'] + df['total.trade.imb.range.4096'] + df['nr.trend.index.4096'] + df['price.osci.4096'] + df['nr.volume.open.ratio.4096']\n",
      "AIC: 56563.869, formula: df['ret.4096.001'] ~ df['dbook.std.4096'] + df['total.trade.imb.range.4096'] + df['nr.trend.index.4096'] + df['price.osci.4096'] + df['ma.dif.10.range.4096']\n",
      "AIC: 56564.162, formula: df['ret.4096.001'] ~ df['dbook.std.4096'] + df['total.trade.imb.range.4096'] + df['nr.trend.index.4096'] + df['price.osci.4096'] + df['dbook.volume.open.ratio.4096']\n",
      "AIC: 56561.093, formula: df['ret.4096.001'] ~ df['dbook.std.4096'] + df['total.trade.imb.range.4096'] + df['nr.trend.index.4096'] + df['price.osci.4096'] + df['range.pos.4096']\n",
      "AIC: 56564.516, formula: df['ret.4096.001'] ~ df['dbook.std.4096'] + df['total.trade.imb.range.4096'] + df['nr.trend.index.4096'] + df['price.osci.4096'] + df['dbook.4096']\n",
      "AIC: 56562.263, formula: df['ret.4096.001'] ~ df['dbook.std.4096'] + df['total.trade.imb.range.4096'] + df['nr.trend.index.4096'] + df['price.osci.4096'] + df['kdj.j.4096']\n",
      "AIC: 56564.393, formula: df['ret.4096.001'] ~ df['dbook.std.4096'] + df['total.trade.imb.range.4096'] + df['nr.trend.index.4096'] + df['price.osci.4096'] + df['kdj.k.std.4096']\n",
      "AIC: 56563.491, formula: df['ret.4096.001'] ~ df['dbook.std.4096'] + df['total.trade.imb.range.4096'] + df['nr.trend.index.4096'] + df['price.osci.4096'] + df['total.trade.imb.trend.index.4096']\n",
      "AIC: 56564.127, formula: df['ret.4096.001'] ~ df['dbook.std.4096'] + df['total.trade.imb.range.4096'] + df['nr.trend.index.4096'] + df['price.osci.4096'] + df['kdj.j.std.4096']\n",
      "AIC: 56562.071, formula: df['ret.4096.001'] ~ df['dbook.std.4096'] + df['total.trade.imb.range.4096'] + df['nr.trend.index.4096'] + df['price.osci.4096'] + df['range.pos.trend.index.4096']\n",
      "AIC: 56564.346, formula: df['ret.4096.001'] ~ df['dbook.std.4096'] + df['total.trade.imb.range.4096'] + df['nr.trend.index.4096'] + df['price.osci.4096'] + df['dbook.range.4096']\n"
     ]
    },
    {
     "name": "stdout",
     "output_type": "stream",
     "text": [
      "AIC: 56564.65, formula: df['ret.4096.001'] ~ df['dbook.std.4096'] + df['total.trade.imb.range.4096'] + df['nr.trend.index.4096'] + df['price.osci.4096'] + df['price.osci.range.4096']\n",
      "AIC: 56564.358, formula: df['ret.4096.001'] ~ df['dbook.std.4096'] + df['total.trade.imb.range.4096'] + df['nr.trend.index.4096'] + df['price.osci.4096'] + df['nr.4096']\n",
      "AIC: 56563.789, formula: df['ret.4096.001'] ~ df['dbook.std.4096'] + df['total.trade.imb.range.4096'] + df['nr.trend.index.4096'] + df['price.osci.4096'] + df['trade.imb.range.4096']\n",
      "AIC: 56563.993, formula: df['ret.4096.001'] ~ df['dbook.std.4096'] + df['total.trade.imb.range.4096'] + df['nr.trend.index.4096'] + df['price.osci.4096'] + df['dbook.trend.index.4096']\n",
      "AIC: 56562.933, formula: df['ret.4096.001'] ~ df['dbook.std.4096'] + df['total.trade.imb.range.4096'] + df['nr.trend.index.4096'] + df['price.osci.4096'] + df['kdj.j.volume.open.ratio.4096']\n",
      "AIC: 56564.165, formula: df['ret.4096.001'] ~ df['dbook.std.4096'] + df['total.trade.imb.range.4096'] + df['nr.trend.index.4096'] + df['price.osci.4096'] + df['kdj.k.range.4096']\n",
      "AIC: 56564.65, formula: df['ret.4096.001'] ~ df['dbook.std.4096'] + df['total.trade.imb.range.4096'] + df['nr.trend.index.4096'] + df['price.osci.4096'] + df['price.osci.std.4096']\n",
      "AIC: 56563.697, formula: df['ret.4096.001'] ~ df['dbook.std.4096'] + df['total.trade.imb.range.4096'] + df['nr.trend.index.4096'] + df['price.osci.4096'] + df['price.osci.volume.open.ratio.4096']\n",
      "AIC: 56561.343, formula: df['ret.4096.001'] ~ df['dbook.std.4096'] + df['total.trade.imb.range.4096'] + df['nr.trend.index.4096'] + df['price.osci.4096'] + df['range.pos.volume.open.ratio.4096'] + df['ma.dif.10.volume.open.ratio.4096']\n",
      "AIC: 56561.389, formula: df['ret.4096.001'] ~ df['dbook.std.4096'] + df['total.trade.imb.range.4096'] + df['nr.trend.index.4096'] + df['price.osci.4096'] + df['range.pos.volume.open.ratio.4096'] + df['ma.dif.10.std.4096']\n",
      "AIC: 56562.809, formula: df['ret.4096.001'] ~ df['dbook.std.4096'] + df['total.trade.imb.range.4096'] + df['nr.trend.index.4096'] + df['price.osci.4096'] + df['range.pos.volume.open.ratio.4096'] + df['ma.dif.10.trend.index.4096']\n",
      "AIC: 56562.763, formula: df['ret.4096.001'] ~ df['dbook.std.4096'] + df['total.trade.imb.range.4096'] + df['nr.trend.index.4096'] + df['price.osci.4096'] + df['range.pos.volume.open.ratio.4096'] + df['trade.imb.trend.index.4096']\n",
      "AIC: 56561.777, formula: df['ret.4096.001'] ~ df['dbook.std.4096'] + df['total.trade.imb.range.4096'] + df['nr.trend.index.4096'] + df['price.osci.4096'] + df['range.pos.volume.open.ratio.4096'] + df['nr.std.4096']\n",
      "AIC: 56559.343, formula: df['ret.4096.001'] ~ df['dbook.std.4096'] + df['total.trade.imb.range.4096'] + df['nr.trend.index.4096'] + df['price.osci.4096'] + df['range.pos.volume.open.ratio.4096'] + df['kdj.j.range.4096']\n",
      "AIC: 56562.048, formula: df['ret.4096.001'] ~ df['dbook.std.4096'] + df['total.trade.imb.range.4096'] + df['nr.trend.index.4096'] + df['price.osci.4096'] + df['range.pos.volume.open.ratio.4096'] + df['kdj.k.4096']\n",
      "AIC: 56561.812, formula: df['ret.4096.001'] ~ df['dbook.std.4096'] + df['total.trade.imb.range.4096'] + df['nr.trend.index.4096'] + df['price.osci.4096'] + df['range.pos.volume.open.ratio.4096'] + df['price.osci.trend.index.4096']\n",
      "AIC: 56561.789, formula: df['ret.4096.001'] ~ df['dbook.std.4096'] + df['total.trade.imb.range.4096'] + df['nr.trend.index.4096'] + df['price.osci.4096'] + df['range.pos.volume.open.ratio.4096'] + df['kdj.j.trend.index.4096']\n",
      "AIC: 56560.993, formula: df['ret.4096.001'] ~ df['dbook.std.4096'] + df['total.trade.imb.range.4096'] + df['nr.trend.index.4096'] + df['price.osci.4096'] + df['range.pos.volume.open.ratio.4096'] + df['total.trade.imb.volume.open.ratio.4096']\n",
      "AIC: 56562.422, formula: df['ret.4096.001'] ~ df['dbook.std.4096'] + df['total.trade.imb.range.4096'] + df['nr.trend.index.4096'] + df['price.osci.4096'] + df['range.pos.volume.open.ratio.4096'] + df['trade.imb.volume.open.ratio.4096']\n",
      "AIC: 56562.562, formula: df['ret.4096.001'] ~ df['dbook.std.4096'] + df['total.trade.imb.range.4096'] + df['nr.trend.index.4096'] + df['price.osci.4096'] + df['range.pos.volume.open.ratio.4096'] + df['trade.imb.std.4096']\n",
      "AIC: 56561.334, formula: df['ret.4096.001'] ~ df['dbook.std.4096'] + df['total.trade.imb.range.4096'] + df['nr.trend.index.4096'] + df['price.osci.4096'] + df['range.pos.volume.open.ratio.4096'] + df['total.trade.imb.4096']\n",
      "AIC: 56562.011, formula: df['ret.4096.001'] ~ df['dbook.std.4096'] + df['total.trade.imb.range.4096'] + df['nr.trend.index.4096'] + df['price.osci.4096'] + df['range.pos.volume.open.ratio.4096'] + df['total.trade.imb.std.4096']\n",
      "AIC: 56561.587, formula: df['ret.4096.001'] ~ df['dbook.std.4096'] + df['total.trade.imb.range.4096'] + df['nr.trend.index.4096'] + df['price.osci.4096'] + df['range.pos.volume.open.ratio.4096'] + df['kdj.k.trend.index.4096']\n",
      "AIC: 56561.629, formula: df['ret.4096.001'] ~ df['dbook.std.4096'] + df['total.trade.imb.range.4096'] + df['nr.trend.index.4096'] + df['price.osci.4096'] + df['range.pos.volume.open.ratio.4096'] + df['range.pos.range.4096']\n",
      "AIC: 56561.43, formula: df['ret.4096.001'] ~ df['dbook.std.4096'] + df['total.trade.imb.range.4096'] + df['nr.trend.index.4096'] + df['price.osci.4096'] + df['range.pos.volume.open.ratio.4096'] + df['range.pos.std.4096']\n",
      "AIC: 56561.893, formula: df['ret.4096.001'] ~ df['dbook.std.4096'] + df['total.trade.imb.range.4096'] + df['nr.trend.index.4096'] + df['price.osci.4096'] + df['range.pos.volume.open.ratio.4096'] + df['nr.range.4096']\n",
      "AIC: 56562.82, formula: df['ret.4096.001'] ~ df['dbook.std.4096'] + df['total.trade.imb.range.4096'] + df['nr.trend.index.4096'] + df['price.osci.4096'] + df['range.pos.volume.open.ratio.4096'] + df['ma.dif.10.4096']\n",
      "AIC: 56562.636, formula: df['ret.4096.001'] ~ df['dbook.std.4096'] + df['total.trade.imb.range.4096'] + df['nr.trend.index.4096'] + df['price.osci.4096'] + df['range.pos.volume.open.ratio.4096'] + df['trade.imb.4096']\n",
      "AIC: 56562.805, formula: df['ret.4096.001'] ~ df['dbook.std.4096'] + df['total.trade.imb.range.4096'] + df['nr.trend.index.4096'] + df['price.osci.4096'] + df['range.pos.volume.open.ratio.4096'] + df['kdj.k.volume.open.ratio.4096']\n",
      "AIC: 56560.937, formula: df['ret.4096.001'] ~ df['dbook.std.4096'] + df['total.trade.imb.range.4096'] + df['nr.trend.index.4096'] + df['price.osci.4096'] + df['range.pos.volume.open.ratio.4096'] + df['nr.volume.open.ratio.4096']\n",
      "AIC: 56560.878, formula: df['ret.4096.001'] ~ df['dbook.std.4096'] + df['total.trade.imb.range.4096'] + df['nr.trend.index.4096'] + df['price.osci.4096'] + df['range.pos.volume.open.ratio.4096'] + df['ma.dif.10.range.4096']\n",
      "AIC: 56561.948, formula: df['ret.4096.001'] ~ df['dbook.std.4096'] + df['total.trade.imb.range.4096'] + df['nr.trend.index.4096'] + df['price.osci.4096'] + df['range.pos.volume.open.ratio.4096'] + df['dbook.volume.open.ratio.4096']\n",
      "AIC: 56562.208, formula: df['ret.4096.001'] ~ df['dbook.std.4096'] + df['total.trade.imb.range.4096'] + df['nr.trend.index.4096'] + df['price.osci.4096'] + df['range.pos.volume.open.ratio.4096'] + df['range.pos.4096']\n",
      "AIC: 56562.728, formula: df['ret.4096.001'] ~ df['dbook.std.4096'] + df['total.trade.imb.range.4096'] + df['nr.trend.index.4096'] + df['price.osci.4096'] + df['range.pos.volume.open.ratio.4096'] + df['dbook.4096']\n",
      "AIC: 56562.38, formula: df['ret.4096.001'] ~ df['dbook.std.4096'] + df['total.trade.imb.range.4096'] + df['nr.trend.index.4096'] + df['price.osci.4096'] + df['range.pos.volume.open.ratio.4096'] + df['kdj.j.4096']\n",
      "AIC: 56562.108, formula: df['ret.4096.001'] ~ df['dbook.std.4096'] + df['total.trade.imb.range.4096'] + df['nr.trend.index.4096'] + df['price.osci.4096'] + df['range.pos.volume.open.ratio.4096'] + df['kdj.k.std.4096']\n",
      "AIC: 56561.211, formula: df['ret.4096.001'] ~ df['dbook.std.4096'] + df['total.trade.imb.range.4096'] + df['nr.trend.index.4096'] + df['price.osci.4096'] + df['range.pos.volume.open.ratio.4096'] + df['total.trade.imb.trend.index.4096']\n",
      "AIC: 56559.87, formula: df['ret.4096.001'] ~ df['dbook.std.4096'] + df['total.trade.imb.range.4096'] + df['nr.trend.index.4096'] + df['price.osci.4096'] + df['range.pos.volume.open.ratio.4096'] + df['kdj.j.std.4096']\n"
     ]
    },
    {
     "name": "stdout",
     "output_type": "stream",
     "text": [
      "AIC: 56562.371, formula: df['ret.4096.001'] ~ df['dbook.std.4096'] + df['total.trade.imb.range.4096'] + df['nr.trend.index.4096'] + df['price.osci.4096'] + df['range.pos.volume.open.ratio.4096'] + df['range.pos.trend.index.4096']\n",
      "AIC: 56562.542, formula: df['ret.4096.001'] ~ df['dbook.std.4096'] + df['total.trade.imb.range.4096'] + df['nr.trend.index.4096'] + df['price.osci.4096'] + df['range.pos.volume.open.ratio.4096'] + df['dbook.range.4096']\n",
      "AIC: 56562.612, formula: df['ret.4096.001'] ~ df['dbook.std.4096'] + df['total.trade.imb.range.4096'] + df['nr.trend.index.4096'] + df['price.osci.4096'] + df['range.pos.volume.open.ratio.4096'] + df['price.osci.range.4096']\n",
      "AIC: 56562.745, formula: df['ret.4096.001'] ~ df['dbook.std.4096'] + df['total.trade.imb.range.4096'] + df['nr.trend.index.4096'] + df['price.osci.4096'] + df['range.pos.volume.open.ratio.4096'] + df['nr.4096']\n",
      "AIC: 56562.253, formula: df['ret.4096.001'] ~ df['dbook.std.4096'] + df['total.trade.imb.range.4096'] + df['nr.trend.index.4096'] + df['price.osci.4096'] + df['range.pos.volume.open.ratio.4096'] + df['trade.imb.range.4096']\n",
      "AIC: 56562.164, formula: df['ret.4096.001'] ~ df['dbook.std.4096'] + df['total.trade.imb.range.4096'] + df['nr.trend.index.4096'] + df['price.osci.4096'] + df['range.pos.volume.open.ratio.4096'] + df['dbook.trend.index.4096']\n",
      "AIC: 56562.433, formula: df['ret.4096.001'] ~ df['dbook.std.4096'] + df['total.trade.imb.range.4096'] + df['nr.trend.index.4096'] + df['price.osci.4096'] + df['range.pos.volume.open.ratio.4096'] + df['kdj.j.volume.open.ratio.4096']\n",
      "AIC: 56561.6, formula: df['ret.4096.001'] ~ df['dbook.std.4096'] + df['total.trade.imb.range.4096'] + df['nr.trend.index.4096'] + df['price.osci.4096'] + df['range.pos.volume.open.ratio.4096'] + df['kdj.k.range.4096']\n",
      "AIC: 56562.696, formula: df['ret.4096.001'] ~ df['dbook.std.4096'] + df['total.trade.imb.range.4096'] + df['nr.trend.index.4096'] + df['price.osci.4096'] + df['range.pos.volume.open.ratio.4096'] + df['price.osci.std.4096']\n",
      "AIC: 56562.492, formula: df['ret.4096.001'] ~ df['dbook.std.4096'] + df['total.trade.imb.range.4096'] + df['nr.trend.index.4096'] + df['price.osci.4096'] + df['range.pos.volume.open.ratio.4096'] + df['price.osci.volume.open.ratio.4096']\n",
      "AIC: 56560.48, formula: df['ret.4096.001'] ~ df['dbook.std.4096'] + df['total.trade.imb.range.4096'] + df['nr.trend.index.4096'] + df['price.osci.4096'] + df['range.pos.volume.open.ratio.4096'] + df['kdj.j.range.4096'] + df['ma.dif.10.volume.open.ratio.4096']\n",
      "AIC: 56561.16, formula: df['ret.4096.001'] ~ df['dbook.std.4096'] + df['total.trade.imb.range.4096'] + df['nr.trend.index.4096'] + df['price.osci.4096'] + df['range.pos.volume.open.ratio.4096'] + df['kdj.j.range.4096'] + df['ma.dif.10.std.4096']\n",
      "AIC: 56560.941, formula: df['ret.4096.001'] ~ df['dbook.std.4096'] + df['total.trade.imb.range.4096'] + df['nr.trend.index.4096'] + df['price.osci.4096'] + df['range.pos.volume.open.ratio.4096'] + df['kdj.j.range.4096'] + df['ma.dif.10.trend.index.4096']\n",
      "AIC: 56561.288, formula: df['ret.4096.001'] ~ df['dbook.std.4096'] + df['total.trade.imb.range.4096'] + df['nr.trend.index.4096'] + df['price.osci.4096'] + df['range.pos.volume.open.ratio.4096'] + df['kdj.j.range.4096'] + df['trade.imb.trend.index.4096']\n",
      "AIC: 56560.97, formula: df['ret.4096.001'] ~ df['dbook.std.4096'] + df['total.trade.imb.range.4096'] + df['nr.trend.index.4096'] + df['price.osci.4096'] + df['range.pos.volume.open.ratio.4096'] + df['kdj.j.range.4096'] + df['nr.std.4096']\n",
      "AIC: 56556.908, formula: df['ret.4096.001'] ~ df['dbook.std.4096'] + df['total.trade.imb.range.4096'] + df['nr.trend.index.4096'] + df['price.osci.4096'] + df['range.pos.volume.open.ratio.4096'] + df['kdj.j.range.4096'] + df['kdj.k.4096']\n",
      "AIC: 56559.741, formula: df['ret.4096.001'] ~ df['dbook.std.4096'] + df['total.trade.imb.range.4096'] + df['nr.trend.index.4096'] + df['price.osci.4096'] + df['range.pos.volume.open.ratio.4096'] + df['kdj.j.range.4096'] + df['price.osci.trend.index.4096']\n",
      "AIC: 56554.385, formula: df['ret.4096.001'] ~ df['dbook.std.4096'] + df['total.trade.imb.range.4096'] + df['nr.trend.index.4096'] + df['price.osci.4096'] + df['range.pos.volume.open.ratio.4096'] + df['kdj.j.range.4096'] + df['kdj.j.trend.index.4096']\n",
      "AIC: 56557.243, formula: df['ret.4096.001'] ~ df['dbook.std.4096'] + df['total.trade.imb.range.4096'] + df['nr.trend.index.4096'] + df['price.osci.4096'] + df['range.pos.volume.open.ratio.4096'] + df['kdj.j.range.4096'] + df['total.trade.imb.volume.open.ratio.4096']\n",
      "AIC: 56560.757, formula: df['ret.4096.001'] ~ df['dbook.std.4096'] + df['total.trade.imb.range.4096'] + df['nr.trend.index.4096'] + df['price.osci.4096'] + df['range.pos.volume.open.ratio.4096'] + df['kdj.j.range.4096'] + df['trade.imb.volume.open.ratio.4096']\n",
      "AIC: 56560.876, formula: df['ret.4096.001'] ~ df['dbook.std.4096'] + df['total.trade.imb.range.4096'] + df['nr.trend.index.4096'] + df['price.osci.4096'] + df['range.pos.volume.open.ratio.4096'] + df['kdj.j.range.4096'] + df['trade.imb.std.4096']\n",
      "AIC: 56560.885, formula: df['ret.4096.001'] ~ df['dbook.std.4096'] + df['total.trade.imb.range.4096'] + df['nr.trend.index.4096'] + df['price.osci.4096'] + df['range.pos.volume.open.ratio.4096'] + df['kdj.j.range.4096'] + df['total.trade.imb.4096']\n",
      "AIC: 56560.89, formula: df['ret.4096.001'] ~ df['dbook.std.4096'] + df['total.trade.imb.range.4096'] + df['nr.trend.index.4096'] + df['price.osci.4096'] + df['range.pos.volume.open.ratio.4096'] + df['kdj.j.range.4096'] + df['total.trade.imb.std.4096']\n",
      "AIC: 56555.647, formula: df['ret.4096.001'] ~ df['dbook.std.4096'] + df['total.trade.imb.range.4096'] + df['nr.trend.index.4096'] + df['price.osci.4096'] + df['range.pos.volume.open.ratio.4096'] + df['kdj.j.range.4096'] + df['kdj.k.trend.index.4096']\n",
      "AIC: 56561.206, formula: df['ret.4096.001'] ~ df['dbook.std.4096'] + df['total.trade.imb.range.4096'] + df['nr.trend.index.4096'] + df['price.osci.4096'] + df['range.pos.volume.open.ratio.4096'] + df['kdj.j.range.4096'] + df['range.pos.range.4096']\n",
      "AIC: 56561.331, formula: df['ret.4096.001'] ~ df['dbook.std.4096'] + df['total.trade.imb.range.4096'] + df['nr.trend.index.4096'] + df['price.osci.4096'] + df['range.pos.volume.open.ratio.4096'] + df['kdj.j.range.4096'] + df['range.pos.std.4096']\n",
      "AIC: 56561.153, formula: df['ret.4096.001'] ~ df['dbook.std.4096'] + df['total.trade.imb.range.4096'] + df['nr.trend.index.4096'] + df['price.osci.4096'] + df['range.pos.volume.open.ratio.4096'] + df['kdj.j.range.4096'] + df['nr.range.4096']\n",
      "AIC: 56560.061, formula: df['ret.4096.001'] ~ df['dbook.std.4096'] + df['total.trade.imb.range.4096'] + df['nr.trend.index.4096'] + df['price.osci.4096'] + df['range.pos.volume.open.ratio.4096'] + df['kdj.j.range.4096'] + df['ma.dif.10.4096']\n",
      "AIC: 56561.008, formula: df['ret.4096.001'] ~ df['dbook.std.4096'] + df['total.trade.imb.range.4096'] + df['nr.trend.index.4096'] + df['price.osci.4096'] + df['range.pos.volume.open.ratio.4096'] + df['kdj.j.range.4096'] + df['trade.imb.4096']\n",
      "AIC: 56561.079, formula: df['ret.4096.001'] ~ df['dbook.std.4096'] + df['total.trade.imb.range.4096'] + df['nr.trend.index.4096'] + df['price.osci.4096'] + df['range.pos.volume.open.ratio.4096'] + df['kdj.j.range.4096'] + df['kdj.k.volume.open.ratio.4096']\n",
      "AIC: 56558.138, formula: df['ret.4096.001'] ~ df['dbook.std.4096'] + df['total.trade.imb.range.4096'] + df['nr.trend.index.4096'] + df['price.osci.4096'] + df['range.pos.volume.open.ratio.4096'] + df['kdj.j.range.4096'] + df['nr.volume.open.ratio.4096']\n",
      "AIC: 56560.974, formula: df['ret.4096.001'] ~ df['dbook.std.4096'] + df['total.trade.imb.range.4096'] + df['nr.trend.index.4096'] + df['price.osci.4096'] + df['range.pos.volume.open.ratio.4096'] + df['kdj.j.range.4096'] + df['ma.dif.10.range.4096']\n",
      "AIC: 56560.139, formula: df['ret.4096.001'] ~ df['dbook.std.4096'] + df['total.trade.imb.range.4096'] + df['nr.trend.index.4096'] + df['price.osci.4096'] + df['range.pos.volume.open.ratio.4096'] + df['kdj.j.range.4096'] + df['dbook.volume.open.ratio.4096']\n"
     ]
    },
    {
     "name": "stdout",
     "output_type": "stream",
     "text": [
      "AIC: 56559.436, formula: df['ret.4096.001'] ~ df['dbook.std.4096'] + df['total.trade.imb.range.4096'] + df['nr.trend.index.4096'] + df['price.osci.4096'] + df['range.pos.volume.open.ratio.4096'] + df['kdj.j.range.4096'] + df['range.pos.4096']\n",
      "AIC: 56561.159, formula: df['ret.4096.001'] ~ df['dbook.std.4096'] + df['total.trade.imb.range.4096'] + df['nr.trend.index.4096'] + df['price.osci.4096'] + df['range.pos.volume.open.ratio.4096'] + df['kdj.j.range.4096'] + df['dbook.4096']\n",
      "AIC: 56555.918, formula: df['ret.4096.001'] ~ df['dbook.std.4096'] + df['total.trade.imb.range.4096'] + df['nr.trend.index.4096'] + df['price.osci.4096'] + df['range.pos.volume.open.ratio.4096'] + df['kdj.j.range.4096'] + df['kdj.j.4096']\n",
      "AIC: 56560.598, formula: df['ret.4096.001'] ~ df['dbook.std.4096'] + df['total.trade.imb.range.4096'] + df['nr.trend.index.4096'] + df['price.osci.4096'] + df['range.pos.volume.open.ratio.4096'] + df['kdj.j.range.4096'] + df['kdj.k.std.4096']\n",
      "AIC: 56560.55, formula: df['ret.4096.001'] ~ df['dbook.std.4096'] + df['total.trade.imb.range.4096'] + df['nr.trend.index.4096'] + df['price.osci.4096'] + df['range.pos.volume.open.ratio.4096'] + df['kdj.j.range.4096'] + df['total.trade.imb.trend.index.4096']\n",
      "AIC: 56561.338, formula: df['ret.4096.001'] ~ df['dbook.std.4096'] + df['total.trade.imb.range.4096'] + df['nr.trend.index.4096'] + df['price.osci.4096'] + df['range.pos.volume.open.ratio.4096'] + df['kdj.j.range.4096'] + df['kdj.j.std.4096']\n",
      "AIC: 56559.587, formula: df['ret.4096.001'] ~ df['dbook.std.4096'] + df['total.trade.imb.range.4096'] + df['nr.trend.index.4096'] + df['price.osci.4096'] + df['range.pos.volume.open.ratio.4096'] + df['kdj.j.range.4096'] + df['range.pos.trend.index.4096']\n",
      "AIC: 56561.032, formula: df['ret.4096.001'] ~ df['dbook.std.4096'] + df['total.trade.imb.range.4096'] + df['nr.trend.index.4096'] + df['price.osci.4096'] + df['range.pos.volume.open.ratio.4096'] + df['kdj.j.range.4096'] + df['dbook.range.4096']\n",
      "AIC: 56561.124, formula: df['ret.4096.001'] ~ df['dbook.std.4096'] + df['total.trade.imb.range.4096'] + df['nr.trend.index.4096'] + df['price.osci.4096'] + df['range.pos.volume.open.ratio.4096'] + df['kdj.j.range.4096'] + df['price.osci.range.4096']\n",
      "AIC: 56561.319, formula: df['ret.4096.001'] ~ df['dbook.std.4096'] + df['total.trade.imb.range.4096'] + df['nr.trend.index.4096'] + df['price.osci.4096'] + df['range.pos.volume.open.ratio.4096'] + df['kdj.j.range.4096'] + df['nr.4096']\n",
      "AIC: 56560.426, formula: df['ret.4096.001'] ~ df['dbook.std.4096'] + df['total.trade.imb.range.4096'] + df['nr.trend.index.4096'] + df['price.osci.4096'] + df['range.pos.volume.open.ratio.4096'] + df['kdj.j.range.4096'] + df['trade.imb.range.4096']\n",
      "AIC: 56560.581, formula: df['ret.4096.001'] ~ df['dbook.std.4096'] + df['total.trade.imb.range.4096'] + df['nr.trend.index.4096'] + df['price.osci.4096'] + df['range.pos.volume.open.ratio.4096'] + df['kdj.j.range.4096'] + df['dbook.trend.index.4096']\n",
      "AIC: 56561.097, formula: df['ret.4096.001'] ~ df['dbook.std.4096'] + df['total.trade.imb.range.4096'] + df['nr.trend.index.4096'] + df['price.osci.4096'] + df['range.pos.volume.open.ratio.4096'] + df['kdj.j.range.4096'] + df['kdj.j.volume.open.ratio.4096']\n",
      "AIC: 56560.918, formula: df['ret.4096.001'] ~ df['dbook.std.4096'] + df['total.trade.imb.range.4096'] + df['nr.trend.index.4096'] + df['price.osci.4096'] + df['range.pos.volume.open.ratio.4096'] + df['kdj.j.range.4096'] + df['kdj.k.range.4096']\n",
      "AIC: 56561.045, formula: df['ret.4096.001'] ~ df['dbook.std.4096'] + df['total.trade.imb.range.4096'] + df['nr.trend.index.4096'] + df['price.osci.4096'] + df['range.pos.volume.open.ratio.4096'] + df['kdj.j.range.4096'] + df['price.osci.std.4096']\n",
      "AIC: 56560.54, formula: df['ret.4096.001'] ~ df['dbook.std.4096'] + df['total.trade.imb.range.4096'] + df['nr.trend.index.4096'] + df['price.osci.4096'] + df['range.pos.volume.open.ratio.4096'] + df['kdj.j.range.4096'] + df['price.osci.volume.open.ratio.4096']\n",
      "AIC: 56556.385, formula: df['ret.4096.001'] ~ df['dbook.std.4096'] + df['total.trade.imb.range.4096'] + df['nr.trend.index.4096'] + df['price.osci.4096'] + df['range.pos.volume.open.ratio.4096'] + df['kdj.j.range.4096'] + df['kdj.j.trend.index.4096'] + df['ma.dif.10.volume.open.ratio.4096']\n",
      "AIC: 56555.818, formula: df['ret.4096.001'] ~ df['dbook.std.4096'] + df['total.trade.imb.range.4096'] + df['nr.trend.index.4096'] + df['price.osci.4096'] + df['range.pos.volume.open.ratio.4096'] + df['kdj.j.range.4096'] + df['kdj.j.trend.index.4096'] + df['ma.dif.10.std.4096']\n",
      "AIC: 56556.051, formula: df['ret.4096.001'] ~ df['dbook.std.4096'] + df['total.trade.imb.range.4096'] + df['nr.trend.index.4096'] + df['price.osci.4096'] + df['range.pos.volume.open.ratio.4096'] + df['kdj.j.range.4096'] + df['kdj.j.trend.index.4096'] + df['ma.dif.10.trend.index.4096']\n",
      "AIC: 56556.379, formula: df['ret.4096.001'] ~ df['dbook.std.4096'] + df['total.trade.imb.range.4096'] + df['nr.trend.index.4096'] + df['price.osci.4096'] + df['range.pos.volume.open.ratio.4096'] + df['kdj.j.range.4096'] + df['kdj.j.trend.index.4096'] + df['trade.imb.trend.index.4096']\n",
      "AIC: 56555.756, formula: df['ret.4096.001'] ~ df['dbook.std.4096'] + df['total.trade.imb.range.4096'] + df['nr.trend.index.4096'] + df['price.osci.4096'] + df['range.pos.volume.open.ratio.4096'] + df['kdj.j.range.4096'] + df['kdj.j.trend.index.4096'] + df['nr.std.4096']\n",
      "AIC: 56555.461, formula: df['ret.4096.001'] ~ df['dbook.std.4096'] + df['total.trade.imb.range.4096'] + df['nr.trend.index.4096'] + df['price.osci.4096'] + df['range.pos.volume.open.ratio.4096'] + df['kdj.j.range.4096'] + df['kdj.j.trend.index.4096'] + df['kdj.k.4096']\n",
      "AIC: 56556.268, formula: df['ret.4096.001'] ~ df['dbook.std.4096'] + df['total.trade.imb.range.4096'] + df['nr.trend.index.4096'] + df['price.osci.4096'] + df['range.pos.volume.open.ratio.4096'] + df['kdj.j.range.4096'] + df['kdj.j.trend.index.4096'] + df['price.osci.trend.index.4096']\n",
      "AIC: 56551.262, formula: df['ret.4096.001'] ~ df['dbook.std.4096'] + df['total.trade.imb.range.4096'] + df['nr.trend.index.4096'] + df['price.osci.4096'] + df['range.pos.volume.open.ratio.4096'] + df['kdj.j.range.4096'] + df['kdj.j.trend.index.4096'] + df['total.trade.imb.volume.open.ratio.4096']\n",
      "AIC: 56555.171, formula: df['ret.4096.001'] ~ df['dbook.std.4096'] + df['total.trade.imb.range.4096'] + df['nr.trend.index.4096'] + df['price.osci.4096'] + df['range.pos.volume.open.ratio.4096'] + df['kdj.j.range.4096'] + df['kdj.j.trend.index.4096'] + df['trade.imb.volume.open.ratio.4096']\n",
      "AIC: 56554.849, formula: df['ret.4096.001'] ~ df['dbook.std.4096'] + df['total.trade.imb.range.4096'] + df['nr.trend.index.4096'] + df['price.osci.4096'] + df['range.pos.volume.open.ratio.4096'] + df['kdj.j.range.4096'] + df['kdj.j.trend.index.4096'] + df['trade.imb.std.4096']\n",
      "AIC: 56556.382, formula: df['ret.4096.001'] ~ df['dbook.std.4096'] + df['total.trade.imb.range.4096'] + df['nr.trend.index.4096'] + df['price.osci.4096'] + df['range.pos.volume.open.ratio.4096'] + df['kdj.j.range.4096'] + df['kdj.j.trend.index.4096'] + df['total.trade.imb.4096']\n",
      "AIC: 56556.145, formula: df['ret.4096.001'] ~ df['dbook.std.4096'] + df['total.trade.imb.range.4096'] + df['nr.trend.index.4096'] + df['price.osci.4096'] + df['range.pos.volume.open.ratio.4096'] + df['kdj.j.range.4096'] + df['kdj.j.trend.index.4096'] + df['total.trade.imb.std.4096']\n",
      "AIC: 56556.054, formula: df['ret.4096.001'] ~ df['dbook.std.4096'] + df['total.trade.imb.range.4096'] + df['nr.trend.index.4096'] + df['price.osci.4096'] + df['range.pos.volume.open.ratio.4096'] + df['kdj.j.range.4096'] + df['kdj.j.trend.index.4096'] + df['kdj.k.trend.index.4096']\n",
      "AIC: 56555.567, formula: df['ret.4096.001'] ~ df['dbook.std.4096'] + df['total.trade.imb.range.4096'] + df['nr.trend.index.4096'] + df['price.osci.4096'] + df['range.pos.volume.open.ratio.4096'] + df['kdj.j.range.4096'] + df['kdj.j.trend.index.4096'] + df['range.pos.range.4096']\n"
     ]
    },
    {
     "name": "stdout",
     "output_type": "stream",
     "text": [
      "AIC: 56556.102, formula: df['ret.4096.001'] ~ df['dbook.std.4096'] + df['total.trade.imb.range.4096'] + df['nr.trend.index.4096'] + df['price.osci.4096'] + df['range.pos.volume.open.ratio.4096'] + df['kdj.j.range.4096'] + df['kdj.j.trend.index.4096'] + df['range.pos.std.4096']\n",
      "AIC: 56555.037, formula: df['ret.4096.001'] ~ df['dbook.std.4096'] + df['total.trade.imb.range.4096'] + df['nr.trend.index.4096'] + df['price.osci.4096'] + df['range.pos.volume.open.ratio.4096'] + df['kdj.j.range.4096'] + df['kdj.j.trend.index.4096'] + df['nr.range.4096']\n",
      "AIC: 56552.393, formula: df['ret.4096.001'] ~ df['dbook.std.4096'] + df['total.trade.imb.range.4096'] + df['nr.trend.index.4096'] + df['price.osci.4096'] + df['range.pos.volume.open.ratio.4096'] + df['kdj.j.range.4096'] + df['kdj.j.trend.index.4096'] + df['ma.dif.10.4096']\n",
      "AIC: 56555.325, formula: df['ret.4096.001'] ~ df['dbook.std.4096'] + df['total.trade.imb.range.4096'] + df['nr.trend.index.4096'] + df['price.osci.4096'] + df['range.pos.volume.open.ratio.4096'] + df['kdj.j.range.4096'] + df['kdj.j.trend.index.4096'] + df['trade.imb.4096']\n",
      "AIC: 56556.384, formula: df['ret.4096.001'] ~ df['dbook.std.4096'] + df['total.trade.imb.range.4096'] + df['nr.trend.index.4096'] + df['price.osci.4096'] + df['range.pos.volume.open.ratio.4096'] + df['kdj.j.range.4096'] + df['kdj.j.trend.index.4096'] + df['kdj.k.volume.open.ratio.4096']\n",
      "AIC: 56555.488, formula: df['ret.4096.001'] ~ df['dbook.std.4096'] + df['total.trade.imb.range.4096'] + df['nr.trend.index.4096'] + df['price.osci.4096'] + df['range.pos.volume.open.ratio.4096'] + df['kdj.j.range.4096'] + df['kdj.j.trend.index.4096'] + df['nr.volume.open.ratio.4096']\n",
      "AIC: 56556.062, formula: df['ret.4096.001'] ~ df['dbook.std.4096'] + df['total.trade.imb.range.4096'] + df['nr.trend.index.4096'] + df['price.osci.4096'] + df['range.pos.volume.open.ratio.4096'] + df['kdj.j.range.4096'] + df['kdj.j.trend.index.4096'] + df['ma.dif.10.range.4096']\n",
      "AIC: 56555.395, formula: df['ret.4096.001'] ~ df['dbook.std.4096'] + df['total.trade.imb.range.4096'] + df['nr.trend.index.4096'] + df['price.osci.4096'] + df['range.pos.volume.open.ratio.4096'] + df['kdj.j.range.4096'] + df['kdj.j.trend.index.4096'] + df['dbook.volume.open.ratio.4096']\n",
      "AIC: 56556.181, formula: df['ret.4096.001'] ~ df['dbook.std.4096'] + df['total.trade.imb.range.4096'] + df['nr.trend.index.4096'] + df['price.osci.4096'] + df['range.pos.volume.open.ratio.4096'] + df['kdj.j.range.4096'] + df['kdj.j.trend.index.4096'] + df['range.pos.4096']\n",
      "AIC: 56556.253, formula: df['ret.4096.001'] ~ df['dbook.std.4096'] + df['total.trade.imb.range.4096'] + df['nr.trend.index.4096'] + df['price.osci.4096'] + df['range.pos.volume.open.ratio.4096'] + df['kdj.j.range.4096'] + df['kdj.j.trend.index.4096'] + df['dbook.4096']\n",
      "AIC: 56555.602, formula: df['ret.4096.001'] ~ df['dbook.std.4096'] + df['total.trade.imb.range.4096'] + df['nr.trend.index.4096'] + df['price.osci.4096'] + df['range.pos.volume.open.ratio.4096'] + df['kdj.j.range.4096'] + df['kdj.j.trend.index.4096'] + df['kdj.j.4096']\n",
      "AIC: 56555.31, formula: df['ret.4096.001'] ~ df['dbook.std.4096'] + df['total.trade.imb.range.4096'] + df['nr.trend.index.4096'] + df['price.osci.4096'] + df['range.pos.volume.open.ratio.4096'] + df['kdj.j.range.4096'] + df['kdj.j.trend.index.4096'] + df['kdj.k.std.4096']\n",
      "AIC: 56556.161, formula: df['ret.4096.001'] ~ df['dbook.std.4096'] + df['total.trade.imb.range.4096'] + df['nr.trend.index.4096'] + df['price.osci.4096'] + df['range.pos.volume.open.ratio.4096'] + df['kdj.j.range.4096'] + df['kdj.j.trend.index.4096'] + df['total.trade.imb.trend.index.4096']\n",
      "AIC: 56556.343, formula: df['ret.4096.001'] ~ df['dbook.std.4096'] + df['total.trade.imb.range.4096'] + df['nr.trend.index.4096'] + df['price.osci.4096'] + df['range.pos.volume.open.ratio.4096'] + df['kdj.j.range.4096'] + df['kdj.j.trend.index.4096'] + df['kdj.j.std.4096']\n",
      "AIC: 56555.517, formula: df['ret.4096.001'] ~ df['dbook.std.4096'] + df['total.trade.imb.range.4096'] + df['nr.trend.index.4096'] + df['price.osci.4096'] + df['range.pos.volume.open.ratio.4096'] + df['kdj.j.range.4096'] + df['kdj.j.trend.index.4096'] + df['range.pos.trend.index.4096']\n",
      "AIC: 56555.814, formula: df['ret.4096.001'] ~ df['dbook.std.4096'] + df['total.trade.imb.range.4096'] + df['nr.trend.index.4096'] + df['price.osci.4096'] + df['range.pos.volume.open.ratio.4096'] + df['kdj.j.range.4096'] + df['kdj.j.trend.index.4096'] + df['dbook.range.4096']\n",
      "AIC: 56554.374, formula: df['ret.4096.001'] ~ df['dbook.std.4096'] + df['total.trade.imb.range.4096'] + df['nr.trend.index.4096'] + df['price.osci.4096'] + df['range.pos.volume.open.ratio.4096'] + df['kdj.j.range.4096'] + df['kdj.j.trend.index.4096'] + df['price.osci.range.4096']\n",
      "AIC: 56556.019, formula: df['ret.4096.001'] ~ df['dbook.std.4096'] + df['total.trade.imb.range.4096'] + df['nr.trend.index.4096'] + df['price.osci.4096'] + df['range.pos.volume.open.ratio.4096'] + df['kdj.j.range.4096'] + df['kdj.j.trend.index.4096'] + df['nr.4096']\n",
      "AIC: 56554.13, formula: df['ret.4096.001'] ~ df['dbook.std.4096'] + df['total.trade.imb.range.4096'] + df['nr.trend.index.4096'] + df['price.osci.4096'] + df['range.pos.volume.open.ratio.4096'] + df['kdj.j.range.4096'] + df['kdj.j.trend.index.4096'] + df['trade.imb.range.4096']\n",
      "AIC: 56555.086, formula: df['ret.4096.001'] ~ df['dbook.std.4096'] + df['total.trade.imb.range.4096'] + df['nr.trend.index.4096'] + df['price.osci.4096'] + df['range.pos.volume.open.ratio.4096'] + df['kdj.j.range.4096'] + df['kdj.j.trend.index.4096'] + df['dbook.trend.index.4096']\n",
      "AIC: 56556.276, formula: df['ret.4096.001'] ~ df['dbook.std.4096'] + df['total.trade.imb.range.4096'] + df['nr.trend.index.4096'] + df['price.osci.4096'] + df['range.pos.volume.open.ratio.4096'] + df['kdj.j.range.4096'] + df['kdj.j.trend.index.4096'] + df['kdj.j.volume.open.ratio.4096']\n",
      "AIC: 56555.895, formula: df['ret.4096.001'] ~ df['dbook.std.4096'] + df['total.trade.imb.range.4096'] + df['nr.trend.index.4096'] + df['price.osci.4096'] + df['range.pos.volume.open.ratio.4096'] + df['kdj.j.range.4096'] + df['kdj.j.trend.index.4096'] + df['kdj.k.range.4096']\n",
      "AIC: 56554.281, formula: df['ret.4096.001'] ~ df['dbook.std.4096'] + df['total.trade.imb.range.4096'] + df['nr.trend.index.4096'] + df['price.osci.4096'] + df['range.pos.volume.open.ratio.4096'] + df['kdj.j.range.4096'] + df['kdj.j.trend.index.4096'] + df['price.osci.std.4096']\n",
      "AIC: 56556.248, formula: df['ret.4096.001'] ~ df['dbook.std.4096'] + df['total.trade.imb.range.4096'] + df['nr.trend.index.4096'] + df['price.osci.4096'] + df['range.pos.volume.open.ratio.4096'] + df['kdj.j.range.4096'] + df['kdj.j.trend.index.4096'] + df['price.osci.volume.open.ratio.4096']\n",
      "AIC: 56553.182, formula: df['ret.4096.001'] ~ df['dbook.std.4096'] + df['total.trade.imb.range.4096'] + df['nr.trend.index.4096'] + df['price.osci.4096'] + df['range.pos.volume.open.ratio.4096'] + df['kdj.j.range.4096'] + df['kdj.j.trend.index.4096'] + df['total.trade.imb.volume.open.ratio.4096'] + df['ma.dif.10.volume.open.ratio.4096']\n",
      "AIC: 56553.068, formula: df['ret.4096.001'] ~ df['dbook.std.4096'] + df['total.trade.imb.range.4096'] + df['nr.trend.index.4096'] + df['price.osci.4096'] + df['range.pos.volume.open.ratio.4096'] + df['kdj.j.range.4096'] + df['kdj.j.trend.index.4096'] + df['total.trade.imb.volume.open.ratio.4096'] + df['ma.dif.10.std.4096']\n",
      "AIC: 56553.15, formula: df['ret.4096.001'] ~ df['dbook.std.4096'] + df['total.trade.imb.range.4096'] + df['nr.trend.index.4096'] + df['price.osci.4096'] + df['range.pos.volume.open.ratio.4096'] + df['kdj.j.range.4096'] + df['kdj.j.trend.index.4096'] + df['total.trade.imb.volume.open.ratio.4096'] + df['ma.dif.10.trend.index.4096']\n",
      "AIC: 56553.157, formula: df['ret.4096.001'] ~ df['dbook.std.4096'] + df['total.trade.imb.range.4096'] + df['nr.trend.index.4096'] + df['price.osci.4096'] + df['range.pos.volume.open.ratio.4096'] + df['kdj.j.range.4096'] + df['kdj.j.trend.index.4096'] + df['total.trade.imb.volume.open.ratio.4096'] + df['trade.imb.trend.index.4096']\n",
      "AIC: 56553.1, formula: df['ret.4096.001'] ~ df['dbook.std.4096'] + df['total.trade.imb.range.4096'] + df['nr.trend.index.4096'] + df['price.osci.4096'] + df['range.pos.volume.open.ratio.4096'] + df['kdj.j.range.4096'] + df['kdj.j.trend.index.4096'] + df['total.trade.imb.volume.open.ratio.4096'] + df['nr.std.4096']\n",
      "AIC: 56552.1, formula: df['ret.4096.001'] ~ df['dbook.std.4096'] + df['total.trade.imb.range.4096'] + df['nr.trend.index.4096'] + df['price.osci.4096'] + df['range.pos.volume.open.ratio.4096'] + df['kdj.j.range.4096'] + df['kdj.j.trend.index.4096'] + df['total.trade.imb.volume.open.ratio.4096'] + df['kdj.k.4096']\n"
     ]
    },
    {
     "name": "stdout",
     "output_type": "stream",
     "text": [
      "AIC: 56553.225, formula: df['ret.4096.001'] ~ df['dbook.std.4096'] + df['total.trade.imb.range.4096'] + df['nr.trend.index.4096'] + df['price.osci.4096'] + df['range.pos.volume.open.ratio.4096'] + df['kdj.j.range.4096'] + df['kdj.j.trend.index.4096'] + df['total.trade.imb.volume.open.ratio.4096'] + df['price.osci.trend.index.4096']\n",
      "AIC: 56553.26, formula: df['ret.4096.001'] ~ df['dbook.std.4096'] + df['total.trade.imb.range.4096'] + df['nr.trend.index.4096'] + df['price.osci.4096'] + df['range.pos.volume.open.ratio.4096'] + df['kdj.j.range.4096'] + df['kdj.j.trend.index.4096'] + df['total.trade.imb.volume.open.ratio.4096'] + df['trade.imb.volume.open.ratio.4096']\n",
      "AIC: 56552.453, formula: df['ret.4096.001'] ~ df['dbook.std.4096'] + df['total.trade.imb.range.4096'] + df['nr.trend.index.4096'] + df['price.osci.4096'] + df['range.pos.volume.open.ratio.4096'] + df['kdj.j.range.4096'] + df['kdj.j.trend.index.4096'] + df['total.trade.imb.volume.open.ratio.4096'] + df['trade.imb.std.4096']\n",
      "AIC: 56552.188, formula: df['ret.4096.001'] ~ df['dbook.std.4096'] + df['total.trade.imb.range.4096'] + df['nr.trend.index.4096'] + df['price.osci.4096'] + df['range.pos.volume.open.ratio.4096'] + df['kdj.j.range.4096'] + df['kdj.j.trend.index.4096'] + df['total.trade.imb.volume.open.ratio.4096'] + df['total.trade.imb.4096']\n",
      "AIC: 56553.05, formula: df['ret.4096.001'] ~ df['dbook.std.4096'] + df['total.trade.imb.range.4096'] + df['nr.trend.index.4096'] + df['price.osci.4096'] + df['range.pos.volume.open.ratio.4096'] + df['kdj.j.range.4096'] + df['kdj.j.trend.index.4096'] + df['total.trade.imb.volume.open.ratio.4096'] + df['total.trade.imb.std.4096']\n",
      "AIC: 56552.953, formula: df['ret.4096.001'] ~ df['dbook.std.4096'] + df['total.trade.imb.range.4096'] + df['nr.trend.index.4096'] + df['price.osci.4096'] + df['range.pos.volume.open.ratio.4096'] + df['kdj.j.range.4096'] + df['kdj.j.trend.index.4096'] + df['total.trade.imb.volume.open.ratio.4096'] + df['kdj.k.trend.index.4096']\n",
      "AIC: 56553.042, formula: df['ret.4096.001'] ~ df['dbook.std.4096'] + df['total.trade.imb.range.4096'] + df['nr.trend.index.4096'] + df['price.osci.4096'] + df['range.pos.volume.open.ratio.4096'] + df['kdj.j.range.4096'] + df['kdj.j.trend.index.4096'] + df['total.trade.imb.volume.open.ratio.4096'] + df['range.pos.range.4096']\n",
      "AIC: 56553.243, formula: df['ret.4096.001'] ~ df['dbook.std.4096'] + df['total.trade.imb.range.4096'] + df['nr.trend.index.4096'] + df['price.osci.4096'] + df['range.pos.volume.open.ratio.4096'] + df['kdj.j.range.4096'] + df['kdj.j.trend.index.4096'] + df['total.trade.imb.volume.open.ratio.4096'] + df['range.pos.std.4096']\n",
      "AIC: 56552.788, formula: df['ret.4096.001'] ~ df['dbook.std.4096'] + df['total.trade.imb.range.4096'] + df['nr.trend.index.4096'] + df['price.osci.4096'] + df['range.pos.volume.open.ratio.4096'] + df['kdj.j.range.4096'] + df['kdj.j.trend.index.4096'] + df['total.trade.imb.volume.open.ratio.4096'] + df['nr.range.4096']\n",
      "AIC: 56549.574, formula: df['ret.4096.001'] ~ df['dbook.std.4096'] + df['total.trade.imb.range.4096'] + df['nr.trend.index.4096'] + df['price.osci.4096'] + df['range.pos.volume.open.ratio.4096'] + df['kdj.j.range.4096'] + df['kdj.j.trend.index.4096'] + df['total.trade.imb.volume.open.ratio.4096'] + df['ma.dif.10.4096']\n",
      "AIC: 56552.943, formula: df['ret.4096.001'] ~ df['dbook.std.4096'] + df['total.trade.imb.range.4096'] + df['nr.trend.index.4096'] + df['price.osci.4096'] + df['range.pos.volume.open.ratio.4096'] + df['kdj.j.range.4096'] + df['kdj.j.trend.index.4096'] + df['total.trade.imb.volume.open.ratio.4096'] + df['trade.imb.4096']\n",
      "AIC: 56552.989, formula: df['ret.4096.001'] ~ df['dbook.std.4096'] + df['total.trade.imb.range.4096'] + df['nr.trend.index.4096'] + df['price.osci.4096'] + df['range.pos.volume.open.ratio.4096'] + df['kdj.j.range.4096'] + df['kdj.j.trend.index.4096'] + df['total.trade.imb.volume.open.ratio.4096'] + df['kdj.k.volume.open.ratio.4096']\n",
      "AIC: 56553.189, formula: df['ret.4096.001'] ~ df['dbook.std.4096'] + df['total.trade.imb.range.4096'] + df['nr.trend.index.4096'] + df['price.osci.4096'] + df['range.pos.volume.open.ratio.4096'] + df['kdj.j.range.4096'] + df['kdj.j.trend.index.4096'] + df['total.trade.imb.volume.open.ratio.4096'] + df['nr.volume.open.ratio.4096']\n",
      "AIC: 56553.218, formula: df['ret.4096.001'] ~ df['dbook.std.4096'] + df['total.trade.imb.range.4096'] + df['nr.trend.index.4096'] + df['price.osci.4096'] + df['range.pos.volume.open.ratio.4096'] + df['kdj.j.range.4096'] + df['kdj.j.trend.index.4096'] + df['total.trade.imb.volume.open.ratio.4096'] + df['ma.dif.10.range.4096']\n",
      "AIC: 56552.363, formula: df['ret.4096.001'] ~ df['dbook.std.4096'] + df['total.trade.imb.range.4096'] + df['nr.trend.index.4096'] + df['price.osci.4096'] + df['range.pos.volume.open.ratio.4096'] + df['kdj.j.range.4096'] + df['kdj.j.trend.index.4096'] + df['total.trade.imb.volume.open.ratio.4096'] + df['dbook.volume.open.ratio.4096']\n",
      "AIC: 56553.116, formula: df['ret.4096.001'] ~ df['dbook.std.4096'] + df['total.trade.imb.range.4096'] + df['nr.trend.index.4096'] + df['price.osci.4096'] + df['range.pos.volume.open.ratio.4096'] + df['kdj.j.range.4096'] + df['kdj.j.trend.index.4096'] + df['total.trade.imb.volume.open.ratio.4096'] + df['range.pos.4096']\n",
      "AIC: 56553.078, formula: df['ret.4096.001'] ~ df['dbook.std.4096'] + df['total.trade.imb.range.4096'] + df['nr.trend.index.4096'] + df['price.osci.4096'] + df['range.pos.volume.open.ratio.4096'] + df['kdj.j.range.4096'] + df['kdj.j.trend.index.4096'] + df['total.trade.imb.volume.open.ratio.4096'] + df['dbook.4096']\n",
      "AIC: 56552.034, formula: df['ret.4096.001'] ~ df['dbook.std.4096'] + df['total.trade.imb.range.4096'] + df['nr.trend.index.4096'] + df['price.osci.4096'] + df['range.pos.volume.open.ratio.4096'] + df['kdj.j.range.4096'] + df['kdj.j.trend.index.4096'] + df['total.trade.imb.volume.open.ratio.4096'] + df['kdj.j.4096']\n",
      "AIC: 56552.498, formula: df['ret.4096.001'] ~ df['dbook.std.4096'] + df['total.trade.imb.range.4096'] + df['nr.trend.index.4096'] + df['price.osci.4096'] + df['range.pos.volume.open.ratio.4096'] + df['kdj.j.range.4096'] + df['kdj.j.trend.index.4096'] + df['total.trade.imb.volume.open.ratio.4096'] + df['kdj.k.std.4096']\n",
      "AIC: 56553.183, formula: df['ret.4096.001'] ~ df['dbook.std.4096'] + df['total.trade.imb.range.4096'] + df['nr.trend.index.4096'] + df['price.osci.4096'] + df['range.pos.volume.open.ratio.4096'] + df['kdj.j.range.4096'] + df['kdj.j.trend.index.4096'] + df['total.trade.imb.volume.open.ratio.4096'] + df['total.trade.imb.trend.index.4096']\n",
      "AIC: 56553.244, formula: df['ret.4096.001'] ~ df['dbook.std.4096'] + df['total.trade.imb.range.4096'] + df['nr.trend.index.4096'] + df['price.osci.4096'] + df['range.pos.volume.open.ratio.4096'] + df['kdj.j.range.4096'] + df['kdj.j.trend.index.4096'] + df['total.trade.imb.volume.open.ratio.4096'] + df['kdj.j.std.4096']\n",
      "AIC: 56551.765, formula: df['ret.4096.001'] ~ df['dbook.std.4096'] + df['total.trade.imb.range.4096'] + df['nr.trend.index.4096'] + df['price.osci.4096'] + df['range.pos.volume.open.ratio.4096'] + df['kdj.j.range.4096'] + df['kdj.j.trend.index.4096'] + df['total.trade.imb.volume.open.ratio.4096'] + df['range.pos.trend.index.4096']\n",
      "AIC: 56552.811, formula: df['ret.4096.001'] ~ df['dbook.std.4096'] + df['total.trade.imb.range.4096'] + df['nr.trend.index.4096'] + df['price.osci.4096'] + df['range.pos.volume.open.ratio.4096'] + df['kdj.j.range.4096'] + df['kdj.j.trend.index.4096'] + df['total.trade.imb.volume.open.ratio.4096'] + df['dbook.range.4096']\n",
      "AIC: 56552.353, formula: df['ret.4096.001'] ~ df['dbook.std.4096'] + df['total.trade.imb.range.4096'] + df['nr.trend.index.4096'] + df['price.osci.4096'] + df['range.pos.volume.open.ratio.4096'] + df['kdj.j.range.4096'] + df['kdj.j.trend.index.4096'] + df['total.trade.imb.volume.open.ratio.4096'] + df['price.osci.range.4096']\n",
      "AIC: 56552.673, formula: df['ret.4096.001'] ~ df['dbook.std.4096'] + df['total.trade.imb.range.4096'] + df['nr.trend.index.4096'] + df['price.osci.4096'] + df['range.pos.volume.open.ratio.4096'] + df['kdj.j.range.4096'] + df['kdj.j.trend.index.4096'] + df['total.trade.imb.volume.open.ratio.4096'] + df['nr.4096']\n",
      "AIC: 56551.873, formula: df['ret.4096.001'] ~ df['dbook.std.4096'] + df['total.trade.imb.range.4096'] + df['nr.trend.index.4096'] + df['price.osci.4096'] + df['range.pos.volume.open.ratio.4096'] + df['kdj.j.range.4096'] + df['kdj.j.trend.index.4096'] + df['total.trade.imb.volume.open.ratio.4096'] + df['trade.imb.range.4096']\n",
      "AIC: 56551.788, formula: df['ret.4096.001'] ~ df['dbook.std.4096'] + df['total.trade.imb.range.4096'] + df['nr.trend.index.4096'] + df['price.osci.4096'] + df['range.pos.volume.open.ratio.4096'] + df['kdj.j.range.4096'] + df['kdj.j.trend.index.4096'] + df['total.trade.imb.volume.open.ratio.4096'] + df['dbook.trend.index.4096']\n",
      "AIC: 56553.236, formula: df['ret.4096.001'] ~ df['dbook.std.4096'] + df['total.trade.imb.range.4096'] + df['nr.trend.index.4096'] + df['price.osci.4096'] + df['range.pos.volume.open.ratio.4096'] + df['kdj.j.range.4096'] + df['kdj.j.trend.index.4096'] + df['total.trade.imb.volume.open.ratio.4096'] + df['kdj.j.volume.open.ratio.4096']\n",
      "AIC: 56552.958, formula: df['ret.4096.001'] ~ df['dbook.std.4096'] + df['total.trade.imb.range.4096'] + df['nr.trend.index.4096'] + df['price.osci.4096'] + df['range.pos.volume.open.ratio.4096'] + df['kdj.j.range.4096'] + df['kdj.j.trend.index.4096'] + df['total.trade.imb.volume.open.ratio.4096'] + df['kdj.k.range.4096']\n"
     ]
    },
    {
     "name": "stdout",
     "output_type": "stream",
     "text": [
      "AIC: 56552.196, formula: df['ret.4096.001'] ~ df['dbook.std.4096'] + df['total.trade.imb.range.4096'] + df['nr.trend.index.4096'] + df['price.osci.4096'] + df['range.pos.volume.open.ratio.4096'] + df['kdj.j.range.4096'] + df['kdj.j.trend.index.4096'] + df['total.trade.imb.volume.open.ratio.4096'] + df['price.osci.std.4096']\n",
      "AIC: 56553.254, formula: df['ret.4096.001'] ~ df['dbook.std.4096'] + df['total.trade.imb.range.4096'] + df['nr.trend.index.4096'] + df['price.osci.4096'] + df['range.pos.volume.open.ratio.4096'] + df['kdj.j.range.4096'] + df['kdj.j.trend.index.4096'] + df['total.trade.imb.volume.open.ratio.4096'] + df['price.osci.volume.open.ratio.4096']\n",
      "AIC: 56550.514, formula: df['ret.4096.001'] ~ df['dbook.std.4096'] + df['total.trade.imb.range.4096'] + df['nr.trend.index.4096'] + df['price.osci.4096'] + df['range.pos.volume.open.ratio.4096'] + df['kdj.j.range.4096'] + df['kdj.j.trend.index.4096'] + df['total.trade.imb.volume.open.ratio.4096'] + df['ma.dif.10.4096'] + df['ma.dif.10.volume.open.ratio.4096']\n",
      "AIC: 56551.108, formula: df['ret.4096.001'] ~ df['dbook.std.4096'] + df['total.trade.imb.range.4096'] + df['nr.trend.index.4096'] + df['price.osci.4096'] + df['range.pos.volume.open.ratio.4096'] + df['kdj.j.range.4096'] + df['kdj.j.trend.index.4096'] + df['total.trade.imb.volume.open.ratio.4096'] + df['ma.dif.10.4096'] + df['ma.dif.10.std.4096']\n",
      "AIC: 56550.093, formula: df['ret.4096.001'] ~ df['dbook.std.4096'] + df['total.trade.imb.range.4096'] + df['nr.trend.index.4096'] + df['price.osci.4096'] + df['range.pos.volume.open.ratio.4096'] + df['kdj.j.range.4096'] + df['kdj.j.trend.index.4096'] + df['total.trade.imb.volume.open.ratio.4096'] + df['ma.dif.10.4096'] + df['ma.dif.10.trend.index.4096']\n",
      "AIC: 56551.42, formula: df['ret.4096.001'] ~ df['dbook.std.4096'] + df['total.trade.imb.range.4096'] + df['nr.trend.index.4096'] + df['price.osci.4096'] + df['range.pos.volume.open.ratio.4096'] + df['kdj.j.range.4096'] + df['kdj.j.trend.index.4096'] + df['total.trade.imb.volume.open.ratio.4096'] + df['ma.dif.10.4096'] + df['trade.imb.trend.index.4096']\n",
      "AIC: 56551.534, formula: df['ret.4096.001'] ~ df['dbook.std.4096'] + df['total.trade.imb.range.4096'] + df['nr.trend.index.4096'] + df['price.osci.4096'] + df['range.pos.volume.open.ratio.4096'] + df['kdj.j.range.4096'] + df['kdj.j.trend.index.4096'] + df['total.trade.imb.volume.open.ratio.4096'] + df['ma.dif.10.4096'] + df['nr.std.4096']\n",
      "AIC: 56550.221, formula: df['ret.4096.001'] ~ df['dbook.std.4096'] + df['total.trade.imb.range.4096'] + df['nr.trend.index.4096'] + df['price.osci.4096'] + df['range.pos.volume.open.ratio.4096'] + df['kdj.j.range.4096'] + df['kdj.j.trend.index.4096'] + df['total.trade.imb.volume.open.ratio.4096'] + df['ma.dif.10.4096'] + df['kdj.k.4096']\n",
      "AIC: 56551.514, formula: df['ret.4096.001'] ~ df['dbook.std.4096'] + df['total.trade.imb.range.4096'] + df['nr.trend.index.4096'] + df['price.osci.4096'] + df['range.pos.volume.open.ratio.4096'] + df['kdj.j.range.4096'] + df['kdj.j.trend.index.4096'] + df['total.trade.imb.volume.open.ratio.4096'] + df['ma.dif.10.4096'] + df['price.osci.trend.index.4096']\n",
      "AIC: 56551.572, formula: df['ret.4096.001'] ~ df['dbook.std.4096'] + df['total.trade.imb.range.4096'] + df['nr.trend.index.4096'] + df['price.osci.4096'] + df['range.pos.volume.open.ratio.4096'] + df['kdj.j.range.4096'] + df['kdj.j.trend.index.4096'] + df['total.trade.imb.volume.open.ratio.4096'] + df['ma.dif.10.4096'] + df['trade.imb.volume.open.ratio.4096']\n",
      "AIC: 56551.067, formula: df['ret.4096.001'] ~ df['dbook.std.4096'] + df['total.trade.imb.range.4096'] + df['nr.trend.index.4096'] + df['price.osci.4096'] + df['range.pos.volume.open.ratio.4096'] + df['kdj.j.range.4096'] + df['kdj.j.trend.index.4096'] + df['total.trade.imb.volume.open.ratio.4096'] + df['ma.dif.10.4096'] + df['trade.imb.std.4096']\n",
      "AIC: 56550.144, formula: df['ret.4096.001'] ~ df['dbook.std.4096'] + df['total.trade.imb.range.4096'] + df['nr.trend.index.4096'] + df['price.osci.4096'] + df['range.pos.volume.open.ratio.4096'] + df['kdj.j.range.4096'] + df['kdj.j.trend.index.4096'] + df['total.trade.imb.volume.open.ratio.4096'] + df['ma.dif.10.4096'] + df['total.trade.imb.4096']\n",
      "AIC: 56551.254, formula: df['ret.4096.001'] ~ df['dbook.std.4096'] + df['total.trade.imb.range.4096'] + df['nr.trend.index.4096'] + df['price.osci.4096'] + df['range.pos.volume.open.ratio.4096'] + df['kdj.j.range.4096'] + df['kdj.j.trend.index.4096'] + df['total.trade.imb.volume.open.ratio.4096'] + df['ma.dif.10.4096'] + df['total.trade.imb.std.4096']\n",
      "AIC: 56551.31, formula: df['ret.4096.001'] ~ df['dbook.std.4096'] + df['total.trade.imb.range.4096'] + df['nr.trend.index.4096'] + df['price.osci.4096'] + df['range.pos.volume.open.ratio.4096'] + df['kdj.j.range.4096'] + df['kdj.j.trend.index.4096'] + df['total.trade.imb.volume.open.ratio.4096'] + df['ma.dif.10.4096'] + df['kdj.k.trend.index.4096']\n",
      "AIC: 56551.538, formula: df['ret.4096.001'] ~ df['dbook.std.4096'] + df['total.trade.imb.range.4096'] + df['nr.trend.index.4096'] + df['price.osci.4096'] + df['range.pos.volume.open.ratio.4096'] + df['kdj.j.range.4096'] + df['kdj.j.trend.index.4096'] + df['total.trade.imb.volume.open.ratio.4096'] + df['ma.dif.10.4096'] + df['range.pos.range.4096']\n",
      "AIC: 56551.545, formula: df['ret.4096.001'] ~ df['dbook.std.4096'] + df['total.trade.imb.range.4096'] + df['nr.trend.index.4096'] + df['price.osci.4096'] + df['range.pos.volume.open.ratio.4096'] + df['kdj.j.range.4096'] + df['kdj.j.trend.index.4096'] + df['total.trade.imb.volume.open.ratio.4096'] + df['ma.dif.10.4096'] + df['range.pos.std.4096']\n",
      "AIC: 56551.574, formula: df['ret.4096.001'] ~ df['dbook.std.4096'] + df['total.trade.imb.range.4096'] + df['nr.trend.index.4096'] + df['price.osci.4096'] + df['range.pos.volume.open.ratio.4096'] + df['kdj.j.range.4096'] + df['kdj.j.trend.index.4096'] + df['total.trade.imb.volume.open.ratio.4096'] + df['ma.dif.10.4096'] + df['nr.range.4096']\n",
      "AIC: 56551.28, formula: df['ret.4096.001'] ~ df['dbook.std.4096'] + df['total.trade.imb.range.4096'] + df['nr.trend.index.4096'] + df['price.osci.4096'] + df['range.pos.volume.open.ratio.4096'] + df['kdj.j.range.4096'] + df['kdj.j.trend.index.4096'] + df['total.trade.imb.volume.open.ratio.4096'] + df['ma.dif.10.4096'] + df['trade.imb.4096']\n",
      "AIC: 56551.435, formula: df['ret.4096.001'] ~ df['dbook.std.4096'] + df['total.trade.imb.range.4096'] + df['nr.trend.index.4096'] + df['price.osci.4096'] + df['range.pos.volume.open.ratio.4096'] + df['kdj.j.range.4096'] + df['kdj.j.trend.index.4096'] + df['total.trade.imb.volume.open.ratio.4096'] + df['ma.dif.10.4096'] + df['kdj.k.volume.open.ratio.4096']\n",
      "AIC: 56551.032, formula: df['ret.4096.001'] ~ df['dbook.std.4096'] + df['total.trade.imb.range.4096'] + df['nr.trend.index.4096'] + df['price.osci.4096'] + df['range.pos.volume.open.ratio.4096'] + df['kdj.j.range.4096'] + df['kdj.j.trend.index.4096'] + df['total.trade.imb.volume.open.ratio.4096'] + df['ma.dif.10.4096'] + df['nr.volume.open.ratio.4096']\n",
      "AIC: 56550.219, formula: df['ret.4096.001'] ~ df['dbook.std.4096'] + df['total.trade.imb.range.4096'] + df['nr.trend.index.4096'] + df['price.osci.4096'] + df['range.pos.volume.open.ratio.4096'] + df['kdj.j.range.4096'] + df['kdj.j.trend.index.4096'] + df['total.trade.imb.volume.open.ratio.4096'] + df['ma.dif.10.4096'] + df['ma.dif.10.range.4096']\n",
      "AIC: 56550.652, formula: df['ret.4096.001'] ~ df['dbook.std.4096'] + df['total.trade.imb.range.4096'] + df['nr.trend.index.4096'] + df['price.osci.4096'] + df['range.pos.volume.open.ratio.4096'] + df['kdj.j.range.4096'] + df['kdj.j.trend.index.4096'] + df['total.trade.imb.volume.open.ratio.4096'] + df['ma.dif.10.4096'] + df['dbook.volume.open.ratio.4096']\n",
      "AIC: 56551.4, formula: df['ret.4096.001'] ~ df['dbook.std.4096'] + df['total.trade.imb.range.4096'] + df['nr.trend.index.4096'] + df['price.osci.4096'] + df['range.pos.volume.open.ratio.4096'] + df['kdj.j.range.4096'] + df['kdj.j.trend.index.4096'] + df['total.trade.imb.volume.open.ratio.4096'] + df['ma.dif.10.4096'] + df['range.pos.4096']\n",
      "AIC: 56551.402, formula: df['ret.4096.001'] ~ df['dbook.std.4096'] + df['total.trade.imb.range.4096'] + df['nr.trend.index.4096'] + df['price.osci.4096'] + df['range.pos.volume.open.ratio.4096'] + df['kdj.j.range.4096'] + df['kdj.j.trend.index.4096'] + df['total.trade.imb.volume.open.ratio.4096'] + df['ma.dif.10.4096'] + df['dbook.4096']\n",
      "AIC: 56549.706, formula: df['ret.4096.001'] ~ df['dbook.std.4096'] + df['total.trade.imb.range.4096'] + df['nr.trend.index.4096'] + df['price.osci.4096'] + df['range.pos.volume.open.ratio.4096'] + df['kdj.j.range.4096'] + df['kdj.j.trend.index.4096'] + df['total.trade.imb.volume.open.ratio.4096'] + df['ma.dif.10.4096'] + df['kdj.j.4096']\n",
      "AIC: 56551.333, formula: df['ret.4096.001'] ~ df['dbook.std.4096'] + df['total.trade.imb.range.4096'] + df['nr.trend.index.4096'] + df['price.osci.4096'] + df['range.pos.volume.open.ratio.4096'] + df['kdj.j.range.4096'] + df['kdj.j.trend.index.4096'] + df['total.trade.imb.volume.open.ratio.4096'] + df['ma.dif.10.4096'] + df['kdj.k.std.4096']\n"
     ]
    },
    {
     "name": "stdout",
     "output_type": "stream",
     "text": [
      "AIC: 56551.197, formula: df['ret.4096.001'] ~ df['dbook.std.4096'] + df['total.trade.imb.range.4096'] + df['nr.trend.index.4096'] + df['price.osci.4096'] + df['range.pos.volume.open.ratio.4096'] + df['kdj.j.range.4096'] + df['kdj.j.trend.index.4096'] + df['total.trade.imb.volume.open.ratio.4096'] + df['ma.dif.10.4096'] + df['total.trade.imb.trend.index.4096']\n",
      "AIC: 56551.568, formula: df['ret.4096.001'] ~ df['dbook.std.4096'] + df['total.trade.imb.range.4096'] + df['nr.trend.index.4096'] + df['price.osci.4096'] + df['range.pos.volume.open.ratio.4096'] + df['kdj.j.range.4096'] + df['kdj.j.trend.index.4096'] + df['total.trade.imb.volume.open.ratio.4096'] + df['ma.dif.10.4096'] + df['kdj.j.std.4096']\n",
      "AIC: 56549.849, formula: df['ret.4096.001'] ~ df['dbook.std.4096'] + df['total.trade.imb.range.4096'] + df['nr.trend.index.4096'] + df['price.osci.4096'] + df['range.pos.volume.open.ratio.4096'] + df['kdj.j.range.4096'] + df['kdj.j.trend.index.4096'] + df['total.trade.imb.volume.open.ratio.4096'] + df['ma.dif.10.4096'] + df['range.pos.trend.index.4096']\n",
      "AIC: 56551.126, formula: df['ret.4096.001'] ~ df['dbook.std.4096'] + df['total.trade.imb.range.4096'] + df['nr.trend.index.4096'] + df['price.osci.4096'] + df['range.pos.volume.open.ratio.4096'] + df['kdj.j.range.4096'] + df['kdj.j.trend.index.4096'] + df['total.trade.imb.volume.open.ratio.4096'] + df['ma.dif.10.4096'] + df['dbook.range.4096']\n",
      "AIC: 56550.788, formula: df['ret.4096.001'] ~ df['dbook.std.4096'] + df['total.trade.imb.range.4096'] + df['nr.trend.index.4096'] + df['price.osci.4096'] + df['range.pos.volume.open.ratio.4096'] + df['kdj.j.range.4096'] + df['kdj.j.trend.index.4096'] + df['total.trade.imb.volume.open.ratio.4096'] + df['ma.dif.10.4096'] + df['price.osci.range.4096']\n",
      "AIC: 56551.347, formula: df['ret.4096.001'] ~ df['dbook.std.4096'] + df['total.trade.imb.range.4096'] + df['nr.trend.index.4096'] + df['price.osci.4096'] + df['range.pos.volume.open.ratio.4096'] + df['kdj.j.range.4096'] + df['kdj.j.trend.index.4096'] + df['total.trade.imb.volume.open.ratio.4096'] + df['ma.dif.10.4096'] + df['nr.4096']\n",
      "AIC: 56550.537, formula: df['ret.4096.001'] ~ df['dbook.std.4096'] + df['total.trade.imb.range.4096'] + df['nr.trend.index.4096'] + df['price.osci.4096'] + df['range.pos.volume.open.ratio.4096'] + df['kdj.j.range.4096'] + df['kdj.j.trend.index.4096'] + df['total.trade.imb.volume.open.ratio.4096'] + df['ma.dif.10.4096'] + df['trade.imb.range.4096']\n",
      "AIC: 56549.903, formula: df['ret.4096.001'] ~ df['dbook.std.4096'] + df['total.trade.imb.range.4096'] + df['nr.trend.index.4096'] + df['price.osci.4096'] + df['range.pos.volume.open.ratio.4096'] + df['kdj.j.range.4096'] + df['kdj.j.trend.index.4096'] + df['total.trade.imb.volume.open.ratio.4096'] + df['ma.dif.10.4096'] + df['dbook.trend.index.4096']\n",
      "AIC: 56551.511, formula: df['ret.4096.001'] ~ df['dbook.std.4096'] + df['total.trade.imb.range.4096'] + df['nr.trend.index.4096'] + df['price.osci.4096'] + df['range.pos.volume.open.ratio.4096'] + df['kdj.j.range.4096'] + df['kdj.j.trend.index.4096'] + df['total.trade.imb.volume.open.ratio.4096'] + df['ma.dif.10.4096'] + df['kdj.j.volume.open.ratio.4096']\n",
      "AIC: 56551.493, formula: df['ret.4096.001'] ~ df['dbook.std.4096'] + df['total.trade.imb.range.4096'] + df['nr.trend.index.4096'] + df['price.osci.4096'] + df['range.pos.volume.open.ratio.4096'] + df['kdj.j.range.4096'] + df['kdj.j.trend.index.4096'] + df['total.trade.imb.volume.open.ratio.4096'] + df['ma.dif.10.4096'] + df['kdj.k.range.4096']\n",
      "AIC: 56551.39, formula: df['ret.4096.001'] ~ df['dbook.std.4096'] + df['total.trade.imb.range.4096'] + df['nr.trend.index.4096'] + df['price.osci.4096'] + df['range.pos.volume.open.ratio.4096'] + df['kdj.j.range.4096'] + df['kdj.j.trend.index.4096'] + df['total.trade.imb.volume.open.ratio.4096'] + df['ma.dif.10.4096'] + df['price.osci.std.4096']\n",
      "AIC: 56550.939, formula: df['ret.4096.001'] ~ df['dbook.std.4096'] + df['total.trade.imb.range.4096'] + df['nr.trend.index.4096'] + df['price.osci.4096'] + df['range.pos.volume.open.ratio.4096'] + df['kdj.j.range.4096'] + df['kdj.j.trend.index.4096'] + df['total.trade.imb.volume.open.ratio.4096'] + df['ma.dif.10.4096'] + df['price.osci.volume.open.ratio.4096']\n",
      "The best formula: df['ret.4096.001'] ~ df['dbook.std.4096'] + df['total.trade.imb.range.4096'] + df['nr.trend.index.4096'] + df['price.osci.4096'] + df['range.pos.volume.open.ratio.4096'] + df['kdj.j.range.4096'] + df['kdj.j.trend.index.4096'] + df['total.trade.imb.volume.open.ratio.4096'] + df['ma.dif.10.4096']\n"
     ]
    }
   ],
   "source": [
    "fwd_model = step_aic(smf.ols, train_mat.columns[:-3], [\"ret.\"+str(period)+\".001\"], data=train_mat)\n",
    "# The best formula: df['ret.4096.001'] ~ df['dbook.std.4096'] + df['total.trade.imb.range.4096'] + df['nr.trend.index.4096'] + df['price.osci.4096'] + df['range.pos.volume.open.ratio.4096'] + df['kdj.j.range.4096'] + df['kdj.j.trend.index.4096'] + df['total.trade.imb.volume.open.ratio.4096'] + df['ma.dif.10.4096']"
   ]
  },
  {
   "cell_type": "code",
   "execution_count": 75,
   "metadata": {},
   "outputs": [
    {
     "data": {
      "text/plain": [
       "\"train_mat['ret.4096.001'] ~ +train_mat['dbook.std.4096']+train_mat['total.trade.imb.range.4096']+train_mat['nr.trend.index.4096']+train_mat['price.osci.4096']+train_mat['range.pos.volume.open.ratio.4096']+train_mat['kdj.j.range.4096']+train_mat['kdj.j.trend.index.4096']+train_mat['total.trade.imb.volume.open.ratio.4096']+train_mat['ma.dif.10.4096']+0\""
      ]
     },
     "execution_count": 75,
     "metadata": {},
     "output_type": "execute_result"
    }
   ],
   "source": [
    "y_signal = \"ret.\"+str(period)+\".001\"\n",
    "formula = \"train_mat['\" + y_signal+\"'] ~ \"\n",
    "for signal in fwd_model[\"chosen.signals\"]:\n",
    "    formula = formula+\"+train_mat['\"+signal+\"']\"\n",
    "formula+=\"+0\"\n",
    "formula\n",
    "## \"train_mat['ret.4096.001'] ~ +train_mat['dbook.std.4096']+train_mat['total.trade.imb.range.4096']+train_mat['nr.trend.index.4096']+train_mat['price.osci.4096']+train_mat['range.pos.volume.open.ratio.4096']+train_mat['kdj.j.range.4096']+train_mat['kdj.j.trend.index.4096']+train_mat['total.trade.imb.volume.open.ratio.4096']+train_mat['ma.dif.10.4096']+0\"\n",
    "\n"
   ]
  },
  {
   "cell_type": "code",
   "execution_count": 76,
   "metadata": {},
   "outputs": [
    {
     "name": "stdout",
     "output_type": "stream",
     "text": [
      "                                OLS Regression Results                               \n",
      "=====================================================================================\n",
      "Dep. Variable:     train_mat['ret.4096.001']   R-squared:                       0.003\n",
      "Model:                                   OLS   Adj. R-squared:                  0.002\n",
      "Method:                        Least Squares   F-statistic:                     6.422\n",
      "Date:                       Sat, 19 Oct 2019   Prob (F-statistic):           3.67e-09\n",
      "Time:                               08:58:51   Log-Likelihood:                -28287.\n",
      "No. Observations:                      19935   AIC:                         5.659e+04\n",
      "Df Residuals:                          19926   BIC:                         5.666e+04\n",
      "Df Model:                                  9                                         \n",
      "Covariance Type:                   nonrobust                                         \n",
      "=======================================================================================================================\n",
      "                                                          coef    std err          t      P>|t|      [0.025      0.975]\n",
      "-----------------------------------------------------------------------------------------------------------------------\n",
      "train_mat['dbook.std.4096']                            -0.0337      0.007     -4.637      0.000      -0.048      -0.019\n",
      "train_mat['total.trade.imb.range.4096']                -0.0590      0.017     -3.572      0.000      -0.091      -0.027\n",
      "train_mat['nr.trend.index.4096']                        0.0486      0.014      3.547      0.000       0.022       0.076\n",
      "train_mat['price.osci.4096']                            0.0466      0.013      3.576      0.000       0.021       0.072\n",
      "train_mat['range.pos.volume.open.ratio.4096']          -0.0188      0.014     -1.375      0.169      -0.046       0.008\n",
      "train_mat['kdj.j.range.4096']                           0.0757      0.019      3.913      0.000       0.038       0.114\n",
      "train_mat['kdj.j.trend.index.4096']                    -0.0582      0.018     -3.277      0.001      -0.093      -0.023\n",
      "train_mat['total.trade.imb.volume.open.ratio.4096']     0.0246      0.014      1.818      0.069      -0.002       0.051\n",
      "train_mat['ma.dif.10.4096']                            -0.0569      0.022     -2.531      0.011      -0.101      -0.013\n",
      "==============================================================================\n",
      "Omnibus:                       12.183   Durbin-Watson:                   2.015\n",
      "Prob(Omnibus):                  0.002   Jarque-Bera (JB):               11.745\n",
      "Skew:                          -0.041   Prob(JB):                      0.00282\n",
      "Kurtosis:                       2.914   Cond. No.                         10.3\n",
      "==============================================================================\n",
      "\n",
      "Warnings:\n",
      "[1] Standard Errors assume that the covariance matrix of the errors is correctly specified.\n"
     ]
    }
   ],
   "source": [
    "formula\n",
    "fit_001_lm  = smf.ols(formula=formula, data=train_mat[train_mat.columns]).fit()\n",
    "print(fit_001_lm.summary())\n",
    "#   OLS Regression Results                               \n",
    "# =====================================================================================\n",
    "# Dep. Variable:     train_mat['ret.4096.001']   R-squared:                       0.003\n",
    "# Model:                                   OLS   Adj. R-squared:                  0.002\n",
    "# Method:                        Least Squares   F-statistic:                     6.422\n",
    "# Date:                       Sat, 19 Oct 2019   Prob (F-statistic):           3.67e-09\n",
    "# Time:                               08:58:51   Log-Likelihood:                -28287.\n",
    "# No. Observations:                      19935   AIC:                         5.659e+04\n",
    "# Df Residuals:                          19926   BIC:                         5.666e+04\n",
    "# Df Model:                                  9                                         \n",
    "# Covariance Type:                   nonrobust                                         "
   ]
  },
  {
   "cell_type": "code",
   "execution_count": 89,
   "metadata": {},
   "outputs": [
    {
     "data": {
      "text/plain": [
       "array([-0.03368195, -0.0589743 ,  0.04862577,  0.04658016, -0.01877884,\n",
       "        0.0756933 , -0.05820322,  0.02459242, -0.05687115])"
      ]
     },
     "execution_count": 89,
     "metadata": {},
     "output_type": "execute_result"
    }
   ],
   "source": [
    "strat = \"full.001.\"+str(period)\n",
    "for product in product_list:\n",
    "    os.makedirs(HEAD_PATH+\"/tmp pkl/\"+product+\"/\"+strat, exist_ok=True)\n",
    "fit_coef = fit_001_lm.params.values\n",
    "fit_coef\n",
    "\n",
    "# array([-0.03368195, -0.0589743 ,  0.04862577,  0.04658016, -0.01877884,\n",
    "#         0.0756933 , -0.05820322,  0.02459242, -0.05687115])\n"
   ]
  },
  {
   "cell_type": "code",
   "execution_count": 81,
   "metadata": {},
   "outputs": [
    {
     "name": "stdout",
     "output_type": "stream",
     "text": [
      "rb\n",
      "dbook.std.4096                           -0.000401\n",
      "total.trade.imb.range.4096               -0.000099\n",
      "nr.trend.index.4096                       0.009105\n",
      "price.osci.4096                           0.000345\n",
      "range.pos.volume.open.ratio.4096         -0.002136\n",
      "kdj.j.range.4096                          0.000023\n",
      "kdj.j.trend.index.4096                   -0.000958\n",
      "total.trade.imb.volume.open.ratio.4096    0.005638\n",
      "ma.dif.10.4096                           -0.050346\n",
      "dtype: float64\n",
      "hc\n",
      "dbook.std.4096                           -0.000549\n",
      "total.trade.imb.range.4096               -0.000105\n",
      "nr.trend.index.4096                       0.017307\n",
      "price.osci.4096                           0.000386\n",
      "range.pos.volume.open.ratio.4096         -0.002733\n",
      "kdj.j.range.4096                          0.000020\n",
      "kdj.j.trend.index.4096                   -0.001031\n",
      "total.trade.imb.volume.open.ratio.4096    0.008544\n",
      "ma.dif.10.4096                           -0.049719\n",
      "dtype: float64\n",
      "i\n",
      "dbook.std.4096                           -0.001301\n",
      "total.trade.imb.range.4096               -0.000337\n",
      "nr.trend.index.4096                       0.006341\n",
      "price.osci.4096                           0.000389\n",
      "range.pos.volume.open.ratio.4096         -0.002428\n",
      "kdj.j.range.4096                          0.000109\n",
      "kdj.j.trend.index.4096                   -0.001041\n",
      "total.trade.imb.volume.open.ratio.4096    0.004341\n",
      "ma.dif.10.4096                           -0.042008\n",
      "dtype: float64\n",
      "j\n",
      "dbook.std.4096                           -0.000903\n",
      "total.trade.imb.range.4096               -0.000134\n",
      "nr.trend.index.4096                       0.014978\n",
      "price.osci.4096                           0.000485\n",
      "range.pos.volume.open.ratio.4096         -0.001837\n",
      "kdj.j.range.4096                          0.000029\n",
      "kdj.j.trend.index.4096                   -0.001122\n",
      "total.trade.imb.volume.open.ratio.4096    0.003921\n",
      "ma.dif.10.4096                           -0.038266\n",
      "dtype: float64\n",
      "jm\n",
      "dbook.std.4096                           -0.001023\n",
      "total.trade.imb.range.4096               -0.000197\n",
      "nr.trend.index.4096                       0.017652\n",
      "price.osci.4096                           0.000469\n",
      "range.pos.volume.open.ratio.4096         -0.002341\n",
      "kdj.j.range.4096                          0.000041\n",
      "kdj.j.trend.index.4096                   -0.001192\n",
      "total.trade.imb.volume.open.ratio.4096    0.006090\n",
      "ma.dif.10.4096                           -0.037760\n",
      "dtype: float64\n",
      "Wall time: 16min 31s\n"
     ]
    }
   ],
   "source": [
    "%%time\n",
    "for product in product_list:\n",
    "    print(product)\n",
    "    coef = fit_coef*train_std_mat[product][y_signal]/train_std_mat[product][fwd_model[\"chosen.signals\"]]\n",
    "    print(coef)\n",
    "    parLapply(CORE_NUM, all_dates, get_daily_pred, \n",
    "              product=product, signal_list=fwd_model[\"chosen.signals\"], \n",
    "              coef=coef, strat=strat, HEAD_PATH=HEAD_PATH)\n",
    ";"
   ]
  },
  {
   "cell_type": "markdown",
   "metadata": {},
   "source": [
    "- the result is worse than original ret.4096\n",
    "- we can use machine learning models next week\n"
   ]
  },
  {
   "cell_type": "code",
   "execution_count": 91,
   "metadata": {},
   "outputs": [
    {
     "name": "stdout",
     "output_type": "stream",
     "text": [
      "Wall time: 13min 29s\n"
     ]
    }
   ],
   "source": [
    "%%time\n",
    "for product in product_list:\n",
    "    par_get_all_signal(\"full.001.4096\", all_dates, product, 4096, HEAD_PATH=\"d:/intern\")\n",
    "\n",
    "    #Wall time: 13min 29s\n",
    "    "
   ]
  },
  {
   "cell_type": "code",
   "execution_count": 92,
   "metadata": {},
   "outputs": [
    {
     "name": "stdout",
     "output_type": "stream",
     "text": [
      "reverse=1\n",
      "reverse=1\n",
      "reverse=1\n",
      "reverse=1\n",
      "reverse=1\n",
      "Wall time: 5min 27s\n"
     ]
    }
   ],
   "source": [
    "%%time\n",
    "for product in product_list:\n",
    "    spread = product_info[product][\"spread\"]\n",
    "    evaluate_signal(\"full.001\", all_dates, product, 2, 20, HEAD_PATH, \n",
    "                    CORE_NUM, period=4096, split_str=\"2018\", tranct=1.1e-4, \n",
    "                    max_spread=spread+0.1, tranct_ratio=True, atr_filter=20, save_path=\"signal result atr\",reverse=1)"
   ]
  },
  {
   "cell_type": "code",
   "execution_count": 93,
   "metadata": {},
   "outputs": [
    {
     "name": "stdout",
     "output_type": "stream",
     "text": [
      "rb train sharpe  1.017475576137463 test sharpe  1.6100953453328524\n",
      "hc train sharpe  1.2433338411758275 test sharpe  -0.4032651648018492\n",
      "i train sharpe  0.915081175819667 test sharpe  -1.0149353790612277\n",
      "j train sharpe  1.3573239962540007 test sharpe  -0.8259860794344086\n",
      "jm train sharpe  1.739195981270973 test sharpe  0.7493122360282498\n"
     ]
    }
   ],
   "source": [
    "for product in product_list:\n",
    "    spread = product_info[product][\"spread\"]\n",
    "    signal_stat = load(HEAD_PATH+\"/signal result atr/\"+product+\".\"+\"full.001.4096\"+\".trend.pkl\")\n",
    "    train_stat = signal_stat[\"train.stat\"]\n",
    "    good_strat = (train_stat[\"final.result\"][\"avg.pnl\"]>2*spread)\n",
    "    train_pnl = train_stat[\"daily.pnl\"].loc[:, good_strat].sum(axis=1)/sum(good_strat)\n",
    "    train_std = np.std(train_pnl)\n",
    "    train_pnl = train_pnl/train_std\n",
    "    test_stat = signal_stat[\"test.stat\"]\n",
    "    test_pnl = test_stat[\"daily.pnl\"].loc[:, good_strat].sum(axis=1)/sum(good_strat)/train_std\n",
    "    print(product, \"train sharpe \", sharpe(train_pnl), \"test sharpe \", sharpe(test_pnl))\n",
    "    \n",
    "# rb train sharpe  1.017475576137463 test sharpe  1.6100953453328524\n",
    "# hc train sharpe  1.2433338411758275 test sharpe  -0.4032651648018492\n",
    "# i train sharpe  0.915081175819667 test sharpe  -1.0149353790612277\n",
    "# j train sharpe  1.3573239962540007 test sharpe  -0.8259860794344086\n",
    "# jm train sharpe  1.739195981270973 test sharpe  0.7493122360282498\n"
   ]
  },
  {
   "cell_type": "markdown",
   "metadata": {},
   "source": [
    "- The result is not good\n",
    "- Now we use another method of training\n",
    "- we train each product with separate models\n"
   ]
  },
  {
   "cell_type": "code",
   "execution_count": 100,
   "metadata": {},
   "outputs": [],
   "source": [
    "coef_list = dict([])\n",
    "each_signal = dict([])\n",
    "for product in product_list:\n",
    "    train_mat = load(HEAD_PATH+\"/train test mat/\"+product+\".train.mat.pkl\")\n",
    "    result = forward_selected(train_mat[train_mat.columns[:-2]], \"ret.\"+str(period))\n",
    "    y_signal = \"ret.\"+str(period)\n",
    "    formula = \"train_mat['\" + y_signal+\"'] ~ \"\n",
    "    for signal in result[\"chosen.signals\"]:\n",
    "        formula = formula+\"+train_mat['\"+signal+\"']\"\n",
    "    formula+=\"+0\"\n",
    "    fit_lm = smf.ols(formula=formula, data=train_mat[train_mat.columns[:-2]]).fit()\n",
    "    coef = fit_lm.params.values\n",
    "    coef_list[product] = coef\n",
    "    each_signal[product] = result[\"chosen.signals\"]\n",
    "    "
   ]
  },
  {
   "cell_type": "code",
   "execution_count": 102,
   "metadata": {},
   "outputs": [],
   "source": [
    "save([coef_list, each_signal], HEAD_PATH+\"/each_coef.pkl\")"
   ]
  },
  {
   "cell_type": "code",
   "execution_count": 103,
   "metadata": {},
   "outputs": [],
   "source": [
    "coef_list, each_signal = load(HEAD_PATH+\"/each_coef.pkl\")"
   ]
  },
  {
   "cell_type": "code",
   "execution_count": 106,
   "metadata": {
    "scrolled": true
   },
   "outputs": [
    {
     "name": "stdout",
     "output_type": "stream",
     "text": [
      "rb\n",
      "[-0.04189265 -0.00023823  0.01557628  0.00032503 -0.00369872 -0.00052041\n",
      "  0.00332553 -0.0006396   0.01513095 -0.01651963 -0.00908518  0.00188487\n",
      " -0.00632014]\n",
      "hc\n",
      "[-1.07071206e-03 -5.41266685e-04  3.36030244e-02  4.16505527e-03\n",
      " -1.94302767e-01 -1.12158480e-01  3.71749858e-04  2.29386220e-05\n",
      " -5.09180593e-03  2.16478425e-03 -1.06445837e-02  5.16623555e-05\n",
      "  1.46008474e-04]\n",
      "i\n",
      "[ 0.00129458 -0.00485002  0.00025542 -0.00093215 -0.0123956   0.01621118\n",
      "  0.00087139 -0.00138559  0.00231009 -0.06277983  0.04507433 -0.01069637\n",
      "  0.00617137 -0.00291525 -0.00327551  0.01155992 -0.01234768 -0.00121393]\n",
      "j\n",
      "[-9.26921148e-04  5.36569394e-03 -7.10013785e-02  1.33968658e-02\n",
      " -5.12745801e-01  1.08675399e-03  4.32063095e-01 -1.14795966e-02\n",
      " -1.53545484e-03  2.03961811e-02  1.71417202e-02  2.81236888e-03\n",
      "  2.32349699e-02 -4.77178293e-02  9.18935935e-05 -5.54838826e-03\n",
      " -1.04223124e-04 -1.02293927e-02  1.10216467e-01  5.98512003e-03\n",
      " -5.93652061e-03  1.04721072e-02 -2.47424393e-02]\n",
      "jm\n",
      "[-0.00161445 -0.00118054 -0.0022209  -0.01300597  0.00414088 -0.13391608\n",
      "  0.00619453 -0.09992567  0.00587471  0.02333029  0.04462597 -0.00538646\n",
      "  0.01589305 -0.43813684  0.12161881]\n",
      "Wall time: 36min 53s\n"
     ]
    }
   ],
   "source": [
    "%%time\n",
    "strat = \"each.4096\"\n",
    "\n",
    "for product in product_list:\n",
    "    os.makedirs(HEAD_PATH+\"/tmp pkl/\"+product+\"/\"+strat, exist_ok=True)\n",
    "    print(product)\n",
    "    coef = coef_list[product]\n",
    "    print(coef)\n",
    "    parLapply(CORE_NUM, all_dates, get_daily_pred, \n",
    "              product=product, signal_list=each_signal[product], \n",
    "              coef=coef, strat=strat, HEAD_PATH=HEAD_PATH)\n",
    ";"
   ]
  },
  {
   "cell_type": "code",
   "execution_count": 107,
   "metadata": {},
   "outputs": [
    {
     "name": "stdout",
     "output_type": "stream",
     "text": [
      "Wall time: 13min 30s\n"
     ]
    }
   ],
   "source": [
    "%%time\n",
    "for product in product_list:\n",
    "    par_get_all_signal(\"each.4096\", all_dates, product, 4096, HEAD_PATH=\"d:/intern\")\n",
    "# Wall time: 13min 30s"
   ]
  },
  {
   "cell_type": "code",
   "execution_count": 108,
   "metadata": {},
   "outputs": [
    {
     "name": "stdout",
     "output_type": "stream",
     "text": [
      "reverse=1\n",
      "reverse=1\n",
      "reverse=1\n",
      "reverse=1\n",
      "reverse=1\n",
      "Wall time: 5min 48s\n"
     ]
    }
   ],
   "source": [
    "%%time\n",
    "for product in product_list:\n",
    "    spread = product_info[product][\"spread\"]\n",
    "    evaluate_signal(\"each\", all_dates, product, 2, 20, HEAD_PATH, \n",
    "                    CORE_NUM, period=4096, split_str=\"2018\", tranct=1.1e-4, \n",
    "                    max_spread=spread+0.1, tranct_ratio=True, atr_filter=20, save_path=\"signal result atr\",reverse=1)\n",
    "    \n",
    "# reverse=1\n",
    "# reverse=1\n",
    "# reverse=1\n",
    "# reverse=1\n",
    "# reverse=1\n",
    "# Wall time: 5min 48s"
   ]
  },
  {
   "cell_type": "code",
   "execution_count": 109,
   "metadata": {
    "scrolled": true
   },
   "outputs": [
    {
     "name": "stdout",
     "output_type": "stream",
     "text": [
      "rb train sharpe  1.858929590684082 test sharpe  0.23852192988933427\n",
      "hc train sharpe  1.8110229117652579 test sharpe  -2.1991974717530893\n",
      "i train sharpe  0.8847944937955079 test sharpe  0.4210888090815449\n",
      "j train sharpe  2.0609271460859544 test sharpe  -0.02825014288638053\n",
      "jm train sharpe  1.0494801385780888 test sharpe  -0.769018975815532\n"
     ]
    }
   ],
   "source": [
    "for product in product_list:\n",
    "    spread = product_info[product][\"spread\"]\n",
    "    signal_stat = load(HEAD_PATH+\"/signal result atr/\"+product+\".\"+\"each.4096\"+\".trend.pkl\")\n",
    "    train_stat = signal_stat[\"train.stat\"]\n",
    "    good_strat = (train_stat[\"final.result\"][\"avg.pnl\"]>2*spread)\n",
    "    train_pnl = train_stat[\"daily.pnl\"].loc[:, good_strat].sum(axis=1)/sum(good_strat)\n",
    "    train_std = np.std(train_pnl)\n",
    "    train_pnl = train_pnl/train_std\n",
    "    test_stat = signal_stat[\"test.stat\"]\n",
    "    test_pnl = test_stat[\"daily.pnl\"].loc[:, good_strat].sum(axis=1)/sum(good_strat)/train_std\n",
    "    print(product, \"train sharpe \", sharpe(train_pnl), \"test sharpe \", sharpe(test_pnl))\n",
    "\n",
    "    \n",
    "# rb train sharpe  1.858929590684082 test sharpe  0.23852192988933427\n",
    "# hc train sharpe  1.8110229117652579 test sharpe  -2.1991974717530893\n",
    "# i train sharpe  0.8847944937955079 test sharpe  0.4210888090815449\n",
    "# j train sharpe  2.0609271460859544 test sharpe  -0.02825014288638053\n",
    "# jm train sharpe  1.0494801385780888 test sharpe  -0.769018975815532   "
   ]
  },
  {
   "cell_type": "markdown",
   "metadata": {},
   "source": [
    "- We can find that i has good result but hc, j, jm do not\n",
    "- it's opposite to our previous results\n",
    "\n",
    "Conclusion\n",
    "\n",
    "- we can use a general model for rb, hc, and jm, with ret.001\n",
    "- we can use a specific model for i, because it's a little bit different from others\n",
    "- we can also fit j using ret as y\n"
   ]
  },
  {
   "cell_type": "code",
   "execution_count": null,
   "metadata": {},
   "outputs": [],
   "source": []
  }
 ],
 "metadata": {
  "kernelspec": {
   "display_name": "Python 3",
   "language": "python",
   "name": "python3"
  },
  "language_info": {
   "codemirror_mode": {
    "name": "ipython",
    "version": 3
   },
   "file_extension": ".py",
   "mimetype": "text/x-python",
   "name": "python",
   "nbconvert_exporter": "python",
   "pygments_lexer": "ipython3",
   "version": "3.7.0"
  }
 },
 "nbformat": 4,
 "nbformat_minor": 2
}
